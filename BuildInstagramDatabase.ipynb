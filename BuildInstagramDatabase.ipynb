{
 "cells": [
  {
   "cell_type": "code",
   "execution_count": 1,
   "metadata": {
    "collapsed": false
   },
   "outputs": [
    {
     "name": "stderr",
     "output_type": "stream",
     "text": [
      "Vendor:  Continuum Analytics, Inc.\n",
      "Package: mkl\n",
      "Message: trial mode expires in 30 days\n",
      "Vendor:  Continuum Analytics, Inc.\n",
      "Package: mkl\n",
      "Message: trial mode expires in 30 days\n"
     ]
    }
   ],
   "source": [
    "import json\n",
    "import ast\n",
    "import pandas as pd\n",
    "import requests\n",
    "import time\n",
    "import traceback\n",
    "from sqlalchemy import *\n",
    "from sqlalchemy.orm import sessionmaker\n",
    "from sqlalchemy.ext.declarative import declarative_base\n",
    "import matplotlib\n",
    "import numpy as np\n",
    "import matplotlib.pyplot as plt\n",
    "\n",
    "import datetime\n",
    "import instaconfig\n",
    "\n",
    "instagram, database, search_tags = instaconfig.config()\n",
    "\n",
    "              \n",
    "\n",
    "# Setup Tables and ORM\n",
    "\n",
    "engine = create_engine('mysql://%(user)s:%(pass)s@%(host)s' % database) # connect to server\n",
    "engine.execute('drop database %s' % database['name'])\n",
    "engine.execute('create database %s' % database['name'])\n",
    "\n",
    "# Select Database\n",
    "\n",
    "engine.execute('use %s' % database['name']) # select db\n",
    "\n",
    "# Build ORM\n",
    "Base = declarative_base()\n",
    "class post(Base):\n",
    "    __tablename__ = 'posts'\n",
    "    searched_tag = Column(String)\n",
    "    created_time = Column(Integer)\n",
    "    post_id = Column(String, primary_key=True)\n",
    "    image_url = Column(String)\n",
    "    lat = Column(Float)\n",
    "    likes = Column(Integer)\n",
    "    longitude = Column(Float)\n",
    "    post_url = Column(String)\n",
    "    text = Column(String)\n",
    "    user_id = Column(Integer)\n",
    "    date_time = Column(Integer)\n",
    "    date_year = Column(Integer)\n",
    "    date_month = Column(Integer)\n",
    "    date_day = Column(Integer)\n",
    "    day_of_week = Column(Integer)\n",
    "    media_type = Column(String)\n",
    "    low_res_url = Column(String)\n",
    "    thumbnail_url = Column(String)\n",
    "    stand_res_url = Column(String)\n",
    "    live_music = Column(Boolean)\n",
    "    genre = Column(String)\n",
    "\n",
    "    def __repr__(self):\n",
    "        return \"<posts(id='%s', image_url='%s', likes='%s')>\" % (self.post_id, self.image_url, self.likes)\n",
    "\n",
    "class tag(Base):\n",
    "    __tablename__ = 'tags'\n",
    "    id = Column(Integer, primary_key = True)\n",
    "    post_id = Column(String)\n",
    "    tag = Column(String, ForeignKey('posts.post_id'))\n",
    "\n",
    "    def __repr__(self):\n",
    "        return \"<posts(post_id='%s', tag='%s')>\" % (self.post_id, self.tag)\n",
    "\n",
    "class comment(Base):\n",
    "    __tablename__ = 'comments'\n",
    "    id = Column(Integer, primary_key = True)\n",
    "    post_id = Column(String)\n",
    "    text = Column(String, ForeignKey('posts.post_id'))\n",
    "\n",
    "    def __repr__(self):\n",
    "        return \"<posts(post_id='%s', comment='%s')>\" % (self.post_id, self.text)\n",
    "\n",
    "\n",
    "# Build Tables\n",
    "metadata = MetaData()\n",
    "\n",
    "posts = Table('posts', metadata,\n",
    "              Column('searched_tag',VARCHAR(255)),\n",
    "              Column('created_time', BIGINT),\n",
    "              Column('post_id', VARCHAR(255), primary_key = True, nullable = False),\n",
    "              Column('image_url', VARCHAR(255)),\n",
    "              Column('lat', FLOAT(53)),\n",
    "              Column('likes', INT),\n",
    "              Column('longitude', FLOAT(53)),\n",
    "              Column('post_url', VARCHAR(255)),\n",
    "              Column('text', VARCHAR(5000)),\n",
    "              Column('user_id', BIGINT),\n",
    "              Column('date_time', BIGINT),\n",
    "              Column('date_year', INT),\n",
    "              Column('date_month', INT),\n",
    "              Column('date_week', INT),\n",
    "              Column('date_day', INT),\n",
    "              Column('day_of_week', INT),\n",
    "              Column('media_type', VARCHAR(255)),\n",
    "              Column('low_res_url', VARCHAR(255)),\n",
    "              Column('thumbnail_url', VARCHAR(255)),\n",
    "              Column('stand_res_url', VARCHAR(255)),\n",
    "              Column('live_music', BOOLEAN),\n",
    "              Column('genre', VARCHAR(255))\n",
    "             )\n",
    "\n",
    "tags = Table('tags', metadata,\n",
    "             Column('id', BIGINT, primary_key = True, nullable = False),\n",
    "             Column('post_id', VARCHAR(255), ForeignKey(\"posts.post_id\"), nullable=False),\n",
    "             Column('tag', VARCHAR(255))\n",
    "            )\n",
    "\n",
    "comments = Table('comments', metadata,\n",
    "             Column('id',BIGINT, primary_key = True, nullable = False),\n",
    "             Column('post_id', VARCHAR(255), ForeignKey(\"posts.post_id\"), nullable=False),\n",
    "             Column('text', VARCHAR(5000))\n",
    "            )\n",
    "\n",
    "Index(\"location_index\", posts.c.lat, posts.c.longitude)\n",
    "Index(\"date_time_index\", posts.c.date_time)\n",
    "Index(\"date_year_index\", posts.c.date_year)\n",
    "Index(\"date_month_index\", posts.c.date_month)\n",
    "Index(\"date_week_index\", posts.c.date_week)\n",
    "Index(\"date_day_index\", posts.c.date_day)\n",
    "Index(\"date_day_of_week_index\", posts.c.day_of_week)\n",
    "Index(\"searched_tag_index\", posts.c.searched_tag)\n",
    "\n",
    "metadata.create_all(engine)\n",
    "\n",
    "# Open session, commit, close\n",
    "Session = sessionmaker(bind=engine)\n",
    "session = Session()\n",
    "\n",
    "#for tag_name in search_tags:\n",
    "#    search_instagram_tag(tag_name)\n",
    "\n",
    "# Visited ID Set\n",
    "visited_ids = set()"
   ]
  },
  {
   "cell_type": "code",
   "execution_count": 2,
   "metadata": {
    "collapsed": false
   },
   "outputs": [],
   "source": [
    "def search_instagram_tag(tag_name):\n",
    "    #engine.execute('use %s_master' % database['name'])\n",
    "    \n",
    "    # Query Instagram API   MODIFY THIS IF YOU WANT TO CONNECT TO DIFFERENT ENDPOINT\n",
    "    query_url = 'https://api.instagram.com/v1/tags/%s/media/recent?access_token=%s' % (tag_name,instagram['access_token'])\n",
    "    resp = requests.get(query_url)\n",
    "\n",
    "    #Set pull time period from current time back to now - scrape_time_length\n",
    "    scrape_time_length = datetime.timedelta(hours = 1095)\n",
    "    date_time = datetime.datetime.now()\n",
    "    end_time = date_time - scrape_time_length\n",
    "    start = time.time()\n",
    "\n",
    "    while date_time > end_time:\n",
    "        # throttle requests to 3600/hour\n",
    "        end = time.time()\n",
    "        time.sleep(1)\n",
    "\n",
    "        for insta_post in resp.json()['data']:\n",
    "\n",
    "            try:\n",
    "                if not insta_post['id'].encode('ascii','replace') in visited_ids:\n",
    "                    visited_ids.add(insta_post['id'].encode('ascii','replace'))\n",
    "\n",
    "                    if insta_post['location'] != None:\n",
    "                        if insta_post['location']['latitude'] != None and insta_post['location']['longitude'] != None:\n",
    "                            date_time = datetime.datetime.fromtimestamp(\n",
    "                                int(insta_post['caption']['created_time'])\n",
    "                            )\n",
    "\n",
    "                            post_attr = {\n",
    "                                'searched_tag' : tag_name,\n",
    "                                'created_time' : int(insta_post['caption']['created_time']),\n",
    "                                'post_id' : insta_post['id'].encode('ascii','replace'),\n",
    "                                'image_url' : None,\n",
    "                                'lat' : insta_post['location']['latitude'],\n",
    "                                'likes' : insta_post['likes']['count'],\n",
    "                                'longitude' : insta_post['location']['longitude'],\n",
    "                                'post_url' : insta_post['link'].encode('ascii','replace'),\n",
    "                                'text' : insta_post['caption']['text'].encode('ascii','replace'),\n",
    "                                'user_id' : insta_post['caption']['id'].encode('ascii','replace'),\n",
    "                                'date_time' : insta_post['caption']['created_time'].encode('ascii','replace'),\n",
    "                                'date_year' : date_time.year,\n",
    "                                'date_month' : date_time.month,\n",
    "                                'date_day' : date_time.day,\n",
    "                                'day_of_week' : date_time.weekday(),\n",
    "                                'media_type' : insta_post['type'].encode('ascii','replace'),\n",
    "                                'low_res_url' : insta_post['images']['low_resolution']['url'].encode('ascii','replace'),\n",
    "                                'thumbnail_url' : insta_post['images']['thumbnail']['url'].encode('ascii','replace'),\n",
    "                                'stand_res_url' : insta_post['images']['standard_resolution']['url'].encode('ascii','replace')\n",
    "                            }\n",
    "\n",
    "                            post_to_push = post(**post_attr)\n",
    "                            session.add(post_to_push)\n",
    "                            session.commit()\n",
    "\n",
    "                            for insta_tag in insta_post['tags']:\n",
    "                                #print tag.encode('ascii','replace')\n",
    "                                tag_attr = {\n",
    "                                    'post_id' : insta_post['id'].encode('ascii','replace'),\n",
    "                                    'tag': insta_tag.encode('ascii','replace'),\n",
    "                                }\n",
    "\n",
    "                                tag_to_push = tag(**tag_attr)\n",
    "                                session.add(tag_to_push)\n",
    "                                #print tag\n",
    "\n",
    "                            for insta_comment in insta_post['comments']['data']:\n",
    "                                comment_attr = {\n",
    "                                    'post_id' : insta_post['id'].encode('ascii','replace'),\n",
    "                                    'text' : insta_comment['text'].encode('ascii','replace')\n",
    "                                }\n",
    "                                comment_to_push = comment(**comment_attr)\n",
    "                                session.add(comment_to_push)\n",
    "                                #print comment['text'].encode('ascii','replace')\n",
    "            except Exception, e:\n",
    "                print 'caught error in body, continuing: %s' % e\n",
    "                traceback.print_exc()\n",
    "\n",
    "        session.commit()\n",
    "        query_url = resp.json()['pagination']['next_url']\n",
    "        resp = requests.get(query_url)\n",
    "\n",
    "    #session.close()"
   ]
  },
  {
   "cell_type": "code",
   "execution_count": 3,
   "metadata": {
    "collapsed": false
   },
   "outputs": [
    {
     "name": "stdout",
     "output_type": "stream",
     "text": [
      "Searching: busk\n",
      "caught error in body, continuing: 'latitude'\n",
      "caught error in body, continuing: 'latitude'\n",
      "Searching: busker\n",
      "caught error in body, continuing: 'latitude'"
     ]
    },
    {
     "name": "stderr",
     "output_type": "stream",
     "text": [
      "Traceback (most recent call last):\n",
      "  File \"<ipython-input-2-872ebd74c558>\", line 26, in search_instagram_tag\n",
      "    if insta_post['location']['latitude'] != None and insta_post['location']['longitude'] != None:\n",
      "KeyError: 'latitude'\n",
      "Traceback (most recent call last):\n",
      "  File \"<ipython-input-2-872ebd74c558>\", line 26, in search_instagram_tag\n",
      "    if insta_post['location']['latitude'] != None and insta_post['location']['longitude'] != None:\n",
      "KeyError: 'latitude'\n",
      "Traceback (most recent call last):\n"
     ]
    },
    {
     "name": "stdout",
     "output_type": "stream",
     "text": [
      "\n",
      "caught error in body, continuing: 'latitude'"
     ]
    },
    {
     "name": "stderr",
     "output_type": "stream",
     "text": [
      "  File \"<ipython-input-2-872ebd74c558>\", line 26, in search_instagram_tag\n",
      "    if insta_post['location']['latitude'] != None and insta_post['location']['longitude'] != None:\n",
      "KeyError: 'latitude'\n",
      "Traceback (most recent call last):\n"
     ]
    },
    {
     "name": "stdout",
     "output_type": "stream",
     "text": [
      "\n",
      "caught error in body, continuing: 'latitude'"
     ]
    },
    {
     "name": "stderr",
     "output_type": "stream",
     "text": [
      "  File \"<ipython-input-2-872ebd74c558>\", line 26, in search_instagram_tag\n",
      "    if insta_post['location']['latitude'] != None and insta_post['location']['longitude'] != None:\n",
      "KeyError: 'latitude'\n",
      "Traceback (most recent call last):\n"
     ]
    },
    {
     "name": "stdout",
     "output_type": "stream",
     "text": [
      "\n",
      "caught error in body, continuing: 'latitude'\n",
      "caught error in body, continuing: 'NoneType' object has no attribute '__getitem__'"
     ]
    },
    {
     "name": "stderr",
     "output_type": "stream",
     "text": [
      "  File \"<ipython-input-2-872ebd74c558>\", line 26, in search_instagram_tag\n",
      "    if insta_post['location']['latitude'] != None and insta_post['location']['longitude'] != None:\n",
      "KeyError: 'latitude'\n",
      "Traceback (most recent call last):\n",
      "  File \"<ipython-input-2-872ebd74c558>\", line 26, in search_instagram_tag\n",
      "    if insta_post['location']['latitude'] != None and insta_post['location']['longitude'] != None:\n",
      "KeyError: 'latitude'\n",
      "Traceback (most recent call last):\n"
     ]
    },
    {
     "name": "stdout",
     "output_type": "stream",
     "text": [
      "\n",
      "caught error in body, continuing: 'latitude'"
     ]
    },
    {
     "name": "stderr",
     "output_type": "stream",
     "text": [
      "  File \"<ipython-input-2-872ebd74c558>\", line 28, in search_instagram_tag\n",
      "    int(insta_post['caption']['created_time'])\n",
      "TypeError: 'NoneType' object has no attribute '__getitem__'\n",
      "Traceback (most recent call last):\n"
     ]
    },
    {
     "name": "stdout",
     "output_type": "stream",
     "text": [
      "\n",
      "caught error in body, continuing: 'latitude'"
     ]
    },
    {
     "name": "stderr",
     "output_type": "stream",
     "text": [
      "  File \"<ipython-input-2-872ebd74c558>\", line 26, in search_instagram_tag\n",
      "    if insta_post['location']['latitude'] != None and insta_post['location']['longitude'] != None:\n",
      "KeyError: 'latitude'\n",
      "Traceback (most recent call last):\n"
     ]
    },
    {
     "name": "stdout",
     "output_type": "stream",
     "text": [
      "\n",
      "caught error in body, continuing: 'latitude'"
     ]
    },
    {
     "name": "stderr",
     "output_type": "stream",
     "text": [
      "  File \"<ipython-input-2-872ebd74c558>\", line 26, in search_instagram_tag\n",
      "    if insta_post['location']['latitude'] != None and insta_post['location']['longitude'] != None:\n",
      "KeyError: 'latitude'\n",
      "Traceback (most recent call last):\n"
     ]
    },
    {
     "name": "stdout",
     "output_type": "stream",
     "text": [
      "\n",
      "caught error in body, continuing: 'latitude'"
     ]
    },
    {
     "name": "stderr",
     "output_type": "stream",
     "text": [
      "  File \"<ipython-input-2-872ebd74c558>\", line 26, in search_instagram_tag\n",
      "    if insta_post['location']['latitude'] != None and insta_post['location']['longitude'] != None:\n",
      "KeyError: 'latitude'\n",
      "Traceback (most recent call last):\n"
     ]
    },
    {
     "name": "stdout",
     "output_type": "stream",
     "text": [
      "\n",
      "caught error in body, continuing: 'latitude'"
     ]
    },
    {
     "name": "stderr",
     "output_type": "stream",
     "text": [
      "  File \"<ipython-input-2-872ebd74c558>\", line 26, in search_instagram_tag\n",
      "    if insta_post['location']['latitude'] != None and insta_post['location']['longitude'] != None:\n",
      "KeyError: 'latitude'\n",
      "Traceback (most recent call last):\n"
     ]
    },
    {
     "name": "stdout",
     "output_type": "stream",
     "text": [
      "\n",
      "caught error in body, continuing: 'latitude'"
     ]
    },
    {
     "name": "stderr",
     "output_type": "stream",
     "text": [
      "  File \"<ipython-input-2-872ebd74c558>\", line 26, in search_instagram_tag\n",
      "    if insta_post['location']['latitude'] != None and insta_post['location']['longitude'] != None:\n",
      "KeyError: 'latitude'\n",
      "Traceback (most recent call last):\n"
     ]
    },
    {
     "name": "stdout",
     "output_type": "stream",
     "text": [
      "\n",
      "caught error in body, continuing: 'latitude'"
     ]
    },
    {
     "name": "stderr",
     "output_type": "stream",
     "text": [
      "  File \"<ipython-input-2-872ebd74c558>\", line 26, in search_instagram_tag\n",
      "    if insta_post['location']['latitude'] != None and insta_post['location']['longitude'] != None:\n",
      "KeyError: 'latitude'\n",
      "Traceback (most recent call last):\n"
     ]
    },
    {
     "name": "stdout",
     "output_type": "stream",
     "text": [
      "\n",
      "caught error in body, continuing: 'latitude'\n",
      "caught error in body, continuing: 'latitude'"
     ]
    },
    {
     "name": "stderr",
     "output_type": "stream",
     "text": [
      "  File \"<ipython-input-2-872ebd74c558>\", line 26, in search_instagram_tag\n",
      "    if insta_post['location']['latitude'] != None and insta_post['location']['longitude'] != None:\n",
      "KeyError: 'latitude'\n",
      "Traceback (most recent call last):\n",
      "  File \"<ipython-input-2-872ebd74c558>\", line 26, in search_instagram_tag\n",
      "    if insta_post['location']['latitude'] != None and insta_post['location']['longitude'] != None:\n",
      "KeyError: 'latitude'\n",
      "Traceback (most recent call last):\n"
     ]
    },
    {
     "name": "stdout",
     "output_type": "stream",
     "text": [
      "\n",
      "caught error in body, continuing: 'latitude'"
     ]
    },
    {
     "name": "stderr",
     "output_type": "stream",
     "text": [
      "  File \"<ipython-input-2-872ebd74c558>\", line 26, in search_instagram_tag\n",
      "    if insta_post['location']['latitude'] != None and insta_post['location']['longitude'] != None:\n",
      "KeyError: 'latitude'\n",
      "Traceback (most recent call last):\n"
     ]
    },
    {
     "name": "stdout",
     "output_type": "stream",
     "text": [
      "\n",
      "caught error in body, continuing: 'latitude'"
     ]
    },
    {
     "name": "stderr",
     "output_type": "stream",
     "text": [
      "  File \"<ipython-input-2-872ebd74c558>\", line 26, in search_instagram_tag\n",
      "    if insta_post['location']['latitude'] != None and insta_post['location']['longitude'] != None:\n",
      "KeyError: 'latitude'\n",
      "Traceback (most recent call last):\n"
     ]
    },
    {
     "name": "stdout",
     "output_type": "stream",
     "text": [
      "\n",
      "caught error in body, continuing: 'latitude'"
     ]
    },
    {
     "name": "stderr",
     "output_type": "stream",
     "text": [
      "  File \"<ipython-input-2-872ebd74c558>\", line 26, in search_instagram_tag\n",
      "    if insta_post['location']['latitude'] != None and insta_post['location']['longitude'] != None:\n",
      "KeyError: 'latitude'\n",
      "Traceback (most recent call last):\n"
     ]
    },
    {
     "name": "stdout",
     "output_type": "stream",
     "text": [
      "\n",
      "caught error in body, continuing: 'latitude'\n",
      "caught error in body, continuing: 'latitude'\n",
      "caught error in body, continuing: 'latitude'"
     ]
    },
    {
     "name": "stderr",
     "output_type": "stream",
     "text": [
      "  File \"<ipython-input-2-872ebd74c558>\", line 26, in search_instagram_tag\n",
      "    if insta_post['location']['latitude'] != None and insta_post['location']['longitude'] != None:\n",
      "KeyError: 'latitude'\n",
      "Traceback (most recent call last):\n",
      "  File \"<ipython-input-2-872ebd74c558>\", line 26, in search_instagram_tag\n",
      "    if insta_post['location']['latitude'] != None and insta_post['location']['longitude'] != None:\n",
      "KeyError: 'latitude'\n",
      "Traceback (most recent call last):\n",
      "  File \"<ipython-input-2-872ebd74c558>\", line 26, in search_instagram_tag\n",
      "    if insta_post['location']['latitude'] != None and insta_post['location']['longitude'] != None:\n",
      "KeyError: 'latitude'\n",
      "Traceback (most recent call last):\n"
     ]
    },
    {
     "name": "stdout",
     "output_type": "stream",
     "text": [
      "\n",
      "caught error in body, continuing: 'latitude'"
     ]
    },
    {
     "name": "stderr",
     "output_type": "stream",
     "text": [
      "  File \"<ipython-input-2-872ebd74c558>\", line 26, in search_instagram_tag\n",
      "    if insta_post['location']['latitude'] != None and insta_post['location']['longitude'] != None:\n",
      "KeyError: 'latitude'\n",
      "Traceback (most recent call last):\n"
     ]
    },
    {
     "name": "stdout",
     "output_type": "stream",
     "text": [
      "\n",
      "caught error in body, continuing: 'latitude'\n",
      "caught error in body, continuing: 'latitude'"
     ]
    },
    {
     "name": "stderr",
     "output_type": "stream",
     "text": [
      "  File \"<ipython-input-2-872ebd74c558>\", line 26, in search_instagram_tag\n",
      "    if insta_post['location']['latitude'] != None and insta_post['location']['longitude'] != None:\n",
      "KeyError: 'latitude'\n",
      "Traceback (most recent call last):\n",
      "  File \"<ipython-input-2-872ebd74c558>\", line 26, in search_instagram_tag\n",
      "    if insta_post['location']['latitude'] != None and insta_post['location']['longitude'] != None:\n",
      "KeyError: 'latitude'\n",
      "Traceback (most recent call last):\n"
     ]
    },
    {
     "name": "stdout",
     "output_type": "stream",
     "text": [
      "\n",
      "caught error in body, continuing: 'latitude'"
     ]
    },
    {
     "name": "stderr",
     "output_type": "stream",
     "text": [
      "  File \"<ipython-input-2-872ebd74c558>\", line 26, in search_instagram_tag\n",
      "    if insta_post['location']['latitude'] != None and insta_post['location']['longitude'] != None:\n",
      "KeyError: 'latitude'\n",
      "Traceback (most recent call last):\n"
     ]
    },
    {
     "name": "stdout",
     "output_type": "stream",
     "text": [
      "\n",
      "Searching: buskers\n",
      "caught error in body, continuing: 'latitude'"
     ]
    },
    {
     "name": "stderr",
     "output_type": "stream",
     "text": [
      "  File \"<ipython-input-2-872ebd74c558>\", line 26, in search_instagram_tag\n",
      "    if insta_post['location']['latitude'] != None and insta_post['location']['longitude'] != None:\n",
      "KeyError: 'latitude'\n",
      "Traceback (most recent call last):\n"
     ]
    },
    {
     "name": "stdout",
     "output_type": "stream",
     "text": [
      "\n",
      "caught error in body, continuing: 'latitude'\n",
      "caught error in body, continuing: 'latitude'"
     ]
    },
    {
     "name": "stderr",
     "output_type": "stream",
     "text": [
      "  File \"<ipython-input-2-872ebd74c558>\", line 26, in search_instagram_tag\n",
      "    if insta_post['location']['latitude'] != None and insta_post['location']['longitude'] != None:\n",
      "KeyError: 'latitude'\n",
      "Traceback (most recent call last):\n",
      "  File \"<ipython-input-2-872ebd74c558>\", line 26, in search_instagram_tag\n",
      "    if insta_post['location']['latitude'] != None and insta_post['location']['longitude'] != None:\n",
      "KeyError: 'latitude'\n",
      "Traceback (most recent call last):\n"
     ]
    },
    {
     "name": "stdout",
     "output_type": "stream",
     "text": [
      "\n",
      "caught error in body, continuing: 'NoneType' object has no attribute '__getitem__'"
     ]
    },
    {
     "name": "stderr",
     "output_type": "stream",
     "text": [
      "  File \"<ipython-input-2-872ebd74c558>\", line 26, in search_instagram_tag\n",
      "    if insta_post['location']['latitude'] != None and insta_post['location']['longitude'] != None:\n",
      "KeyError: 'latitude'\n",
      "Traceback (most recent call last):\n"
     ]
    },
    {
     "name": "stdout",
     "output_type": "stream",
     "text": [
      "\n",
      "caught error in body, continuing: 'latitude'"
     ]
    },
    {
     "name": "stderr",
     "output_type": "stream",
     "text": [
      "  File \"<ipython-input-2-872ebd74c558>\", line 28, in search_instagram_tag\n",
      "    int(insta_post['caption']['created_time'])\n",
      "TypeError: 'NoneType' object has no attribute '__getitem__'\n",
      "Traceback (most recent call last):\n"
     ]
    },
    {
     "name": "stdout",
     "output_type": "stream",
     "text": [
      "\n",
      "caught error in body, continuing: 'latitude'"
     ]
    },
    {
     "name": "stderr",
     "output_type": "stream",
     "text": [
      "  File \"<ipython-input-2-872ebd74c558>\", line 26, in search_instagram_tag\n",
      "    if insta_post['location']['latitude'] != None and insta_post['location']['longitude'] != None:\n",
      "KeyError: 'latitude'\n",
      "Traceback (most recent call last):\n"
     ]
    },
    {
     "name": "stdout",
     "output_type": "stream",
     "text": [
      "\n",
      "caught error in body, continuing: 'latitude'\n",
      "caught error in body, continuing: 'latitude'"
     ]
    },
    {
     "name": "stderr",
     "output_type": "stream",
     "text": [
      "  File \"<ipython-input-2-872ebd74c558>\", line 26, in search_instagram_tag\n",
      "    if insta_post['location']['latitude'] != None and insta_post['location']['longitude'] != None:\n",
      "KeyError: 'latitude'\n",
      "Traceback (most recent call last):\n",
      "  File \"<ipython-input-2-872ebd74c558>\", line 26, in search_instagram_tag\n",
      "    if insta_post['location']['latitude'] != None and insta_post['location']['longitude'] != None:\n",
      "KeyError: 'latitude'\n",
      "Traceback (most recent call last):\n"
     ]
    },
    {
     "name": "stdout",
     "output_type": "stream",
     "text": [
      "\n",
      "caught error in body, continuing: 'latitude'"
     ]
    },
    {
     "name": "stderr",
     "output_type": "stream",
     "text": [
      "  File \"<ipython-input-2-872ebd74c558>\", line 26, in search_instagram_tag\n",
      "    if insta_post['location']['latitude'] != None and insta_post['location']['longitude'] != None:\n",
      "KeyError: 'latitude'\n",
      "Traceback (most recent call last):\n"
     ]
    },
    {
     "name": "stdout",
     "output_type": "stream",
     "text": [
      "\n",
      "caught error in body, continuing: 'latitude'\n",
      "caught error in body, continuing: 'latitude'"
     ]
    },
    {
     "name": "stderr",
     "output_type": "stream",
     "text": [
      "  File \"<ipython-input-2-872ebd74c558>\", line 26, in search_instagram_tag\n",
      "    if insta_post['location']['latitude'] != None and insta_post['location']['longitude'] != None:\n",
      "KeyError: 'latitude'\n",
      "Traceback (most recent call last):\n",
      "  File \"<ipython-input-2-872ebd74c558>\", line 26, in search_instagram_tag\n",
      "    if insta_post['location']['latitude'] != None and insta_post['location']['longitude'] != None:\n",
      "KeyError: 'latitude'\n",
      "Traceback (most recent call last):\n"
     ]
    },
    {
     "name": "stdout",
     "output_type": "stream",
     "text": [
      "\n",
      "caught error in body, continuing: 'latitude'"
     ]
    },
    {
     "name": "stderr",
     "output_type": "stream",
     "text": [
      "  File \"<ipython-input-2-872ebd74c558>\", line 26, in search_instagram_tag\n",
      "    if insta_post['location']['latitude'] != None and insta_post['location']['longitude'] != None:\n",
      "KeyError: 'latitude'\n",
      "Traceback (most recent call last):\n"
     ]
    },
    {
     "name": "stdout",
     "output_type": "stream",
     "text": [
      "\n",
      "caught error in body, continuing: 'latitude'"
     ]
    },
    {
     "name": "stderr",
     "output_type": "stream",
     "text": [
      "  File \"<ipython-input-2-872ebd74c558>\", line 26, in search_instagram_tag\n",
      "    if insta_post['location']['latitude'] != None and insta_post['location']['longitude'] != None:\n",
      "KeyError: 'latitude'\n",
      "Traceback (most recent call last):\n"
     ]
    },
    {
     "name": "stdout",
     "output_type": "stream",
     "text": [
      "\n",
      "caught error in body, continuing: 'NoneType' object has no attribute '__getitem__'"
     ]
    },
    {
     "name": "stderr",
     "output_type": "stream",
     "text": [
      "  File \"<ipython-input-2-872ebd74c558>\", line 26, in search_instagram_tag\n",
      "    if insta_post['location']['latitude'] != None and insta_post['location']['longitude'] != None:\n",
      "KeyError: 'latitude'\n",
      "Traceback (most recent call last):\n"
     ]
    },
    {
     "name": "stdout",
     "output_type": "stream",
     "text": [
      "\n",
      "caught error in body, continuing: 'NoneType' object has no attribute '__getitem__'"
     ]
    },
    {
     "name": "stderr",
     "output_type": "stream",
     "text": [
      "  File \"<ipython-input-2-872ebd74c558>\", line 28, in search_instagram_tag\n",
      "    int(insta_post['caption']['created_time'])\n",
      "TypeError: 'NoneType' object has no attribute '__getitem__'\n",
      "Traceback (most recent call last):\n"
     ]
    },
    {
     "name": "stdout",
     "output_type": "stream",
     "text": [
      "\n",
      "caught error in body, continuing: 'latitude'"
     ]
    },
    {
     "name": "stderr",
     "output_type": "stream",
     "text": [
      "  File \"<ipython-input-2-872ebd74c558>\", line 28, in search_instagram_tag\n",
      "    int(insta_post['caption']['created_time'])\n",
      "TypeError: 'NoneType' object has no attribute '__getitem__'\n",
      "Traceback (most recent call last):\n"
     ]
    },
    {
     "name": "stdout",
     "output_type": "stream",
     "text": [
      "\n",
      "caught error in body, continuing: 'latitude'\n",
      "caught error in body, continuing: 'NoneType' object has no attribute '__getitem__'\n",
      "caught error in body, continuing: 'latitude'"
     ]
    },
    {
     "name": "stderr",
     "output_type": "stream",
     "text": [
      "  File \"<ipython-input-2-872ebd74c558>\", line 26, in search_instagram_tag\n",
      "    if insta_post['location']['latitude'] != None and insta_post['location']['longitude'] != None:\n",
      "KeyError: 'latitude'\n",
      "Traceback (most recent call last):\n",
      "  File \"<ipython-input-2-872ebd74c558>\", line 26, in search_instagram_tag\n",
      "    if insta_post['location']['latitude'] != None and insta_post['location']['longitude'] != None:\n",
      "KeyError: 'latitude'\n",
      "Traceback (most recent call last):\n",
      "  File \"<ipython-input-2-872ebd74c558>\", line 28, in search_instagram_tag\n",
      "    int(insta_post['caption']['created_time'])\n",
      "TypeError: 'NoneType' object has no attribute '__getitem__'\n",
      "Traceback (most recent call last):\n"
     ]
    },
    {
     "name": "stdout",
     "output_type": "stream",
     "text": [
      "\n",
      "caught error in body, continuing: 'latitude'"
     ]
    },
    {
     "name": "stderr",
     "output_type": "stream",
     "text": [
      "  File \"<ipython-input-2-872ebd74c558>\", line 26, in search_instagram_tag\n",
      "    if insta_post['location']['latitude'] != None and insta_post['location']['longitude'] != None:\n",
      "KeyError: 'latitude'\n",
      "Traceback (most recent call last):\n"
     ]
    },
    {
     "name": "stdout",
     "output_type": "stream",
     "text": [
      "\n",
      "caught error in body, continuing: 'latitude'"
     ]
    },
    {
     "name": "stderr",
     "output_type": "stream",
     "text": [
      "  File \"<ipython-input-2-872ebd74c558>\", line 26, in search_instagram_tag\n",
      "    if insta_post['location']['latitude'] != None and insta_post['location']['longitude'] != None:\n",
      "KeyError: 'latitude'\n",
      "Traceback (most recent call last):\n"
     ]
    },
    {
     "name": "stdout",
     "output_type": "stream",
     "text": [
      "\n",
      "caught error in body, continuing: 'latitude'\n",
      "caught error in body, continuing: 'latitude'"
     ]
    },
    {
     "name": "stderr",
     "output_type": "stream",
     "text": [
      "  File \"<ipython-input-2-872ebd74c558>\", line 26, in search_instagram_tag\n",
      "    if insta_post['location']['latitude'] != None and insta_post['location']['longitude'] != None:\n",
      "KeyError: 'latitude'\n",
      "Traceback (most recent call last):\n",
      "  File \"<ipython-input-2-872ebd74c558>\", line 26, in search_instagram_tag\n",
      "    if insta_post['location']['latitude'] != None and insta_post['location']['longitude'] != None:\n",
      "KeyError: 'latitude'\n",
      "Traceback (most recent call last):\n"
     ]
    },
    {
     "name": "stdout",
     "output_type": "stream",
     "text": [
      "\n",
      "caught error in body, continuing: 'latitude'"
     ]
    },
    {
     "name": "stderr",
     "output_type": "stream",
     "text": [
      "  File \"<ipython-input-2-872ebd74c558>\", line 26, in search_instagram_tag\n",
      "    if insta_post['location']['latitude'] != None and insta_post['location']['longitude'] != None:\n",
      "KeyError: 'latitude'\n",
      "Traceback (most recent call last):\n"
     ]
    },
    {
     "name": "stdout",
     "output_type": "stream",
     "text": [
      "\n",
      "caught error in body, continuing: 'latitude'"
     ]
    },
    {
     "name": "stderr",
     "output_type": "stream",
     "text": [
      "  File \"<ipython-input-2-872ebd74c558>\", line 26, in search_instagram_tag\n",
      "    if insta_post['location']['latitude'] != None and insta_post['location']['longitude'] != None:\n",
      "KeyError: 'latitude'\n",
      "Traceback (most recent call last):\n"
     ]
    },
    {
     "name": "stdout",
     "output_type": "stream",
     "text": [
      "\n",
      "caught error in body, continuing: 'latitude'"
     ]
    },
    {
     "name": "stderr",
     "output_type": "stream",
     "text": [
      "  File \"<ipython-input-2-872ebd74c558>\", line 26, in search_instagram_tag\n",
      "    if insta_post['location']['latitude'] != None and insta_post['location']['longitude'] != None:\n",
      "KeyError: 'latitude'\n",
      "Traceback (most recent call last):\n"
     ]
    },
    {
     "name": "stdout",
     "output_type": "stream",
     "text": [
      "\n",
      "caught error in body, continuing: 'latitude'"
     ]
    },
    {
     "name": "stderr",
     "output_type": "stream",
     "text": [
      "  File \"<ipython-input-2-872ebd74c558>\", line 26, in search_instagram_tag\n",
      "    if insta_post['location']['latitude'] != None and insta_post['location']['longitude'] != None:\n",
      "KeyError: 'latitude'\n",
      "Traceback (most recent call last):\n"
     ]
    },
    {
     "name": "stdout",
     "output_type": "stream",
     "text": [
      "\n",
      "caught error in body, continuing: 'latitude'"
     ]
    },
    {
     "name": "stderr",
     "output_type": "stream",
     "text": [
      "  File \"<ipython-input-2-872ebd74c558>\", line 26, in search_instagram_tag\n",
      "    if insta_post['location']['latitude'] != None and insta_post['location']['longitude'] != None:\n",
      "KeyError: 'latitude'\n",
      "Traceback (most recent call last):\n"
     ]
    },
    {
     "name": "stdout",
     "output_type": "stream",
     "text": [
      "\n",
      "caught error in body, continuing: 'latitude'"
     ]
    },
    {
     "name": "stderr",
     "output_type": "stream",
     "text": [
      "  File \"<ipython-input-2-872ebd74c558>\", line 26, in search_instagram_tag\n",
      "    if insta_post['location']['latitude'] != None and insta_post['location']['longitude'] != None:\n",
      "KeyError: 'latitude'\n",
      "Traceback (most recent call last):\n"
     ]
    },
    {
     "name": "stdout",
     "output_type": "stream",
     "text": [
      "\n",
      "caught error in body, continuing: 'latitude'"
     ]
    },
    {
     "name": "stderr",
     "output_type": "stream",
     "text": [
      "  File \"<ipython-input-2-872ebd74c558>\", line 26, in search_instagram_tag\n",
      "    if insta_post['location']['latitude'] != None and insta_post['location']['longitude'] != None:\n",
      "KeyError: 'latitude'\n",
      "Traceback (most recent call last):\n"
     ]
    },
    {
     "name": "stdout",
     "output_type": "stream",
     "text": [
      "\n",
      "caught error in body, continuing: 'latitude'"
     ]
    },
    {
     "name": "stderr",
     "output_type": "stream",
     "text": [
      "  File \"<ipython-input-2-872ebd74c558>\", line 26, in search_instagram_tag\n",
      "    if insta_post['location']['latitude'] != None and insta_post['location']['longitude'] != None:\n",
      "KeyError: 'latitude'\n",
      "Traceback (most recent call last):\n"
     ]
    },
    {
     "name": "stdout",
     "output_type": "stream",
     "text": [
      "\n",
      "caught error in body, continuing: 'latitude'"
     ]
    },
    {
     "name": "stderr",
     "output_type": "stream",
     "text": [
      "  File \"<ipython-input-2-872ebd74c558>\", line 26, in search_instagram_tag\n",
      "    if insta_post['location']['latitude'] != None and insta_post['location']['longitude'] != None:\n",
      "KeyError: 'latitude'\n",
      "Traceback (most recent call last):\n"
     ]
    },
    {
     "name": "stdout",
     "output_type": "stream",
     "text": [
      "\n",
      "caught error in body, continuing: 'latitude'\n",
      "caught error in body, continuing: 'latitude'"
     ]
    },
    {
     "name": "stderr",
     "output_type": "stream",
     "text": [
      "  File \"<ipython-input-2-872ebd74c558>\", line 26, in search_instagram_tag\n",
      "    if insta_post['location']['latitude'] != None and insta_post['location']['longitude'] != None:\n",
      "KeyError: 'latitude'\n",
      "Traceback (most recent call last):\n",
      "  File \"<ipython-input-2-872ebd74c558>\", line 26, in search_instagram_tag\n",
      "    if insta_post['location']['latitude'] != None and insta_post['location']['longitude'] != None:\n",
      "KeyError: 'latitude'\n",
      "Traceback (most recent call last):\n"
     ]
    },
    {
     "name": "stdout",
     "output_type": "stream",
     "text": [
      "\n",
      "caught error in body, continuing: 'latitude'\n",
      "caught error in body, continuing: 'latitude'\n",
      "caught error in body, continuing: 'latitude'"
     ]
    },
    {
     "name": "stderr",
     "output_type": "stream",
     "text": [
      "  File \"<ipython-input-2-872ebd74c558>\", line 26, in search_instagram_tag\n",
      "    if insta_post['location']['latitude'] != None and insta_post['location']['longitude'] != None:\n",
      "KeyError: 'latitude'\n",
      "Traceback (most recent call last):\n",
      "  File \"<ipython-input-2-872ebd74c558>\", line 26, in search_instagram_tag\n",
      "    if insta_post['location']['latitude'] != None and insta_post['location']['longitude'] != None:\n",
      "KeyError: 'latitude'\n",
      "Traceback (most recent call last):\n",
      "  File \"<ipython-input-2-872ebd74c558>\", line 26, in search_instagram_tag\n",
      "    if insta_post['location']['latitude'] != None and insta_post['location']['longitude'] != None:\n",
      "KeyError: 'latitude'\n",
      "Traceback (most recent call last):\n"
     ]
    },
    {
     "name": "stdout",
     "output_type": "stream",
     "text": [
      "\n",
      "caught error in body, continuing: 'latitude'\n",
      "Searching: busking\n",
      "caught error in body, continuing: 'NoneType' object has no attribute '__getitem__'"
     ]
    },
    {
     "name": "stderr",
     "output_type": "stream",
     "text": [
      "  File \"<ipython-input-2-872ebd74c558>\", line 26, in search_instagram_tag\n",
      "    if insta_post['location']['latitude'] != None and insta_post['location']['longitude'] != None:\n",
      "KeyError: 'latitude'\n",
      "Traceback (most recent call last):\n",
      "  File \"<ipython-input-2-872ebd74c558>\", line 26, in search_instagram_tag\n",
      "    if insta_post['location']['latitude'] != None and insta_post['location']['longitude'] != None:\n",
      "KeyError: 'latitude'\n",
      "Traceback (most recent call last):\n"
     ]
    },
    {
     "name": "stdout",
     "output_type": "stream",
     "text": [
      "\n",
      "caught error in body, continuing: 'NoneType' object has no attribute '__getitem__'"
     ]
    },
    {
     "name": "stderr",
     "output_type": "stream",
     "text": [
      "  File \"<ipython-input-2-872ebd74c558>\", line 28, in search_instagram_tag\n",
      "    int(insta_post['caption']['created_time'])\n",
      "TypeError: 'NoneType' object has no attribute '__getitem__'\n",
      "Traceback (most recent call last):\n"
     ]
    },
    {
     "name": "stdout",
     "output_type": "stream",
     "text": [
      "\n",
      "caught error in body, continuing: 'latitude'"
     ]
    },
    {
     "name": "stderr",
     "output_type": "stream",
     "text": [
      "  File \"<ipython-input-2-872ebd74c558>\", line 28, in search_instagram_tag\n",
      "    int(insta_post['caption']['created_time'])\n",
      "TypeError: 'NoneType' object has no attribute '__getitem__'\n",
      "Traceback (most recent call last):\n"
     ]
    },
    {
     "name": "stdout",
     "output_type": "stream",
     "text": [
      "\n",
      "caught error in body, continuing: 'latitude'"
     ]
    },
    {
     "name": "stderr",
     "output_type": "stream",
     "text": [
      "  File \"<ipython-input-2-872ebd74c558>\", line 26, in search_instagram_tag\n",
      "    if insta_post['location']['latitude'] != None and insta_post['location']['longitude'] != None:\n",
      "KeyError: 'latitude'\n",
      "Traceback (most recent call last):\n"
     ]
    },
    {
     "name": "stdout",
     "output_type": "stream",
     "text": [
      "\n",
      "caught error in body, continuing: 'latitude'"
     ]
    },
    {
     "name": "stderr",
     "output_type": "stream",
     "text": [
      "  File \"<ipython-input-2-872ebd74c558>\", line 26, in search_instagram_tag\n",
      "    if insta_post['location']['latitude'] != None and insta_post['location']['longitude'] != None:\n",
      "KeyError: 'latitude'\n",
      "Traceback (most recent call last):\n"
     ]
    },
    {
     "name": "stdout",
     "output_type": "stream",
     "text": [
      "\n",
      "caught error in body, continuing: 'latitude'"
     ]
    },
    {
     "name": "stderr",
     "output_type": "stream",
     "text": [
      "  File \"<ipython-input-2-872ebd74c558>\", line 26, in search_instagram_tag\n",
      "    if insta_post['location']['latitude'] != None and insta_post['location']['longitude'] != None:\n",
      "KeyError: 'latitude'\n",
      "Traceback (most recent call last):\n"
     ]
    },
    {
     "name": "stdout",
     "output_type": "stream",
     "text": [
      "\n",
      "caught error in body, continuing: 'latitude'\n",
      "caught error in body, continuing: 'latitude'"
     ]
    },
    {
     "name": "stderr",
     "output_type": "stream",
     "text": [
      "  File \"<ipython-input-2-872ebd74c558>\", line 26, in search_instagram_tag\n",
      "    if insta_post['location']['latitude'] != None and insta_post['location']['longitude'] != None:\n",
      "KeyError: 'latitude'\n",
      "Traceback (most recent call last):\n",
      "  File \"<ipython-input-2-872ebd74c558>\", line 26, in search_instagram_tag\n",
      "    if insta_post['location']['latitude'] != None and insta_post['location']['longitude'] != None:\n",
      "KeyError: 'latitude'\n",
      "Traceback (most recent call last):\n"
     ]
    },
    {
     "name": "stdout",
     "output_type": "stream",
     "text": [
      "\n",
      "caught error in body, continuing: 'latitude'"
     ]
    },
    {
     "name": "stderr",
     "output_type": "stream",
     "text": [
      "  File \"<ipython-input-2-872ebd74c558>\", line 26, in search_instagram_tag\n",
      "    if insta_post['location']['latitude'] != None and insta_post['location']['longitude'] != None:\n",
      "KeyError: 'latitude'\n",
      "Traceback (most recent call last):\n"
     ]
    },
    {
     "name": "stdout",
     "output_type": "stream",
     "text": [
      "\n",
      "caught error in body, continuing: 'latitude'"
     ]
    },
    {
     "name": "stderr",
     "output_type": "stream",
     "text": [
      "  File \"<ipython-input-2-872ebd74c558>\", line 26, in search_instagram_tag\n",
      "    if insta_post['location']['latitude'] != None and insta_post['location']['longitude'] != None:\n",
      "KeyError: 'latitude'\n",
      "Traceback (most recent call last):\n"
     ]
    },
    {
     "name": "stdout",
     "output_type": "stream",
     "text": [
      "\n",
      "caught error in body, continuing: 'latitude'"
     ]
    },
    {
     "name": "stderr",
     "output_type": "stream",
     "text": [
      "  File \"<ipython-input-2-872ebd74c558>\", line 26, in search_instagram_tag\n",
      "    if insta_post['location']['latitude'] != None and insta_post['location']['longitude'] != None:\n",
      "KeyError: 'latitude'\n",
      "Traceback (most recent call last):\n"
     ]
    },
    {
     "name": "stdout",
     "output_type": "stream",
     "text": [
      "\n",
      "caught error in body, continuing: 'latitude'\n",
      "caught error in body, continuing: 'latitude'"
     ]
    },
    {
     "name": "stderr",
     "output_type": "stream",
     "text": [
      "  File \"<ipython-input-2-872ebd74c558>\", line 26, in search_instagram_tag\n",
      "    if insta_post['location']['latitude'] != None and insta_post['location']['longitude'] != None:\n",
      "KeyError: 'latitude'\n",
      "Traceback (most recent call last):\n",
      "  File \"<ipython-input-2-872ebd74c558>\", line 26, in search_instagram_tag\n",
      "    if insta_post['location']['latitude'] != None and insta_post['location']['longitude'] != None:\n",
      "KeyError: 'latitude'\n",
      "Traceback (most recent call last):\n"
     ]
    },
    {
     "name": "stdout",
     "output_type": "stream",
     "text": [
      "\n",
      "caught error in body, continuing: 'latitude'"
     ]
    },
    {
     "name": "stderr",
     "output_type": "stream",
     "text": [
      "  File \"<ipython-input-2-872ebd74c558>\", line 26, in search_instagram_tag\n",
      "    if insta_post['location']['latitude'] != None and insta_post['location']['longitude'] != None:\n",
      "KeyError: 'latitude'\n",
      "Traceback (most recent call last):\n"
     ]
    },
    {
     "name": "stdout",
     "output_type": "stream",
     "text": [
      "\n",
      "caught error in body, continuing: 'latitude'"
     ]
    },
    {
     "name": "stderr",
     "output_type": "stream",
     "text": [
      "  File \"<ipython-input-2-872ebd74c558>\", line 26, in search_instagram_tag\n",
      "    if insta_post['location']['latitude'] != None and insta_post['location']['longitude'] != None:\n",
      "KeyError: 'latitude'\n",
      "Traceback (most recent call last):\n"
     ]
    },
    {
     "name": "stdout",
     "output_type": "stream",
     "text": [
      "\n",
      "caught error in body, continuing: 'latitude'"
     ]
    },
    {
     "name": "stderr",
     "output_type": "stream",
     "text": [
      "  File \"<ipython-input-2-872ebd74c558>\", line 26, in search_instagram_tag\n",
      "    if insta_post['location']['latitude'] != None and insta_post['location']['longitude'] != None:\n",
      "KeyError: 'latitude'\n",
      "Traceback (most recent call last):\n"
     ]
    },
    {
     "name": "stdout",
     "output_type": "stream",
     "text": [
      "\n",
      "caught error in body, continuing: 'latitude'"
     ]
    },
    {
     "name": "stderr",
     "output_type": "stream",
     "text": [
      "  File \"<ipython-input-2-872ebd74c558>\", line 26, in search_instagram_tag\n",
      "    if insta_post['location']['latitude'] != None and insta_post['location']['longitude'] != None:\n",
      "KeyError: 'latitude'\n",
      "Traceback (most recent call last):\n"
     ]
    },
    {
     "name": "stdout",
     "output_type": "stream",
     "text": [
      "\n",
      "caught error in body, continuing: 'latitude'\n",
      "caught error in body, continuing: 'latitude'"
     ]
    },
    {
     "name": "stderr",
     "output_type": "stream",
     "text": [
      "  File \"<ipython-input-2-872ebd74c558>\", line 26, in search_instagram_tag\n",
      "    if insta_post['location']['latitude'] != None and insta_post['location']['longitude'] != None:\n",
      "KeyError: 'latitude'\n",
      "Traceback (most recent call last):\n",
      "  File \"<ipython-input-2-872ebd74c558>\", line 26, in search_instagram_tag\n",
      "    if insta_post['location']['latitude'] != None and insta_post['location']['longitude'] != None:\n",
      "KeyError: 'latitude'\n",
      "Traceback (most recent call last):\n"
     ]
    },
    {
     "name": "stdout",
     "output_type": "stream",
     "text": [
      "\n",
      "caught error in body, continuing: 'latitude'"
     ]
    },
    {
     "name": "stderr",
     "output_type": "stream",
     "text": [
      "  File \"<ipython-input-2-872ebd74c558>\", line 26, in search_instagram_tag\n",
      "    if insta_post['location']['latitude'] != None and insta_post['location']['longitude'] != None:\n",
      "KeyError: 'latitude'\n",
      "Traceback (most recent call last):\n"
     ]
    },
    {
     "name": "stdout",
     "output_type": "stream",
     "text": [
      "\n",
      "caught error in body, continuing: 'latitude'"
     ]
    },
    {
     "name": "stderr",
     "output_type": "stream",
     "text": [
      "  File \"<ipython-input-2-872ebd74c558>\", line 26, in search_instagram_tag\n",
      "    if insta_post['location']['latitude'] != None and insta_post['location']['longitude'] != None:\n",
      "KeyError: 'latitude'\n",
      "Traceback (most recent call last):\n"
     ]
    },
    {
     "name": "stdout",
     "output_type": "stream",
     "text": [
      "\n",
      "caught error in body, continuing: 'latitude'"
     ]
    },
    {
     "name": "stderr",
     "output_type": "stream",
     "text": [
      "  File \"<ipython-input-2-872ebd74c558>\", line 26, in search_instagram_tag\n",
      "    if insta_post['location']['latitude'] != None and insta_post['location']['longitude'] != None:\n",
      "KeyError: 'latitude'\n",
      "Traceback (most recent call last):\n"
     ]
    },
    {
     "name": "stdout",
     "output_type": "stream",
     "text": [
      "\n",
      "caught error in body, continuing: 'latitude'"
     ]
    },
    {
     "name": "stderr",
     "output_type": "stream",
     "text": [
      "  File \"<ipython-input-2-872ebd74c558>\", line 26, in search_instagram_tag\n",
      "    if insta_post['location']['latitude'] != None and insta_post['location']['longitude'] != None:\n",
      "KeyError: 'latitude'\n",
      "Traceback (most recent call last):\n"
     ]
    },
    {
     "name": "stdout",
     "output_type": "stream",
     "text": [
      "\n",
      "caught error in body, continuing: 'latitude'"
     ]
    },
    {
     "name": "stderr",
     "output_type": "stream",
     "text": [
      "  File \"<ipython-input-2-872ebd74c558>\", line 26, in search_instagram_tag\n",
      "    if insta_post['location']['latitude'] != None and insta_post['location']['longitude'] != None:\n",
      "KeyError: 'latitude'\n",
      "Traceback (most recent call last):\n"
     ]
    },
    {
     "name": "stdout",
     "output_type": "stream",
     "text": [
      "\n",
      "caught error in body, continuing: 'latitude'"
     ]
    },
    {
     "name": "stderr",
     "output_type": "stream",
     "text": [
      "  File \"<ipython-input-2-872ebd74c558>\", line 26, in search_instagram_tag\n",
      "    if insta_post['location']['latitude'] != None and insta_post['location']['longitude'] != None:\n",
      "KeyError: 'latitude'\n",
      "Traceback (most recent call last):\n"
     ]
    },
    {
     "name": "stdout",
     "output_type": "stream",
     "text": [
      "\n",
      "caught error in body, continuing: 'latitude'"
     ]
    },
    {
     "name": "stderr",
     "output_type": "stream",
     "text": [
      "  File \"<ipython-input-2-872ebd74c558>\", line 26, in search_instagram_tag\n",
      "    if insta_post['location']['latitude'] != None and insta_post['location']['longitude'] != None:\n",
      "KeyError: 'latitude'\n",
      "Traceback (most recent call last):\n"
     ]
    },
    {
     "name": "stdout",
     "output_type": "stream",
     "text": [
      "\n",
      "caught error in body, continuing: 'latitude'"
     ]
    },
    {
     "name": "stderr",
     "output_type": "stream",
     "text": [
      "  File \"<ipython-input-2-872ebd74c558>\", line 26, in search_instagram_tag\n",
      "    if insta_post['location']['latitude'] != None and insta_post['location']['longitude'] != None:\n",
      "KeyError: 'latitude'\n",
      "Traceback (most recent call last):\n"
     ]
    },
    {
     "name": "stdout",
     "output_type": "stream",
     "text": [
      "\n",
      "caught error in body, continuing: 'latitude'"
     ]
    },
    {
     "name": "stderr",
     "output_type": "stream",
     "text": [
      "  File \"<ipython-input-2-872ebd74c558>\", line 26, in search_instagram_tag\n",
      "    if insta_post['location']['latitude'] != None and insta_post['location']['longitude'] != None:\n",
      "KeyError: 'latitude'\n",
      "Traceback (most recent call last):\n"
     ]
    },
    {
     "name": "stdout",
     "output_type": "stream",
     "text": [
      "\n",
      "caught error in body, continuing: 'latitude'"
     ]
    },
    {
     "name": "stderr",
     "output_type": "stream",
     "text": [
      "  File \"<ipython-input-2-872ebd74c558>\", line 26, in search_instagram_tag\n",
      "    if insta_post['location']['latitude'] != None and insta_post['location']['longitude'] != None:\n",
      "KeyError: 'latitude'\n",
      "Traceback (most recent call last):\n"
     ]
    },
    {
     "name": "stdout",
     "output_type": "stream",
     "text": [
      "\n",
      "caught error in body, continuing: 'latitude'"
     ]
    },
    {
     "name": "stderr",
     "output_type": "stream",
     "text": [
      "  File \"<ipython-input-2-872ebd74c558>\", line 26, in search_instagram_tag\n",
      "    if insta_post['location']['latitude'] != None and insta_post['location']['longitude'] != None:\n",
      "KeyError: 'latitude'\n",
      "Traceback (most recent call last):\n"
     ]
    },
    {
     "name": "stdout",
     "output_type": "stream",
     "text": [
      "\n",
      "caught error in body, continuing: 'latitude'\n",
      "caught error in body, continuing: 'latitude'\n",
      "caught error in body, continuing: 'latitude'"
     ]
    },
    {
     "name": "stderr",
     "output_type": "stream",
     "text": [
      "  File \"<ipython-input-2-872ebd74c558>\", line 26, in search_instagram_tag\n",
      "    if insta_post['location']['latitude'] != None and insta_post['location']['longitude'] != None:\n",
      "KeyError: 'latitude'\n",
      "Traceback (most recent call last):\n",
      "  File \"<ipython-input-2-872ebd74c558>\", line 26, in search_instagram_tag\n",
      "    if insta_post['location']['latitude'] != None and insta_post['location']['longitude'] != None:\n",
      "KeyError: 'latitude'\n",
      "Traceback (most recent call last):\n",
      "  File \"<ipython-input-2-872ebd74c558>\", line 26, in search_instagram_tag\n",
      "    if insta_post['location']['latitude'] != None and insta_post['location']['longitude'] != None:\n",
      "KeyError: 'latitude'\n",
      "Traceback (most recent call last):\n"
     ]
    },
    {
     "name": "stdout",
     "output_type": "stream",
     "text": [
      "\n",
      "caught error in body, continuing: 'latitude'\n",
      "caught error in body, continuing: 'latitude'"
     ]
    },
    {
     "name": "stderr",
     "output_type": "stream",
     "text": [
      "  File \"<ipython-input-2-872ebd74c558>\", line 26, in search_instagram_tag\n",
      "    if insta_post['location']['latitude'] != None and insta_post['location']['longitude'] != None:\n",
      "KeyError: 'latitude'\n",
      "Traceback (most recent call last):\n",
      "  File \"<ipython-input-2-872ebd74c558>\", line 26, in search_instagram_tag\n",
      "    if insta_post['location']['latitude'] != None and insta_post['location']['longitude'] != None:\n",
      "KeyError: 'latitude'\n",
      "Traceback (most recent call last):\n"
     ]
    },
    {
     "name": "stdout",
     "output_type": "stream",
     "text": [
      "\n",
      "caught error in body, continuing: 'latitude'"
     ]
    },
    {
     "name": "stderr",
     "output_type": "stream",
     "text": [
      "  File \"<ipython-input-2-872ebd74c558>\", line 26, in search_instagram_tag\n",
      "    if insta_post['location']['latitude'] != None and insta_post['location']['longitude'] != None:\n",
      "KeyError: 'latitude'\n",
      "Traceback (most recent call last):\n"
     ]
    },
    {
     "name": "stdout",
     "output_type": "stream",
     "text": [
      "\n",
      "caught error in body, continuing: 'latitude'"
     ]
    },
    {
     "name": "stderr",
     "output_type": "stream",
     "text": [
      "  File \"<ipython-input-2-872ebd74c558>\", line 26, in search_instagram_tag\n",
      "    if insta_post['location']['latitude'] != None and insta_post['location']['longitude'] != None:\n",
      "KeyError: 'latitude'\n",
      "Traceback (most recent call last):\n"
     ]
    },
    {
     "name": "stdout",
     "output_type": "stream",
     "text": [
      "\n",
      "caught error in body, continuing: 'latitude'\n",
      "caught error in body, continuing: 'latitude'"
     ]
    },
    {
     "name": "stderr",
     "output_type": "stream",
     "text": [
      "  File \"<ipython-input-2-872ebd74c558>\", line 26, in search_instagram_tag\n",
      "    if insta_post['location']['latitude'] != None and insta_post['location']['longitude'] != None:\n",
      "KeyError: 'latitude'\n",
      "Traceback (most recent call last):\n",
      "  File \"<ipython-input-2-872ebd74c558>\", line 26, in search_instagram_tag\n",
      "    if insta_post['location']['latitude'] != None and insta_post['location']['longitude'] != None:\n",
      "KeyError: 'latitude'\n",
      "Traceback (most recent call last):\n"
     ]
    },
    {
     "name": "stdout",
     "output_type": "stream",
     "text": [
      "\n",
      "caught error in body, continuing: 'latitude'"
     ]
    },
    {
     "name": "stderr",
     "output_type": "stream",
     "text": [
      "  File \"<ipython-input-2-872ebd74c558>\", line 26, in search_instagram_tag\n",
      "    if insta_post['location']['latitude'] != None and insta_post['location']['longitude'] != None:\n",
      "KeyError: 'latitude'\n",
      "Traceback (most recent call last):\n"
     ]
    },
    {
     "name": "stdout",
     "output_type": "stream",
     "text": [
      "\n",
      "caught error in body, continuing: 'latitude'\n",
      "Searching: streetmusic\n",
      "caught error in body, continuing: 'latitude'"
     ]
    },
    {
     "name": "stderr",
     "output_type": "stream",
     "text": [
      "  File \"<ipython-input-2-872ebd74c558>\", line 26, in search_instagram_tag\n",
      "    if insta_post['location']['latitude'] != None and insta_post['location']['longitude'] != None:\n",
      "KeyError: 'latitude'\n",
      "Traceback (most recent call last):\n",
      "  File \"<ipython-input-2-872ebd74c558>\", line 26, in search_instagram_tag\n",
      "    if insta_post['location']['latitude'] != None and insta_post['location']['longitude'] != None:\n",
      "KeyError: 'latitude'\n",
      "Traceback (most recent call last):\n"
     ]
    },
    {
     "name": "stdout",
     "output_type": "stream",
     "text": [
      "\n",
      "caught error in body, continuing: 'NoneType' object has no attribute '__getitem__'"
     ]
    },
    {
     "name": "stderr",
     "output_type": "stream",
     "text": [
      "  File \"<ipython-input-2-872ebd74c558>\", line 26, in search_instagram_tag\n",
      "    if insta_post['location']['latitude'] != None and insta_post['location']['longitude'] != None:\n",
      "KeyError: 'latitude'\n",
      "Traceback (most recent call last):\n"
     ]
    },
    {
     "name": "stdout",
     "output_type": "stream",
     "text": [
      "\n",
      "caught error in body, continuing: 'latitude'"
     ]
    },
    {
     "name": "stderr",
     "output_type": "stream",
     "text": [
      "  File \"<ipython-input-2-872ebd74c558>\", line 28, in search_instagram_tag\n",
      "    int(insta_post['caption']['created_time'])\n",
      "TypeError: 'NoneType' object has no attribute '__getitem__'\n",
      "Traceback (most recent call last):\n"
     ]
    },
    {
     "name": "stdout",
     "output_type": "stream",
     "text": [
      "\n",
      "caught error in body, continuing: 'NoneType' object has no attribute '__getitem__'"
     ]
    },
    {
     "name": "stderr",
     "output_type": "stream",
     "text": [
      "  File \"<ipython-input-2-872ebd74c558>\", line 26, in search_instagram_tag\n",
      "    if insta_post['location']['latitude'] != None and insta_post['location']['longitude'] != None:\n",
      "KeyError: 'latitude'\n",
      "Traceback (most recent call last):\n"
     ]
    },
    {
     "name": "stdout",
     "output_type": "stream",
     "text": [
      "\n",
      "caught error in body, continuing: 'latitude'"
     ]
    },
    {
     "name": "stderr",
     "output_type": "stream",
     "text": [
      "  File \"<ipython-input-2-872ebd74c558>\", line 28, in search_instagram_tag\n",
      "    int(insta_post['caption']['created_time'])\n",
      "TypeError: 'NoneType' object has no attribute '__getitem__'\n",
      "Traceback (most recent call last):\n"
     ]
    },
    {
     "name": "stdout",
     "output_type": "stream",
     "text": [
      "\n",
      "caught error in body, continuing: 'latitude'"
     ]
    },
    {
     "name": "stderr",
     "output_type": "stream",
     "text": [
      "  File \"<ipython-input-2-872ebd74c558>\", line 26, in search_instagram_tag\n",
      "    if insta_post['location']['latitude'] != None and insta_post['location']['longitude'] != None:\n",
      "KeyError: 'latitude'\n",
      "Traceback (most recent call last):\n"
     ]
    },
    {
     "name": "stdout",
     "output_type": "stream",
     "text": [
      "\n",
      "caught error in body, continuing: 'latitude'\n",
      "caught error in body, continuing: 'latitude'"
     ]
    },
    {
     "name": "stderr",
     "output_type": "stream",
     "text": [
      "  File \"<ipython-input-2-872ebd74c558>\", line 26, in search_instagram_tag\n",
      "    if insta_post['location']['latitude'] != None and insta_post['location']['longitude'] != None:\n",
      "KeyError: 'latitude'\n",
      "Traceback (most recent call last):\n",
      "  File \"<ipython-input-2-872ebd74c558>\", line 26, in search_instagram_tag\n",
      "    if insta_post['location']['latitude'] != None and insta_post['location']['longitude'] != None:\n",
      "KeyError: 'latitude'\n",
      "Traceback (most recent call last):\n"
     ]
    },
    {
     "name": "stdout",
     "output_type": "stream",
     "text": [
      "\n",
      "caught error in body, continuing: 'latitude'\n",
      "caught error in body, continuing: 'latitude'"
     ]
    },
    {
     "name": "stderr",
     "output_type": "stream",
     "text": [
      "  File \"<ipython-input-2-872ebd74c558>\", line 26, in search_instagram_tag\n",
      "    if insta_post['location']['latitude'] != None and insta_post['location']['longitude'] != None:\n",
      "KeyError: 'latitude'\n",
      "Traceback (most recent call last):\n",
      "  File \"<ipython-input-2-872ebd74c558>\", line 26, in search_instagram_tag\n",
      "    if insta_post['location']['latitude'] != None and insta_post['location']['longitude'] != None:\n",
      "KeyError: 'latitude'\n",
      "Traceback (most recent call last):\n"
     ]
    },
    {
     "name": "stdout",
     "output_type": "stream",
     "text": [
      "\n",
      "caught error in body, continuing: 'latitude'"
     ]
    },
    {
     "name": "stderr",
     "output_type": "stream",
     "text": [
      "  File \"<ipython-input-2-872ebd74c558>\", line 26, in search_instagram_tag\n",
      "    if insta_post['location']['latitude'] != None and insta_post['location']['longitude'] != None:\n",
      "KeyError: 'latitude'\n",
      "Traceback (most recent call last):\n"
     ]
    },
    {
     "name": "stdout",
     "output_type": "stream",
     "text": [
      "\n",
      "caught error in body, continuing: 'latitude'"
     ]
    },
    {
     "name": "stderr",
     "output_type": "stream",
     "text": [
      "  File \"<ipython-input-2-872ebd74c558>\", line 26, in search_instagram_tag\n",
      "    if insta_post['location']['latitude'] != None and insta_post['location']['longitude'] != None:\n",
      "KeyError: 'latitude'\n",
      "Traceback (most recent call last):\n"
     ]
    },
    {
     "name": "stdout",
     "output_type": "stream",
     "text": [
      "\n",
      "caught error in body, continuing: 'latitude'"
     ]
    },
    {
     "name": "stderr",
     "output_type": "stream",
     "text": [
      "  File \"<ipython-input-2-872ebd74c558>\", line 26, in search_instagram_tag\n",
      "    if insta_post['location']['latitude'] != None and insta_post['location']['longitude'] != None:\n",
      "KeyError: 'latitude'\n",
      "Traceback (most recent call last):\n"
     ]
    },
    {
     "name": "stdout",
     "output_type": "stream",
     "text": [
      "\n",
      "caught error in body, continuing: 'latitude'"
     ]
    },
    {
     "name": "stderr",
     "output_type": "stream",
     "text": [
      "  File \"<ipython-input-2-872ebd74c558>\", line 26, in search_instagram_tag\n",
      "    if insta_post['location']['latitude'] != None and insta_post['location']['longitude'] != None:\n",
      "KeyError: 'latitude'\n",
      "Traceback (most recent call last):\n"
     ]
    },
    {
     "name": "stdout",
     "output_type": "stream",
     "text": [
      "\n",
      "caught error in body, continuing: 'latitude'"
     ]
    },
    {
     "name": "stderr",
     "output_type": "stream",
     "text": [
      "  File \"<ipython-input-2-872ebd74c558>\", line 26, in search_instagram_tag\n",
      "    if insta_post['location']['latitude'] != None and insta_post['location']['longitude'] != None:\n",
      "KeyError: 'latitude'\n",
      "Traceback (most recent call last):\n"
     ]
    },
    {
     "name": "stdout",
     "output_type": "stream",
     "text": [
      "\n",
      "caught error in body, continuing: 'latitude'"
     ]
    },
    {
     "name": "stderr",
     "output_type": "stream",
     "text": [
      "  File \"<ipython-input-2-872ebd74c558>\", line 26, in search_instagram_tag\n",
      "    if insta_post['location']['latitude'] != None and insta_post['location']['longitude'] != None:\n",
      "KeyError: 'latitude'\n",
      "Traceback (most recent call last):\n"
     ]
    },
    {
     "name": "stdout",
     "output_type": "stream",
     "text": [
      "\n",
      "caught error in body, continuing: 'latitude'\n",
      "caught error in body, continuing: 'latitude'"
     ]
    },
    {
     "name": "stderr",
     "output_type": "stream",
     "text": [
      "  File \"<ipython-input-2-872ebd74c558>\", line 26, in search_instagram_tag\n",
      "    if insta_post['location']['latitude'] != None and insta_post['location']['longitude'] != None:\n",
      "KeyError: 'latitude'\n",
      "Traceback (most recent call last):\n",
      "  File \"<ipython-input-2-872ebd74c558>\", line 26, in search_instagram_tag\n",
      "    if insta_post['location']['latitude'] != None and insta_post['location']['longitude'] != None:\n",
      "KeyError: 'latitude'\n",
      "Traceback (most recent call last):\n"
     ]
    },
    {
     "name": "stdout",
     "output_type": "stream",
     "text": [
      "\n",
      "caught error in body, continuing: 'latitude'"
     ]
    },
    {
     "name": "stderr",
     "output_type": "stream",
     "text": [
      "  File \"<ipython-input-2-872ebd74c558>\", line 26, in search_instagram_tag\n",
      "    if insta_post['location']['latitude'] != None and insta_post['location']['longitude'] != None:\n",
      "KeyError: 'latitude'\n",
      "Traceback (most recent call last):\n"
     ]
    },
    {
     "name": "stdout",
     "output_type": "stream",
     "text": [
      "\n",
      "caught error in body, continuing: 'latitude'"
     ]
    },
    {
     "name": "stderr",
     "output_type": "stream",
     "text": [
      "  File \"<ipython-input-2-872ebd74c558>\", line 26, in search_instagram_tag\n",
      "    if insta_post['location']['latitude'] != None and insta_post['location']['longitude'] != None:\n",
      "KeyError: 'latitude'\n",
      "Traceback (most recent call last):\n"
     ]
    },
    {
     "name": "stdout",
     "output_type": "stream",
     "text": [
      "\n",
      "caught error in body, continuing: 'latitude'"
     ]
    },
    {
     "name": "stderr",
     "output_type": "stream",
     "text": [
      "  File \"<ipython-input-2-872ebd74c558>\", line 26, in search_instagram_tag\n",
      "    if insta_post['location']['latitude'] != None and insta_post['location']['longitude'] != None:\n",
      "KeyError: 'latitude'\n",
      "Traceback (most recent call last):\n"
     ]
    },
    {
     "name": "stdout",
     "output_type": "stream",
     "text": [
      "\n",
      "caught error in body, continuing: 'latitude'"
     ]
    },
    {
     "name": "stderr",
     "output_type": "stream",
     "text": [
      "  File \"<ipython-input-2-872ebd74c558>\", line 26, in search_instagram_tag\n",
      "    if insta_post['location']['latitude'] != None and insta_post['location']['longitude'] != None:\n",
      "KeyError: 'latitude'\n",
      "Traceback (most recent call last):\n"
     ]
    },
    {
     "name": "stdout",
     "output_type": "stream",
     "text": [
      "\n",
      "caught error in body, continuing: 'latitude'\n",
      "caught error in body, continuing: 'latitude'"
     ]
    },
    {
     "name": "stderr",
     "output_type": "stream",
     "text": [
      "  File \"<ipython-input-2-872ebd74c558>\", line 26, in search_instagram_tag\n",
      "    if insta_post['location']['latitude'] != None and insta_post['location']['longitude'] != None:\n",
      "KeyError: 'latitude'\n",
      "Traceback (most recent call last):\n",
      "  File \"<ipython-input-2-872ebd74c558>\", line 26, in search_instagram_tag\n",
      "    if insta_post['location']['latitude'] != None and insta_post['location']['longitude'] != None:\n",
      "KeyError: 'latitude'\n",
      "Traceback (most recent call last):\n"
     ]
    },
    {
     "name": "stdout",
     "output_type": "stream",
     "text": [
      "\n",
      "caught error in body, continuing: 'latitude'"
     ]
    },
    {
     "name": "stderr",
     "output_type": "stream",
     "text": [
      "  File \"<ipython-input-2-872ebd74c558>\", line 26, in search_instagram_tag\n",
      "    if insta_post['location']['latitude'] != None and insta_post['location']['longitude'] != None:\n",
      "KeyError: 'latitude'\n",
      "Traceback (most recent call last):\n"
     ]
    },
    {
     "name": "stdout",
     "output_type": "stream",
     "text": [
      "\n",
      "caught error in body, continuing: 'latitude'"
     ]
    },
    {
     "name": "stderr",
     "output_type": "stream",
     "text": [
      "  File \"<ipython-input-2-872ebd74c558>\", line 26, in search_instagram_tag\n",
      "    if insta_post['location']['latitude'] != None and insta_post['location']['longitude'] != None:\n",
      "KeyError: 'latitude'\n",
      "Traceback (most recent call last):\n"
     ]
    },
    {
     "name": "stdout",
     "output_type": "stream",
     "text": [
      "\n",
      "caught error in body, continuing: 'latitude'"
     ]
    },
    {
     "name": "stderr",
     "output_type": "stream",
     "text": [
      "  File \"<ipython-input-2-872ebd74c558>\", line 26, in search_instagram_tag\n",
      "    if insta_post['location']['latitude'] != None and insta_post['location']['longitude'] != None:\n",
      "KeyError: 'latitude'\n",
      "Traceback (most recent call last):\n"
     ]
    },
    {
     "name": "stdout",
     "output_type": "stream",
     "text": [
      "\n",
      "caught error in body, continuing: 'latitude'"
     ]
    },
    {
     "name": "stderr",
     "output_type": "stream",
     "text": [
      "  File \"<ipython-input-2-872ebd74c558>\", line 26, in search_instagram_tag\n",
      "    if insta_post['location']['latitude'] != None and insta_post['location']['longitude'] != None:\n",
      "KeyError: 'latitude'\n",
      "Traceback (most recent call last):\n"
     ]
    },
    {
     "name": "stdout",
     "output_type": "stream",
     "text": [
      "\n",
      "caught error in body, continuing: 'latitude'"
     ]
    },
    {
     "name": "stderr",
     "output_type": "stream",
     "text": [
      "  File \"<ipython-input-2-872ebd74c558>\", line 26, in search_instagram_tag\n",
      "    if insta_post['location']['latitude'] != None and insta_post['location']['longitude'] != None:\n",
      "KeyError: 'latitude'\n",
      "Traceback (most recent call last):\n"
     ]
    },
    {
     "name": "stdout",
     "output_type": "stream",
     "text": [
      "\n",
      "caught error in body, continuing: 'latitude'"
     ]
    },
    {
     "name": "stderr",
     "output_type": "stream",
     "text": [
      "  File \"<ipython-input-2-872ebd74c558>\", line 26, in search_instagram_tag\n",
      "    if insta_post['location']['latitude'] != None and insta_post['location']['longitude'] != None:\n",
      "KeyError: 'latitude'\n",
      "Traceback (most recent call last):\n"
     ]
    },
    {
     "name": "stdout",
     "output_type": "stream",
     "text": [
      "\n",
      "caught error in body, continuing: 'latitude'"
     ]
    },
    {
     "name": "stderr",
     "output_type": "stream",
     "text": [
      "  File \"<ipython-input-2-872ebd74c558>\", line 26, in search_instagram_tag\n",
      "    if insta_post['location']['latitude'] != None and insta_post['location']['longitude'] != None:\n",
      "KeyError: 'latitude'\n",
      "Traceback (most recent call last):\n"
     ]
    },
    {
     "name": "stdout",
     "output_type": "stream",
     "text": [
      "\n",
      "caught error in body, continuing: 'latitude'"
     ]
    },
    {
     "name": "stderr",
     "output_type": "stream",
     "text": [
      "  File \"<ipython-input-2-872ebd74c558>\", line 26, in search_instagram_tag\n",
      "    if insta_post['location']['latitude'] != None and insta_post['location']['longitude'] != None:\n",
      "KeyError: 'latitude'\n",
      "Traceback (most recent call last):\n"
     ]
    },
    {
     "name": "stdout",
     "output_type": "stream",
     "text": [
      "\n",
      "caught error in body, continuing: 'latitude'"
     ]
    },
    {
     "name": "stderr",
     "output_type": "stream",
     "text": [
      "  File \"<ipython-input-2-872ebd74c558>\", line 26, in search_instagram_tag\n",
      "    if insta_post['location']['latitude'] != None and insta_post['location']['longitude'] != None:\n",
      "KeyError: 'latitude'\n",
      "Traceback (most recent call last):\n"
     ]
    },
    {
     "name": "stdout",
     "output_type": "stream",
     "text": [
      "\n",
      "caught error in body, continuing: 'latitude'"
     ]
    },
    {
     "name": "stderr",
     "output_type": "stream",
     "text": [
      "  File \"<ipython-input-2-872ebd74c558>\", line 26, in search_instagram_tag\n",
      "    if insta_post['location']['latitude'] != None and insta_post['location']['longitude'] != None:\n",
      "KeyError: 'latitude'\n",
      "Traceback (most recent call last):\n"
     ]
    },
    {
     "name": "stdout",
     "output_type": "stream",
     "text": [
      "\n",
      "caught error in body, continuing: 'latitude'"
     ]
    },
    {
     "name": "stderr",
     "output_type": "stream",
     "text": [
      "  File \"<ipython-input-2-872ebd74c558>\", line 26, in search_instagram_tag\n",
      "    if insta_post['location']['latitude'] != None and insta_post['location']['longitude'] != None:\n",
      "KeyError: 'latitude'\n",
      "Traceback (most recent call last):\n"
     ]
    },
    {
     "name": "stdout",
     "output_type": "stream",
     "text": [
      "\n",
      "caught error in body, continuing: 'latitude'"
     ]
    },
    {
     "name": "stderr",
     "output_type": "stream",
     "text": [
      "  File \"<ipython-input-2-872ebd74c558>\", line 26, in search_instagram_tag\n",
      "    if insta_post['location']['latitude'] != None and insta_post['location']['longitude'] != None:\n",
      "KeyError: 'latitude'\n",
      "Traceback (most recent call last):\n"
     ]
    },
    {
     "name": "stdout",
     "output_type": "stream",
     "text": [
      "\n",
      "caught error in body, continuing: 'latitude'\n",
      "caught error in body, continuing: 'latitude'"
     ]
    },
    {
     "name": "stderr",
     "output_type": "stream",
     "text": [
      "  File \"<ipython-input-2-872ebd74c558>\", line 26, in search_instagram_tag\n",
      "    if insta_post['location']['latitude'] != None and insta_post['location']['longitude'] != None:\n",
      "KeyError: 'latitude'\n",
      "Traceback (most recent call last):\n",
      "  File \"<ipython-input-2-872ebd74c558>\", line 26, in search_instagram_tag\n",
      "    if insta_post['location']['latitude'] != None and insta_post['location']['longitude'] != None:\n",
      "KeyError: 'latitude'\n",
      "Traceback (most recent call last):\n"
     ]
    },
    {
     "name": "stdout",
     "output_type": "stream",
     "text": [
      "\n",
      "caught error in body, continuing: 'latitude'\n",
      "caught error in body, continuing: 'latitude'\n",
      "caught error in body, continuing: 'latitude'"
     ]
    },
    {
     "name": "stderr",
     "output_type": "stream",
     "text": [
      "  File \"<ipython-input-2-872ebd74c558>\", line 26, in search_instagram_tag\n",
      "    if insta_post['location']['latitude'] != None and insta_post['location']['longitude'] != None:\n",
      "KeyError: 'latitude'\n",
      "Traceback (most recent call last):\n",
      "  File \"<ipython-input-2-872ebd74c558>\", line 26, in search_instagram_tag\n",
      "    if insta_post['location']['latitude'] != None and insta_post['location']['longitude'] != None:\n",
      "KeyError: 'latitude'\n",
      "Traceback (most recent call last):\n",
      "  File \"<ipython-input-2-872ebd74c558>\", line 26, in search_instagram_tag\n",
      "    if insta_post['location']['latitude'] != None and insta_post['location']['longitude'] != None:\n",
      "KeyError: 'latitude'\n",
      "Traceback (most recent call last):\n"
     ]
    },
    {
     "name": "stdout",
     "output_type": "stream",
     "text": [
      "\n",
      "caught error in body, continuing: 'latitude'"
     ]
    },
    {
     "name": "stderr",
     "output_type": "stream",
     "text": [
      "  File \"<ipython-input-2-872ebd74c558>\", line 26, in search_instagram_tag\n",
      "    if insta_post['location']['latitude'] != None and insta_post['location']['longitude'] != None:\n",
      "KeyError: 'latitude'\n",
      "Traceback (most recent call last):\n"
     ]
    },
    {
     "name": "stdout",
     "output_type": "stream",
     "text": [
      "\n",
      "caught error in body, continuing: 'latitude'"
     ]
    },
    {
     "name": "stderr",
     "output_type": "stream",
     "text": [
      "  File \"<ipython-input-2-872ebd74c558>\", line 26, in search_instagram_tag\n",
      "    if insta_post['location']['latitude'] != None and insta_post['location']['longitude'] != None:\n",
      "KeyError: 'latitude'\n",
      "Traceback (most recent call last):\n"
     ]
    },
    {
     "name": "stdout",
     "output_type": "stream",
     "text": [
      "\n",
      "caught error in body, continuing: 'latitude'\n",
      "caught error in body, continuing: 'latitude'"
     ]
    },
    {
     "name": "stderr",
     "output_type": "stream",
     "text": [
      "  File \"<ipython-input-2-872ebd74c558>\", line 26, in search_instagram_tag\n",
      "    if insta_post['location']['latitude'] != None and insta_post['location']['longitude'] != None:\n",
      "KeyError: 'latitude'\n",
      "Traceback (most recent call last):\n",
      "  File \"<ipython-input-2-872ebd74c558>\", line 26, in search_instagram_tag\n",
      "    if insta_post['location']['latitude'] != None and insta_post['location']['longitude'] != None:\n",
      "KeyError: 'latitude'\n",
      "Traceback (most recent call last):\n"
     ]
    },
    {
     "name": "stdout",
     "output_type": "stream",
     "text": [
      "\n",
      "caught error in body, continuing: 'latitude'"
     ]
    },
    {
     "name": "stderr",
     "output_type": "stream",
     "text": [
      "  File \"<ipython-input-2-872ebd74c558>\", line 26, in search_instagram_tag\n",
      "    if insta_post['location']['latitude'] != None and insta_post['location']['longitude'] != None:\n",
      "KeyError: 'latitude'\n",
      "Traceback (most recent call last):\n"
     ]
    },
    {
     "name": "stdout",
     "output_type": "stream",
     "text": [
      "\n",
      "caught error in body, continuing: 'latitude'"
     ]
    },
    {
     "name": "stderr",
     "output_type": "stream",
     "text": [
      "  File \"<ipython-input-2-872ebd74c558>\", line 26, in search_instagram_tag\n",
      "    if insta_post['location']['latitude'] != None and insta_post['location']['longitude'] != None:\n",
      "KeyError: 'latitude'\n",
      "Traceback (most recent call last):\n"
     ]
    },
    {
     "name": "stdout",
     "output_type": "stream",
     "text": [
      "\n",
      "caught error in body, continuing: 'latitude'"
     ]
    },
    {
     "name": "stderr",
     "output_type": "stream",
     "text": [
      "  File \"<ipython-input-2-872ebd74c558>\", line 26, in search_instagram_tag\n",
      "    if insta_post['location']['latitude'] != None and insta_post['location']['longitude'] != None:\n",
      "KeyError: 'latitude'\n",
      "Traceback (most recent call last):\n"
     ]
    },
    {
     "name": "stdout",
     "output_type": "stream",
     "text": [
      "\n",
      "caught error in body, continuing: 'latitude'"
     ]
    },
    {
     "name": "stderr",
     "output_type": "stream",
     "text": [
      "  File \"<ipython-input-2-872ebd74c558>\", line 26, in search_instagram_tag\n",
      "    if insta_post['location']['latitude'] != None and insta_post['location']['longitude'] != None:\n",
      "KeyError: 'latitude'\n",
      "Traceback (most recent call last):\n"
     ]
    },
    {
     "name": "stdout",
     "output_type": "stream",
     "text": [
      "\n",
      "caught error in body, continuing: 'latitude'"
     ]
    },
    {
     "name": "stderr",
     "output_type": "stream",
     "text": [
      "  File \"<ipython-input-2-872ebd74c558>\", line 26, in search_instagram_tag\n",
      "    if insta_post['location']['latitude'] != None and insta_post['location']['longitude'] != None:\n",
      "KeyError: 'latitude'\n",
      "Traceback (most recent call last):\n"
     ]
    },
    {
     "name": "stdout",
     "output_type": "stream",
     "text": [
      "\n",
      "caught error in body, continuing: 'NoneType' object has no attribute '__getitem__'"
     ]
    },
    {
     "name": "stderr",
     "output_type": "stream",
     "text": [
      "  File \"<ipython-input-2-872ebd74c558>\", line 26, in search_instagram_tag\n",
      "    if insta_post['location']['latitude'] != None and insta_post['location']['longitude'] != None:\n",
      "KeyError: 'latitude'\n",
      "Traceback (most recent call last):\n"
     ]
    },
    {
     "name": "stdout",
     "output_type": "stream",
     "text": [
      "\n",
      "caught error in body, continuing: 'latitude'"
     ]
    },
    {
     "name": "stderr",
     "output_type": "stream",
     "text": [
      "  File \"<ipython-input-2-872ebd74c558>\", line 28, in search_instagram_tag\n",
      "    int(insta_post['caption']['created_time'])\n",
      "TypeError: 'NoneType' object has no attribute '__getitem__'\n",
      "Traceback (most recent call last):\n"
     ]
    },
    {
     "name": "stdout",
     "output_type": "stream",
     "text": [
      "\n",
      "caught error in body, continuing: 'latitude'"
     ]
    },
    {
     "name": "stderr",
     "output_type": "stream",
     "text": [
      "  File \"<ipython-input-2-872ebd74c558>\", line 26, in search_instagram_tag\n",
      "    if insta_post['location']['latitude'] != None and insta_post['location']['longitude'] != None:\n",
      "KeyError: 'latitude'\n",
      "Traceback (most recent call last):\n"
     ]
    },
    {
     "name": "stdout",
     "output_type": "stream",
     "text": [
      "\n",
      "caught error in body, continuing: 'latitude'"
     ]
    },
    {
     "name": "stderr",
     "output_type": "stream",
     "text": [
      "  File \"<ipython-input-2-872ebd74c558>\", line 26, in search_instagram_tag\n",
      "    if insta_post['location']['latitude'] != None and insta_post['location']['longitude'] != None:\n",
      "KeyError: 'latitude'\n",
      "Traceback (most recent call last):\n"
     ]
    },
    {
     "name": "stdout",
     "output_type": "stream",
     "text": [
      "\n",
      "caught error in body, continuing: 'latitude'"
     ]
    },
    {
     "name": "stderr",
     "output_type": "stream",
     "text": [
      "  File \"<ipython-input-2-872ebd74c558>\", line 26, in search_instagram_tag\n",
      "    if insta_post['location']['latitude'] != None and insta_post['location']['longitude'] != None:\n",
      "KeyError: 'latitude'\n",
      "Traceback (most recent call last):\n"
     ]
    },
    {
     "name": "stdout",
     "output_type": "stream",
     "text": [
      "\n",
      "Searching: streetmusician\n",
      "caught error in body, continuing: 'latitude'"
     ]
    },
    {
     "name": "stderr",
     "output_type": "stream",
     "text": [
      "  File \"<ipython-input-2-872ebd74c558>\", line 26, in search_instagram_tag\n",
      "    if insta_post['location']['latitude'] != None and insta_post['location']['longitude'] != None:\n",
      "KeyError: 'latitude'\n",
      "Traceback (most recent call last):\n"
     ]
    },
    {
     "name": "stdout",
     "output_type": "stream",
     "text": [
      "\n",
      "caught error in body, continuing: 'latitude'"
     ]
    },
    {
     "name": "stderr",
     "output_type": "stream",
     "text": [
      "  File \"<ipython-input-2-872ebd74c558>\", line 26, in search_instagram_tag\n",
      "    if insta_post['location']['latitude'] != None and insta_post['location']['longitude'] != None:\n",
      "KeyError: 'latitude'\n",
      "Traceback (most recent call last):\n"
     ]
    },
    {
     "name": "stdout",
     "output_type": "stream",
     "text": [
      "\n",
      "caught error in body, continuing: 'NoneType' object has no attribute '__getitem__'"
     ]
    },
    {
     "name": "stderr",
     "output_type": "stream",
     "text": [
      "  File \"<ipython-input-2-872ebd74c558>\", line 26, in search_instagram_tag\n",
      "    if insta_post['location']['latitude'] != None and insta_post['location']['longitude'] != None:\n",
      "KeyError: 'latitude'\n",
      "Traceback (most recent call last):\n"
     ]
    },
    {
     "name": "stdout",
     "output_type": "stream",
     "text": [
      "\n",
      "caught error in body, continuing: 'latitude'"
     ]
    },
    {
     "name": "stderr",
     "output_type": "stream",
     "text": [
      "  File \"<ipython-input-2-872ebd74c558>\", line 28, in search_instagram_tag\n",
      "    int(insta_post['caption']['created_time'])\n",
      "TypeError: 'NoneType' object has no attribute '__getitem__'\n",
      "Traceback (most recent call last):\n"
     ]
    },
    {
     "name": "stdout",
     "output_type": "stream",
     "text": [
      "\n",
      "caught error in body, continuing: 'latitude'"
     ]
    },
    {
     "name": "stderr",
     "output_type": "stream",
     "text": [
      "  File \"<ipython-input-2-872ebd74c558>\", line 26, in search_instagram_tag\n",
      "    if insta_post['location']['latitude'] != None and insta_post['location']['longitude'] != None:\n",
      "KeyError: 'latitude'\n",
      "Traceback (most recent call last):\n"
     ]
    },
    {
     "name": "stdout",
     "output_type": "stream",
     "text": [
      "\n",
      "caught error in body, continuing: 'latitude'\n",
      "caught error in body, continuing: 'latitude'"
     ]
    },
    {
     "name": "stderr",
     "output_type": "stream",
     "text": [
      "  File \"<ipython-input-2-872ebd74c558>\", line 26, in search_instagram_tag\n",
      "    if insta_post['location']['latitude'] != None and insta_post['location']['longitude'] != None:\n",
      "KeyError: 'latitude'\n",
      "Traceback (most recent call last):\n",
      "  File \"<ipython-input-2-872ebd74c558>\", line 26, in search_instagram_tag\n",
      "    if insta_post['location']['latitude'] != None and insta_post['location']['longitude'] != None:\n",
      "KeyError: 'latitude'\n",
      "Traceback (most recent call last):\n"
     ]
    },
    {
     "name": "stdout",
     "output_type": "stream",
     "text": [
      "\n",
      "caught error in body, continuing: 'latitude'"
     ]
    },
    {
     "name": "stderr",
     "output_type": "stream",
     "text": [
      "  File \"<ipython-input-2-872ebd74c558>\", line 26, in search_instagram_tag\n",
      "    if insta_post['location']['latitude'] != None and insta_post['location']['longitude'] != None:\n",
      "KeyError: 'latitude'\n",
      "Traceback (most recent call last):\n"
     ]
    },
    {
     "name": "stdout",
     "output_type": "stream",
     "text": [
      "\n",
      "Searching: streetmusicians\n",
      "caught error in body, continuing: 'latitude'"
     ]
    },
    {
     "name": "stderr",
     "output_type": "stream",
     "text": [
      "  File \"<ipython-input-2-872ebd74c558>\", line 26, in search_instagram_tag\n",
      "    if insta_post['location']['latitude'] != None and insta_post['location']['longitude'] != None:\n",
      "KeyError: 'latitude'\n",
      "Traceback (most recent call last):\n"
     ]
    },
    {
     "name": "stdout",
     "output_type": "stream",
     "text": [
      "\n",
      "caught error in body, continuing: 'NoneType' object has no attribute '__getitem__'"
     ]
    },
    {
     "name": "stderr",
     "output_type": "stream",
     "text": [
      "  File \"<ipython-input-2-872ebd74c558>\", line 26, in search_instagram_tag\n",
      "    if insta_post['location']['latitude'] != None and insta_post['location']['longitude'] != None:\n",
      "KeyError: 'latitude'\n",
      "Traceback (most recent call last):\n"
     ]
    },
    {
     "name": "stdout",
     "output_type": "stream",
     "text": [
      "\n",
      "caught error in body, continuing: 'NoneType' object has no attribute '__getitem__'"
     ]
    },
    {
     "name": "stderr",
     "output_type": "stream",
     "text": [
      "  File \"<ipython-input-2-872ebd74c558>\", line 28, in search_instagram_tag\n",
      "    int(insta_post['caption']['created_time'])\n",
      "TypeError: 'NoneType' object has no attribute '__getitem__'\n",
      "Traceback (most recent call last):\n"
     ]
    },
    {
     "name": "stdout",
     "output_type": "stream",
     "text": [
      "\n",
      "caught error in body, continuing: 'latitude'"
     ]
    },
    {
     "name": "stderr",
     "output_type": "stream",
     "text": [
      "  File \"<ipython-input-2-872ebd74c558>\", line 28, in search_instagram_tag\n",
      "    int(insta_post['caption']['created_time'])\n",
      "TypeError: 'NoneType' object has no attribute '__getitem__'\n",
      "Traceback (most recent call last):\n"
     ]
    },
    {
     "name": "stdout",
     "output_type": "stream",
     "text": [
      "\n",
      "caught error in body, continuing: 'latitude'"
     ]
    },
    {
     "name": "stderr",
     "output_type": "stream",
     "text": [
      "  File \"<ipython-input-2-872ebd74c558>\", line 26, in search_instagram_tag\n",
      "    if insta_post['location']['latitude'] != None and insta_post['location']['longitude'] != None:\n",
      "KeyError: 'latitude'\n",
      "Traceback (most recent call last):\n"
     ]
    },
    {
     "name": "stdout",
     "output_type": "stream",
     "text": [
      "\n",
      "Searching: streetperformer\n",
      "caught error in body, continuing: 'latitude'"
     ]
    },
    {
     "name": "stderr",
     "output_type": "stream",
     "text": [
      "  File \"<ipython-input-2-872ebd74c558>\", line 26, in search_instagram_tag\n",
      "    if insta_post['location']['latitude'] != None and insta_post['location']['longitude'] != None:\n",
      "KeyError: 'latitude'\n",
      "Traceback (most recent call last):\n"
     ]
    },
    {
     "name": "stdout",
     "output_type": "stream",
     "text": [
      "\n",
      "caught error in body, continuing: 'latitude'"
     ]
    },
    {
     "name": "stderr",
     "output_type": "stream",
     "text": [
      "  File \"<ipython-input-2-872ebd74c558>\", line 26, in search_instagram_tag\n",
      "    if insta_post['location']['latitude'] != None and insta_post['location']['longitude'] != None:\n",
      "KeyError: 'latitude'\n",
      "Traceback (most recent call last):\n"
     ]
    },
    {
     "name": "stdout",
     "output_type": "stream",
     "text": [
      "\n",
      "caught error in body, continuing: 'latitude'"
     ]
    },
    {
     "name": "stderr",
     "output_type": "stream",
     "text": [
      "  File \"<ipython-input-2-872ebd74c558>\", line 26, in search_instagram_tag\n",
      "    if insta_post['location']['latitude'] != None and insta_post['location']['longitude'] != None:\n",
      "KeyError: 'latitude'\n",
      "Traceback (most recent call last):\n"
     ]
    },
    {
     "name": "stdout",
     "output_type": "stream",
     "text": [
      "\n",
      "caught error in body, continuing: 'latitude'"
     ]
    },
    {
     "name": "stderr",
     "output_type": "stream",
     "text": [
      "  File \"<ipython-input-2-872ebd74c558>\", line 26, in search_instagram_tag\n",
      "    if insta_post['location']['latitude'] != None and insta_post['location']['longitude'] != None:\n",
      "KeyError: 'latitude'\n",
      "Traceback (most recent call last):\n"
     ]
    },
    {
     "name": "stdout",
     "output_type": "stream",
     "text": [
      "\n",
      "caught error in body, continuing: 'latitude'"
     ]
    },
    {
     "name": "stderr",
     "output_type": "stream",
     "text": [
      "  File \"<ipython-input-2-872ebd74c558>\", line 26, in search_instagram_tag\n",
      "    if insta_post['location']['latitude'] != None and insta_post['location']['longitude'] != None:\n",
      "KeyError: 'latitude'\n",
      "Traceback (most recent call last):\n"
     ]
    },
    {
     "name": "stdout",
     "output_type": "stream",
     "text": [
      "\n",
      "caught error in body, continuing: 'latitude'"
     ]
    },
    {
     "name": "stderr",
     "output_type": "stream",
     "text": [
      "  File \"<ipython-input-2-872ebd74c558>\", line 26, in search_instagram_tag\n",
      "    if insta_post['location']['latitude'] != None and insta_post['location']['longitude'] != None:\n",
      "KeyError: 'latitude'\n",
      "Traceback (most recent call last):\n"
     ]
    },
    {
     "name": "stdout",
     "output_type": "stream",
     "text": [
      "\n",
      "caught error in body, continuing: 'latitude'"
     ]
    },
    {
     "name": "stderr",
     "output_type": "stream",
     "text": [
      "  File \"<ipython-input-2-872ebd74c558>\", line 26, in search_instagram_tag\n",
      "    if insta_post['location']['latitude'] != None and insta_post['location']['longitude'] != None:\n",
      "KeyError: 'latitude'\n",
      "Traceback (most recent call last):\n"
     ]
    },
    {
     "name": "stdout",
     "output_type": "stream",
     "text": [
      "\n",
      "caught error in body, continuing: 'latitude'"
     ]
    },
    {
     "name": "stderr",
     "output_type": "stream",
     "text": [
      "  File \"<ipython-input-2-872ebd74c558>\", line 26, in search_instagram_tag\n",
      "    if insta_post['location']['latitude'] != None and insta_post['location']['longitude'] != None:\n",
      "KeyError: 'latitude'\n",
      "Traceback (most recent call last):\n"
     ]
    },
    {
     "name": "stdout",
     "output_type": "stream",
     "text": [
      "\n",
      "caught error in body, continuing: 'latitude'"
     ]
    },
    {
     "name": "stderr",
     "output_type": "stream",
     "text": [
      "  File \"<ipython-input-2-872ebd74c558>\", line 26, in search_instagram_tag\n",
      "    if insta_post['location']['latitude'] != None and insta_post['location']['longitude'] != None:\n",
      "KeyError: 'latitude'\n",
      "Traceback (most recent call last):\n"
     ]
    },
    {
     "name": "stdout",
     "output_type": "stream",
     "text": [
      "\n",
      "caught error in body, continuing: 'latitude'"
     ]
    },
    {
     "name": "stderr",
     "output_type": "stream",
     "text": [
      "  File \"<ipython-input-2-872ebd74c558>\", line 26, in search_instagram_tag\n",
      "    if insta_post['location']['latitude'] != None and insta_post['location']['longitude'] != None:\n",
      "KeyError: 'latitude'\n",
      "Traceback (most recent call last):\n"
     ]
    },
    {
     "name": "stdout",
     "output_type": "stream",
     "text": [
      "\n",
      "caught error in body, continuing: 'latitude'"
     ]
    },
    {
     "name": "stderr",
     "output_type": "stream",
     "text": [
      "  File \"<ipython-input-2-872ebd74c558>\", line 26, in search_instagram_tag\n",
      "    if insta_post['location']['latitude'] != None and insta_post['location']['longitude'] != None:\n",
      "KeyError: 'latitude'\n",
      "Traceback (most recent call last):\n"
     ]
    },
    {
     "name": "stdout",
     "output_type": "stream",
     "text": [
      "\n",
      "caught error in body, continuing: 'latitude'"
     ]
    },
    {
     "name": "stderr",
     "output_type": "stream",
     "text": [
      "  File \"<ipython-input-2-872ebd74c558>\", line 26, in search_instagram_tag\n",
      "    if insta_post['location']['latitude'] != None and insta_post['location']['longitude'] != None:\n",
      "KeyError: 'latitude'\n",
      "Traceback (most recent call last):\n"
     ]
    },
    {
     "name": "stdout",
     "output_type": "stream",
     "text": [
      "\n",
      "caught error in body, continuing: 'latitude'"
     ]
    },
    {
     "name": "stderr",
     "output_type": "stream",
     "text": [
      "  File \"<ipython-input-2-872ebd74c558>\", line 26, in search_instagram_tag\n",
      "    if insta_post['location']['latitude'] != None and insta_post['location']['longitude'] != None:\n",
      "KeyError: 'latitude'\n",
      "Traceback (most recent call last):\n"
     ]
    },
    {
     "name": "stdout",
     "output_type": "stream",
     "text": [
      "\n",
      "caught error in body, continuing: 'latitude'"
     ]
    },
    {
     "name": "stderr",
     "output_type": "stream",
     "text": [
      "  File \"<ipython-input-2-872ebd74c558>\", line 26, in search_instagram_tag\n",
      "    if insta_post['location']['latitude'] != None and insta_post['location']['longitude'] != None:\n",
      "KeyError: 'latitude'\n",
      "Traceback (most recent call last):\n"
     ]
    },
    {
     "name": "stdout",
     "output_type": "stream",
     "text": [
      "\n",
      "caught error in body, continuing: 'latitude'"
     ]
    },
    {
     "name": "stderr",
     "output_type": "stream",
     "text": [
      "  File \"<ipython-input-2-872ebd74c558>\", line 26, in search_instagram_tag\n",
      "    if insta_post['location']['latitude'] != None and insta_post['location']['longitude'] != None:\n",
      "KeyError: 'latitude'\n",
      "Traceback (most recent call last):\n"
     ]
    },
    {
     "name": "stdout",
     "output_type": "stream",
     "text": [
      "\n",
      "caught error in body, continuing: 'latitude'"
     ]
    },
    {
     "name": "stderr",
     "output_type": "stream",
     "text": [
      "  File \"<ipython-input-2-872ebd74c558>\", line 26, in search_instagram_tag\n",
      "    if insta_post['location']['latitude'] != None and insta_post['location']['longitude'] != None:\n",
      "KeyError: 'latitude'\n",
      "Traceback (most recent call last):\n"
     ]
    },
    {
     "name": "stdout",
     "output_type": "stream",
     "text": [
      "\n",
      "caught error in body, continuing: 'latitude'"
     ]
    },
    {
     "name": "stderr",
     "output_type": "stream",
     "text": [
      "  File \"<ipython-input-2-872ebd74c558>\", line 26, in search_instagram_tag\n",
      "    if insta_post['location']['latitude'] != None and insta_post['location']['longitude'] != None:\n",
      "KeyError: 'latitude'\n",
      "Traceback (most recent call last):\n"
     ]
    },
    {
     "name": "stdout",
     "output_type": "stream",
     "text": [
      "\n",
      "caught error in body, continuing: 'latitude'"
     ]
    },
    {
     "name": "stderr",
     "output_type": "stream",
     "text": [
      "  File \"<ipython-input-2-872ebd74c558>\", line 26, in search_instagram_tag\n",
      "    if insta_post['location']['latitude'] != None and insta_post['location']['longitude'] != None:\n",
      "KeyError: 'latitude'\n",
      "Traceback (most recent call last):\n"
     ]
    },
    {
     "name": "stdout",
     "output_type": "stream",
     "text": [
      "\n",
      "caught error in body, continuing: 'latitude'"
     ]
    },
    {
     "name": "stderr",
     "output_type": "stream",
     "text": [
      "  File \"<ipython-input-2-872ebd74c558>\", line 26, in search_instagram_tag\n",
      "    if insta_post['location']['latitude'] != None and insta_post['location']['longitude'] != None:\n",
      "KeyError: 'latitude'\n",
      "Traceback (most recent call last):\n"
     ]
    },
    {
     "name": "stdout",
     "output_type": "stream",
     "text": [
      "\n",
      "caught error in body, continuing: 'latitude'"
     ]
    },
    {
     "name": "stderr",
     "output_type": "stream",
     "text": [
      "  File \"<ipython-input-2-872ebd74c558>\", line 26, in search_instagram_tag\n",
      "    if insta_post['location']['latitude'] != None and insta_post['location']['longitude'] != None:\n",
      "KeyError: 'latitude'\n",
      "Traceback (most recent call last):\n"
     ]
    },
    {
     "name": "stdout",
     "output_type": "stream",
     "text": [
      "\n",
      "caught error in body, continuing: 'latitude'"
     ]
    },
    {
     "name": "stderr",
     "output_type": "stream",
     "text": [
      "  File \"<ipython-input-2-872ebd74c558>\", line 26, in search_instagram_tag\n",
      "    if insta_post['location']['latitude'] != None and insta_post['location']['longitude'] != None:\n",
      "KeyError: 'latitude'\n",
      "Traceback (most recent call last):\n"
     ]
    },
    {
     "name": "stdout",
     "output_type": "stream",
     "text": [
      "\n",
      "caught error in body, continuing: 'latitude'"
     ]
    },
    {
     "name": "stderr",
     "output_type": "stream",
     "text": [
      "  File \"<ipython-input-2-872ebd74c558>\", line 26, in search_instagram_tag\n",
      "    if insta_post['location']['latitude'] != None and insta_post['location']['longitude'] != None:\n",
      "KeyError: 'latitude'\n",
      "Traceback (most recent call last):\n"
     ]
    },
    {
     "name": "stdout",
     "output_type": "stream",
     "text": [
      "\n",
      "caught error in body, continuing: 'latitude'"
     ]
    },
    {
     "name": "stderr",
     "output_type": "stream",
     "text": [
      "  File \"<ipython-input-2-872ebd74c558>\", line 26, in search_instagram_tag\n",
      "    if insta_post['location']['latitude'] != None and insta_post['location']['longitude'] != None:\n",
      "KeyError: 'latitude'\n",
      "Traceback (most recent call last):\n"
     ]
    },
    {
     "name": "stdout",
     "output_type": "stream",
     "text": [
      "\n",
      "caught error in body, continuing: 'latitude'"
     ]
    },
    {
     "name": "stderr",
     "output_type": "stream",
     "text": [
      "  File \"<ipython-input-2-872ebd74c558>\", line 26, in search_instagram_tag\n",
      "    if insta_post['location']['latitude'] != None and insta_post['location']['longitude'] != None:\n",
      "KeyError: 'latitude'\n",
      "Traceback (most recent call last):\n"
     ]
    },
    {
     "name": "stdout",
     "output_type": "stream",
     "text": [
      "\n",
      "caught error in body, continuing: 'latitude'"
     ]
    },
    {
     "name": "stderr",
     "output_type": "stream",
     "text": [
      "  File \"<ipython-input-2-872ebd74c558>\", line 26, in search_instagram_tag\n",
      "    if insta_post['location']['latitude'] != None and insta_post['location']['longitude'] != None:\n",
      "KeyError: 'latitude'\n",
      "Traceback (most recent call last):\n"
     ]
    },
    {
     "name": "stdout",
     "output_type": "stream",
     "text": [
      "\n",
      "caught error in body, continuing: 'latitude'"
     ]
    },
    {
     "name": "stderr",
     "output_type": "stream",
     "text": [
      "  File \"<ipython-input-2-872ebd74c558>\", line 26, in search_instagram_tag\n",
      "    if insta_post['location']['latitude'] != None and insta_post['location']['longitude'] != None:\n",
      "KeyError: 'latitude'\n",
      "Traceback (most recent call last):\n"
     ]
    },
    {
     "name": "stdout",
     "output_type": "stream",
     "text": [
      "\n",
      "Searching: streetperformers\n",
      "caught error in body, continuing: 'latitude'"
     ]
    },
    {
     "name": "stderr",
     "output_type": "stream",
     "text": [
      "  File \"<ipython-input-2-872ebd74c558>\", line 26, in search_instagram_tag\n",
      "    if insta_post['location']['latitude'] != None and insta_post['location']['longitude'] != None:\n",
      "KeyError: 'latitude'\n",
      "Traceback (most recent call last):\n"
     ]
    },
    {
     "name": "stdout",
     "output_type": "stream",
     "text": [
      "\n",
      "caught error in body, continuing: 'NoneType' object has no attribute '__getitem__'"
     ]
    },
    {
     "name": "stderr",
     "output_type": "stream",
     "text": [
      "  File \"<ipython-input-2-872ebd74c558>\", line 26, in search_instagram_tag\n",
      "    if insta_post['location']['latitude'] != None and insta_post['location']['longitude'] != None:\n",
      "KeyError: 'latitude'\n",
      "Traceback (most recent call last):\n"
     ]
    },
    {
     "name": "stdout",
     "output_type": "stream",
     "text": [
      "\n",
      "caught error in body, continuing: 'latitude'"
     ]
    },
    {
     "name": "stderr",
     "output_type": "stream",
     "text": [
      "  File \"<ipython-input-2-872ebd74c558>\", line 28, in search_instagram_tag\n",
      "    int(insta_post['caption']['created_time'])\n",
      "TypeError: 'NoneType' object has no attribute '__getitem__'\n",
      "Traceback (most recent call last):\n"
     ]
    },
    {
     "name": "stdout",
     "output_type": "stream",
     "text": [
      "\n",
      "caught error in body, continuing: 'latitude'"
     ]
    },
    {
     "name": "stderr",
     "output_type": "stream",
     "text": [
      "  File \"<ipython-input-2-872ebd74c558>\", line 26, in search_instagram_tag\n",
      "    if insta_post['location']['latitude'] != None and insta_post['location']['longitude'] != None:\n",
      "KeyError: 'latitude'\n",
      "Traceback (most recent call last):\n"
     ]
    },
    {
     "name": "stdout",
     "output_type": "stream",
     "text": [
      "\n",
      "caught error in body, continuing: 'latitude'"
     ]
    },
    {
     "name": "stderr",
     "output_type": "stream",
     "text": [
      "  File \"<ipython-input-2-872ebd74c558>\", line 26, in search_instagram_tag\n",
      "    if insta_post['location']['latitude'] != None and insta_post['location']['longitude'] != None:\n",
      "KeyError: 'latitude'\n",
      "Traceback (most recent call last):\n"
     ]
    },
    {
     "name": "stdout",
     "output_type": "stream",
     "text": [
      "\n",
      "caught error in body, continuing: 'latitude'"
     ]
    },
    {
     "name": "stderr",
     "output_type": "stream",
     "text": [
      "  File \"<ipython-input-2-872ebd74c558>\", line 26, in search_instagram_tag\n",
      "    if insta_post['location']['latitude'] != None and insta_post['location']['longitude'] != None:\n",
      "KeyError: 'latitude'\n",
      "Traceback (most recent call last):\n"
     ]
    },
    {
     "name": "stdout",
     "output_type": "stream",
     "text": [
      "\n",
      "caught error in body, continuing: 'latitude'"
     ]
    },
    {
     "name": "stderr",
     "output_type": "stream",
     "text": [
      "  File \"<ipython-input-2-872ebd74c558>\", line 26, in search_instagram_tag\n",
      "    if insta_post['location']['latitude'] != None and insta_post['location']['longitude'] != None:\n",
      "KeyError: 'latitude'\n",
      "Traceback (most recent call last):\n"
     ]
    },
    {
     "name": "stdout",
     "output_type": "stream",
     "text": [
      "\n",
      "Searching: streetlife\n",
      "caught error in body, continuing: 'NoneType' object has no attribute '__getitem__'"
     ]
    },
    {
     "name": "stderr",
     "output_type": "stream",
     "text": [
      "  File \"<ipython-input-2-872ebd74c558>\", line 26, in search_instagram_tag\n",
      "    if insta_post['location']['latitude'] != None and insta_post['location']['longitude'] != None:\n",
      "KeyError: 'latitude'\n",
      "Traceback (most recent call last):\n"
     ]
    },
    {
     "name": "stdout",
     "output_type": "stream",
     "text": [
      "\n",
      "caught error in body, continuing: 'NoneType' object has no attribute '__getitem__'"
     ]
    },
    {
     "name": "stderr",
     "output_type": "stream",
     "text": [
      "  File \"<ipython-input-2-872ebd74c558>\", line 28, in search_instagram_tag\n",
      "    int(insta_post['caption']['created_time'])\n",
      "TypeError: 'NoneType' object has no attribute '__getitem__'\n",
      "Traceback (most recent call last):\n"
     ]
    },
    {
     "name": "stdout",
     "output_type": "stream",
     "text": [
      "\n",
      "caught error in body, continuing: 'NoneType' object has no attribute '__getitem__'"
     ]
    },
    {
     "name": "stderr",
     "output_type": "stream",
     "text": [
      "  File \"<ipython-input-2-872ebd74c558>\", line 28, in search_instagram_tag\n",
      "    int(insta_post['caption']['created_time'])\n",
      "TypeError: 'NoneType' object has no attribute '__getitem__'\n",
      "Traceback (most recent call last):\n"
     ]
    },
    {
     "name": "stdout",
     "output_type": "stream",
     "text": [
      "\n",
      "caught error in body, continuing: 'NoneType' object has no attribute '__getitem__'"
     ]
    },
    {
     "name": "stderr",
     "output_type": "stream",
     "text": [
      "  File \"<ipython-input-2-872ebd74c558>\", line 28, in search_instagram_tag\n",
      "    int(insta_post['caption']['created_time'])\n",
      "TypeError: 'NoneType' object has no attribute '__getitem__'\n",
      "Traceback (most recent call last):\n"
     ]
    },
    {
     "name": "stdout",
     "output_type": "stream",
     "text": [
      "\n",
      "caught error in body, continuing: 'NoneType' object has no attribute '__getitem__'"
     ]
    },
    {
     "name": "stderr",
     "output_type": "stream",
     "text": [
      "  File \"<ipython-input-2-872ebd74c558>\", line 28, in search_instagram_tag\n",
      "    int(insta_post['caption']['created_time'])\n",
      "TypeError: 'NoneType' object has no attribute '__getitem__'\n",
      "Traceback (most recent call last):\n"
     ]
    },
    {
     "name": "stdout",
     "output_type": "stream",
     "text": [
      "\n",
      "caught error in body, continuing: 'NoneType' object has no attribute '__getitem__'"
     ]
    },
    {
     "name": "stderr",
     "output_type": "stream",
     "text": [
      "  File \"<ipython-input-2-872ebd74c558>\", line 28, in search_instagram_tag\n",
      "    int(insta_post['caption']['created_time'])\n",
      "TypeError: 'NoneType' object has no attribute '__getitem__'\n",
      "Traceback (most recent call last):\n"
     ]
    },
    {
     "name": "stdout",
     "output_type": "stream",
     "text": [
      "\n",
      "caught error in body, continuing: 'NoneType' object has no attribute '__getitem__'"
     ]
    },
    {
     "name": "stderr",
     "output_type": "stream",
     "text": [
      "  File \"<ipython-input-2-872ebd74c558>\", line 28, in search_instagram_tag\n",
      "    int(insta_post['caption']['created_time'])\n",
      "TypeError: 'NoneType' object has no attribute '__getitem__'\n",
      "Traceback (most recent call last):\n"
     ]
    },
    {
     "name": "stdout",
     "output_type": "stream",
     "text": [
      "\n",
      "caught error in body, continuing: 'NoneType' object has no attribute '__getitem__'"
     ]
    },
    {
     "name": "stderr",
     "output_type": "stream",
     "text": [
      "  File \"<ipython-input-2-872ebd74c558>\", line 28, in search_instagram_tag\n",
      "    int(insta_post['caption']['created_time'])\n",
      "TypeError: 'NoneType' object has no attribute '__getitem__'\n",
      "Traceback (most recent call last):\n"
     ]
    },
    {
     "name": "stdout",
     "output_type": "stream",
     "text": [
      "\n",
      "caught error in body, continuing: 'NoneType' object has no attribute '__getitem__'"
     ]
    },
    {
     "name": "stderr",
     "output_type": "stream",
     "text": [
      "  File \"<ipython-input-2-872ebd74c558>\", line 28, in search_instagram_tag\n",
      "    int(insta_post['caption']['created_time'])\n",
      "TypeError: 'NoneType' object has no attribute '__getitem__'\n",
      "Traceback (most recent call last):\n"
     ]
    },
    {
     "name": "stdout",
     "output_type": "stream",
     "text": [
      "\n",
      "caught error in body, continuing: 'latitude'"
     ]
    },
    {
     "name": "stderr",
     "output_type": "stream",
     "text": [
      "  File \"<ipython-input-2-872ebd74c558>\", line 28, in search_instagram_tag\n",
      "    int(insta_post['caption']['created_time'])\n",
      "TypeError: 'NoneType' object has no attribute '__getitem__'\n",
      "Traceback (most recent call last):\n"
     ]
    },
    {
     "name": "stdout",
     "output_type": "stream",
     "text": [
      "\n",
      "caught error in body, continuing: 'latitude'"
     ]
    },
    {
     "name": "stderr",
     "output_type": "stream",
     "text": [
      "  File \"<ipython-input-2-872ebd74c558>\", line 26, in search_instagram_tag\n",
      "    if insta_post['location']['latitude'] != None and insta_post['location']['longitude'] != None:\n",
      "KeyError: 'latitude'\n",
      "Traceback (most recent call last):\n"
     ]
    },
    {
     "name": "stdout",
     "output_type": "stream",
     "text": [
      "\n",
      "caught error in body, continuing: 'latitude'\n",
      "caught error in body, continuing: 'latitude'\n",
      "caught error in body, continuing: 'latitude'\n",
      "caught error in body, continuing: 'latitude'\n",
      "caught error in body, continuing: 'latitude'"
     ]
    },
    {
     "name": "stderr",
     "output_type": "stream",
     "text": [
      "  File \"<ipython-input-2-872ebd74c558>\", line 26, in search_instagram_tag\n",
      "    if insta_post['location']['latitude'] != None and insta_post['location']['longitude'] != None:\n",
      "KeyError: 'latitude'\n",
      "Traceback (most recent call last):\n",
      "  File \"<ipython-input-2-872ebd74c558>\", line 26, in search_instagram_tag\n",
      "    if insta_post['location']['latitude'] != None and insta_post['location']['longitude'] != None:\n",
      "KeyError: 'latitude'\n",
      "Traceback (most recent call last):\n",
      "  File \"<ipython-input-2-872ebd74c558>\", line 26, in search_instagram_tag\n",
      "    if insta_post['location']['latitude'] != None and insta_post['location']['longitude'] != None:\n",
      "KeyError: 'latitude'\n",
      "Traceback (most recent call last):\n",
      "  File \"<ipython-input-2-872ebd74c558>\", line 26, in search_instagram_tag\n",
      "    if insta_post['location']['latitude'] != None and insta_post['location']['longitude'] != None:\n",
      "KeyError: 'latitude'\n",
      "Traceback (most recent call last):\n",
      "  File \"<ipython-input-2-872ebd74c558>\", line 26, in search_instagram_tag\n",
      "    if insta_post['location']['latitude'] != None and insta_post['location']['longitude'] != None:\n",
      "KeyError: 'latitude'\n",
      "Traceback (most recent call last):\n"
     ]
    },
    {
     "name": "stdout",
     "output_type": "stream",
     "text": [
      "\n",
      "caught error in body, continuing: 'latitude'"
     ]
    },
    {
     "name": "stderr",
     "output_type": "stream",
     "text": [
      "  File \"<ipython-input-2-872ebd74c558>\", line 26, in search_instagram_tag\n",
      "    if insta_post['location']['latitude'] != None and insta_post['location']['longitude'] != None:\n",
      "KeyError: 'latitude'\n",
      "Traceback (most recent call last):\n"
     ]
    },
    {
     "name": "stdout",
     "output_type": "stream",
     "text": [
      "\n",
      "caught error in body, continuing: 'latitude'"
     ]
    },
    {
     "name": "stderr",
     "output_type": "stream",
     "text": [
      "  File \"<ipython-input-2-872ebd74c558>\", line 26, in search_instagram_tag\n",
      "    if insta_post['location']['latitude'] != None and insta_post['location']['longitude'] != None:\n",
      "KeyError: 'latitude'\n",
      "Traceback (most recent call last):\n"
     ]
    },
    {
     "name": "stdout",
     "output_type": "stream",
     "text": [
      "\n",
      "caught error in body, continuing: 'latitude'"
     ]
    },
    {
     "name": "stderr",
     "output_type": "stream",
     "text": [
      "  File \"<ipython-input-2-872ebd74c558>\", line 26, in search_instagram_tag\n",
      "    if insta_post['location']['latitude'] != None and insta_post['location']['longitude'] != None:\n",
      "KeyError: 'latitude'\n",
      "Traceback (most recent call last):\n"
     ]
    },
    {
     "name": "stdout",
     "output_type": "stream",
     "text": [
      "\n",
      "caught error in body, continuing: 'NoneType' object has no attribute '__getitem__'"
     ]
    },
    {
     "name": "stderr",
     "output_type": "stream",
     "text": [
      "  File \"<ipython-input-2-872ebd74c558>\", line 26, in search_instagram_tag\n",
      "    if insta_post['location']['latitude'] != None and insta_post['location']['longitude'] != None:\n",
      "KeyError: 'latitude'\n",
      "Traceback (most recent call last):\n"
     ]
    },
    {
     "name": "stdout",
     "output_type": "stream",
     "text": [
      "\n",
      "caught error in body, continuing: 'latitude'"
     ]
    },
    {
     "name": "stderr",
     "output_type": "stream",
     "text": [
      "  File \"<ipython-input-2-872ebd74c558>\", line 28, in search_instagram_tag\n",
      "    int(insta_post['caption']['created_time'])\n",
      "TypeError: 'NoneType' object has no attribute '__getitem__'\n",
      "Traceback (most recent call last):\n"
     ]
    },
    {
     "name": "stdout",
     "output_type": "stream",
     "text": [
      "\n",
      "caught error in body, continuing: 'latitude'"
     ]
    },
    {
     "name": "stderr",
     "output_type": "stream",
     "text": [
      "  File \"<ipython-input-2-872ebd74c558>\", line 26, in search_instagram_tag\n",
      "    if insta_post['location']['latitude'] != None and insta_post['location']['longitude'] != None:\n",
      "KeyError: 'latitude'\n",
      "Traceback (most recent call last):\n"
     ]
    },
    {
     "name": "stdout",
     "output_type": "stream",
     "text": [
      "\n",
      "caught error in body, continuing: 'latitude'"
     ]
    },
    {
     "name": "stderr",
     "output_type": "stream",
     "text": [
      "  File \"<ipython-input-2-872ebd74c558>\", line 26, in search_instagram_tag\n",
      "    if insta_post['location']['latitude'] != None and insta_post['location']['longitude'] != None:\n",
      "KeyError: 'latitude'\n",
      "Traceback (most recent call last):\n"
     ]
    },
    {
     "name": "stdout",
     "output_type": "stream",
     "text": [
      "\n",
      "caught error in body, continuing: 'latitude'"
     ]
    },
    {
     "name": "stderr",
     "output_type": "stream",
     "text": [
      "  File \"<ipython-input-2-872ebd74c558>\", line 26, in search_instagram_tag\n",
      "    if insta_post['location']['latitude'] != None and insta_post['location']['longitude'] != None:\n",
      "KeyError: 'latitude'\n",
      "Traceback (most recent call last):\n"
     ]
    },
    {
     "name": "stdout",
     "output_type": "stream",
     "text": [
      "\n",
      "caught error in body, continuing: 'latitude'"
     ]
    },
    {
     "name": "stderr",
     "output_type": "stream",
     "text": [
      "  File \"<ipython-input-2-872ebd74c558>\", line 26, in search_instagram_tag\n",
      "    if insta_post['location']['latitude'] != None and insta_post['location']['longitude'] != None:\n",
      "KeyError: 'latitude'\n",
      "Traceback (most recent call last):\n"
     ]
    },
    {
     "name": "stdout",
     "output_type": "stream",
     "text": [
      "\n",
      "caught error in body, continuing: 'NoneType' object has no attribute '__getitem__'"
     ]
    },
    {
     "name": "stderr",
     "output_type": "stream",
     "text": [
      "  File \"<ipython-input-2-872ebd74c558>\", line 26, in search_instagram_tag\n",
      "    if insta_post['location']['latitude'] != None and insta_post['location']['longitude'] != None:\n",
      "KeyError: 'latitude'\n",
      "Traceback (most recent call last):\n"
     ]
    },
    {
     "name": "stdout",
     "output_type": "stream",
     "text": [
      "\n",
      "caught error in body, continuing: 'latitude'"
     ]
    },
    {
     "name": "stderr",
     "output_type": "stream",
     "text": [
      "  File \"<ipython-input-2-872ebd74c558>\", line 28, in search_instagram_tag\n",
      "    int(insta_post['caption']['created_time'])\n",
      "TypeError: 'NoneType' object has no attribute '__getitem__'\n",
      "Traceback (most recent call last):\n"
     ]
    },
    {
     "name": "stdout",
     "output_type": "stream",
     "text": [
      "\n",
      "caught error in body, continuing: 'NoneType' object has no attribute '__getitem__'"
     ]
    },
    {
     "name": "stderr",
     "output_type": "stream",
     "text": [
      "  File \"<ipython-input-2-872ebd74c558>\", line 26, in search_instagram_tag\n",
      "    if insta_post['location']['latitude'] != None and insta_post['location']['longitude'] != None:\n",
      "KeyError: 'latitude'\n",
      "Traceback (most recent call last):\n"
     ]
    },
    {
     "name": "stdout",
     "output_type": "stream",
     "text": [
      "\n",
      "caught error in body, continuing: 'latitude'"
     ]
    },
    {
     "name": "stderr",
     "output_type": "stream",
     "text": [
      "  File \"<ipython-input-2-872ebd74c558>\", line 28, in search_instagram_tag\n",
      "    int(insta_post['caption']['created_time'])\n",
      "TypeError: 'NoneType' object has no attribute '__getitem__'\n",
      "Traceback (most recent call last):\n"
     ]
    },
    {
     "name": "stdout",
     "output_type": "stream",
     "text": [
      "\n",
      "caught error in body, continuing: 'latitude'"
     ]
    },
    {
     "name": "stderr",
     "output_type": "stream",
     "text": [
      "  File \"<ipython-input-2-872ebd74c558>\", line 26, in search_instagram_tag\n",
      "    if insta_post['location']['latitude'] != None and insta_post['location']['longitude'] != None:\n",
      "KeyError: 'latitude'\n",
      "Traceback (most recent call last):\n"
     ]
    },
    {
     "name": "stdout",
     "output_type": "stream",
     "text": [
      "\n",
      "caught error in body, continuing: 'latitude'"
     ]
    },
    {
     "name": "stderr",
     "output_type": "stream",
     "text": [
      "  File \"<ipython-input-2-872ebd74c558>\", line 26, in search_instagram_tag\n",
      "    if insta_post['location']['latitude'] != None and insta_post['location']['longitude'] != None:\n",
      "KeyError: 'latitude'\n",
      "Traceback (most recent call last):\n"
     ]
    },
    {
     "name": "stdout",
     "output_type": "stream",
     "text": [
      "\n",
      "caught error in body, continuing: 'latitude'"
     ]
    },
    {
     "name": "stderr",
     "output_type": "stream",
     "text": [
      "  File \"<ipython-input-2-872ebd74c558>\", line 26, in search_instagram_tag\n",
      "    if insta_post['location']['latitude'] != None and insta_post['location']['longitude'] != None:\n",
      "KeyError: 'latitude'\n",
      "Traceback (most recent call last):\n"
     ]
    },
    {
     "name": "stdout",
     "output_type": "stream",
     "text": [
      "\n",
      "caught error in body, continuing: 'latitude'\n",
      "caught error in body, continuing: 'latitude'"
     ]
    },
    {
     "name": "stderr",
     "output_type": "stream",
     "text": [
      "  File \"<ipython-input-2-872ebd74c558>\", line 26, in search_instagram_tag\n",
      "    if insta_post['location']['latitude'] != None and insta_post['location']['longitude'] != None:\n",
      "KeyError: 'latitude'\n",
      "Traceback (most recent call last):\n",
      "  File \"<ipython-input-2-872ebd74c558>\", line 26, in search_instagram_tag\n",
      "    if insta_post['location']['latitude'] != None and insta_post['location']['longitude'] != None:\n",
      "KeyError: 'latitude'\n",
      "Traceback (most recent call last):\n"
     ]
    },
    {
     "name": "stdout",
     "output_type": "stream",
     "text": [
      "\n",
      "caught error in body, continuing: 'latitude'"
     ]
    },
    {
     "name": "stderr",
     "output_type": "stream",
     "text": [
      "  File \"<ipython-input-2-872ebd74c558>\", line 26, in search_instagram_tag\n",
      "    if insta_post['location']['latitude'] != None and insta_post['location']['longitude'] != None:\n",
      "KeyError: 'latitude'\n",
      "Traceback (most recent call last):\n"
     ]
    },
    {
     "name": "stdout",
     "output_type": "stream",
     "text": [
      "\n",
      "caught error in body, continuing: 'latitude'"
     ]
    },
    {
     "name": "stderr",
     "output_type": "stream",
     "text": [
      "  File \"<ipython-input-2-872ebd74c558>\", line 26, in search_instagram_tag\n",
      "    if insta_post['location']['latitude'] != None and insta_post['location']['longitude'] != None:\n",
      "KeyError: 'latitude'\n",
      "Traceback (most recent call last):\n"
     ]
    },
    {
     "name": "stdout",
     "output_type": "stream",
     "text": [
      "\n",
      "caught error in body, continuing: 'latitude'\n",
      "caught error in body, continuing: 'latitude'\n",
      "caught error in body, continuing: 'latitude'\n",
      "caught error in body, continuing: 'latitude'"
     ]
    },
    {
     "name": "stderr",
     "output_type": "stream",
     "text": [
      "  File \"<ipython-input-2-872ebd74c558>\", line 26, in search_instagram_tag\n",
      "    if insta_post['location']['latitude'] != None and insta_post['location']['longitude'] != None:\n",
      "KeyError: 'latitude'\n",
      "Traceback (most recent call last):\n",
      "  File \"<ipython-input-2-872ebd74c558>\", line 26, in search_instagram_tag\n",
      "    if insta_post['location']['latitude'] != None and insta_post['location']['longitude'] != None:\n",
      "KeyError: 'latitude'\n",
      "Traceback (most recent call last):\n",
      "  File \"<ipython-input-2-872ebd74c558>\", line 26, in search_instagram_tag\n",
      "    if insta_post['location']['latitude'] != None and insta_post['location']['longitude'] != None:\n",
      "KeyError: 'latitude'\n",
      "Traceback (most recent call last):\n",
      "  File \"<ipython-input-2-872ebd74c558>\", line 26, in search_instagram_tag\n",
      "    if insta_post['location']['latitude'] != None and insta_post['location']['longitude'] != None:\n",
      "KeyError: 'latitude'\n",
      "Traceback (most recent call last):\n"
     ]
    },
    {
     "name": "stdout",
     "output_type": "stream",
     "text": [
      "\n",
      "caught error in body, continuing: 'latitude'"
     ]
    },
    {
     "name": "stderr",
     "output_type": "stream",
     "text": [
      "  File \"<ipython-input-2-872ebd74c558>\", line 26, in search_instagram_tag\n",
      "    if insta_post['location']['latitude'] != None and insta_post['location']['longitude'] != None:\n",
      "KeyError: 'latitude'\n",
      "Traceback (most recent call last):\n"
     ]
    },
    {
     "name": "stdout",
     "output_type": "stream",
     "text": [
      "\n",
      "caught error in body, continuing: 'latitude'\n",
      "caught error in body, continuing: 'latitude'"
     ]
    },
    {
     "name": "stderr",
     "output_type": "stream",
     "text": [
      "  File \"<ipython-input-2-872ebd74c558>\", line 26, in search_instagram_tag\n",
      "    if insta_post['location']['latitude'] != None and insta_post['location']['longitude'] != None:\n",
      "KeyError: 'latitude'\n",
      "Traceback (most recent call last):\n",
      "  File \"<ipython-input-2-872ebd74c558>\", line 26, in search_instagram_tag\n",
      "    if insta_post['location']['latitude'] != None and insta_post['location']['longitude'] != None:\n",
      "KeyError: 'latitude'\n",
      "Traceback (most recent call last):\n"
     ]
    },
    {
     "name": "stdout",
     "output_type": "stream",
     "text": [
      "\n",
      "caught error in body, continuing: 'NoneType' object has no attribute '__getitem__'"
     ]
    },
    {
     "name": "stderr",
     "output_type": "stream",
     "text": [
      "  File \"<ipython-input-2-872ebd74c558>\", line 26, in search_instagram_tag\n",
      "    if insta_post['location']['latitude'] != None and insta_post['location']['longitude'] != None:\n",
      "KeyError: 'latitude'\n",
      "Traceback (most recent call last):\n"
     ]
    },
    {
     "name": "stdout",
     "output_type": "stream",
     "text": [
      "\n",
      "caught error in body, continuing: 'NoneType' object has no attribute '__getitem__'"
     ]
    },
    {
     "name": "stderr",
     "output_type": "stream",
     "text": [
      "  File \"<ipython-input-2-872ebd74c558>\", line 28, in search_instagram_tag\n",
      "    int(insta_post['caption']['created_time'])\n",
      "TypeError: 'NoneType' object has no attribute '__getitem__'\n",
      "Traceback (most recent call last):\n"
     ]
    },
    {
     "name": "stdout",
     "output_type": "stream",
     "text": [
      "\n",
      "caught error in body, continuing: 'latitude'"
     ]
    },
    {
     "name": "stderr",
     "output_type": "stream",
     "text": [
      "  File \"<ipython-input-2-872ebd74c558>\", line 28, in search_instagram_tag\n",
      "    int(insta_post['caption']['created_time'])\n",
      "TypeError: 'NoneType' object has no attribute '__getitem__'\n",
      "Traceback (most recent call last):\n"
     ]
    },
    {
     "name": "stdout",
     "output_type": "stream",
     "text": [
      "\n",
      "caught error in body, continuing: 'latitude'"
     ]
    },
    {
     "name": "stderr",
     "output_type": "stream",
     "text": [
      "  File \"<ipython-input-2-872ebd74c558>\", line 26, in search_instagram_tag\n",
      "    if insta_post['location']['latitude'] != None and insta_post['location']['longitude'] != None:\n",
      "KeyError: 'latitude'\n",
      "Traceback (most recent call last):\n"
     ]
    },
    {
     "name": "stdout",
     "output_type": "stream",
     "text": [
      "\n",
      "caught error in body, continuing: 'latitude'"
     ]
    },
    {
     "name": "stderr",
     "output_type": "stream",
     "text": [
      "  File \"<ipython-input-2-872ebd74c558>\", line 26, in search_instagram_tag\n",
      "    if insta_post['location']['latitude'] != None and insta_post['location']['longitude'] != None:\n",
      "KeyError: 'latitude'\n",
      "Traceback (most recent call last):\n"
     ]
    },
    {
     "name": "stdout",
     "output_type": "stream",
     "text": [
      "\n",
      "caught error in body, continuing: 'latitude'"
     ]
    },
    {
     "name": "stderr",
     "output_type": "stream",
     "text": [
      "  File \"<ipython-input-2-872ebd74c558>\", line 26, in search_instagram_tag\n",
      "    if insta_post['location']['latitude'] != None and insta_post['location']['longitude'] != None:\n",
      "KeyError: 'latitude'\n",
      "Traceback (most recent call last):\n"
     ]
    },
    {
     "name": "stdout",
     "output_type": "stream",
     "text": [
      "\n",
      "caught error in body, continuing: 'NoneType' object has no attribute '__getitem__'"
     ]
    },
    {
     "name": "stderr",
     "output_type": "stream",
     "text": [
      "  File \"<ipython-input-2-872ebd74c558>\", line 26, in search_instagram_tag\n",
      "    if insta_post['location']['latitude'] != None and insta_post['location']['longitude'] != None:\n",
      "KeyError: 'latitude'\n",
      "Traceback (most recent call last):\n"
     ]
    },
    {
     "name": "stdout",
     "output_type": "stream",
     "text": [
      "\n",
      "caught error in body, continuing: 'latitude'"
     ]
    },
    {
     "name": "stderr",
     "output_type": "stream",
     "text": [
      "  File \"<ipython-input-2-872ebd74c558>\", line 28, in search_instagram_tag\n",
      "    int(insta_post['caption']['created_time'])\n",
      "TypeError: 'NoneType' object has no attribute '__getitem__'\n",
      "Traceback (most recent call last):\n"
     ]
    },
    {
     "name": "stdout",
     "output_type": "stream",
     "text": [
      "\n",
      "caught error in body, continuing: 'latitude'"
     ]
    },
    {
     "name": "stderr",
     "output_type": "stream",
     "text": [
      "  File \"<ipython-input-2-872ebd74c558>\", line 26, in search_instagram_tag\n",
      "    if insta_post['location']['latitude'] != None and insta_post['location']['longitude'] != None:\n",
      "KeyError: 'latitude'\n",
      "Traceback (most recent call last):\n"
     ]
    },
    {
     "name": "stdout",
     "output_type": "stream",
     "text": [
      "\n",
      "caught error in body, continuing: 'latitude'"
     ]
    },
    {
     "name": "stderr",
     "output_type": "stream",
     "text": [
      "  File \"<ipython-input-2-872ebd74c558>\", line 26, in search_instagram_tag\n",
      "    if insta_post['location']['latitude'] != None and insta_post['location']['longitude'] != None:\n",
      "KeyError: 'latitude'\n",
      "Traceback (most recent call last):\n"
     ]
    },
    {
     "name": "stdout",
     "output_type": "stream",
     "text": [
      "\n",
      "caught error in body, continuing: 'latitude'\n",
      "caught error in body, continuing: 'latitude'\n",
      "caught error in body, continuing: 'latitude'"
     ]
    },
    {
     "name": "stderr",
     "output_type": "stream",
     "text": [
      "  File \"<ipython-input-2-872ebd74c558>\", line 26, in search_instagram_tag\n",
      "    if insta_post['location']['latitude'] != None and insta_post['location']['longitude'] != None:\n",
      "KeyError: 'latitude'\n",
      "Traceback (most recent call last):\n",
      "  File \"<ipython-input-2-872ebd74c558>\", line 26, in search_instagram_tag\n",
      "    if insta_post['location']['latitude'] != None and insta_post['location']['longitude'] != None:\n",
      "KeyError: 'latitude'\n",
      "Traceback (most recent call last):\n",
      "  File \"<ipython-input-2-872ebd74c558>\", line 26, in search_instagram_tag\n",
      "    if insta_post['location']['latitude'] != None and insta_post['location']['longitude'] != None:\n",
      "KeyError: 'latitude'\n",
      "Traceback (most recent call last):\n"
     ]
    },
    {
     "name": "stdout",
     "output_type": "stream",
     "text": [
      "\n",
      "caught error in body, continuing: 'latitude'"
     ]
    },
    {
     "name": "stderr",
     "output_type": "stream",
     "text": [
      "  File \"<ipython-input-2-872ebd74c558>\", line 26, in search_instagram_tag\n",
      "    if insta_post['location']['latitude'] != None and insta_post['location']['longitude'] != None:\n",
      "KeyError: 'latitude'\n",
      "Traceback (most recent call last):\n"
     ]
    },
    {
     "name": "stdout",
     "output_type": "stream",
     "text": [
      "\n",
      "caught error in body, continuing: 'latitude'"
     ]
    },
    {
     "name": "stderr",
     "output_type": "stream",
     "text": [
      "  File \"<ipython-input-2-872ebd74c558>\", line 26, in search_instagram_tag\n",
      "    if insta_post['location']['latitude'] != None and insta_post['location']['longitude'] != None:\n",
      "KeyError: 'latitude'\n",
      "Traceback (most recent call last):\n"
     ]
    },
    {
     "name": "stdout",
     "output_type": "stream",
     "text": [
      "\n",
      "caught error in body, continuing: 'latitude'"
     ]
    },
    {
     "name": "stderr",
     "output_type": "stream",
     "text": [
      "  File \"<ipython-input-2-872ebd74c558>\", line 26, in search_instagram_tag\n",
      "    if insta_post['location']['latitude'] != None and insta_post['location']['longitude'] != None:\n",
      "KeyError: 'latitude'\n",
      "Traceback (most recent call last):\n"
     ]
    },
    {
     "name": "stdout",
     "output_type": "stream",
     "text": [
      "\n",
      "caught error in body, continuing: 'latitude'"
     ]
    },
    {
     "name": "stderr",
     "output_type": "stream",
     "text": [
      "  File \"<ipython-input-2-872ebd74c558>\", line 26, in search_instagram_tag\n",
      "    if insta_post['location']['latitude'] != None and insta_post['location']['longitude'] != None:\n",
      "KeyError: 'latitude'\n",
      "Traceback (most recent call last):\n"
     ]
    },
    {
     "name": "stdout",
     "output_type": "stream",
     "text": [
      "\n",
      "caught error in body, continuing: 'latitude'"
     ]
    },
    {
     "name": "stderr",
     "output_type": "stream",
     "text": [
      "  File \"<ipython-input-2-872ebd74c558>\", line 26, in search_instagram_tag\n",
      "    if insta_post['location']['latitude'] != None and insta_post['location']['longitude'] != None:\n",
      "KeyError: 'latitude'\n",
      "Traceback (most recent call last):\n"
     ]
    },
    {
     "name": "stdout",
     "output_type": "stream",
     "text": [
      "\n",
      "caught error in body, continuing: 'latitude'\n",
      "caught error in body, continuing: 'latitude'"
     ]
    },
    {
     "name": "stderr",
     "output_type": "stream",
     "text": [
      "  File \"<ipython-input-2-872ebd74c558>\", line 26, in search_instagram_tag\n",
      "    if insta_post['location']['latitude'] != None and insta_post['location']['longitude'] != None:\n",
      "KeyError: 'latitude'\n",
      "Traceback (most recent call last):\n",
      "  File \"<ipython-input-2-872ebd74c558>\", line 26, in search_instagram_tag\n",
      "    if insta_post['location']['latitude'] != None and insta_post['location']['longitude'] != None:\n",
      "KeyError: 'latitude'\n",
      "Traceback (most recent call last):\n"
     ]
    },
    {
     "name": "stdout",
     "output_type": "stream",
     "text": [
      "\n",
      "caught error in body, continuing: 'latitude'"
     ]
    },
    {
     "name": "stderr",
     "output_type": "stream",
     "text": [
      "  File \"<ipython-input-2-872ebd74c558>\", line 26, in search_instagram_tag\n",
      "    if insta_post['location']['latitude'] != None and insta_post['location']['longitude'] != None:\n",
      "KeyError: 'latitude'\n",
      "Traceback (most recent call last):\n"
     ]
    },
    {
     "name": "stdout",
     "output_type": "stream",
     "text": [
      "\n",
      "caught error in body, continuing: 'latitude'"
     ]
    },
    {
     "name": "stderr",
     "output_type": "stream",
     "text": [
      "  File \"<ipython-input-2-872ebd74c558>\", line 26, in search_instagram_tag\n",
      "    if insta_post['location']['latitude'] != None and insta_post['location']['longitude'] != None:\n",
      "KeyError: 'latitude'\n",
      "Traceback (most recent call last):\n"
     ]
    },
    {
     "name": "stdout",
     "output_type": "stream",
     "text": [
      "\n",
      "caught error in body, continuing: 'latitude'"
     ]
    },
    {
     "name": "stderr",
     "output_type": "stream",
     "text": [
      "  File \"<ipython-input-2-872ebd74c558>\", line 26, in search_instagram_tag\n",
      "    if insta_post['location']['latitude'] != None and insta_post['location']['longitude'] != None:\n",
      "KeyError: 'latitude'\n",
      "Traceback (most recent call last):\n"
     ]
    },
    {
     "name": "stdout",
     "output_type": "stream",
     "text": [
      "\n",
      "caught error in body, continuing: 'latitude'"
     ]
    },
    {
     "name": "stderr",
     "output_type": "stream",
     "text": [
      "  File \"<ipython-input-2-872ebd74c558>\", line 26, in search_instagram_tag\n",
      "    if insta_post['location']['latitude'] != None and insta_post['location']['longitude'] != None:\n",
      "KeyError: 'latitude'\n",
      "Traceback (most recent call last):\n"
     ]
    },
    {
     "name": "stdout",
     "output_type": "stream",
     "text": [
      "\n",
      "caught error in body, continuing: 'latitude'"
     ]
    },
    {
     "name": "stderr",
     "output_type": "stream",
     "text": [
      "  File \"<ipython-input-2-872ebd74c558>\", line 26, in search_instagram_tag\n",
      "    if insta_post['location']['latitude'] != None and insta_post['location']['longitude'] != None:\n",
      "KeyError: 'latitude'\n",
      "Traceback (most recent call last):\n"
     ]
    },
    {
     "name": "stdout",
     "output_type": "stream",
     "text": [
      "\n",
      "caught error in body, continuing: 'latitude'"
     ]
    },
    {
     "name": "stderr",
     "output_type": "stream",
     "text": [
      "  File \"<ipython-input-2-872ebd74c558>\", line 26, in search_instagram_tag\n",
      "    if insta_post['location']['latitude'] != None and insta_post['location']['longitude'] != None:\n",
      "KeyError: 'latitude'\n",
      "Traceback (most recent call last):\n"
     ]
    },
    {
     "name": "stdout",
     "output_type": "stream",
     "text": [
      "\n",
      "caught error in body, continuing: 'NoneType' object has no attribute '__getitem__'"
     ]
    },
    {
     "name": "stderr",
     "output_type": "stream",
     "text": [
      "  File \"<ipython-input-2-872ebd74c558>\", line 26, in search_instagram_tag\n",
      "    if insta_post['location']['latitude'] != None and insta_post['location']['longitude'] != None:\n",
      "KeyError: 'latitude'\n",
      "Traceback (most recent call last):\n"
     ]
    },
    {
     "name": "stdout",
     "output_type": "stream",
     "text": [
      "\n",
      "caught error in body, continuing: 'latitude'"
     ]
    },
    {
     "name": "stderr",
     "output_type": "stream",
     "text": [
      "  File \"<ipython-input-2-872ebd74c558>\", line 28, in search_instagram_tag\n",
      "    int(insta_post['caption']['created_time'])\n",
      "TypeError: 'NoneType' object has no attribute '__getitem__'\n",
      "Traceback (most recent call last):\n"
     ]
    },
    {
     "name": "stdout",
     "output_type": "stream",
     "text": [
      "\n",
      "caught error in body, continuing: 'latitude'"
     ]
    },
    {
     "name": "stderr",
     "output_type": "stream",
     "text": [
      "  File \"<ipython-input-2-872ebd74c558>\", line 26, in search_instagram_tag\n",
      "    if insta_post['location']['latitude'] != None and insta_post['location']['longitude'] != None:\n",
      "KeyError: 'latitude'\n",
      "Traceback (most recent call last):\n"
     ]
    },
    {
     "name": "stdout",
     "output_type": "stream",
     "text": [
      "\n",
      "caught error in body, continuing: 'latitude'"
     ]
    },
    {
     "name": "stderr",
     "output_type": "stream",
     "text": [
      "  File \"<ipython-input-2-872ebd74c558>\", line 26, in search_instagram_tag\n",
      "    if insta_post['location']['latitude'] != None and insta_post['location']['longitude'] != None:\n",
      "KeyError: 'latitude'\n",
      "Traceback (most recent call last):\n"
     ]
    },
    {
     "name": "stdout",
     "output_type": "stream",
     "text": [
      "\n",
      "caught error in body, continuing: 'latitude'"
     ]
    },
    {
     "name": "stderr",
     "output_type": "stream",
     "text": [
      "  File \"<ipython-input-2-872ebd74c558>\", line 26, in search_instagram_tag\n",
      "    if insta_post['location']['latitude'] != None and insta_post['location']['longitude'] != None:\n",
      "KeyError: 'latitude'\n",
      "Traceback (most recent call last):\n"
     ]
    },
    {
     "name": "stdout",
     "output_type": "stream",
     "text": [
      "\n",
      "caught error in body, continuing: 'latitude'\n",
      "caught error in body, continuing: 'latitude'"
     ]
    },
    {
     "name": "stderr",
     "output_type": "stream",
     "text": [
      "  File \"<ipython-input-2-872ebd74c558>\", line 26, in search_instagram_tag\n",
      "    if insta_post['location']['latitude'] != None and insta_post['location']['longitude'] != None:\n",
      "KeyError: 'latitude'\n",
      "Traceback (most recent call last):\n",
      "  File \"<ipython-input-2-872ebd74c558>\", line 26, in search_instagram_tag\n",
      "    if insta_post['location']['latitude'] != None and insta_post['location']['longitude'] != None:\n",
      "KeyError: 'latitude'\n",
      "Traceback (most recent call last):\n"
     ]
    },
    {
     "name": "stdout",
     "output_type": "stream",
     "text": [
      "\n",
      "caught error in body, continuing: 'latitude'"
     ]
    },
    {
     "name": "stderr",
     "output_type": "stream",
     "text": [
      "  File \"<ipython-input-2-872ebd74c558>\", line 26, in search_instagram_tag\n",
      "    if insta_post['location']['latitude'] != None and insta_post['location']['longitude'] != None:\n",
      "KeyError: 'latitude'\n",
      "Traceback (most recent call last):\n"
     ]
    },
    {
     "name": "stdout",
     "output_type": "stream",
     "text": [
      "\n",
      "caught error in body, continuing: 'latitude'"
     ]
    },
    {
     "name": "stderr",
     "output_type": "stream",
     "text": [
      "  File \"<ipython-input-2-872ebd74c558>\", line 26, in search_instagram_tag\n",
      "    if insta_post['location']['latitude'] != None and insta_post['location']['longitude'] != None:\n",
      "KeyError: 'latitude'\n",
      "Traceback (most recent call last):\n"
     ]
    },
    {
     "name": "stdout",
     "output_type": "stream",
     "text": [
      "\n",
      "caught error in body, continuing: 'latitude'\n",
      "caught error in body, continuing: 'latitude'"
     ]
    },
    {
     "name": "stderr",
     "output_type": "stream",
     "text": [
      "  File \"<ipython-input-2-872ebd74c558>\", line 26, in search_instagram_tag\n",
      "    if insta_post['location']['latitude'] != None and insta_post['location']['longitude'] != None:\n",
      "KeyError: 'latitude'\n",
      "Traceback (most recent call last):\n",
      "  File \"<ipython-input-2-872ebd74c558>\", line 26, in search_instagram_tag\n",
      "    if insta_post['location']['latitude'] != None and insta_post['location']['longitude'] != None:\n",
      "KeyError: 'latitude'\n",
      "Traceback (most recent call last):\n"
     ]
    },
    {
     "name": "stdout",
     "output_type": "stream",
     "text": [
      "\n",
      "caught error in body, continuing: 'latitude'"
     ]
    },
    {
     "name": "stderr",
     "output_type": "stream",
     "text": [
      "  File \"<ipython-input-2-872ebd74c558>\", line 26, in search_instagram_tag\n",
      "    if insta_post['location']['latitude'] != None and insta_post['location']['longitude'] != None:\n",
      "KeyError: 'latitude'\n",
      "Traceback (most recent call last):\n"
     ]
    },
    {
     "name": "stdout",
     "output_type": "stream",
     "text": [
      "\n",
      "caught error in body, continuing: 'latitude'"
     ]
    },
    {
     "name": "stderr",
     "output_type": "stream",
     "text": [
      "  File \"<ipython-input-2-872ebd74c558>\", line 26, in search_instagram_tag\n",
      "    if insta_post['location']['latitude'] != None and insta_post['location']['longitude'] != None:\n",
      "KeyError: 'latitude'\n",
      "Traceback (most recent call last):\n"
     ]
    },
    {
     "name": "stdout",
     "output_type": "stream",
     "text": [
      "\n",
      "caught error in body, continuing: 'latitude'"
     ]
    },
    {
     "name": "stderr",
     "output_type": "stream",
     "text": [
      "  File \"<ipython-input-2-872ebd74c558>\", line 26, in search_instagram_tag\n",
      "    if insta_post['location']['latitude'] != None and insta_post['location']['longitude'] != None:\n",
      "KeyError: 'latitude'\n",
      "Traceback (most recent call last):\n"
     ]
    },
    {
     "name": "stdout",
     "output_type": "stream",
     "text": [
      "\n",
      "caught error in body, continuing: 'latitude'"
     ]
    },
    {
     "name": "stderr",
     "output_type": "stream",
     "text": [
      "  File \"<ipython-input-2-872ebd74c558>\", line 26, in search_instagram_tag\n",
      "    if insta_post['location']['latitude'] != None and insta_post['location']['longitude'] != None:\n",
      "KeyError: 'latitude'\n",
      "Traceback (most recent call last):\n"
     ]
    },
    {
     "name": "stdout",
     "output_type": "stream",
     "text": [
      "\n",
      "caught error in body, continuing: 'NoneType' object has no attribute '__getitem__'"
     ]
    },
    {
     "name": "stderr",
     "output_type": "stream",
     "text": [
      "  File \"<ipython-input-2-872ebd74c558>\", line 26, in search_instagram_tag\n",
      "    if insta_post['location']['latitude'] != None and insta_post['location']['longitude'] != None:\n",
      "KeyError: 'latitude'\n",
      "Traceback (most recent call last):\n"
     ]
    },
    {
     "name": "stdout",
     "output_type": "stream",
     "text": [
      "\n",
      "caught error in body, continuing: 'latitude'"
     ]
    },
    {
     "name": "stderr",
     "output_type": "stream",
     "text": [
      "  File \"<ipython-input-2-872ebd74c558>\", line 28, in search_instagram_tag\n",
      "    int(insta_post['caption']['created_time'])\n",
      "TypeError: 'NoneType' object has no attribute '__getitem__'\n",
      "Traceback (most recent call last):\n"
     ]
    },
    {
     "name": "stdout",
     "output_type": "stream",
     "text": [
      "\n",
      "caught error in body, continuing: 'latitude'"
     ]
    },
    {
     "name": "stderr",
     "output_type": "stream",
     "text": [
      "  File \"<ipython-input-2-872ebd74c558>\", line 26, in search_instagram_tag\n",
      "    if insta_post['location']['latitude'] != None and insta_post['location']['longitude'] != None:\n",
      "KeyError: 'latitude'\n",
      "Traceback (most recent call last):\n"
     ]
    },
    {
     "name": "stdout",
     "output_type": "stream",
     "text": [
      "\n",
      "caught error in body, continuing: 'latitude'"
     ]
    },
    {
     "name": "stderr",
     "output_type": "stream",
     "text": [
      "  File \"<ipython-input-2-872ebd74c558>\", line 26, in search_instagram_tag\n",
      "    if insta_post['location']['latitude'] != None and insta_post['location']['longitude'] != None:\n",
      "KeyError: 'latitude'\n",
      "Traceback (most recent call last):\n"
     ]
    },
    {
     "name": "stdout",
     "output_type": "stream",
     "text": [
      "\n",
      "caught error in body, continuing: 'latitude'"
     ]
    },
    {
     "name": "stderr",
     "output_type": "stream",
     "text": [
      "  File \"<ipython-input-2-872ebd74c558>\", line 26, in search_instagram_tag\n",
      "    if insta_post['location']['latitude'] != None and insta_post['location']['longitude'] != None:\n",
      "KeyError: 'latitude'\n",
      "Traceback (most recent call last):\n"
     ]
    },
    {
     "name": "stdout",
     "output_type": "stream",
     "text": [
      "\n",
      "caught error in body, continuing: 'latitude'"
     ]
    },
    {
     "name": "stderr",
     "output_type": "stream",
     "text": [
      "  File \"<ipython-input-2-872ebd74c558>\", line 26, in search_instagram_tag\n",
      "    if insta_post['location']['latitude'] != None and insta_post['location']['longitude'] != None:\n",
      "KeyError: 'latitude'\n",
      "Traceback (most recent call last):\n"
     ]
    },
    {
     "name": "stdout",
     "output_type": "stream",
     "text": [
      "\n",
      "caught error in body, continuing: 'NoneType' object has no attribute '__getitem__'"
     ]
    },
    {
     "name": "stderr",
     "output_type": "stream",
     "text": [
      "  File \"<ipython-input-2-872ebd74c558>\", line 26, in search_instagram_tag\n",
      "    if insta_post['location']['latitude'] != None and insta_post['location']['longitude'] != None:\n",
      "KeyError: 'latitude'\n",
      "Traceback (most recent call last):\n"
     ]
    },
    {
     "name": "stdout",
     "output_type": "stream",
     "text": [
      "\n",
      "caught error in body, continuing: 'latitude'"
     ]
    },
    {
     "name": "stderr",
     "output_type": "stream",
     "text": [
      "  File \"<ipython-input-2-872ebd74c558>\", line 28, in search_instagram_tag\n",
      "    int(insta_post['caption']['created_time'])\n",
      "TypeError: 'NoneType' object has no attribute '__getitem__'\n",
      "Traceback (most recent call last):\n"
     ]
    },
    {
     "name": "stdout",
     "output_type": "stream",
     "text": [
      "\n",
      "caught error in body, continuing: 'latitude'"
     ]
    },
    {
     "name": "stderr",
     "output_type": "stream",
     "text": [
      "  File \"<ipython-input-2-872ebd74c558>\", line 26, in search_instagram_tag\n",
      "    if insta_post['location']['latitude'] != None and insta_post['location']['longitude'] != None:\n",
      "KeyError: 'latitude'\n",
      "Traceback (most recent call last):\n"
     ]
    },
    {
     "name": "stdout",
     "output_type": "stream",
     "text": [
      "\n",
      "caught error in body, continuing: 'latitude'"
     ]
    },
    {
     "name": "stderr",
     "output_type": "stream",
     "text": [
      "  File \"<ipython-input-2-872ebd74c558>\", line 26, in search_instagram_tag\n",
      "    if insta_post['location']['latitude'] != None and insta_post['location']['longitude'] != None:\n",
      "KeyError: 'latitude'\n",
      "Traceback (most recent call last):\n"
     ]
    },
    {
     "name": "stdout",
     "output_type": "stream",
     "text": [
      "\n",
      "caught error in body, continuing: 'latitude'"
     ]
    },
    {
     "name": "stderr",
     "output_type": "stream",
     "text": [
      "  File \"<ipython-input-2-872ebd74c558>\", line 26, in search_instagram_tag\n",
      "    if insta_post['location']['latitude'] != None and insta_post['location']['longitude'] != None:\n",
      "KeyError: 'latitude'\n",
      "Traceback (most recent call last):\n"
     ]
    },
    {
     "name": "stdout",
     "output_type": "stream",
     "text": [
      "\n",
      "caught error in body, continuing: 'latitude'"
     ]
    },
    {
     "name": "stderr",
     "output_type": "stream",
     "text": [
      "  File \"<ipython-input-2-872ebd74c558>\", line 26, in search_instagram_tag\n",
      "    if insta_post['location']['latitude'] != None and insta_post['location']['longitude'] != None:\n",
      "KeyError: 'latitude'\n",
      "Traceback (most recent call last):\n"
     ]
    },
    {
     "name": "stdout",
     "output_type": "stream",
     "text": [
      "\n",
      "caught error in body, continuing: 'latitude'"
     ]
    },
    {
     "name": "stderr",
     "output_type": "stream",
     "text": [
      "  File \"<ipython-input-2-872ebd74c558>\", line 26, in search_instagram_tag\n",
      "    if insta_post['location']['latitude'] != None and insta_post['location']['longitude'] != None:\n",
      "KeyError: 'latitude'\n",
      "Traceback (most recent call last):\n"
     ]
    },
    {
     "name": "stdout",
     "output_type": "stream",
     "text": [
      "\n",
      "caught error in body, continuing: 'latitude'"
     ]
    },
    {
     "name": "stderr",
     "output_type": "stream",
     "text": [
      "  File \"<ipython-input-2-872ebd74c558>\", line 26, in search_instagram_tag\n",
      "    if insta_post['location']['latitude'] != None and insta_post['location']['longitude'] != None:\n",
      "KeyError: 'latitude'\n",
      "Traceback (most recent call last):\n"
     ]
    },
    {
     "name": "stdout",
     "output_type": "stream",
     "text": [
      "\n",
      "caught error in body, continuing: 'latitude'"
     ]
    },
    {
     "name": "stderr",
     "output_type": "stream",
     "text": [
      "  File \"<ipython-input-2-872ebd74c558>\", line 26, in search_instagram_tag\n",
      "    if insta_post['location']['latitude'] != None and insta_post['location']['longitude'] != None:\n",
      "KeyError: 'latitude'\n",
      "Traceback (most recent call last):\n"
     ]
    },
    {
     "name": "stdout",
     "output_type": "stream",
     "text": [
      "\n",
      "caught error in body, continuing: 'latitude'"
     ]
    },
    {
     "name": "stderr",
     "output_type": "stream",
     "text": [
      "  File \"<ipython-input-2-872ebd74c558>\", line 26, in search_instagram_tag\n",
      "    if insta_post['location']['latitude'] != None and insta_post['location']['longitude'] != None:\n",
      "KeyError: 'latitude'\n",
      "Traceback (most recent call last):\n"
     ]
    },
    {
     "name": "stdout",
     "output_type": "stream",
     "text": [
      "\n",
      "caught error in body, continuing: 'latitude'"
     ]
    },
    {
     "name": "stderr",
     "output_type": "stream",
     "text": [
      "  File \"<ipython-input-2-872ebd74c558>\", line 26, in search_instagram_tag\n",
      "    if insta_post['location']['latitude'] != None and insta_post['location']['longitude'] != None:\n",
      "KeyError: 'latitude'\n",
      "Traceback (most recent call last):\n"
     ]
    },
    {
     "name": "stdout",
     "output_type": "stream",
     "text": [
      "\n",
      "caught error in body, continuing: 'latitude'"
     ]
    },
    {
     "name": "stderr",
     "output_type": "stream",
     "text": [
      "  File \"<ipython-input-2-872ebd74c558>\", line 26, in search_instagram_tag\n",
      "    if insta_post['location']['latitude'] != None and insta_post['location']['longitude'] != None:\n",
      "KeyError: 'latitude'\n",
      "Traceback (most recent call last):\n"
     ]
    },
    {
     "name": "stdout",
     "output_type": "stream",
     "text": [
      "\n",
      "caught error in body, continuing: 'latitude'"
     ]
    },
    {
     "name": "stderr",
     "output_type": "stream",
     "text": [
      "  File \"<ipython-input-2-872ebd74c558>\", line 26, in search_instagram_tag\n",
      "    if insta_post['location']['latitude'] != None and insta_post['location']['longitude'] != None:\n",
      "KeyError: 'latitude'\n",
      "Traceback (most recent call last):\n"
     ]
    },
    {
     "name": "stdout",
     "output_type": "stream",
     "text": [
      "\n",
      "caught error in body, continuing: 'latitude'"
     ]
    },
    {
     "name": "stderr",
     "output_type": "stream",
     "text": [
      "  File \"<ipython-input-2-872ebd74c558>\", line 26, in search_instagram_tag\n",
      "    if insta_post['location']['latitude'] != None and insta_post['location']['longitude'] != None:\n",
      "KeyError: 'latitude'\n",
      "Traceback (most recent call last):\n"
     ]
    },
    {
     "name": "stdout",
     "output_type": "stream",
     "text": [
      "\n",
      "caught error in body, continuing: 'latitude'"
     ]
    },
    {
     "name": "stderr",
     "output_type": "stream",
     "text": [
      "  File \"<ipython-input-2-872ebd74c558>\", line 26, in search_instagram_tag\n",
      "    if insta_post['location']['latitude'] != None and insta_post['location']['longitude'] != None:\n",
      "KeyError: 'latitude'\n",
      "Traceback (most recent call last):\n"
     ]
    },
    {
     "name": "stdout",
     "output_type": "stream",
     "text": [
      "\n",
      "caught error in body, continuing: 'latitude'"
     ]
    },
    {
     "name": "stderr",
     "output_type": "stream",
     "text": [
      "  File \"<ipython-input-2-872ebd74c558>\", line 26, in search_instagram_tag\n",
      "    if insta_post['location']['latitude'] != None and insta_post['location']['longitude'] != None:\n",
      "KeyError: 'latitude'\n",
      "Traceback (most recent call last):\n"
     ]
    },
    {
     "name": "stdout",
     "output_type": "stream",
     "text": [
      "\n",
      "caught error in body, continuing: 'latitude'"
     ]
    },
    {
     "name": "stderr",
     "output_type": "stream",
     "text": [
      "  File \"<ipython-input-2-872ebd74c558>\", line 26, in search_instagram_tag\n",
      "    if insta_post['location']['latitude'] != None and insta_post['location']['longitude'] != None:\n",
      "KeyError: 'latitude'\n",
      "Traceback (most recent call last):\n"
     ]
    },
    {
     "name": "stdout",
     "output_type": "stream",
     "text": [
      "\n",
      "caught error in body, continuing: 'latitude'"
     ]
    },
    {
     "name": "stderr",
     "output_type": "stream",
     "text": [
      "  File \"<ipython-input-2-872ebd74c558>\", line 26, in search_instagram_tag\n",
      "    if insta_post['location']['latitude'] != None and insta_post['location']['longitude'] != None:\n",
      "KeyError: 'latitude'\n",
      "Traceback (most recent call last):\n"
     ]
    },
    {
     "name": "stdout",
     "output_type": "stream",
     "text": [
      "\n",
      "caught error in body, continuing: 'latitude'"
     ]
    },
    {
     "name": "stderr",
     "output_type": "stream",
     "text": [
      "  File \"<ipython-input-2-872ebd74c558>\", line 26, in search_instagram_tag\n",
      "    if insta_post['location']['latitude'] != None and insta_post['location']['longitude'] != None:\n",
      "KeyError: 'latitude'\n",
      "Traceback (most recent call last):\n"
     ]
    },
    {
     "name": "stdout",
     "output_type": "stream",
     "text": [
      "\n",
      "caught error in body, continuing: 'latitude'\n",
      "caught error in body, continuing: 'latitude'\n",
      "caught error in body, continuing: 'latitude'"
     ]
    },
    {
     "name": "stderr",
     "output_type": "stream",
     "text": [
      "  File \"<ipython-input-2-872ebd74c558>\", line 26, in search_instagram_tag\n",
      "    if insta_post['location']['latitude'] != None and insta_post['location']['longitude'] != None:\n",
      "KeyError: 'latitude'\n",
      "Traceback (most recent call last):\n",
      "  File \"<ipython-input-2-872ebd74c558>\", line 26, in search_instagram_tag\n",
      "    if insta_post['location']['latitude'] != None and insta_post['location']['longitude'] != None:\n",
      "KeyError: 'latitude'\n",
      "Traceback (most recent call last):\n",
      "  File \"<ipython-input-2-872ebd74c558>\", line 26, in search_instagram_tag\n",
      "    if insta_post['location']['latitude'] != None and insta_post['location']['longitude'] != None:\n",
      "KeyError: 'latitude'\n",
      "Traceback (most recent call last):\n"
     ]
    },
    {
     "name": "stdout",
     "output_type": "stream",
     "text": [
      "\n",
      "caught error in body, continuing: 'latitude'"
     ]
    },
    {
     "name": "stderr",
     "output_type": "stream",
     "text": [
      "  File \"<ipython-input-2-872ebd74c558>\", line 26, in search_instagram_tag\n",
      "    if insta_post['location']['latitude'] != None and insta_post['location']['longitude'] != None:\n",
      "KeyError: 'latitude'\n",
      "Traceback (most recent call last):\n"
     ]
    },
    {
     "name": "stdout",
     "output_type": "stream",
     "text": [
      "\n",
      "caught error in body, continuing: 'latitude'"
     ]
    },
    {
     "name": "stderr",
     "output_type": "stream",
     "text": [
      "  File \"<ipython-input-2-872ebd74c558>\", line 26, in search_instagram_tag\n",
      "    if insta_post['location']['latitude'] != None and insta_post['location']['longitude'] != None:\n",
      "KeyError: 'latitude'\n",
      "Traceback (most recent call last):\n"
     ]
    },
    {
     "name": "stdout",
     "output_type": "stream",
     "text": [
      "\n",
      "caught error in body, continuing: 'latitude'"
     ]
    },
    {
     "name": "stderr",
     "output_type": "stream",
     "text": [
      "  File \"<ipython-input-2-872ebd74c558>\", line 26, in search_instagram_tag\n",
      "    if insta_post['location']['latitude'] != None and insta_post['location']['longitude'] != None:\n",
      "KeyError: 'latitude'\n",
      "Traceback (most recent call last):\n"
     ]
    },
    {
     "name": "stdout",
     "output_type": "stream",
     "text": [
      "\n",
      "caught error in body, continuing: 'latitude'"
     ]
    },
    {
     "name": "stderr",
     "output_type": "stream",
     "text": [
      "  File \"<ipython-input-2-872ebd74c558>\", line 26, in search_instagram_tag\n",
      "    if insta_post['location']['latitude'] != None and insta_post['location']['longitude'] != None:\n",
      "KeyError: 'latitude'\n",
      "Traceback (most recent call last):\n"
     ]
    },
    {
     "name": "stdout",
     "output_type": "stream",
     "text": [
      "\n",
      "caught error in body, continuing: 'latitude'"
     ]
    },
    {
     "name": "stderr",
     "output_type": "stream",
     "text": [
      "  File \"<ipython-input-2-872ebd74c558>\", line 26, in search_instagram_tag\n",
      "    if insta_post['location']['latitude'] != None and insta_post['location']['longitude'] != None:\n",
      "KeyError: 'latitude'\n",
      "Traceback (most recent call last):\n"
     ]
    },
    {
     "name": "stdout",
     "output_type": "stream",
     "text": [
      "\n",
      "caught error in body, continuing: 'NoneType' object has no attribute '__getitem__'"
     ]
    },
    {
     "name": "stderr",
     "output_type": "stream",
     "text": [
      "  File \"<ipython-input-2-872ebd74c558>\", line 26, in search_instagram_tag\n",
      "    if insta_post['location']['latitude'] != None and insta_post['location']['longitude'] != None:\n",
      "KeyError: 'latitude'\n",
      "Traceback (most recent call last):\n"
     ]
    },
    {
     "name": "stdout",
     "output_type": "stream",
     "text": [
      "\n",
      "caught error in body, continuing: 'latitude'"
     ]
    },
    {
     "name": "stderr",
     "output_type": "stream",
     "text": [
      "  File \"<ipython-input-2-872ebd74c558>\", line 28, in search_instagram_tag\n",
      "    int(insta_post['caption']['created_time'])\n",
      "TypeError: 'NoneType' object has no attribute '__getitem__'\n",
      "Traceback (most recent call last):\n"
     ]
    },
    {
     "name": "stdout",
     "output_type": "stream",
     "text": [
      "\n",
      "caught error in body, continuing: 'latitude'"
     ]
    },
    {
     "name": "stderr",
     "output_type": "stream",
     "text": [
      "  File \"<ipython-input-2-872ebd74c558>\", line 26, in search_instagram_tag\n",
      "    if insta_post['location']['latitude'] != None and insta_post['location']['longitude'] != None:\n",
      "KeyError: 'latitude'\n",
      "Traceback (most recent call last):\n"
     ]
    },
    {
     "name": "stdout",
     "output_type": "stream",
     "text": [
      "\n",
      "caught error in body, continuing: 'latitude'"
     ]
    },
    {
     "name": "stderr",
     "output_type": "stream",
     "text": [
      "  File \"<ipython-input-2-872ebd74c558>\", line 26, in search_instagram_tag\n",
      "    if insta_post['location']['latitude'] != None and insta_post['location']['longitude'] != None:\n",
      "KeyError: 'latitude'\n",
      "Traceback (most recent call last):\n"
     ]
    },
    {
     "name": "stdout",
     "output_type": "stream",
     "text": [
      "\n",
      "caught error in body, continuing: 'NoneType' object has no attribute '__getitem__'"
     ]
    },
    {
     "name": "stderr",
     "output_type": "stream",
     "text": [
      "  File \"<ipython-input-2-872ebd74c558>\", line 26, in search_instagram_tag\n",
      "    if insta_post['location']['latitude'] != None and insta_post['location']['longitude'] != None:\n",
      "KeyError: 'latitude'\n",
      "Traceback (most recent call last):\n"
     ]
    },
    {
     "name": "stdout",
     "output_type": "stream",
     "text": [
      "\n",
      "caught error in body, continuing: 'latitude'"
     ]
    },
    {
     "name": "stderr",
     "output_type": "stream",
     "text": [
      "  File \"<ipython-input-2-872ebd74c558>\", line 28, in search_instagram_tag\n",
      "    int(insta_post['caption']['created_time'])\n",
      "TypeError: 'NoneType' object has no attribute '__getitem__'\n",
      "Traceback (most recent call last):\n"
     ]
    },
    {
     "name": "stdout",
     "output_type": "stream",
     "text": [
      "\n",
      "caught error in body, continuing: 'latitude'"
     ]
    },
    {
     "name": "stderr",
     "output_type": "stream",
     "text": [
      "  File \"<ipython-input-2-872ebd74c558>\", line 26, in search_instagram_tag\n",
      "    if insta_post['location']['latitude'] != None and insta_post['location']['longitude'] != None:\n",
      "KeyError: 'latitude'\n",
      "Traceback (most recent call last):\n"
     ]
    },
    {
     "name": "stdout",
     "output_type": "stream",
     "text": [
      "\n",
      "caught error in body, continuing: 'latitude'"
     ]
    },
    {
     "name": "stderr",
     "output_type": "stream",
     "text": [
      "  File \"<ipython-input-2-872ebd74c558>\", line 26, in search_instagram_tag\n",
      "    if insta_post['location']['latitude'] != None and insta_post['location']['longitude'] != None:\n",
      "KeyError: 'latitude'\n",
      "Traceback (most recent call last):\n"
     ]
    },
    {
     "name": "stdout",
     "output_type": "stream",
     "text": [
      "\n",
      "caught error in body, continuing: 'latitude'"
     ]
    },
    {
     "name": "stderr",
     "output_type": "stream",
     "text": [
      "  File \"<ipython-input-2-872ebd74c558>\", line 26, in search_instagram_tag\n",
      "    if insta_post['location']['latitude'] != None and insta_post['location']['longitude'] != None:\n",
      "KeyError: 'latitude'\n",
      "Traceback (most recent call last):\n"
     ]
    },
    {
     "name": "stdout",
     "output_type": "stream",
     "text": [
      "\n",
      "caught error in body, continuing: 'latitude'"
     ]
    },
    {
     "name": "stderr",
     "output_type": "stream",
     "text": [
      "  File \"<ipython-input-2-872ebd74c558>\", line 26, in search_instagram_tag\n",
      "    if insta_post['location']['latitude'] != None and insta_post['location']['longitude'] != None:\n",
      "KeyError: 'latitude'\n",
      "Traceback (most recent call last):\n"
     ]
    },
    {
     "name": "stdout",
     "output_type": "stream",
     "text": [
      "\n",
      "caught error in body, continuing: 'latitude'"
     ]
    },
    {
     "name": "stderr",
     "output_type": "stream",
     "text": [
      "  File \"<ipython-input-2-872ebd74c558>\", line 26, in search_instagram_tag\n",
      "    if insta_post['location']['latitude'] != None and insta_post['location']['longitude'] != None:\n",
      "KeyError: 'latitude'\n",
      "Traceback (most recent call last):\n"
     ]
    },
    {
     "name": "stdout",
     "output_type": "stream",
     "text": [
      "\n",
      "caught error in body, continuing: 'latitude'"
     ]
    },
    {
     "name": "stderr",
     "output_type": "stream",
     "text": [
      "  File \"<ipython-input-2-872ebd74c558>\", line 26, in search_instagram_tag\n",
      "    if insta_post['location']['latitude'] != None and insta_post['location']['longitude'] != None:\n",
      "KeyError: 'latitude'\n",
      "Traceback (most recent call last):\n"
     ]
    },
    {
     "name": "stdout",
     "output_type": "stream",
     "text": [
      "\n",
      "caught error in body, continuing: 'latitude'"
     ]
    },
    {
     "name": "stderr",
     "output_type": "stream",
     "text": [
      "  File \"<ipython-input-2-872ebd74c558>\", line 26, in search_instagram_tag\n",
      "    if insta_post['location']['latitude'] != None and insta_post['location']['longitude'] != None:\n",
      "KeyError: 'latitude'\n",
      "Traceback (most recent call last):\n"
     ]
    },
    {
     "name": "stdout",
     "output_type": "stream",
     "text": [
      "\n",
      "caught error in body, continuing: 'latitude'"
     ]
    },
    {
     "name": "stderr",
     "output_type": "stream",
     "text": [
      "  File \"<ipython-input-2-872ebd74c558>\", line 26, in search_instagram_tag\n",
      "    if insta_post['location']['latitude'] != None and insta_post['location']['longitude'] != None:\n",
      "KeyError: 'latitude'\n",
      "Traceback (most recent call last):\n"
     ]
    },
    {
     "name": "stdout",
     "output_type": "stream",
     "text": [
      "\n",
      "caught error in body, continuing: 'latitude'"
     ]
    },
    {
     "name": "stderr",
     "output_type": "stream",
     "text": [
      "  File \"<ipython-input-2-872ebd74c558>\", line 26, in search_instagram_tag\n",
      "    if insta_post['location']['latitude'] != None and insta_post['location']['longitude'] != None:\n",
      "KeyError: 'latitude'\n",
      "Traceback (most recent call last):\n"
     ]
    },
    {
     "name": "stdout",
     "output_type": "stream",
     "text": [
      "\n",
      "caught error in body, continuing: 'latitude'"
     ]
    },
    {
     "name": "stderr",
     "output_type": "stream",
     "text": [
      "  File \"<ipython-input-2-872ebd74c558>\", line 26, in search_instagram_tag\n",
      "    if insta_post['location']['latitude'] != None and insta_post['location']['longitude'] != None:\n",
      "KeyError: 'latitude'\n",
      "Traceback (most recent call last):\n"
     ]
    },
    {
     "name": "stdout",
     "output_type": "stream",
     "text": [
      "\n",
      "caught error in body, continuing: 'latitude'"
     ]
    },
    {
     "name": "stderr",
     "output_type": "stream",
     "text": [
      "  File \"<ipython-input-2-872ebd74c558>\", line 26, in search_instagram_tag\n",
      "    if insta_post['location']['latitude'] != None and insta_post['location']['longitude'] != None:\n",
      "KeyError: 'latitude'\n",
      "Traceback (most recent call last):\n"
     ]
    },
    {
     "name": "stdout",
     "output_type": "stream",
     "text": [
      "\n",
      "caught error in body, continuing: 'latitude'"
     ]
    },
    {
     "name": "stderr",
     "output_type": "stream",
     "text": [
      "  File \"<ipython-input-2-872ebd74c558>\", line 26, in search_instagram_tag\n",
      "    if insta_post['location']['latitude'] != None and insta_post['location']['longitude'] != None:\n",
      "KeyError: 'latitude'\n",
      "Traceback (most recent call last):\n"
     ]
    },
    {
     "name": "stdout",
     "output_type": "stream",
     "text": [
      "\n",
      "caught error in body, continuing: 'latitude'"
     ]
    },
    {
     "name": "stderr",
     "output_type": "stream",
     "text": [
      "  File \"<ipython-input-2-872ebd74c558>\", line 26, in search_instagram_tag\n",
      "    if insta_post['location']['latitude'] != None and insta_post['location']['longitude'] != None:\n",
      "KeyError: 'latitude'\n",
      "Traceback (most recent call last):\n"
     ]
    },
    {
     "name": "stdout",
     "output_type": "stream",
     "text": [
      "\n",
      "caught error in body, continuing: 'latitude'"
     ]
    },
    {
     "name": "stderr",
     "output_type": "stream",
     "text": [
      "  File \"<ipython-input-2-872ebd74c558>\", line 26, in search_instagram_tag\n",
      "    if insta_post['location']['latitude'] != None and insta_post['location']['longitude'] != None:\n",
      "KeyError: 'latitude'\n",
      "Traceback (most recent call last):\n"
     ]
    },
    {
     "name": "stdout",
     "output_type": "stream",
     "text": [
      "\n",
      "caught error in body, continuing: 'latitude'"
     ]
    },
    {
     "name": "stderr",
     "output_type": "stream",
     "text": [
      "  File \"<ipython-input-2-872ebd74c558>\", line 26, in search_instagram_tag\n",
      "    if insta_post['location']['latitude'] != None and insta_post['location']['longitude'] != None:\n",
      "KeyError: 'latitude'\n",
      "Traceback (most recent call last):\n"
     ]
    },
    {
     "name": "stdout",
     "output_type": "stream",
     "text": [
      "\n",
      "caught error in body, continuing: 'latitude'\n",
      "caught error in body, continuing: 'latitude'"
     ]
    },
    {
     "name": "stderr",
     "output_type": "stream",
     "text": [
      "  File \"<ipython-input-2-872ebd74c558>\", line 26, in search_instagram_tag\n",
      "    if insta_post['location']['latitude'] != None and insta_post['location']['longitude'] != None:\n",
      "KeyError: 'latitude'\n",
      "Traceback (most recent call last):\n",
      "  File \"<ipython-input-2-872ebd74c558>\", line 26, in search_instagram_tag\n",
      "    if insta_post['location']['latitude'] != None and insta_post['location']['longitude'] != None:\n",
      "KeyError: 'latitude'\n",
      "Traceback (most recent call last):\n"
     ]
    },
    {
     "name": "stdout",
     "output_type": "stream",
     "text": [
      "\n",
      "caught error in body, continuing: 'latitude'\n",
      "caught error in body, continuing: 'NoneType' object has no attribute '__getitem__'"
     ]
    },
    {
     "name": "stderr",
     "output_type": "stream",
     "text": [
      "  File \"<ipython-input-2-872ebd74c558>\", line 26, in search_instagram_tag\n",
      "    if insta_post['location']['latitude'] != None and insta_post['location']['longitude'] != None:\n",
      "KeyError: 'latitude'\n",
      "Traceback (most recent call last):\n",
      "  File \"<ipython-input-2-872ebd74c558>\", line 26, in search_instagram_tag\n",
      "    if insta_post['location']['latitude'] != None and insta_post['location']['longitude'] != None:\n",
      "KeyError: 'latitude'\n",
      "Traceback (most recent call last):\n"
     ]
    },
    {
     "name": "stdout",
     "output_type": "stream",
     "text": [
      "\n",
      "caught error in body, continuing: 'latitude'"
     ]
    },
    {
     "name": "stderr",
     "output_type": "stream",
     "text": [
      "  File \"<ipython-input-2-872ebd74c558>\", line 28, in search_instagram_tag\n",
      "    int(insta_post['caption']['created_time'])\n",
      "TypeError: 'NoneType' object has no attribute '__getitem__'\n",
      "Traceback (most recent call last):\n"
     ]
    },
    {
     "name": "stdout",
     "output_type": "stream",
     "text": [
      "\n",
      "caught error in body, continuing: 'latitude'"
     ]
    },
    {
     "name": "stderr",
     "output_type": "stream",
     "text": [
      "  File \"<ipython-input-2-872ebd74c558>\", line 26, in search_instagram_tag\n",
      "    if insta_post['location']['latitude'] != None and insta_post['location']['longitude'] != None:\n",
      "KeyError: 'latitude'\n",
      "Traceback (most recent call last):\n"
     ]
    },
    {
     "name": "stdout",
     "output_type": "stream",
     "text": [
      "\n",
      "caught error in body, continuing: 'latitude'"
     ]
    },
    {
     "name": "stderr",
     "output_type": "stream",
     "text": [
      "  File \"<ipython-input-2-872ebd74c558>\", line 26, in search_instagram_tag\n",
      "    if insta_post['location']['latitude'] != None and insta_post['location']['longitude'] != None:\n",
      "KeyError: 'latitude'\n",
      "Traceback (most recent call last):\n"
     ]
    },
    {
     "name": "stdout",
     "output_type": "stream",
     "text": [
      "\n",
      "caught error in body, continuing: 'latitude'"
     ]
    },
    {
     "name": "stderr",
     "output_type": "stream",
     "text": [
      "  File \"<ipython-input-2-872ebd74c558>\", line 26, in search_instagram_tag\n",
      "    if insta_post['location']['latitude'] != None and insta_post['location']['longitude'] != None:\n",
      "KeyError: 'latitude'\n",
      "Traceback (most recent call last):\n"
     ]
    },
    {
     "name": "stdout",
     "output_type": "stream",
     "text": [
      "\n",
      "caught error in body, continuing: 'latitude'"
     ]
    },
    {
     "name": "stderr",
     "output_type": "stream",
     "text": [
      "  File \"<ipython-input-2-872ebd74c558>\", line 26, in search_instagram_tag\n",
      "    if insta_post['location']['latitude'] != None and insta_post['location']['longitude'] != None:\n",
      "KeyError: 'latitude'\n",
      "Traceback (most recent call last):\n"
     ]
    },
    {
     "name": "stdout",
     "output_type": "stream",
     "text": [
      "\n",
      "caught error in body, continuing: 'latitude'\n",
      "caught error in body, continuing: 'latitude'\n",
      "caught error in body, continuing: 'latitude'\n",
      "caught error in body, continuing: 'latitude'"
     ]
    },
    {
     "name": "stderr",
     "output_type": "stream",
     "text": [
      "  File \"<ipython-input-2-872ebd74c558>\", line 26, in search_instagram_tag\n",
      "    if insta_post['location']['latitude'] != None and insta_post['location']['longitude'] != None:\n",
      "KeyError: 'latitude'\n",
      "Traceback (most recent call last):\n",
      "  File \"<ipython-input-2-872ebd74c558>\", line 26, in search_instagram_tag\n",
      "    if insta_post['location']['latitude'] != None and insta_post['location']['longitude'] != None:\n",
      "KeyError: 'latitude'\n",
      "Traceback (most recent call last):\n",
      "  File \"<ipython-input-2-872ebd74c558>\", line 26, in search_instagram_tag\n",
      "    if insta_post['location']['latitude'] != None and insta_post['location']['longitude'] != None:\n",
      "KeyError: 'latitude'\n",
      "Traceback (most recent call last):\n",
      "  File \"<ipython-input-2-872ebd74c558>\", line 26, in search_instagram_tag\n",
      "    if insta_post['location']['latitude'] != None and insta_post['location']['longitude'] != None:\n",
      "KeyError: 'latitude'\n",
      "Traceback (most recent call last):\n"
     ]
    },
    {
     "name": "stdout",
     "output_type": "stream",
     "text": [
      "\n",
      "caught error in body, continuing: 'latitude'"
     ]
    },
    {
     "name": "stderr",
     "output_type": "stream",
     "text": [
      "  File \"<ipython-input-2-872ebd74c558>\", line 26, in search_instagram_tag\n",
      "    if insta_post['location']['latitude'] != None and insta_post['location']['longitude'] != None:\n",
      "KeyError: 'latitude'\n",
      "Traceback (most recent call last):\n"
     ]
    },
    {
     "name": "stdout",
     "output_type": "stream",
     "text": [
      "\n",
      "caught error in body, continuing: 'latitude'"
     ]
    },
    {
     "name": "stderr",
     "output_type": "stream",
     "text": [
      "  File \"<ipython-input-2-872ebd74c558>\", line 26, in search_instagram_tag\n",
      "    if insta_post['location']['latitude'] != None and insta_post['location']['longitude'] != None:\n",
      "KeyError: 'latitude'\n",
      "Traceback (most recent call last):\n"
     ]
    },
    {
     "name": "stdout",
     "output_type": "stream",
     "text": [
      "\n",
      "caught error in body, continuing: 'latitude'"
     ]
    },
    {
     "name": "stderr",
     "output_type": "stream",
     "text": [
      "  File \"<ipython-input-2-872ebd74c558>\", line 26, in search_instagram_tag\n",
      "    if insta_post['location']['latitude'] != None and insta_post['location']['longitude'] != None:\n",
      "KeyError: 'latitude'\n",
      "Traceback (most recent call last):\n"
     ]
    },
    {
     "name": "stdout",
     "output_type": "stream",
     "text": [
      "\n",
      "caught error in body, continuing: 'latitude'"
     ]
    },
    {
     "name": "stderr",
     "output_type": "stream",
     "text": [
      "  File \"<ipython-input-2-872ebd74c558>\", line 26, in search_instagram_tag\n",
      "    if insta_post['location']['latitude'] != None and insta_post['location']['longitude'] != None:\n",
      "KeyError: 'latitude'\n",
      "Traceback (most recent call last):\n"
     ]
    },
    {
     "name": "stdout",
     "output_type": "stream",
     "text": [
      "\n",
      "caught error in body, continuing: 'latitude'"
     ]
    },
    {
     "name": "stderr",
     "output_type": "stream",
     "text": [
      "  File \"<ipython-input-2-872ebd74c558>\", line 26, in search_instagram_tag\n",
      "    if insta_post['location']['latitude'] != None and insta_post['location']['longitude'] != None:\n",
      "KeyError: 'latitude'\n",
      "Traceback (most recent call last):\n"
     ]
    },
    {
     "name": "stdout",
     "output_type": "stream",
     "text": [
      "\n",
      "caught error in body, continuing: 'latitude'"
     ]
    },
    {
     "name": "stderr",
     "output_type": "stream",
     "text": [
      "  File \"<ipython-input-2-872ebd74c558>\", line 26, in search_instagram_tag\n",
      "    if insta_post['location']['latitude'] != None and insta_post['location']['longitude'] != None:\n",
      "KeyError: 'latitude'\n",
      "Traceback (most recent call last):\n"
     ]
    },
    {
     "name": "stdout",
     "output_type": "stream",
     "text": [
      "\n",
      "caught error in body, continuing: 'latitude'"
     ]
    },
    {
     "name": "stderr",
     "output_type": "stream",
     "text": [
      "  File \"<ipython-input-2-872ebd74c558>\", line 26, in search_instagram_tag\n",
      "    if insta_post['location']['latitude'] != None and insta_post['location']['longitude'] != None:\n",
      "KeyError: 'latitude'\n",
      "Traceback (most recent call last):\n"
     ]
    },
    {
     "name": "stdout",
     "output_type": "stream",
     "text": [
      "\n",
      "caught error in body, continuing: 'latitude'"
     ]
    },
    {
     "name": "stderr",
     "output_type": "stream",
     "text": [
      "  File \"<ipython-input-2-872ebd74c558>\", line 26, in search_instagram_tag\n",
      "    if insta_post['location']['latitude'] != None and insta_post['location']['longitude'] != None:\n",
      "KeyError: 'latitude'\n",
      "Traceback (most recent call last):\n"
     ]
    },
    {
     "name": "stdout",
     "output_type": "stream",
     "text": [
      "\n",
      "caught error in body, continuing: 'latitude'"
     ]
    },
    {
     "name": "stderr",
     "output_type": "stream",
     "text": [
      "  File \"<ipython-input-2-872ebd74c558>\", line 26, in search_instagram_tag\n",
      "    if insta_post['location']['latitude'] != None and insta_post['location']['longitude'] != None:\n",
      "KeyError: 'latitude'\n",
      "Traceback (most recent call last):\n"
     ]
    },
    {
     "name": "stdout",
     "output_type": "stream",
     "text": [
      "\n",
      "caught error in body, continuing: 'latitude'"
     ]
    },
    {
     "name": "stderr",
     "output_type": "stream",
     "text": [
      "  File \"<ipython-input-2-872ebd74c558>\", line 26, in search_instagram_tag\n",
      "    if insta_post['location']['latitude'] != None and insta_post['location']['longitude'] != None:\n",
      "KeyError: 'latitude'\n",
      "Traceback (most recent call last):\n"
     ]
    },
    {
     "name": "stdout",
     "output_type": "stream",
     "text": [
      "\n",
      "caught error in body, continuing: 'latitude'"
     ]
    },
    {
     "name": "stderr",
     "output_type": "stream",
     "text": [
      "  File \"<ipython-input-2-872ebd74c558>\", line 26, in search_instagram_tag\n",
      "    if insta_post['location']['latitude'] != None and insta_post['location']['longitude'] != None:\n",
      "KeyError: 'latitude'\n",
      "Traceback (most recent call last):\n"
     ]
    },
    {
     "name": "stdout",
     "output_type": "stream",
     "text": [
      "\n",
      "caught error in body, continuing: 'latitude'"
     ]
    },
    {
     "name": "stderr",
     "output_type": "stream",
     "text": [
      "  File \"<ipython-input-2-872ebd74c558>\", line 26, in search_instagram_tag\n",
      "    if insta_post['location']['latitude'] != None and insta_post['location']['longitude'] != None:\n",
      "KeyError: 'latitude'\n",
      "Traceback (most recent call last):\n"
     ]
    },
    {
     "name": "stdout",
     "output_type": "stream",
     "text": [
      "\n",
      "caught error in body, continuing: 'latitude'\n",
      "caught error in body, continuing: 'latitude'\n",
      "caught error in body, continuing: 'latitude'"
     ]
    },
    {
     "name": "stderr",
     "output_type": "stream",
     "text": [
      "  File \"<ipython-input-2-872ebd74c558>\", line 26, in search_instagram_tag\n",
      "    if insta_post['location']['latitude'] != None and insta_post['location']['longitude'] != None:\n",
      "KeyError: 'latitude'\n",
      "Traceback (most recent call last):\n",
      "  File \"<ipython-input-2-872ebd74c558>\", line 26, in search_instagram_tag\n",
      "    if insta_post['location']['latitude'] != None and insta_post['location']['longitude'] != None:\n",
      "KeyError: 'latitude'\n",
      "Traceback (most recent call last):\n",
      "  File \"<ipython-input-2-872ebd74c558>\", line 26, in search_instagram_tag\n",
      "    if insta_post['location']['latitude'] != None and insta_post['location']['longitude'] != None:\n",
      "KeyError: 'latitude'\n",
      "Traceback (most recent call last):\n"
     ]
    },
    {
     "name": "stdout",
     "output_type": "stream",
     "text": [
      "\n",
      "caught error in body, continuing: 'latitude'\n",
      "caught error in body, continuing: 'latitude'\n",
      "caught error in body, continuing: 'latitude'"
     ]
    },
    {
     "name": "stderr",
     "output_type": "stream",
     "text": [
      "  File \"<ipython-input-2-872ebd74c558>\", line 26, in search_instagram_tag\n",
      "    if insta_post['location']['latitude'] != None and insta_post['location']['longitude'] != None:\n",
      "KeyError: 'latitude'\n",
      "Traceback (most recent call last):\n",
      "  File \"<ipython-input-2-872ebd74c558>\", line 26, in search_instagram_tag\n",
      "    if insta_post['location']['latitude'] != None and insta_post['location']['longitude'] != None:\n",
      "KeyError: 'latitude'\n",
      "Traceback (most recent call last):\n",
      "  File \"<ipython-input-2-872ebd74c558>\", line 26, in search_instagram_tag\n",
      "    if insta_post['location']['latitude'] != None and insta_post['location']['longitude'] != None:\n",
      "KeyError: 'latitude'\n",
      "Traceback (most recent call last):\n"
     ]
    },
    {
     "name": "stdout",
     "output_type": "stream",
     "text": [
      "\n",
      "caught error in body, continuing: 'latitude'\n",
      "caught error in body, continuing: 'latitude'\n",
      "caught error in body, continuing: 'latitude'"
     ]
    },
    {
     "name": "stderr",
     "output_type": "stream",
     "text": [
      "  File \"<ipython-input-2-872ebd74c558>\", line 26, in search_instagram_tag\n",
      "    if insta_post['location']['latitude'] != None and insta_post['location']['longitude'] != None:\n",
      "KeyError: 'latitude'\n",
      "Traceback (most recent call last):\n",
      "  File \"<ipython-input-2-872ebd74c558>\", line 26, in search_instagram_tag\n",
      "    if insta_post['location']['latitude'] != None and insta_post['location']['longitude'] != None:\n",
      "KeyError: 'latitude'\n",
      "Traceback (most recent call last):\n",
      "  File \"<ipython-input-2-872ebd74c558>\", line 26, in search_instagram_tag\n",
      "    if insta_post['location']['latitude'] != None and insta_post['location']['longitude'] != None:\n",
      "KeyError: 'latitude'\n",
      "Traceback (most recent call last):\n"
     ]
    },
    {
     "name": "stdout",
     "output_type": "stream",
     "text": [
      "\n",
      "caught error in body, continuing: 'latitude'"
     ]
    },
    {
     "name": "stderr",
     "output_type": "stream",
     "text": [
      "  File \"<ipython-input-2-872ebd74c558>\", line 26, in search_instagram_tag\n",
      "    if insta_post['location']['latitude'] != None and insta_post['location']['longitude'] != None:\n",
      "KeyError: 'latitude'\n",
      "Traceback (most recent call last):\n"
     ]
    },
    {
     "name": "stdout",
     "output_type": "stream",
     "text": [
      "\n",
      "caught error in body, continuing: 'latitude'"
     ]
    },
    {
     "name": "stderr",
     "output_type": "stream",
     "text": [
      "  File \"<ipython-input-2-872ebd74c558>\", line 26, in search_instagram_tag\n",
      "    if insta_post['location']['latitude'] != None and insta_post['location']['longitude'] != None:\n",
      "KeyError: 'latitude'\n",
      "Traceback (most recent call last):\n"
     ]
    },
    {
     "name": "stdout",
     "output_type": "stream",
     "text": [
      "\n",
      "caught error in body, continuing: 'latitude'"
     ]
    },
    {
     "name": "stderr",
     "output_type": "stream",
     "text": [
      "  File \"<ipython-input-2-872ebd74c558>\", line 26, in search_instagram_tag\n",
      "    if insta_post['location']['latitude'] != None and insta_post['location']['longitude'] != None:\n",
      "KeyError: 'latitude'\n",
      "Traceback (most recent call last):\n"
     ]
    },
    {
     "name": "stdout",
     "output_type": "stream",
     "text": [
      "\n",
      "caught error in body, continuing: 'latitude'"
     ]
    },
    {
     "name": "stderr",
     "output_type": "stream",
     "text": [
      "  File \"<ipython-input-2-872ebd74c558>\", line 26, in search_instagram_tag\n",
      "    if insta_post['location']['latitude'] != None and insta_post['location']['longitude'] != None:\n",
      "KeyError: 'latitude'\n",
      "Traceback (most recent call last):\n"
     ]
    },
    {
     "name": "stdout",
     "output_type": "stream",
     "text": [
      "\n",
      "caught error in body, continuing: 'latitude'"
     ]
    },
    {
     "name": "stderr",
     "output_type": "stream",
     "text": [
      "  File \"<ipython-input-2-872ebd74c558>\", line 26, in search_instagram_tag\n",
      "    if insta_post['location']['latitude'] != None and insta_post['location']['longitude'] != None:\n",
      "KeyError: 'latitude'\n",
      "Traceback (most recent call last):\n"
     ]
    },
    {
     "name": "stdout",
     "output_type": "stream",
     "text": [
      "\n",
      "caught error in body, continuing: 'latitude'"
     ]
    },
    {
     "name": "stderr",
     "output_type": "stream",
     "text": [
      "  File \"<ipython-input-2-872ebd74c558>\", line 26, in search_instagram_tag\n",
      "    if insta_post['location']['latitude'] != None and insta_post['location']['longitude'] != None:\n",
      "KeyError: 'latitude'\n",
      "Traceback (most recent call last):\n"
     ]
    },
    {
     "name": "stdout",
     "output_type": "stream",
     "text": [
      "\n",
      "caught error in body, continuing: 'latitude'"
     ]
    },
    {
     "name": "stderr",
     "output_type": "stream",
     "text": [
      "  File \"<ipython-input-2-872ebd74c558>\", line 26, in search_instagram_tag\n",
      "    if insta_post['location']['latitude'] != None and insta_post['location']['longitude'] != None:\n",
      "KeyError: 'latitude'\n",
      "Traceback (most recent call last):\n"
     ]
    },
    {
     "name": "stdout",
     "output_type": "stream",
     "text": [
      "\n",
      "caught error in body, continuing: 'latitude'"
     ]
    },
    {
     "name": "stderr",
     "output_type": "stream",
     "text": [
      "  File \"<ipython-input-2-872ebd74c558>\", line 26, in search_instagram_tag\n",
      "    if insta_post['location']['latitude'] != None and insta_post['location']['longitude'] != None:\n",
      "KeyError: 'latitude'\n",
      "Traceback (most recent call last):\n"
     ]
    },
    {
     "name": "stdout",
     "output_type": "stream",
     "text": [
      "\n",
      "caught error in body, continuing: 'latitude'"
     ]
    },
    {
     "name": "stderr",
     "output_type": "stream",
     "text": [
      "  File \"<ipython-input-2-872ebd74c558>\", line 26, in search_instagram_tag\n",
      "    if insta_post['location']['latitude'] != None and insta_post['location']['longitude'] != None:\n",
      "KeyError: 'latitude'\n",
      "Traceback (most recent call last):\n"
     ]
    },
    {
     "name": "stdout",
     "output_type": "stream",
     "text": [
      "\n",
      "caught error in body, continuing: 'latitude'\n",
      "caught error in body, continuing: 'latitude'"
     ]
    },
    {
     "name": "stderr",
     "output_type": "stream",
     "text": [
      "  File \"<ipython-input-2-872ebd74c558>\", line 26, in search_instagram_tag\n",
      "    if insta_post['location']['latitude'] != None and insta_post['location']['longitude'] != None:\n",
      "KeyError: 'latitude'\n",
      "Traceback (most recent call last):\n",
      "  File \"<ipython-input-2-872ebd74c558>\", line 26, in search_instagram_tag\n",
      "    if insta_post['location']['latitude'] != None and insta_post['location']['longitude'] != None:\n",
      "KeyError: 'latitude'\n",
      "Traceback (most recent call last):\n"
     ]
    },
    {
     "name": "stdout",
     "output_type": "stream",
     "text": [
      "\n",
      "caught error in body, continuing: 'latitude'"
     ]
    },
    {
     "name": "stderr",
     "output_type": "stream",
     "text": [
      "  File \"<ipython-input-2-872ebd74c558>\", line 26, in search_instagram_tag\n",
      "    if insta_post['location']['latitude'] != None and insta_post['location']['longitude'] != None:\n",
      "KeyError: 'latitude'\n",
      "Traceback (most recent call last):\n"
     ]
    },
    {
     "name": "stdout",
     "output_type": "stream",
     "text": [
      "\n",
      "caught error in body, continuing: 'latitude'"
     ]
    },
    {
     "name": "stderr",
     "output_type": "stream",
     "text": [
      "  File \"<ipython-input-2-872ebd74c558>\", line 26, in search_instagram_tag\n",
      "    if insta_post['location']['latitude'] != None and insta_post['location']['longitude'] != None:\n",
      "KeyError: 'latitude'\n",
      "Traceback (most recent call last):\n"
     ]
    },
    {
     "name": "stdout",
     "output_type": "stream",
     "text": [
      "\n",
      "caught error in body, continuing: 'latitude'"
     ]
    },
    {
     "name": "stderr",
     "output_type": "stream",
     "text": [
      "  File \"<ipython-input-2-872ebd74c558>\", line 26, in search_instagram_tag\n",
      "    if insta_post['location']['latitude'] != None and insta_post['location']['longitude'] != None:\n",
      "KeyError: 'latitude'\n",
      "Traceback (most recent call last):\n"
     ]
    },
    {
     "name": "stdout",
     "output_type": "stream",
     "text": [
      "\n",
      "caught error in body, continuing: 'latitude'"
     ]
    },
    {
     "name": "stderr",
     "output_type": "stream",
     "text": [
      "  File \"<ipython-input-2-872ebd74c558>\", line 26, in search_instagram_tag\n",
      "    if insta_post['location']['latitude'] != None and insta_post['location']['longitude'] != None:\n",
      "KeyError: 'latitude'\n",
      "Traceback (most recent call last):\n"
     ]
    },
    {
     "name": "stdout",
     "output_type": "stream",
     "text": [
      "\n",
      "caught error in body, continuing: 'latitude'"
     ]
    },
    {
     "name": "stderr",
     "output_type": "stream",
     "text": [
      "  File \"<ipython-input-2-872ebd74c558>\", line 26, in search_instagram_tag\n",
      "    if insta_post['location']['latitude'] != None and insta_post['location']['longitude'] != None:\n",
      "KeyError: 'latitude'\n",
      "Traceback (most recent call last):\n"
     ]
    },
    {
     "name": "stdout",
     "output_type": "stream",
     "text": [
      "\n",
      "caught error in body, continuing: 'latitude'"
     ]
    },
    {
     "name": "stderr",
     "output_type": "stream",
     "text": [
      "  File \"<ipython-input-2-872ebd74c558>\", line 26, in search_instagram_tag\n",
      "    if insta_post['location']['latitude'] != None and insta_post['location']['longitude'] != None:\n",
      "KeyError: 'latitude'\n",
      "Traceback (most recent call last):\n"
     ]
    },
    {
     "name": "stdout",
     "output_type": "stream",
     "text": [
      "\n",
      "caught error in body, continuing: 'latitude'"
     ]
    },
    {
     "name": "stderr",
     "output_type": "stream",
     "text": [
      "  File \"<ipython-input-2-872ebd74c558>\", line 26, in search_instagram_tag\n",
      "    if insta_post['location']['latitude'] != None and insta_post['location']['longitude'] != None:\n",
      "KeyError: 'latitude'\n",
      "Traceback (most recent call last):\n"
     ]
    },
    {
     "name": "stdout",
     "output_type": "stream",
     "text": [
      "\n",
      "caught error in body, continuing: 'latitude'"
     ]
    },
    {
     "name": "stderr",
     "output_type": "stream",
     "text": [
      "  File \"<ipython-input-2-872ebd74c558>\", line 26, in search_instagram_tag\n",
      "    if insta_post['location']['latitude'] != None and insta_post['location']['longitude'] != None:\n",
      "KeyError: 'latitude'\n",
      "Traceback (most recent call last):\n"
     ]
    },
    {
     "name": "stdout",
     "output_type": "stream",
     "text": [
      "\n",
      "caught error in body, continuing: 'latitude'"
     ]
    },
    {
     "name": "stderr",
     "output_type": "stream",
     "text": [
      "  File \"<ipython-input-2-872ebd74c558>\", line 26, in search_instagram_tag\n",
      "    if insta_post['location']['latitude'] != None and insta_post['location']['longitude'] != None:\n",
      "KeyError: 'latitude'\n",
      "Traceback (most recent call last):\n"
     ]
    },
    {
     "name": "stdout",
     "output_type": "stream",
     "text": [
      "\n",
      "caught error in body, continuing: 'latitude'\n",
      "caught error in body, continuing: 'latitude'"
     ]
    },
    {
     "name": "stderr",
     "output_type": "stream",
     "text": [
      "  File \"<ipython-input-2-872ebd74c558>\", line 26, in search_instagram_tag\n",
      "    if insta_post['location']['latitude'] != None and insta_post['location']['longitude'] != None:\n",
      "KeyError: 'latitude'\n",
      "Traceback (most recent call last):\n",
      "  File \"<ipython-input-2-872ebd74c558>\", line 26, in search_instagram_tag\n",
      "    if insta_post['location']['latitude'] != None and insta_post['location']['longitude'] != None:\n",
      "KeyError: 'latitude'\n",
      "Traceback (most recent call last):\n"
     ]
    },
    {
     "name": "stdout",
     "output_type": "stream",
     "text": [
      "\n",
      "caught error in body, continuing: 'latitude'"
     ]
    },
    {
     "name": "stderr",
     "output_type": "stream",
     "text": [
      "  File \"<ipython-input-2-872ebd74c558>\", line 26, in search_instagram_tag\n",
      "    if insta_post['location']['latitude'] != None and insta_post['location']['longitude'] != None:\n",
      "KeyError: 'latitude'\n",
      "Traceback (most recent call last):\n"
     ]
    },
    {
     "name": "stdout",
     "output_type": "stream",
     "text": [
      "\n",
      "caught error in body, continuing: 'latitude'"
     ]
    },
    {
     "name": "stderr",
     "output_type": "stream",
     "text": [
      "  File \"<ipython-input-2-872ebd74c558>\", line 26, in search_instagram_tag\n",
      "    if insta_post['location']['latitude'] != None and insta_post['location']['longitude'] != None:\n",
      "KeyError: 'latitude'\n",
      "Traceback (most recent call last):\n"
     ]
    },
    {
     "name": "stdout",
     "output_type": "stream",
     "text": [
      "\n",
      "caught error in body, continuing: 'latitude'"
     ]
    },
    {
     "name": "stderr",
     "output_type": "stream",
     "text": [
      "  File \"<ipython-input-2-872ebd74c558>\", line 26, in search_instagram_tag\n",
      "    if insta_post['location']['latitude'] != None and insta_post['location']['longitude'] != None:\n",
      "KeyError: 'latitude'\n",
      "Traceback (most recent call last):\n"
     ]
    },
    {
     "name": "stdout",
     "output_type": "stream",
     "text": [
      "\n",
      "caught error in body, continuing: 'latitude'"
     ]
    },
    {
     "name": "stderr",
     "output_type": "stream",
     "text": [
      "  File \"<ipython-input-2-872ebd74c558>\", line 26, in search_instagram_tag\n",
      "    if insta_post['location']['latitude'] != None and insta_post['location']['longitude'] != None:\n",
      "KeyError: 'latitude'\n",
      "Traceback (most recent call last):\n"
     ]
    },
    {
     "name": "stdout",
     "output_type": "stream",
     "text": [
      "\n",
      "caught error in body, continuing: 'latitude'"
     ]
    },
    {
     "name": "stderr",
     "output_type": "stream",
     "text": [
      "  File \"<ipython-input-2-872ebd74c558>\", line 26, in search_instagram_tag\n",
      "    if insta_post['location']['latitude'] != None and insta_post['location']['longitude'] != None:\n",
      "KeyError: 'latitude'\n",
      "Traceback (most recent call last):\n"
     ]
    },
    {
     "name": "stdout",
     "output_type": "stream",
     "text": [
      "\n",
      "caught error in body, continuing: 'latitude'"
     ]
    },
    {
     "name": "stderr",
     "output_type": "stream",
     "text": [
      "  File \"<ipython-input-2-872ebd74c558>\", line 26, in search_instagram_tag\n",
      "    if insta_post['location']['latitude'] != None and insta_post['location']['longitude'] != None:\n",
      "KeyError: 'latitude'\n",
      "Traceback (most recent call last):\n"
     ]
    },
    {
     "name": "stdout",
     "output_type": "stream",
     "text": [
      "\n",
      "caught error in body, continuing: 'latitude'"
     ]
    },
    {
     "name": "stderr",
     "output_type": "stream",
     "text": [
      "  File \"<ipython-input-2-872ebd74c558>\", line 26, in search_instagram_tag\n",
      "    if insta_post['location']['latitude'] != None and insta_post['location']['longitude'] != None:\n",
      "KeyError: 'latitude'\n",
      "Traceback (most recent call last):\n"
     ]
    },
    {
     "name": "stdout",
     "output_type": "stream",
     "text": [
      "\n",
      "caught error in body, continuing: 'latitude'"
     ]
    },
    {
     "name": "stderr",
     "output_type": "stream",
     "text": [
      "  File \"<ipython-input-2-872ebd74c558>\", line 26, in search_instagram_tag\n",
      "    if insta_post['location']['latitude'] != None and insta_post['location']['longitude'] != None:\n",
      "KeyError: 'latitude'\n",
      "Traceback (most recent call last):\n"
     ]
    },
    {
     "name": "stdout",
     "output_type": "stream",
     "text": [
      "\n",
      "caught error in body, continuing: 'latitude'"
     ]
    },
    {
     "name": "stderr",
     "output_type": "stream",
     "text": [
      "  File \"<ipython-input-2-872ebd74c558>\", line 26, in search_instagram_tag\n",
      "    if insta_post['location']['latitude'] != None and insta_post['location']['longitude'] != None:\n",
      "KeyError: 'latitude'\n",
      "Traceback (most recent call last):\n"
     ]
    },
    {
     "name": "stdout",
     "output_type": "stream",
     "text": [
      "\n",
      "caught error in body, continuing: 'latitude'"
     ]
    },
    {
     "name": "stderr",
     "output_type": "stream",
     "text": [
      "  File \"<ipython-input-2-872ebd74c558>\", line 26, in search_instagram_tag\n",
      "    if insta_post['location']['latitude'] != None and insta_post['location']['longitude'] != None:\n",
      "KeyError: 'latitude'\n",
      "Traceback (most recent call last):\n"
     ]
    },
    {
     "name": "stdout",
     "output_type": "stream",
     "text": [
      "\n",
      "caught error in body, continuing: 'latitude'"
     ]
    },
    {
     "name": "stderr",
     "output_type": "stream",
     "text": [
      "  File \"<ipython-input-2-872ebd74c558>\", line 26, in search_instagram_tag\n",
      "    if insta_post['location']['latitude'] != None and insta_post['location']['longitude'] != None:\n",
      "KeyError: 'latitude'\n",
      "Traceback (most recent call last):\n"
     ]
    },
    {
     "name": "stdout",
     "output_type": "stream",
     "text": [
      "\n",
      "caught error in body, continuing: 'latitude'"
     ]
    },
    {
     "name": "stderr",
     "output_type": "stream",
     "text": [
      "  File \"<ipython-input-2-872ebd74c558>\", line 26, in search_instagram_tag\n",
      "    if insta_post['location']['latitude'] != None and insta_post['location']['longitude'] != None:\n",
      "KeyError: 'latitude'\n",
      "Traceback (most recent call last):\n"
     ]
    },
    {
     "name": "stdout",
     "output_type": "stream",
     "text": [
      "\n",
      "caught error in body, continuing: 'latitude'"
     ]
    },
    {
     "name": "stderr",
     "output_type": "stream",
     "text": [
      "  File \"<ipython-input-2-872ebd74c558>\", line 26, in search_instagram_tag\n",
      "    if insta_post['location']['latitude'] != None and insta_post['location']['longitude'] != None:\n",
      "KeyError: 'latitude'\n",
      "Traceback (most recent call last):\n"
     ]
    },
    {
     "name": "stdout",
     "output_type": "stream",
     "text": [
      "\n",
      "caught error in body, continuing: 'latitude'"
     ]
    },
    {
     "name": "stderr",
     "output_type": "stream",
     "text": [
      "  File \"<ipython-input-2-872ebd74c558>\", line 26, in search_instagram_tag\n",
      "    if insta_post['location']['latitude'] != None and insta_post['location']['longitude'] != None:\n",
      "KeyError: 'latitude'\n",
      "Traceback (most recent call last):\n"
     ]
    },
    {
     "name": "stdout",
     "output_type": "stream",
     "text": [
      "\n",
      "caught error in body, continuing: 'latitude'"
     ]
    },
    {
     "name": "stderr",
     "output_type": "stream",
     "text": [
      "  File \"<ipython-input-2-872ebd74c558>\", line 26, in search_instagram_tag\n",
      "    if insta_post['location']['latitude'] != None and insta_post['location']['longitude'] != None:\n",
      "KeyError: 'latitude'\n",
      "Traceback (most recent call last):\n"
     ]
    },
    {
     "name": "stdout",
     "output_type": "stream",
     "text": [
      "\n",
      "caught error in body, continuing: 'latitude'"
     ]
    },
    {
     "name": "stderr",
     "output_type": "stream",
     "text": [
      "  File \"<ipython-input-2-872ebd74c558>\", line 26, in search_instagram_tag\n",
      "    if insta_post['location']['latitude'] != None and insta_post['location']['longitude'] != None:\n",
      "KeyError: 'latitude'\n",
      "Traceback (most recent call last):\n"
     ]
    },
    {
     "name": "stdout",
     "output_type": "stream",
     "text": [
      "\n",
      "caught error in body, continuing: 'latitude'"
     ]
    },
    {
     "name": "stderr",
     "output_type": "stream",
     "text": [
      "  File \"<ipython-input-2-872ebd74c558>\", line 26, in search_instagram_tag\n",
      "    if insta_post['location']['latitude'] != None and insta_post['location']['longitude'] != None:\n",
      "KeyError: 'latitude'\n",
      "Traceback (most recent call last):\n"
     ]
    },
    {
     "name": "stdout",
     "output_type": "stream",
     "text": [
      "\n",
      "caught error in body, continuing: 'latitude'"
     ]
    },
    {
     "name": "stderr",
     "output_type": "stream",
     "text": [
      "  File \"<ipython-input-2-872ebd74c558>\", line 26, in search_instagram_tag\n",
      "    if insta_post['location']['latitude'] != None and insta_post['location']['longitude'] != None:\n",
      "KeyError: 'latitude'\n",
      "Traceback (most recent call last):\n"
     ]
    },
    {
     "name": "stdout",
     "output_type": "stream",
     "text": [
      "\n",
      "caught error in body, continuing: 'latitude'"
     ]
    },
    {
     "name": "stderr",
     "output_type": "stream",
     "text": [
      "  File \"<ipython-input-2-872ebd74c558>\", line 26, in search_instagram_tag\n",
      "    if insta_post['location']['latitude'] != None and insta_post['location']['longitude'] != None:\n",
      "KeyError: 'latitude'\n",
      "Traceback (most recent call last):\n"
     ]
    },
    {
     "name": "stdout",
     "output_type": "stream",
     "text": [
      "\n",
      "caught error in body, continuing: 'latitude'"
     ]
    },
    {
     "name": "stderr",
     "output_type": "stream",
     "text": [
      "  File \"<ipython-input-2-872ebd74c558>\", line 26, in search_instagram_tag\n",
      "    if insta_post['location']['latitude'] != None and insta_post['location']['longitude'] != None:\n",
      "KeyError: 'latitude'\n",
      "Traceback (most recent call last):\n"
     ]
    },
    {
     "name": "stdout",
     "output_type": "stream",
     "text": [
      "\n",
      "caught error in body, continuing: 'latitude'\n",
      "caught error in body, continuing: 'latitude'\n",
      "caught error in body, continuing: 'latitude'\n",
      "caught error in body, continuing: 'latitude'"
     ]
    },
    {
     "name": "stderr",
     "output_type": "stream",
     "text": [
      "  File \"<ipython-input-2-872ebd74c558>\", line 26, in search_instagram_tag\n",
      "    if insta_post['location']['latitude'] != None and insta_post['location']['longitude'] != None:\n",
      "KeyError: 'latitude'\n",
      "Traceback (most recent call last):\n",
      "  File \"<ipython-input-2-872ebd74c558>\", line 26, in search_instagram_tag\n",
      "    if insta_post['location']['latitude'] != None and insta_post['location']['longitude'] != None:\n",
      "KeyError: 'latitude'\n",
      "Traceback (most recent call last):\n",
      "  File \"<ipython-input-2-872ebd74c558>\", line 26, in search_instagram_tag\n",
      "    if insta_post['location']['latitude'] != None and insta_post['location']['longitude'] != None:\n",
      "KeyError: 'latitude'\n",
      "Traceback (most recent call last):\n",
      "  File \"<ipython-input-2-872ebd74c558>\", line 26, in search_instagram_tag\n",
      "    if insta_post['location']['latitude'] != None and insta_post['location']['longitude'] != None:\n",
      "KeyError: 'latitude'\n",
      "Traceback (most recent call last):\n"
     ]
    },
    {
     "name": "stdout",
     "output_type": "stream",
     "text": [
      "\n",
      "caught error in body, continuing: 'latitude'"
     ]
    },
    {
     "name": "stderr",
     "output_type": "stream",
     "text": [
      "  File \"<ipython-input-2-872ebd74c558>\", line 26, in search_instagram_tag\n",
      "    if insta_post['location']['latitude'] != None and insta_post['location']['longitude'] != None:\n",
      "KeyError: 'latitude'\n",
      "Traceback (most recent call last):\n"
     ]
    },
    {
     "name": "stdout",
     "output_type": "stream",
     "text": [
      "\n",
      "caught error in body, continuing: 'latitude'"
     ]
    },
    {
     "name": "stderr",
     "output_type": "stream",
     "text": [
      "  File \"<ipython-input-2-872ebd74c558>\", line 26, in search_instagram_tag\n",
      "    if insta_post['location']['latitude'] != None and insta_post['location']['longitude'] != None:\n",
      "KeyError: 'latitude'\n",
      "Traceback (most recent call last):\n"
     ]
    },
    {
     "name": "stdout",
     "output_type": "stream",
     "text": [
      "\n",
      "caught error in body, continuing: 'latitude'"
     ]
    },
    {
     "name": "stderr",
     "output_type": "stream",
     "text": [
      "  File \"<ipython-input-2-872ebd74c558>\", line 26, in search_instagram_tag\n",
      "    if insta_post['location']['latitude'] != None and insta_post['location']['longitude'] != None:\n",
      "KeyError: 'latitude'\n",
      "Traceback (most recent call last):\n"
     ]
    },
    {
     "name": "stdout",
     "output_type": "stream",
     "text": [
      "\n",
      "caught error in body, continuing: 'latitude'"
     ]
    },
    {
     "name": "stderr",
     "output_type": "stream",
     "text": [
      "  File \"<ipython-input-2-872ebd74c558>\", line 26, in search_instagram_tag\n",
      "    if insta_post['location']['latitude'] != None and insta_post['location']['longitude'] != None:\n",
      "KeyError: 'latitude'\n",
      "Traceback (most recent call last):\n"
     ]
    },
    {
     "name": "stdout",
     "output_type": "stream",
     "text": [
      "\n",
      "caught error in body, continuing: 'latitude'"
     ]
    },
    {
     "name": "stderr",
     "output_type": "stream",
     "text": [
      "  File \"<ipython-input-2-872ebd74c558>\", line 26, in search_instagram_tag\n",
      "    if insta_post['location']['latitude'] != None and insta_post['location']['longitude'] != None:\n",
      "KeyError: 'latitude'\n",
      "Traceback (most recent call last):\n"
     ]
    },
    {
     "name": "stdout",
     "output_type": "stream",
     "text": [
      "\n",
      "caught error in body, continuing: 'latitude'"
     ]
    },
    {
     "name": "stderr",
     "output_type": "stream",
     "text": [
      "  File \"<ipython-input-2-872ebd74c558>\", line 26, in search_instagram_tag\n",
      "    if insta_post['location']['latitude'] != None and insta_post['location']['longitude'] != None:\n",
      "KeyError: 'latitude'\n",
      "Traceback (most recent call last):\n"
     ]
    },
    {
     "name": "stdout",
     "output_type": "stream",
     "text": [
      "\n",
      "caught error in body, continuing: 'latitude'"
     ]
    },
    {
     "name": "stderr",
     "output_type": "stream",
     "text": [
      "  File \"<ipython-input-2-872ebd74c558>\", line 26, in search_instagram_tag\n",
      "    if insta_post['location']['latitude'] != None and insta_post['location']['longitude'] != None:\n",
      "KeyError: 'latitude'\n",
      "Traceback (most recent call last):\n"
     ]
    },
    {
     "name": "stdout",
     "output_type": "stream",
     "text": [
      "\n",
      "caught error in body, continuing: 'latitude'"
     ]
    },
    {
     "name": "stderr",
     "output_type": "stream",
     "text": [
      "  File \"<ipython-input-2-872ebd74c558>\", line 26, in search_instagram_tag\n",
      "    if insta_post['location']['latitude'] != None and insta_post['location']['longitude'] != None:\n",
      "KeyError: 'latitude'\n",
      "Traceback (most recent call last):\n"
     ]
    },
    {
     "name": "stdout",
     "output_type": "stream",
     "text": [
      "\n",
      "caught error in body, continuing: 'latitude'"
     ]
    },
    {
     "name": "stderr",
     "output_type": "stream",
     "text": [
      "  File \"<ipython-input-2-872ebd74c558>\", line 26, in search_instagram_tag\n",
      "    if insta_post['location']['latitude'] != None and insta_post['location']['longitude'] != None:\n",
      "KeyError: 'latitude'\n",
      "Traceback (most recent call last):\n"
     ]
    },
    {
     "name": "stdout",
     "output_type": "stream",
     "text": [
      "\n",
      "caught error in body, continuing: 'latitude'\n",
      "caught error in body, continuing: 'latitude'\n",
      "caught error in body, continuing: 'latitude'"
     ]
    },
    {
     "name": "stderr",
     "output_type": "stream",
     "text": [
      "  File \"<ipython-input-2-872ebd74c558>\", line 26, in search_instagram_tag\n",
      "    if insta_post['location']['latitude'] != None and insta_post['location']['longitude'] != None:\n",
      "KeyError: 'latitude'\n",
      "Traceback (most recent call last):\n",
      "  File \"<ipython-input-2-872ebd74c558>\", line 26, in search_instagram_tag\n",
      "    if insta_post['location']['latitude'] != None and insta_post['location']['longitude'] != None:\n",
      "KeyError: 'latitude'\n",
      "Traceback (most recent call last):\n",
      "  File \"<ipython-input-2-872ebd74c558>\", line 26, in search_instagram_tag\n",
      "    if insta_post['location']['latitude'] != None and insta_post['location']['longitude'] != None:\n",
      "KeyError: 'latitude'\n",
      "Traceback (most recent call last):\n"
     ]
    },
    {
     "name": "stdout",
     "output_type": "stream",
     "text": [
      "\n",
      "caught error in body, continuing: 'latitude'"
     ]
    },
    {
     "name": "stderr",
     "output_type": "stream",
     "text": [
      "  File \"<ipython-input-2-872ebd74c558>\", line 26, in search_instagram_tag\n",
      "    if insta_post['location']['latitude'] != None and insta_post['location']['longitude'] != None:\n",
      "KeyError: 'latitude'\n",
      "Traceback (most recent call last):\n"
     ]
    },
    {
     "name": "stdout",
     "output_type": "stream",
     "text": [
      "\n",
      "caught error in body, continuing: 'latitude'"
     ]
    },
    {
     "name": "stderr",
     "output_type": "stream",
     "text": [
      "  File \"<ipython-input-2-872ebd74c558>\", line 26, in search_instagram_tag\n",
      "    if insta_post['location']['latitude'] != None and insta_post['location']['longitude'] != None:\n",
      "KeyError: 'latitude'\n",
      "Traceback (most recent call last):\n"
     ]
    },
    {
     "name": "stdout",
     "output_type": "stream",
     "text": [
      "\n",
      "caught error in body, continuing: 'latitude'"
     ]
    },
    {
     "name": "stderr",
     "output_type": "stream",
     "text": [
      "  File \"<ipython-input-2-872ebd74c558>\", line 26, in search_instagram_tag\n",
      "    if insta_post['location']['latitude'] != None and insta_post['location']['longitude'] != None:\n",
      "KeyError: 'latitude'\n",
      "Traceback (most recent call last):\n"
     ]
    },
    {
     "name": "stdout",
     "output_type": "stream",
     "text": [
      "\n",
      "caught error in body, continuing: 'latitude'\n",
      "caught error in body, continuing: 'latitude'"
     ]
    },
    {
     "name": "stderr",
     "output_type": "stream",
     "text": [
      "  File \"<ipython-input-2-872ebd74c558>\", line 26, in search_instagram_tag\n",
      "    if insta_post['location']['latitude'] != None and insta_post['location']['longitude'] != None:\n",
      "KeyError: 'latitude'\n",
      "Traceback (most recent call last):\n",
      "  File \"<ipython-input-2-872ebd74c558>\", line 26, in search_instagram_tag\n",
      "    if insta_post['location']['latitude'] != None and insta_post['location']['longitude'] != None:\n",
      "KeyError: 'latitude'\n",
      "Traceback (most recent call last):\n"
     ]
    },
    {
     "name": "stdout",
     "output_type": "stream",
     "text": [
      "\n",
      "caught error in body, continuing: 'latitude'\n",
      "caught error in body, continuing: 'latitude'"
     ]
    },
    {
     "name": "stderr",
     "output_type": "stream",
     "text": [
      "  File \"<ipython-input-2-872ebd74c558>\", line 26, in search_instagram_tag\n",
      "    if insta_post['location']['latitude'] != None and insta_post['location']['longitude'] != None:\n",
      "KeyError: 'latitude'\n",
      "Traceback (most recent call last):\n",
      "  File \"<ipython-input-2-872ebd74c558>\", line 26, in search_instagram_tag\n",
      "    if insta_post['location']['latitude'] != None and insta_post['location']['longitude'] != None:\n",
      "KeyError: 'latitude'\n",
      "Traceback (most recent call last):\n"
     ]
    },
    {
     "name": "stdout",
     "output_type": "stream",
     "text": [
      "\n",
      "caught error in body, continuing: 'latitude'"
     ]
    },
    {
     "name": "stderr",
     "output_type": "stream",
     "text": [
      "  File \"<ipython-input-2-872ebd74c558>\", line 26, in search_instagram_tag\n",
      "    if insta_post['location']['latitude'] != None and insta_post['location']['longitude'] != None:\n",
      "KeyError: 'latitude'\n",
      "Traceback (most recent call last):\n"
     ]
    },
    {
     "name": "stdout",
     "output_type": "stream",
     "text": [
      "\n",
      "caught error in body, continuing: 'latitude'"
     ]
    },
    {
     "name": "stderr",
     "output_type": "stream",
     "text": [
      "  File \"<ipython-input-2-872ebd74c558>\", line 26, in search_instagram_tag\n",
      "    if insta_post['location']['latitude'] != None and insta_post['location']['longitude'] != None:\n",
      "KeyError: 'latitude'\n",
      "Traceback (most recent call last):\n"
     ]
    },
    {
     "name": "stdout",
     "output_type": "stream",
     "text": [
      "\n",
      "caught error in body, continuing: 'latitude'\n",
      "caught error in body, continuing: 'latitude'"
     ]
    },
    {
     "name": "stderr",
     "output_type": "stream",
     "text": [
      "  File \"<ipython-input-2-872ebd74c558>\", line 26, in search_instagram_tag\n",
      "    if insta_post['location']['latitude'] != None and insta_post['location']['longitude'] != None:\n",
      "KeyError: 'latitude'\n",
      "Traceback (most recent call last):\n",
      "  File \"<ipython-input-2-872ebd74c558>\", line 26, in search_instagram_tag\n",
      "    if insta_post['location']['latitude'] != None and insta_post['location']['longitude'] != None:\n",
      "KeyError: 'latitude'\n",
      "Traceback (most recent call last):\n"
     ]
    },
    {
     "name": "stdout",
     "output_type": "stream",
     "text": [
      "\n",
      "caught error in body, continuing: 'latitude'"
     ]
    },
    {
     "name": "stderr",
     "output_type": "stream",
     "text": [
      "  File \"<ipython-input-2-872ebd74c558>\", line 26, in search_instagram_tag\n",
      "    if insta_post['location']['latitude'] != None and insta_post['location']['longitude'] != None:\n",
      "KeyError: 'latitude'\n",
      "Traceback (most recent call last):\n"
     ]
    },
    {
     "name": "stdout",
     "output_type": "stream",
     "text": [
      "\n",
      "caught error in body, continuing: 'latitude'"
     ]
    },
    {
     "name": "stderr",
     "output_type": "stream",
     "text": [
      "  File \"<ipython-input-2-872ebd74c558>\", line 26, in search_instagram_tag\n",
      "    if insta_post['location']['latitude'] != None and insta_post['location']['longitude'] != None:\n",
      "KeyError: 'latitude'\n",
      "Traceback (most recent call last):\n"
     ]
    },
    {
     "name": "stdout",
     "output_type": "stream",
     "text": [
      "\n",
      "caught error in body, continuing: 'latitude'\n",
      "caught error in body, continuing: 'latitude'"
     ]
    },
    {
     "name": "stderr",
     "output_type": "stream",
     "text": [
      "  File \"<ipython-input-2-872ebd74c558>\", line 26, in search_instagram_tag\n",
      "    if insta_post['location']['latitude'] != None and insta_post['location']['longitude'] != None:\n",
      "KeyError: 'latitude'\n",
      "Traceback (most recent call last):\n",
      "  File \"<ipython-input-2-872ebd74c558>\", line 26, in search_instagram_tag\n",
      "    if insta_post['location']['latitude'] != None and insta_post['location']['longitude'] != None:\n",
      "KeyError: 'latitude'\n",
      "Traceback (most recent call last):\n"
     ]
    },
    {
     "name": "stdout",
     "output_type": "stream",
     "text": [
      "\n",
      "caught error in body, continuing: 'latitude'"
     ]
    },
    {
     "name": "stderr",
     "output_type": "stream",
     "text": [
      "  File \"<ipython-input-2-872ebd74c558>\", line 26, in search_instagram_tag\n",
      "    if insta_post['location']['latitude'] != None and insta_post['location']['longitude'] != None:\n",
      "KeyError: 'latitude'\n",
      "Traceback (most recent call last):\n"
     ]
    },
    {
     "name": "stdout",
     "output_type": "stream",
     "text": [
      "\n",
      "caught error in body, continuing: 'latitude'"
     ]
    },
    {
     "name": "stderr",
     "output_type": "stream",
     "text": [
      "  File \"<ipython-input-2-872ebd74c558>\", line 26, in search_instagram_tag\n",
      "    if insta_post['location']['latitude'] != None and insta_post['location']['longitude'] != None:\n",
      "KeyError: 'latitude'\n",
      "Traceback (most recent call last):\n"
     ]
    },
    {
     "name": "stdout",
     "output_type": "stream",
     "text": [
      "\n",
      "caught error in body, continuing: 'latitude'"
     ]
    },
    {
     "name": "stderr",
     "output_type": "stream",
     "text": [
      "  File \"<ipython-input-2-872ebd74c558>\", line 26, in search_instagram_tag\n",
      "    if insta_post['location']['latitude'] != None and insta_post['location']['longitude'] != None:\n",
      "KeyError: 'latitude'\n",
      "Traceback (most recent call last):\n"
     ]
    },
    {
     "name": "stdout",
     "output_type": "stream",
     "text": [
      "\n",
      "caught error in body, continuing: 'latitude'"
     ]
    },
    {
     "name": "stderr",
     "output_type": "stream",
     "text": [
      "  File \"<ipython-input-2-872ebd74c558>\", line 26, in search_instagram_tag\n",
      "    if insta_post['location']['latitude'] != None and insta_post['location']['longitude'] != None:\n",
      "KeyError: 'latitude'\n",
      "Traceback (most recent call last):\n"
     ]
    },
    {
     "name": "stdout",
     "output_type": "stream",
     "text": [
      "\n",
      "caught error in body, continuing: 'latitude'\n",
      "caught error in body, continuing: 'latitude'"
     ]
    },
    {
     "name": "stderr",
     "output_type": "stream",
     "text": [
      "  File \"<ipython-input-2-872ebd74c558>\", line 26, in search_instagram_tag\n",
      "    if insta_post['location']['latitude'] != None and insta_post['location']['longitude'] != None:\n",
      "KeyError: 'latitude'\n",
      "Traceback (most recent call last):\n",
      "  File \"<ipython-input-2-872ebd74c558>\", line 26, in search_instagram_tag\n",
      "    if insta_post['location']['latitude'] != None and insta_post['location']['longitude'] != None:\n",
      "KeyError: 'latitude'\n",
      "Traceback (most recent call last):\n"
     ]
    },
    {
     "name": "stdout",
     "output_type": "stream",
     "text": [
      "\n",
      "caught error in body, continuing: 'latitude'"
     ]
    },
    {
     "name": "stderr",
     "output_type": "stream",
     "text": [
      "  File \"<ipython-input-2-872ebd74c558>\", line 26, in search_instagram_tag\n",
      "    if insta_post['location']['latitude'] != None and insta_post['location']['longitude'] != None:\n",
      "KeyError: 'latitude'\n",
      "Traceback (most recent call last):\n"
     ]
    },
    {
     "name": "stdout",
     "output_type": "stream",
     "text": [
      "\n",
      "caught error in body, continuing: 'latitude'"
     ]
    },
    {
     "name": "stderr",
     "output_type": "stream",
     "text": [
      "  File \"<ipython-input-2-872ebd74c558>\", line 26, in search_instagram_tag\n",
      "    if insta_post['location']['latitude'] != None and insta_post['location']['longitude'] != None:\n",
      "KeyError: 'latitude'\n",
      "Traceback (most recent call last):\n"
     ]
    },
    {
     "name": "stdout",
     "output_type": "stream",
     "text": [
      "\n",
      "caught error in body, continuing: 'latitude'"
     ]
    },
    {
     "name": "stderr",
     "output_type": "stream",
     "text": [
      "  File \"<ipython-input-2-872ebd74c558>\", line 26, in search_instagram_tag\n",
      "    if insta_post['location']['latitude'] != None and insta_post['location']['longitude'] != None:\n",
      "KeyError: 'latitude'\n",
      "Traceback (most recent call last):\n"
     ]
    },
    {
     "name": "stdout",
     "output_type": "stream",
     "text": [
      "\n",
      "caught error in body, continuing: 'latitude'"
     ]
    },
    {
     "name": "stderr",
     "output_type": "stream",
     "text": [
      "  File \"<ipython-input-2-872ebd74c558>\", line 26, in search_instagram_tag\n",
      "    if insta_post['location']['latitude'] != None and insta_post['location']['longitude'] != None:\n",
      "KeyError: 'latitude'\n",
      "Traceback (most recent call last):\n"
     ]
    },
    {
     "name": "stdout",
     "output_type": "stream",
     "text": [
      "\n",
      "caught error in body, continuing: 'latitude'"
     ]
    },
    {
     "name": "stderr",
     "output_type": "stream",
     "text": [
      "  File \"<ipython-input-2-872ebd74c558>\", line 26, in search_instagram_tag\n",
      "    if insta_post['location']['latitude'] != None and insta_post['location']['longitude'] != None:\n",
      "KeyError: 'latitude'\n",
      "Traceback (most recent call last):\n"
     ]
    },
    {
     "name": "stdout",
     "output_type": "stream",
     "text": [
      "\n",
      "caught error in body, continuing: 'latitude'"
     ]
    },
    {
     "name": "stderr",
     "output_type": "stream",
     "text": [
      "  File \"<ipython-input-2-872ebd74c558>\", line 26, in search_instagram_tag\n",
      "    if insta_post['location']['latitude'] != None and insta_post['location']['longitude'] != None:\n",
      "KeyError: 'latitude'\n",
      "Traceback (most recent call last):\n"
     ]
    },
    {
     "name": "stdout",
     "output_type": "stream",
     "text": [
      "\n",
      "caught error in body, continuing: 'latitude'"
     ]
    },
    {
     "name": "stderr",
     "output_type": "stream",
     "text": [
      "  File \"<ipython-input-2-872ebd74c558>\", line 26, in search_instagram_tag\n",
      "    if insta_post['location']['latitude'] != None and insta_post['location']['longitude'] != None:\n",
      "KeyError: 'latitude'\n",
      "Traceback (most recent call last):\n"
     ]
    },
    {
     "name": "stdout",
     "output_type": "stream",
     "text": [
      "\n",
      "caught error in body, continuing: 'latitude'"
     ]
    },
    {
     "name": "stderr",
     "output_type": "stream",
     "text": [
      "  File \"<ipython-input-2-872ebd74c558>\", line 26, in search_instagram_tag\n",
      "    if insta_post['location']['latitude'] != None and insta_post['location']['longitude'] != None:\n",
      "KeyError: 'latitude'\n",
      "Traceback (most recent call last):\n"
     ]
    },
    {
     "name": "stdout",
     "output_type": "stream",
     "text": [
      "\n",
      "caught error in body, continuing: 'latitude'"
     ]
    },
    {
     "name": "stderr",
     "output_type": "stream",
     "text": [
      "  File \"<ipython-input-2-872ebd74c558>\", line 26, in search_instagram_tag\n",
      "    if insta_post['location']['latitude'] != None and insta_post['location']['longitude'] != None:\n",
      "KeyError: 'latitude'\n",
      "Traceback (most recent call last):\n"
     ]
    },
    {
     "name": "stdout",
     "output_type": "stream",
     "text": [
      "\n",
      "caught error in body, continuing: 'latitude'"
     ]
    },
    {
     "name": "stderr",
     "output_type": "stream",
     "text": [
      "  File \"<ipython-input-2-872ebd74c558>\", line 26, in search_instagram_tag\n",
      "    if insta_post['location']['latitude'] != None and insta_post['location']['longitude'] != None:\n",
      "KeyError: 'latitude'\n",
      "Traceback (most recent call last):\n"
     ]
    },
    {
     "name": "stdout",
     "output_type": "stream",
     "text": [
      "\n",
      "caught error in body, continuing: 'latitude'"
     ]
    },
    {
     "name": "stderr",
     "output_type": "stream",
     "text": [
      "  File \"<ipython-input-2-872ebd74c558>\", line 26, in search_instagram_tag\n",
      "    if insta_post['location']['latitude'] != None and insta_post['location']['longitude'] != None:\n",
      "KeyError: 'latitude'\n",
      "Traceback (most recent call last):\n"
     ]
    },
    {
     "name": "stdout",
     "output_type": "stream",
     "text": [
      "\n",
      "caught error in body, continuing: 'latitude'"
     ]
    },
    {
     "name": "stderr",
     "output_type": "stream",
     "text": [
      "  File \"<ipython-input-2-872ebd74c558>\", line 26, in search_instagram_tag\n",
      "    if insta_post['location']['latitude'] != None and insta_post['location']['longitude'] != None:\n",
      "KeyError: 'latitude'\n",
      "Traceback (most recent call last):\n"
     ]
    },
    {
     "name": "stdout",
     "output_type": "stream",
     "text": [
      "\n",
      "caught error in body, continuing: 'latitude'"
     ]
    },
    {
     "name": "stderr",
     "output_type": "stream",
     "text": [
      "  File \"<ipython-input-2-872ebd74c558>\", line 26, in search_instagram_tag\n",
      "    if insta_post['location']['latitude'] != None and insta_post['location']['longitude'] != None:\n",
      "KeyError: 'latitude'\n",
      "Traceback (most recent call last):\n"
     ]
    },
    {
     "name": "stdout",
     "output_type": "stream",
     "text": [
      "\n",
      "caught error in body, continuing: 'latitude'"
     ]
    },
    {
     "name": "stderr",
     "output_type": "stream",
     "text": [
      "  File \"<ipython-input-2-872ebd74c558>\", line 26, in search_instagram_tag\n",
      "    if insta_post['location']['latitude'] != None and insta_post['location']['longitude'] != None:\n",
      "KeyError: 'latitude'\n",
      "Traceback (most recent call last):\n"
     ]
    },
    {
     "name": "stdout",
     "output_type": "stream",
     "text": [
      "\n",
      "caught error in body, continuing: 'latitude'"
     ]
    },
    {
     "name": "stderr",
     "output_type": "stream",
     "text": [
      "  File \"<ipython-input-2-872ebd74c558>\", line 26, in search_instagram_tag\n",
      "    if insta_post['location']['latitude'] != None and insta_post['location']['longitude'] != None:\n",
      "KeyError: 'latitude'\n",
      "Traceback (most recent call last):\n"
     ]
    },
    {
     "name": "stdout",
     "output_type": "stream",
     "text": [
      "\n",
      "caught error in body, continuing: 'latitude'"
     ]
    },
    {
     "name": "stderr",
     "output_type": "stream",
     "text": [
      "  File \"<ipython-input-2-872ebd74c558>\", line 26, in search_instagram_tag\n",
      "    if insta_post['location']['latitude'] != None and insta_post['location']['longitude'] != None:\n",
      "KeyError: 'latitude'\n",
      "Traceback (most recent call last):\n"
     ]
    },
    {
     "name": "stdout",
     "output_type": "stream",
     "text": [
      "\n",
      "caught error in body, continuing: 'latitude'"
     ]
    },
    {
     "name": "stderr",
     "output_type": "stream",
     "text": [
      "  File \"<ipython-input-2-872ebd74c558>\", line 26, in search_instagram_tag\n",
      "    if insta_post['location']['latitude'] != None and insta_post['location']['longitude'] != None:\n",
      "KeyError: 'latitude'\n",
      "Traceback (most recent call last):\n"
     ]
    },
    {
     "name": "stdout",
     "output_type": "stream",
     "text": [
      "\n",
      "caught error in body, continuing: 'latitude'"
     ]
    },
    {
     "name": "stderr",
     "output_type": "stream",
     "text": [
      "  File \"<ipython-input-2-872ebd74c558>\", line 26, in search_instagram_tag\n",
      "    if insta_post['location']['latitude'] != None and insta_post['location']['longitude'] != None:\n",
      "KeyError: 'latitude'\n",
      "Traceback (most recent call last):\n"
     ]
    },
    {
     "name": "stdout",
     "output_type": "stream",
     "text": [
      "\n",
      "caught error in body, continuing: 'latitude'"
     ]
    },
    {
     "name": "stderr",
     "output_type": "stream",
     "text": [
      "  File \"<ipython-input-2-872ebd74c558>\", line 26, in search_instagram_tag\n",
      "    if insta_post['location']['latitude'] != None and insta_post['location']['longitude'] != None:\n",
      "KeyError: 'latitude'\n",
      "Traceback (most recent call last):\n"
     ]
    },
    {
     "name": "stdout",
     "output_type": "stream",
     "text": [
      "\n",
      "caught error in body, continuing: 'latitude'"
     ]
    },
    {
     "name": "stderr",
     "output_type": "stream",
     "text": [
      "  File \"<ipython-input-2-872ebd74c558>\", line 26, in search_instagram_tag\n",
      "    if insta_post['location']['latitude'] != None and insta_post['location']['longitude'] != None:\n",
      "KeyError: 'latitude'\n",
      "Traceback (most recent call last):\n"
     ]
    },
    {
     "name": "stdout",
     "output_type": "stream",
     "text": [
      "\n",
      "caught error in body, continuing: 'latitude'"
     ]
    },
    {
     "name": "stderr",
     "output_type": "stream",
     "text": [
      "  File \"<ipython-input-2-872ebd74c558>\", line 26, in search_instagram_tag\n",
      "    if insta_post['location']['latitude'] != None and insta_post['location']['longitude'] != None:\n",
      "KeyError: 'latitude'\n",
      "Traceback (most recent call last):\n"
     ]
    },
    {
     "name": "stdout",
     "output_type": "stream",
     "text": [
      "\n",
      "caught error in body, continuing: 'latitude'"
     ]
    },
    {
     "name": "stderr",
     "output_type": "stream",
     "text": [
      "  File \"<ipython-input-2-872ebd74c558>\", line 26, in search_instagram_tag\n",
      "    if insta_post['location']['latitude'] != None and insta_post['location']['longitude'] != None:\n",
      "KeyError: 'latitude'\n",
      "Traceback (most recent call last):\n"
     ]
    },
    {
     "name": "stdout",
     "output_type": "stream",
     "text": [
      "\n",
      "caught error in body, continuing: 'latitude'"
     ]
    },
    {
     "name": "stderr",
     "output_type": "stream",
     "text": [
      "  File \"<ipython-input-2-872ebd74c558>\", line 26, in search_instagram_tag\n",
      "    if insta_post['location']['latitude'] != None and insta_post['location']['longitude'] != None:\n",
      "KeyError: 'latitude'\n",
      "Traceback (most recent call last):\n"
     ]
    },
    {
     "name": "stdout",
     "output_type": "stream",
     "text": [
      "\n",
      "caught error in body, continuing: 'latitude'"
     ]
    },
    {
     "name": "stderr",
     "output_type": "stream",
     "text": [
      "  File \"<ipython-input-2-872ebd74c558>\", line 26, in search_instagram_tag\n",
      "    if insta_post['location']['latitude'] != None and insta_post['location']['longitude'] != None:\n",
      "KeyError: 'latitude'\n",
      "Traceback (most recent call last):\n"
     ]
    },
    {
     "name": "stdout",
     "output_type": "stream",
     "text": [
      "\n",
      "caught error in body, continuing: 'latitude'"
     ]
    },
    {
     "name": "stderr",
     "output_type": "stream",
     "text": [
      "  File \"<ipython-input-2-872ebd74c558>\", line 26, in search_instagram_tag\n",
      "    if insta_post['location']['latitude'] != None and insta_post['location']['longitude'] != None:\n",
      "KeyError: 'latitude'\n",
      "Traceback (most recent call last):\n"
     ]
    },
    {
     "name": "stdout",
     "output_type": "stream",
     "text": [
      "\n",
      "caught error in body, continuing: 'latitude'"
     ]
    },
    {
     "name": "stderr",
     "output_type": "stream",
     "text": [
      "  File \"<ipython-input-2-872ebd74c558>\", line 26, in search_instagram_tag\n",
      "    if insta_post['location']['latitude'] != None and insta_post['location']['longitude'] != None:\n",
      "KeyError: 'latitude'\n",
      "Traceback (most recent call last):\n"
     ]
    },
    {
     "name": "stdout",
     "output_type": "stream",
     "text": [
      "\n",
      "caught error in body, continuing: 'latitude'\n",
      "caught error in body, continuing: 'latitude'"
     ]
    },
    {
     "name": "stderr",
     "output_type": "stream",
     "text": [
      "  File \"<ipython-input-2-872ebd74c558>\", line 26, in search_instagram_tag\n",
      "    if insta_post['location']['latitude'] != None and insta_post['location']['longitude'] != None:\n",
      "KeyError: 'latitude'\n",
      "Traceback (most recent call last):\n",
      "  File \"<ipython-input-2-872ebd74c558>\", line 26, in search_instagram_tag\n",
      "    if insta_post['location']['latitude'] != None and insta_post['location']['longitude'] != None:\n",
      "KeyError: 'latitude'\n",
      "Traceback (most recent call last):\n"
     ]
    },
    {
     "name": "stdout",
     "output_type": "stream",
     "text": [
      "\n",
      "caught error in body, continuing: 'latitude'"
     ]
    },
    {
     "name": "stderr",
     "output_type": "stream",
     "text": [
      "  File \"<ipython-input-2-872ebd74c558>\", line 26, in search_instagram_tag\n",
      "    if insta_post['location']['latitude'] != None and insta_post['location']['longitude'] != None:\n",
      "KeyError: 'latitude'\n",
      "Traceback (most recent call last):\n"
     ]
    },
    {
     "name": "stdout",
     "output_type": "stream",
     "text": [
      "\n",
      "caught error in body, continuing: 'latitude'"
     ]
    },
    {
     "name": "stderr",
     "output_type": "stream",
     "text": [
      "  File \"<ipython-input-2-872ebd74c558>\", line 26, in search_instagram_tag\n",
      "    if insta_post['location']['latitude'] != None and insta_post['location']['longitude'] != None:\n",
      "KeyError: 'latitude'\n",
      "Traceback (most recent call last):\n"
     ]
    },
    {
     "name": "stdout",
     "output_type": "stream",
     "text": [
      "\n",
      "caught error in body, continuing: 'latitude'"
     ]
    },
    {
     "name": "stderr",
     "output_type": "stream",
     "text": [
      "  File \"<ipython-input-2-872ebd74c558>\", line 26, in search_instagram_tag\n",
      "    if insta_post['location']['latitude'] != None and insta_post['location']['longitude'] != None:\n",
      "KeyError: 'latitude'\n",
      "Traceback (most recent call last):\n"
     ]
    },
    {
     "name": "stdout",
     "output_type": "stream",
     "text": [
      "\n",
      "caught error in body, continuing: 'latitude'"
     ]
    },
    {
     "name": "stderr",
     "output_type": "stream",
     "text": [
      "  File \"<ipython-input-2-872ebd74c558>\", line 26, in search_instagram_tag\n",
      "    if insta_post['location']['latitude'] != None and insta_post['location']['longitude'] != None:\n",
      "KeyError: 'latitude'\n",
      "Traceback (most recent call last):\n"
     ]
    },
    {
     "name": "stdout",
     "output_type": "stream",
     "text": [
      "\n",
      "caught error in body, continuing: 'latitude'\n",
      "caught error in body, continuing: 'latitude'"
     ]
    },
    {
     "name": "stderr",
     "output_type": "stream",
     "text": [
      "  File \"<ipython-input-2-872ebd74c558>\", line 26, in search_instagram_tag\n",
      "    if insta_post['location']['latitude'] != None and insta_post['location']['longitude'] != None:\n",
      "KeyError: 'latitude'\n",
      "Traceback (most recent call last):\n",
      "  File \"<ipython-input-2-872ebd74c558>\", line 26, in search_instagram_tag\n",
      "    if insta_post['location']['latitude'] != None and insta_post['location']['longitude'] != None:\n",
      "KeyError: 'latitude'\n",
      "Traceback (most recent call last):\n"
     ]
    },
    {
     "name": "stdout",
     "output_type": "stream",
     "text": [
      "\n",
      "caught error in body, continuing: 'latitude'"
     ]
    },
    {
     "name": "stderr",
     "output_type": "stream",
     "text": [
      "  File \"<ipython-input-2-872ebd74c558>\", line 26, in search_instagram_tag\n",
      "    if insta_post['location']['latitude'] != None and insta_post['location']['longitude'] != None:\n",
      "KeyError: 'latitude'\n",
      "Traceback (most recent call last):\n"
     ]
    },
    {
     "name": "stdout",
     "output_type": "stream",
     "text": [
      "\n",
      "caught error in body, continuing: 'latitude'"
     ]
    },
    {
     "name": "stderr",
     "output_type": "stream",
     "text": [
      "  File \"<ipython-input-2-872ebd74c558>\", line 26, in search_instagram_tag\n",
      "    if insta_post['location']['latitude'] != None and insta_post['location']['longitude'] != None:\n",
      "KeyError: 'latitude'\n",
      "Traceback (most recent call last):\n"
     ]
    },
    {
     "name": "stdout",
     "output_type": "stream",
     "text": [
      "\n",
      "caught error in body, continuing: 'latitude'"
     ]
    },
    {
     "name": "stderr",
     "output_type": "stream",
     "text": [
      "  File \"<ipython-input-2-872ebd74c558>\", line 26, in search_instagram_tag\n",
      "    if insta_post['location']['latitude'] != None and insta_post['location']['longitude'] != None:\n",
      "KeyError: 'latitude'\n",
      "Traceback (most recent call last):\n"
     ]
    },
    {
     "name": "stdout",
     "output_type": "stream",
     "text": [
      "\n",
      "caught error in body, continuing: 'latitude'"
     ]
    },
    {
     "name": "stderr",
     "output_type": "stream",
     "text": [
      "  File \"<ipython-input-2-872ebd74c558>\", line 26, in search_instagram_tag\n",
      "    if insta_post['location']['latitude'] != None and insta_post['location']['longitude'] != None:\n",
      "KeyError: 'latitude'\n",
      "Traceback (most recent call last):\n"
     ]
    },
    {
     "name": "stdout",
     "output_type": "stream",
     "text": [
      "\n",
      "caught error in body, continuing: 'latitude'"
     ]
    },
    {
     "name": "stderr",
     "output_type": "stream",
     "text": [
      "  File \"<ipython-input-2-872ebd74c558>\", line 26, in search_instagram_tag\n",
      "    if insta_post['location']['latitude'] != None and insta_post['location']['longitude'] != None:\n",
      "KeyError: 'latitude'\n",
      "Traceback (most recent call last):\n"
     ]
    },
    {
     "name": "stdout",
     "output_type": "stream",
     "text": [
      "\n",
      "caught error in body, continuing: 'latitude'"
     ]
    },
    {
     "name": "stderr",
     "output_type": "stream",
     "text": [
      "  File \"<ipython-input-2-872ebd74c558>\", line 26, in search_instagram_tag\n",
      "    if insta_post['location']['latitude'] != None and insta_post['location']['longitude'] != None:\n",
      "KeyError: 'latitude'\n",
      "Traceback (most recent call last):\n"
     ]
    },
    {
     "name": "stdout",
     "output_type": "stream",
     "text": [
      "\n",
      "caught error in body, continuing: 'latitude'"
     ]
    },
    {
     "name": "stderr",
     "output_type": "stream",
     "text": [
      "  File \"<ipython-input-2-872ebd74c558>\", line 26, in search_instagram_tag\n",
      "    if insta_post['location']['latitude'] != None and insta_post['location']['longitude'] != None:\n",
      "KeyError: 'latitude'\n",
      "Traceback (most recent call last):\n"
     ]
    },
    {
     "name": "stdout",
     "output_type": "stream",
     "text": [
      "\n",
      "caught error in body, continuing: 'latitude'"
     ]
    },
    {
     "name": "stderr",
     "output_type": "stream",
     "text": [
      "  File \"<ipython-input-2-872ebd74c558>\", line 26, in search_instagram_tag\n",
      "    if insta_post['location']['latitude'] != None and insta_post['location']['longitude'] != None:\n",
      "KeyError: 'latitude'\n",
      "Traceback (most recent call last):\n"
     ]
    },
    {
     "name": "stdout",
     "output_type": "stream",
     "text": [
      "\n",
      "caught error in body, continuing: 'latitude'"
     ]
    },
    {
     "name": "stderr",
     "output_type": "stream",
     "text": [
      "  File \"<ipython-input-2-872ebd74c558>\", line 26, in search_instagram_tag\n",
      "    if insta_post['location']['latitude'] != None and insta_post['location']['longitude'] != None:\n",
      "KeyError: 'latitude'\n",
      "Traceback (most recent call last):\n"
     ]
    },
    {
     "name": "stdout",
     "output_type": "stream",
     "text": [
      "\n",
      "caught error in body, continuing: 'latitude'\n",
      "caught error in body, continuing: 'latitude'"
     ]
    },
    {
     "name": "stderr",
     "output_type": "stream",
     "text": [
      "  File \"<ipython-input-2-872ebd74c558>\", line 26, in search_instagram_tag\n",
      "    if insta_post['location']['latitude'] != None and insta_post['location']['longitude'] != None:\n",
      "KeyError: 'latitude'\n",
      "Traceback (most recent call last):\n",
      "  File \"<ipython-input-2-872ebd74c558>\", line 26, in search_instagram_tag\n",
      "    if insta_post['location']['latitude'] != None and insta_post['location']['longitude'] != None:\n",
      "KeyError: 'latitude'\n",
      "Traceback (most recent call last):\n"
     ]
    },
    {
     "name": "stdout",
     "output_type": "stream",
     "text": [
      "\n",
      "caught error in body, continuing: 'latitude'"
     ]
    },
    {
     "name": "stderr",
     "output_type": "stream",
     "text": [
      "  File \"<ipython-input-2-872ebd74c558>\", line 26, in search_instagram_tag\n",
      "    if insta_post['location']['latitude'] != None and insta_post['location']['longitude'] != None:\n",
      "KeyError: 'latitude'\n",
      "Traceback (most recent call last):\n"
     ]
    },
    {
     "name": "stdout",
     "output_type": "stream",
     "text": [
      "\n",
      "caught error in body, continuing: 'latitude'"
     ]
    },
    {
     "name": "stderr",
     "output_type": "stream",
     "text": [
      "  File \"<ipython-input-2-872ebd74c558>\", line 26, in search_instagram_tag\n",
      "    if insta_post['location']['latitude'] != None and insta_post['location']['longitude'] != None:\n",
      "KeyError: 'latitude'\n",
      "Traceback (most recent call last):\n"
     ]
    },
    {
     "name": "stdout",
     "output_type": "stream",
     "text": [
      "\n",
      "caught error in body, continuing: 'latitude'"
     ]
    },
    {
     "name": "stderr",
     "output_type": "stream",
     "text": [
      "  File \"<ipython-input-2-872ebd74c558>\", line 26, in search_instagram_tag\n",
      "    if insta_post['location']['latitude'] != None and insta_post['location']['longitude'] != None:\n",
      "KeyError: 'latitude'\n",
      "Traceback (most recent call last):\n"
     ]
    },
    {
     "name": "stdout",
     "output_type": "stream",
     "text": [
      "\n",
      "caught error in body, continuing: 'latitude'"
     ]
    },
    {
     "name": "stderr",
     "output_type": "stream",
     "text": [
      "  File \"<ipython-input-2-872ebd74c558>\", line 26, in search_instagram_tag\n",
      "    if insta_post['location']['latitude'] != None and insta_post['location']['longitude'] != None:\n",
      "KeyError: 'latitude'\n",
      "Traceback (most recent call last):\n"
     ]
    },
    {
     "name": "stdout",
     "output_type": "stream",
     "text": [
      "\n",
      "caught error in body, continuing: 'NoneType' object has no attribute '__getitem__'"
     ]
    },
    {
     "name": "stderr",
     "output_type": "stream",
     "text": [
      "  File \"<ipython-input-2-872ebd74c558>\", line 26, in search_instagram_tag\n",
      "    if insta_post['location']['latitude'] != None and insta_post['location']['longitude'] != None:\n",
      "KeyError: 'latitude'\n",
      "Traceback (most recent call last):\n"
     ]
    },
    {
     "name": "stdout",
     "output_type": "stream",
     "text": [
      "\n",
      "caught error in body, continuing: 'latitude'"
     ]
    },
    {
     "name": "stderr",
     "output_type": "stream",
     "text": [
      "  File \"<ipython-input-2-872ebd74c558>\", line 28, in search_instagram_tag\n",
      "    int(insta_post['caption']['created_time'])\n",
      "TypeError: 'NoneType' object has no attribute '__getitem__'\n",
      "Traceback (most recent call last):\n"
     ]
    },
    {
     "name": "stdout",
     "output_type": "stream",
     "text": [
      "\n",
      "caught error in body, continuing: 'latitude'"
     ]
    },
    {
     "name": "stderr",
     "output_type": "stream",
     "text": [
      "  File \"<ipython-input-2-872ebd74c558>\", line 26, in search_instagram_tag\n",
      "    if insta_post['location']['latitude'] != None and insta_post['location']['longitude'] != None:\n",
      "KeyError: 'latitude'\n",
      "Traceback (most recent call last):\n"
     ]
    },
    {
     "name": "stdout",
     "output_type": "stream",
     "text": [
      "\n",
      "caught error in body, continuing: 'latitude'"
     ]
    },
    {
     "name": "stderr",
     "output_type": "stream",
     "text": [
      "  File \"<ipython-input-2-872ebd74c558>\", line 26, in search_instagram_tag\n",
      "    if insta_post['location']['latitude'] != None and insta_post['location']['longitude'] != None:\n",
      "KeyError: 'latitude'\n",
      "Traceback (most recent call last):\n"
     ]
    },
    {
     "name": "stdout",
     "output_type": "stream",
     "text": [
      "\n",
      "caught error in body, continuing: 'latitude'"
     ]
    },
    {
     "name": "stderr",
     "output_type": "stream",
     "text": [
      "  File \"<ipython-input-2-872ebd74c558>\", line 26, in search_instagram_tag\n",
      "    if insta_post['location']['latitude'] != None and insta_post['location']['longitude'] != None:\n",
      "KeyError: 'latitude'\n",
      "Traceback (most recent call last):\n"
     ]
    },
    {
     "name": "stdout",
     "output_type": "stream",
     "text": [
      "\n",
      "caught error in body, continuing: 'NoneType' object has no attribute '__getitem__'"
     ]
    },
    {
     "name": "stderr",
     "output_type": "stream",
     "text": [
      "  File \"<ipython-input-2-872ebd74c558>\", line 26, in search_instagram_tag\n",
      "    if insta_post['location']['latitude'] != None and insta_post['location']['longitude'] != None:\n",
      "KeyError: 'latitude'\n",
      "Traceback (most recent call last):\n"
     ]
    },
    {
     "name": "stdout",
     "output_type": "stream",
     "text": [
      "\n",
      "caught error in body, continuing: 'latitude'\n",
      "caught error in body, continuing: 'latitude'"
     ]
    },
    {
     "name": "stderr",
     "output_type": "stream",
     "text": [
      "  File \"<ipython-input-2-872ebd74c558>\", line 28, in search_instagram_tag\n",
      "    int(insta_post['caption']['created_time'])\n",
      "TypeError: 'NoneType' object has no attribute '__getitem__'\n",
      "Traceback (most recent call last):\n",
      "  File \"<ipython-input-2-872ebd74c558>\", line 26, in search_instagram_tag\n",
      "    if insta_post['location']['latitude'] != None and insta_post['location']['longitude'] != None:\n",
      "KeyError: 'latitude'\n",
      "Traceback (most recent call last):\n"
     ]
    },
    {
     "name": "stdout",
     "output_type": "stream",
     "text": [
      "\n",
      "caught error in body, continuing: 'latitude'"
     ]
    },
    {
     "name": "stderr",
     "output_type": "stream",
     "text": [
      "  File \"<ipython-input-2-872ebd74c558>\", line 26, in search_instagram_tag\n",
      "    if insta_post['location']['latitude'] != None and insta_post['location']['longitude'] != None:\n",
      "KeyError: 'latitude'\n",
      "Traceback (most recent call last):\n"
     ]
    },
    {
     "name": "stdout",
     "output_type": "stream",
     "text": [
      "\n",
      "caught error in body, continuing: 'latitude'"
     ]
    },
    {
     "name": "stderr",
     "output_type": "stream",
     "text": [
      "  File \"<ipython-input-2-872ebd74c558>\", line 26, in search_instagram_tag\n",
      "    if insta_post['location']['latitude'] != None and insta_post['location']['longitude'] != None:\n",
      "KeyError: 'latitude'\n",
      "Traceback (most recent call last):\n"
     ]
    },
    {
     "name": "stdout",
     "output_type": "stream",
     "text": [
      "\n",
      "caught error in body, continuing: 'latitude'"
     ]
    },
    {
     "name": "stderr",
     "output_type": "stream",
     "text": [
      "  File \"<ipython-input-2-872ebd74c558>\", line 26, in search_instagram_tag\n",
      "    if insta_post['location']['latitude'] != None and insta_post['location']['longitude'] != None:\n",
      "KeyError: 'latitude'\n",
      "Traceback (most recent call last):\n"
     ]
    },
    {
     "name": "stdout",
     "output_type": "stream",
     "text": [
      "\n",
      "caught error in body, continuing: 'latitude'"
     ]
    },
    {
     "name": "stderr",
     "output_type": "stream",
     "text": [
      "  File \"<ipython-input-2-872ebd74c558>\", line 26, in search_instagram_tag\n",
      "    if insta_post['location']['latitude'] != None and insta_post['location']['longitude'] != None:\n",
      "KeyError: 'latitude'\n",
      "Traceback (most recent call last):\n"
     ]
    },
    {
     "name": "stdout",
     "output_type": "stream",
     "text": [
      "\n",
      "caught error in body, continuing: 'latitude'"
     ]
    },
    {
     "name": "stderr",
     "output_type": "stream",
     "text": [
      "  File \"<ipython-input-2-872ebd74c558>\", line 26, in search_instagram_tag\n",
      "    if insta_post['location']['latitude'] != None and insta_post['location']['longitude'] != None:\n",
      "KeyError: 'latitude'\n",
      "Traceback (most recent call last):\n"
     ]
    },
    {
     "name": "stdout",
     "output_type": "stream",
     "text": [
      "\n",
      "caught error in body, continuing: 'latitude'\n",
      "caught error in body, continuing: 'latitude'"
     ]
    },
    {
     "name": "stderr",
     "output_type": "stream",
     "text": [
      "  File \"<ipython-input-2-872ebd74c558>\", line 26, in search_instagram_tag\n",
      "    if insta_post['location']['latitude'] != None and insta_post['location']['longitude'] != None:\n",
      "KeyError: 'latitude'\n",
      "Traceback (most recent call last):\n",
      "  File \"<ipython-input-2-872ebd74c558>\", line 26, in search_instagram_tag\n",
      "    if insta_post['location']['latitude'] != None and insta_post['location']['longitude'] != None:\n",
      "KeyError: 'latitude'\n",
      "Traceback (most recent call last):\n"
     ]
    },
    {
     "name": "stdout",
     "output_type": "stream",
     "text": [
      "\n",
      "caught error in body, continuing: 'latitude'\n",
      "caught error in body, continuing: 'latitude'\n",
      "caught error in body, continuing: 'latitude'\n",
      "caught error in body, continuing: 'latitude'"
     ]
    },
    {
     "name": "stderr",
     "output_type": "stream",
     "text": [
      "  File \"<ipython-input-2-872ebd74c558>\", line 26, in search_instagram_tag\n",
      "    if insta_post['location']['latitude'] != None and insta_post['location']['longitude'] != None:\n",
      "KeyError: 'latitude'\n",
      "Traceback (most recent call last):\n",
      "  File \"<ipython-input-2-872ebd74c558>\", line 26, in search_instagram_tag\n",
      "    if insta_post['location']['latitude'] != None and insta_post['location']['longitude'] != None:\n",
      "KeyError: 'latitude'\n",
      "Traceback (most recent call last):\n",
      "  File \"<ipython-input-2-872ebd74c558>\", line 26, in search_instagram_tag\n",
      "    if insta_post['location']['latitude'] != None and insta_post['location']['longitude'] != None:\n",
      "KeyError: 'latitude'\n",
      "Traceback (most recent call last):\n",
      "  File \"<ipython-input-2-872ebd74c558>\", line 26, in search_instagram_tag\n",
      "    if insta_post['location']['latitude'] != None and insta_post['location']['longitude'] != None:\n",
      "KeyError: 'latitude'\n",
      "Traceback (most recent call last):\n"
     ]
    },
    {
     "name": "stdout",
     "output_type": "stream",
     "text": [
      "\n",
      "caught error in body, continuing: 'latitude'"
     ]
    },
    {
     "name": "stderr",
     "output_type": "stream",
     "text": [
      "  File \"<ipython-input-2-872ebd74c558>\", line 26, in search_instagram_tag\n",
      "    if insta_post['location']['latitude'] != None and insta_post['location']['longitude'] != None:\n",
      "KeyError: 'latitude'\n",
      "Traceback (most recent call last):\n"
     ]
    },
    {
     "name": "stdout",
     "output_type": "stream",
     "text": [
      "\n",
      "caught error in body, continuing: 'latitude'"
     ]
    },
    {
     "name": "stderr",
     "output_type": "stream",
     "text": [
      "  File \"<ipython-input-2-872ebd74c558>\", line 26, in search_instagram_tag\n",
      "    if insta_post['location']['latitude'] != None and insta_post['location']['longitude'] != None:\n",
      "KeyError: 'latitude'\n",
      "Traceback (most recent call last):\n"
     ]
    },
    {
     "name": "stdout",
     "output_type": "stream",
     "text": [
      "\n",
      "caught error in body, continuing: 'latitude'"
     ]
    },
    {
     "name": "stderr",
     "output_type": "stream",
     "text": [
      "  File \"<ipython-input-2-872ebd74c558>\", line 26, in search_instagram_tag\n",
      "    if insta_post['location']['latitude'] != None and insta_post['location']['longitude'] != None:\n",
      "KeyError: 'latitude'\n",
      "Traceback (most recent call last):\n"
     ]
    },
    {
     "name": "stdout",
     "output_type": "stream",
     "text": [
      "\n",
      "caught error in body, continuing: 'latitude'"
     ]
    },
    {
     "name": "stderr",
     "output_type": "stream",
     "text": [
      "  File \"<ipython-input-2-872ebd74c558>\", line 26, in search_instagram_tag\n",
      "    if insta_post['location']['latitude'] != None and insta_post['location']['longitude'] != None:\n",
      "KeyError: 'latitude'\n",
      "Traceback (most recent call last):\n"
     ]
    },
    {
     "name": "stdout",
     "output_type": "stream",
     "text": [
      "\n",
      "caught error in body, continuing: 'latitude'"
     ]
    },
    {
     "name": "stderr",
     "output_type": "stream",
     "text": [
      "  File \"<ipython-input-2-872ebd74c558>\", line 26, in search_instagram_tag\n",
      "    if insta_post['location']['latitude'] != None and insta_post['location']['longitude'] != None:\n",
      "KeyError: 'latitude'\n",
      "Traceback (most recent call last):\n"
     ]
    },
    {
     "name": "stdout",
     "output_type": "stream",
     "text": [
      "\n",
      "caught error in body, continuing: 'latitude'"
     ]
    },
    {
     "name": "stderr",
     "output_type": "stream",
     "text": [
      "  File \"<ipython-input-2-872ebd74c558>\", line 26, in search_instagram_tag\n",
      "    if insta_post['location']['latitude'] != None and insta_post['location']['longitude'] != None:\n",
      "KeyError: 'latitude'\n",
      "Traceback (most recent call last):\n"
     ]
    },
    {
     "name": "stdout",
     "output_type": "stream",
     "text": [
      "\n",
      "caught error in body, continuing: 'latitude'"
     ]
    },
    {
     "name": "stderr",
     "output_type": "stream",
     "text": [
      "  File \"<ipython-input-2-872ebd74c558>\", line 26, in search_instagram_tag\n",
      "    if insta_post['location']['latitude'] != None and insta_post['location']['longitude'] != None:\n",
      "KeyError: 'latitude'\n",
      "Traceback (most recent call last):\n"
     ]
    },
    {
     "name": "stdout",
     "output_type": "stream",
     "text": [
      "\n",
      "caught error in body, continuing: 'latitude'"
     ]
    },
    {
     "name": "stderr",
     "output_type": "stream",
     "text": [
      "  File \"<ipython-input-2-872ebd74c558>\", line 26, in search_instagram_tag\n",
      "    if insta_post['location']['latitude'] != None and insta_post['location']['longitude'] != None:\n",
      "KeyError: 'latitude'\n",
      "Traceback (most recent call last):\n"
     ]
    },
    {
     "name": "stdout",
     "output_type": "stream",
     "text": [
      "\n",
      "caught error in body, continuing: 'latitude'"
     ]
    },
    {
     "name": "stderr",
     "output_type": "stream",
     "text": [
      "  File \"<ipython-input-2-872ebd74c558>\", line 26, in search_instagram_tag\n",
      "    if insta_post['location']['latitude'] != None and insta_post['location']['longitude'] != None:\n",
      "KeyError: 'latitude'\n",
      "Traceback (most recent call last):\n"
     ]
    },
    {
     "name": "stdout",
     "output_type": "stream",
     "text": [
      "\n",
      "caught error in body, continuing: 'latitude'"
     ]
    },
    {
     "name": "stderr",
     "output_type": "stream",
     "text": [
      "  File \"<ipython-input-2-872ebd74c558>\", line 26, in search_instagram_tag\n",
      "    if insta_post['location']['latitude'] != None and insta_post['location']['longitude'] != None:\n",
      "KeyError: 'latitude'\n",
      "Traceback (most recent call last):\n"
     ]
    },
    {
     "name": "stdout",
     "output_type": "stream",
     "text": [
      "\n",
      "caught error in body, continuing: 'latitude'"
     ]
    },
    {
     "name": "stderr",
     "output_type": "stream",
     "text": [
      "  File \"<ipython-input-2-872ebd74c558>\", line 26, in search_instagram_tag\n",
      "    if insta_post['location']['latitude'] != None and insta_post['location']['longitude'] != None:\n",
      "KeyError: 'latitude'\n",
      "Traceback (most recent call last):\n"
     ]
    },
    {
     "name": "stdout",
     "output_type": "stream",
     "text": [
      "\n",
      "caught error in body, continuing: 'latitude'"
     ]
    },
    {
     "name": "stderr",
     "output_type": "stream",
     "text": [
      "  File \"<ipython-input-2-872ebd74c558>\", line 26, in search_instagram_tag\n",
      "    if insta_post['location']['latitude'] != None and insta_post['location']['longitude'] != None:\n",
      "KeyError: 'latitude'\n",
      "Traceback (most recent call last):\n"
     ]
    },
    {
     "name": "stdout",
     "output_type": "stream",
     "text": [
      "\n",
      "caught error in body, continuing: 'latitude'"
     ]
    },
    {
     "name": "stderr",
     "output_type": "stream",
     "text": [
      "  File \"<ipython-input-2-872ebd74c558>\", line 26, in search_instagram_tag\n",
      "    if insta_post['location']['latitude'] != None and insta_post['location']['longitude'] != None:\n",
      "KeyError: 'latitude'\n",
      "Traceback (most recent call last):\n"
     ]
    },
    {
     "name": "stdout",
     "output_type": "stream",
     "text": [
      "\n",
      "caught error in body, continuing: 'latitude'"
     ]
    },
    {
     "name": "stderr",
     "output_type": "stream",
     "text": [
      "  File \"<ipython-input-2-872ebd74c558>\", line 26, in search_instagram_tag\n",
      "    if insta_post['location']['latitude'] != None and insta_post['location']['longitude'] != None:\n",
      "KeyError: 'latitude'\n",
      "Traceback (most recent call last):\n"
     ]
    },
    {
     "name": "stdout",
     "output_type": "stream",
     "text": [
      "\n",
      "caught error in body, continuing: 'latitude'"
     ]
    },
    {
     "name": "stderr",
     "output_type": "stream",
     "text": [
      "  File \"<ipython-input-2-872ebd74c558>\", line 26, in search_instagram_tag\n",
      "    if insta_post['location']['latitude'] != None and insta_post['location']['longitude'] != None:\n",
      "KeyError: 'latitude'\n",
      "Traceback (most recent call last):\n"
     ]
    },
    {
     "name": "stdout",
     "output_type": "stream",
     "text": [
      "\n",
      "caught error in body, continuing: 'latitude'\n",
      "caught error in body, continuing: 'latitude'"
     ]
    },
    {
     "name": "stderr",
     "output_type": "stream",
     "text": [
      "  File \"<ipython-input-2-872ebd74c558>\", line 26, in search_instagram_tag\n",
      "    if insta_post['location']['latitude'] != None and insta_post['location']['longitude'] != None:\n",
      "KeyError: 'latitude'\n",
      "Traceback (most recent call last):\n",
      "  File \"<ipython-input-2-872ebd74c558>\", line 26, in search_instagram_tag\n",
      "    if insta_post['location']['latitude'] != None and insta_post['location']['longitude'] != None:\n",
      "KeyError: 'latitude'\n",
      "Traceback (most recent call last):\n"
     ]
    },
    {
     "name": "stdout",
     "output_type": "stream",
     "text": [
      "\n",
      "caught error in body, continuing: 'latitude'\n",
      "caught error in body, continuing: 'latitude'"
     ]
    },
    {
     "name": "stderr",
     "output_type": "stream",
     "text": [
      "  File \"<ipython-input-2-872ebd74c558>\", line 26, in search_instagram_tag\n",
      "    if insta_post['location']['latitude'] != None and insta_post['location']['longitude'] != None:\n",
      "KeyError: 'latitude'\n",
      "Traceback (most recent call last):\n",
      "  File \"<ipython-input-2-872ebd74c558>\", line 26, in search_instagram_tag\n",
      "    if insta_post['location']['latitude'] != None and insta_post['location']['longitude'] != None:\n",
      "KeyError: 'latitude'\n",
      "Traceback (most recent call last):\n"
     ]
    },
    {
     "name": "stdout",
     "output_type": "stream",
     "text": [
      "\n",
      "caught error in body, continuing: 'latitude'"
     ]
    },
    {
     "name": "stderr",
     "output_type": "stream",
     "text": [
      "  File \"<ipython-input-2-872ebd74c558>\", line 26, in search_instagram_tag\n",
      "    if insta_post['location']['latitude'] != None and insta_post['location']['longitude'] != None:\n",
      "KeyError: 'latitude'\n",
      "Traceback (most recent call last):\n"
     ]
    },
    {
     "name": "stdout",
     "output_type": "stream",
     "text": [
      "\n",
      "caught error in body, continuing: 'latitude'\n",
      "caught error in body, continuing: 'latitude'"
     ]
    },
    {
     "name": "stderr",
     "output_type": "stream",
     "text": [
      "  File \"<ipython-input-2-872ebd74c558>\", line 26, in search_instagram_tag\n",
      "    if insta_post['location']['latitude'] != None and insta_post['location']['longitude'] != None:\n",
      "KeyError: 'latitude'\n",
      "Traceback (most recent call last):\n",
      "  File \"<ipython-input-2-872ebd74c558>\", line 26, in search_instagram_tag\n",
      "    if insta_post['location']['latitude'] != None and insta_post['location']['longitude'] != None:\n",
      "KeyError: 'latitude'\n",
      "Traceback (most recent call last):\n"
     ]
    },
    {
     "name": "stdout",
     "output_type": "stream",
     "text": [
      "\n",
      "caught error in body, continuing: 'latitude'"
     ]
    },
    {
     "name": "stderr",
     "output_type": "stream",
     "text": [
      "  File \"<ipython-input-2-872ebd74c558>\", line 26, in search_instagram_tag\n",
      "    if insta_post['location']['latitude'] != None and insta_post['location']['longitude'] != None:\n",
      "KeyError: 'latitude'\n",
      "Traceback (most recent call last):\n"
     ]
    },
    {
     "name": "stdout",
     "output_type": "stream",
     "text": [
      "\n",
      "caught error in body, continuing: 'latitude'"
     ]
    },
    {
     "name": "stderr",
     "output_type": "stream",
     "text": [
      "  File \"<ipython-input-2-872ebd74c558>\", line 26, in search_instagram_tag\n",
      "    if insta_post['location']['latitude'] != None and insta_post['location']['longitude'] != None:\n",
      "KeyError: 'latitude'\n",
      "Traceback (most recent call last):\n"
     ]
    },
    {
     "name": "stdout",
     "output_type": "stream",
     "text": [
      "\n",
      "caught error in body, continuing: 'latitude'"
     ]
    },
    {
     "name": "stderr",
     "output_type": "stream",
     "text": [
      "  File \"<ipython-input-2-872ebd74c558>\", line 26, in search_instagram_tag\n",
      "    if insta_post['location']['latitude'] != None and insta_post['location']['longitude'] != None:\n",
      "KeyError: 'latitude'\n",
      "Traceback (most recent call last):\n"
     ]
    },
    {
     "name": "stdout",
     "output_type": "stream",
     "text": [
      "\n",
      "caught error in body, continuing: 'latitude'"
     ]
    },
    {
     "name": "stderr",
     "output_type": "stream",
     "text": [
      "  File \"<ipython-input-2-872ebd74c558>\", line 26, in search_instagram_tag\n",
      "    if insta_post['location']['latitude'] != None and insta_post['location']['longitude'] != None:\n",
      "KeyError: 'latitude'\n",
      "Traceback (most recent call last):\n"
     ]
    },
    {
     "name": "stdout",
     "output_type": "stream",
     "text": [
      "\n",
      "caught error in body, continuing: 'latitude'"
     ]
    },
    {
     "name": "stderr",
     "output_type": "stream",
     "text": [
      "  File \"<ipython-input-2-872ebd74c558>\", line 26, in search_instagram_tag\n",
      "    if insta_post['location']['latitude'] != None and insta_post['location']['longitude'] != None:\n",
      "KeyError: 'latitude'\n",
      "Traceback (most recent call last):\n"
     ]
    },
    {
     "name": "stdout",
     "output_type": "stream",
     "text": [
      "\n",
      "caught error in body, continuing: 'latitude'\n",
      "caught error in body, continuing: 'latitude'"
     ]
    },
    {
     "name": "stderr",
     "output_type": "stream",
     "text": [
      "  File \"<ipython-input-2-872ebd74c558>\", line 26, in search_instagram_tag\n",
      "    if insta_post['location']['latitude'] != None and insta_post['location']['longitude'] != None:\n",
      "KeyError: 'latitude'\n",
      "Traceback (most recent call last):\n",
      "  File \"<ipython-input-2-872ebd74c558>\", line 26, in search_instagram_tag\n",
      "    if insta_post['location']['latitude'] != None and insta_post['location']['longitude'] != None:\n",
      "KeyError: 'latitude'\n",
      "Traceback (most recent call last):\n"
     ]
    },
    {
     "name": "stdout",
     "output_type": "stream",
     "text": [
      "\n",
      "caught error in body, continuing: 'latitude'"
     ]
    },
    {
     "name": "stderr",
     "output_type": "stream",
     "text": [
      "  File \"<ipython-input-2-872ebd74c558>\", line 26, in search_instagram_tag\n",
      "    if insta_post['location']['latitude'] != None and insta_post['location']['longitude'] != None:\n",
      "KeyError: 'latitude'\n",
      "Traceback (most recent call last):\n"
     ]
    },
    {
     "name": "stdout",
     "output_type": "stream",
     "text": [
      "\n",
      "caught error in body, continuing: 'latitude'"
     ]
    },
    {
     "name": "stderr",
     "output_type": "stream",
     "text": [
      "  File \"<ipython-input-2-872ebd74c558>\", line 26, in search_instagram_tag\n",
      "    if insta_post['location']['latitude'] != None and insta_post['location']['longitude'] != None:\n",
      "KeyError: 'latitude'\n",
      "Traceback (most recent call last):\n"
     ]
    },
    {
     "name": "stdout",
     "output_type": "stream",
     "text": [
      "\n",
      "caught error in body, continuing: 'latitude'"
     ]
    },
    {
     "name": "stderr",
     "output_type": "stream",
     "text": [
      "  File \"<ipython-input-2-872ebd74c558>\", line 26, in search_instagram_tag\n",
      "    if insta_post['location']['latitude'] != None and insta_post['location']['longitude'] != None:\n",
      "KeyError: 'latitude'\n",
      "Traceback (most recent call last):\n"
     ]
    },
    {
     "name": "stdout",
     "output_type": "stream",
     "text": [
      "\n",
      "caught error in body, continuing: 'latitude'"
     ]
    },
    {
     "name": "stderr",
     "output_type": "stream",
     "text": [
      "  File \"<ipython-input-2-872ebd74c558>\", line 26, in search_instagram_tag\n",
      "    if insta_post['location']['latitude'] != None and insta_post['location']['longitude'] != None:\n",
      "KeyError: 'latitude'\n",
      "Traceback (most recent call last):\n"
     ]
    },
    {
     "name": "stdout",
     "output_type": "stream",
     "text": [
      "\n",
      "caught error in body, continuing: 'latitude'"
     ]
    },
    {
     "name": "stderr",
     "output_type": "stream",
     "text": [
      "  File \"<ipython-input-2-872ebd74c558>\", line 26, in search_instagram_tag\n",
      "    if insta_post['location']['latitude'] != None and insta_post['location']['longitude'] != None:\n",
      "KeyError: 'latitude'\n",
      "Traceback (most recent call last):\n"
     ]
    },
    {
     "name": "stdout",
     "output_type": "stream",
     "text": [
      "\n",
      "caught error in body, continuing: 'NoneType' object has no attribute '__getitem__'\n",
      "caught error in body, continuing: 'latitude'"
     ]
    },
    {
     "name": "stderr",
     "output_type": "stream",
     "text": [
      "  File \"<ipython-input-2-872ebd74c558>\", line 26, in search_instagram_tag\n",
      "    if insta_post['location']['latitude'] != None and insta_post['location']['longitude'] != None:\n",
      "KeyError: 'latitude'\n",
      "Traceback (most recent call last):\n",
      "  File \"<ipython-input-2-872ebd74c558>\", line 28, in search_instagram_tag\n",
      "    int(insta_post['caption']['created_time'])\n",
      "TypeError: 'NoneType' object has no attribute '__getitem__'\n",
      "Traceback (most recent call last):\n"
     ]
    },
    {
     "name": "stdout",
     "output_type": "stream",
     "text": [
      "\n",
      "caught error in body, continuing: 'latitude'"
     ]
    },
    {
     "name": "stderr",
     "output_type": "stream",
     "text": [
      "  File \"<ipython-input-2-872ebd74c558>\", line 26, in search_instagram_tag\n",
      "    if insta_post['location']['latitude'] != None and insta_post['location']['longitude'] != None:\n",
      "KeyError: 'latitude'\n",
      "Traceback (most recent call last):\n"
     ]
    },
    {
     "name": "stdout",
     "output_type": "stream",
     "text": [
      "\n",
      "caught error in body, continuing: 'latitude'"
     ]
    },
    {
     "name": "stderr",
     "output_type": "stream",
     "text": [
      "  File \"<ipython-input-2-872ebd74c558>\", line 26, in search_instagram_tag\n",
      "    if insta_post['location']['latitude'] != None and insta_post['location']['longitude'] != None:\n",
      "KeyError: 'latitude'\n",
      "Traceback (most recent call last):\n"
     ]
    },
    {
     "name": "stdout",
     "output_type": "stream",
     "text": [
      "\n",
      "caught error in body, continuing: 'latitude'"
     ]
    },
    {
     "name": "stderr",
     "output_type": "stream",
     "text": [
      "  File \"<ipython-input-2-872ebd74c558>\", line 26, in search_instagram_tag\n",
      "    if insta_post['location']['latitude'] != None and insta_post['location']['longitude'] != None:\n",
      "KeyError: 'latitude'\n",
      "Traceback (most recent call last):\n"
     ]
    },
    {
     "name": "stdout",
     "output_type": "stream",
     "text": [
      "\n",
      "caught error in body, continuing: 'latitude'\n",
      "caught error in body, continuing: 'latitude'"
     ]
    },
    {
     "name": "stderr",
     "output_type": "stream",
     "text": [
      "  File \"<ipython-input-2-872ebd74c558>\", line 26, in search_instagram_tag\n",
      "    if insta_post['location']['latitude'] != None and insta_post['location']['longitude'] != None:\n",
      "KeyError: 'latitude'\n",
      "Traceback (most recent call last):\n",
      "  File \"<ipython-input-2-872ebd74c558>\", line 26, in search_instagram_tag\n",
      "    if insta_post['location']['latitude'] != None and insta_post['location']['longitude'] != None:\n",
      "KeyError: 'latitude'\n",
      "Traceback (most recent call last):\n"
     ]
    },
    {
     "name": "stdout",
     "output_type": "stream",
     "text": [
      "\n",
      "caught error in body, continuing: 'latitude'"
     ]
    },
    {
     "name": "stderr",
     "output_type": "stream",
     "text": [
      "  File \"<ipython-input-2-872ebd74c558>\", line 26, in search_instagram_tag\n",
      "    if insta_post['location']['latitude'] != None and insta_post['location']['longitude'] != None:\n",
      "KeyError: 'latitude'\n",
      "Traceback (most recent call last):\n"
     ]
    },
    {
     "name": "stdout",
     "output_type": "stream",
     "text": [
      "\n",
      "caught error in body, continuing: 'latitude'"
     ]
    },
    {
     "name": "stderr",
     "output_type": "stream",
     "text": [
      "  File \"<ipython-input-2-872ebd74c558>\", line 26, in search_instagram_tag\n",
      "    if insta_post['location']['latitude'] != None and insta_post['location']['longitude'] != None:\n",
      "KeyError: 'latitude'\n",
      "Traceback (most recent call last):\n"
     ]
    },
    {
     "name": "stdout",
     "output_type": "stream",
     "text": [
      "\n",
      "caught error in body, continuing: 'latitude'"
     ]
    },
    {
     "name": "stderr",
     "output_type": "stream",
     "text": [
      "  File \"<ipython-input-2-872ebd74c558>\", line 26, in search_instagram_tag\n",
      "    if insta_post['location']['latitude'] != None and insta_post['location']['longitude'] != None:\n",
      "KeyError: 'latitude'\n",
      "Traceback (most recent call last):\n"
     ]
    },
    {
     "name": "stdout",
     "output_type": "stream",
     "text": [
      "\n",
      "caught error in body, continuing: 'latitude'"
     ]
    },
    {
     "name": "stderr",
     "output_type": "stream",
     "text": [
      "  File \"<ipython-input-2-872ebd74c558>\", line 26, in search_instagram_tag\n",
      "    if insta_post['location']['latitude'] != None and insta_post['location']['longitude'] != None:\n",
      "KeyError: 'latitude'\n",
      "Traceback (most recent call last):\n"
     ]
    },
    {
     "name": "stdout",
     "output_type": "stream",
     "text": [
      "\n",
      "caught error in body, continuing: 'latitude'"
     ]
    },
    {
     "name": "stderr",
     "output_type": "stream",
     "text": [
      "  File \"<ipython-input-2-872ebd74c558>\", line 26, in search_instagram_tag\n",
      "    if insta_post['location']['latitude'] != None and insta_post['location']['longitude'] != None:\n",
      "KeyError: 'latitude'\n",
      "Traceback (most recent call last):\n"
     ]
    },
    {
     "name": "stdout",
     "output_type": "stream",
     "text": [
      "\n",
      "caught error in body, continuing: 'latitude'\n",
      "caught error in body, continuing: 'latitude'\n",
      "caught error in body, continuing: 'latitude'"
     ]
    },
    {
     "name": "stderr",
     "output_type": "stream",
     "text": [
      "  File \"<ipython-input-2-872ebd74c558>\", line 26, in search_instagram_tag\n",
      "    if insta_post['location']['latitude'] != None and insta_post['location']['longitude'] != None:\n",
      "KeyError: 'latitude'\n",
      "Traceback (most recent call last):\n",
      "  File \"<ipython-input-2-872ebd74c558>\", line 26, in search_instagram_tag\n",
      "    if insta_post['location']['latitude'] != None and insta_post['location']['longitude'] != None:\n",
      "KeyError: 'latitude'\n",
      "Traceback (most recent call last):\n",
      "  File \"<ipython-input-2-872ebd74c558>\", line 26, in search_instagram_tag\n",
      "    if insta_post['location']['latitude'] != None and insta_post['location']['longitude'] != None:\n",
      "KeyError: 'latitude'\n",
      "Traceback (most recent call last):\n"
     ]
    },
    {
     "name": "stdout",
     "output_type": "stream",
     "text": [
      "\n",
      "caught error in body, continuing: 'latitude'\n",
      "caught error in body, continuing: 'latitude'"
     ]
    },
    {
     "name": "stderr",
     "output_type": "stream",
     "text": [
      "  File \"<ipython-input-2-872ebd74c558>\", line 26, in search_instagram_tag\n",
      "    if insta_post['location']['latitude'] != None and insta_post['location']['longitude'] != None:\n",
      "KeyError: 'latitude'\n",
      "Traceback (most recent call last):\n",
      "  File \"<ipython-input-2-872ebd74c558>\", line 26, in search_instagram_tag\n",
      "    if insta_post['location']['latitude'] != None and insta_post['location']['longitude'] != None:\n",
      "KeyError: 'latitude'\n",
      "Traceback (most recent call last):\n"
     ]
    },
    {
     "name": "stdout",
     "output_type": "stream",
     "text": [
      "\n",
      "caught error in body, continuing: 'latitude'"
     ]
    },
    {
     "name": "stderr",
     "output_type": "stream",
     "text": [
      "  File \"<ipython-input-2-872ebd74c558>\", line 26, in search_instagram_tag\n",
      "    if insta_post['location']['latitude'] != None and insta_post['location']['longitude'] != None:\n",
      "KeyError: 'latitude'\n",
      "Traceback (most recent call last):\n"
     ]
    },
    {
     "name": "stdout",
     "output_type": "stream",
     "text": [
      "\n",
      "caught error in body, continuing: 'latitude'"
     ]
    },
    {
     "name": "stderr",
     "output_type": "stream",
     "text": [
      "  File \"<ipython-input-2-872ebd74c558>\", line 26, in search_instagram_tag\n",
      "    if insta_post['location']['latitude'] != None and insta_post['location']['longitude'] != None:\n",
      "KeyError: 'latitude'\n",
      "Traceback (most recent call last):\n"
     ]
    },
    {
     "name": "stdout",
     "output_type": "stream",
     "text": [
      "\n",
      "caught error in body, continuing: 'latitude'"
     ]
    },
    {
     "name": "stderr",
     "output_type": "stream",
     "text": [
      "  File \"<ipython-input-2-872ebd74c558>\", line 26, in search_instagram_tag\n",
      "    if insta_post['location']['latitude'] != None and insta_post['location']['longitude'] != None:\n",
      "KeyError: 'latitude'\n",
      "Traceback (most recent call last):\n"
     ]
    },
    {
     "name": "stdout",
     "output_type": "stream",
     "text": [
      "\n",
      "caught error in body, continuing: 'latitude'"
     ]
    },
    {
     "name": "stderr",
     "output_type": "stream",
     "text": [
      "  File \"<ipython-input-2-872ebd74c558>\", line 26, in search_instagram_tag\n",
      "    if insta_post['location']['latitude'] != None and insta_post['location']['longitude'] != None:\n",
      "KeyError: 'latitude'\n",
      "Traceback (most recent call last):\n"
     ]
    },
    {
     "name": "stdout",
     "output_type": "stream",
     "text": [
      "\n",
      "caught error in body, continuing: 'latitude'"
     ]
    },
    {
     "name": "stderr",
     "output_type": "stream",
     "text": [
      "  File \"<ipython-input-2-872ebd74c558>\", line 26, in search_instagram_tag\n",
      "    if insta_post['location']['latitude'] != None and insta_post['location']['longitude'] != None:\n",
      "KeyError: 'latitude'\n",
      "Traceback (most recent call last):\n"
     ]
    },
    {
     "name": "stdout",
     "output_type": "stream",
     "text": [
      "\n",
      "caught error in body, continuing: 'latitude'\n",
      "caught error in body, continuing: 'latitude'"
     ]
    },
    {
     "name": "stderr",
     "output_type": "stream",
     "text": [
      "  File \"<ipython-input-2-872ebd74c558>\", line 26, in search_instagram_tag\n",
      "    if insta_post['location']['latitude'] != None and insta_post['location']['longitude'] != None:\n",
      "KeyError: 'latitude'\n",
      "Traceback (most recent call last):\n",
      "  File \"<ipython-input-2-872ebd74c558>\", line 26, in search_instagram_tag\n",
      "    if insta_post['location']['latitude'] != None and insta_post['location']['longitude'] != None:\n",
      "KeyError: 'latitude'\n",
      "Traceback (most recent call last):\n"
     ]
    },
    {
     "name": "stdout",
     "output_type": "stream",
     "text": [
      "\n",
      "caught error in body, continuing: 'latitude'"
     ]
    },
    {
     "name": "stderr",
     "output_type": "stream",
     "text": [
      "  File \"<ipython-input-2-872ebd74c558>\", line 26, in search_instagram_tag\n",
      "    if insta_post['location']['latitude'] != None and insta_post['location']['longitude'] != None:\n",
      "KeyError: 'latitude'\n",
      "Traceback (most recent call last):\n"
     ]
    },
    {
     "name": "stdout",
     "output_type": "stream",
     "text": [
      "\n",
      "caught error in body, continuing: 'latitude'"
     ]
    },
    {
     "name": "stderr",
     "output_type": "stream",
     "text": [
      "  File \"<ipython-input-2-872ebd74c558>\", line 26, in search_instagram_tag\n",
      "    if insta_post['location']['latitude'] != None and insta_post['location']['longitude'] != None:\n",
      "KeyError: 'latitude'\n",
      "Traceback (most recent call last):\n"
     ]
    },
    {
     "name": "stdout",
     "output_type": "stream",
     "text": [
      "\n",
      "caught error in body, continuing: 'latitude'"
     ]
    },
    {
     "name": "stderr",
     "output_type": "stream",
     "text": [
      "  File \"<ipython-input-2-872ebd74c558>\", line 26, in search_instagram_tag\n",
      "    if insta_post['location']['latitude'] != None and insta_post['location']['longitude'] != None:\n",
      "KeyError: 'latitude'\n",
      "Traceback (most recent call last):\n"
     ]
    },
    {
     "name": "stdout",
     "output_type": "stream",
     "text": [
      "\n",
      "caught error in body, continuing: 'latitude'"
     ]
    },
    {
     "name": "stderr",
     "output_type": "stream",
     "text": [
      "  File \"<ipython-input-2-872ebd74c558>\", line 26, in search_instagram_tag\n",
      "    if insta_post['location']['latitude'] != None and insta_post['location']['longitude'] != None:\n",
      "KeyError: 'latitude'\n",
      "Traceback (most recent call last):\n"
     ]
    },
    {
     "name": "stdout",
     "output_type": "stream",
     "text": [
      "\n",
      "caught error in body, continuing: 'latitude'"
     ]
    },
    {
     "name": "stderr",
     "output_type": "stream",
     "text": [
      "  File \"<ipython-input-2-872ebd74c558>\", line 26, in search_instagram_tag\n",
      "    if insta_post['location']['latitude'] != None and insta_post['location']['longitude'] != None:\n",
      "KeyError: 'latitude'\n",
      "Traceback (most recent call last):\n"
     ]
    },
    {
     "name": "stdout",
     "output_type": "stream",
     "text": [
      "\n",
      "caught error in body, continuing: 'latitude'"
     ]
    },
    {
     "name": "stderr",
     "output_type": "stream",
     "text": [
      "  File \"<ipython-input-2-872ebd74c558>\", line 26, in search_instagram_tag\n",
      "    if insta_post['location']['latitude'] != None and insta_post['location']['longitude'] != None:\n",
      "KeyError: 'latitude'\n",
      "Traceback (most recent call last):\n"
     ]
    },
    {
     "name": "stdout",
     "output_type": "stream",
     "text": [
      "\n",
      "caught error in body, continuing: 'latitude'"
     ]
    },
    {
     "name": "stderr",
     "output_type": "stream",
     "text": [
      "  File \"<ipython-input-2-872ebd74c558>\", line 26, in search_instagram_tag\n",
      "    if insta_post['location']['latitude'] != None and insta_post['location']['longitude'] != None:\n",
      "KeyError: 'latitude'\n",
      "Traceback (most recent call last):\n"
     ]
    },
    {
     "name": "stdout",
     "output_type": "stream",
     "text": [
      "\n",
      "caught error in body, continuing: 'latitude'\n",
      "caught error in body, continuing: 'latitude'"
     ]
    },
    {
     "name": "stderr",
     "output_type": "stream",
     "text": [
      "  File \"<ipython-input-2-872ebd74c558>\", line 26, in search_instagram_tag\n",
      "    if insta_post['location']['latitude'] != None and insta_post['location']['longitude'] != None:\n",
      "KeyError: 'latitude'\n",
      "Traceback (most recent call last):\n",
      "  File \"<ipython-input-2-872ebd74c558>\", line 26, in search_instagram_tag\n",
      "    if insta_post['location']['latitude'] != None and insta_post['location']['longitude'] != None:\n",
      "KeyError: 'latitude'\n",
      "Traceback (most recent call last):\n"
     ]
    },
    {
     "name": "stdout",
     "output_type": "stream",
     "text": [
      "\n",
      "caught error in body, continuing: 'latitude'"
     ]
    },
    {
     "name": "stderr",
     "output_type": "stream",
     "text": [
      "  File \"<ipython-input-2-872ebd74c558>\", line 26, in search_instagram_tag\n",
      "    if insta_post['location']['latitude'] != None and insta_post['location']['longitude'] != None:\n",
      "KeyError: 'latitude'\n",
      "Traceback (most recent call last):\n"
     ]
    },
    {
     "name": "stdout",
     "output_type": "stream",
     "text": [
      "\n",
      "caught error in body, continuing: 'latitude'\n",
      "caught error in body, continuing: 'latitude'"
     ]
    },
    {
     "name": "stderr",
     "output_type": "stream",
     "text": [
      "  File \"<ipython-input-2-872ebd74c558>\", line 26, in search_instagram_tag\n",
      "    if insta_post['location']['latitude'] != None and insta_post['location']['longitude'] != None:\n",
      "KeyError: 'latitude'\n",
      "Traceback (most recent call last):\n",
      "  File \"<ipython-input-2-872ebd74c558>\", line 26, in search_instagram_tag\n",
      "    if insta_post['location']['latitude'] != None and insta_post['location']['longitude'] != None:\n",
      "KeyError: 'latitude'\n",
      "Traceback (most recent call last):\n"
     ]
    },
    {
     "name": "stdout",
     "output_type": "stream",
     "text": [
      "\n",
      "caught error in body, continuing: 'latitude'"
     ]
    },
    {
     "name": "stderr",
     "output_type": "stream",
     "text": [
      "  File \"<ipython-input-2-872ebd74c558>\", line 26, in search_instagram_tag\n",
      "    if insta_post['location']['latitude'] != None and insta_post['location']['longitude'] != None:\n",
      "KeyError: 'latitude'\n",
      "Traceback (most recent call last):\n"
     ]
    },
    {
     "name": "stdout",
     "output_type": "stream",
     "text": [
      "\n",
      "caught error in body, continuing: 'latitude'\n",
      "caught error in body, continuing: 'latitude'"
     ]
    },
    {
     "name": "stderr",
     "output_type": "stream",
     "text": [
      "  File \"<ipython-input-2-872ebd74c558>\", line 26, in search_instagram_tag\n",
      "    if insta_post['location']['latitude'] != None and insta_post['location']['longitude'] != None:\n",
      "KeyError: 'latitude'\n",
      "Traceback (most recent call last):\n",
      "  File \"<ipython-input-2-872ebd74c558>\", line 26, in search_instagram_tag\n",
      "    if insta_post['location']['latitude'] != None and insta_post['location']['longitude'] != None:\n",
      "KeyError: 'latitude'\n",
      "Traceback (most recent call last):\n"
     ]
    },
    {
     "name": "stdout",
     "output_type": "stream",
     "text": [
      "\n",
      "caught error in body, continuing: 'latitude'"
     ]
    },
    {
     "name": "stderr",
     "output_type": "stream",
     "text": [
      "  File \"<ipython-input-2-872ebd74c558>\", line 26, in search_instagram_tag\n",
      "    if insta_post['location']['latitude'] != None and insta_post['location']['longitude'] != None:\n",
      "KeyError: 'latitude'\n",
      "Traceback (most recent call last):\n"
     ]
    },
    {
     "name": "stdout",
     "output_type": "stream",
     "text": [
      "\n",
      "caught error in body, continuing: 'latitude'\n",
      "caught error in body, continuing: 'latitude'\n",
      "caught error in body, continuing: 'latitude'"
     ]
    },
    {
     "name": "stderr",
     "output_type": "stream",
     "text": [
      "  File \"<ipython-input-2-872ebd74c558>\", line 26, in search_instagram_tag\n",
      "    if insta_post['location']['latitude'] != None and insta_post['location']['longitude'] != None:\n",
      "KeyError: 'latitude'\n",
      "Traceback (most recent call last):\n",
      "  File \"<ipython-input-2-872ebd74c558>\", line 26, in search_instagram_tag\n",
      "    if insta_post['location']['latitude'] != None and insta_post['location']['longitude'] != None:\n",
      "KeyError: 'latitude'\n",
      "Traceback (most recent call last):\n",
      "  File \"<ipython-input-2-872ebd74c558>\", line 26, in search_instagram_tag\n",
      "    if insta_post['location']['latitude'] != None and insta_post['location']['longitude'] != None:\n",
      "KeyError: 'latitude'\n",
      "Traceback (most recent call last):\n"
     ]
    },
    {
     "name": "stdout",
     "output_type": "stream",
     "text": [
      "\n",
      "caught error in body, continuing: 'latitude'"
     ]
    },
    {
     "name": "stderr",
     "output_type": "stream",
     "text": [
      "  File \"<ipython-input-2-872ebd74c558>\", line 26, in search_instagram_tag\n",
      "    if insta_post['location']['latitude'] != None and insta_post['location']['longitude'] != None:\n",
      "KeyError: 'latitude'\n",
      "Traceback (most recent call last):\n"
     ]
    },
    {
     "name": "stdout",
     "output_type": "stream",
     "text": [
      "\n",
      "caught error in body, continuing: 'latitude'"
     ]
    },
    {
     "name": "stderr",
     "output_type": "stream",
     "text": [
      "  File \"<ipython-input-2-872ebd74c558>\", line 26, in search_instagram_tag\n",
      "    if insta_post['location']['latitude'] != None and insta_post['location']['longitude'] != None:\n",
      "KeyError: 'latitude'\n",
      "Traceback (most recent call last):\n"
     ]
    },
    {
     "name": "stdout",
     "output_type": "stream",
     "text": [
      "\n",
      "caught error in body, continuing: 'latitude'"
     ]
    },
    {
     "name": "stderr",
     "output_type": "stream",
     "text": [
      "  File \"<ipython-input-2-872ebd74c558>\", line 26, in search_instagram_tag\n",
      "    if insta_post['location']['latitude'] != None and insta_post['location']['longitude'] != None:\n",
      "KeyError: 'latitude'\n",
      "Traceback (most recent call last):\n"
     ]
    },
    {
     "name": "stdout",
     "output_type": "stream",
     "text": [
      "\n",
      "caught error in body, continuing: 'latitude'"
     ]
    },
    {
     "name": "stderr",
     "output_type": "stream",
     "text": [
      "  File \"<ipython-input-2-872ebd74c558>\", line 26, in search_instagram_tag\n",
      "    if insta_post['location']['latitude'] != None and insta_post['location']['longitude'] != None:\n",
      "KeyError: 'latitude'\n",
      "Traceback (most recent call last):\n"
     ]
    },
    {
     "name": "stdout",
     "output_type": "stream",
     "text": [
      "\n",
      "caught error in body, continuing: 'latitude'"
     ]
    },
    {
     "name": "stderr",
     "output_type": "stream",
     "text": [
      "  File \"<ipython-input-2-872ebd74c558>\", line 26, in search_instagram_tag\n",
      "    if insta_post['location']['latitude'] != None and insta_post['location']['longitude'] != None:\n",
      "KeyError: 'latitude'\n",
      "Traceback (most recent call last):\n"
     ]
    },
    {
     "name": "stdout",
     "output_type": "stream",
     "text": [
      "\n",
      "caught error in body, continuing: 'latitude'"
     ]
    },
    {
     "name": "stderr",
     "output_type": "stream",
     "text": [
      "  File \"<ipython-input-2-872ebd74c558>\", line 26, in search_instagram_tag\n",
      "    if insta_post['location']['latitude'] != None and insta_post['location']['longitude'] != None:\n",
      "KeyError: 'latitude'\n",
      "Traceback (most recent call last):\n"
     ]
    },
    {
     "name": "stdout",
     "output_type": "stream",
     "text": [
      "\n",
      "caught error in body, continuing: 'latitude'\n",
      "caught error in body, continuing: 'latitude'"
     ]
    },
    {
     "name": "stderr",
     "output_type": "stream",
     "text": [
      "  File \"<ipython-input-2-872ebd74c558>\", line 26, in search_instagram_tag\n",
      "    if insta_post['location']['latitude'] != None and insta_post['location']['longitude'] != None:\n",
      "KeyError: 'latitude'\n",
      "Traceback (most recent call last):\n",
      "  File \"<ipython-input-2-872ebd74c558>\", line 26, in search_instagram_tag\n",
      "    if insta_post['location']['latitude'] != None and insta_post['location']['longitude'] != None:\n",
      "KeyError: 'latitude'\n",
      "Traceback (most recent call last):\n"
     ]
    },
    {
     "name": "stdout",
     "output_type": "stream",
     "text": [
      "\n",
      "caught error in body, continuing: 'latitude'"
     ]
    },
    {
     "name": "stderr",
     "output_type": "stream",
     "text": [
      "  File \"<ipython-input-2-872ebd74c558>\", line 26, in search_instagram_tag\n",
      "    if insta_post['location']['latitude'] != None and insta_post['location']['longitude'] != None:\n",
      "KeyError: 'latitude'\n",
      "Traceback (most recent call last):\n"
     ]
    },
    {
     "name": "stdout",
     "output_type": "stream",
     "text": [
      "\n",
      "caught error in body, continuing: 'latitude'"
     ]
    },
    {
     "name": "stderr",
     "output_type": "stream",
     "text": [
      "  File \"<ipython-input-2-872ebd74c558>\", line 26, in search_instagram_tag\n",
      "    if insta_post['location']['latitude'] != None and insta_post['location']['longitude'] != None:\n",
      "KeyError: 'latitude'\n",
      "Traceback (most recent call last):\n"
     ]
    },
    {
     "name": "stdout",
     "output_type": "stream",
     "text": [
      "\n",
      "caught error in body, continuing: 'latitude'"
     ]
    },
    {
     "name": "stderr",
     "output_type": "stream",
     "text": [
      "  File \"<ipython-input-2-872ebd74c558>\", line 26, in search_instagram_tag\n",
      "    if insta_post['location']['latitude'] != None and insta_post['location']['longitude'] != None:\n",
      "KeyError: 'latitude'\n",
      "Traceback (most recent call last):\n"
     ]
    },
    {
     "name": "stdout",
     "output_type": "stream",
     "text": [
      "\n",
      "caught error in body, continuing: 'latitude'"
     ]
    },
    {
     "name": "stderr",
     "output_type": "stream",
     "text": [
      "  File \"<ipython-input-2-872ebd74c558>\", line 26, in search_instagram_tag\n",
      "    if insta_post['location']['latitude'] != None and insta_post['location']['longitude'] != None:\n",
      "KeyError: 'latitude'\n",
      "Traceback (most recent call last):\n"
     ]
    },
    {
     "name": "stdout",
     "output_type": "stream",
     "text": [
      "\n",
      "caught error in body, continuing: 'latitude'\n",
      "caught error in body, continuing: 'latitude'"
     ]
    },
    {
     "name": "stderr",
     "output_type": "stream",
     "text": [
      "  File \"<ipython-input-2-872ebd74c558>\", line 26, in search_instagram_tag\n",
      "    if insta_post['location']['latitude'] != None and insta_post['location']['longitude'] != None:\n",
      "KeyError: 'latitude'\n",
      "Traceback (most recent call last):\n",
      "  File \"<ipython-input-2-872ebd74c558>\", line 26, in search_instagram_tag\n",
      "    if insta_post['location']['latitude'] != None and insta_post['location']['longitude'] != None:\n",
      "KeyError: 'latitude'\n",
      "Traceback (most recent call last):\n"
     ]
    },
    {
     "name": "stdout",
     "output_type": "stream",
     "text": [
      "\n",
      "caught error in body, continuing: 'latitude'"
     ]
    },
    {
     "name": "stderr",
     "output_type": "stream",
     "text": [
      "  File \"<ipython-input-2-872ebd74c558>\", line 26, in search_instagram_tag\n",
      "    if insta_post['location']['latitude'] != None and insta_post['location']['longitude'] != None:\n",
      "KeyError: 'latitude'\n",
      "Traceback (most recent call last):\n"
     ]
    },
    {
     "name": "stdout",
     "output_type": "stream",
     "text": [
      "\n",
      "caught error in body, continuing: 'latitude'\n",
      "caught error in body, continuing: 'latitude'"
     ]
    },
    {
     "name": "stderr",
     "output_type": "stream",
     "text": [
      "  File \"<ipython-input-2-872ebd74c558>\", line 26, in search_instagram_tag\n",
      "    if insta_post['location']['latitude'] != None and insta_post['location']['longitude'] != None:\n",
      "KeyError: 'latitude'\n",
      "Traceback (most recent call last):\n",
      "  File \"<ipython-input-2-872ebd74c558>\", line 26, in search_instagram_tag\n",
      "    if insta_post['location']['latitude'] != None and insta_post['location']['longitude'] != None:\n",
      "KeyError: 'latitude'\n",
      "Traceback (most recent call last):\n"
     ]
    },
    {
     "name": "stdout",
     "output_type": "stream",
     "text": [
      "\n",
      "caught error in body, continuing: 'latitude'"
     ]
    },
    {
     "name": "stderr",
     "output_type": "stream",
     "text": [
      "  File \"<ipython-input-2-872ebd74c558>\", line 26, in search_instagram_tag\n",
      "    if insta_post['location']['latitude'] != None and insta_post['location']['longitude'] != None:\n",
      "KeyError: 'latitude'\n",
      "Traceback (most recent call last):\n"
     ]
    },
    {
     "name": "stdout",
     "output_type": "stream",
     "text": [
      "\n",
      "caught error in body, continuing: 'latitude'"
     ]
    },
    {
     "name": "stderr",
     "output_type": "stream",
     "text": [
      "  File \"<ipython-input-2-872ebd74c558>\", line 26, in search_instagram_tag\n",
      "    if insta_post['location']['latitude'] != None and insta_post['location']['longitude'] != None:\n",
      "KeyError: 'latitude'\n",
      "Traceback (most recent call last):\n"
     ]
    },
    {
     "name": "stdout",
     "output_type": "stream",
     "text": [
      "\n",
      "caught error in body, continuing: 'latitude'"
     ]
    },
    {
     "name": "stderr",
     "output_type": "stream",
     "text": [
      "  File \"<ipython-input-2-872ebd74c558>\", line 26, in search_instagram_tag\n",
      "    if insta_post['location']['latitude'] != None and insta_post['location']['longitude'] != None:\n",
      "KeyError: 'latitude'\n",
      "Traceback (most recent call last):\n"
     ]
    },
    {
     "name": "stdout",
     "output_type": "stream",
     "text": [
      "\n",
      "caught error in body, continuing: 'latitude'"
     ]
    },
    {
     "name": "stderr",
     "output_type": "stream",
     "text": [
      "  File \"<ipython-input-2-872ebd74c558>\", line 26, in search_instagram_tag\n",
      "    if insta_post['location']['latitude'] != None and insta_post['location']['longitude'] != None:\n",
      "KeyError: 'latitude'\n",
      "Traceback (most recent call last):\n"
     ]
    },
    {
     "name": "stdout",
     "output_type": "stream",
     "text": [
      "\n",
      "caught error in body, continuing: 'latitude'"
     ]
    },
    {
     "name": "stderr",
     "output_type": "stream",
     "text": [
      "  File \"<ipython-input-2-872ebd74c558>\", line 26, in search_instagram_tag\n",
      "    if insta_post['location']['latitude'] != None and insta_post['location']['longitude'] != None:\n",
      "KeyError: 'latitude'\n",
      "Traceback (most recent call last):\n"
     ]
    },
    {
     "name": "stdout",
     "output_type": "stream",
     "text": [
      "\n",
      "caught error in body, continuing: 'latitude'"
     ]
    },
    {
     "name": "stderr",
     "output_type": "stream",
     "text": [
      "  File \"<ipython-input-2-872ebd74c558>\", line 26, in search_instagram_tag\n",
      "    if insta_post['location']['latitude'] != None and insta_post['location']['longitude'] != None:\n",
      "KeyError: 'latitude'\n",
      "Traceback (most recent call last):\n"
     ]
    },
    {
     "name": "stdout",
     "output_type": "stream",
     "text": [
      "\n",
      "caught error in body, continuing: 'latitude'\n",
      "caught error in body, continuing: 'latitude'"
     ]
    },
    {
     "name": "stderr",
     "output_type": "stream",
     "text": [
      "  File \"<ipython-input-2-872ebd74c558>\", line 26, in search_instagram_tag\n",
      "    if insta_post['location']['latitude'] != None and insta_post['location']['longitude'] != None:\n",
      "KeyError: 'latitude'\n",
      "Traceback (most recent call last):\n",
      "  File \"<ipython-input-2-872ebd74c558>\", line 26, in search_instagram_tag\n",
      "    if insta_post['location']['latitude'] != None and insta_post['location']['longitude'] != None:\n",
      "KeyError: 'latitude'\n",
      "Traceback (most recent call last):\n"
     ]
    },
    {
     "name": "stdout",
     "output_type": "stream",
     "text": [
      "\n",
      "caught error in body, continuing: 'latitude'"
     ]
    },
    {
     "name": "stderr",
     "output_type": "stream",
     "text": [
      "  File \"<ipython-input-2-872ebd74c558>\", line 26, in search_instagram_tag\n",
      "    if insta_post['location']['latitude'] != None and insta_post['location']['longitude'] != None:\n",
      "KeyError: 'latitude'\n",
      "Traceback (most recent call last):\n"
     ]
    },
    {
     "name": "stdout",
     "output_type": "stream",
     "text": [
      "\n",
      "caught error in body, continuing: 'latitude'"
     ]
    },
    {
     "name": "stderr",
     "output_type": "stream",
     "text": [
      "  File \"<ipython-input-2-872ebd74c558>\", line 26, in search_instagram_tag\n",
      "    if insta_post['location']['latitude'] != None and insta_post['location']['longitude'] != None:\n",
      "KeyError: 'latitude'\n",
      "Traceback (most recent call last):\n"
     ]
    },
    {
     "name": "stdout",
     "output_type": "stream",
     "text": [
      "\n",
      "caught error in body, continuing: 'latitude'"
     ]
    },
    {
     "name": "stderr",
     "output_type": "stream",
     "text": [
      "  File \"<ipython-input-2-872ebd74c558>\", line 26, in search_instagram_tag\n",
      "    if insta_post['location']['latitude'] != None and insta_post['location']['longitude'] != None:\n",
      "KeyError: 'latitude'\n",
      "Traceback (most recent call last):\n"
     ]
    },
    {
     "name": "stdout",
     "output_type": "stream",
     "text": [
      "\n",
      "caught error in body, continuing: 'latitude'"
     ]
    },
    {
     "name": "stderr",
     "output_type": "stream",
     "text": [
      "  File \"<ipython-input-2-872ebd74c558>\", line 26, in search_instagram_tag\n",
      "    if insta_post['location']['latitude'] != None and insta_post['location']['longitude'] != None:\n",
      "KeyError: 'latitude'\n",
      "Traceback (most recent call last):\n"
     ]
    },
    {
     "name": "stdout",
     "output_type": "stream",
     "text": [
      "\n",
      "caught error in body, continuing: 'latitude'"
     ]
    },
    {
     "name": "stderr",
     "output_type": "stream",
     "text": [
      "  File \"<ipython-input-2-872ebd74c558>\", line 26, in search_instagram_tag\n",
      "    if insta_post['location']['latitude'] != None and insta_post['location']['longitude'] != None:\n",
      "KeyError: 'latitude'\n",
      "Traceback (most recent call last):\n"
     ]
    },
    {
     "name": "stdout",
     "output_type": "stream",
     "text": [
      "\n",
      "caught error in body, continuing: 'latitude'"
     ]
    },
    {
     "name": "stderr",
     "output_type": "stream",
     "text": [
      "  File \"<ipython-input-2-872ebd74c558>\", line 26, in search_instagram_tag\n",
      "    if insta_post['location']['latitude'] != None and insta_post['location']['longitude'] != None:\n",
      "KeyError: 'latitude'\n",
      "Traceback (most recent call last):\n"
     ]
    },
    {
     "name": "stdout",
     "output_type": "stream",
     "text": [
      "\n",
      "caught error in body, continuing: 'latitude'"
     ]
    },
    {
     "name": "stderr",
     "output_type": "stream",
     "text": [
      "  File \"<ipython-input-2-872ebd74c558>\", line 26, in search_instagram_tag\n",
      "    if insta_post['location']['latitude'] != None and insta_post['location']['longitude'] != None:\n",
      "KeyError: 'latitude'\n",
      "Traceback (most recent call last):\n"
     ]
    },
    {
     "name": "stdout",
     "output_type": "stream",
     "text": [
      "\n",
      "caught error in body, continuing: 'latitude'"
     ]
    },
    {
     "name": "stderr",
     "output_type": "stream",
     "text": [
      "  File \"<ipython-input-2-872ebd74c558>\", line 26, in search_instagram_tag\n",
      "    if insta_post['location']['latitude'] != None and insta_post['location']['longitude'] != None:\n",
      "KeyError: 'latitude'\n",
      "Traceback (most recent call last):\n"
     ]
    },
    {
     "name": "stdout",
     "output_type": "stream",
     "text": [
      "\n",
      "caught error in body, continuing: 'latitude'"
     ]
    },
    {
     "name": "stderr",
     "output_type": "stream",
     "text": [
      "  File \"<ipython-input-2-872ebd74c558>\", line 26, in search_instagram_tag\n",
      "    if insta_post['location']['latitude'] != None and insta_post['location']['longitude'] != None:\n",
      "KeyError: 'latitude'\n",
      "Traceback (most recent call last):\n"
     ]
    },
    {
     "name": "stdout",
     "output_type": "stream",
     "text": [
      "\n",
      "caught error in body, continuing: 'latitude'"
     ]
    },
    {
     "name": "stderr",
     "output_type": "stream",
     "text": [
      "  File \"<ipython-input-2-872ebd74c558>\", line 26, in search_instagram_tag\n",
      "    if insta_post['location']['latitude'] != None and insta_post['location']['longitude'] != None:\n",
      "KeyError: 'latitude'\n",
      "Traceback (most recent call last):\n"
     ]
    },
    {
     "name": "stdout",
     "output_type": "stream",
     "text": [
      "\n",
      "caught error in body, continuing: 'latitude'"
     ]
    },
    {
     "name": "stderr",
     "output_type": "stream",
     "text": [
      "  File \"<ipython-input-2-872ebd74c558>\", line 26, in search_instagram_tag\n",
      "    if insta_post['location']['latitude'] != None and insta_post['location']['longitude'] != None:\n",
      "KeyError: 'latitude'\n",
      "Traceback (most recent call last):\n"
     ]
    },
    {
     "name": "stdout",
     "output_type": "stream",
     "text": [
      "\n",
      "caught error in body, continuing: 'latitude'"
     ]
    },
    {
     "name": "stderr",
     "output_type": "stream",
     "text": [
      "  File \"<ipython-input-2-872ebd74c558>\", line 26, in search_instagram_tag\n",
      "    if insta_post['location']['latitude'] != None and insta_post['location']['longitude'] != None:\n",
      "KeyError: 'latitude'\n",
      "Traceback (most recent call last):\n"
     ]
    },
    {
     "name": "stdout",
     "output_type": "stream",
     "text": [
      "\n",
      "caught error in body, continuing: 'latitude'"
     ]
    },
    {
     "name": "stderr",
     "output_type": "stream",
     "text": [
      "  File \"<ipython-input-2-872ebd74c558>\", line 26, in search_instagram_tag\n",
      "    if insta_post['location']['latitude'] != None and insta_post['location']['longitude'] != None:\n",
      "KeyError: 'latitude'\n",
      "Traceback (most recent call last):\n"
     ]
    },
    {
     "name": "stdout",
     "output_type": "stream",
     "text": [
      "\n",
      "caught error in body, continuing: 'latitude'"
     ]
    },
    {
     "name": "stderr",
     "output_type": "stream",
     "text": [
      "  File \"<ipython-input-2-872ebd74c558>\", line 26, in search_instagram_tag\n",
      "    if insta_post['location']['latitude'] != None and insta_post['location']['longitude'] != None:\n",
      "KeyError: 'latitude'\n",
      "Traceback (most recent call last):\n"
     ]
    },
    {
     "name": "stdout",
     "output_type": "stream",
     "text": [
      "\n",
      "caught error in body, continuing: 'latitude'"
     ]
    },
    {
     "name": "stderr",
     "output_type": "stream",
     "text": [
      "  File \"<ipython-input-2-872ebd74c558>\", line 26, in search_instagram_tag\n",
      "    if insta_post['location']['latitude'] != None and insta_post['location']['longitude'] != None:\n",
      "KeyError: 'latitude'\n",
      "Traceback (most recent call last):\n"
     ]
    },
    {
     "name": "stdout",
     "output_type": "stream",
     "text": [
      "\n",
      "caught error in body, continuing: 'latitude'\n",
      "caught error in body, continuing: 'latitude'"
     ]
    },
    {
     "name": "stderr",
     "output_type": "stream",
     "text": [
      "  File \"<ipython-input-2-872ebd74c558>\", line 26, in search_instagram_tag\n",
      "    if insta_post['location']['latitude'] != None and insta_post['location']['longitude'] != None:\n",
      "KeyError: 'latitude'\n",
      "Traceback (most recent call last):\n",
      "  File \"<ipython-input-2-872ebd74c558>\", line 26, in search_instagram_tag\n",
      "    if insta_post['location']['latitude'] != None and insta_post['location']['longitude'] != None:\n",
      "KeyError: 'latitude'\n",
      "Traceback (most recent call last):\n"
     ]
    },
    {
     "name": "stdout",
     "output_type": "stream",
     "text": [
      "\n",
      "caught error in body, continuing: 'latitude'"
     ]
    },
    {
     "name": "stderr",
     "output_type": "stream",
     "text": [
      "  File \"<ipython-input-2-872ebd74c558>\", line 26, in search_instagram_tag\n",
      "    if insta_post['location']['latitude'] != None and insta_post['location']['longitude'] != None:\n",
      "KeyError: 'latitude'\n",
      "Traceback (most recent call last):\n"
     ]
    },
    {
     "name": "stdout",
     "output_type": "stream",
     "text": [
      "\n",
      "caught error in body, continuing: 'latitude'"
     ]
    },
    {
     "name": "stderr",
     "output_type": "stream",
     "text": [
      "  File \"<ipython-input-2-872ebd74c558>\", line 26, in search_instagram_tag\n",
      "    if insta_post['location']['latitude'] != None and insta_post['location']['longitude'] != None:\n",
      "KeyError: 'latitude'\n",
      "Traceback (most recent call last):\n"
     ]
    },
    {
     "name": "stdout",
     "output_type": "stream",
     "text": [
      "\n",
      "caught error in body, continuing: 'latitude'\n",
      "caught error in body, continuing: 'latitude'"
     ]
    },
    {
     "name": "stderr",
     "output_type": "stream",
     "text": [
      "  File \"<ipython-input-2-872ebd74c558>\", line 26, in search_instagram_tag\n",
      "    if insta_post['location']['latitude'] != None and insta_post['location']['longitude'] != None:\n",
      "KeyError: 'latitude'\n",
      "Traceback (most recent call last):\n",
      "  File \"<ipython-input-2-872ebd74c558>\", line 26, in search_instagram_tag\n",
      "    if insta_post['location']['latitude'] != None and insta_post['location']['longitude'] != None:\n",
      "KeyError: 'latitude'\n",
      "Traceback (most recent call last):\n"
     ]
    },
    {
     "name": "stdout",
     "output_type": "stream",
     "text": [
      "\n",
      "caught error in body, continuing: 'latitude'\n",
      "caught error in body, continuing: 'latitude'"
     ]
    },
    {
     "name": "stderr",
     "output_type": "stream",
     "text": [
      "  File \"<ipython-input-2-872ebd74c558>\", line 26, in search_instagram_tag\n",
      "    if insta_post['location']['latitude'] != None and insta_post['location']['longitude'] != None:\n",
      "KeyError: 'latitude'\n",
      "Traceback (most recent call last):\n",
      "  File \"<ipython-input-2-872ebd74c558>\", line 26, in search_instagram_tag\n",
      "    if insta_post['location']['latitude'] != None and insta_post['location']['longitude'] != None:\n",
      "KeyError: 'latitude'\n",
      "Traceback (most recent call last):\n"
     ]
    },
    {
     "name": "stdout",
     "output_type": "stream",
     "text": [
      "\n",
      "caught error in body, continuing: 'latitude'"
     ]
    },
    {
     "name": "stderr",
     "output_type": "stream",
     "text": [
      "  File \"<ipython-input-2-872ebd74c558>\", line 26, in search_instagram_tag\n",
      "    if insta_post['location']['latitude'] != None and insta_post['location']['longitude'] != None:\n",
      "KeyError: 'latitude'\n",
      "Traceback (most recent call last):\n"
     ]
    },
    {
     "name": "stdout",
     "output_type": "stream",
     "text": [
      "\n",
      "caught error in body, continuing: 'latitude'"
     ]
    },
    {
     "name": "stderr",
     "output_type": "stream",
     "text": [
      "  File \"<ipython-input-2-872ebd74c558>\", line 26, in search_instagram_tag\n",
      "    if insta_post['location']['latitude'] != None and insta_post['location']['longitude'] != None:\n",
      "KeyError: 'latitude'\n",
      "Traceback (most recent call last):\n"
     ]
    },
    {
     "name": "stdout",
     "output_type": "stream",
     "text": [
      "\n",
      "caught error in body, continuing: 'latitude'"
     ]
    },
    {
     "name": "stderr",
     "output_type": "stream",
     "text": [
      "  File \"<ipython-input-2-872ebd74c558>\", line 26, in search_instagram_tag\n",
      "    if insta_post['location']['latitude'] != None and insta_post['location']['longitude'] != None:\n",
      "KeyError: 'latitude'\n",
      "Traceback (most recent call last):\n"
     ]
    },
    {
     "name": "stdout",
     "output_type": "stream",
     "text": [
      "\n",
      "caught error in body, continuing: 'latitude'\n",
      "caught error in body, continuing: 'latitude'"
     ]
    },
    {
     "name": "stderr",
     "output_type": "stream",
     "text": [
      "  File \"<ipython-input-2-872ebd74c558>\", line 26, in search_instagram_tag\n",
      "    if insta_post['location']['latitude'] != None and insta_post['location']['longitude'] != None:\n",
      "KeyError: 'latitude'\n",
      "Traceback (most recent call last):\n",
      "  File \"<ipython-input-2-872ebd74c558>\", line 26, in search_instagram_tag\n",
      "    if insta_post['location']['latitude'] != None and insta_post['location']['longitude'] != None:\n",
      "KeyError: 'latitude'\n",
      "Traceback (most recent call last):\n"
     ]
    },
    {
     "name": "stdout",
     "output_type": "stream",
     "text": [
      "\n",
      "caught error in body, continuing: 'latitude'"
     ]
    },
    {
     "name": "stderr",
     "output_type": "stream",
     "text": [
      "  File \"<ipython-input-2-872ebd74c558>\", line 26, in search_instagram_tag\n",
      "    if insta_post['location']['latitude'] != None and insta_post['location']['longitude'] != None:\n",
      "KeyError: 'latitude'\n",
      "Traceback (most recent call last):\n"
     ]
    },
    {
     "name": "stdout",
     "output_type": "stream",
     "text": [
      "\n",
      "caught error in body, continuing: 'latitude'"
     ]
    },
    {
     "name": "stderr",
     "output_type": "stream",
     "text": [
      "  File \"<ipython-input-2-872ebd74c558>\", line 26, in search_instagram_tag\n",
      "    if insta_post['location']['latitude'] != None and insta_post['location']['longitude'] != None:\n",
      "KeyError: 'latitude'\n",
      "Traceback (most recent call last):\n"
     ]
    },
    {
     "name": "stdout",
     "output_type": "stream",
     "text": [
      "\n",
      "caught error in body, continuing: 'latitude'"
     ]
    },
    {
     "name": "stderr",
     "output_type": "stream",
     "text": [
      "  File \"<ipython-input-2-872ebd74c558>\", line 26, in search_instagram_tag\n",
      "    if insta_post['location']['latitude'] != None and insta_post['location']['longitude'] != None:\n",
      "KeyError: 'latitude'\n",
      "Traceback (most recent call last):\n"
     ]
    },
    {
     "name": "stdout",
     "output_type": "stream",
     "text": [
      "\n",
      "caught error in body, continuing: 'latitude'"
     ]
    },
    {
     "name": "stderr",
     "output_type": "stream",
     "text": [
      "  File \"<ipython-input-2-872ebd74c558>\", line 26, in search_instagram_tag\n",
      "    if insta_post['location']['latitude'] != None and insta_post['location']['longitude'] != None:\n",
      "KeyError: 'latitude'\n",
      "Traceback (most recent call last):\n"
     ]
    },
    {
     "name": "stdout",
     "output_type": "stream",
     "text": [
      "\n",
      "caught error in body, continuing: 'latitude'"
     ]
    },
    {
     "name": "stderr",
     "output_type": "stream",
     "text": [
      "  File \"<ipython-input-2-872ebd74c558>\", line 26, in search_instagram_tag\n",
      "    if insta_post['location']['latitude'] != None and insta_post['location']['longitude'] != None:\n",
      "KeyError: 'latitude'\n",
      "Traceback (most recent call last):\n"
     ]
    },
    {
     "name": "stdout",
     "output_type": "stream",
     "text": [
      "\n",
      "caught error in body, continuing: 'latitude'"
     ]
    },
    {
     "name": "stderr",
     "output_type": "stream",
     "text": [
      "  File \"<ipython-input-2-872ebd74c558>\", line 26, in search_instagram_tag\n",
      "    if insta_post['location']['latitude'] != None and insta_post['location']['longitude'] != None:\n",
      "KeyError: 'latitude'\n",
      "Traceback (most recent call last):\n"
     ]
    },
    {
     "name": "stdout",
     "output_type": "stream",
     "text": [
      "\n",
      "caught error in body, continuing: 'latitude'"
     ]
    },
    {
     "name": "stderr",
     "output_type": "stream",
     "text": [
      "  File \"<ipython-input-2-872ebd74c558>\", line 26, in search_instagram_tag\n",
      "    if insta_post['location']['latitude'] != None and insta_post['location']['longitude'] != None:\n",
      "KeyError: 'latitude'\n",
      "Traceback (most recent call last):\n"
     ]
    },
    {
     "name": "stdout",
     "output_type": "stream",
     "text": [
      "\n",
      "caught error in body, continuing: 'latitude'"
     ]
    },
    {
     "name": "stderr",
     "output_type": "stream",
     "text": [
      "  File \"<ipython-input-2-872ebd74c558>\", line 26, in search_instagram_tag\n",
      "    if insta_post['location']['latitude'] != None and insta_post['location']['longitude'] != None:\n",
      "KeyError: 'latitude'\n",
      "Traceback (most recent call last):\n"
     ]
    },
    {
     "name": "stdout",
     "output_type": "stream",
     "text": [
      "\n",
      "caught error in body, continuing: 'latitude'"
     ]
    },
    {
     "name": "stderr",
     "output_type": "stream",
     "text": [
      "  File \"<ipython-input-2-872ebd74c558>\", line 26, in search_instagram_tag\n",
      "    if insta_post['location']['latitude'] != None and insta_post['location']['longitude'] != None:\n",
      "KeyError: 'latitude'\n",
      "Traceback (most recent call last):\n"
     ]
    },
    {
     "name": "stdout",
     "output_type": "stream",
     "text": [
      "\n",
      "caught error in body, continuing: 'latitude'"
     ]
    },
    {
     "name": "stderr",
     "output_type": "stream",
     "text": [
      "  File \"<ipython-input-2-872ebd74c558>\", line 26, in search_instagram_tag\n",
      "    if insta_post['location']['latitude'] != None and insta_post['location']['longitude'] != None:\n",
      "KeyError: 'latitude'\n",
      "Traceback (most recent call last):\n"
     ]
    },
    {
     "name": "stdout",
     "output_type": "stream",
     "text": [
      "\n",
      "caught error in body, continuing: 'latitude'"
     ]
    },
    {
     "name": "stderr",
     "output_type": "stream",
     "text": [
      "  File \"<ipython-input-2-872ebd74c558>\", line 26, in search_instagram_tag\n",
      "    if insta_post['location']['latitude'] != None and insta_post['location']['longitude'] != None:\n",
      "KeyError: 'latitude'\n",
      "Traceback (most recent call last):\n"
     ]
    },
    {
     "name": "stdout",
     "output_type": "stream",
     "text": [
      "\n",
      "caught error in body, continuing: 'latitude'"
     ]
    },
    {
     "name": "stderr",
     "output_type": "stream",
     "text": [
      "  File \"<ipython-input-2-872ebd74c558>\", line 26, in search_instagram_tag\n",
      "    if insta_post['location']['latitude'] != None and insta_post['location']['longitude'] != None:\n",
      "KeyError: 'latitude'\n",
      "Traceback (most recent call last):\n"
     ]
    },
    {
     "name": "stdout",
     "output_type": "stream",
     "text": [
      "\n",
      "caught error in body, continuing: 'latitude'\n",
      "caught error in body, continuing: 'latitude'"
     ]
    },
    {
     "name": "stderr",
     "output_type": "stream",
     "text": [
      "  File \"<ipython-input-2-872ebd74c558>\", line 26, in search_instagram_tag\n",
      "    if insta_post['location']['latitude'] != None and insta_post['location']['longitude'] != None:\n",
      "KeyError: 'latitude'\n",
      "Traceback (most recent call last):\n",
      "  File \"<ipython-input-2-872ebd74c558>\", line 26, in search_instagram_tag\n",
      "    if insta_post['location']['latitude'] != None and insta_post['location']['longitude'] != None:\n",
      "KeyError: 'latitude'\n",
      "Traceback (most recent call last):\n"
     ]
    },
    {
     "name": "stdout",
     "output_type": "stream",
     "text": [
      "\n",
      "caught error in body, continuing: 'latitude'"
     ]
    },
    {
     "name": "stderr",
     "output_type": "stream",
     "text": [
      "  File \"<ipython-input-2-872ebd74c558>\", line 26, in search_instagram_tag\n",
      "    if insta_post['location']['latitude'] != None and insta_post['location']['longitude'] != None:\n",
      "KeyError: 'latitude'\n",
      "Traceback (most recent call last):\n"
     ]
    },
    {
     "name": "stdout",
     "output_type": "stream",
     "text": [
      "\n",
      "caught error in body, continuing: 'latitude'"
     ]
    },
    {
     "name": "stderr",
     "output_type": "stream",
     "text": [
      "  File \"<ipython-input-2-872ebd74c558>\", line 26, in search_instagram_tag\n",
      "    if insta_post['location']['latitude'] != None and insta_post['location']['longitude'] != None:\n",
      "KeyError: 'latitude'\n",
      "Traceback (most recent call last):\n"
     ]
    },
    {
     "name": "stdout",
     "output_type": "stream",
     "text": [
      "\n",
      "caught error in body, continuing: 'latitude'\n",
      "caught error in body, continuing: 'latitude'"
     ]
    },
    {
     "name": "stderr",
     "output_type": "stream",
     "text": [
      "  File \"<ipython-input-2-872ebd74c558>\", line 26, in search_instagram_tag\n",
      "    if insta_post['location']['latitude'] != None and insta_post['location']['longitude'] != None:\n",
      "KeyError: 'latitude'\n",
      "Traceback (most recent call last):\n",
      "  File \"<ipython-input-2-872ebd74c558>\", line 26, in search_instagram_tag\n",
      "    if insta_post['location']['latitude'] != None and insta_post['location']['longitude'] != None:\n",
      "KeyError: 'latitude'\n",
      "Traceback (most recent call last):\n"
     ]
    },
    {
     "name": "stdout",
     "output_type": "stream",
     "text": [
      "\n",
      "caught error in body, continuing: 'latitude'"
     ]
    },
    {
     "name": "stderr",
     "output_type": "stream",
     "text": [
      "  File \"<ipython-input-2-872ebd74c558>\", line 26, in search_instagram_tag\n",
      "    if insta_post['location']['latitude'] != None and insta_post['location']['longitude'] != None:\n",
      "KeyError: 'latitude'\n",
      "Traceback (most recent call last):\n"
     ]
    },
    {
     "name": "stdout",
     "output_type": "stream",
     "text": [
      "\n",
      "caught error in body, continuing: 'latitude'"
     ]
    },
    {
     "name": "stderr",
     "output_type": "stream",
     "text": [
      "  File \"<ipython-input-2-872ebd74c558>\", line 26, in search_instagram_tag\n",
      "    if insta_post['location']['latitude'] != None and insta_post['location']['longitude'] != None:\n",
      "KeyError: 'latitude'\n",
      "Traceback (most recent call last):\n"
     ]
    },
    {
     "name": "stdout",
     "output_type": "stream",
     "text": [
      "\n",
      "caught error in body, continuing: 'latitude'"
     ]
    },
    {
     "name": "stderr",
     "output_type": "stream",
     "text": [
      "  File \"<ipython-input-2-872ebd74c558>\", line 26, in search_instagram_tag\n",
      "    if insta_post['location']['latitude'] != None and insta_post['location']['longitude'] != None:\n",
      "KeyError: 'latitude'\n",
      "Traceback (most recent call last):\n"
     ]
    },
    {
     "name": "stdout",
     "output_type": "stream",
     "text": [
      "\n",
      "caught error in body, continuing: 'latitude'"
     ]
    },
    {
     "name": "stderr",
     "output_type": "stream",
     "text": [
      "  File \"<ipython-input-2-872ebd74c558>\", line 26, in search_instagram_tag\n",
      "    if insta_post['location']['latitude'] != None and insta_post['location']['longitude'] != None:\n",
      "KeyError: 'latitude'\n",
      "Traceback (most recent call last):\n"
     ]
    },
    {
     "name": "stdout",
     "output_type": "stream",
     "text": [
      "\n",
      "caught error in body, continuing: 'latitude'\n",
      "caught error in body, continuing: 'latitude'\n",
      "caught error in body, continuing: 'latitude'"
     ]
    },
    {
     "name": "stderr",
     "output_type": "stream",
     "text": [
      "  File \"<ipython-input-2-872ebd74c558>\", line 26, in search_instagram_tag\n",
      "    if insta_post['location']['latitude'] != None and insta_post['location']['longitude'] != None:\n",
      "KeyError: 'latitude'\n",
      "Traceback (most recent call last):\n",
      "  File \"<ipython-input-2-872ebd74c558>\", line 26, in search_instagram_tag\n",
      "    if insta_post['location']['latitude'] != None and insta_post['location']['longitude'] != None:\n",
      "KeyError: 'latitude'\n",
      "Traceback (most recent call last):\n",
      "  File \"<ipython-input-2-872ebd74c558>\", line 26, in search_instagram_tag\n",
      "    if insta_post['location']['latitude'] != None and insta_post['location']['longitude'] != None:\n",
      "KeyError: 'latitude'\n",
      "Traceback (most recent call last):\n"
     ]
    },
    {
     "name": "stdout",
     "output_type": "stream",
     "text": [
      "\n",
      "caught error in body, continuing: 'latitude'"
     ]
    },
    {
     "name": "stderr",
     "output_type": "stream",
     "text": [
      "  File \"<ipython-input-2-872ebd74c558>\", line 26, in search_instagram_tag\n",
      "    if insta_post['location']['latitude'] != None and insta_post['location']['longitude'] != None:\n",
      "KeyError: 'latitude'\n",
      "Traceback (most recent call last):\n"
     ]
    },
    {
     "name": "stdout",
     "output_type": "stream",
     "text": [
      "\n",
      "caught error in body, continuing: 'latitude'"
     ]
    },
    {
     "name": "stderr",
     "output_type": "stream",
     "text": [
      "  File \"<ipython-input-2-872ebd74c558>\", line 26, in search_instagram_tag\n",
      "    if insta_post['location']['latitude'] != None and insta_post['location']['longitude'] != None:\n",
      "KeyError: 'latitude'\n",
      "Traceback (most recent call last):\n"
     ]
    },
    {
     "name": "stdout",
     "output_type": "stream",
     "text": [
      "\n",
      "caught error in body, continuing: 'latitude'"
     ]
    },
    {
     "name": "stderr",
     "output_type": "stream",
     "text": [
      "  File \"<ipython-input-2-872ebd74c558>\", line 26, in search_instagram_tag\n",
      "    if insta_post['location']['latitude'] != None and insta_post['location']['longitude'] != None:\n",
      "KeyError: 'latitude'\n",
      "Traceback (most recent call last):\n"
     ]
    },
    {
     "name": "stdout",
     "output_type": "stream",
     "text": [
      "\n",
      "caught error in body, continuing: 'latitude'"
     ]
    },
    {
     "name": "stderr",
     "output_type": "stream",
     "text": [
      "  File \"<ipython-input-2-872ebd74c558>\", line 26, in search_instagram_tag\n",
      "    if insta_post['location']['latitude'] != None and insta_post['location']['longitude'] != None:\n",
      "KeyError: 'latitude'\n",
      "Traceback (most recent call last):\n"
     ]
    },
    {
     "name": "stdout",
     "output_type": "stream",
     "text": [
      "\n",
      "caught error in body, continuing: 'latitude'\n",
      "caught error in body, continuing: 'latitude'"
     ]
    },
    {
     "name": "stderr",
     "output_type": "stream",
     "text": [
      "  File \"<ipython-input-2-872ebd74c558>\", line 26, in search_instagram_tag\n",
      "    if insta_post['location']['latitude'] != None and insta_post['location']['longitude'] != None:\n",
      "KeyError: 'latitude'\n",
      "Traceback (most recent call last):\n",
      "  File \"<ipython-input-2-872ebd74c558>\", line 26, in search_instagram_tag\n",
      "    if insta_post['location']['latitude'] != None and insta_post['location']['longitude'] != None:\n",
      "KeyError: 'latitude'\n",
      "Traceback (most recent call last):\n"
     ]
    },
    {
     "name": "stdout",
     "output_type": "stream",
     "text": [
      "\n",
      "caught error in body, continuing: 'latitude'\n",
      "caught error in body, continuing: 'latitude'"
     ]
    },
    {
     "name": "stderr",
     "output_type": "stream",
     "text": [
      "  File \"<ipython-input-2-872ebd74c558>\", line 26, in search_instagram_tag\n",
      "    if insta_post['location']['latitude'] != None and insta_post['location']['longitude'] != None:\n",
      "KeyError: 'latitude'\n",
      "Traceback (most recent call last):\n",
      "  File \"<ipython-input-2-872ebd74c558>\", line 26, in search_instagram_tag\n",
      "    if insta_post['location']['latitude'] != None and insta_post['location']['longitude'] != None:\n",
      "KeyError: 'latitude'\n",
      "Traceback (most recent call last):\n"
     ]
    },
    {
     "name": "stdout",
     "output_type": "stream",
     "text": [
      "\n",
      "caught error in body, continuing: 'latitude'"
     ]
    },
    {
     "name": "stderr",
     "output_type": "stream",
     "text": [
      "  File \"<ipython-input-2-872ebd74c558>\", line 26, in search_instagram_tag\n",
      "    if insta_post['location']['latitude'] != None and insta_post['location']['longitude'] != None:\n",
      "KeyError: 'latitude'\n",
      "Traceback (most recent call last):\n"
     ]
    },
    {
     "name": "stdout",
     "output_type": "stream",
     "text": [
      "\n",
      "caught error in body, continuing: 'latitude'"
     ]
    },
    {
     "name": "stderr",
     "output_type": "stream",
     "text": [
      "  File \"<ipython-input-2-872ebd74c558>\", line 26, in search_instagram_tag\n",
      "    if insta_post['location']['latitude'] != None and insta_post['location']['longitude'] != None:\n",
      "KeyError: 'latitude'\n",
      "Traceback (most recent call last):\n"
     ]
    },
    {
     "name": "stdout",
     "output_type": "stream",
     "text": [
      "\n",
      "caught error in body, continuing: 'latitude'"
     ]
    },
    {
     "name": "stderr",
     "output_type": "stream",
     "text": [
      "  File \"<ipython-input-2-872ebd74c558>\", line 26, in search_instagram_tag\n",
      "    if insta_post['location']['latitude'] != None and insta_post['location']['longitude'] != None:\n",
      "KeyError: 'latitude'\n",
      "Traceback (most recent call last):\n"
     ]
    },
    {
     "name": "stdout",
     "output_type": "stream",
     "text": [
      "\n",
      "caught error in body, continuing: 'latitude'"
     ]
    },
    {
     "name": "stderr",
     "output_type": "stream",
     "text": [
      "  File \"<ipython-input-2-872ebd74c558>\", line 26, in search_instagram_tag\n",
      "    if insta_post['location']['latitude'] != None and insta_post['location']['longitude'] != None:\n",
      "KeyError: 'latitude'\n",
      "Traceback (most recent call last):\n"
     ]
    },
    {
     "name": "stdout",
     "output_type": "stream",
     "text": [
      "\n",
      "caught error in body, continuing: 'latitude'"
     ]
    },
    {
     "name": "stderr",
     "output_type": "stream",
     "text": [
      "  File \"<ipython-input-2-872ebd74c558>\", line 26, in search_instagram_tag\n",
      "    if insta_post['location']['latitude'] != None and insta_post['location']['longitude'] != None:\n",
      "KeyError: 'latitude'\n",
      "Traceback (most recent call last):\n"
     ]
    },
    {
     "name": "stdout",
     "output_type": "stream",
     "text": [
      "\n",
      "caught error in body, continuing: 'latitude'\n",
      "caught error in body, continuing: 'latitude'"
     ]
    },
    {
     "name": "stderr",
     "output_type": "stream",
     "text": [
      "  File \"<ipython-input-2-872ebd74c558>\", line 26, in search_instagram_tag\n",
      "    if insta_post['location']['latitude'] != None and insta_post['location']['longitude'] != None:\n",
      "KeyError: 'latitude'\n",
      "Traceback (most recent call last):\n",
      "  File \"<ipython-input-2-872ebd74c558>\", line 26, in search_instagram_tag\n",
      "    if insta_post['location']['latitude'] != None and insta_post['location']['longitude'] != None:\n",
      "KeyError: 'latitude'\n",
      "Traceback (most recent call last):\n"
     ]
    },
    {
     "name": "stdout",
     "output_type": "stream",
     "text": [
      "\n",
      "caught error in body, continuing: 'latitude'"
     ]
    },
    {
     "name": "stderr",
     "output_type": "stream",
     "text": [
      "  File \"<ipython-input-2-872ebd74c558>\", line 26, in search_instagram_tag\n",
      "    if insta_post['location']['latitude'] != None and insta_post['location']['longitude'] != None:\n",
      "KeyError: 'latitude'\n",
      "Traceback (most recent call last):\n"
     ]
    },
    {
     "name": "stdout",
     "output_type": "stream",
     "text": [
      "\n",
      "caught error in body, continuing: 'latitude'"
     ]
    },
    {
     "name": "stderr",
     "output_type": "stream",
     "text": [
      "  File \"<ipython-input-2-872ebd74c558>\", line 26, in search_instagram_tag\n",
      "    if insta_post['location']['latitude'] != None and insta_post['location']['longitude'] != None:\n",
      "KeyError: 'latitude'\n",
      "Traceback (most recent call last):\n"
     ]
    },
    {
     "name": "stdout",
     "output_type": "stream",
     "text": [
      "\n",
      "caught error in body, continuing: 'latitude'"
     ]
    },
    {
     "name": "stderr",
     "output_type": "stream",
     "text": [
      "  File \"<ipython-input-2-872ebd74c558>\", line 26, in search_instagram_tag\n",
      "    if insta_post['location']['latitude'] != None and insta_post['location']['longitude'] != None:\n",
      "KeyError: 'latitude'\n",
      "Traceback (most recent call last):\n"
     ]
    },
    {
     "name": "stdout",
     "output_type": "stream",
     "text": [
      "\n",
      "caught error in body, continuing: 'latitude'"
     ]
    },
    {
     "name": "stderr",
     "output_type": "stream",
     "text": [
      "  File \"<ipython-input-2-872ebd74c558>\", line 26, in search_instagram_tag\n",
      "    if insta_post['location']['latitude'] != None and insta_post['location']['longitude'] != None:\n",
      "KeyError: 'latitude'\n",
      "Traceback (most recent call last):\n"
     ]
    },
    {
     "name": "stdout",
     "output_type": "stream",
     "text": [
      "\n",
      "caught error in body, continuing: 'latitude'"
     ]
    },
    {
     "name": "stderr",
     "output_type": "stream",
     "text": [
      "  File \"<ipython-input-2-872ebd74c558>\", line 26, in search_instagram_tag\n",
      "    if insta_post['location']['latitude'] != None and insta_post['location']['longitude'] != None:\n",
      "KeyError: 'latitude'\n",
      "Traceback (most recent call last):\n"
     ]
    },
    {
     "name": "stdout",
     "output_type": "stream",
     "text": [
      "\n",
      "caught error in body, continuing: 'latitude'"
     ]
    },
    {
     "name": "stderr",
     "output_type": "stream",
     "text": [
      "  File \"<ipython-input-2-872ebd74c558>\", line 26, in search_instagram_tag\n",
      "    if insta_post['location']['latitude'] != None and insta_post['location']['longitude'] != None:\n",
      "KeyError: 'latitude'\n",
      "Traceback (most recent call last):\n"
     ]
    },
    {
     "name": "stdout",
     "output_type": "stream",
     "text": [
      "\n",
      "caught error in body, continuing: 'latitude'\n",
      "caught error in body, continuing: 'latitude'"
     ]
    },
    {
     "name": "stderr",
     "output_type": "stream",
     "text": [
      "  File \"<ipython-input-2-872ebd74c558>\", line 26, in search_instagram_tag\n",
      "    if insta_post['location']['latitude'] != None and insta_post['location']['longitude'] != None:\n",
      "KeyError: 'latitude'\n",
      "Traceback (most recent call last):\n",
      "  File \"<ipython-input-2-872ebd74c558>\", line 26, in search_instagram_tag\n",
      "    if insta_post['location']['latitude'] != None and insta_post['location']['longitude'] != None:\n",
      "KeyError: 'latitude'\n",
      "Traceback (most recent call last):\n"
     ]
    },
    {
     "name": "stdout",
     "output_type": "stream",
     "text": [
      "\n",
      "caught error in body, continuing: 'latitude'"
     ]
    },
    {
     "name": "stderr",
     "output_type": "stream",
     "text": [
      "  File \"<ipython-input-2-872ebd74c558>\", line 26, in search_instagram_tag\n",
      "    if insta_post['location']['latitude'] != None and insta_post['location']['longitude'] != None:\n",
      "KeyError: 'latitude'\n",
      "Traceback (most recent call last):\n"
     ]
    },
    {
     "name": "stdout",
     "output_type": "stream",
     "text": [
      "\n",
      "caught error in body, continuing: 'latitude'\n",
      "caught error in body, continuing: 'latitude'"
     ]
    },
    {
     "name": "stderr",
     "output_type": "stream",
     "text": [
      "  File \"<ipython-input-2-872ebd74c558>\", line 26, in search_instagram_tag\n",
      "    if insta_post['location']['latitude'] != None and insta_post['location']['longitude'] != None:\n",
      "KeyError: 'latitude'\n",
      "Traceback (most recent call last):\n",
      "  File \"<ipython-input-2-872ebd74c558>\", line 26, in search_instagram_tag\n",
      "    if insta_post['location']['latitude'] != None and insta_post['location']['longitude'] != None:\n",
      "KeyError: 'latitude'\n",
      "Traceback (most recent call last):\n"
     ]
    },
    {
     "name": "stdout",
     "output_type": "stream",
     "text": [
      "\n",
      "caught error in body, continuing: 'latitude'"
     ]
    },
    {
     "name": "stderr",
     "output_type": "stream",
     "text": [
      "  File \"<ipython-input-2-872ebd74c558>\", line 26, in search_instagram_tag\n",
      "    if insta_post['location']['latitude'] != None and insta_post['location']['longitude'] != None:\n",
      "KeyError: 'latitude'\n",
      "Traceback (most recent call last):\n"
     ]
    },
    {
     "name": "stdout",
     "output_type": "stream",
     "text": [
      "\n",
      "caught error in body, continuing: 'latitude'\n",
      "caught error in body, continuing: 'latitude'"
     ]
    },
    {
     "name": "stderr",
     "output_type": "stream",
     "text": [
      "  File \"<ipython-input-2-872ebd74c558>\", line 26, in search_instagram_tag\n",
      "    if insta_post['location']['latitude'] != None and insta_post['location']['longitude'] != None:\n",
      "KeyError: 'latitude'\n",
      "Traceback (most recent call last):\n",
      "  File \"<ipython-input-2-872ebd74c558>\", line 26, in search_instagram_tag\n",
      "    if insta_post['location']['latitude'] != None and insta_post['location']['longitude'] != None:\n",
      "KeyError: 'latitude'\n",
      "Traceback (most recent call last):\n"
     ]
    },
    {
     "name": "stdout",
     "output_type": "stream",
     "text": [
      "\n",
      "caught error in body, continuing: 'latitude'"
     ]
    },
    {
     "name": "stderr",
     "output_type": "stream",
     "text": [
      "  File \"<ipython-input-2-872ebd74c558>\", line 26, in search_instagram_tag\n",
      "    if insta_post['location']['latitude'] != None and insta_post['location']['longitude'] != None:\n",
      "KeyError: 'latitude'\n",
      "Traceback (most recent call last):\n"
     ]
    },
    {
     "name": "stdout",
     "output_type": "stream",
     "text": [
      "\n",
      "caught error in body, continuing: 'latitude'"
     ]
    },
    {
     "name": "stderr",
     "output_type": "stream",
     "text": [
      "  File \"<ipython-input-2-872ebd74c558>\", line 26, in search_instagram_tag\n",
      "    if insta_post['location']['latitude'] != None and insta_post['location']['longitude'] != None:\n",
      "KeyError: 'latitude'\n",
      "Traceback (most recent call last):\n"
     ]
    },
    {
     "name": "stdout",
     "output_type": "stream",
     "text": [
      "\n",
      "caught error in body, continuing: 'latitude'"
     ]
    },
    {
     "name": "stderr",
     "output_type": "stream",
     "text": [
      "  File \"<ipython-input-2-872ebd74c558>\", line 26, in search_instagram_tag\n",
      "    if insta_post['location']['latitude'] != None and insta_post['location']['longitude'] != None:\n",
      "KeyError: 'latitude'\n",
      "Traceback (most recent call last):\n"
     ]
    },
    {
     "name": "stdout",
     "output_type": "stream",
     "text": [
      "\n",
      "caught error in body, continuing: 'latitude'"
     ]
    },
    {
     "name": "stderr",
     "output_type": "stream",
     "text": [
      "  File \"<ipython-input-2-872ebd74c558>\", line 26, in search_instagram_tag\n",
      "    if insta_post['location']['latitude'] != None and insta_post['location']['longitude'] != None:\n",
      "KeyError: 'latitude'\n",
      "Traceback (most recent call last):\n"
     ]
    },
    {
     "name": "stdout",
     "output_type": "stream",
     "text": [
      "\n",
      "caught error in body, continuing: 'latitude'"
     ]
    },
    {
     "name": "stderr",
     "output_type": "stream",
     "text": [
      "  File \"<ipython-input-2-872ebd74c558>\", line 26, in search_instagram_tag\n",
      "    if insta_post['location']['latitude'] != None and insta_post['location']['longitude'] != None:\n",
      "KeyError: 'latitude'\n",
      "Traceback (most recent call last):\n"
     ]
    },
    {
     "name": "stdout",
     "output_type": "stream",
     "text": [
      "\n",
      "caught error in body, continuing: 'latitude'"
     ]
    },
    {
     "name": "stderr",
     "output_type": "stream",
     "text": [
      "  File \"<ipython-input-2-872ebd74c558>\", line 26, in search_instagram_tag\n",
      "    if insta_post['location']['latitude'] != None and insta_post['location']['longitude'] != None:\n",
      "KeyError: 'latitude'\n",
      "Traceback (most recent call last):\n"
     ]
    },
    {
     "name": "stdout",
     "output_type": "stream",
     "text": [
      "\n",
      "caught error in body, continuing: 'latitude'"
     ]
    },
    {
     "name": "stderr",
     "output_type": "stream",
     "text": [
      "  File \"<ipython-input-2-872ebd74c558>\", line 26, in search_instagram_tag\n",
      "    if insta_post['location']['latitude'] != None and insta_post['location']['longitude'] != None:\n",
      "KeyError: 'latitude'\n",
      "Traceback (most recent call last):\n"
     ]
    },
    {
     "name": "stdout",
     "output_type": "stream",
     "text": [
      "\n",
      "caught error in body, continuing: 'latitude'\n",
      "caught error in body, continuing: 'latitude'"
     ]
    },
    {
     "name": "stderr",
     "output_type": "stream",
     "text": [
      "  File \"<ipython-input-2-872ebd74c558>\", line 26, in search_instagram_tag\n",
      "    if insta_post['location']['latitude'] != None and insta_post['location']['longitude'] != None:\n",
      "KeyError: 'latitude'\n",
      "Traceback (most recent call last):\n",
      "  File \"<ipython-input-2-872ebd74c558>\", line 26, in search_instagram_tag\n",
      "    if insta_post['location']['latitude'] != None and insta_post['location']['longitude'] != None:\n",
      "KeyError: 'latitude'\n",
      "Traceback (most recent call last):\n"
     ]
    },
    {
     "name": "stdout",
     "output_type": "stream",
     "text": [
      "\n",
      "caught error in body, continuing: 'latitude'\n",
      "Searching: livemusic\n",
      "caught error in body, continuing: 'NoneType' object has no attribute '__getitem__'"
     ]
    },
    {
     "name": "stderr",
     "output_type": "stream",
     "text": [
      "  File \"<ipython-input-2-872ebd74c558>\", line 26, in search_instagram_tag\n",
      "    if insta_post['location']['latitude'] != None and insta_post['location']['longitude'] != None:\n",
      "KeyError: 'latitude'\n",
      "Traceback (most recent call last):\n",
      "  File \"<ipython-input-2-872ebd74c558>\", line 26, in search_instagram_tag\n",
      "    if insta_post['location']['latitude'] != None and insta_post['location']['longitude'] != None:\n",
      "KeyError: 'latitude'\n",
      "Traceback (most recent call last):\n"
     ]
    },
    {
     "name": "stdout",
     "output_type": "stream",
     "text": [
      "\n",
      "caught error in body, continuing: 'NoneType' object has no attribute '__getitem__'"
     ]
    },
    {
     "name": "stderr",
     "output_type": "stream",
     "text": [
      "  File \"<ipython-input-2-872ebd74c558>\", line 28, in search_instagram_tag\n",
      "    int(insta_post['caption']['created_time'])\n",
      "TypeError: 'NoneType' object has no attribute '__getitem__'\n",
      "Traceback (most recent call last):\n"
     ]
    },
    {
     "name": "stdout",
     "output_type": "stream",
     "text": [
      "\n",
      "caught error in body, continuing: 'NoneType' object has no attribute '__getitem__'"
     ]
    },
    {
     "name": "stderr",
     "output_type": "stream",
     "text": [
      "  File \"<ipython-input-2-872ebd74c558>\", line 28, in search_instagram_tag\n",
      "    int(insta_post['caption']['created_time'])\n",
      "TypeError: 'NoneType' object has no attribute '__getitem__'\n",
      "Traceback (most recent call last):\n"
     ]
    },
    {
     "name": "stdout",
     "output_type": "stream",
     "text": [
      "\n",
      "caught error in body, continuing: 'NoneType' object has no attribute '__getitem__'"
     ]
    },
    {
     "name": "stderr",
     "output_type": "stream",
     "text": [
      "  File \"<ipython-input-2-872ebd74c558>\", line 28, in search_instagram_tag\n",
      "    int(insta_post['caption']['created_time'])\n",
      "TypeError: 'NoneType' object has no attribute '__getitem__'\n",
      "Traceback (most recent call last):\n"
     ]
    },
    {
     "name": "stdout",
     "output_type": "stream",
     "text": [
      "\n",
      "caught error in body, continuing: 'NoneType' object has no attribute '__getitem__'"
     ]
    },
    {
     "name": "stderr",
     "output_type": "stream",
     "text": [
      "  File \"<ipython-input-2-872ebd74c558>\", line 28, in search_instagram_tag\n",
      "    int(insta_post['caption']['created_time'])\n",
      "TypeError: 'NoneType' object has no attribute '__getitem__'\n",
      "Traceback (most recent call last):\n"
     ]
    },
    {
     "name": "stdout",
     "output_type": "stream",
     "text": [
      "\n",
      "caught error in body, continuing: 'NoneType' object has no attribute '__getitem__'"
     ]
    },
    {
     "name": "stderr",
     "output_type": "stream",
     "text": [
      "  File \"<ipython-input-2-872ebd74c558>\", line 28, in search_instagram_tag\n",
      "    int(insta_post['caption']['created_time'])\n",
      "TypeError: 'NoneType' object has no attribute '__getitem__'\n",
      "Traceback (most recent call last):\n"
     ]
    },
    {
     "name": "stdout",
     "output_type": "stream",
     "text": [
      "\n",
      "caught error in body, continuing: 'latitude'"
     ]
    },
    {
     "name": "stderr",
     "output_type": "stream",
     "text": [
      "  File \"<ipython-input-2-872ebd74c558>\", line 28, in search_instagram_tag\n",
      "    int(insta_post['caption']['created_time'])\n",
      "TypeError: 'NoneType' object has no attribute '__getitem__'\n",
      "Traceback (most recent call last):\n"
     ]
    },
    {
     "name": "stdout",
     "output_type": "stream",
     "text": [
      "\n",
      "caught error in body, continuing: 'latitude'"
     ]
    },
    {
     "name": "stderr",
     "output_type": "stream",
     "text": [
      "  File \"<ipython-input-2-872ebd74c558>\", line 26, in search_instagram_tag\n",
      "    if insta_post['location']['latitude'] != None and insta_post['location']['longitude'] != None:\n",
      "KeyError: 'latitude'\n",
      "Traceback (most recent call last):\n"
     ]
    },
    {
     "name": "stdout",
     "output_type": "stream",
     "text": [
      "\n",
      "caught error in body, continuing: 'latitude'"
     ]
    },
    {
     "name": "stderr",
     "output_type": "stream",
     "text": [
      "  File \"<ipython-input-2-872ebd74c558>\", line 26, in search_instagram_tag\n",
      "    if insta_post['location']['latitude'] != None and insta_post['location']['longitude'] != None:\n",
      "KeyError: 'latitude'\n",
      "Traceback (most recent call last):\n"
     ]
    },
    {
     "name": "stdout",
     "output_type": "stream",
     "text": [
      "\n",
      "caught error in body, continuing: 'latitude'"
     ]
    },
    {
     "name": "stderr",
     "output_type": "stream",
     "text": [
      "  File \"<ipython-input-2-872ebd74c558>\", line 26, in search_instagram_tag\n",
      "    if insta_post['location']['latitude'] != None and insta_post['location']['longitude'] != None:\n",
      "KeyError: 'latitude'\n",
      "Traceback (most recent call last):\n"
     ]
    },
    {
     "name": "stdout",
     "output_type": "stream",
     "text": [
      "\n",
      "caught error in body, continuing: 'latitude'"
     ]
    },
    {
     "name": "stderr",
     "output_type": "stream",
     "text": [
      "  File \"<ipython-input-2-872ebd74c558>\", line 26, in search_instagram_tag\n",
      "    if insta_post['location']['latitude'] != None and insta_post['location']['longitude'] != None:\n",
      "KeyError: 'latitude'\n",
      "Traceback (most recent call last):\n"
     ]
    },
    {
     "name": "stdout",
     "output_type": "stream",
     "text": [
      "\n",
      "caught error in body, continuing: 'latitude'"
     ]
    },
    {
     "name": "stderr",
     "output_type": "stream",
     "text": [
      "  File \"<ipython-input-2-872ebd74c558>\", line 26, in search_instagram_tag\n",
      "    if insta_post['location']['latitude'] != None and insta_post['location']['longitude'] != None:\n",
      "KeyError: 'latitude'\n",
      "Traceback (most recent call last):\n"
     ]
    },
    {
     "name": "stdout",
     "output_type": "stream",
     "text": [
      "\n",
      "caught error in body, continuing: 'latitude'"
     ]
    },
    {
     "name": "stderr",
     "output_type": "stream",
     "text": [
      "  File \"<ipython-input-2-872ebd74c558>\", line 26, in search_instagram_tag\n",
      "    if insta_post['location']['latitude'] != None and insta_post['location']['longitude'] != None:\n",
      "KeyError: 'latitude'\n",
      "Traceback (most recent call last):\n"
     ]
    },
    {
     "name": "stdout",
     "output_type": "stream",
     "text": [
      "\n",
      "caught error in body, continuing: 'latitude'"
     ]
    },
    {
     "name": "stderr",
     "output_type": "stream",
     "text": [
      "  File \"<ipython-input-2-872ebd74c558>\", line 26, in search_instagram_tag\n",
      "    if insta_post['location']['latitude'] != None and insta_post['location']['longitude'] != None:\n",
      "KeyError: 'latitude'\n",
      "Traceback (most recent call last):\n"
     ]
    },
    {
     "name": "stdout",
     "output_type": "stream",
     "text": [
      "\n",
      "caught error in body, continuing: 'latitude'"
     ]
    },
    {
     "name": "stderr",
     "output_type": "stream",
     "text": [
      "  File \"<ipython-input-2-872ebd74c558>\", line 26, in search_instagram_tag\n",
      "    if insta_post['location']['latitude'] != None and insta_post['location']['longitude'] != None:\n",
      "KeyError: 'latitude'\n",
      "Traceback (most recent call last):\n"
     ]
    },
    {
     "name": "stdout",
     "output_type": "stream",
     "text": [
      "\n",
      "caught error in body, continuing: 'latitude'"
     ]
    },
    {
     "name": "stderr",
     "output_type": "stream",
     "text": [
      "  File \"<ipython-input-2-872ebd74c558>\", line 26, in search_instagram_tag\n",
      "    if insta_post['location']['latitude'] != None and insta_post['location']['longitude'] != None:\n",
      "KeyError: 'latitude'\n",
      "Traceback (most recent call last):\n"
     ]
    },
    {
     "name": "stdout",
     "output_type": "stream",
     "text": [
      "\n",
      "caught error in body, continuing: 'latitude'"
     ]
    },
    {
     "name": "stderr",
     "output_type": "stream",
     "text": [
      "  File \"<ipython-input-2-872ebd74c558>\", line 26, in search_instagram_tag\n",
      "    if insta_post['location']['latitude'] != None and insta_post['location']['longitude'] != None:\n",
      "KeyError: 'latitude'\n",
      "Traceback (most recent call last):\n"
     ]
    },
    {
     "name": "stdout",
     "output_type": "stream",
     "text": [
      "\n",
      "caught error in body, continuing: 'latitude'"
     ]
    },
    {
     "name": "stderr",
     "output_type": "stream",
     "text": [
      "  File \"<ipython-input-2-872ebd74c558>\", line 26, in search_instagram_tag\n",
      "    if insta_post['location']['latitude'] != None and insta_post['location']['longitude'] != None:\n",
      "KeyError: 'latitude'\n",
      "Traceback (most recent call last):\n"
     ]
    },
    {
     "name": "stdout",
     "output_type": "stream",
     "text": [
      "\n",
      "caught error in body, continuing: 'latitude'"
     ]
    },
    {
     "name": "stderr",
     "output_type": "stream",
     "text": [
      "  File \"<ipython-input-2-872ebd74c558>\", line 26, in search_instagram_tag\n",
      "    if insta_post['location']['latitude'] != None and insta_post['location']['longitude'] != None:\n",
      "KeyError: 'latitude'\n",
      "Traceback (most recent call last):\n"
     ]
    },
    {
     "name": "stdout",
     "output_type": "stream",
     "text": [
      "\n",
      "caught error in body, continuing: 'latitude'"
     ]
    },
    {
     "name": "stderr",
     "output_type": "stream",
     "text": [
      "  File \"<ipython-input-2-872ebd74c558>\", line 26, in search_instagram_tag\n",
      "    if insta_post['location']['latitude'] != None and insta_post['location']['longitude'] != None:\n",
      "KeyError: 'latitude'\n",
      "Traceback (most recent call last):\n"
     ]
    },
    {
     "name": "stdout",
     "output_type": "stream",
     "text": [
      "\n",
      "caught error in body, continuing: 'latitude'"
     ]
    },
    {
     "name": "stderr",
     "output_type": "stream",
     "text": [
      "  File \"<ipython-input-2-872ebd74c558>\", line 26, in search_instagram_tag\n",
      "    if insta_post['location']['latitude'] != None and insta_post['location']['longitude'] != None:\n",
      "KeyError: 'latitude'\n",
      "Traceback (most recent call last):\n"
     ]
    },
    {
     "name": "stdout",
     "output_type": "stream",
     "text": [
      "\n",
      "caught error in body, continuing: 'latitude'"
     ]
    },
    {
     "name": "stderr",
     "output_type": "stream",
     "text": [
      "  File \"<ipython-input-2-872ebd74c558>\", line 26, in search_instagram_tag\n",
      "    if insta_post['location']['latitude'] != None and insta_post['location']['longitude'] != None:\n",
      "KeyError: 'latitude'\n",
      "Traceback (most recent call last):\n"
     ]
    },
    {
     "name": "stdout",
     "output_type": "stream",
     "text": [
      "\n",
      "caught error in body, continuing: 'latitude'"
     ]
    },
    {
     "name": "stderr",
     "output_type": "stream",
     "text": [
      "  File \"<ipython-input-2-872ebd74c558>\", line 26, in search_instagram_tag\n",
      "    if insta_post['location']['latitude'] != None and insta_post['location']['longitude'] != None:\n",
      "KeyError: 'latitude'\n",
      "Traceback (most recent call last):\n"
     ]
    },
    {
     "name": "stdout",
     "output_type": "stream",
     "text": [
      "\n",
      "caught error in body, continuing: 'latitude'"
     ]
    },
    {
     "name": "stderr",
     "output_type": "stream",
     "text": [
      "  File \"<ipython-input-2-872ebd74c558>\", line 26, in search_instagram_tag\n",
      "    if insta_post['location']['latitude'] != None and insta_post['location']['longitude'] != None:\n",
      "KeyError: 'latitude'\n",
      "Traceback (most recent call last):\n"
     ]
    },
    {
     "name": "stdout",
     "output_type": "stream",
     "text": [
      "\n",
      "caught error in body, continuing: 'latitude'"
     ]
    },
    {
     "name": "stderr",
     "output_type": "stream",
     "text": [
      "  File \"<ipython-input-2-872ebd74c558>\", line 26, in search_instagram_tag\n",
      "    if insta_post['location']['latitude'] != None and insta_post['location']['longitude'] != None:\n",
      "KeyError: 'latitude'\n",
      "Traceback (most recent call last):\n"
     ]
    },
    {
     "name": "stdout",
     "output_type": "stream",
     "text": [
      "\n",
      "caught error in body, continuing: 'latitude'"
     ]
    },
    {
     "name": "stderr",
     "output_type": "stream",
     "text": [
      "  File \"<ipython-input-2-872ebd74c558>\", line 26, in search_instagram_tag\n",
      "    if insta_post['location']['latitude'] != None and insta_post['location']['longitude'] != None:\n",
      "KeyError: 'latitude'\n",
      "Traceback (most recent call last):\n"
     ]
    },
    {
     "name": "stdout",
     "output_type": "stream",
     "text": [
      "\n",
      "caught error in body, continuing: 'latitude'"
     ]
    },
    {
     "name": "stderr",
     "output_type": "stream",
     "text": [
      "  File \"<ipython-input-2-872ebd74c558>\", line 26, in search_instagram_tag\n",
      "    if insta_post['location']['latitude'] != None and insta_post['location']['longitude'] != None:\n",
      "KeyError: 'latitude'\n",
      "Traceback (most recent call last):\n"
     ]
    },
    {
     "name": "stdout",
     "output_type": "stream",
     "text": [
      "\n",
      "caught error in body, continuing: 'latitude'"
     ]
    },
    {
     "name": "stderr",
     "output_type": "stream",
     "text": [
      "  File \"<ipython-input-2-872ebd74c558>\", line 26, in search_instagram_tag\n",
      "    if insta_post['location']['latitude'] != None and insta_post['location']['longitude'] != None:\n",
      "KeyError: 'latitude'\n",
      "Traceback (most recent call last):\n"
     ]
    },
    {
     "name": "stdout",
     "output_type": "stream",
     "text": [
      "\n",
      "caught error in body, continuing: 'latitude'"
     ]
    },
    {
     "name": "stderr",
     "output_type": "stream",
     "text": [
      "  File \"<ipython-input-2-872ebd74c558>\", line 26, in search_instagram_tag\n",
      "    if insta_post['location']['latitude'] != None and insta_post['location']['longitude'] != None:\n",
      "KeyError: 'latitude'\n",
      "Traceback (most recent call last):\n"
     ]
    },
    {
     "name": "stdout",
     "output_type": "stream",
     "text": [
      "\n",
      "caught error in body, continuing: 'latitude'"
     ]
    },
    {
     "name": "stderr",
     "output_type": "stream",
     "text": [
      "  File \"<ipython-input-2-872ebd74c558>\", line 26, in search_instagram_tag\n",
      "    if insta_post['location']['latitude'] != None and insta_post['location']['longitude'] != None:\n",
      "KeyError: 'latitude'\n",
      "Traceback (most recent call last):\n"
     ]
    },
    {
     "name": "stdout",
     "output_type": "stream",
     "text": [
      "\n",
      "caught error in body, continuing: 'latitude'"
     ]
    },
    {
     "name": "stderr",
     "output_type": "stream",
     "text": [
      "  File \"<ipython-input-2-872ebd74c558>\", line 26, in search_instagram_tag\n",
      "    if insta_post['location']['latitude'] != None and insta_post['location']['longitude'] != None:\n",
      "KeyError: 'latitude'\n",
      "Traceback (most recent call last):\n"
     ]
    },
    {
     "name": "stdout",
     "output_type": "stream",
     "text": [
      "\n",
      "caught error in body, continuing: 'NoneType' object has no attribute '__getitem__'"
     ]
    },
    {
     "name": "stderr",
     "output_type": "stream",
     "text": [
      "  File \"<ipython-input-2-872ebd74c558>\", line 26, in search_instagram_tag\n",
      "    if insta_post['location']['latitude'] != None and insta_post['location']['longitude'] != None:\n",
      "KeyError: 'latitude'\n",
      "Traceback (most recent call last):\n"
     ]
    },
    {
     "name": "stdout",
     "output_type": "stream",
     "text": [
      "\n",
      "caught error in body, continuing: 'latitude'"
     ]
    },
    {
     "name": "stderr",
     "output_type": "stream",
     "text": [
      "  File \"<ipython-input-2-872ebd74c558>\", line 28, in search_instagram_tag\n",
      "    int(insta_post['caption']['created_time'])\n",
      "TypeError: 'NoneType' object has no attribute '__getitem__'\n",
      "Traceback (most recent call last):\n"
     ]
    },
    {
     "name": "stdout",
     "output_type": "stream",
     "text": [
      "\n",
      "caught error in body, continuing: 'latitude'"
     ]
    },
    {
     "name": "stderr",
     "output_type": "stream",
     "text": [
      "  File \"<ipython-input-2-872ebd74c558>\", line 26, in search_instagram_tag\n",
      "    if insta_post['location']['latitude'] != None and insta_post['location']['longitude'] != None:\n",
      "KeyError: 'latitude'\n",
      "Traceback (most recent call last):\n"
     ]
    },
    {
     "name": "stdout",
     "output_type": "stream",
     "text": [
      "\n",
      "caught error in body, continuing: 'NoneType' object has no attribute '__getitem__'"
     ]
    },
    {
     "name": "stderr",
     "output_type": "stream",
     "text": [
      "  File \"<ipython-input-2-872ebd74c558>\", line 26, in search_instagram_tag\n",
      "    if insta_post['location']['latitude'] != None and insta_post['location']['longitude'] != None:\n",
      "KeyError: 'latitude'\n",
      "Traceback (most recent call last):\n"
     ]
    },
    {
     "name": "stdout",
     "output_type": "stream",
     "text": [
      "\n",
      "caught error in body, continuing: 'latitude'"
     ]
    },
    {
     "name": "stderr",
     "output_type": "stream",
     "text": [
      "  File \"<ipython-input-2-872ebd74c558>\", line 28, in search_instagram_tag\n",
      "    int(insta_post['caption']['created_time'])\n",
      "TypeError: 'NoneType' object has no attribute '__getitem__'\n",
      "Traceback (most recent call last):\n"
     ]
    },
    {
     "name": "stdout",
     "output_type": "stream",
     "text": [
      "\n",
      "caught error in body, continuing: 'NoneType' object has no attribute '__getitem__'"
     ]
    },
    {
     "name": "stderr",
     "output_type": "stream",
     "text": [
      "  File \"<ipython-input-2-872ebd74c558>\", line 26, in search_instagram_tag\n",
      "    if insta_post['location']['latitude'] != None and insta_post['location']['longitude'] != None:\n",
      "KeyError: 'latitude'\n",
      "Traceback (most recent call last):\n"
     ]
    },
    {
     "name": "stdout",
     "output_type": "stream",
     "text": [
      "\n",
      "caught error in body, continuing: 'latitude'"
     ]
    },
    {
     "name": "stderr",
     "output_type": "stream",
     "text": [
      "  File \"<ipython-input-2-872ebd74c558>\", line 28, in search_instagram_tag\n",
      "    int(insta_post['caption']['created_time'])\n",
      "TypeError: 'NoneType' object has no attribute '__getitem__'\n",
      "Traceback (most recent call last):\n"
     ]
    },
    {
     "name": "stdout",
     "output_type": "stream",
     "text": [
      "\n",
      "caught error in body, continuing: 'latitude'\n",
      "caught error in body, continuing: 'latitude'\n",
      "caught error in body, continuing: 'latitude'"
     ]
    },
    {
     "name": "stderr",
     "output_type": "stream",
     "text": [
      "  File \"<ipython-input-2-872ebd74c558>\", line 26, in search_instagram_tag\n",
      "    if insta_post['location']['latitude'] != None and insta_post['location']['longitude'] != None:\n",
      "KeyError: 'latitude'\n",
      "Traceback (most recent call last):\n",
      "  File \"<ipython-input-2-872ebd74c558>\", line 26, in search_instagram_tag\n",
      "    if insta_post['location']['latitude'] != None and insta_post['location']['longitude'] != None:\n",
      "KeyError: 'latitude'\n",
      "Traceback (most recent call last):\n",
      "  File \"<ipython-input-2-872ebd74c558>\", line 26, in search_instagram_tag\n",
      "    if insta_post['location']['latitude'] != None and insta_post['location']['longitude'] != None:\n",
      "KeyError: 'latitude'\n",
      "Traceback (most recent call last):\n"
     ]
    },
    {
     "name": "stdout",
     "output_type": "stream",
     "text": [
      "\n",
      "caught error in body, continuing: 'latitude'"
     ]
    },
    {
     "name": "stderr",
     "output_type": "stream",
     "text": [
      "  File \"<ipython-input-2-872ebd74c558>\", line 26, in search_instagram_tag\n",
      "    if insta_post['location']['latitude'] != None and insta_post['location']['longitude'] != None:\n",
      "KeyError: 'latitude'\n",
      "Traceback (most recent call last):\n"
     ]
    },
    {
     "name": "stdout",
     "output_type": "stream",
     "text": [
      "\n",
      "caught error in body, continuing: 'latitude'"
     ]
    },
    {
     "name": "stderr",
     "output_type": "stream",
     "text": [
      "  File \"<ipython-input-2-872ebd74c558>\", line 26, in search_instagram_tag\n",
      "    if insta_post['location']['latitude'] != None and insta_post['location']['longitude'] != None:\n",
      "KeyError: 'latitude'\n",
      "Traceback (most recent call last):\n"
     ]
    },
    {
     "name": "stdout",
     "output_type": "stream",
     "text": [
      "\n",
      "caught error in body, continuing: 'NoneType' object has no attribute '__getitem__'"
     ]
    },
    {
     "name": "stderr",
     "output_type": "stream",
     "text": [
      "  File \"<ipython-input-2-872ebd74c558>\", line 26, in search_instagram_tag\n",
      "    if insta_post['location']['latitude'] != None and insta_post['location']['longitude'] != None:\n",
      "KeyError: 'latitude'\n",
      "Traceback (most recent call last):\n"
     ]
    },
    {
     "name": "stdout",
     "output_type": "stream",
     "text": [
      "\n",
      "caught error in body, continuing: 'latitude'"
     ]
    },
    {
     "name": "stderr",
     "output_type": "stream",
     "text": [
      "  File \"<ipython-input-2-872ebd74c558>\", line 28, in search_instagram_tag\n",
      "    int(insta_post['caption']['created_time'])\n",
      "TypeError: 'NoneType' object has no attribute '__getitem__'\n",
      "Traceback (most recent call last):\n"
     ]
    },
    {
     "name": "stdout",
     "output_type": "stream",
     "text": [
      "\n",
      "caught error in body, continuing: 'NoneType' object has no attribute '__getitem__'"
     ]
    },
    {
     "name": "stderr",
     "output_type": "stream",
     "text": [
      "  File \"<ipython-input-2-872ebd74c558>\", line 26, in search_instagram_tag\n",
      "    if insta_post['location']['latitude'] != None and insta_post['location']['longitude'] != None:\n",
      "KeyError: 'latitude'\n",
      "Traceback (most recent call last):\n"
     ]
    },
    {
     "name": "stdout",
     "output_type": "stream",
     "text": [
      "\n",
      "caught error in body, continuing: 'latitude'"
     ]
    },
    {
     "name": "stderr",
     "output_type": "stream",
     "text": [
      "  File \"<ipython-input-2-872ebd74c558>\", line 28, in search_instagram_tag\n",
      "    int(insta_post['caption']['created_time'])\n",
      "TypeError: 'NoneType' object has no attribute '__getitem__'\n",
      "Traceback (most recent call last):\n"
     ]
    },
    {
     "name": "stdout",
     "output_type": "stream",
     "text": [
      "\n",
      "caught error in body, continuing: 'latitude'"
     ]
    },
    {
     "name": "stderr",
     "output_type": "stream",
     "text": [
      "  File \"<ipython-input-2-872ebd74c558>\", line 26, in search_instagram_tag\n",
      "    if insta_post['location']['latitude'] != None and insta_post['location']['longitude'] != None:\n",
      "KeyError: 'latitude'\n",
      "Traceback (most recent call last):\n"
     ]
    },
    {
     "name": "stdout",
     "output_type": "stream",
     "text": [
      "\n",
      "caught error in body, continuing: 'latitude'"
     ]
    },
    {
     "name": "stderr",
     "output_type": "stream",
     "text": [
      "  File \"<ipython-input-2-872ebd74c558>\", line 26, in search_instagram_tag\n",
      "    if insta_post['location']['latitude'] != None and insta_post['location']['longitude'] != None:\n",
      "KeyError: 'latitude'\n",
      "Traceback (most recent call last):\n"
     ]
    },
    {
     "name": "stdout",
     "output_type": "stream",
     "text": [
      "\n",
      "caught error in body, continuing: 'latitude'"
     ]
    },
    {
     "name": "stderr",
     "output_type": "stream",
     "text": [
      "  File \"<ipython-input-2-872ebd74c558>\", line 26, in search_instagram_tag\n",
      "    if insta_post['location']['latitude'] != None and insta_post['location']['longitude'] != None:\n",
      "KeyError: 'latitude'\n",
      "Traceback (most recent call last):\n"
     ]
    },
    {
     "name": "stdout",
     "output_type": "stream",
     "text": [
      "\n",
      "caught error in body, continuing: 'latitude'"
     ]
    },
    {
     "name": "stderr",
     "output_type": "stream",
     "text": [
      "  File \"<ipython-input-2-872ebd74c558>\", line 26, in search_instagram_tag\n",
      "    if insta_post['location']['latitude'] != None and insta_post['location']['longitude'] != None:\n",
      "KeyError: 'latitude'\n",
      "Traceback (most recent call last):\n"
     ]
    },
    {
     "name": "stdout",
     "output_type": "stream",
     "text": [
      "\n",
      "caught error in body, continuing: 'latitude'"
     ]
    },
    {
     "name": "stderr",
     "output_type": "stream",
     "text": [
      "  File \"<ipython-input-2-872ebd74c558>\", line 26, in search_instagram_tag\n",
      "    if insta_post['location']['latitude'] != None and insta_post['location']['longitude'] != None:\n",
      "KeyError: 'latitude'\n",
      "Traceback (most recent call last):\n"
     ]
    },
    {
     "name": "stdout",
     "output_type": "stream",
     "text": [
      "\n",
      "caught error in body, continuing: 'NoneType' object has no attribute '__getitem__'\n",
      "caught error in body, continuing: 'latitude'"
     ]
    },
    {
     "name": "stderr",
     "output_type": "stream",
     "text": [
      "  File \"<ipython-input-2-872ebd74c558>\", line 26, in search_instagram_tag\n",
      "    if insta_post['location']['latitude'] != None and insta_post['location']['longitude'] != None:\n",
      "KeyError: 'latitude'\n",
      "Traceback (most recent call last):\n",
      "  File \"<ipython-input-2-872ebd74c558>\", line 28, in search_instagram_tag\n",
      "    int(insta_post['caption']['created_time'])\n",
      "TypeError: 'NoneType' object has no attribute '__getitem__'\n",
      "Traceback (most recent call last):\n"
     ]
    },
    {
     "name": "stdout",
     "output_type": "stream",
     "text": [
      "\n",
      "caught error in body, continuing: 'latitude'"
     ]
    },
    {
     "name": "stderr",
     "output_type": "stream",
     "text": [
      "  File \"<ipython-input-2-872ebd74c558>\", line 26, in search_instagram_tag\n",
      "    if insta_post['location']['latitude'] != None and insta_post['location']['longitude'] != None:\n",
      "KeyError: 'latitude'\n",
      "Traceback (most recent call last):\n"
     ]
    },
    {
     "name": "stdout",
     "output_type": "stream",
     "text": [
      "\n",
      "caught error in body, continuing: 'latitude'"
     ]
    },
    {
     "name": "stderr",
     "output_type": "stream",
     "text": [
      "  File \"<ipython-input-2-872ebd74c558>\", line 26, in search_instagram_tag\n",
      "    if insta_post['location']['latitude'] != None and insta_post['location']['longitude'] != None:\n",
      "KeyError: 'latitude'\n",
      "Traceback (most recent call last):\n"
     ]
    },
    {
     "name": "stdout",
     "output_type": "stream",
     "text": [
      "\n",
      "caught error in body, continuing: 'latitude'"
     ]
    },
    {
     "name": "stderr",
     "output_type": "stream",
     "text": [
      "  File \"<ipython-input-2-872ebd74c558>\", line 26, in search_instagram_tag\n",
      "    if insta_post['location']['latitude'] != None and insta_post['location']['longitude'] != None:\n",
      "KeyError: 'latitude'\n",
      "Traceback (most recent call last):\n"
     ]
    },
    {
     "name": "stdout",
     "output_type": "stream",
     "text": [
      "\n",
      "caught error in body, continuing: 'latitude'"
     ]
    },
    {
     "name": "stderr",
     "output_type": "stream",
     "text": [
      "  File \"<ipython-input-2-872ebd74c558>\", line 26, in search_instagram_tag\n",
      "    if insta_post['location']['latitude'] != None and insta_post['location']['longitude'] != None:\n",
      "KeyError: 'latitude'\n",
      "Traceback (most recent call last):\n"
     ]
    },
    {
     "name": "stdout",
     "output_type": "stream",
     "text": [
      "\n",
      "caught error in body, continuing: 'latitude'"
     ]
    },
    {
     "name": "stderr",
     "output_type": "stream",
     "text": [
      "  File \"<ipython-input-2-872ebd74c558>\", line 26, in search_instagram_tag\n",
      "    if insta_post['location']['latitude'] != None and insta_post['location']['longitude'] != None:\n",
      "KeyError: 'latitude'\n",
      "Traceback (most recent call last):\n"
     ]
    },
    {
     "name": "stdout",
     "output_type": "stream",
     "text": [
      "\n",
      "caught error in body, continuing: 'latitude'"
     ]
    },
    {
     "name": "stderr",
     "output_type": "stream",
     "text": [
      "  File \"<ipython-input-2-872ebd74c558>\", line 26, in search_instagram_tag\n",
      "    if insta_post['location']['latitude'] != None and insta_post['location']['longitude'] != None:\n",
      "KeyError: 'latitude'\n",
      "Traceback (most recent call last):\n"
     ]
    },
    {
     "name": "stdout",
     "output_type": "stream",
     "text": [
      "\n",
      "caught error in body, continuing: 'latitude'"
     ]
    },
    {
     "name": "stderr",
     "output_type": "stream",
     "text": [
      "  File \"<ipython-input-2-872ebd74c558>\", line 26, in search_instagram_tag\n",
      "    if insta_post['location']['latitude'] != None and insta_post['location']['longitude'] != None:\n",
      "KeyError: 'latitude'\n",
      "Traceback (most recent call last):\n"
     ]
    },
    {
     "name": "stdout",
     "output_type": "stream",
     "text": [
      "\n",
      "caught error in body, continuing: 'latitude'"
     ]
    },
    {
     "name": "stderr",
     "output_type": "stream",
     "text": [
      "  File \"<ipython-input-2-872ebd74c558>\", line 26, in search_instagram_tag\n",
      "    if insta_post['location']['latitude'] != None and insta_post['location']['longitude'] != None:\n",
      "KeyError: 'latitude'\n",
      "Traceback (most recent call last):\n"
     ]
    },
    {
     "name": "stdout",
     "output_type": "stream",
     "text": [
      "\n",
      "caught error in body, continuing: 'latitude'"
     ]
    },
    {
     "name": "stderr",
     "output_type": "stream",
     "text": [
      "  File \"<ipython-input-2-872ebd74c558>\", line 26, in search_instagram_tag\n",
      "    if insta_post['location']['latitude'] != None and insta_post['location']['longitude'] != None:\n",
      "KeyError: 'latitude'\n",
      "Traceback (most recent call last):\n"
     ]
    },
    {
     "name": "stdout",
     "output_type": "stream",
     "text": [
      "\n",
      "caught error in body, continuing: 'latitude'"
     ]
    },
    {
     "name": "stderr",
     "output_type": "stream",
     "text": [
      "  File \"<ipython-input-2-872ebd74c558>\", line 26, in search_instagram_tag\n",
      "    if insta_post['location']['latitude'] != None and insta_post['location']['longitude'] != None:\n",
      "KeyError: 'latitude'\n",
      "Traceback (most recent call last):\n"
     ]
    },
    {
     "name": "stdout",
     "output_type": "stream",
     "text": [
      "\n",
      "caught error in body, continuing: 'latitude'"
     ]
    },
    {
     "name": "stderr",
     "output_type": "stream",
     "text": [
      "  File \"<ipython-input-2-872ebd74c558>\", line 26, in search_instagram_tag\n",
      "    if insta_post['location']['latitude'] != None and insta_post['location']['longitude'] != None:\n",
      "KeyError: 'latitude'\n",
      "Traceback (most recent call last):\n"
     ]
    },
    {
     "name": "stdout",
     "output_type": "stream",
     "text": [
      "\n",
      "caught error in body, continuing: 'latitude'"
     ]
    },
    {
     "name": "stderr",
     "output_type": "stream",
     "text": [
      "  File \"<ipython-input-2-872ebd74c558>\", line 26, in search_instagram_tag\n",
      "    if insta_post['location']['latitude'] != None and insta_post['location']['longitude'] != None:\n",
      "KeyError: 'latitude'\n",
      "Traceback (most recent call last):\n"
     ]
    },
    {
     "name": "stdout",
     "output_type": "stream",
     "text": [
      "\n",
      "caught error in body, continuing: 'latitude'"
     ]
    },
    {
     "name": "stderr",
     "output_type": "stream",
     "text": [
      "  File \"<ipython-input-2-872ebd74c558>\", line 26, in search_instagram_tag\n",
      "    if insta_post['location']['latitude'] != None and insta_post['location']['longitude'] != None:\n",
      "KeyError: 'latitude'\n",
      "Traceback (most recent call last):\n"
     ]
    },
    {
     "name": "stdout",
     "output_type": "stream",
     "text": [
      "\n",
      "caught error in body, continuing: 'latitude'"
     ]
    },
    {
     "name": "stderr",
     "output_type": "stream",
     "text": [
      "  File \"<ipython-input-2-872ebd74c558>\", line 26, in search_instagram_tag\n",
      "    if insta_post['location']['latitude'] != None and insta_post['location']['longitude'] != None:\n",
      "KeyError: 'latitude'\n",
      "Traceback (most recent call last):\n"
     ]
    },
    {
     "name": "stdout",
     "output_type": "stream",
     "text": [
      "\n",
      "caught error in body, continuing: 'latitude'"
     ]
    },
    {
     "name": "stderr",
     "output_type": "stream",
     "text": [
      "  File \"<ipython-input-2-872ebd74c558>\", line 26, in search_instagram_tag\n",
      "    if insta_post['location']['latitude'] != None and insta_post['location']['longitude'] != None:\n",
      "KeyError: 'latitude'\n",
      "Traceback (most recent call last):\n"
     ]
    },
    {
     "name": "stdout",
     "output_type": "stream",
     "text": [
      "\n",
      "caught error in body, continuing: 'latitude'\n",
      "caught error in body, continuing: 'latitude'"
     ]
    },
    {
     "name": "stderr",
     "output_type": "stream",
     "text": [
      "  File \"<ipython-input-2-872ebd74c558>\", line 26, in search_instagram_tag\n",
      "    if insta_post['location']['latitude'] != None and insta_post['location']['longitude'] != None:\n",
      "KeyError: 'latitude'\n",
      "Traceback (most recent call last):\n",
      "  File \"<ipython-input-2-872ebd74c558>\", line 26, in search_instagram_tag\n",
      "    if insta_post['location']['latitude'] != None and insta_post['location']['longitude'] != None:\n",
      "KeyError: 'latitude'\n",
      "Traceback (most recent call last):\n"
     ]
    },
    {
     "name": "stdout",
     "output_type": "stream",
     "text": [
      "\n",
      "caught error in body, continuing: 'latitude'"
     ]
    },
    {
     "name": "stderr",
     "output_type": "stream",
     "text": [
      "  File \"<ipython-input-2-872ebd74c558>\", line 26, in search_instagram_tag\n",
      "    if insta_post['location']['latitude'] != None and insta_post['location']['longitude'] != None:\n",
      "KeyError: 'latitude'\n",
      "Traceback (most recent call last):\n"
     ]
    },
    {
     "name": "stdout",
     "output_type": "stream",
     "text": [
      "\n",
      "caught error in body, continuing: 'latitude'"
     ]
    },
    {
     "name": "stderr",
     "output_type": "stream",
     "text": [
      "  File \"<ipython-input-2-872ebd74c558>\", line 26, in search_instagram_tag\n",
      "    if insta_post['location']['latitude'] != None and insta_post['location']['longitude'] != None:\n",
      "KeyError: 'latitude'\n",
      "Traceback (most recent call last):\n"
     ]
    },
    {
     "name": "stdout",
     "output_type": "stream",
     "text": [
      "\n",
      "caught error in body, continuing: 'latitude'"
     ]
    },
    {
     "name": "stderr",
     "output_type": "stream",
     "text": [
      "  File \"<ipython-input-2-872ebd74c558>\", line 26, in search_instagram_tag\n",
      "    if insta_post['location']['latitude'] != None and insta_post['location']['longitude'] != None:\n",
      "KeyError: 'latitude'\n",
      "Traceback (most recent call last):\n"
     ]
    },
    {
     "name": "stdout",
     "output_type": "stream",
     "text": [
      "\n",
      "caught error in body, continuing: 'latitude'"
     ]
    },
    {
     "name": "stderr",
     "output_type": "stream",
     "text": [
      "  File \"<ipython-input-2-872ebd74c558>\", line 26, in search_instagram_tag\n",
      "    if insta_post['location']['latitude'] != None and insta_post['location']['longitude'] != None:\n",
      "KeyError: 'latitude'\n",
      "Traceback (most recent call last):\n"
     ]
    },
    {
     "name": "stdout",
     "output_type": "stream",
     "text": [
      "\n",
      "caught error in body, continuing: 'latitude'"
     ]
    },
    {
     "name": "stderr",
     "output_type": "stream",
     "text": [
      "  File \"<ipython-input-2-872ebd74c558>\", line 26, in search_instagram_tag\n",
      "    if insta_post['location']['latitude'] != None and insta_post['location']['longitude'] != None:\n",
      "KeyError: 'latitude'\n",
      "Traceback (most recent call last):\n"
     ]
    },
    {
     "name": "stdout",
     "output_type": "stream",
     "text": [
      "\n",
      "caught error in body, continuing: 'latitude'"
     ]
    },
    {
     "name": "stderr",
     "output_type": "stream",
     "text": [
      "  File \"<ipython-input-2-872ebd74c558>\", line 26, in search_instagram_tag\n",
      "    if insta_post['location']['latitude'] != None and insta_post['location']['longitude'] != None:\n",
      "KeyError: 'latitude'\n",
      "Traceback (most recent call last):\n"
     ]
    },
    {
     "name": "stdout",
     "output_type": "stream",
     "text": [
      "\n",
      "caught error in body, continuing: 'latitude'"
     ]
    },
    {
     "name": "stderr",
     "output_type": "stream",
     "text": [
      "  File \"<ipython-input-2-872ebd74c558>\", line 26, in search_instagram_tag\n",
      "    if insta_post['location']['latitude'] != None and insta_post['location']['longitude'] != None:\n",
      "KeyError: 'latitude'\n",
      "Traceback (most recent call last):\n"
     ]
    },
    {
     "name": "stdout",
     "output_type": "stream",
     "text": [
      "\n",
      "caught error in body, continuing: 'latitude'"
     ]
    },
    {
     "name": "stderr",
     "output_type": "stream",
     "text": [
      "  File \"<ipython-input-2-872ebd74c558>\", line 26, in search_instagram_tag\n",
      "    if insta_post['location']['latitude'] != None and insta_post['location']['longitude'] != None:\n",
      "KeyError: 'latitude'\n",
      "Traceback (most recent call last):\n"
     ]
    },
    {
     "name": "stdout",
     "output_type": "stream",
     "text": [
      "\n",
      "caught error in body, continuing: 'latitude'"
     ]
    },
    {
     "name": "stderr",
     "output_type": "stream",
     "text": [
      "  File \"<ipython-input-2-872ebd74c558>\", line 26, in search_instagram_tag\n",
      "    if insta_post['location']['latitude'] != None and insta_post['location']['longitude'] != None:\n",
      "KeyError: 'latitude'\n",
      "Traceback (most recent call last):\n"
     ]
    },
    {
     "name": "stdout",
     "output_type": "stream",
     "text": [
      "\n",
      "caught error in body, continuing: 'latitude'"
     ]
    },
    {
     "name": "stderr",
     "output_type": "stream",
     "text": [
      "  File \"<ipython-input-2-872ebd74c558>\", line 26, in search_instagram_tag\n",
      "    if insta_post['location']['latitude'] != None and insta_post['location']['longitude'] != None:\n",
      "KeyError: 'latitude'\n",
      "Traceback (most recent call last):\n"
     ]
    },
    {
     "name": "stdout",
     "output_type": "stream",
     "text": [
      "\n",
      "caught error in body, continuing: 'latitude'"
     ]
    },
    {
     "name": "stderr",
     "output_type": "stream",
     "text": [
      "  File \"<ipython-input-2-872ebd74c558>\", line 26, in search_instagram_tag\n",
      "    if insta_post['location']['latitude'] != None and insta_post['location']['longitude'] != None:\n",
      "KeyError: 'latitude'\n",
      "Traceback (most recent call last):\n"
     ]
    },
    {
     "name": "stdout",
     "output_type": "stream",
     "text": [
      "\n",
      "caught error in body, continuing: 'latitude'"
     ]
    },
    {
     "name": "stderr",
     "output_type": "stream",
     "text": [
      "  File \"<ipython-input-2-872ebd74c558>\", line 26, in search_instagram_tag\n",
      "    if insta_post['location']['latitude'] != None and insta_post['location']['longitude'] != None:\n",
      "KeyError: 'latitude'\n",
      "Traceback (most recent call last):\n"
     ]
    },
    {
     "name": "stdout",
     "output_type": "stream",
     "text": [
      "\n",
      "caught error in body, continuing: 'NoneType' object has no attribute '__getitem__'"
     ]
    },
    {
     "name": "stderr",
     "output_type": "stream",
     "text": [
      "  File \"<ipython-input-2-872ebd74c558>\", line 26, in search_instagram_tag\n",
      "    if insta_post['location']['latitude'] != None and insta_post['location']['longitude'] != None:\n",
      "KeyError: 'latitude'\n",
      "Traceback (most recent call last):\n"
     ]
    },
    {
     "name": "stdout",
     "output_type": "stream",
     "text": [
      "\n",
      "caught error in body, continuing: 'latitude'"
     ]
    },
    {
     "name": "stderr",
     "output_type": "stream",
     "text": [
      "  File \"<ipython-input-2-872ebd74c558>\", line 28, in search_instagram_tag\n",
      "    int(insta_post['caption']['created_time'])\n",
      "TypeError: 'NoneType' object has no attribute '__getitem__'\n",
      "Traceback (most recent call last):\n"
     ]
    },
    {
     "name": "stdout",
     "output_type": "stream",
     "text": [
      "\n",
      "caught error in body, continuing: 'latitude'"
     ]
    },
    {
     "name": "stderr",
     "output_type": "stream",
     "text": [
      "  File \"<ipython-input-2-872ebd74c558>\", line 26, in search_instagram_tag\n",
      "    if insta_post['location']['latitude'] != None and insta_post['location']['longitude'] != None:\n",
      "KeyError: 'latitude'\n",
      "Traceback (most recent call last):\n"
     ]
    },
    {
     "name": "stdout",
     "output_type": "stream",
     "text": [
      "\n",
      "caught error in body, continuing: 'latitude'"
     ]
    },
    {
     "name": "stderr",
     "output_type": "stream",
     "text": [
      "  File \"<ipython-input-2-872ebd74c558>\", line 26, in search_instagram_tag\n",
      "    if insta_post['location']['latitude'] != None and insta_post['location']['longitude'] != None:\n",
      "KeyError: 'latitude'\n",
      "Traceback (most recent call last):\n"
     ]
    },
    {
     "name": "stdout",
     "output_type": "stream",
     "text": [
      "\n",
      "caught error in body, continuing: 'latitude'"
     ]
    },
    {
     "name": "stderr",
     "output_type": "stream",
     "text": [
      "  File \"<ipython-input-2-872ebd74c558>\", line 26, in search_instagram_tag\n",
      "    if insta_post['location']['latitude'] != None and insta_post['location']['longitude'] != None:\n",
      "KeyError: 'latitude'\n",
      "Traceback (most recent call last):\n"
     ]
    },
    {
     "name": "stdout",
     "output_type": "stream",
     "text": [
      "\n",
      "caught error in body, continuing: 'latitude'"
     ]
    },
    {
     "name": "stderr",
     "output_type": "stream",
     "text": [
      "  File \"<ipython-input-2-872ebd74c558>\", line 26, in search_instagram_tag\n",
      "    if insta_post['location']['latitude'] != None and insta_post['location']['longitude'] != None:\n",
      "KeyError: 'latitude'\n",
      "Traceback (most recent call last):\n"
     ]
    },
    {
     "name": "stdout",
     "output_type": "stream",
     "text": [
      "\n",
      "caught error in body, continuing: 'latitude'"
     ]
    },
    {
     "name": "stderr",
     "output_type": "stream",
     "text": [
      "  File \"<ipython-input-2-872ebd74c558>\", line 26, in search_instagram_tag\n",
      "    if insta_post['location']['latitude'] != None and insta_post['location']['longitude'] != None:\n",
      "KeyError: 'latitude'\n",
      "Traceback (most recent call last):\n"
     ]
    },
    {
     "name": "stdout",
     "output_type": "stream",
     "text": [
      "\n",
      "caught error in body, continuing: 'latitude'"
     ]
    },
    {
     "name": "stderr",
     "output_type": "stream",
     "text": [
      "  File \"<ipython-input-2-872ebd74c558>\", line 26, in search_instagram_tag\n",
      "    if insta_post['location']['latitude'] != None and insta_post['location']['longitude'] != None:\n",
      "KeyError: 'latitude'\n",
      "Traceback (most recent call last):\n"
     ]
    },
    {
     "name": "stdout",
     "output_type": "stream",
     "text": [
      "\n",
      "caught error in body, continuing: 'NoneType' object has no attribute '__getitem__'"
     ]
    },
    {
     "name": "stderr",
     "output_type": "stream",
     "text": [
      "  File \"<ipython-input-2-872ebd74c558>\", line 26, in search_instagram_tag\n",
      "    if insta_post['location']['latitude'] != None and insta_post['location']['longitude'] != None:\n",
      "KeyError: 'latitude'\n",
      "Traceback (most recent call last):\n"
     ]
    },
    {
     "name": "stdout",
     "output_type": "stream",
     "text": [
      "\n",
      "caught error in body, continuing: 'latitude'"
     ]
    },
    {
     "name": "stderr",
     "output_type": "stream",
     "text": [
      "  File \"<ipython-input-2-872ebd74c558>\", line 28, in search_instagram_tag\n",
      "    int(insta_post['caption']['created_time'])\n",
      "TypeError: 'NoneType' object has no attribute '__getitem__'\n",
      "Traceback (most recent call last):\n"
     ]
    },
    {
     "name": "stdout",
     "output_type": "stream",
     "text": [
      "\n",
      "caught error in body, continuing: 'latitude'"
     ]
    },
    {
     "name": "stderr",
     "output_type": "stream",
     "text": [
      "  File \"<ipython-input-2-872ebd74c558>\", line 26, in search_instagram_tag\n",
      "    if insta_post['location']['latitude'] != None and insta_post['location']['longitude'] != None:\n",
      "KeyError: 'latitude'\n",
      "Traceback (most recent call last):\n"
     ]
    },
    {
     "name": "stdout",
     "output_type": "stream",
     "text": [
      "\n",
      "caught error in body, continuing: 'latitude'\n",
      "caught error in body, continuing: 'latitude'"
     ]
    },
    {
     "name": "stderr",
     "output_type": "stream",
     "text": [
      "  File \"<ipython-input-2-872ebd74c558>\", line 26, in search_instagram_tag\n",
      "    if insta_post['location']['latitude'] != None and insta_post['location']['longitude'] != None:\n",
      "KeyError: 'latitude'\n",
      "Traceback (most recent call last):\n",
      "  File \"<ipython-input-2-872ebd74c558>\", line 26, in search_instagram_tag\n",
      "    if insta_post['location']['latitude'] != None and insta_post['location']['longitude'] != None:\n",
      "KeyError: 'latitude'\n",
      "Traceback (most recent call last):\n"
     ]
    },
    {
     "name": "stdout",
     "output_type": "stream",
     "text": [
      "\n",
      "caught error in body, continuing: 'latitude'\n",
      "caught error in body, continuing: 'latitude'"
     ]
    },
    {
     "name": "stderr",
     "output_type": "stream",
     "text": [
      "  File \"<ipython-input-2-872ebd74c558>\", line 26, in search_instagram_tag\n",
      "    if insta_post['location']['latitude'] != None and insta_post['location']['longitude'] != None:\n",
      "KeyError: 'latitude'\n",
      "Traceback (most recent call last):\n",
      "  File \"<ipython-input-2-872ebd74c558>\", line 26, in search_instagram_tag\n",
      "    if insta_post['location']['latitude'] != None and insta_post['location']['longitude'] != None:\n",
      "KeyError: 'latitude'\n",
      "Traceback (most recent call last):\n"
     ]
    },
    {
     "name": "stdout",
     "output_type": "stream",
     "text": [
      "\n",
      "caught error in body, continuing: 'latitude'"
     ]
    },
    {
     "name": "stderr",
     "output_type": "stream",
     "text": [
      "  File \"<ipython-input-2-872ebd74c558>\", line 26, in search_instagram_tag\n",
      "    if insta_post['location']['latitude'] != None and insta_post['location']['longitude'] != None:\n",
      "KeyError: 'latitude'\n",
      "Traceback (most recent call last):\n"
     ]
    },
    {
     "name": "stdout",
     "output_type": "stream",
     "text": [
      "\n",
      "caught error in body, continuing: 'latitude'"
     ]
    },
    {
     "name": "stderr",
     "output_type": "stream",
     "text": [
      "  File \"<ipython-input-2-872ebd74c558>\", line 26, in search_instagram_tag\n",
      "    if insta_post['location']['latitude'] != None and insta_post['location']['longitude'] != None:\n",
      "KeyError: 'latitude'\n",
      "Traceback (most recent call last):\n"
     ]
    },
    {
     "name": "stdout",
     "output_type": "stream",
     "text": [
      "\n",
      "caught error in body, continuing: 'latitude'"
     ]
    },
    {
     "name": "stderr",
     "output_type": "stream",
     "text": [
      "  File \"<ipython-input-2-872ebd74c558>\", line 26, in search_instagram_tag\n",
      "    if insta_post['location']['latitude'] != None and insta_post['location']['longitude'] != None:\n",
      "KeyError: 'latitude'\n",
      "Traceback (most recent call last):\n"
     ]
    },
    {
     "name": "stdout",
     "output_type": "stream",
     "text": [
      "\n",
      "caught error in body, continuing: 'latitude'"
     ]
    },
    {
     "name": "stderr",
     "output_type": "stream",
     "text": [
      "  File \"<ipython-input-2-872ebd74c558>\", line 26, in search_instagram_tag\n",
      "    if insta_post['location']['latitude'] != None and insta_post['location']['longitude'] != None:\n",
      "KeyError: 'latitude'\n",
      "Traceback (most recent call last):\n"
     ]
    },
    {
     "name": "stdout",
     "output_type": "stream",
     "text": [
      "\n",
      "caught error in body, continuing: 'latitude'"
     ]
    },
    {
     "name": "stderr",
     "output_type": "stream",
     "text": [
      "  File \"<ipython-input-2-872ebd74c558>\", line 26, in search_instagram_tag\n",
      "    if insta_post['location']['latitude'] != None and insta_post['location']['longitude'] != None:\n",
      "KeyError: 'latitude'\n",
      "Traceback (most recent call last):\n"
     ]
    },
    {
     "name": "stdout",
     "output_type": "stream",
     "text": [
      "\n",
      "caught error in body, continuing: 'latitude'"
     ]
    },
    {
     "name": "stderr",
     "output_type": "stream",
     "text": [
      "  File \"<ipython-input-2-872ebd74c558>\", line 26, in search_instagram_tag\n",
      "    if insta_post['location']['latitude'] != None and insta_post['location']['longitude'] != None:\n",
      "KeyError: 'latitude'\n",
      "Traceback (most recent call last):\n"
     ]
    },
    {
     "name": "stdout",
     "output_type": "stream",
     "text": [
      "\n",
      "caught error in body, continuing: 'latitude'"
     ]
    },
    {
     "name": "stderr",
     "output_type": "stream",
     "text": [
      "  File \"<ipython-input-2-872ebd74c558>\", line 26, in search_instagram_tag\n",
      "    if insta_post['location']['latitude'] != None and insta_post['location']['longitude'] != None:\n",
      "KeyError: 'latitude'\n",
      "Traceback (most recent call last):\n"
     ]
    },
    {
     "name": "stdout",
     "output_type": "stream",
     "text": [
      "\n",
      "caught error in body, continuing: 'latitude'"
     ]
    },
    {
     "name": "stderr",
     "output_type": "stream",
     "text": [
      "  File \"<ipython-input-2-872ebd74c558>\", line 26, in search_instagram_tag\n",
      "    if insta_post['location']['latitude'] != None and insta_post['location']['longitude'] != None:\n",
      "KeyError: 'latitude'\n",
      "Traceback (most recent call last):\n"
     ]
    },
    {
     "name": "stdout",
     "output_type": "stream",
     "text": [
      "\n",
      "caught error in body, continuing: 'latitude'"
     ]
    },
    {
     "name": "stderr",
     "output_type": "stream",
     "text": [
      "  File \"<ipython-input-2-872ebd74c558>\", line 26, in search_instagram_tag\n",
      "    if insta_post['location']['latitude'] != None and insta_post['location']['longitude'] != None:\n",
      "KeyError: 'latitude'\n",
      "Traceback (most recent call last):\n"
     ]
    },
    {
     "name": "stdout",
     "output_type": "stream",
     "text": [
      "\n",
      "caught error in body, continuing: 'latitude'"
     ]
    },
    {
     "name": "stderr",
     "output_type": "stream",
     "text": [
      "  File \"<ipython-input-2-872ebd74c558>\", line 26, in search_instagram_tag\n",
      "    if insta_post['location']['latitude'] != None and insta_post['location']['longitude'] != None:\n",
      "KeyError: 'latitude'\n",
      "Traceback (most recent call last):\n"
     ]
    },
    {
     "name": "stdout",
     "output_type": "stream",
     "text": [
      "\n",
      "caught error in body, continuing: 'latitude'"
     ]
    },
    {
     "name": "stderr",
     "output_type": "stream",
     "text": [
      "  File \"<ipython-input-2-872ebd74c558>\", line 26, in search_instagram_tag\n",
      "    if insta_post['location']['latitude'] != None and insta_post['location']['longitude'] != None:\n",
      "KeyError: 'latitude'\n",
      "Traceback (most recent call last):\n"
     ]
    },
    {
     "name": "stdout",
     "output_type": "stream",
     "text": [
      "\n",
      "caught error in body, continuing: 'latitude'"
     ]
    },
    {
     "name": "stderr",
     "output_type": "stream",
     "text": [
      "  File \"<ipython-input-2-872ebd74c558>\", line 26, in search_instagram_tag\n",
      "    if insta_post['location']['latitude'] != None and insta_post['location']['longitude'] != None:\n",
      "KeyError: 'latitude'\n",
      "Traceback (most recent call last):\n"
     ]
    },
    {
     "name": "stdout",
     "output_type": "stream",
     "text": [
      "\n",
      "caught error in body, continuing: 'latitude'"
     ]
    },
    {
     "name": "stderr",
     "output_type": "stream",
     "text": [
      "  File \"<ipython-input-2-872ebd74c558>\", line 26, in search_instagram_tag\n",
      "    if insta_post['location']['latitude'] != None and insta_post['location']['longitude'] != None:\n",
      "KeyError: 'latitude'\n",
      "Traceback (most recent call last):\n"
     ]
    },
    {
     "name": "stdout",
     "output_type": "stream",
     "text": [
      "\n",
      "caught error in body, continuing: 'latitude'"
     ]
    },
    {
     "name": "stderr",
     "output_type": "stream",
     "text": [
      "  File \"<ipython-input-2-872ebd74c558>\", line 26, in search_instagram_tag\n",
      "    if insta_post['location']['latitude'] != None and insta_post['location']['longitude'] != None:\n",
      "KeyError: 'latitude'\n",
      "Traceback (most recent call last):\n"
     ]
    },
    {
     "name": "stdout",
     "output_type": "stream",
     "text": [
      "\n",
      "caught error in body, continuing: 'latitude'"
     ]
    },
    {
     "name": "stderr",
     "output_type": "stream",
     "text": [
      "  File \"<ipython-input-2-872ebd74c558>\", line 26, in search_instagram_tag\n",
      "    if insta_post['location']['latitude'] != None and insta_post['location']['longitude'] != None:\n",
      "KeyError: 'latitude'\n",
      "Traceback (most recent call last):\n"
     ]
    },
    {
     "name": "stdout",
     "output_type": "stream",
     "text": [
      "\n",
      "caught error in body, continuing: 'latitude'\n",
      "caught error in body, continuing: 'latitude'"
     ]
    },
    {
     "name": "stderr",
     "output_type": "stream",
     "text": [
      "  File \"<ipython-input-2-872ebd74c558>\", line 26, in search_instagram_tag\n",
      "    if insta_post['location']['latitude'] != None and insta_post['location']['longitude'] != None:\n",
      "KeyError: 'latitude'\n",
      "Traceback (most recent call last):\n",
      "  File \"<ipython-input-2-872ebd74c558>\", line 26, in search_instagram_tag\n",
      "    if insta_post['location']['latitude'] != None and insta_post['location']['longitude'] != None:\n",
      "KeyError: 'latitude'\n",
      "Traceback (most recent call last):\n"
     ]
    },
    {
     "name": "stdout",
     "output_type": "stream",
     "text": [
      "\n",
      "caught error in body, continuing: 'latitude'"
     ]
    },
    {
     "name": "stderr",
     "output_type": "stream",
     "text": [
      "  File \"<ipython-input-2-872ebd74c558>\", line 26, in search_instagram_tag\n",
      "    if insta_post['location']['latitude'] != None and insta_post['location']['longitude'] != None:\n",
      "KeyError: 'latitude'\n",
      "Traceback (most recent call last):\n"
     ]
    },
    {
     "name": "stdout",
     "output_type": "stream",
     "text": [
      "\n",
      "caught error in body, continuing: 'latitude'"
     ]
    },
    {
     "name": "stderr",
     "output_type": "stream",
     "text": [
      "  File \"<ipython-input-2-872ebd74c558>\", line 26, in search_instagram_tag\n",
      "    if insta_post['location']['latitude'] != None and insta_post['location']['longitude'] != None:\n",
      "KeyError: 'latitude'\n",
      "Traceback (most recent call last):\n"
     ]
    },
    {
     "name": "stdout",
     "output_type": "stream",
     "text": [
      "\n",
      "caught error in body, continuing: 'latitude'"
     ]
    },
    {
     "name": "stderr",
     "output_type": "stream",
     "text": [
      "  File \"<ipython-input-2-872ebd74c558>\", line 26, in search_instagram_tag\n",
      "    if insta_post['location']['latitude'] != None and insta_post['location']['longitude'] != None:\n",
      "KeyError: 'latitude'\n",
      "Traceback (most recent call last):\n"
     ]
    },
    {
     "name": "stdout",
     "output_type": "stream",
     "text": [
      "\n",
      "caught error in body, continuing: 'latitude'"
     ]
    },
    {
     "name": "stderr",
     "output_type": "stream",
     "text": [
      "  File \"<ipython-input-2-872ebd74c558>\", line 26, in search_instagram_tag\n",
      "    if insta_post['location']['latitude'] != None and insta_post['location']['longitude'] != None:\n",
      "KeyError: 'latitude'\n",
      "Traceback (most recent call last):\n"
     ]
    },
    {
     "name": "stdout",
     "output_type": "stream",
     "text": [
      "\n",
      "caught error in body, continuing: 'NoneType' object has no attribute '__getitem__'"
     ]
    },
    {
     "name": "stderr",
     "output_type": "stream",
     "text": [
      "  File \"<ipython-input-2-872ebd74c558>\", line 26, in search_instagram_tag\n",
      "    if insta_post['location']['latitude'] != None and insta_post['location']['longitude'] != None:\n",
      "KeyError: 'latitude'\n",
      "Traceback (most recent call last):\n"
     ]
    },
    {
     "name": "stdout",
     "output_type": "stream",
     "text": [
      "\n",
      "caught error in body, continuing: 'latitude'"
     ]
    },
    {
     "name": "stderr",
     "output_type": "stream",
     "text": [
      "  File \"<ipython-input-2-872ebd74c558>\", line 28, in search_instagram_tag\n",
      "    int(insta_post['caption']['created_time'])\n",
      "TypeError: 'NoneType' object has no attribute '__getitem__'\n",
      "Traceback (most recent call last):\n"
     ]
    },
    {
     "name": "stdout",
     "output_type": "stream",
     "text": [
      "\n",
      "caught error in body, continuing: 'latitude'"
     ]
    },
    {
     "name": "stderr",
     "output_type": "stream",
     "text": [
      "  File \"<ipython-input-2-872ebd74c558>\", line 26, in search_instagram_tag\n",
      "    if insta_post['location']['latitude'] != None and insta_post['location']['longitude'] != None:\n",
      "KeyError: 'latitude'\n",
      "Traceback (most recent call last):\n"
     ]
    },
    {
     "name": "stdout",
     "output_type": "stream",
     "text": [
      "\n",
      "caught error in body, continuing: 'latitude'"
     ]
    },
    {
     "name": "stderr",
     "output_type": "stream",
     "text": [
      "  File \"<ipython-input-2-872ebd74c558>\", line 26, in search_instagram_tag\n",
      "    if insta_post['location']['latitude'] != None and insta_post['location']['longitude'] != None:\n",
      "KeyError: 'latitude'\n",
      "Traceback (most recent call last):\n"
     ]
    },
    {
     "name": "stdout",
     "output_type": "stream",
     "text": [
      "\n",
      "caught error in body, continuing: 'latitude'"
     ]
    },
    {
     "name": "stderr",
     "output_type": "stream",
     "text": [
      "  File \"<ipython-input-2-872ebd74c558>\", line 26, in search_instagram_tag\n",
      "    if insta_post['location']['latitude'] != None and insta_post['location']['longitude'] != None:\n",
      "KeyError: 'latitude'\n",
      "Traceback (most recent call last):\n"
     ]
    },
    {
     "name": "stdout",
     "output_type": "stream",
     "text": [
      "\n",
      "caught error in body, continuing: 'latitude'"
     ]
    },
    {
     "name": "stderr",
     "output_type": "stream",
     "text": [
      "  File \"<ipython-input-2-872ebd74c558>\", line 26, in search_instagram_tag\n",
      "    if insta_post['location']['latitude'] != None and insta_post['location']['longitude'] != None:\n",
      "KeyError: 'latitude'\n",
      "Traceback (most recent call last):\n"
     ]
    },
    {
     "name": "stdout",
     "output_type": "stream",
     "text": [
      "\n",
      "caught error in body, continuing: 'latitude'"
     ]
    },
    {
     "name": "stderr",
     "output_type": "stream",
     "text": [
      "  File \"<ipython-input-2-872ebd74c558>\", line 26, in search_instagram_tag\n",
      "    if insta_post['location']['latitude'] != None and insta_post['location']['longitude'] != None:\n",
      "KeyError: 'latitude'\n",
      "Traceback (most recent call last):\n"
     ]
    },
    {
     "name": "stdout",
     "output_type": "stream",
     "text": [
      "\n",
      "caught error in body, continuing: 'latitude'"
     ]
    },
    {
     "name": "stderr",
     "output_type": "stream",
     "text": [
      "  File \"<ipython-input-2-872ebd74c558>\", line 26, in search_instagram_tag\n",
      "    if insta_post['location']['latitude'] != None and insta_post['location']['longitude'] != None:\n",
      "KeyError: 'latitude'\n",
      "Traceback (most recent call last):\n"
     ]
    },
    {
     "name": "stdout",
     "output_type": "stream",
     "text": [
      "\n",
      "caught error in body, continuing: 'latitude'\n",
      "caught error in body, continuing: 'latitude'"
     ]
    },
    {
     "name": "stderr",
     "output_type": "stream",
     "text": [
      "  File \"<ipython-input-2-872ebd74c558>\", line 26, in search_instagram_tag\n",
      "    if insta_post['location']['latitude'] != None and insta_post['location']['longitude'] != None:\n",
      "KeyError: 'latitude'\n",
      "Traceback (most recent call last):\n",
      "  File \"<ipython-input-2-872ebd74c558>\", line 26, in search_instagram_tag\n",
      "    if insta_post['location']['latitude'] != None and insta_post['location']['longitude'] != None:\n",
      "KeyError: 'latitude'\n",
      "Traceback (most recent call last):\n"
     ]
    },
    {
     "name": "stdout",
     "output_type": "stream",
     "text": [
      "\n",
      "caught error in body, continuing: 'latitude'"
     ]
    },
    {
     "name": "stderr",
     "output_type": "stream",
     "text": [
      "  File \"<ipython-input-2-872ebd74c558>\", line 26, in search_instagram_tag\n",
      "    if insta_post['location']['latitude'] != None and insta_post['location']['longitude'] != None:\n",
      "KeyError: 'latitude'\n",
      "Traceback (most recent call last):\n"
     ]
    },
    {
     "name": "stdout",
     "output_type": "stream",
     "text": [
      "\n",
      "caught error in body, continuing: 'latitude'"
     ]
    },
    {
     "name": "stderr",
     "output_type": "stream",
     "text": [
      "  File \"<ipython-input-2-872ebd74c558>\", line 26, in search_instagram_tag\n",
      "    if insta_post['location']['latitude'] != None and insta_post['location']['longitude'] != None:\n",
      "KeyError: 'latitude'\n",
      "Traceback (most recent call last):\n"
     ]
    },
    {
     "name": "stdout",
     "output_type": "stream",
     "text": [
      "\n",
      "caught error in body, continuing: 'latitude'"
     ]
    },
    {
     "name": "stderr",
     "output_type": "stream",
     "text": [
      "  File \"<ipython-input-2-872ebd74c558>\", line 26, in search_instagram_tag\n",
      "    if insta_post['location']['latitude'] != None and insta_post['location']['longitude'] != None:\n",
      "KeyError: 'latitude'\n",
      "Traceback (most recent call last):\n"
     ]
    },
    {
     "name": "stdout",
     "output_type": "stream",
     "text": [
      "\n",
      "caught error in body, continuing: 'latitude'"
     ]
    },
    {
     "name": "stderr",
     "output_type": "stream",
     "text": [
      "  File \"<ipython-input-2-872ebd74c558>\", line 26, in search_instagram_tag\n",
      "    if insta_post['location']['latitude'] != None and insta_post['location']['longitude'] != None:\n",
      "KeyError: 'latitude'\n",
      "Traceback (most recent call last):\n"
     ]
    },
    {
     "name": "stdout",
     "output_type": "stream",
     "text": [
      "\n",
      "caught error in body, continuing: 'latitude'"
     ]
    },
    {
     "name": "stderr",
     "output_type": "stream",
     "text": [
      "  File \"<ipython-input-2-872ebd74c558>\", line 26, in search_instagram_tag\n",
      "    if insta_post['location']['latitude'] != None and insta_post['location']['longitude'] != None:\n",
      "KeyError: 'latitude'\n",
      "Traceback (most recent call last):\n"
     ]
    },
    {
     "name": "stdout",
     "output_type": "stream",
     "text": [
      "\n",
      "caught error in body, continuing: 'latitude'"
     ]
    },
    {
     "name": "stderr",
     "output_type": "stream",
     "text": [
      "  File \"<ipython-input-2-872ebd74c558>\", line 26, in search_instagram_tag\n",
      "    if insta_post['location']['latitude'] != None and insta_post['location']['longitude'] != None:\n",
      "KeyError: 'latitude'\n",
      "Traceback (most recent call last):\n"
     ]
    },
    {
     "name": "stdout",
     "output_type": "stream",
     "text": [
      "\n",
      "caught error in body, continuing: 'latitude'"
     ]
    },
    {
     "name": "stderr",
     "output_type": "stream",
     "text": [
      "  File \"<ipython-input-2-872ebd74c558>\", line 26, in search_instagram_tag\n",
      "    if insta_post['location']['latitude'] != None and insta_post['location']['longitude'] != None:\n",
      "KeyError: 'latitude'\n",
      "Traceback (most recent call last):\n"
     ]
    },
    {
     "name": "stdout",
     "output_type": "stream",
     "text": [
      "\n",
      "caught error in body, continuing: 'latitude'"
     ]
    },
    {
     "name": "stderr",
     "output_type": "stream",
     "text": [
      "  File \"<ipython-input-2-872ebd74c558>\", line 26, in search_instagram_tag\n",
      "    if insta_post['location']['latitude'] != None and insta_post['location']['longitude'] != None:\n",
      "KeyError: 'latitude'\n",
      "Traceback (most recent call last):\n"
     ]
    },
    {
     "name": "stdout",
     "output_type": "stream",
     "text": [
      "\n",
      "caught error in body, continuing: 'latitude'\n",
      "caught error in body, continuing: 'latitude'"
     ]
    },
    {
     "name": "stderr",
     "output_type": "stream",
     "text": [
      "  File \"<ipython-input-2-872ebd74c558>\", line 26, in search_instagram_tag\n",
      "    if insta_post['location']['latitude'] != None and insta_post['location']['longitude'] != None:\n",
      "KeyError: 'latitude'\n",
      "Traceback (most recent call last):\n",
      "  File \"<ipython-input-2-872ebd74c558>\", line 26, in search_instagram_tag\n",
      "    if insta_post['location']['latitude'] != None and insta_post['location']['longitude'] != None:\n",
      "KeyError: 'latitude'\n",
      "Traceback (most recent call last):\n"
     ]
    },
    {
     "name": "stdout",
     "output_type": "stream",
     "text": [
      "\n",
      "caught error in body, continuing: 'latitude'\n",
      "caught error in body, continuing: 'latitude'"
     ]
    },
    {
     "name": "stderr",
     "output_type": "stream",
     "text": [
      "  File \"<ipython-input-2-872ebd74c558>\", line 26, in search_instagram_tag\n",
      "    if insta_post['location']['latitude'] != None and insta_post['location']['longitude'] != None:\n",
      "KeyError: 'latitude'\n",
      "Traceback (most recent call last):\n",
      "  File \"<ipython-input-2-872ebd74c558>\", line 26, in search_instagram_tag\n",
      "    if insta_post['location']['latitude'] != None and insta_post['location']['longitude'] != None:\n",
      "KeyError: 'latitude'\n",
      "Traceback (most recent call last):\n"
     ]
    },
    {
     "name": "stdout",
     "output_type": "stream",
     "text": [
      "\n",
      "caught error in body, continuing: 'latitude'"
     ]
    },
    {
     "name": "stderr",
     "output_type": "stream",
     "text": [
      "  File \"<ipython-input-2-872ebd74c558>\", line 26, in search_instagram_tag\n",
      "    if insta_post['location']['latitude'] != None and insta_post['location']['longitude'] != None:\n",
      "KeyError: 'latitude'\n",
      "Traceback (most recent call last):\n"
     ]
    },
    {
     "name": "stdout",
     "output_type": "stream",
     "text": [
      "\n",
      "caught error in body, continuing: 'latitude'"
     ]
    },
    {
     "name": "stderr",
     "output_type": "stream",
     "text": [
      "  File \"<ipython-input-2-872ebd74c558>\", line 26, in search_instagram_tag\n",
      "    if insta_post['location']['latitude'] != None and insta_post['location']['longitude'] != None:\n",
      "KeyError: 'latitude'\n",
      "Traceback (most recent call last):\n"
     ]
    },
    {
     "name": "stdout",
     "output_type": "stream",
     "text": [
      "\n",
      "caught error in body, continuing: 'NoneType' object has no attribute '__getitem__'"
     ]
    },
    {
     "name": "stderr",
     "output_type": "stream",
     "text": [
      "  File \"<ipython-input-2-872ebd74c558>\", line 26, in search_instagram_tag\n",
      "    if insta_post['location']['latitude'] != None and insta_post['location']['longitude'] != None:\n",
      "KeyError: 'latitude'\n",
      "Traceback (most recent call last):\n"
     ]
    },
    {
     "name": "stdout",
     "output_type": "stream",
     "text": [
      "\n",
      "caught error in body, continuing: 'latitude'"
     ]
    },
    {
     "name": "stderr",
     "output_type": "stream",
     "text": [
      "  File \"<ipython-input-2-872ebd74c558>\", line 28, in search_instagram_tag\n",
      "    int(insta_post['caption']['created_time'])\n",
      "TypeError: 'NoneType' object has no attribute '__getitem__'\n",
      "Traceback (most recent call last):\n"
     ]
    },
    {
     "name": "stdout",
     "output_type": "stream",
     "text": [
      "\n",
      "caught error in body, continuing: 'latitude'"
     ]
    },
    {
     "name": "stderr",
     "output_type": "stream",
     "text": [
      "  File \"<ipython-input-2-872ebd74c558>\", line 26, in search_instagram_tag\n",
      "    if insta_post['location']['latitude'] != None and insta_post['location']['longitude'] != None:\n",
      "KeyError: 'latitude'\n",
      "Traceback (most recent call last):\n"
     ]
    },
    {
     "name": "stdout",
     "output_type": "stream",
     "text": [
      "\n",
      "caught error in body, continuing: 'latitude'"
     ]
    },
    {
     "name": "stderr",
     "output_type": "stream",
     "text": [
      "  File \"<ipython-input-2-872ebd74c558>\", line 26, in search_instagram_tag\n",
      "    if insta_post['location']['latitude'] != None and insta_post['location']['longitude'] != None:\n",
      "KeyError: 'latitude'\n",
      "Traceback (most recent call last):\n"
     ]
    },
    {
     "name": "stdout",
     "output_type": "stream",
     "text": [
      "\n",
      "caught error in body, continuing: 'latitude'"
     ]
    },
    {
     "name": "stderr",
     "output_type": "stream",
     "text": [
      "  File \"<ipython-input-2-872ebd74c558>\", line 26, in search_instagram_tag\n",
      "    if insta_post['location']['latitude'] != None and insta_post['location']['longitude'] != None:\n",
      "KeyError: 'latitude'\n",
      "Traceback (most recent call last):\n"
     ]
    },
    {
     "name": "stdout",
     "output_type": "stream",
     "text": [
      "\n",
      "caught error in body, continuing: 'latitude'"
     ]
    },
    {
     "name": "stderr",
     "output_type": "stream",
     "text": [
      "  File \"<ipython-input-2-872ebd74c558>\", line 26, in search_instagram_tag\n",
      "    if insta_post['location']['latitude'] != None and insta_post['location']['longitude'] != None:\n",
      "KeyError: 'latitude'\n",
      "Traceback (most recent call last):\n"
     ]
    },
    {
     "name": "stdout",
     "output_type": "stream",
     "text": [
      "\n",
      "caught error in body, continuing: 'latitude'\n",
      "caught error in body, continuing: 'latitude'"
     ]
    },
    {
     "name": "stderr",
     "output_type": "stream",
     "text": [
      "  File \"<ipython-input-2-872ebd74c558>\", line 26, in search_instagram_tag\n",
      "    if insta_post['location']['latitude'] != None and insta_post['location']['longitude'] != None:\n",
      "KeyError: 'latitude'\n",
      "Traceback (most recent call last):\n",
      "  File \"<ipython-input-2-872ebd74c558>\", line 26, in search_instagram_tag\n",
      "    if insta_post['location']['latitude'] != None and insta_post['location']['longitude'] != None:\n",
      "KeyError: 'latitude'\n",
      "Traceback (most recent call last):\n"
     ]
    },
    {
     "name": "stdout",
     "output_type": "stream",
     "text": [
      "\n",
      "caught error in body, continuing: 'latitude'"
     ]
    },
    {
     "name": "stderr",
     "output_type": "stream",
     "text": [
      "  File \"<ipython-input-2-872ebd74c558>\", line 26, in search_instagram_tag\n",
      "    if insta_post['location']['latitude'] != None and insta_post['location']['longitude'] != None:\n",
      "KeyError: 'latitude'\n",
      "Traceback (most recent call last):\n"
     ]
    },
    {
     "name": "stdout",
     "output_type": "stream",
     "text": [
      "\n",
      "caught error in body, continuing: 'latitude'"
     ]
    },
    {
     "name": "stderr",
     "output_type": "stream",
     "text": [
      "  File \"<ipython-input-2-872ebd74c558>\", line 26, in search_instagram_tag\n",
      "    if insta_post['location']['latitude'] != None and insta_post['location']['longitude'] != None:\n",
      "KeyError: 'latitude'\n",
      "Traceback (most recent call last):\n"
     ]
    },
    {
     "name": "stdout",
     "output_type": "stream",
     "text": [
      "\n",
      "caught error in body, continuing: 'latitude'"
     ]
    },
    {
     "name": "stderr",
     "output_type": "stream",
     "text": [
      "  File \"<ipython-input-2-872ebd74c558>\", line 26, in search_instagram_tag\n",
      "    if insta_post['location']['latitude'] != None and insta_post['location']['longitude'] != None:\n",
      "KeyError: 'latitude'\n",
      "Traceback (most recent call last):\n"
     ]
    },
    {
     "name": "stdout",
     "output_type": "stream",
     "text": [
      "\n",
      "caught error in body, continuing: 'latitude'"
     ]
    },
    {
     "name": "stderr",
     "output_type": "stream",
     "text": [
      "  File \"<ipython-input-2-872ebd74c558>\", line 26, in search_instagram_tag\n",
      "    if insta_post['location']['latitude'] != None and insta_post['location']['longitude'] != None:\n",
      "KeyError: 'latitude'\n",
      "Traceback (most recent call last):\n"
     ]
    },
    {
     "name": "stdout",
     "output_type": "stream",
     "text": [
      "\n",
      "caught error in body, continuing: 'latitude'"
     ]
    },
    {
     "name": "stderr",
     "output_type": "stream",
     "text": [
      "  File \"<ipython-input-2-872ebd74c558>\", line 26, in search_instagram_tag\n",
      "    if insta_post['location']['latitude'] != None and insta_post['location']['longitude'] != None:\n",
      "KeyError: 'latitude'\n",
      "Traceback (most recent call last):\n"
     ]
    },
    {
     "name": "stdout",
     "output_type": "stream",
     "text": [
      "\n",
      "caught error in body, continuing: 'latitude'"
     ]
    },
    {
     "name": "stderr",
     "output_type": "stream",
     "text": [
      "  File \"<ipython-input-2-872ebd74c558>\", line 26, in search_instagram_tag\n",
      "    if insta_post['location']['latitude'] != None and insta_post['location']['longitude'] != None:\n",
      "KeyError: 'latitude'\n",
      "Traceback (most recent call last):\n"
     ]
    },
    {
     "name": "stdout",
     "output_type": "stream",
     "text": [
      "\n",
      "caught error in body, continuing: 'latitude'"
     ]
    },
    {
     "name": "stderr",
     "output_type": "stream",
     "text": [
      "  File \"<ipython-input-2-872ebd74c558>\", line 26, in search_instagram_tag\n",
      "    if insta_post['location']['latitude'] != None and insta_post['location']['longitude'] != None:\n",
      "KeyError: 'latitude'\n",
      "Traceback (most recent call last):\n"
     ]
    },
    {
     "name": "stdout",
     "output_type": "stream",
     "text": [
      "\n",
      "caught error in body, continuing: 'latitude'"
     ]
    },
    {
     "name": "stderr",
     "output_type": "stream",
     "text": [
      "  File \"<ipython-input-2-872ebd74c558>\", line 26, in search_instagram_tag\n",
      "    if insta_post['location']['latitude'] != None and insta_post['location']['longitude'] != None:\n",
      "KeyError: 'latitude'\n",
      "Traceback (most recent call last):\n"
     ]
    },
    {
     "name": "stdout",
     "output_type": "stream",
     "text": [
      "\n",
      "caught error in body, continuing: 'latitude'"
     ]
    },
    {
     "name": "stderr",
     "output_type": "stream",
     "text": [
      "  File \"<ipython-input-2-872ebd74c558>\", line 26, in search_instagram_tag\n",
      "    if insta_post['location']['latitude'] != None and insta_post['location']['longitude'] != None:\n",
      "KeyError: 'latitude'\n",
      "Traceback (most recent call last):\n"
     ]
    },
    {
     "name": "stdout",
     "output_type": "stream",
     "text": [
      "\n",
      "caught error in body, continuing: 'latitude'\n",
      "caught error in body, continuing: 'latitude'"
     ]
    },
    {
     "name": "stderr",
     "output_type": "stream",
     "text": [
      "  File \"<ipython-input-2-872ebd74c558>\", line 26, in search_instagram_tag\n",
      "    if insta_post['location']['latitude'] != None and insta_post['location']['longitude'] != None:\n",
      "KeyError: 'latitude'\n",
      "Traceback (most recent call last):\n",
      "  File \"<ipython-input-2-872ebd74c558>\", line 26, in search_instagram_tag\n",
      "    if insta_post['location']['latitude'] != None and insta_post['location']['longitude'] != None:\n",
      "KeyError: 'latitude'\n",
      "Traceback (most recent call last):\n"
     ]
    },
    {
     "name": "stdout",
     "output_type": "stream",
     "text": [
      "\n",
      "caught error in body, continuing: 'latitude'\n",
      "caught error in body, continuing: 'latitude'"
     ]
    },
    {
     "name": "stderr",
     "output_type": "stream",
     "text": [
      "  File \"<ipython-input-2-872ebd74c558>\", line 26, in search_instagram_tag\n",
      "    if insta_post['location']['latitude'] != None and insta_post['location']['longitude'] != None:\n",
      "KeyError: 'latitude'\n",
      "Traceback (most recent call last):\n",
      "  File \"<ipython-input-2-872ebd74c558>\", line 26, in search_instagram_tag\n",
      "    if insta_post['location']['latitude'] != None and insta_post['location']['longitude'] != None:\n",
      "KeyError: 'latitude'\n",
      "Traceback (most recent call last):\n"
     ]
    },
    {
     "name": "stdout",
     "output_type": "stream",
     "text": [
      "\n",
      "caught error in body, continuing: 'latitude'"
     ]
    },
    {
     "name": "stderr",
     "output_type": "stream",
     "text": [
      "  File \"<ipython-input-2-872ebd74c558>\", line 26, in search_instagram_tag\n",
      "    if insta_post['location']['latitude'] != None and insta_post['location']['longitude'] != None:\n",
      "KeyError: 'latitude'\n",
      "Traceback (most recent call last):\n"
     ]
    },
    {
     "name": "stdout",
     "output_type": "stream",
     "text": [
      "\n",
      "caught error in body, continuing: 'latitude'"
     ]
    },
    {
     "name": "stderr",
     "output_type": "stream",
     "text": [
      "  File \"<ipython-input-2-872ebd74c558>\", line 26, in search_instagram_tag\n",
      "    if insta_post['location']['latitude'] != None and insta_post['location']['longitude'] != None:\n",
      "KeyError: 'latitude'\n",
      "Traceback (most recent call last):\n"
     ]
    },
    {
     "name": "stdout",
     "output_type": "stream",
     "text": [
      "\n",
      "caught error in body, continuing: 'latitude'"
     ]
    },
    {
     "name": "stderr",
     "output_type": "stream",
     "text": [
      "  File \"<ipython-input-2-872ebd74c558>\", line 26, in search_instagram_tag\n",
      "    if insta_post['location']['latitude'] != None and insta_post['location']['longitude'] != None:\n",
      "KeyError: 'latitude'\n",
      "Traceback (most recent call last):\n"
     ]
    },
    {
     "name": "stdout",
     "output_type": "stream",
     "text": [
      "\n",
      "caught error in body, continuing: 'latitude'"
     ]
    },
    {
     "name": "stderr",
     "output_type": "stream",
     "text": [
      "  File \"<ipython-input-2-872ebd74c558>\", line 26, in search_instagram_tag\n",
      "    if insta_post['location']['latitude'] != None and insta_post['location']['longitude'] != None:\n",
      "KeyError: 'latitude'\n",
      "Traceback (most recent call last):\n"
     ]
    },
    {
     "name": "stdout",
     "output_type": "stream",
     "text": [
      "\n",
      "caught error in body, continuing: 'latitude'"
     ]
    },
    {
     "name": "stderr",
     "output_type": "stream",
     "text": [
      "  File \"<ipython-input-2-872ebd74c558>\", line 26, in search_instagram_tag\n",
      "    if insta_post['location']['latitude'] != None and insta_post['location']['longitude'] != None:\n",
      "KeyError: 'latitude'\n",
      "Traceback (most recent call last):\n"
     ]
    },
    {
     "name": "stdout",
     "output_type": "stream",
     "text": [
      "\n",
      "caught error in body, continuing: 'NoneType' object has no attribute '__getitem__'"
     ]
    },
    {
     "name": "stderr",
     "output_type": "stream",
     "text": [
      "  File \"<ipython-input-2-872ebd74c558>\", line 26, in search_instagram_tag\n",
      "    if insta_post['location']['latitude'] != None and insta_post['location']['longitude'] != None:\n",
      "KeyError: 'latitude'\n",
      "Traceback (most recent call last):\n"
     ]
    },
    {
     "name": "stdout",
     "output_type": "stream",
     "text": [
      "\n",
      "caught error in body, continuing: 'NoneType' object has no attribute '__getitem__'"
     ]
    },
    {
     "name": "stderr",
     "output_type": "stream",
     "text": [
      "  File \"<ipython-input-2-872ebd74c558>\", line 28, in search_instagram_tag\n",
      "    int(insta_post['caption']['created_time'])\n",
      "TypeError: 'NoneType' object has no attribute '__getitem__'\n",
      "Traceback (most recent call last):\n"
     ]
    },
    {
     "name": "stdout",
     "output_type": "stream",
     "text": [
      "\n",
      "caught error in body, continuing: 'latitude'"
     ]
    },
    {
     "name": "stderr",
     "output_type": "stream",
     "text": [
      "  File \"<ipython-input-2-872ebd74c558>\", line 28, in search_instagram_tag\n",
      "    int(insta_post['caption']['created_time'])\n",
      "TypeError: 'NoneType' object has no attribute '__getitem__'\n",
      "Traceback (most recent call last):\n"
     ]
    },
    {
     "name": "stdout",
     "output_type": "stream",
     "text": [
      "\n",
      "caught error in body, continuing: 'latitude'"
     ]
    },
    {
     "name": "stderr",
     "output_type": "stream",
     "text": [
      "  File \"<ipython-input-2-872ebd74c558>\", line 26, in search_instagram_tag\n",
      "    if insta_post['location']['latitude'] != None and insta_post['location']['longitude'] != None:\n",
      "KeyError: 'latitude'\n",
      "Traceback (most recent call last):\n"
     ]
    },
    {
     "name": "stdout",
     "output_type": "stream",
     "text": [
      "\n",
      "caught error in body, continuing: 'latitude'"
     ]
    },
    {
     "name": "stderr",
     "output_type": "stream",
     "text": [
      "  File \"<ipython-input-2-872ebd74c558>\", line 26, in search_instagram_tag\n",
      "    if insta_post['location']['latitude'] != None and insta_post['location']['longitude'] != None:\n",
      "KeyError: 'latitude'\n",
      "Traceback (most recent call last):\n"
     ]
    },
    {
     "name": "stdout",
     "output_type": "stream",
     "text": [
      "\n",
      "caught error in body, continuing: 'latitude'"
     ]
    },
    {
     "name": "stderr",
     "output_type": "stream",
     "text": [
      "  File \"<ipython-input-2-872ebd74c558>\", line 26, in search_instagram_tag\n",
      "    if insta_post['location']['latitude'] != None and insta_post['location']['longitude'] != None:\n",
      "KeyError: 'latitude'\n",
      "Traceback (most recent call last):\n"
     ]
    },
    {
     "name": "stdout",
     "output_type": "stream",
     "text": [
      "\n",
      "caught error in body, continuing: 'latitude'"
     ]
    },
    {
     "name": "stderr",
     "output_type": "stream",
     "text": [
      "  File \"<ipython-input-2-872ebd74c558>\", line 26, in search_instagram_tag\n",
      "    if insta_post['location']['latitude'] != None and insta_post['location']['longitude'] != None:\n",
      "KeyError: 'latitude'\n",
      "Traceback (most recent call last):\n"
     ]
    },
    {
     "name": "stdout",
     "output_type": "stream",
     "text": [
      "\n",
      "caught error in body, continuing: 'latitude'\n",
      "caught error in body, continuing: 'latitude'"
     ]
    },
    {
     "name": "stderr",
     "output_type": "stream",
     "text": [
      "  File \"<ipython-input-2-872ebd74c558>\", line 26, in search_instagram_tag\n",
      "    if insta_post['location']['latitude'] != None and insta_post['location']['longitude'] != None:\n",
      "KeyError: 'latitude'\n",
      "Traceback (most recent call last):\n",
      "  File \"<ipython-input-2-872ebd74c558>\", line 26, in search_instagram_tag\n",
      "    if insta_post['location']['latitude'] != None and insta_post['location']['longitude'] != None:\n",
      "KeyError: 'latitude'\n",
      "Traceback (most recent call last):\n"
     ]
    },
    {
     "name": "stdout",
     "output_type": "stream",
     "text": [
      "\n",
      "caught error in body, continuing: 'latitude'"
     ]
    },
    {
     "name": "stderr",
     "output_type": "stream",
     "text": [
      "  File \"<ipython-input-2-872ebd74c558>\", line 26, in search_instagram_tag\n",
      "    if insta_post['location']['latitude'] != None and insta_post['location']['longitude'] != None:\n",
      "KeyError: 'latitude'\n",
      "Traceback (most recent call last):\n"
     ]
    },
    {
     "name": "stdout",
     "output_type": "stream",
     "text": [
      "\n",
      "caught error in body, continuing: 'latitude'"
     ]
    },
    {
     "name": "stderr",
     "output_type": "stream",
     "text": [
      "  File \"<ipython-input-2-872ebd74c558>\", line 26, in search_instagram_tag\n",
      "    if insta_post['location']['latitude'] != None and insta_post['location']['longitude'] != None:\n",
      "KeyError: 'latitude'\n",
      "Traceback (most recent call last):\n"
     ]
    },
    {
     "name": "stdout",
     "output_type": "stream",
     "text": [
      "\n",
      "caught error in body, continuing: 'latitude'"
     ]
    },
    {
     "name": "stderr",
     "output_type": "stream",
     "text": [
      "  File \"<ipython-input-2-872ebd74c558>\", line 26, in search_instagram_tag\n",
      "    if insta_post['location']['latitude'] != None and insta_post['location']['longitude'] != None:\n",
      "KeyError: 'latitude'\n",
      "Traceback (most recent call last):\n"
     ]
    },
    {
     "name": "stdout",
     "output_type": "stream",
     "text": [
      "\n",
      "caught error in body, continuing: 'latitude'"
     ]
    },
    {
     "name": "stderr",
     "output_type": "stream",
     "text": [
      "  File \"<ipython-input-2-872ebd74c558>\", line 26, in search_instagram_tag\n",
      "    if insta_post['location']['latitude'] != None and insta_post['location']['longitude'] != None:\n",
      "KeyError: 'latitude'\n",
      "Traceback (most recent call last):\n"
     ]
    },
    {
     "name": "stdout",
     "output_type": "stream",
     "text": [
      "\n",
      "caught error in body, continuing: 'latitude'"
     ]
    },
    {
     "name": "stderr",
     "output_type": "stream",
     "text": [
      "  File \"<ipython-input-2-872ebd74c558>\", line 26, in search_instagram_tag\n",
      "    if insta_post['location']['latitude'] != None and insta_post['location']['longitude'] != None:\n",
      "KeyError: 'latitude'\n",
      "Traceback (most recent call last):\n"
     ]
    },
    {
     "name": "stdout",
     "output_type": "stream",
     "text": [
      "\n",
      "caught error in body, continuing: 'NoneType' object has no attribute '__getitem__'"
     ]
    },
    {
     "name": "stderr",
     "output_type": "stream",
     "text": [
      "  File \"<ipython-input-2-872ebd74c558>\", line 26, in search_instagram_tag\n",
      "    if insta_post['location']['latitude'] != None and insta_post['location']['longitude'] != None:\n",
      "KeyError: 'latitude'\n",
      "Traceback (most recent call last):\n"
     ]
    },
    {
     "name": "stdout",
     "output_type": "stream",
     "text": [
      "\n",
      "caught error in body, continuing: 'NoneType' object has no attribute '__getitem__'"
     ]
    },
    {
     "name": "stderr",
     "output_type": "stream",
     "text": [
      "  File \"<ipython-input-2-872ebd74c558>\", line 28, in search_instagram_tag\n",
      "    int(insta_post['caption']['created_time'])\n",
      "TypeError: 'NoneType' object has no attribute '__getitem__'\n",
      "Traceback (most recent call last):\n"
     ]
    },
    {
     "name": "stdout",
     "output_type": "stream",
     "text": [
      "\n",
      "caught error in body, continuing: 'latitude'"
     ]
    },
    {
     "name": "stderr",
     "output_type": "stream",
     "text": [
      "  File \"<ipython-input-2-872ebd74c558>\", line 28, in search_instagram_tag\n",
      "    int(insta_post['caption']['created_time'])\n",
      "TypeError: 'NoneType' object has no attribute '__getitem__'\n",
      "Traceback (most recent call last):\n"
     ]
    },
    {
     "name": "stdout",
     "output_type": "stream",
     "text": [
      "\n",
      "caught error in body, continuing: 'latitude'"
     ]
    },
    {
     "name": "stderr",
     "output_type": "stream",
     "text": [
      "  File \"<ipython-input-2-872ebd74c558>\", line 26, in search_instagram_tag\n",
      "    if insta_post['location']['latitude'] != None and insta_post['location']['longitude'] != None:\n",
      "KeyError: 'latitude'\n",
      "Traceback (most recent call last):\n"
     ]
    },
    {
     "name": "stdout",
     "output_type": "stream",
     "text": [
      "\n",
      "caught error in body, continuing: 'latitude'"
     ]
    },
    {
     "name": "stderr",
     "output_type": "stream",
     "text": [
      "  File \"<ipython-input-2-872ebd74c558>\", line 26, in search_instagram_tag\n",
      "    if insta_post['location']['latitude'] != None and insta_post['location']['longitude'] != None:\n",
      "KeyError: 'latitude'\n",
      "Traceback (most recent call last):\n"
     ]
    },
    {
     "name": "stdout",
     "output_type": "stream",
     "text": [
      "\n",
      "caught error in body, continuing: 'latitude'"
     ]
    },
    {
     "name": "stderr",
     "output_type": "stream",
     "text": [
      "  File \"<ipython-input-2-872ebd74c558>\", line 26, in search_instagram_tag\n",
      "    if insta_post['location']['latitude'] != None and insta_post['location']['longitude'] != None:\n",
      "KeyError: 'latitude'\n",
      "Traceback (most recent call last):\n"
     ]
    },
    {
     "name": "stdout",
     "output_type": "stream",
     "text": [
      "\n",
      "caught error in body, continuing: 'latitude'\n",
      "caught error in body, continuing: 'latitude'"
     ]
    },
    {
     "name": "stderr",
     "output_type": "stream",
     "text": [
      "  File \"<ipython-input-2-872ebd74c558>\", line 26, in search_instagram_tag\n",
      "    if insta_post['location']['latitude'] != None and insta_post['location']['longitude'] != None:\n",
      "KeyError: 'latitude'\n",
      "Traceback (most recent call last):\n",
      "  File \"<ipython-input-2-872ebd74c558>\", line 26, in search_instagram_tag\n",
      "    if insta_post['location']['latitude'] != None and insta_post['location']['longitude'] != None:\n",
      "KeyError: 'latitude'\n",
      "Traceback (most recent call last):\n"
     ]
    },
    {
     "name": "stdout",
     "output_type": "stream",
     "text": [
      "\n",
      "caught error in body, continuing: 'latitude'"
     ]
    },
    {
     "name": "stderr",
     "output_type": "stream",
     "text": [
      "  File \"<ipython-input-2-872ebd74c558>\", line 26, in search_instagram_tag\n",
      "    if insta_post['location']['latitude'] != None and insta_post['location']['longitude'] != None:\n",
      "KeyError: 'latitude'\n",
      "Traceback (most recent call last):\n"
     ]
    },
    {
     "name": "stdout",
     "output_type": "stream",
     "text": [
      "\n",
      "caught error in body, continuing: 'latitude'\n",
      "caught error in body, continuing: 'latitude'"
     ]
    },
    {
     "name": "stderr",
     "output_type": "stream",
     "text": [
      "  File \"<ipython-input-2-872ebd74c558>\", line 26, in search_instagram_tag\n",
      "    if insta_post['location']['latitude'] != None and insta_post['location']['longitude'] != None:\n",
      "KeyError: 'latitude'\n",
      "Traceback (most recent call last):\n",
      "  File \"<ipython-input-2-872ebd74c558>\", line 26, in search_instagram_tag\n",
      "    if insta_post['location']['latitude'] != None and insta_post['location']['longitude'] != None:\n",
      "KeyError: 'latitude'\n",
      "Traceback (most recent call last):\n"
     ]
    },
    {
     "name": "stdout",
     "output_type": "stream",
     "text": [
      "\n",
      "caught error in body, continuing: 'latitude'"
     ]
    },
    {
     "name": "stderr",
     "output_type": "stream",
     "text": [
      "  File \"<ipython-input-2-872ebd74c558>\", line 26, in search_instagram_tag\n",
      "    if insta_post['location']['latitude'] != None and insta_post['location']['longitude'] != None:\n",
      "KeyError: 'latitude'\n",
      "Traceback (most recent call last):\n"
     ]
    },
    {
     "name": "stdout",
     "output_type": "stream",
     "text": [
      "\n",
      "caught error in body, continuing: 'latitude'"
     ]
    },
    {
     "name": "stderr",
     "output_type": "stream",
     "text": [
      "  File \"<ipython-input-2-872ebd74c558>\", line 26, in search_instagram_tag\n",
      "    if insta_post['location']['latitude'] != None and insta_post['location']['longitude'] != None:\n",
      "KeyError: 'latitude'\n",
      "Traceback (most recent call last):\n"
     ]
    },
    {
     "name": "stdout",
     "output_type": "stream",
     "text": [
      "\n",
      "caught error in body, continuing: 'latitude'"
     ]
    },
    {
     "name": "stderr",
     "output_type": "stream",
     "text": [
      "  File \"<ipython-input-2-872ebd74c558>\", line 26, in search_instagram_tag\n",
      "    if insta_post['location']['latitude'] != None and insta_post['location']['longitude'] != None:\n",
      "KeyError: 'latitude'\n",
      "Traceback (most recent call last):\n"
     ]
    },
    {
     "name": "stdout",
     "output_type": "stream",
     "text": [
      "\n",
      "caught error in body, continuing: 'latitude'"
     ]
    },
    {
     "name": "stderr",
     "output_type": "stream",
     "text": [
      "  File \"<ipython-input-2-872ebd74c558>\", line 26, in search_instagram_tag\n",
      "    if insta_post['location']['latitude'] != None and insta_post['location']['longitude'] != None:\n",
      "KeyError: 'latitude'\n",
      "Traceback (most recent call last):\n"
     ]
    },
    {
     "name": "stdout",
     "output_type": "stream",
     "text": [
      "\n",
      "caught error in body, continuing: 'latitude'"
     ]
    },
    {
     "name": "stderr",
     "output_type": "stream",
     "text": [
      "  File \"<ipython-input-2-872ebd74c558>\", line 26, in search_instagram_tag\n",
      "    if insta_post['location']['latitude'] != None and insta_post['location']['longitude'] != None:\n",
      "KeyError: 'latitude'\n",
      "Traceback (most recent call last):\n"
     ]
    },
    {
     "name": "stdout",
     "output_type": "stream",
     "text": [
      "\n",
      "caught error in body, continuing: 'latitude'"
     ]
    },
    {
     "name": "stderr",
     "output_type": "stream",
     "text": [
      "  File \"<ipython-input-2-872ebd74c558>\", line 26, in search_instagram_tag\n",
      "    if insta_post['location']['latitude'] != None and insta_post['location']['longitude'] != None:\n",
      "KeyError: 'latitude'\n",
      "Traceback (most recent call last):\n"
     ]
    },
    {
     "name": "stdout",
     "output_type": "stream",
     "text": [
      "\n",
      "caught error in body, continuing: 'latitude'"
     ]
    },
    {
     "name": "stderr",
     "output_type": "stream",
     "text": [
      "  File \"<ipython-input-2-872ebd74c558>\", line 26, in search_instagram_tag\n",
      "    if insta_post['location']['latitude'] != None and insta_post['location']['longitude'] != None:\n",
      "KeyError: 'latitude'\n",
      "Traceback (most recent call last):\n"
     ]
    },
    {
     "name": "stdout",
     "output_type": "stream",
     "text": [
      "\n",
      "caught error in body, continuing: 'latitude'"
     ]
    },
    {
     "name": "stderr",
     "output_type": "stream",
     "text": [
      "  File \"<ipython-input-2-872ebd74c558>\", line 26, in search_instagram_tag\n",
      "    if insta_post['location']['latitude'] != None and insta_post['location']['longitude'] != None:\n",
      "KeyError: 'latitude'\n",
      "Traceback (most recent call last):\n"
     ]
    },
    {
     "name": "stdout",
     "output_type": "stream",
     "text": [
      "\n",
      "caught error in body, continuing: 'latitude'"
     ]
    },
    {
     "name": "stderr",
     "output_type": "stream",
     "text": [
      "  File \"<ipython-input-2-872ebd74c558>\", line 26, in search_instagram_tag\n",
      "    if insta_post['location']['latitude'] != None and insta_post['location']['longitude'] != None:\n",
      "KeyError: 'latitude'\n",
      "Traceback (most recent call last):\n"
     ]
    },
    {
     "name": "stdout",
     "output_type": "stream",
     "text": [
      "\n",
      "caught error in body, continuing: 'latitude'"
     ]
    },
    {
     "name": "stderr",
     "output_type": "stream",
     "text": [
      "  File \"<ipython-input-2-872ebd74c558>\", line 26, in search_instagram_tag\n",
      "    if insta_post['location']['latitude'] != None and insta_post['location']['longitude'] != None:\n",
      "KeyError: 'latitude'\n",
      "Traceback (most recent call last):\n"
     ]
    },
    {
     "name": "stdout",
     "output_type": "stream",
     "text": [
      "\n",
      "caught error in body, continuing: 'latitude'\n",
      "caught error in body, continuing: 'latitude'"
     ]
    },
    {
     "name": "stderr",
     "output_type": "stream",
     "text": [
      "  File \"<ipython-input-2-872ebd74c558>\", line 26, in search_instagram_tag\n",
      "    if insta_post['location']['latitude'] != None and insta_post['location']['longitude'] != None:\n",
      "KeyError: 'latitude'\n",
      "Traceback (most recent call last):\n",
      "  File \"<ipython-input-2-872ebd74c558>\", line 26, in search_instagram_tag\n",
      "    if insta_post['location']['latitude'] != None and insta_post['location']['longitude'] != None:\n",
      "KeyError: 'latitude'\n",
      "Traceback (most recent call last):\n"
     ]
    },
    {
     "name": "stdout",
     "output_type": "stream",
     "text": [
      "\n",
      "caught error in body, continuing: 'latitude'"
     ]
    },
    {
     "name": "stderr",
     "output_type": "stream",
     "text": [
      "  File \"<ipython-input-2-872ebd74c558>\", line 26, in search_instagram_tag\n",
      "    if insta_post['location']['latitude'] != None and insta_post['location']['longitude'] != None:\n",
      "KeyError: 'latitude'\n",
      "Traceback (most recent call last):\n"
     ]
    },
    {
     "name": "stdout",
     "output_type": "stream",
     "text": [
      "\n",
      "caught error in body, continuing: 'latitude'"
     ]
    },
    {
     "name": "stderr",
     "output_type": "stream",
     "text": [
      "  File \"<ipython-input-2-872ebd74c558>\", line 26, in search_instagram_tag\n",
      "    if insta_post['location']['latitude'] != None and insta_post['location']['longitude'] != None:\n",
      "KeyError: 'latitude'\n",
      "Traceback (most recent call last):\n"
     ]
    },
    {
     "name": "stdout",
     "output_type": "stream",
     "text": [
      "\n",
      "caught error in body, continuing: 'latitude'"
     ]
    },
    {
     "name": "stderr",
     "output_type": "stream",
     "text": [
      "  File \"<ipython-input-2-872ebd74c558>\", line 26, in search_instagram_tag\n",
      "    if insta_post['location']['latitude'] != None and insta_post['location']['longitude'] != None:\n",
      "KeyError: 'latitude'\n",
      "Traceback (most recent call last):\n"
     ]
    },
    {
     "name": "stdout",
     "output_type": "stream",
     "text": [
      "\n",
      "caught error in body, continuing: 'latitude'"
     ]
    },
    {
     "name": "stderr",
     "output_type": "stream",
     "text": [
      "  File \"<ipython-input-2-872ebd74c558>\", line 26, in search_instagram_tag\n",
      "    if insta_post['location']['latitude'] != None and insta_post['location']['longitude'] != None:\n",
      "KeyError: 'latitude'\n",
      "Traceback (most recent call last):\n"
     ]
    },
    {
     "name": "stdout",
     "output_type": "stream",
     "text": [
      "\n",
      "caught error in body, continuing: 'latitude'\n",
      "caught error in body, continuing: 'latitude'"
     ]
    },
    {
     "name": "stderr",
     "output_type": "stream",
     "text": [
      "  File \"<ipython-input-2-872ebd74c558>\", line 26, in search_instagram_tag\n",
      "    if insta_post['location']['latitude'] != None and insta_post['location']['longitude'] != None:\n",
      "KeyError: 'latitude'\n",
      "Traceback (most recent call last):\n",
      "  File \"<ipython-input-2-872ebd74c558>\", line 26, in search_instagram_tag\n",
      "    if insta_post['location']['latitude'] != None and insta_post['location']['longitude'] != None:\n",
      "KeyError: 'latitude'\n",
      "Traceback (most recent call last):\n"
     ]
    },
    {
     "name": "stdout",
     "output_type": "stream",
     "text": [
      "\n",
      "caught error in body, continuing: 'latitude'"
     ]
    },
    {
     "name": "stderr",
     "output_type": "stream",
     "text": [
      "  File \"<ipython-input-2-872ebd74c558>\", line 26, in search_instagram_tag\n",
      "    if insta_post['location']['latitude'] != None and insta_post['location']['longitude'] != None:\n",
      "KeyError: 'latitude'\n",
      "Traceback (most recent call last):\n"
     ]
    },
    {
     "name": "stdout",
     "output_type": "stream",
     "text": [
      "\n",
      "caught error in body, continuing: 'latitude'"
     ]
    },
    {
     "name": "stderr",
     "output_type": "stream",
     "text": [
      "  File \"<ipython-input-2-872ebd74c558>\", line 26, in search_instagram_tag\n",
      "    if insta_post['location']['latitude'] != None and insta_post['location']['longitude'] != None:\n",
      "KeyError: 'latitude'\n",
      "Traceback (most recent call last):\n"
     ]
    },
    {
     "name": "stdout",
     "output_type": "stream",
     "text": [
      "\n",
      "caught error in body, continuing: 'latitude'"
     ]
    },
    {
     "name": "stderr",
     "output_type": "stream",
     "text": [
      "  File \"<ipython-input-2-872ebd74c558>\", line 26, in search_instagram_tag\n",
      "    if insta_post['location']['latitude'] != None and insta_post['location']['longitude'] != None:\n",
      "KeyError: 'latitude'\n",
      "Traceback (most recent call last):\n"
     ]
    },
    {
     "name": "stdout",
     "output_type": "stream",
     "text": [
      "\n",
      "caught error in body, continuing: 'latitude'"
     ]
    },
    {
     "name": "stderr",
     "output_type": "stream",
     "text": [
      "  File \"<ipython-input-2-872ebd74c558>\", line 26, in search_instagram_tag\n",
      "    if insta_post['location']['latitude'] != None and insta_post['location']['longitude'] != None:\n",
      "KeyError: 'latitude'\n",
      "Traceback (most recent call last):\n"
     ]
    },
    {
     "name": "stdout",
     "output_type": "stream",
     "text": [
      "\n",
      "caught error in body, continuing: 'latitude'"
     ]
    },
    {
     "name": "stderr",
     "output_type": "stream",
     "text": [
      "  File \"<ipython-input-2-872ebd74c558>\", line 26, in search_instagram_tag\n",
      "    if insta_post['location']['latitude'] != None and insta_post['location']['longitude'] != None:\n",
      "KeyError: 'latitude'\n",
      "Traceback (most recent call last):\n"
     ]
    },
    {
     "name": "stdout",
     "output_type": "stream",
     "text": [
      "\n",
      "caught error in body, continuing: 'latitude'"
     ]
    },
    {
     "name": "stderr",
     "output_type": "stream",
     "text": [
      "  File \"<ipython-input-2-872ebd74c558>\", line 26, in search_instagram_tag\n",
      "    if insta_post['location']['latitude'] != None and insta_post['location']['longitude'] != None:\n",
      "KeyError: 'latitude'\n",
      "Traceback (most recent call last):\n"
     ]
    },
    {
     "name": "stdout",
     "output_type": "stream",
     "text": [
      "\n",
      "caught error in body, continuing: 'latitude'"
     ]
    },
    {
     "name": "stderr",
     "output_type": "stream",
     "text": [
      "  File \"<ipython-input-2-872ebd74c558>\", line 26, in search_instagram_tag\n",
      "    if insta_post['location']['latitude'] != None and insta_post['location']['longitude'] != None:\n",
      "KeyError: 'latitude'\n",
      "Traceback (most recent call last):\n"
     ]
    },
    {
     "name": "stdout",
     "output_type": "stream",
     "text": [
      "\n",
      "caught error in body, continuing: 'latitude'"
     ]
    },
    {
     "name": "stderr",
     "output_type": "stream",
     "text": [
      "  File \"<ipython-input-2-872ebd74c558>\", line 26, in search_instagram_tag\n",
      "    if insta_post['location']['latitude'] != None and insta_post['location']['longitude'] != None:\n",
      "KeyError: 'latitude'\n",
      "Traceback (most recent call last):\n"
     ]
    },
    {
     "name": "stdout",
     "output_type": "stream",
     "text": [
      "\n",
      "caught error in body, continuing: 'latitude'"
     ]
    },
    {
     "name": "stderr",
     "output_type": "stream",
     "text": [
      "  File \"<ipython-input-2-872ebd74c558>\", line 26, in search_instagram_tag\n",
      "    if insta_post['location']['latitude'] != None and insta_post['location']['longitude'] != None:\n",
      "KeyError: 'latitude'\n",
      "Traceback (most recent call last):\n"
     ]
    },
    {
     "name": "stdout",
     "output_type": "stream",
     "text": [
      "\n",
      "caught error in body, continuing: 'latitude'"
     ]
    },
    {
     "name": "stderr",
     "output_type": "stream",
     "text": [
      "  File \"<ipython-input-2-872ebd74c558>\", line 26, in search_instagram_tag\n",
      "    if insta_post['location']['latitude'] != None and insta_post['location']['longitude'] != None:\n",
      "KeyError: 'latitude'\n",
      "Traceback (most recent call last):\n"
     ]
    },
    {
     "name": "stdout",
     "output_type": "stream",
     "text": [
      "\n",
      "caught error in body, continuing: 'latitude'"
     ]
    },
    {
     "name": "stderr",
     "output_type": "stream",
     "text": [
      "  File \"<ipython-input-2-872ebd74c558>\", line 26, in search_instagram_tag\n",
      "    if insta_post['location']['latitude'] != None and insta_post['location']['longitude'] != None:\n",
      "KeyError: 'latitude'\n",
      "Traceback (most recent call last):\n"
     ]
    },
    {
     "name": "stdout",
     "output_type": "stream",
     "text": [
      "\n",
      "caught error in body, continuing: 'NoneType' object has no attribute '__getitem__'"
     ]
    },
    {
     "name": "stderr",
     "output_type": "stream",
     "text": [
      "  File \"<ipython-input-2-872ebd74c558>\", line 26, in search_instagram_tag\n",
      "    if insta_post['location']['latitude'] != None and insta_post['location']['longitude'] != None:\n",
      "KeyError: 'latitude'\n",
      "Traceback (most recent call last):\n"
     ]
    },
    {
     "name": "stdout",
     "output_type": "stream",
     "text": [
      "\n",
      "caught error in body, continuing: 'latitude'"
     ]
    },
    {
     "name": "stderr",
     "output_type": "stream",
     "text": [
      "  File \"<ipython-input-2-872ebd74c558>\", line 28, in search_instagram_tag\n",
      "    int(insta_post['caption']['created_time'])\n",
      "TypeError: 'NoneType' object has no attribute '__getitem__'\n",
      "Traceback (most recent call last):\n"
     ]
    },
    {
     "name": "stdout",
     "output_type": "stream",
     "text": [
      "\n",
      "caught error in body, continuing: 'latitude'"
     ]
    },
    {
     "name": "stderr",
     "output_type": "stream",
     "text": [
      "  File \"<ipython-input-2-872ebd74c558>\", line 26, in search_instagram_tag\n",
      "    if insta_post['location']['latitude'] != None and insta_post['location']['longitude'] != None:\n",
      "KeyError: 'latitude'\n",
      "Traceback (most recent call last):\n"
     ]
    },
    {
     "name": "stdout",
     "output_type": "stream",
     "text": [
      "\n",
      "caught error in body, continuing: 'latitude'"
     ]
    },
    {
     "name": "stderr",
     "output_type": "stream",
     "text": [
      "  File \"<ipython-input-2-872ebd74c558>\", line 26, in search_instagram_tag\n",
      "    if insta_post['location']['latitude'] != None and insta_post['location']['longitude'] != None:\n",
      "KeyError: 'latitude'\n",
      "Traceback (most recent call last):\n"
     ]
    },
    {
     "name": "stdout",
     "output_type": "stream",
     "text": [
      "\n",
      "caught error in body, continuing: 'latitude'"
     ]
    },
    {
     "name": "stderr",
     "output_type": "stream",
     "text": [
      "  File \"<ipython-input-2-872ebd74c558>\", line 26, in search_instagram_tag\n",
      "    if insta_post['location']['latitude'] != None and insta_post['location']['longitude'] != None:\n",
      "KeyError: 'latitude'\n",
      "Traceback (most recent call last):\n"
     ]
    },
    {
     "name": "stdout",
     "output_type": "stream",
     "text": [
      "\n",
      "caught error in body, continuing: 'latitude'"
     ]
    },
    {
     "name": "stderr",
     "output_type": "stream",
     "text": [
      "  File \"<ipython-input-2-872ebd74c558>\", line 26, in search_instagram_tag\n",
      "    if insta_post['location']['latitude'] != None and insta_post['location']['longitude'] != None:\n",
      "KeyError: 'latitude'\n",
      "Traceback (most recent call last):\n"
     ]
    },
    {
     "name": "stdout",
     "output_type": "stream",
     "text": [
      "\n",
      "caught error in body, continuing: 'latitude'"
     ]
    },
    {
     "name": "stderr",
     "output_type": "stream",
     "text": [
      "  File \"<ipython-input-2-872ebd74c558>\", line 26, in search_instagram_tag\n",
      "    if insta_post['location']['latitude'] != None and insta_post['location']['longitude'] != None:\n",
      "KeyError: 'latitude'\n",
      "Traceback (most recent call last):\n"
     ]
    },
    {
     "name": "stdout",
     "output_type": "stream",
     "text": [
      "\n",
      "caught error in body, continuing: 'latitude'"
     ]
    },
    {
     "name": "stderr",
     "output_type": "stream",
     "text": [
      "  File \"<ipython-input-2-872ebd74c558>\", line 26, in search_instagram_tag\n",
      "    if insta_post['location']['latitude'] != None and insta_post['location']['longitude'] != None:\n",
      "KeyError: 'latitude'\n",
      "Traceback (most recent call last):\n"
     ]
    },
    {
     "name": "stdout",
     "output_type": "stream",
     "text": [
      "\n",
      "caught error in body, continuing: 'latitude'"
     ]
    },
    {
     "name": "stderr",
     "output_type": "stream",
     "text": [
      "  File \"<ipython-input-2-872ebd74c558>\", line 26, in search_instagram_tag\n",
      "    if insta_post['location']['latitude'] != None and insta_post['location']['longitude'] != None:\n",
      "KeyError: 'latitude'\n",
      "Traceback (most recent call last):\n"
     ]
    },
    {
     "name": "stdout",
     "output_type": "stream",
     "text": [
      "\n",
      "caught error in body, continuing: 'latitude'"
     ]
    },
    {
     "name": "stderr",
     "output_type": "stream",
     "text": [
      "  File \"<ipython-input-2-872ebd74c558>\", line 26, in search_instagram_tag\n",
      "    if insta_post['location']['latitude'] != None and insta_post['location']['longitude'] != None:\n",
      "KeyError: 'latitude'\n",
      "Traceback (most recent call last):\n"
     ]
    },
    {
     "name": "stdout",
     "output_type": "stream",
     "text": [
      "\n",
      "caught error in body, continuing: 'latitude'"
     ]
    },
    {
     "name": "stderr",
     "output_type": "stream",
     "text": [
      "  File \"<ipython-input-2-872ebd74c558>\", line 26, in search_instagram_tag\n",
      "    if insta_post['location']['latitude'] != None and insta_post['location']['longitude'] != None:\n",
      "KeyError: 'latitude'\n",
      "Traceback (most recent call last):\n"
     ]
    },
    {
     "name": "stdout",
     "output_type": "stream",
     "text": [
      "\n",
      "caught error in body, continuing: 'latitude'"
     ]
    },
    {
     "name": "stderr",
     "output_type": "stream",
     "text": [
      "  File \"<ipython-input-2-872ebd74c558>\", line 26, in search_instagram_tag\n",
      "    if insta_post['location']['latitude'] != None and insta_post['location']['longitude'] != None:\n",
      "KeyError: 'latitude'\n",
      "Traceback (most recent call last):\n"
     ]
    },
    {
     "name": "stdout",
     "output_type": "stream",
     "text": [
      "\n",
      "caught error in body, continuing: 'latitude'"
     ]
    },
    {
     "name": "stderr",
     "output_type": "stream",
     "text": [
      "  File \"<ipython-input-2-872ebd74c558>\", line 26, in search_instagram_tag\n",
      "    if insta_post['location']['latitude'] != None and insta_post['location']['longitude'] != None:\n",
      "KeyError: 'latitude'\n",
      "Traceback (most recent call last):\n"
     ]
    },
    {
     "name": "stdout",
     "output_type": "stream",
     "text": [
      "\n",
      "caught error in body, continuing: 'latitude'"
     ]
    },
    {
     "name": "stderr",
     "output_type": "stream",
     "text": [
      "  File \"<ipython-input-2-872ebd74c558>\", line 26, in search_instagram_tag\n",
      "    if insta_post['location']['latitude'] != None and insta_post['location']['longitude'] != None:\n",
      "KeyError: 'latitude'\n",
      "Traceback (most recent call last):\n"
     ]
    },
    {
     "name": "stdout",
     "output_type": "stream",
     "text": [
      "\n",
      "caught error in body, continuing: 'latitude'"
     ]
    },
    {
     "name": "stderr",
     "output_type": "stream",
     "text": [
      "  File \"<ipython-input-2-872ebd74c558>\", line 26, in search_instagram_tag\n",
      "    if insta_post['location']['latitude'] != None and insta_post['location']['longitude'] != None:\n",
      "KeyError: 'latitude'\n",
      "Traceback (most recent call last):\n"
     ]
    },
    {
     "name": "stdout",
     "output_type": "stream",
     "text": [
      "\n",
      "caught error in body, continuing: 'latitude'"
     ]
    },
    {
     "name": "stderr",
     "output_type": "stream",
     "text": [
      "  File \"<ipython-input-2-872ebd74c558>\", line 26, in search_instagram_tag\n",
      "    if insta_post['location']['latitude'] != None and insta_post['location']['longitude'] != None:\n",
      "KeyError: 'latitude'\n",
      "Traceback (most recent call last):\n"
     ]
    },
    {
     "name": "stdout",
     "output_type": "stream",
     "text": [
      "\n",
      "caught error in body, continuing: 'latitude'"
     ]
    },
    {
     "name": "stderr",
     "output_type": "stream",
     "text": [
      "  File \"<ipython-input-2-872ebd74c558>\", line 26, in search_instagram_tag\n",
      "    if insta_post['location']['latitude'] != None and insta_post['location']['longitude'] != None:\n",
      "KeyError: 'latitude'\n",
      "Traceback (most recent call last):\n"
     ]
    },
    {
     "name": "stdout",
     "output_type": "stream",
     "text": [
      "\n",
      "caught error in body, continuing: 'latitude'"
     ]
    },
    {
     "name": "stderr",
     "output_type": "stream",
     "text": [
      "  File \"<ipython-input-2-872ebd74c558>\", line 26, in search_instagram_tag\n",
      "    if insta_post['location']['latitude'] != None and insta_post['location']['longitude'] != None:\n",
      "KeyError: 'latitude'\n",
      "Traceback (most recent call last):\n"
     ]
    },
    {
     "name": "stdout",
     "output_type": "stream",
     "text": [
      "\n",
      "caught error in body, continuing: 'NoneType' object has no attribute '__getitem__'"
     ]
    },
    {
     "name": "stderr",
     "output_type": "stream",
     "text": [
      "  File \"<ipython-input-2-872ebd74c558>\", line 26, in search_instagram_tag\n",
      "    if insta_post['location']['latitude'] != None and insta_post['location']['longitude'] != None:\n",
      "KeyError: 'latitude'\n",
      "Traceback (most recent call last):\n"
     ]
    },
    {
     "name": "stdout",
     "output_type": "stream",
     "text": [
      "\n",
      "caught error in body, continuing: 'latitude'"
     ]
    },
    {
     "name": "stderr",
     "output_type": "stream",
     "text": [
      "  File \"<ipython-input-2-872ebd74c558>\", line 28, in search_instagram_tag\n",
      "    int(insta_post['caption']['created_time'])\n",
      "TypeError: 'NoneType' object has no attribute '__getitem__'\n",
      "Traceback (most recent call last):\n"
     ]
    },
    {
     "name": "stdout",
     "output_type": "stream",
     "text": [
      "\n",
      "caught error in body, continuing: 'latitude'"
     ]
    },
    {
     "name": "stderr",
     "output_type": "stream",
     "text": [
      "  File \"<ipython-input-2-872ebd74c558>\", line 26, in search_instagram_tag\n",
      "    if insta_post['location']['latitude'] != None and insta_post['location']['longitude'] != None:\n",
      "KeyError: 'latitude'\n",
      "Traceback (most recent call last):\n"
     ]
    },
    {
     "name": "stdout",
     "output_type": "stream",
     "text": [
      "\n",
      "caught error in body, continuing: 'latitude'"
     ]
    },
    {
     "name": "stderr",
     "output_type": "stream",
     "text": [
      "  File \"<ipython-input-2-872ebd74c558>\", line 26, in search_instagram_tag\n",
      "    if insta_post['location']['latitude'] != None and insta_post['location']['longitude'] != None:\n",
      "KeyError: 'latitude'\n",
      "Traceback (most recent call last):\n"
     ]
    },
    {
     "name": "stdout",
     "output_type": "stream",
     "text": [
      "\n",
      "caught error in body, continuing: 'latitude'"
     ]
    },
    {
     "name": "stderr",
     "output_type": "stream",
     "text": [
      "  File \"<ipython-input-2-872ebd74c558>\", line 26, in search_instagram_tag\n",
      "    if insta_post['location']['latitude'] != None and insta_post['location']['longitude'] != None:\n",
      "KeyError: 'latitude'\n",
      "Traceback (most recent call last):\n"
     ]
    },
    {
     "name": "stdout",
     "output_type": "stream",
     "text": [
      "\n",
      "caught error in body, continuing: 'latitude'"
     ]
    },
    {
     "name": "stderr",
     "output_type": "stream",
     "text": [
      "  File \"<ipython-input-2-872ebd74c558>\", line 26, in search_instagram_tag\n",
      "    if insta_post['location']['latitude'] != None and insta_post['location']['longitude'] != None:\n",
      "KeyError: 'latitude'\n",
      "Traceback (most recent call last):\n"
     ]
    },
    {
     "name": "stdout",
     "output_type": "stream",
     "text": [
      "\n",
      "caught error in body, continuing: 'latitude'"
     ]
    },
    {
     "name": "stderr",
     "output_type": "stream",
     "text": [
      "  File \"<ipython-input-2-872ebd74c558>\", line 26, in search_instagram_tag\n",
      "    if insta_post['location']['latitude'] != None and insta_post['location']['longitude'] != None:\n",
      "KeyError: 'latitude'\n",
      "Traceback (most recent call last):\n"
     ]
    },
    {
     "name": "stdout",
     "output_type": "stream",
     "text": [
      "\n",
      "caught error in body, continuing: 'latitude'"
     ]
    },
    {
     "name": "stderr",
     "output_type": "stream",
     "text": [
      "  File \"<ipython-input-2-872ebd74c558>\", line 26, in search_instagram_tag\n",
      "    if insta_post['location']['latitude'] != None and insta_post['location']['longitude'] != None:\n",
      "KeyError: 'latitude'\n",
      "Traceback (most recent call last):\n"
     ]
    },
    {
     "name": "stdout",
     "output_type": "stream",
     "text": [
      "\n",
      "caught error in body, continuing: 'latitude'"
     ]
    },
    {
     "name": "stderr",
     "output_type": "stream",
     "text": [
      "  File \"<ipython-input-2-872ebd74c558>\", line 26, in search_instagram_tag\n",
      "    if insta_post['location']['latitude'] != None and insta_post['location']['longitude'] != None:\n",
      "KeyError: 'latitude'\n",
      "Traceback (most recent call last):\n"
     ]
    },
    {
     "name": "stdout",
     "output_type": "stream",
     "text": [
      "\n",
      "caught error in body, continuing: 'latitude'"
     ]
    },
    {
     "name": "stderr",
     "output_type": "stream",
     "text": [
      "  File \"<ipython-input-2-872ebd74c558>\", line 26, in search_instagram_tag\n",
      "    if insta_post['location']['latitude'] != None and insta_post['location']['longitude'] != None:\n",
      "KeyError: 'latitude'\n",
      "Traceback (most recent call last):\n"
     ]
    },
    {
     "name": "stdout",
     "output_type": "stream",
     "text": [
      "\n",
      "caught error in body, continuing: 'latitude'"
     ]
    },
    {
     "name": "stderr",
     "output_type": "stream",
     "text": [
      "  File \"<ipython-input-2-872ebd74c558>\", line 26, in search_instagram_tag\n",
      "    if insta_post['location']['latitude'] != None and insta_post['location']['longitude'] != None:\n",
      "KeyError: 'latitude'\n",
      "Traceback (most recent call last):\n"
     ]
    },
    {
     "name": "stdout",
     "output_type": "stream",
     "text": [
      "\n",
      "caught error in body, continuing: 'latitude'"
     ]
    },
    {
     "name": "stderr",
     "output_type": "stream",
     "text": [
      "  File \"<ipython-input-2-872ebd74c558>\", line 26, in search_instagram_tag\n",
      "    if insta_post['location']['latitude'] != None and insta_post['location']['longitude'] != None:\n",
      "KeyError: 'latitude'\n",
      "Traceback (most recent call last):\n"
     ]
    },
    {
     "name": "stdout",
     "output_type": "stream",
     "text": [
      "\n",
      "caught error in body, continuing: 'latitude'"
     ]
    },
    {
     "name": "stderr",
     "output_type": "stream",
     "text": [
      "  File \"<ipython-input-2-872ebd74c558>\", line 26, in search_instagram_tag\n",
      "    if insta_post['location']['latitude'] != None and insta_post['location']['longitude'] != None:\n",
      "KeyError: 'latitude'\n",
      "Traceback (most recent call last):\n"
     ]
    },
    {
     "name": "stdout",
     "output_type": "stream",
     "text": [
      "\n",
      "caught error in body, continuing: 'latitude'"
     ]
    },
    {
     "name": "stderr",
     "output_type": "stream",
     "text": [
      "  File \"<ipython-input-2-872ebd74c558>\", line 26, in search_instagram_tag\n",
      "    if insta_post['location']['latitude'] != None and insta_post['location']['longitude'] != None:\n",
      "KeyError: 'latitude'\n",
      "Traceback (most recent call last):\n"
     ]
    },
    {
     "name": "stdout",
     "output_type": "stream",
     "text": [
      "\n",
      "caught error in body, continuing: 'latitude'"
     ]
    },
    {
     "name": "stderr",
     "output_type": "stream",
     "text": [
      "  File \"<ipython-input-2-872ebd74c558>\", line 26, in search_instagram_tag\n",
      "    if insta_post['location']['latitude'] != None and insta_post['location']['longitude'] != None:\n",
      "KeyError: 'latitude'\n",
      "Traceback (most recent call last):\n"
     ]
    },
    {
     "name": "stdout",
     "output_type": "stream",
     "text": [
      "\n",
      "caught error in body, continuing: 'latitude'"
     ]
    },
    {
     "name": "stderr",
     "output_type": "stream",
     "text": [
      "  File \"<ipython-input-2-872ebd74c558>\", line 26, in search_instagram_tag\n",
      "    if insta_post['location']['latitude'] != None and insta_post['location']['longitude'] != None:\n",
      "KeyError: 'latitude'\n",
      "Traceback (most recent call last):\n"
     ]
    },
    {
     "name": "stdout",
     "output_type": "stream",
     "text": [
      "\n",
      "caught error in body, continuing: 'latitude'"
     ]
    },
    {
     "name": "stderr",
     "output_type": "stream",
     "text": [
      "  File \"<ipython-input-2-872ebd74c558>\", line 26, in search_instagram_tag\n",
      "    if insta_post['location']['latitude'] != None and insta_post['location']['longitude'] != None:\n",
      "KeyError: 'latitude'\n",
      "Traceback (most recent call last):\n"
     ]
    },
    {
     "name": "stdout",
     "output_type": "stream",
     "text": [
      "\n",
      "caught error in body, continuing: 'latitude'"
     ]
    },
    {
     "name": "stderr",
     "output_type": "stream",
     "text": [
      "  File \"<ipython-input-2-872ebd74c558>\", line 26, in search_instagram_tag\n",
      "    if insta_post['location']['latitude'] != None and insta_post['location']['longitude'] != None:\n",
      "KeyError: 'latitude'\n",
      "Traceback (most recent call last):\n"
     ]
    },
    {
     "name": "stdout",
     "output_type": "stream",
     "text": [
      "\n",
      "caught error in body, continuing: 'latitude'"
     ]
    },
    {
     "name": "stderr",
     "output_type": "stream",
     "text": [
      "  File \"<ipython-input-2-872ebd74c558>\", line 26, in search_instagram_tag\n",
      "    if insta_post['location']['latitude'] != None and insta_post['location']['longitude'] != None:\n",
      "KeyError: 'latitude'\n",
      "Traceback (most recent call last):\n"
     ]
    },
    {
     "name": "stdout",
     "output_type": "stream",
     "text": [
      "\n",
      "caught error in body, continuing: 'latitude'"
     ]
    },
    {
     "name": "stderr",
     "output_type": "stream",
     "text": [
      "  File \"<ipython-input-2-872ebd74c558>\", line 26, in search_instagram_tag\n",
      "    if insta_post['location']['latitude'] != None and insta_post['location']['longitude'] != None:\n",
      "KeyError: 'latitude'\n",
      "Traceback (most recent call last):\n"
     ]
    },
    {
     "name": "stdout",
     "output_type": "stream",
     "text": [
      "\n",
      "caught error in body, continuing: 'latitude'"
     ]
    },
    {
     "name": "stderr",
     "output_type": "stream",
     "text": [
      "  File \"<ipython-input-2-872ebd74c558>\", line 26, in search_instagram_tag\n",
      "    if insta_post['location']['latitude'] != None and insta_post['location']['longitude'] != None:\n",
      "KeyError: 'latitude'\n",
      "Traceback (most recent call last):\n"
     ]
    },
    {
     "name": "stdout",
     "output_type": "stream",
     "text": [
      "\n",
      "caught error in body, continuing: 'NoneType' object has no attribute '__getitem__'\n",
      "caught error in body, continuing: 'latitude'"
     ]
    },
    {
     "name": "stderr",
     "output_type": "stream",
     "text": [
      "  File \"<ipython-input-2-872ebd74c558>\", line 26, in search_instagram_tag\n",
      "    if insta_post['location']['latitude'] != None and insta_post['location']['longitude'] != None:\n",
      "KeyError: 'latitude'\n",
      "Traceback (most recent call last):\n",
      "  File \"<ipython-input-2-872ebd74c558>\", line 28, in search_instagram_tag\n",
      "    int(insta_post['caption']['created_time'])\n",
      "TypeError: 'NoneType' object has no attribute '__getitem__'\n",
      "Traceback (most recent call last):\n"
     ]
    },
    {
     "name": "stdout",
     "output_type": "stream",
     "text": [
      "\n",
      "caught error in body, continuing: 'latitude'"
     ]
    },
    {
     "name": "stderr",
     "output_type": "stream",
     "text": [
      "  File \"<ipython-input-2-872ebd74c558>\", line 26, in search_instagram_tag\n",
      "    if insta_post['location']['latitude'] != None and insta_post['location']['longitude'] != None:\n",
      "KeyError: 'latitude'\n",
      "Traceback (most recent call last):\n"
     ]
    },
    {
     "name": "stdout",
     "output_type": "stream",
     "text": [
      "\n",
      "caught error in body, continuing: 'latitude'"
     ]
    },
    {
     "name": "stderr",
     "output_type": "stream",
     "text": [
      "  File \"<ipython-input-2-872ebd74c558>\", line 26, in search_instagram_tag\n",
      "    if insta_post['location']['latitude'] != None and insta_post['location']['longitude'] != None:\n",
      "KeyError: 'latitude'\n",
      "Traceback (most recent call last):\n"
     ]
    },
    {
     "name": "stdout",
     "output_type": "stream",
     "text": [
      "\n",
      "caught error in body, continuing: 'latitude'"
     ]
    },
    {
     "name": "stderr",
     "output_type": "stream",
     "text": [
      "  File \"<ipython-input-2-872ebd74c558>\", line 26, in search_instagram_tag\n",
      "    if insta_post['location']['latitude'] != None and insta_post['location']['longitude'] != None:\n",
      "KeyError: 'latitude'\n",
      "Traceback (most recent call last):\n"
     ]
    },
    {
     "name": "stdout",
     "output_type": "stream",
     "text": [
      "\n",
      "caught error in body, continuing: 'latitude'"
     ]
    },
    {
     "name": "stderr",
     "output_type": "stream",
     "text": [
      "  File \"<ipython-input-2-872ebd74c558>\", line 26, in search_instagram_tag\n",
      "    if insta_post['location']['latitude'] != None and insta_post['location']['longitude'] != None:\n",
      "KeyError: 'latitude'\n",
      "Traceback (most recent call last):\n"
     ]
    },
    {
     "name": "stdout",
     "output_type": "stream",
     "text": [
      "\n",
      "caught error in body, continuing: 'latitude'"
     ]
    },
    {
     "name": "stderr",
     "output_type": "stream",
     "text": [
      "  File \"<ipython-input-2-872ebd74c558>\", line 26, in search_instagram_tag\n",
      "    if insta_post['location']['latitude'] != None and insta_post['location']['longitude'] != None:\n",
      "KeyError: 'latitude'\n",
      "Traceback (most recent call last):\n"
     ]
    },
    {
     "name": "stdout",
     "output_type": "stream",
     "text": [
      "\n",
      "caught error in body, continuing: 'latitude'"
     ]
    },
    {
     "name": "stderr",
     "output_type": "stream",
     "text": [
      "  File \"<ipython-input-2-872ebd74c558>\", line 26, in search_instagram_tag\n",
      "    if insta_post['location']['latitude'] != None and insta_post['location']['longitude'] != None:\n",
      "KeyError: 'latitude'\n",
      "Traceback (most recent call last):\n"
     ]
    },
    {
     "name": "stdout",
     "output_type": "stream",
     "text": [
      "\n",
      "caught error in body, continuing: 'latitude'"
     ]
    },
    {
     "name": "stderr",
     "output_type": "stream",
     "text": [
      "  File \"<ipython-input-2-872ebd74c558>\", line 26, in search_instagram_tag\n",
      "    if insta_post['location']['latitude'] != None and insta_post['location']['longitude'] != None:\n",
      "KeyError: 'latitude'\n",
      "Traceback (most recent call last):\n"
     ]
    },
    {
     "name": "stdout",
     "output_type": "stream",
     "text": [
      "\n",
      "caught error in body, continuing: 'latitude'"
     ]
    },
    {
     "name": "stderr",
     "output_type": "stream",
     "text": [
      "  File \"<ipython-input-2-872ebd74c558>\", line 26, in search_instagram_tag\n",
      "    if insta_post['location']['latitude'] != None and insta_post['location']['longitude'] != None:\n",
      "KeyError: 'latitude'\n",
      "Traceback (most recent call last):\n"
     ]
    },
    {
     "name": "stdout",
     "output_type": "stream",
     "text": [
      "\n",
      "caught error in body, continuing: 'latitude'"
     ]
    },
    {
     "name": "stderr",
     "output_type": "stream",
     "text": [
      "  File \"<ipython-input-2-872ebd74c558>\", line 26, in search_instagram_tag\n",
      "    if insta_post['location']['latitude'] != None and insta_post['location']['longitude'] != None:\n",
      "KeyError: 'latitude'\n",
      "Traceback (most recent call last):\n"
     ]
    },
    {
     "name": "stdout",
     "output_type": "stream",
     "text": [
      "\n",
      "caught error in body, continuing: 'latitude'"
     ]
    },
    {
     "name": "stderr",
     "output_type": "stream",
     "text": [
      "  File \"<ipython-input-2-872ebd74c558>\", line 26, in search_instagram_tag\n",
      "    if insta_post['location']['latitude'] != None and insta_post['location']['longitude'] != None:\n",
      "KeyError: 'latitude'\n",
      "Traceback (most recent call last):\n"
     ]
    },
    {
     "name": "stdout",
     "output_type": "stream",
     "text": [
      "\n",
      "caught error in body, continuing: 'latitude'"
     ]
    },
    {
     "name": "stderr",
     "output_type": "stream",
     "text": [
      "  File \"<ipython-input-2-872ebd74c558>\", line 26, in search_instagram_tag\n",
      "    if insta_post['location']['latitude'] != None and insta_post['location']['longitude'] != None:\n",
      "KeyError: 'latitude'\n",
      "Traceback (most recent call last):\n"
     ]
    },
    {
     "name": "stdout",
     "output_type": "stream",
     "text": [
      "\n",
      "caught error in body, continuing: 'latitude'"
     ]
    },
    {
     "name": "stderr",
     "output_type": "stream",
     "text": [
      "  File \"<ipython-input-2-872ebd74c558>\", line 26, in search_instagram_tag\n",
      "    if insta_post['location']['latitude'] != None and insta_post['location']['longitude'] != None:\n",
      "KeyError: 'latitude'\n",
      "Traceback (most recent call last):\n"
     ]
    },
    {
     "name": "stdout",
     "output_type": "stream",
     "text": [
      "\n",
      "caught error in body, continuing: 'latitude'"
     ]
    },
    {
     "name": "stderr",
     "output_type": "stream",
     "text": [
      "  File \"<ipython-input-2-872ebd74c558>\", line 26, in search_instagram_tag\n",
      "    if insta_post['location']['latitude'] != None and insta_post['location']['longitude'] != None:\n",
      "KeyError: 'latitude'\n",
      "Traceback (most recent call last):\n"
     ]
    },
    {
     "name": "stdout",
     "output_type": "stream",
     "text": [
      "\n",
      "caught error in body, continuing: 'latitude'"
     ]
    },
    {
     "name": "stderr",
     "output_type": "stream",
     "text": [
      "  File \"<ipython-input-2-872ebd74c558>\", line 26, in search_instagram_tag\n",
      "    if insta_post['location']['latitude'] != None and insta_post['location']['longitude'] != None:\n",
      "KeyError: 'latitude'\n",
      "Traceback (most recent call last):\n"
     ]
    },
    {
     "name": "stdout",
     "output_type": "stream",
     "text": [
      "\n",
      "caught error in body, continuing: 'latitude'"
     ]
    },
    {
     "name": "stderr",
     "output_type": "stream",
     "text": [
      "  File \"<ipython-input-2-872ebd74c558>\", line 26, in search_instagram_tag\n",
      "    if insta_post['location']['latitude'] != None and insta_post['location']['longitude'] != None:\n",
      "KeyError: 'latitude'\n",
      "Traceback (most recent call last):\n"
     ]
    },
    {
     "name": "stdout",
     "output_type": "stream",
     "text": [
      "\n",
      "caught error in body, continuing: 'latitude'"
     ]
    },
    {
     "name": "stderr",
     "output_type": "stream",
     "text": [
      "  File \"<ipython-input-2-872ebd74c558>\", line 26, in search_instagram_tag\n",
      "    if insta_post['location']['latitude'] != None and insta_post['location']['longitude'] != None:\n",
      "KeyError: 'latitude'\n",
      "Traceback (most recent call last):\n"
     ]
    },
    {
     "name": "stdout",
     "output_type": "stream",
     "text": [
      "\n",
      "caught error in body, continuing: 'latitude'"
     ]
    },
    {
     "name": "stderr",
     "output_type": "stream",
     "text": [
      "  File \"<ipython-input-2-872ebd74c558>\", line 26, in search_instagram_tag\n",
      "    if insta_post['location']['latitude'] != None and insta_post['location']['longitude'] != None:\n",
      "KeyError: 'latitude'\n",
      "Traceback (most recent call last):\n"
     ]
    },
    {
     "name": "stdout",
     "output_type": "stream",
     "text": [
      "\n",
      "caught error in body, continuing: 'latitude'"
     ]
    },
    {
     "name": "stderr",
     "output_type": "stream",
     "text": [
      "  File \"<ipython-input-2-872ebd74c558>\", line 26, in search_instagram_tag\n",
      "    if insta_post['location']['latitude'] != None and insta_post['location']['longitude'] != None:\n",
      "KeyError: 'latitude'\n",
      "Traceback (most recent call last):\n"
     ]
    },
    {
     "name": "stdout",
     "output_type": "stream",
     "text": [
      "\n",
      "caught error in body, continuing: 'latitude'"
     ]
    },
    {
     "name": "stderr",
     "output_type": "stream",
     "text": [
      "  File \"<ipython-input-2-872ebd74c558>\", line 26, in search_instagram_tag\n",
      "    if insta_post['location']['latitude'] != None and insta_post['location']['longitude'] != None:\n",
      "KeyError: 'latitude'\n",
      "Traceback (most recent call last):\n"
     ]
    },
    {
     "name": "stdout",
     "output_type": "stream",
     "text": [
      "\n",
      "caught error in body, continuing: 'latitude'"
     ]
    },
    {
     "name": "stderr",
     "output_type": "stream",
     "text": [
      "  File \"<ipython-input-2-872ebd74c558>\", line 26, in search_instagram_tag\n",
      "    if insta_post['location']['latitude'] != None and insta_post['location']['longitude'] != None:\n",
      "KeyError: 'latitude'\n",
      "Traceback (most recent call last):\n"
     ]
    },
    {
     "name": "stdout",
     "output_type": "stream",
     "text": [
      "\n",
      "caught error in body, continuing: 'latitude'"
     ]
    },
    {
     "name": "stderr",
     "output_type": "stream",
     "text": [
      "  File \"<ipython-input-2-872ebd74c558>\", line 26, in search_instagram_tag\n",
      "    if insta_post['location']['latitude'] != None and insta_post['location']['longitude'] != None:\n",
      "KeyError: 'latitude'\n",
      "Traceback (most recent call last):\n"
     ]
    },
    {
     "name": "stdout",
     "output_type": "stream",
     "text": [
      "\n",
      "caught error in body, continuing: 'latitude'"
     ]
    },
    {
     "name": "stderr",
     "output_type": "stream",
     "text": [
      "  File \"<ipython-input-2-872ebd74c558>\", line 26, in search_instagram_tag\n",
      "    if insta_post['location']['latitude'] != None and insta_post['location']['longitude'] != None:\n",
      "KeyError: 'latitude'\n",
      "Traceback (most recent call last):\n"
     ]
    },
    {
     "name": "stdout",
     "output_type": "stream",
     "text": [
      "\n",
      "caught error in body, continuing: 'latitude'"
     ]
    },
    {
     "name": "stderr",
     "output_type": "stream",
     "text": [
      "  File \"<ipython-input-2-872ebd74c558>\", line 26, in search_instagram_tag\n",
      "    if insta_post['location']['latitude'] != None and insta_post['location']['longitude'] != None:\n",
      "KeyError: 'latitude'\n",
      "Traceback (most recent call last):\n"
     ]
    },
    {
     "name": "stdout",
     "output_type": "stream",
     "text": [
      "\n",
      "caught error in body, continuing: 'latitude'"
     ]
    },
    {
     "name": "stderr",
     "output_type": "stream",
     "text": [
      "  File \"<ipython-input-2-872ebd74c558>\", line 26, in search_instagram_tag\n",
      "    if insta_post['location']['latitude'] != None and insta_post['location']['longitude'] != None:\n",
      "KeyError: 'latitude'\n",
      "Traceback (most recent call last):\n"
     ]
    },
    {
     "name": "stdout",
     "output_type": "stream",
     "text": [
      "\n",
      "caught error in body, continuing: 'latitude'\n",
      "caught error in body, continuing: 'latitude'"
     ]
    },
    {
     "name": "stderr",
     "output_type": "stream",
     "text": [
      "  File \"<ipython-input-2-872ebd74c558>\", line 26, in search_instagram_tag\n",
      "    if insta_post['location']['latitude'] != None and insta_post['location']['longitude'] != None:\n",
      "KeyError: 'latitude'\n",
      "Traceback (most recent call last):\n",
      "  File \"<ipython-input-2-872ebd74c558>\", line 26, in search_instagram_tag\n",
      "    if insta_post['location']['latitude'] != None and insta_post['location']['longitude'] != None:\n",
      "KeyError: 'latitude'\n",
      "Traceback (most recent call last):\n"
     ]
    },
    {
     "name": "stdout",
     "output_type": "stream",
     "text": [
      "\n",
      "caught error in body, continuing: 'latitude'"
     ]
    },
    {
     "name": "stderr",
     "output_type": "stream",
     "text": [
      "  File \"<ipython-input-2-872ebd74c558>\", line 26, in search_instagram_tag\n",
      "    if insta_post['location']['latitude'] != None and insta_post['location']['longitude'] != None:\n",
      "KeyError: 'latitude'\n",
      "Traceback (most recent call last):\n"
     ]
    },
    {
     "name": "stdout",
     "output_type": "stream",
     "text": [
      "\n",
      "caught error in body, continuing: 'latitude'"
     ]
    },
    {
     "name": "stderr",
     "output_type": "stream",
     "text": [
      "  File \"<ipython-input-2-872ebd74c558>\", line 26, in search_instagram_tag\n",
      "    if insta_post['location']['latitude'] != None and insta_post['location']['longitude'] != None:\n",
      "KeyError: 'latitude'\n",
      "Traceback (most recent call last):\n"
     ]
    },
    {
     "name": "stdout",
     "output_type": "stream",
     "text": [
      "\n",
      "caught error in body, continuing: 'latitude'"
     ]
    },
    {
     "name": "stderr",
     "output_type": "stream",
     "text": [
      "  File \"<ipython-input-2-872ebd74c558>\", line 26, in search_instagram_tag\n",
      "    if insta_post['location']['latitude'] != None and insta_post['location']['longitude'] != None:\n",
      "KeyError: 'latitude'\n",
      "Traceback (most recent call last):\n"
     ]
    },
    {
     "name": "stdout",
     "output_type": "stream",
     "text": [
      "\n",
      "caught error in body, continuing: 'latitude'\n",
      "caught error in body, continuing: 'latitude'"
     ]
    },
    {
     "name": "stderr",
     "output_type": "stream",
     "text": [
      "  File \"<ipython-input-2-872ebd74c558>\", line 26, in search_instagram_tag\n",
      "    if insta_post['location']['latitude'] != None and insta_post['location']['longitude'] != None:\n",
      "KeyError: 'latitude'\n",
      "Traceback (most recent call last):\n",
      "  File \"<ipython-input-2-872ebd74c558>\", line 26, in search_instagram_tag\n",
      "    if insta_post['location']['latitude'] != None and insta_post['location']['longitude'] != None:\n",
      "KeyError: 'latitude'\n",
      "Traceback (most recent call last):\n"
     ]
    },
    {
     "name": "stdout",
     "output_type": "stream",
     "text": [
      "\n",
      "caught error in body, continuing: 'latitude'\n",
      "caught error in body, continuing: 'latitude'"
     ]
    },
    {
     "name": "stderr",
     "output_type": "stream",
     "text": [
      "  File \"<ipython-input-2-872ebd74c558>\", line 26, in search_instagram_tag\n",
      "    if insta_post['location']['latitude'] != None and insta_post['location']['longitude'] != None:\n",
      "KeyError: 'latitude'\n",
      "Traceback (most recent call last):\n",
      "  File \"<ipython-input-2-872ebd74c558>\", line 26, in search_instagram_tag\n",
      "    if insta_post['location']['latitude'] != None and insta_post['location']['longitude'] != None:\n",
      "KeyError: 'latitude'\n",
      "Traceback (most recent call last):\n"
     ]
    },
    {
     "name": "stdout",
     "output_type": "stream",
     "text": [
      "\n",
      "caught error in body, continuing: 'latitude'"
     ]
    },
    {
     "name": "stderr",
     "output_type": "stream",
     "text": [
      "  File \"<ipython-input-2-872ebd74c558>\", line 26, in search_instagram_tag\n",
      "    if insta_post['location']['latitude'] != None and insta_post['location']['longitude'] != None:\n",
      "KeyError: 'latitude'\n",
      "Traceback (most recent call last):\n"
     ]
    },
    {
     "name": "stdout",
     "output_type": "stream",
     "text": [
      "\n",
      "caught error in body, continuing: 'latitude'"
     ]
    },
    {
     "name": "stderr",
     "output_type": "stream",
     "text": [
      "  File \"<ipython-input-2-872ebd74c558>\", line 26, in search_instagram_tag\n",
      "    if insta_post['location']['latitude'] != None and insta_post['location']['longitude'] != None:\n",
      "KeyError: 'latitude'\n",
      "Traceback (most recent call last):\n"
     ]
    },
    {
     "name": "stdout",
     "output_type": "stream",
     "text": [
      "\n",
      "caught error in body, continuing: 'latitude'"
     ]
    },
    {
     "name": "stderr",
     "output_type": "stream",
     "text": [
      "  File \"<ipython-input-2-872ebd74c558>\", line 26, in search_instagram_tag\n",
      "    if insta_post['location']['latitude'] != None and insta_post['location']['longitude'] != None:\n",
      "KeyError: 'latitude'\n",
      "Traceback (most recent call last):\n"
     ]
    },
    {
     "name": "stdout",
     "output_type": "stream",
     "text": [
      "\n",
      "caught error in body, continuing: 'latitude'"
     ]
    },
    {
     "name": "stderr",
     "output_type": "stream",
     "text": [
      "  File \"<ipython-input-2-872ebd74c558>\", line 26, in search_instagram_tag\n",
      "    if insta_post['location']['latitude'] != None and insta_post['location']['longitude'] != None:\n",
      "KeyError: 'latitude'\n",
      "Traceback (most recent call last):\n"
     ]
    },
    {
     "name": "stdout",
     "output_type": "stream",
     "text": [
      "\n",
      "caught error in body, continuing: 'latitude'\n",
      "caught error in body, continuing: 'latitude'"
     ]
    },
    {
     "name": "stderr",
     "output_type": "stream",
     "text": [
      "  File \"<ipython-input-2-872ebd74c558>\", line 26, in search_instagram_tag\n",
      "    if insta_post['location']['latitude'] != None and insta_post['location']['longitude'] != None:\n",
      "KeyError: 'latitude'\n",
      "Traceback (most recent call last):\n",
      "  File \"<ipython-input-2-872ebd74c558>\", line 26, in search_instagram_tag\n",
      "    if insta_post['location']['latitude'] != None and insta_post['location']['longitude'] != None:\n",
      "KeyError: 'latitude'\n",
      "Traceback (most recent call last):\n"
     ]
    },
    {
     "name": "stdout",
     "output_type": "stream",
     "text": [
      "\n",
      "caught error in body, continuing: 'latitude'"
     ]
    },
    {
     "name": "stderr",
     "output_type": "stream",
     "text": [
      "  File \"<ipython-input-2-872ebd74c558>\", line 26, in search_instagram_tag\n",
      "    if insta_post['location']['latitude'] != None and insta_post['location']['longitude'] != None:\n",
      "KeyError: 'latitude'\n",
      "Traceback (most recent call last):\n"
     ]
    },
    {
     "name": "stdout",
     "output_type": "stream",
     "text": [
      "\n",
      "caught error in body, continuing: 'latitude'"
     ]
    },
    {
     "name": "stderr",
     "output_type": "stream",
     "text": [
      "  File \"<ipython-input-2-872ebd74c558>\", line 26, in search_instagram_tag\n",
      "    if insta_post['location']['latitude'] != None and insta_post['location']['longitude'] != None:\n",
      "KeyError: 'latitude'\n",
      "Traceback (most recent call last):\n"
     ]
    },
    {
     "name": "stdout",
     "output_type": "stream",
     "text": [
      "\n",
      "caught error in body, continuing: 'latitude'"
     ]
    },
    {
     "name": "stderr",
     "output_type": "stream",
     "text": [
      "  File \"<ipython-input-2-872ebd74c558>\", line 26, in search_instagram_tag\n",
      "    if insta_post['location']['latitude'] != None and insta_post['location']['longitude'] != None:\n",
      "KeyError: 'latitude'\n",
      "Traceback (most recent call last):\n"
     ]
    },
    {
     "name": "stdout",
     "output_type": "stream",
     "text": [
      "\n",
      "caught error in body, continuing: 'latitude'"
     ]
    },
    {
     "name": "stderr",
     "output_type": "stream",
     "text": [
      "  File \"<ipython-input-2-872ebd74c558>\", line 26, in search_instagram_tag\n",
      "    if insta_post['location']['latitude'] != None and insta_post['location']['longitude'] != None:\n",
      "KeyError: 'latitude'\n",
      "Traceback (most recent call last):\n"
     ]
    },
    {
     "name": "stdout",
     "output_type": "stream",
     "text": [
      "\n",
      "caught error in body, continuing: 'latitude'"
     ]
    },
    {
     "name": "stderr",
     "output_type": "stream",
     "text": [
      "  File \"<ipython-input-2-872ebd74c558>\", line 26, in search_instagram_tag\n",
      "    if insta_post['location']['latitude'] != None and insta_post['location']['longitude'] != None:\n",
      "KeyError: 'latitude'\n",
      "Traceback (most recent call last):\n"
     ]
    },
    {
     "name": "stdout",
     "output_type": "stream",
     "text": [
      "\n",
      "caught error in body, continuing: 'latitude'"
     ]
    },
    {
     "name": "stderr",
     "output_type": "stream",
     "text": [
      "  File \"<ipython-input-2-872ebd74c558>\", line 26, in search_instagram_tag\n",
      "    if insta_post['location']['latitude'] != None and insta_post['location']['longitude'] != None:\n",
      "KeyError: 'latitude'\n",
      "Traceback (most recent call last):\n"
     ]
    },
    {
     "name": "stdout",
     "output_type": "stream",
     "text": [
      "\n",
      "caught error in body, continuing: 'latitude'"
     ]
    },
    {
     "name": "stderr",
     "output_type": "stream",
     "text": [
      "  File \"<ipython-input-2-872ebd74c558>\", line 26, in search_instagram_tag\n",
      "    if insta_post['location']['latitude'] != None and insta_post['location']['longitude'] != None:\n",
      "KeyError: 'latitude'\n",
      "Traceback (most recent call last):\n"
     ]
    },
    {
     "name": "stdout",
     "output_type": "stream",
     "text": [
      "\n",
      "caught error in body, continuing: 'latitude'"
     ]
    },
    {
     "name": "stderr",
     "output_type": "stream",
     "text": [
      "  File \"<ipython-input-2-872ebd74c558>\", line 26, in search_instagram_tag\n",
      "    if insta_post['location']['latitude'] != None and insta_post['location']['longitude'] != None:\n",
      "KeyError: 'latitude'\n",
      "Traceback (most recent call last):\n"
     ]
    },
    {
     "name": "stdout",
     "output_type": "stream",
     "text": [
      "\n",
      "caught error in body, continuing: 'latitude'"
     ]
    },
    {
     "name": "stderr",
     "output_type": "stream",
     "text": [
      "  File \"<ipython-input-2-872ebd74c558>\", line 26, in search_instagram_tag\n",
      "    if insta_post['location']['latitude'] != None and insta_post['location']['longitude'] != None:\n",
      "KeyError: 'latitude'\n",
      "Traceback (most recent call last):\n"
     ]
    },
    {
     "name": "stdout",
     "output_type": "stream",
     "text": [
      "\n",
      "caught error in body, continuing: 'latitude'"
     ]
    },
    {
     "name": "stderr",
     "output_type": "stream",
     "text": [
      "  File \"<ipython-input-2-872ebd74c558>\", line 26, in search_instagram_tag\n",
      "    if insta_post['location']['latitude'] != None and insta_post['location']['longitude'] != None:\n",
      "KeyError: 'latitude'\n",
      "Traceback (most recent call last):\n"
     ]
    },
    {
     "name": "stdout",
     "output_type": "stream",
     "text": [
      "\n",
      "caught error in body, continuing: 'latitude'"
     ]
    },
    {
     "name": "stderr",
     "output_type": "stream",
     "text": [
      "  File \"<ipython-input-2-872ebd74c558>\", line 26, in search_instagram_tag\n",
      "    if insta_post['location']['latitude'] != None and insta_post['location']['longitude'] != None:\n",
      "KeyError: 'latitude'\n",
      "Traceback (most recent call last):\n"
     ]
    },
    {
     "name": "stdout",
     "output_type": "stream",
     "text": [
      "\n",
      "caught error in body, continuing: 'latitude'"
     ]
    },
    {
     "name": "stderr",
     "output_type": "stream",
     "text": [
      "  File \"<ipython-input-2-872ebd74c558>\", line 26, in search_instagram_tag\n",
      "    if insta_post['location']['latitude'] != None and insta_post['location']['longitude'] != None:\n",
      "KeyError: 'latitude'\n",
      "Traceback (most recent call last):\n"
     ]
    },
    {
     "name": "stdout",
     "output_type": "stream",
     "text": [
      "\n",
      "caught error in body, continuing: 'latitude'"
     ]
    },
    {
     "name": "stderr",
     "output_type": "stream",
     "text": [
      "  File \"<ipython-input-2-872ebd74c558>\", line 26, in search_instagram_tag\n",
      "    if insta_post['location']['latitude'] != None and insta_post['location']['longitude'] != None:\n",
      "KeyError: 'latitude'\n",
      "Traceback (most recent call last):\n"
     ]
    },
    {
     "name": "stdout",
     "output_type": "stream",
     "text": [
      "\n",
      "caught error in body, continuing: 'latitude'"
     ]
    },
    {
     "name": "stderr",
     "output_type": "stream",
     "text": [
      "  File \"<ipython-input-2-872ebd74c558>\", line 26, in search_instagram_tag\n",
      "    if insta_post['location']['latitude'] != None and insta_post['location']['longitude'] != None:\n",
      "KeyError: 'latitude'\n",
      "Traceback (most recent call last):\n"
     ]
    },
    {
     "name": "stdout",
     "output_type": "stream",
     "text": [
      "\n",
      "caught error in body, continuing: 'latitude'"
     ]
    },
    {
     "name": "stderr",
     "output_type": "stream",
     "text": [
      "  File \"<ipython-input-2-872ebd74c558>\", line 26, in search_instagram_tag\n",
      "    if insta_post['location']['latitude'] != None and insta_post['location']['longitude'] != None:\n",
      "KeyError: 'latitude'\n",
      "Traceback (most recent call last):\n"
     ]
    },
    {
     "name": "stdout",
     "output_type": "stream",
     "text": [
      "\n",
      "caught error in body, continuing: 'latitude'"
     ]
    },
    {
     "name": "stderr",
     "output_type": "stream",
     "text": [
      "  File \"<ipython-input-2-872ebd74c558>\", line 26, in search_instagram_tag\n",
      "    if insta_post['location']['latitude'] != None and insta_post['location']['longitude'] != None:\n",
      "KeyError: 'latitude'\n",
      "Traceback (most recent call last):\n"
     ]
    },
    {
     "name": "stdout",
     "output_type": "stream",
     "text": [
      "\n",
      "caught error in body, continuing: 'latitude'"
     ]
    },
    {
     "name": "stderr",
     "output_type": "stream",
     "text": [
      "  File \"<ipython-input-2-872ebd74c558>\", line 26, in search_instagram_tag\n",
      "    if insta_post['location']['latitude'] != None and insta_post['location']['longitude'] != None:\n",
      "KeyError: 'latitude'\n",
      "Traceback (most recent call last):\n"
     ]
    },
    {
     "name": "stdout",
     "output_type": "stream",
     "text": [
      "\n",
      "caught error in body, continuing: 'latitude'"
     ]
    },
    {
     "name": "stderr",
     "output_type": "stream",
     "text": [
      "  File \"<ipython-input-2-872ebd74c558>\", line 26, in search_instagram_tag\n",
      "    if insta_post['location']['latitude'] != None and insta_post['location']['longitude'] != None:\n",
      "KeyError: 'latitude'\n",
      "Traceback (most recent call last):\n"
     ]
    },
    {
     "name": "stdout",
     "output_type": "stream",
     "text": [
      "\n",
      "caught error in body, continuing: 'latitude'"
     ]
    },
    {
     "name": "stderr",
     "output_type": "stream",
     "text": [
      "  File \"<ipython-input-2-872ebd74c558>\", line 26, in search_instagram_tag\n",
      "    if insta_post['location']['latitude'] != None and insta_post['location']['longitude'] != None:\n",
      "KeyError: 'latitude'\n",
      "Traceback (most recent call last):\n"
     ]
    },
    {
     "name": "stdout",
     "output_type": "stream",
     "text": [
      "\n",
      "caught error in body, continuing: 'latitude'"
     ]
    },
    {
     "name": "stderr",
     "output_type": "stream",
     "text": [
      "  File \"<ipython-input-2-872ebd74c558>\", line 26, in search_instagram_tag\n",
      "    if insta_post['location']['latitude'] != None and insta_post['location']['longitude'] != None:\n",
      "KeyError: 'latitude'\n",
      "Traceback (most recent call last):\n"
     ]
    },
    {
     "name": "stdout",
     "output_type": "stream",
     "text": [
      "\n",
      "caught error in body, continuing: 'latitude'"
     ]
    },
    {
     "name": "stderr",
     "output_type": "stream",
     "text": [
      "  File \"<ipython-input-2-872ebd74c558>\", line 26, in search_instagram_tag\n",
      "    if insta_post['location']['latitude'] != None and insta_post['location']['longitude'] != None:\n",
      "KeyError: 'latitude'\n",
      "Traceback (most recent call last):\n"
     ]
    },
    {
     "name": "stdout",
     "output_type": "stream",
     "text": [
      "\n",
      "caught error in body, continuing: 'latitude'"
     ]
    },
    {
     "name": "stderr",
     "output_type": "stream",
     "text": [
      "  File \"<ipython-input-2-872ebd74c558>\", line 26, in search_instagram_tag\n",
      "    if insta_post['location']['latitude'] != None and insta_post['location']['longitude'] != None:\n",
      "KeyError: 'latitude'\n",
      "Traceback (most recent call last):\n"
     ]
    },
    {
     "name": "stdout",
     "output_type": "stream",
     "text": [
      "\n",
      "caught error in body, continuing: 'latitude'"
     ]
    },
    {
     "name": "stderr",
     "output_type": "stream",
     "text": [
      "  File \"<ipython-input-2-872ebd74c558>\", line 26, in search_instagram_tag\n",
      "    if insta_post['location']['latitude'] != None and insta_post['location']['longitude'] != None:\n",
      "KeyError: 'latitude'\n",
      "Traceback (most recent call last):\n"
     ]
    },
    {
     "name": "stdout",
     "output_type": "stream",
     "text": [
      "\n",
      "caught error in body, continuing: 'latitude'"
     ]
    },
    {
     "name": "stderr",
     "output_type": "stream",
     "text": [
      "  File \"<ipython-input-2-872ebd74c558>\", line 26, in search_instagram_tag\n",
      "    if insta_post['location']['latitude'] != None and insta_post['location']['longitude'] != None:\n",
      "KeyError: 'latitude'\n",
      "Traceback (most recent call last):\n"
     ]
    },
    {
     "name": "stdout",
     "output_type": "stream",
     "text": [
      "\n",
      "caught error in body, continuing: 'latitude'\n",
      "caught error in body, continuing: 'latitude'"
     ]
    },
    {
     "name": "stderr",
     "output_type": "stream",
     "text": [
      "  File \"<ipython-input-2-872ebd74c558>\", line 26, in search_instagram_tag\n",
      "    if insta_post['location']['latitude'] != None and insta_post['location']['longitude'] != None:\n",
      "KeyError: 'latitude'\n",
      "Traceback (most recent call last):\n",
      "  File \"<ipython-input-2-872ebd74c558>\", line 26, in search_instagram_tag\n",
      "    if insta_post['location']['latitude'] != None and insta_post['location']['longitude'] != None:\n",
      "KeyError: 'latitude'\n",
      "Traceback (most recent call last):\n"
     ]
    },
    {
     "name": "stdout",
     "output_type": "stream",
     "text": [
      "\n",
      "caught error in body, continuing: 'latitude'"
     ]
    },
    {
     "name": "stderr",
     "output_type": "stream",
     "text": [
      "  File \"<ipython-input-2-872ebd74c558>\", line 26, in search_instagram_tag\n",
      "    if insta_post['location']['latitude'] != None and insta_post['location']['longitude'] != None:\n",
      "KeyError: 'latitude'\n",
      "Traceback (most recent call last):\n"
     ]
    },
    {
     "name": "stdout",
     "output_type": "stream",
     "text": [
      "\n",
      "caught error in body, continuing: 'latitude'"
     ]
    },
    {
     "name": "stderr",
     "output_type": "stream",
     "text": [
      "  File \"<ipython-input-2-872ebd74c558>\", line 26, in search_instagram_tag\n",
      "    if insta_post['location']['latitude'] != None and insta_post['location']['longitude'] != None:\n",
      "KeyError: 'latitude'\n",
      "Traceback (most recent call last):\n"
     ]
    },
    {
     "name": "stdout",
     "output_type": "stream",
     "text": [
      "\n",
      "caught error in body, continuing: 'latitude'"
     ]
    },
    {
     "name": "stderr",
     "output_type": "stream",
     "text": [
      "  File \"<ipython-input-2-872ebd74c558>\", line 26, in search_instagram_tag\n",
      "    if insta_post['location']['latitude'] != None and insta_post['location']['longitude'] != None:\n",
      "KeyError: 'latitude'\n",
      "Traceback (most recent call last):\n"
     ]
    },
    {
     "name": "stdout",
     "output_type": "stream",
     "text": [
      "\n",
      "caught error in body, continuing: 'latitude'"
     ]
    },
    {
     "name": "stderr",
     "output_type": "stream",
     "text": [
      "  File \"<ipython-input-2-872ebd74c558>\", line 26, in search_instagram_tag\n",
      "    if insta_post['location']['latitude'] != None and insta_post['location']['longitude'] != None:\n",
      "KeyError: 'latitude'\n",
      "Traceback (most recent call last):\n"
     ]
    },
    {
     "name": "stdout",
     "output_type": "stream",
     "text": [
      "\n",
      "caught error in body, continuing: 'latitude'"
     ]
    },
    {
     "name": "stderr",
     "output_type": "stream",
     "text": [
      "  File \"<ipython-input-2-872ebd74c558>\", line 26, in search_instagram_tag\n",
      "    if insta_post['location']['latitude'] != None and insta_post['location']['longitude'] != None:\n",
      "KeyError: 'latitude'\n",
      "Traceback (most recent call last):\n"
     ]
    },
    {
     "name": "stdout",
     "output_type": "stream",
     "text": [
      "\n",
      "caught error in body, continuing: 'NoneType' object has no attribute '__getitem__'"
     ]
    },
    {
     "name": "stderr",
     "output_type": "stream",
     "text": [
      "  File \"<ipython-input-2-872ebd74c558>\", line 26, in search_instagram_tag\n",
      "    if insta_post['location']['latitude'] != None and insta_post['location']['longitude'] != None:\n",
      "KeyError: 'latitude'\n",
      "Traceback (most recent call last):\n"
     ]
    },
    {
     "name": "stdout",
     "output_type": "stream",
     "text": [
      "\n",
      "caught error in body, continuing: 'latitude'"
     ]
    },
    {
     "name": "stderr",
     "output_type": "stream",
     "text": [
      "  File \"<ipython-input-2-872ebd74c558>\", line 28, in search_instagram_tag\n",
      "    int(insta_post['caption']['created_time'])\n",
      "TypeError: 'NoneType' object has no attribute '__getitem__'\n",
      "Traceback (most recent call last):\n"
     ]
    },
    {
     "name": "stdout",
     "output_type": "stream",
     "text": [
      "\n",
      "caught error in body, continuing: 'latitude'"
     ]
    },
    {
     "name": "stderr",
     "output_type": "stream",
     "text": [
      "  File \"<ipython-input-2-872ebd74c558>\", line 26, in search_instagram_tag\n",
      "    if insta_post['location']['latitude'] != None and insta_post['location']['longitude'] != None:\n",
      "KeyError: 'latitude'\n",
      "Traceback (most recent call last):\n"
     ]
    },
    {
     "name": "stdout",
     "output_type": "stream",
     "text": [
      "\n",
      "caught error in body, continuing: 'latitude'"
     ]
    },
    {
     "name": "stderr",
     "output_type": "stream",
     "text": [
      "  File \"<ipython-input-2-872ebd74c558>\", line 26, in search_instagram_tag\n",
      "    if insta_post['location']['latitude'] != None and insta_post['location']['longitude'] != None:\n",
      "KeyError: 'latitude'\n",
      "Traceback (most recent call last):\n"
     ]
    },
    {
     "name": "stdout",
     "output_type": "stream",
     "text": [
      "\n",
      "caught error in body, continuing: 'NoneType' object has no attribute '__getitem__'"
     ]
    },
    {
     "name": "stderr",
     "output_type": "stream",
     "text": [
      "  File \"<ipython-input-2-872ebd74c558>\", line 26, in search_instagram_tag\n",
      "    if insta_post['location']['latitude'] != None and insta_post['location']['longitude'] != None:\n",
      "KeyError: 'latitude'\n",
      "Traceback (most recent call last):\n"
     ]
    },
    {
     "name": "stdout",
     "output_type": "stream",
     "text": [
      "\n",
      "caught error in body, continuing: 'latitude'"
     ]
    },
    {
     "name": "stderr",
     "output_type": "stream",
     "text": [
      "  File \"<ipython-input-2-872ebd74c558>\", line 28, in search_instagram_tag\n",
      "    int(insta_post['caption']['created_time'])\n",
      "TypeError: 'NoneType' object has no attribute '__getitem__'\n",
      "Traceback (most recent call last):\n"
     ]
    },
    {
     "name": "stdout",
     "output_type": "stream",
     "text": [
      "\n",
      "caught error in body, continuing: 'latitude'\n",
      "caught error in body, continuing: 'latitude'"
     ]
    },
    {
     "name": "stderr",
     "output_type": "stream",
     "text": [
      "  File \"<ipython-input-2-872ebd74c558>\", line 26, in search_instagram_tag\n",
      "    if insta_post['location']['latitude'] != None and insta_post['location']['longitude'] != None:\n",
      "KeyError: 'latitude'\n",
      "Traceback (most recent call last):\n",
      "  File \"<ipython-input-2-872ebd74c558>\", line 26, in search_instagram_tag\n",
      "    if insta_post['location']['latitude'] != None and insta_post['location']['longitude'] != None:\n",
      "KeyError: 'latitude'\n",
      "Traceback (most recent call last):\n"
     ]
    },
    {
     "name": "stdout",
     "output_type": "stream",
     "text": [
      "\n",
      "caught error in body, continuing: 'latitude'"
     ]
    },
    {
     "name": "stderr",
     "output_type": "stream",
     "text": [
      "  File \"<ipython-input-2-872ebd74c558>\", line 26, in search_instagram_tag\n",
      "    if insta_post['location']['latitude'] != None and insta_post['location']['longitude'] != None:\n",
      "KeyError: 'latitude'\n",
      "Traceback (most recent call last):\n"
     ]
    },
    {
     "name": "stdout",
     "output_type": "stream",
     "text": [
      "\n",
      "caught error in body, continuing: 'latitude'"
     ]
    },
    {
     "name": "stderr",
     "output_type": "stream",
     "text": [
      "  File \"<ipython-input-2-872ebd74c558>\", line 26, in search_instagram_tag\n",
      "    if insta_post['location']['latitude'] != None and insta_post['location']['longitude'] != None:\n",
      "KeyError: 'latitude'\n",
      "Traceback (most recent call last):\n"
     ]
    },
    {
     "name": "stdout",
     "output_type": "stream",
     "text": [
      "\n",
      "caught error in body, continuing: 'latitude'\n",
      "caught error in body, continuing: 'latitude'"
     ]
    },
    {
     "name": "stderr",
     "output_type": "stream",
     "text": [
      "  File \"<ipython-input-2-872ebd74c558>\", line 26, in search_instagram_tag\n",
      "    if insta_post['location']['latitude'] != None and insta_post['location']['longitude'] != None:\n",
      "KeyError: 'latitude'\n",
      "Traceback (most recent call last):\n",
      "  File \"<ipython-input-2-872ebd74c558>\", line 26, in search_instagram_tag\n",
      "    if insta_post['location']['latitude'] != None and insta_post['location']['longitude'] != None:\n",
      "KeyError: 'latitude'\n",
      "Traceback (most recent call last):\n"
     ]
    },
    {
     "name": "stdout",
     "output_type": "stream",
     "text": [
      "\n",
      "caught error in body, continuing: 'latitude'"
     ]
    },
    {
     "name": "stderr",
     "output_type": "stream",
     "text": [
      "  File \"<ipython-input-2-872ebd74c558>\", line 26, in search_instagram_tag\n",
      "    if insta_post['location']['latitude'] != None and insta_post['location']['longitude'] != None:\n",
      "KeyError: 'latitude'\n",
      "Traceback (most recent call last):\n"
     ]
    },
    {
     "name": "stdout",
     "output_type": "stream",
     "text": [
      "\n",
      "caught error in body, continuing: 'latitude'"
     ]
    },
    {
     "name": "stderr",
     "output_type": "stream",
     "text": [
      "  File \"<ipython-input-2-872ebd74c558>\", line 26, in search_instagram_tag\n",
      "    if insta_post['location']['latitude'] != None and insta_post['location']['longitude'] != None:\n",
      "KeyError: 'latitude'\n",
      "Traceback (most recent call last):\n"
     ]
    },
    {
     "name": "stdout",
     "output_type": "stream",
     "text": [
      "\n",
      "caught error in body, continuing: 'latitude'"
     ]
    },
    {
     "name": "stderr",
     "output_type": "stream",
     "text": [
      "  File \"<ipython-input-2-872ebd74c558>\", line 26, in search_instagram_tag\n",
      "    if insta_post['location']['latitude'] != None and insta_post['location']['longitude'] != None:\n",
      "KeyError: 'latitude'\n",
      "Traceback (most recent call last):\n"
     ]
    },
    {
     "name": "stdout",
     "output_type": "stream",
     "text": [
      "\n",
      "caught error in body, continuing: 'latitude'"
     ]
    },
    {
     "name": "stderr",
     "output_type": "stream",
     "text": [
      "  File \"<ipython-input-2-872ebd74c558>\", line 26, in search_instagram_tag\n",
      "    if insta_post['location']['latitude'] != None and insta_post['location']['longitude'] != None:\n",
      "KeyError: 'latitude'\n",
      "Traceback (most recent call last):\n"
     ]
    },
    {
     "name": "stdout",
     "output_type": "stream",
     "text": [
      "\n",
      "caught error in body, continuing: 'latitude'\n",
      "caught error in body, continuing: 'latitude'"
     ]
    },
    {
     "name": "stderr",
     "output_type": "stream",
     "text": [
      "  File \"<ipython-input-2-872ebd74c558>\", line 26, in search_instagram_tag\n",
      "    if insta_post['location']['latitude'] != None and insta_post['location']['longitude'] != None:\n",
      "KeyError: 'latitude'\n",
      "Traceback (most recent call last):\n",
      "  File \"<ipython-input-2-872ebd74c558>\", line 26, in search_instagram_tag\n",
      "    if insta_post['location']['latitude'] != None and insta_post['location']['longitude'] != None:\n",
      "KeyError: 'latitude'\n",
      "Traceback (most recent call last):\n"
     ]
    },
    {
     "name": "stdout",
     "output_type": "stream",
     "text": [
      "\n",
      "caught error in body, continuing: 'latitude'"
     ]
    },
    {
     "name": "stderr",
     "output_type": "stream",
     "text": [
      "  File \"<ipython-input-2-872ebd74c558>\", line 26, in search_instagram_tag\n",
      "    if insta_post['location']['latitude'] != None and insta_post['location']['longitude'] != None:\n",
      "KeyError: 'latitude'\n",
      "Traceback (most recent call last):\n"
     ]
    },
    {
     "name": "stdout",
     "output_type": "stream",
     "text": [
      "\n",
      "caught error in body, continuing: 'latitude'"
     ]
    },
    {
     "name": "stderr",
     "output_type": "stream",
     "text": [
      "  File \"<ipython-input-2-872ebd74c558>\", line 26, in search_instagram_tag\n",
      "    if insta_post['location']['latitude'] != None and insta_post['location']['longitude'] != None:\n",
      "KeyError: 'latitude'\n",
      "Traceback (most recent call last):\n"
     ]
    },
    {
     "name": "stdout",
     "output_type": "stream",
     "text": [
      "\n",
      "caught error in body, continuing: 'latitude'"
     ]
    },
    {
     "name": "stderr",
     "output_type": "stream",
     "text": [
      "  File \"<ipython-input-2-872ebd74c558>\", line 26, in search_instagram_tag\n",
      "    if insta_post['location']['latitude'] != None and insta_post['location']['longitude'] != None:\n",
      "KeyError: 'latitude'\n",
      "Traceback (most recent call last):\n"
     ]
    },
    {
     "name": "stdout",
     "output_type": "stream",
     "text": [
      "\n",
      "caught error in body, continuing: 'latitude'"
     ]
    },
    {
     "name": "stderr",
     "output_type": "stream",
     "text": [
      "  File \"<ipython-input-2-872ebd74c558>\", line 26, in search_instagram_tag\n",
      "    if insta_post['location']['latitude'] != None and insta_post['location']['longitude'] != None:\n",
      "KeyError: 'latitude'\n",
      "Traceback (most recent call last):\n"
     ]
    },
    {
     "name": "stdout",
     "output_type": "stream",
     "text": [
      "\n",
      "caught error in body, continuing: 'latitude'"
     ]
    },
    {
     "name": "stderr",
     "output_type": "stream",
     "text": [
      "  File \"<ipython-input-2-872ebd74c558>\", line 26, in search_instagram_tag\n",
      "    if insta_post['location']['latitude'] != None and insta_post['location']['longitude'] != None:\n",
      "KeyError: 'latitude'\n",
      "Traceback (most recent call last):\n"
     ]
    },
    {
     "name": "stdout",
     "output_type": "stream",
     "text": [
      "\n",
      "caught error in body, continuing: 'latitude'"
     ]
    },
    {
     "name": "stderr",
     "output_type": "stream",
     "text": [
      "  File \"<ipython-input-2-872ebd74c558>\", line 26, in search_instagram_tag\n",
      "    if insta_post['location']['latitude'] != None and insta_post['location']['longitude'] != None:\n",
      "KeyError: 'latitude'\n",
      "Traceback (most recent call last):\n"
     ]
    },
    {
     "name": "stdout",
     "output_type": "stream",
     "text": [
      "\n",
      "caught error in body, continuing: 'latitude'"
     ]
    },
    {
     "name": "stderr",
     "output_type": "stream",
     "text": [
      "  File \"<ipython-input-2-872ebd74c558>\", line 26, in search_instagram_tag\n",
      "    if insta_post['location']['latitude'] != None and insta_post['location']['longitude'] != None:\n",
      "KeyError: 'latitude'\n",
      "Traceback (most recent call last):\n"
     ]
    },
    {
     "name": "stdout",
     "output_type": "stream",
     "text": [
      "\n",
      "caught error in body, continuing: 'latitude'"
     ]
    },
    {
     "name": "stderr",
     "output_type": "stream",
     "text": [
      "  File \"<ipython-input-2-872ebd74c558>\", line 26, in search_instagram_tag\n",
      "    if insta_post['location']['latitude'] != None and insta_post['location']['longitude'] != None:\n",
      "KeyError: 'latitude'\n",
      "Traceback (most recent call last):\n"
     ]
    },
    {
     "name": "stdout",
     "output_type": "stream",
     "text": [
      "\n",
      "caught error in body, continuing: 'latitude'"
     ]
    },
    {
     "name": "stderr",
     "output_type": "stream",
     "text": [
      "  File \"<ipython-input-2-872ebd74c558>\", line 26, in search_instagram_tag\n",
      "    if insta_post['location']['latitude'] != None and insta_post['location']['longitude'] != None:\n",
      "KeyError: 'latitude'\n",
      "Traceback (most recent call last):\n"
     ]
    },
    {
     "name": "stdout",
     "output_type": "stream",
     "text": [
      "\n",
      "caught error in body, continuing: 'latitude'"
     ]
    },
    {
     "name": "stderr",
     "output_type": "stream",
     "text": [
      "  File \"<ipython-input-2-872ebd74c558>\", line 26, in search_instagram_tag\n",
      "    if insta_post['location']['latitude'] != None and insta_post['location']['longitude'] != None:\n",
      "KeyError: 'latitude'\n",
      "Traceback (most recent call last):\n"
     ]
    },
    {
     "name": "stdout",
     "output_type": "stream",
     "text": [
      "\n",
      "caught error in body, continuing: 'latitude'"
     ]
    },
    {
     "name": "stderr",
     "output_type": "stream",
     "text": [
      "  File \"<ipython-input-2-872ebd74c558>\", line 26, in search_instagram_tag\n",
      "    if insta_post['location']['latitude'] != None and insta_post['location']['longitude'] != None:\n",
      "KeyError: 'latitude'\n",
      "Traceback (most recent call last):\n"
     ]
    },
    {
     "name": "stdout",
     "output_type": "stream",
     "text": [
      "\n",
      "caught error in body, continuing: 'latitude'"
     ]
    },
    {
     "name": "stderr",
     "output_type": "stream",
     "text": [
      "  File \"<ipython-input-2-872ebd74c558>\", line 26, in search_instagram_tag\n",
      "    if insta_post['location']['latitude'] != None and insta_post['location']['longitude'] != None:\n",
      "KeyError: 'latitude'\n",
      "Traceback (most recent call last):\n"
     ]
    },
    {
     "name": "stdout",
     "output_type": "stream",
     "text": [
      "\n",
      "caught error in body, continuing: 'latitude'"
     ]
    },
    {
     "name": "stderr",
     "output_type": "stream",
     "text": [
      "  File \"<ipython-input-2-872ebd74c558>\", line 26, in search_instagram_tag\n",
      "    if insta_post['location']['latitude'] != None and insta_post['location']['longitude'] != None:\n",
      "KeyError: 'latitude'\n",
      "Traceback (most recent call last):\n"
     ]
    },
    {
     "name": "stdout",
     "output_type": "stream",
     "text": [
      "\n",
      "caught error in body, continuing: 'latitude'"
     ]
    },
    {
     "name": "stderr",
     "output_type": "stream",
     "text": [
      "  File \"<ipython-input-2-872ebd74c558>\", line 26, in search_instagram_tag\n",
      "    if insta_post['location']['latitude'] != None and insta_post['location']['longitude'] != None:\n",
      "KeyError: 'latitude'\n",
      "Traceback (most recent call last):\n"
     ]
    },
    {
     "name": "stdout",
     "output_type": "stream",
     "text": [
      "\n",
      "caught error in body, continuing: 'latitude'"
     ]
    },
    {
     "name": "stderr",
     "output_type": "stream",
     "text": [
      "  File \"<ipython-input-2-872ebd74c558>\", line 26, in search_instagram_tag\n",
      "    if insta_post['location']['latitude'] != None and insta_post['location']['longitude'] != None:\n",
      "KeyError: 'latitude'\n",
      "Traceback (most recent call last):\n"
     ]
    },
    {
     "name": "stdout",
     "output_type": "stream",
     "text": [
      "\n",
      "caught error in body, continuing: 'NoneType' object has no attribute '__getitem__'"
     ]
    },
    {
     "name": "stderr",
     "output_type": "stream",
     "text": [
      "  File \"<ipython-input-2-872ebd74c558>\", line 26, in search_instagram_tag\n",
      "    if insta_post['location']['latitude'] != None and insta_post['location']['longitude'] != None:\n",
      "KeyError: 'latitude'\n",
      "Traceback (most recent call last):\n"
     ]
    },
    {
     "name": "stdout",
     "output_type": "stream",
     "text": [
      "\n",
      "caught error in body, continuing: 'latitude'"
     ]
    },
    {
     "name": "stderr",
     "output_type": "stream",
     "text": [
      "  File \"<ipython-input-2-872ebd74c558>\", line 28, in search_instagram_tag\n",
      "    int(insta_post['caption']['created_time'])\n",
      "TypeError: 'NoneType' object has no attribute '__getitem__'\n",
      "Traceback (most recent call last):\n"
     ]
    },
    {
     "name": "stdout",
     "output_type": "stream",
     "text": [
      "\n",
      "caught error in body, continuing: 'latitude'"
     ]
    },
    {
     "name": "stderr",
     "output_type": "stream",
     "text": [
      "  File \"<ipython-input-2-872ebd74c558>\", line 26, in search_instagram_tag\n",
      "    if insta_post['location']['latitude'] != None and insta_post['location']['longitude'] != None:\n",
      "KeyError: 'latitude'\n",
      "Traceback (most recent call last):\n"
     ]
    },
    {
     "name": "stdout",
     "output_type": "stream",
     "text": [
      "\n",
      "caught error in body, continuing: 'latitude'"
     ]
    },
    {
     "name": "stderr",
     "output_type": "stream",
     "text": [
      "  File \"<ipython-input-2-872ebd74c558>\", line 26, in search_instagram_tag\n",
      "    if insta_post['location']['latitude'] != None and insta_post['location']['longitude'] != None:\n",
      "KeyError: 'latitude'\n",
      "Traceback (most recent call last):\n"
     ]
    },
    {
     "name": "stdout",
     "output_type": "stream",
     "text": [
      "\n",
      "caught error in body, continuing: 'latitude'"
     ]
    },
    {
     "name": "stderr",
     "output_type": "stream",
     "text": [
      "  File \"<ipython-input-2-872ebd74c558>\", line 26, in search_instagram_tag\n",
      "    if insta_post['location']['latitude'] != None and insta_post['location']['longitude'] != None:\n",
      "KeyError: 'latitude'\n",
      "Traceback (most recent call last):\n"
     ]
    },
    {
     "name": "stdout",
     "output_type": "stream",
     "text": [
      "\n",
      "caught error in body, continuing: 'latitude'"
     ]
    },
    {
     "name": "stderr",
     "output_type": "stream",
     "text": [
      "  File \"<ipython-input-2-872ebd74c558>\", line 26, in search_instagram_tag\n",
      "    if insta_post['location']['latitude'] != None and insta_post['location']['longitude'] != None:\n",
      "KeyError: 'latitude'\n",
      "Traceback (most recent call last):\n"
     ]
    },
    {
     "name": "stdout",
     "output_type": "stream",
     "text": [
      "\n",
      "caught error in body, continuing: 'latitude'"
     ]
    },
    {
     "name": "stderr",
     "output_type": "stream",
     "text": [
      "  File \"<ipython-input-2-872ebd74c558>\", line 26, in search_instagram_tag\n",
      "    if insta_post['location']['latitude'] != None and insta_post['location']['longitude'] != None:\n",
      "KeyError: 'latitude'\n",
      "Traceback (most recent call last):\n"
     ]
    },
    {
     "name": "stdout",
     "output_type": "stream",
     "text": [
      "\n",
      "caught error in body, continuing: 'latitude'"
     ]
    },
    {
     "name": "stderr",
     "output_type": "stream",
     "text": [
      "  File \"<ipython-input-2-872ebd74c558>\", line 26, in search_instagram_tag\n",
      "    if insta_post['location']['latitude'] != None and insta_post['location']['longitude'] != None:\n",
      "KeyError: 'latitude'\n",
      "Traceback (most recent call last):\n"
     ]
    },
    {
     "name": "stdout",
     "output_type": "stream",
     "text": [
      "\n",
      "caught error in body, continuing: 'latitude'\n",
      "caught error in body, continuing: 'latitude'"
     ]
    },
    {
     "name": "stderr",
     "output_type": "stream",
     "text": [
      "  File \"<ipython-input-2-872ebd74c558>\", line 26, in search_instagram_tag\n",
      "    if insta_post['location']['latitude'] != None and insta_post['location']['longitude'] != None:\n",
      "KeyError: 'latitude'\n",
      "Traceback (most recent call last):\n",
      "  File \"<ipython-input-2-872ebd74c558>\", line 26, in search_instagram_tag\n",
      "    if insta_post['location']['latitude'] != None and insta_post['location']['longitude'] != None:\n",
      "KeyError: 'latitude'\n",
      "Traceback (most recent call last):\n"
     ]
    },
    {
     "name": "stdout",
     "output_type": "stream",
     "text": [
      "\n",
      "caught error in body, continuing: 'latitude'"
     ]
    },
    {
     "name": "stderr",
     "output_type": "stream",
     "text": [
      "  File \"<ipython-input-2-872ebd74c558>\", line 26, in search_instagram_tag\n",
      "    if insta_post['location']['latitude'] != None and insta_post['location']['longitude'] != None:\n",
      "KeyError: 'latitude'\n",
      "Traceback (most recent call last):\n"
     ]
    },
    {
     "name": "stdout",
     "output_type": "stream",
     "text": [
      "\n",
      "caught error in body, continuing: 'latitude'"
     ]
    },
    {
     "name": "stderr",
     "output_type": "stream",
     "text": [
      "  File \"<ipython-input-2-872ebd74c558>\", line 26, in search_instagram_tag\n",
      "    if insta_post['location']['latitude'] != None and insta_post['location']['longitude'] != None:\n",
      "KeyError: 'latitude'\n",
      "Traceback (most recent call last):\n"
     ]
    },
    {
     "name": "stdout",
     "output_type": "stream",
     "text": [
      "\n",
      "caught error in body, continuing: 'latitude'"
     ]
    },
    {
     "name": "stderr",
     "output_type": "stream",
     "text": [
      "  File \"<ipython-input-2-872ebd74c558>\", line 26, in search_instagram_tag\n",
      "    if insta_post['location']['latitude'] != None and insta_post['location']['longitude'] != None:\n",
      "KeyError: 'latitude'\n",
      "Traceback (most recent call last):\n"
     ]
    },
    {
     "name": "stdout",
     "output_type": "stream",
     "text": [
      "\n",
      "caught error in body, continuing: 'latitude'"
     ]
    },
    {
     "name": "stderr",
     "output_type": "stream",
     "text": [
      "  File \"<ipython-input-2-872ebd74c558>\", line 26, in search_instagram_tag\n",
      "    if insta_post['location']['latitude'] != None and insta_post['location']['longitude'] != None:\n",
      "KeyError: 'latitude'\n",
      "Traceback (most recent call last):\n"
     ]
    },
    {
     "name": "stdout",
     "output_type": "stream",
     "text": [
      "\n",
      "caught error in body, continuing: 'latitude'"
     ]
    },
    {
     "name": "stderr",
     "output_type": "stream",
     "text": [
      "  File \"<ipython-input-2-872ebd74c558>\", line 26, in search_instagram_tag\n",
      "    if insta_post['location']['latitude'] != None and insta_post['location']['longitude'] != None:\n",
      "KeyError: 'latitude'\n",
      "Traceback (most recent call last):\n"
     ]
    },
    {
     "name": "stdout",
     "output_type": "stream",
     "text": [
      "\n",
      "caught error in body, continuing: 'latitude'"
     ]
    },
    {
     "name": "stderr",
     "output_type": "stream",
     "text": [
      "  File \"<ipython-input-2-872ebd74c558>\", line 26, in search_instagram_tag\n",
      "    if insta_post['location']['latitude'] != None and insta_post['location']['longitude'] != None:\n",
      "KeyError: 'latitude'\n",
      "Traceback (most recent call last):\n"
     ]
    },
    {
     "name": "stdout",
     "output_type": "stream",
     "text": [
      "\n",
      "caught error in body, continuing: 'latitude'"
     ]
    },
    {
     "name": "stderr",
     "output_type": "stream",
     "text": [
      "  File \"<ipython-input-2-872ebd74c558>\", line 26, in search_instagram_tag\n",
      "    if insta_post['location']['latitude'] != None and insta_post['location']['longitude'] != None:\n",
      "KeyError: 'latitude'\n",
      "Traceback (most recent call last):\n"
     ]
    },
    {
     "name": "stdout",
     "output_type": "stream",
     "text": [
      "\n",
      "caught error in body, continuing: 'latitude'"
     ]
    },
    {
     "name": "stderr",
     "output_type": "stream",
     "text": [
      "  File \"<ipython-input-2-872ebd74c558>\", line 26, in search_instagram_tag\n",
      "    if insta_post['location']['latitude'] != None and insta_post['location']['longitude'] != None:\n",
      "KeyError: 'latitude'\n",
      "Traceback (most recent call last):\n"
     ]
    },
    {
     "name": "stdout",
     "output_type": "stream",
     "text": [
      "\n",
      "caught error in body, continuing: 'latitude'"
     ]
    },
    {
     "name": "stderr",
     "output_type": "stream",
     "text": [
      "  File \"<ipython-input-2-872ebd74c558>\", line 26, in search_instagram_tag\n",
      "    if insta_post['location']['latitude'] != None and insta_post['location']['longitude'] != None:\n",
      "KeyError: 'latitude'\n",
      "Traceback (most recent call last):\n"
     ]
    },
    {
     "name": "stdout",
     "output_type": "stream",
     "text": [
      "\n",
      "caught error in body, continuing: 'latitude'"
     ]
    },
    {
     "name": "stderr",
     "output_type": "stream",
     "text": [
      "  File \"<ipython-input-2-872ebd74c558>\", line 26, in search_instagram_tag\n",
      "    if insta_post['location']['latitude'] != None and insta_post['location']['longitude'] != None:\n",
      "KeyError: 'latitude'\n",
      "Traceback (most recent call last):\n"
     ]
    },
    {
     "name": "stdout",
     "output_type": "stream",
     "text": [
      "\n",
      "caught error in body, continuing: 'latitude'"
     ]
    },
    {
     "name": "stderr",
     "output_type": "stream",
     "text": [
      "  File \"<ipython-input-2-872ebd74c558>\", line 26, in search_instagram_tag\n",
      "    if insta_post['location']['latitude'] != None and insta_post['location']['longitude'] != None:\n",
      "KeyError: 'latitude'\n",
      "Traceback (most recent call last):\n"
     ]
    },
    {
     "name": "stdout",
     "output_type": "stream",
     "text": [
      "\n",
      "caught error in body, continuing: 'latitude'"
     ]
    },
    {
     "name": "stderr",
     "output_type": "stream",
     "text": [
      "  File \"<ipython-input-2-872ebd74c558>\", line 26, in search_instagram_tag\n",
      "    if insta_post['location']['latitude'] != None and insta_post['location']['longitude'] != None:\n",
      "KeyError: 'latitude'\n",
      "Traceback (most recent call last):\n"
     ]
    },
    {
     "name": "stdout",
     "output_type": "stream",
     "text": [
      "\n",
      "caught error in body, continuing: 'latitude'"
     ]
    },
    {
     "name": "stderr",
     "output_type": "stream",
     "text": [
      "  File \"<ipython-input-2-872ebd74c558>\", line 26, in search_instagram_tag\n",
      "    if insta_post['location']['latitude'] != None and insta_post['location']['longitude'] != None:\n",
      "KeyError: 'latitude'\n",
      "Traceback (most recent call last):\n"
     ]
    },
    {
     "name": "stdout",
     "output_type": "stream",
     "text": [
      "\n",
      "caught error in body, continuing: 'NoneType' object has no attribute '__getitem__'"
     ]
    },
    {
     "name": "stderr",
     "output_type": "stream",
     "text": [
      "  File \"<ipython-input-2-872ebd74c558>\", line 26, in search_instagram_tag\n",
      "    if insta_post['location']['latitude'] != None and insta_post['location']['longitude'] != None:\n",
      "KeyError: 'latitude'\n",
      "Traceback (most recent call last):\n"
     ]
    },
    {
     "name": "stdout",
     "output_type": "stream",
     "text": [
      "\n",
      "caught error in body, continuing: 'latitude'"
     ]
    },
    {
     "name": "stderr",
     "output_type": "stream",
     "text": [
      "  File \"<ipython-input-2-872ebd74c558>\", line 28, in search_instagram_tag\n",
      "    int(insta_post['caption']['created_time'])\n",
      "TypeError: 'NoneType' object has no attribute '__getitem__'\n",
      "Traceback (most recent call last):\n"
     ]
    },
    {
     "name": "stdout",
     "output_type": "stream",
     "text": [
      "\n",
      "caught error in body, continuing: 'latitude'"
     ]
    },
    {
     "name": "stderr",
     "output_type": "stream",
     "text": [
      "  File \"<ipython-input-2-872ebd74c558>\", line 26, in search_instagram_tag\n",
      "    if insta_post['location']['latitude'] != None and insta_post['location']['longitude'] != None:\n",
      "KeyError: 'latitude'\n",
      "Traceback (most recent call last):\n"
     ]
    },
    {
     "name": "stdout",
     "output_type": "stream",
     "text": [
      "\n",
      "caught error in body, continuing: 'latitude'"
     ]
    },
    {
     "name": "stderr",
     "output_type": "stream",
     "text": [
      "  File \"<ipython-input-2-872ebd74c558>\", line 26, in search_instagram_tag\n",
      "    if insta_post['location']['latitude'] != None and insta_post['location']['longitude'] != None:\n",
      "KeyError: 'latitude'\n",
      "Traceback (most recent call last):\n"
     ]
    },
    {
     "name": "stdout",
     "output_type": "stream",
     "text": [
      "\n",
      "caught error in body, continuing: 'latitude'"
     ]
    },
    {
     "name": "stderr",
     "output_type": "stream",
     "text": [
      "  File \"<ipython-input-2-872ebd74c558>\", line 26, in search_instagram_tag\n",
      "    if insta_post['location']['latitude'] != None and insta_post['location']['longitude'] != None:\n",
      "KeyError: 'latitude'\n",
      "Traceback (most recent call last):\n"
     ]
    },
    {
     "name": "stdout",
     "output_type": "stream",
     "text": [
      "\n",
      "caught error in body, continuing: 'latitude'"
     ]
    },
    {
     "name": "stderr",
     "output_type": "stream",
     "text": [
      "  File \"<ipython-input-2-872ebd74c558>\", line 26, in search_instagram_tag\n",
      "    if insta_post['location']['latitude'] != None and insta_post['location']['longitude'] != None:\n",
      "KeyError: 'latitude'\n",
      "Traceback (most recent call last):\n"
     ]
    },
    {
     "name": "stdout",
     "output_type": "stream",
     "text": [
      "\n",
      "caught error in body, continuing: 'latitude'"
     ]
    },
    {
     "name": "stderr",
     "output_type": "stream",
     "text": [
      "  File \"<ipython-input-2-872ebd74c558>\", line 26, in search_instagram_tag\n",
      "    if insta_post['location']['latitude'] != None and insta_post['location']['longitude'] != None:\n",
      "KeyError: 'latitude'\n",
      "Traceback (most recent call last):\n"
     ]
    },
    {
     "name": "stdout",
     "output_type": "stream",
     "text": [
      "\n",
      "caught error in body, continuing: 'latitude'\n",
      "caught error in body, continuing: 'latitude'"
     ]
    },
    {
     "name": "stderr",
     "output_type": "stream",
     "text": [
      "  File \"<ipython-input-2-872ebd74c558>\", line 26, in search_instagram_tag\n",
      "    if insta_post['location']['latitude'] != None and insta_post['location']['longitude'] != None:\n",
      "KeyError: 'latitude'\n",
      "Traceback (most recent call last):\n",
      "  File \"<ipython-input-2-872ebd74c558>\", line 26, in search_instagram_tag\n",
      "    if insta_post['location']['latitude'] != None and insta_post['location']['longitude'] != None:\n",
      "KeyError: 'latitude'\n",
      "Traceback (most recent call last):\n"
     ]
    },
    {
     "name": "stdout",
     "output_type": "stream",
     "text": [
      "\n",
      "caught error in body, continuing: 'latitude'"
     ]
    },
    {
     "name": "stderr",
     "output_type": "stream",
     "text": [
      "  File \"<ipython-input-2-872ebd74c558>\", line 26, in search_instagram_tag\n",
      "    if insta_post['location']['latitude'] != None and insta_post['location']['longitude'] != None:\n",
      "KeyError: 'latitude'\n",
      "Traceback (most recent call last):\n"
     ]
    },
    {
     "name": "stdout",
     "output_type": "stream",
     "text": [
      "\n",
      "caught error in body, continuing: 'NoneType' object has no attribute '__getitem__'"
     ]
    },
    {
     "name": "stderr",
     "output_type": "stream",
     "text": [
      "  File \"<ipython-input-2-872ebd74c558>\", line 26, in search_instagram_tag\n",
      "    if insta_post['location']['latitude'] != None and insta_post['location']['longitude'] != None:\n",
      "KeyError: 'latitude'\n",
      "Traceback (most recent call last):\n"
     ]
    },
    {
     "name": "stdout",
     "output_type": "stream",
     "text": [
      "\n",
      "caught error in body, continuing: 'latitude'"
     ]
    },
    {
     "name": "stderr",
     "output_type": "stream",
     "text": [
      "  File \"<ipython-input-2-872ebd74c558>\", line 28, in search_instagram_tag\n",
      "    int(insta_post['caption']['created_time'])\n",
      "TypeError: 'NoneType' object has no attribute '__getitem__'\n",
      "Traceback (most recent call last):\n"
     ]
    },
    {
     "name": "stdout",
     "output_type": "stream",
     "text": [
      "\n",
      "caught error in body, continuing: 'latitude'"
     ]
    },
    {
     "name": "stderr",
     "output_type": "stream",
     "text": [
      "  File \"<ipython-input-2-872ebd74c558>\", line 26, in search_instagram_tag\n",
      "    if insta_post['location']['latitude'] != None and insta_post['location']['longitude'] != None:\n",
      "KeyError: 'latitude'\n",
      "Traceback (most recent call last):\n"
     ]
    },
    {
     "name": "stdout",
     "output_type": "stream",
     "text": [
      "\n",
      "caught error in body, continuing: 'latitude'"
     ]
    },
    {
     "name": "stderr",
     "output_type": "stream",
     "text": [
      "  File \"<ipython-input-2-872ebd74c558>\", line 26, in search_instagram_tag\n",
      "    if insta_post['location']['latitude'] != None and insta_post['location']['longitude'] != None:\n",
      "KeyError: 'latitude'\n",
      "Traceback (most recent call last):\n"
     ]
    },
    {
     "name": "stdout",
     "output_type": "stream",
     "text": [
      "\n",
      "caught error in body, continuing: 'latitude'"
     ]
    },
    {
     "name": "stderr",
     "output_type": "stream",
     "text": [
      "  File \"<ipython-input-2-872ebd74c558>\", line 26, in search_instagram_tag\n",
      "    if insta_post['location']['latitude'] != None and insta_post['location']['longitude'] != None:\n",
      "KeyError: 'latitude'\n",
      "Traceback (most recent call last):\n"
     ]
    },
    {
     "name": "stdout",
     "output_type": "stream",
     "text": [
      "\n",
      "caught error in body, continuing: 'latitude'\n",
      "caught error in body, continuing: 'latitude'"
     ]
    },
    {
     "name": "stderr",
     "output_type": "stream",
     "text": [
      "  File \"<ipython-input-2-872ebd74c558>\", line 26, in search_instagram_tag\n",
      "    if insta_post['location']['latitude'] != None and insta_post['location']['longitude'] != None:\n",
      "KeyError: 'latitude'\n",
      "Traceback (most recent call last):\n",
      "  File \"<ipython-input-2-872ebd74c558>\", line 26, in search_instagram_tag\n",
      "    if insta_post['location']['latitude'] != None and insta_post['location']['longitude'] != None:\n",
      "KeyError: 'latitude'\n",
      "Traceback (most recent call last):\n"
     ]
    },
    {
     "name": "stdout",
     "output_type": "stream",
     "text": [
      "\n",
      "caught error in body, continuing: 'latitude'"
     ]
    },
    {
     "name": "stderr",
     "output_type": "stream",
     "text": [
      "  File \"<ipython-input-2-872ebd74c558>\", line 26, in search_instagram_tag\n",
      "    if insta_post['location']['latitude'] != None and insta_post['location']['longitude'] != None:\n",
      "KeyError: 'latitude'\n",
      "Traceback (most recent call last):\n"
     ]
    },
    {
     "name": "stdout",
     "output_type": "stream",
     "text": [
      "\n",
      "caught error in body, continuing: 'latitude'"
     ]
    },
    {
     "name": "stderr",
     "output_type": "stream",
     "text": [
      "  File \"<ipython-input-2-872ebd74c558>\", line 26, in search_instagram_tag\n",
      "    if insta_post['location']['latitude'] != None and insta_post['location']['longitude'] != None:\n",
      "KeyError: 'latitude'\n",
      "Traceback (most recent call last):\n"
     ]
    },
    {
     "name": "stdout",
     "output_type": "stream",
     "text": [
      "\n",
      "caught error in body, continuing: 'latitude'"
     ]
    },
    {
     "name": "stderr",
     "output_type": "stream",
     "text": [
      "  File \"<ipython-input-2-872ebd74c558>\", line 26, in search_instagram_tag\n",
      "    if insta_post['location']['latitude'] != None and insta_post['location']['longitude'] != None:\n",
      "KeyError: 'latitude'\n",
      "Traceback (most recent call last):\n"
     ]
    },
    {
     "name": "stdout",
     "output_type": "stream",
     "text": [
      "\n",
      "caught error in body, continuing: 'latitude'"
     ]
    },
    {
     "name": "stderr",
     "output_type": "stream",
     "text": [
      "  File \"<ipython-input-2-872ebd74c558>\", line 26, in search_instagram_tag\n",
      "    if insta_post['location']['latitude'] != None and insta_post['location']['longitude'] != None:\n",
      "KeyError: 'latitude'\n",
      "Traceback (most recent call last):\n"
     ]
    },
    {
     "name": "stdout",
     "output_type": "stream",
     "text": [
      "\n",
      "caught error in body, continuing: 'latitude'"
     ]
    },
    {
     "name": "stderr",
     "output_type": "stream",
     "text": [
      "  File \"<ipython-input-2-872ebd74c558>\", line 26, in search_instagram_tag\n",
      "    if insta_post['location']['latitude'] != None and insta_post['location']['longitude'] != None:\n",
      "KeyError: 'latitude'\n",
      "Traceback (most recent call last):\n"
     ]
    },
    {
     "name": "stdout",
     "output_type": "stream",
     "text": [
      "\n",
      "caught error in body, continuing: 'latitude'"
     ]
    },
    {
     "name": "stderr",
     "output_type": "stream",
     "text": [
      "  File \"<ipython-input-2-872ebd74c558>\", line 26, in search_instagram_tag\n",
      "    if insta_post['location']['latitude'] != None and insta_post['location']['longitude'] != None:\n",
      "KeyError: 'latitude'\n",
      "Traceback (most recent call last):\n"
     ]
    },
    {
     "name": "stdout",
     "output_type": "stream",
     "text": [
      "\n",
      "caught error in body, continuing: 'latitude'\n",
      "caught error in body, continuing: 'latitude'"
     ]
    },
    {
     "name": "stderr",
     "output_type": "stream",
     "text": [
      "  File \"<ipython-input-2-872ebd74c558>\", line 26, in search_instagram_tag\n",
      "    if insta_post['location']['latitude'] != None and insta_post['location']['longitude'] != None:\n",
      "KeyError: 'latitude'\n",
      "Traceback (most recent call last):\n",
      "  File \"<ipython-input-2-872ebd74c558>\", line 26, in search_instagram_tag\n",
      "    if insta_post['location']['latitude'] != None and insta_post['location']['longitude'] != None:\n",
      "KeyError: 'latitude'\n",
      "Traceback (most recent call last):\n"
     ]
    },
    {
     "name": "stdout",
     "output_type": "stream",
     "text": [
      "\n",
      "caught error in body, continuing: 'latitude'"
     ]
    },
    {
     "name": "stderr",
     "output_type": "stream",
     "text": [
      "  File \"<ipython-input-2-872ebd74c558>\", line 26, in search_instagram_tag\n",
      "    if insta_post['location']['latitude'] != None and insta_post['location']['longitude'] != None:\n",
      "KeyError: 'latitude'\n",
      "Traceback (most recent call last):\n"
     ]
    },
    {
     "name": "stdout",
     "output_type": "stream",
     "text": [
      "\n",
      "caught error in body, continuing: 'latitude'\n",
      "caught error in body, continuing: 'latitude'"
     ]
    },
    {
     "name": "stderr",
     "output_type": "stream",
     "text": [
      "  File \"<ipython-input-2-872ebd74c558>\", line 26, in search_instagram_tag\n",
      "    if insta_post['location']['latitude'] != None and insta_post['location']['longitude'] != None:\n",
      "KeyError: 'latitude'\n",
      "Traceback (most recent call last):\n",
      "  File \"<ipython-input-2-872ebd74c558>\", line 26, in search_instagram_tag\n",
      "    if insta_post['location']['latitude'] != None and insta_post['location']['longitude'] != None:\n",
      "KeyError: 'latitude'\n",
      "Traceback (most recent call last):\n"
     ]
    },
    {
     "name": "stdout",
     "output_type": "stream",
     "text": [
      "\n",
      "caught error in body, continuing: 'latitude'\n",
      "caught error in body, continuing: 'latitude'"
     ]
    },
    {
     "name": "stderr",
     "output_type": "stream",
     "text": [
      "  File \"<ipython-input-2-872ebd74c558>\", line 26, in search_instagram_tag\n",
      "    if insta_post['location']['latitude'] != None and insta_post['location']['longitude'] != None:\n",
      "KeyError: 'latitude'\n",
      "Traceback (most recent call last):\n",
      "  File \"<ipython-input-2-872ebd74c558>\", line 26, in search_instagram_tag\n",
      "    if insta_post['location']['latitude'] != None and insta_post['location']['longitude'] != None:\n",
      "KeyError: 'latitude'\n",
      "Traceback (most recent call last):\n"
     ]
    },
    {
     "name": "stdout",
     "output_type": "stream",
     "text": [
      "\n",
      "caught error in body, continuing: 'NoneType' object has no attribute '__getitem__'"
     ]
    },
    {
     "name": "stderr",
     "output_type": "stream",
     "text": [
      "  File \"<ipython-input-2-872ebd74c558>\", line 26, in search_instagram_tag\n",
      "    if insta_post['location']['latitude'] != None and insta_post['location']['longitude'] != None:\n",
      "KeyError: 'latitude'\n",
      "Traceback (most recent call last):\n"
     ]
    },
    {
     "name": "stdout",
     "output_type": "stream",
     "text": [
      "\n",
      "caught error in body, continuing: 'latitude'"
     ]
    },
    {
     "name": "stderr",
     "output_type": "stream",
     "text": [
      "  File \"<ipython-input-2-872ebd74c558>\", line 28, in search_instagram_tag\n",
      "    int(insta_post['caption']['created_time'])\n",
      "TypeError: 'NoneType' object has no attribute '__getitem__'\n",
      "Traceback (most recent call last):\n"
     ]
    },
    {
     "name": "stdout",
     "output_type": "stream",
     "text": [
      "\n",
      "caught error in body, continuing: 'latitude'"
     ]
    },
    {
     "name": "stderr",
     "output_type": "stream",
     "text": [
      "  File \"<ipython-input-2-872ebd74c558>\", line 26, in search_instagram_tag\n",
      "    if insta_post['location']['latitude'] != None and insta_post['location']['longitude'] != None:\n",
      "KeyError: 'latitude'\n",
      "Traceback (most recent call last):\n"
     ]
    },
    {
     "name": "stdout",
     "output_type": "stream",
     "text": [
      "\n",
      "caught error in body, continuing: 'latitude'"
     ]
    },
    {
     "name": "stderr",
     "output_type": "stream",
     "text": [
      "  File \"<ipython-input-2-872ebd74c558>\", line 26, in search_instagram_tag\n",
      "    if insta_post['location']['latitude'] != None and insta_post['location']['longitude'] != None:\n",
      "KeyError: 'latitude'\n",
      "Traceback (most recent call last):\n"
     ]
    },
    {
     "name": "stdout",
     "output_type": "stream",
     "text": [
      "\n",
      "caught error in body, continuing: 'latitude'"
     ]
    },
    {
     "name": "stderr",
     "output_type": "stream",
     "text": [
      "  File \"<ipython-input-2-872ebd74c558>\", line 26, in search_instagram_tag\n",
      "    if insta_post['location']['latitude'] != None and insta_post['location']['longitude'] != None:\n",
      "KeyError: 'latitude'\n",
      "Traceback (most recent call last):\n"
     ]
    },
    {
     "name": "stdout",
     "output_type": "stream",
     "text": [
      "\n",
      "caught error in body, continuing: 'latitude'"
     ]
    },
    {
     "name": "stderr",
     "output_type": "stream",
     "text": [
      "  File \"<ipython-input-2-872ebd74c558>\", line 26, in search_instagram_tag\n",
      "    if insta_post['location']['latitude'] != None and insta_post['location']['longitude'] != None:\n",
      "KeyError: 'latitude'\n",
      "Traceback (most recent call last):\n"
     ]
    },
    {
     "name": "stdout",
     "output_type": "stream",
     "text": [
      "\n",
      "caught error in body, continuing: 'latitude'"
     ]
    },
    {
     "name": "stderr",
     "output_type": "stream",
     "text": [
      "  File \"<ipython-input-2-872ebd74c558>\", line 26, in search_instagram_tag\n",
      "    if insta_post['location']['latitude'] != None and insta_post['location']['longitude'] != None:\n",
      "KeyError: 'latitude'\n",
      "Traceback (most recent call last):\n"
     ]
    },
    {
     "name": "stdout",
     "output_type": "stream",
     "text": [
      "\n",
      "caught error in body, continuing: 'latitude'"
     ]
    },
    {
     "name": "stderr",
     "output_type": "stream",
     "text": [
      "  File \"<ipython-input-2-872ebd74c558>\", line 26, in search_instagram_tag\n",
      "    if insta_post['location']['latitude'] != None and insta_post['location']['longitude'] != None:\n",
      "KeyError: 'latitude'\n",
      "Traceback (most recent call last):\n"
     ]
    },
    {
     "name": "stdout",
     "output_type": "stream",
     "text": [
      "\n",
      "caught error in body, continuing: 'latitude'"
     ]
    },
    {
     "name": "stderr",
     "output_type": "stream",
     "text": [
      "  File \"<ipython-input-2-872ebd74c558>\", line 26, in search_instagram_tag\n",
      "    if insta_post['location']['latitude'] != None and insta_post['location']['longitude'] != None:\n",
      "KeyError: 'latitude'\n",
      "Traceback (most recent call last):\n"
     ]
    },
    {
     "name": "stdout",
     "output_type": "stream",
     "text": [
      "\n",
      "caught error in body, continuing: 'latitude'"
     ]
    },
    {
     "name": "stderr",
     "output_type": "stream",
     "text": [
      "  File \"<ipython-input-2-872ebd74c558>\", line 26, in search_instagram_tag\n",
      "    if insta_post['location']['latitude'] != None and insta_post['location']['longitude'] != None:\n",
      "KeyError: 'latitude'\n",
      "Traceback (most recent call last):\n"
     ]
    },
    {
     "name": "stdout",
     "output_type": "stream",
     "text": [
      "\n",
      "caught error in body, continuing: 'latitude'"
     ]
    },
    {
     "name": "stderr",
     "output_type": "stream",
     "text": [
      "  File \"<ipython-input-2-872ebd74c558>\", line 26, in search_instagram_tag\n",
      "    if insta_post['location']['latitude'] != None and insta_post['location']['longitude'] != None:\n",
      "KeyError: 'latitude'\n",
      "Traceback (most recent call last):\n"
     ]
    },
    {
     "name": "stdout",
     "output_type": "stream",
     "text": [
      "\n",
      "caught error in body, continuing: 'latitude'"
     ]
    },
    {
     "name": "stderr",
     "output_type": "stream",
     "text": [
      "  File \"<ipython-input-2-872ebd74c558>\", line 26, in search_instagram_tag\n",
      "    if insta_post['location']['latitude'] != None and insta_post['location']['longitude'] != None:\n",
      "KeyError: 'latitude'\n",
      "Traceback (most recent call last):\n"
     ]
    },
    {
     "name": "stdout",
     "output_type": "stream",
     "text": [
      "\n",
      "caught error in body, continuing: 'latitude'"
     ]
    },
    {
     "name": "stderr",
     "output_type": "stream",
     "text": [
      "  File \"<ipython-input-2-872ebd74c558>\", line 26, in search_instagram_tag\n",
      "    if insta_post['location']['latitude'] != None and insta_post['location']['longitude'] != None:\n",
      "KeyError: 'latitude'\n",
      "Traceback (most recent call last):\n"
     ]
    },
    {
     "name": "stdout",
     "output_type": "stream",
     "text": [
      "\n",
      "caught error in body, continuing: 'latitude'"
     ]
    },
    {
     "name": "stderr",
     "output_type": "stream",
     "text": [
      "  File \"<ipython-input-2-872ebd74c558>\", line 26, in search_instagram_tag\n",
      "    if insta_post['location']['latitude'] != None and insta_post['location']['longitude'] != None:\n",
      "KeyError: 'latitude'\n",
      "Traceback (most recent call last):\n"
     ]
    },
    {
     "name": "stdout",
     "output_type": "stream",
     "text": [
      "\n",
      "caught error in body, continuing: 'latitude'"
     ]
    },
    {
     "name": "stderr",
     "output_type": "stream",
     "text": [
      "  File \"<ipython-input-2-872ebd74c558>\", line 26, in search_instagram_tag\n",
      "    if insta_post['location']['latitude'] != None and insta_post['location']['longitude'] != None:\n",
      "KeyError: 'latitude'\n",
      "Traceback (most recent call last):\n"
     ]
    },
    {
     "name": "stdout",
     "output_type": "stream",
     "text": [
      "\n",
      "caught error in body, continuing: 'latitude'"
     ]
    },
    {
     "name": "stderr",
     "output_type": "stream",
     "text": [
      "  File \"<ipython-input-2-872ebd74c558>\", line 26, in search_instagram_tag\n",
      "    if insta_post['location']['latitude'] != None and insta_post['location']['longitude'] != None:\n",
      "KeyError: 'latitude'\n",
      "Traceback (most recent call last):\n"
     ]
    },
    {
     "name": "stdout",
     "output_type": "stream",
     "text": [
      "\n",
      "caught error in body, continuing: 'latitude'"
     ]
    },
    {
     "name": "stderr",
     "output_type": "stream",
     "text": [
      "  File \"<ipython-input-2-872ebd74c558>\", line 26, in search_instagram_tag\n",
      "    if insta_post['location']['latitude'] != None and insta_post['location']['longitude'] != None:\n",
      "KeyError: 'latitude'\n",
      "Traceback (most recent call last):\n"
     ]
    },
    {
     "name": "stdout",
     "output_type": "stream",
     "text": [
      "\n",
      "caught error in body, continuing: 'latitude'"
     ]
    },
    {
     "name": "stderr",
     "output_type": "stream",
     "text": [
      "  File \"<ipython-input-2-872ebd74c558>\", line 26, in search_instagram_tag\n",
      "    if insta_post['location']['latitude'] != None and insta_post['location']['longitude'] != None:\n",
      "KeyError: 'latitude'\n",
      "Traceback (most recent call last):\n"
     ]
    },
    {
     "name": "stdout",
     "output_type": "stream",
     "text": [
      "\n",
      "caught error in body, continuing: 'latitude'"
     ]
    },
    {
     "name": "stderr",
     "output_type": "stream",
     "text": [
      "  File \"<ipython-input-2-872ebd74c558>\", line 26, in search_instagram_tag\n",
      "    if insta_post['location']['latitude'] != None and insta_post['location']['longitude'] != None:\n",
      "KeyError: 'latitude'\n",
      "Traceback (most recent call last):\n"
     ]
    },
    {
     "name": "stdout",
     "output_type": "stream",
     "text": [
      "\n",
      "caught error in body, continuing: 'latitude'"
     ]
    },
    {
     "name": "stderr",
     "output_type": "stream",
     "text": [
      "  File \"<ipython-input-2-872ebd74c558>\", line 26, in search_instagram_tag\n",
      "    if insta_post['location']['latitude'] != None and insta_post['location']['longitude'] != None:\n",
      "KeyError: 'latitude'\n",
      "Traceback (most recent call last):\n"
     ]
    },
    {
     "name": "stdout",
     "output_type": "stream",
     "text": [
      "\n",
      "caught error in body, continuing: 'latitude'"
     ]
    },
    {
     "name": "stderr",
     "output_type": "stream",
     "text": [
      "  File \"<ipython-input-2-872ebd74c558>\", line 26, in search_instagram_tag\n",
      "    if insta_post['location']['latitude'] != None and insta_post['location']['longitude'] != None:\n",
      "KeyError: 'latitude'\n",
      "Traceback (most recent call last):\n"
     ]
    },
    {
     "name": "stdout",
     "output_type": "stream",
     "text": [
      "\n",
      "caught error in body, continuing: 'latitude'"
     ]
    },
    {
     "name": "stderr",
     "output_type": "stream",
     "text": [
      "  File \"<ipython-input-2-872ebd74c558>\", line 26, in search_instagram_tag\n",
      "    if insta_post['location']['latitude'] != None and insta_post['location']['longitude'] != None:\n",
      "KeyError: 'latitude'\n",
      "Traceback (most recent call last):\n"
     ]
    },
    {
     "name": "stdout",
     "output_type": "stream",
     "text": [
      "\n",
      "caught error in body, continuing: 'latitude'"
     ]
    },
    {
     "name": "stderr",
     "output_type": "stream",
     "text": [
      "  File \"<ipython-input-2-872ebd74c558>\", line 26, in search_instagram_tag\n",
      "    if insta_post['location']['latitude'] != None and insta_post['location']['longitude'] != None:\n",
      "KeyError: 'latitude'\n",
      "Traceback (most recent call last):\n"
     ]
    },
    {
     "name": "stdout",
     "output_type": "stream",
     "text": [
      "\n",
      "caught error in body, continuing: 'latitude'"
     ]
    },
    {
     "name": "stderr",
     "output_type": "stream",
     "text": [
      "  File \"<ipython-input-2-872ebd74c558>\", line 26, in search_instagram_tag\n",
      "    if insta_post['location']['latitude'] != None and insta_post['location']['longitude'] != None:\n",
      "KeyError: 'latitude'\n",
      "Traceback (most recent call last):\n"
     ]
    },
    {
     "name": "stdout",
     "output_type": "stream",
     "text": [
      "\n",
      "caught error in body, continuing: 'latitude'"
     ]
    },
    {
     "name": "stderr",
     "output_type": "stream",
     "text": [
      "  File \"<ipython-input-2-872ebd74c558>\", line 26, in search_instagram_tag\n",
      "    if insta_post['location']['latitude'] != None and insta_post['location']['longitude'] != None:\n",
      "KeyError: 'latitude'\n",
      "Traceback (most recent call last):\n"
     ]
    },
    {
     "name": "stdout",
     "output_type": "stream",
     "text": [
      "\n",
      "caught error in body, continuing: 'latitude'"
     ]
    },
    {
     "name": "stderr",
     "output_type": "stream",
     "text": [
      "  File \"<ipython-input-2-872ebd74c558>\", line 26, in search_instagram_tag\n",
      "    if insta_post['location']['latitude'] != None and insta_post['location']['longitude'] != None:\n",
      "KeyError: 'latitude'\n",
      "Traceback (most recent call last):\n"
     ]
    },
    {
     "name": "stdout",
     "output_type": "stream",
     "text": [
      "\n",
      "caught error in body, continuing: 'latitude'"
     ]
    },
    {
     "name": "stderr",
     "output_type": "stream",
     "text": [
      "  File \"<ipython-input-2-872ebd74c558>\", line 26, in search_instagram_tag\n",
      "    if insta_post['location']['latitude'] != None and insta_post['location']['longitude'] != None:\n",
      "KeyError: 'latitude'\n",
      "Traceback (most recent call last):\n"
     ]
    },
    {
     "name": "stdout",
     "output_type": "stream",
     "text": [
      "\n",
      "caught error in body, continuing: 'latitude'"
     ]
    },
    {
     "name": "stderr",
     "output_type": "stream",
     "text": [
      "  File \"<ipython-input-2-872ebd74c558>\", line 26, in search_instagram_tag\n",
      "    if insta_post['location']['latitude'] != None and insta_post['location']['longitude'] != None:\n",
      "KeyError: 'latitude'\n",
      "Traceback (most recent call last):\n"
     ]
    },
    {
     "name": "stdout",
     "output_type": "stream",
     "text": [
      "\n",
      "caught error in body, continuing: 'latitude'"
     ]
    },
    {
     "name": "stderr",
     "output_type": "stream",
     "text": [
      "  File \"<ipython-input-2-872ebd74c558>\", line 26, in search_instagram_tag\n",
      "    if insta_post['location']['latitude'] != None and insta_post['location']['longitude'] != None:\n",
      "KeyError: 'latitude'\n",
      "Traceback (most recent call last):\n"
     ]
    },
    {
     "name": "stdout",
     "output_type": "stream",
     "text": [
      "\n",
      "caught error in body, continuing: 'latitude'"
     ]
    },
    {
     "name": "stderr",
     "output_type": "stream",
     "text": [
      "  File \"<ipython-input-2-872ebd74c558>\", line 26, in search_instagram_tag\n",
      "    if insta_post['location']['latitude'] != None and insta_post['location']['longitude'] != None:\n",
      "KeyError: 'latitude'\n",
      "Traceback (most recent call last):\n"
     ]
    },
    {
     "name": "stdout",
     "output_type": "stream",
     "text": [
      "\n",
      "caught error in body, continuing: 'latitude'"
     ]
    },
    {
     "name": "stderr",
     "output_type": "stream",
     "text": [
      "  File \"<ipython-input-2-872ebd74c558>\", line 26, in search_instagram_tag\n",
      "    if insta_post['location']['latitude'] != None and insta_post['location']['longitude'] != None:\n",
      "KeyError: 'latitude'\n",
      "Traceback (most recent call last):\n"
     ]
    },
    {
     "name": "stdout",
     "output_type": "stream",
     "text": [
      "\n",
      "caught error in body, continuing: 'latitude'"
     ]
    },
    {
     "name": "stderr",
     "output_type": "stream",
     "text": [
      "  File \"<ipython-input-2-872ebd74c558>\", line 26, in search_instagram_tag\n",
      "    if insta_post['location']['latitude'] != None and insta_post['location']['longitude'] != None:\n",
      "KeyError: 'latitude'\n",
      "Traceback (most recent call last):\n"
     ]
    },
    {
     "name": "stdout",
     "output_type": "stream",
     "text": [
      "\n",
      "caught error in body, continuing: 'latitude'\n",
      "caught error in body, continuing: 'latitude'"
     ]
    },
    {
     "name": "stderr",
     "output_type": "stream",
     "text": [
      "  File \"<ipython-input-2-872ebd74c558>\", line 26, in search_instagram_tag\n",
      "    if insta_post['location']['latitude'] != None and insta_post['location']['longitude'] != None:\n",
      "KeyError: 'latitude'\n",
      "Traceback (most recent call last):\n",
      "  File \"<ipython-input-2-872ebd74c558>\", line 26, in search_instagram_tag\n",
      "    if insta_post['location']['latitude'] != None and insta_post['location']['longitude'] != None:\n",
      "KeyError: 'latitude'\n",
      "Traceback (most recent call last):\n"
     ]
    },
    {
     "name": "stdout",
     "output_type": "stream",
     "text": [
      "\n",
      "caught error in body, continuing: 'latitude'\n",
      "caught error in body, continuing: 'latitude'"
     ]
    },
    {
     "name": "stderr",
     "output_type": "stream",
     "text": [
      "  File \"<ipython-input-2-872ebd74c558>\", line 26, in search_instagram_tag\n",
      "    if insta_post['location']['latitude'] != None and insta_post['location']['longitude'] != None:\n",
      "KeyError: 'latitude'\n",
      "Traceback (most recent call last):\n",
      "  File \"<ipython-input-2-872ebd74c558>\", line 26, in search_instagram_tag\n",
      "    if insta_post['location']['latitude'] != None and insta_post['location']['longitude'] != None:\n",
      "KeyError: 'latitude'\n",
      "Traceback (most recent call last):\n"
     ]
    },
    {
     "name": "stdout",
     "output_type": "stream",
     "text": [
      "\n",
      "caught error in body, continuing: 'latitude'"
     ]
    },
    {
     "name": "stderr",
     "output_type": "stream",
     "text": [
      "  File \"<ipython-input-2-872ebd74c558>\", line 26, in search_instagram_tag\n",
      "    if insta_post['location']['latitude'] != None and insta_post['location']['longitude'] != None:\n",
      "KeyError: 'latitude'\n",
      "Traceback (most recent call last):\n"
     ]
    },
    {
     "name": "stdout",
     "output_type": "stream",
     "text": [
      "\n",
      "caught error in body, continuing: 'latitude'"
     ]
    },
    {
     "name": "stderr",
     "output_type": "stream",
     "text": [
      "  File \"<ipython-input-2-872ebd74c558>\", line 26, in search_instagram_tag\n",
      "    if insta_post['location']['latitude'] != None and insta_post['location']['longitude'] != None:\n",
      "KeyError: 'latitude'\n",
      "Traceback (most recent call last):\n"
     ]
    },
    {
     "name": "stdout",
     "output_type": "stream",
     "text": [
      "\n",
      "caught error in body, continuing: 'latitude'"
     ]
    },
    {
     "name": "stderr",
     "output_type": "stream",
     "text": [
      "  File \"<ipython-input-2-872ebd74c558>\", line 26, in search_instagram_tag\n",
      "    if insta_post['location']['latitude'] != None and insta_post['location']['longitude'] != None:\n",
      "KeyError: 'latitude'\n",
      "Traceback (most recent call last):\n"
     ]
    },
    {
     "name": "stdout",
     "output_type": "stream",
     "text": [
      "\n",
      "caught error in body, continuing: 'latitude'"
     ]
    },
    {
     "name": "stderr",
     "output_type": "stream",
     "text": [
      "  File \"<ipython-input-2-872ebd74c558>\", line 26, in search_instagram_tag\n",
      "    if insta_post['location']['latitude'] != None and insta_post['location']['longitude'] != None:\n",
      "KeyError: 'latitude'\n",
      "Traceback (most recent call last):\n"
     ]
    },
    {
     "name": "stdout",
     "output_type": "stream",
     "text": [
      "\n",
      "caught error in body, continuing: 'latitude'"
     ]
    },
    {
     "name": "stderr",
     "output_type": "stream",
     "text": [
      "  File \"<ipython-input-2-872ebd74c558>\", line 26, in search_instagram_tag\n",
      "    if insta_post['location']['latitude'] != None and insta_post['location']['longitude'] != None:\n",
      "KeyError: 'latitude'\n",
      "Traceback (most recent call last):\n"
     ]
    },
    {
     "name": "stdout",
     "output_type": "stream",
     "text": [
      "\n",
      "caught error in body, continuing: 'NoneType' object has no attribute '__getitem__'"
     ]
    },
    {
     "name": "stderr",
     "output_type": "stream",
     "text": [
      "  File \"<ipython-input-2-872ebd74c558>\", line 26, in search_instagram_tag\n",
      "    if insta_post['location']['latitude'] != None and insta_post['location']['longitude'] != None:\n",
      "KeyError: 'latitude'\n",
      "Traceback (most recent call last):\n"
     ]
    },
    {
     "name": "stdout",
     "output_type": "stream",
     "text": [
      "\n",
      "caught error in body, continuing: 'latitude'"
     ]
    },
    {
     "name": "stderr",
     "output_type": "stream",
     "text": [
      "  File \"<ipython-input-2-872ebd74c558>\", line 28, in search_instagram_tag\n",
      "    int(insta_post['caption']['created_time'])\n",
      "TypeError: 'NoneType' object has no attribute '__getitem__'\n",
      "Traceback (most recent call last):\n"
     ]
    },
    {
     "name": "stdout",
     "output_type": "stream",
     "text": [
      "\n",
      "caught error in body, continuing: 'latitude'"
     ]
    },
    {
     "name": "stderr",
     "output_type": "stream",
     "text": [
      "  File \"<ipython-input-2-872ebd74c558>\", line 26, in search_instagram_tag\n",
      "    if insta_post['location']['latitude'] != None and insta_post['location']['longitude'] != None:\n",
      "KeyError: 'latitude'\n",
      "Traceback (most recent call last):\n"
     ]
    },
    {
     "name": "stdout",
     "output_type": "stream",
     "text": [
      "\n",
      "caught error in body, continuing: 'latitude'"
     ]
    },
    {
     "name": "stderr",
     "output_type": "stream",
     "text": [
      "  File \"<ipython-input-2-872ebd74c558>\", line 26, in search_instagram_tag\n",
      "    if insta_post['location']['latitude'] != None and insta_post['location']['longitude'] != None:\n",
      "KeyError: 'latitude'\n",
      "Traceback (most recent call last):\n"
     ]
    },
    {
     "name": "stdout",
     "output_type": "stream",
     "text": [
      "\n",
      "caught error in body, continuing: 'latitude'"
     ]
    },
    {
     "name": "stderr",
     "output_type": "stream",
     "text": [
      "  File \"<ipython-input-2-872ebd74c558>\", line 26, in search_instagram_tag\n",
      "    if insta_post['location']['latitude'] != None and insta_post['location']['longitude'] != None:\n",
      "KeyError: 'latitude'\n",
      "Traceback (most recent call last):\n"
     ]
    },
    {
     "name": "stdout",
     "output_type": "stream",
     "text": [
      "\n",
      "caught error in body, continuing: 'latitude'"
     ]
    },
    {
     "name": "stderr",
     "output_type": "stream",
     "text": [
      "  File \"<ipython-input-2-872ebd74c558>\", line 26, in search_instagram_tag\n",
      "    if insta_post['location']['latitude'] != None and insta_post['location']['longitude'] != None:\n",
      "KeyError: 'latitude'\n",
      "Traceback (most recent call last):\n"
     ]
    },
    {
     "name": "stdout",
     "output_type": "stream",
     "text": [
      "\n",
      "caught error in body, continuing: 'latitude'"
     ]
    },
    {
     "name": "stderr",
     "output_type": "stream",
     "text": [
      "  File \"<ipython-input-2-872ebd74c558>\", line 26, in search_instagram_tag\n",
      "    if insta_post['location']['latitude'] != None and insta_post['location']['longitude'] != None:\n",
      "KeyError: 'latitude'\n",
      "Traceback (most recent call last):\n"
     ]
    },
    {
     "name": "stdout",
     "output_type": "stream",
     "text": [
      "\n",
      "caught error in body, continuing: 'latitude'"
     ]
    },
    {
     "name": "stderr",
     "output_type": "stream",
     "text": [
      "  File \"<ipython-input-2-872ebd74c558>\", line 26, in search_instagram_tag\n",
      "    if insta_post['location']['latitude'] != None and insta_post['location']['longitude'] != None:\n",
      "KeyError: 'latitude'\n",
      "Traceback (most recent call last):\n"
     ]
    },
    {
     "name": "stdout",
     "output_type": "stream",
     "text": [
      "\n",
      "caught error in body, continuing: 'latitude'"
     ]
    },
    {
     "name": "stderr",
     "output_type": "stream",
     "text": [
      "  File \"<ipython-input-2-872ebd74c558>\", line 26, in search_instagram_tag\n",
      "    if insta_post['location']['latitude'] != None and insta_post['location']['longitude'] != None:\n",
      "KeyError: 'latitude'\n",
      "Traceback (most recent call last):\n"
     ]
    },
    {
     "name": "stdout",
     "output_type": "stream",
     "text": [
      "\n",
      "caught error in body, continuing: 'latitude'"
     ]
    },
    {
     "name": "stderr",
     "output_type": "stream",
     "text": [
      "  File \"<ipython-input-2-872ebd74c558>\", line 26, in search_instagram_tag\n",
      "    if insta_post['location']['latitude'] != None and insta_post['location']['longitude'] != None:\n",
      "KeyError: 'latitude'\n",
      "Traceback (most recent call last):\n"
     ]
    },
    {
     "name": "stdout",
     "output_type": "stream",
     "text": [
      "\n",
      "caught error in body, continuing: 'latitude'"
     ]
    },
    {
     "name": "stderr",
     "output_type": "stream",
     "text": [
      "  File \"<ipython-input-2-872ebd74c558>\", line 26, in search_instagram_tag\n",
      "    if insta_post['location']['latitude'] != None and insta_post['location']['longitude'] != None:\n",
      "KeyError: 'latitude'\n",
      "Traceback (most recent call last):\n"
     ]
    },
    {
     "name": "stdout",
     "output_type": "stream",
     "text": [
      "\n",
      "caught error in body, continuing: 'latitude'"
     ]
    },
    {
     "name": "stderr",
     "output_type": "stream",
     "text": [
      "  File \"<ipython-input-2-872ebd74c558>\", line 26, in search_instagram_tag\n",
      "    if insta_post['location']['latitude'] != None and insta_post['location']['longitude'] != None:\n",
      "KeyError: 'latitude'\n",
      "Traceback (most recent call last):\n"
     ]
    },
    {
     "name": "stdout",
     "output_type": "stream",
     "text": [
      "\n",
      "caught error in body, continuing: 'latitude'"
     ]
    },
    {
     "name": "stderr",
     "output_type": "stream",
     "text": [
      "  File \"<ipython-input-2-872ebd74c558>\", line 26, in search_instagram_tag\n",
      "    if insta_post['location']['latitude'] != None and insta_post['location']['longitude'] != None:\n",
      "KeyError: 'latitude'\n",
      "Traceback (most recent call last):\n"
     ]
    },
    {
     "name": "stdout",
     "output_type": "stream",
     "text": [
      "\n",
      "caught error in body, continuing: 'latitude'"
     ]
    },
    {
     "name": "stderr",
     "output_type": "stream",
     "text": [
      "  File \"<ipython-input-2-872ebd74c558>\", line 26, in search_instagram_tag\n",
      "    if insta_post['location']['latitude'] != None and insta_post['location']['longitude'] != None:\n",
      "KeyError: 'latitude'\n",
      "Traceback (most recent call last):\n"
     ]
    },
    {
     "name": "stdout",
     "output_type": "stream",
     "text": [
      "\n",
      "caught error in body, continuing: 'latitude'"
     ]
    },
    {
     "name": "stderr",
     "output_type": "stream",
     "text": [
      "  File \"<ipython-input-2-872ebd74c558>\", line 26, in search_instagram_tag\n",
      "    if insta_post['location']['latitude'] != None and insta_post['location']['longitude'] != None:\n",
      "KeyError: 'latitude'\n",
      "Traceback (most recent call last):\n"
     ]
    },
    {
     "name": "stdout",
     "output_type": "stream",
     "text": [
      "\n",
      "caught error in body, continuing: 'latitude'"
     ]
    },
    {
     "name": "stderr",
     "output_type": "stream",
     "text": [
      "  File \"<ipython-input-2-872ebd74c558>\", line 26, in search_instagram_tag\n",
      "    if insta_post['location']['latitude'] != None and insta_post['location']['longitude'] != None:\n",
      "KeyError: 'latitude'\n",
      "Traceback (most recent call last):\n"
     ]
    },
    {
     "name": "stdout",
     "output_type": "stream",
     "text": [
      "\n",
      "caught error in body, continuing: 'latitude'"
     ]
    },
    {
     "name": "stderr",
     "output_type": "stream",
     "text": [
      "  File \"<ipython-input-2-872ebd74c558>\", line 26, in search_instagram_tag\n",
      "    if insta_post['location']['latitude'] != None and insta_post['location']['longitude'] != None:\n",
      "KeyError: 'latitude'\n",
      "Traceback (most recent call last):\n"
     ]
    },
    {
     "name": "stdout",
     "output_type": "stream",
     "text": [
      "\n",
      "caught error in body, continuing: 'latitude'"
     ]
    },
    {
     "name": "stderr",
     "output_type": "stream",
     "text": [
      "  File \"<ipython-input-2-872ebd74c558>\", line 26, in search_instagram_tag\n",
      "    if insta_post['location']['latitude'] != None and insta_post['location']['longitude'] != None:\n",
      "KeyError: 'latitude'\n",
      "Traceback (most recent call last):\n"
     ]
    },
    {
     "name": "stdout",
     "output_type": "stream",
     "text": [
      "\n",
      "caught error in body, continuing: 'latitude'"
     ]
    },
    {
     "name": "stderr",
     "output_type": "stream",
     "text": [
      "  File \"<ipython-input-2-872ebd74c558>\", line 26, in search_instagram_tag\n",
      "    if insta_post['location']['latitude'] != None and insta_post['location']['longitude'] != None:\n",
      "KeyError: 'latitude'\n",
      "Traceback (most recent call last):\n"
     ]
    },
    {
     "name": "stdout",
     "output_type": "stream",
     "text": [
      "\n",
      "caught error in body, continuing: 'latitude'"
     ]
    },
    {
     "name": "stderr",
     "output_type": "stream",
     "text": [
      "  File \"<ipython-input-2-872ebd74c558>\", line 26, in search_instagram_tag\n",
      "    if insta_post['location']['latitude'] != None and insta_post['location']['longitude'] != None:\n",
      "KeyError: 'latitude'\n",
      "Traceback (most recent call last):\n"
     ]
    },
    {
     "name": "stdout",
     "output_type": "stream",
     "text": [
      "\n",
      "caught error in body, continuing: 'latitude'"
     ]
    },
    {
     "name": "stderr",
     "output_type": "stream",
     "text": [
      "  File \"<ipython-input-2-872ebd74c558>\", line 26, in search_instagram_tag\n",
      "    if insta_post['location']['latitude'] != None and insta_post['location']['longitude'] != None:\n",
      "KeyError: 'latitude'\n",
      "Traceback (most recent call last):\n"
     ]
    },
    {
     "name": "stdout",
     "output_type": "stream",
     "text": [
      "\n",
      "caught error in body, continuing: 'latitude'"
     ]
    },
    {
     "name": "stderr",
     "output_type": "stream",
     "text": [
      "  File \"<ipython-input-2-872ebd74c558>\", line 26, in search_instagram_tag\n",
      "    if insta_post['location']['latitude'] != None and insta_post['location']['longitude'] != None:\n",
      "KeyError: 'latitude'\n",
      "Traceback (most recent call last):\n"
     ]
    },
    {
     "name": "stdout",
     "output_type": "stream",
     "text": [
      "\n",
      "caught error in body, continuing: 'latitude'"
     ]
    },
    {
     "name": "stderr",
     "output_type": "stream",
     "text": [
      "  File \"<ipython-input-2-872ebd74c558>\", line 26, in search_instagram_tag\n",
      "    if insta_post['location']['latitude'] != None and insta_post['location']['longitude'] != None:\n",
      "KeyError: 'latitude'\n",
      "Traceback (most recent call last):\n"
     ]
    },
    {
     "name": "stdout",
     "output_type": "stream",
     "text": [
      "\n",
      "caught error in body, continuing: 'latitude'"
     ]
    },
    {
     "name": "stderr",
     "output_type": "stream",
     "text": [
      "  File \"<ipython-input-2-872ebd74c558>\", line 26, in search_instagram_tag\n",
      "    if insta_post['location']['latitude'] != None and insta_post['location']['longitude'] != None:\n",
      "KeyError: 'latitude'\n",
      "Traceback (most recent call last):\n"
     ]
    },
    {
     "name": "stdout",
     "output_type": "stream",
     "text": [
      "\n",
      "caught error in body, continuing: 'latitude'"
     ]
    },
    {
     "name": "stderr",
     "output_type": "stream",
     "text": [
      "  File \"<ipython-input-2-872ebd74c558>\", line 26, in search_instagram_tag\n",
      "    if insta_post['location']['latitude'] != None and insta_post['location']['longitude'] != None:\n",
      "KeyError: 'latitude'\n",
      "Traceback (most recent call last):\n"
     ]
    },
    {
     "name": "stdout",
     "output_type": "stream",
     "text": [
      "\n",
      "caught error in body, continuing: 'latitude'"
     ]
    },
    {
     "name": "stderr",
     "output_type": "stream",
     "text": [
      "  File \"<ipython-input-2-872ebd74c558>\", line 26, in search_instagram_tag\n",
      "    if insta_post['location']['latitude'] != None and insta_post['location']['longitude'] != None:\n",
      "KeyError: 'latitude'\n",
      "Traceback (most recent call last):\n"
     ]
    },
    {
     "name": "stdout",
     "output_type": "stream",
     "text": [
      "\n",
      "caught error in body, continuing: 'latitude'"
     ]
    },
    {
     "name": "stderr",
     "output_type": "stream",
     "text": [
      "  File \"<ipython-input-2-872ebd74c558>\", line 26, in search_instagram_tag\n",
      "    if insta_post['location']['latitude'] != None and insta_post['location']['longitude'] != None:\n",
      "KeyError: 'latitude'\n",
      "Traceback (most recent call last):\n"
     ]
    },
    {
     "name": "stdout",
     "output_type": "stream",
     "text": [
      "\n",
      "caught error in body, continuing: 'latitude'"
     ]
    },
    {
     "name": "stderr",
     "output_type": "stream",
     "text": [
      "  File \"<ipython-input-2-872ebd74c558>\", line 26, in search_instagram_tag\n",
      "    if insta_post['location']['latitude'] != None and insta_post['location']['longitude'] != None:\n",
      "KeyError: 'latitude'\n",
      "Traceback (most recent call last):\n"
     ]
    },
    {
     "name": "stdout",
     "output_type": "stream",
     "text": [
      "\n",
      "caught error in body, continuing: 'latitude'"
     ]
    },
    {
     "name": "stderr",
     "output_type": "stream",
     "text": [
      "  File \"<ipython-input-2-872ebd74c558>\", line 26, in search_instagram_tag\n",
      "    if insta_post['location']['latitude'] != None and insta_post['location']['longitude'] != None:\n",
      "KeyError: 'latitude'\n",
      "Traceback (most recent call last):\n"
     ]
    },
    {
     "name": "stdout",
     "output_type": "stream",
     "text": [
      "\n",
      "caught error in body, continuing: 'latitude'"
     ]
    },
    {
     "name": "stderr",
     "output_type": "stream",
     "text": [
      "  File \"<ipython-input-2-872ebd74c558>\", line 26, in search_instagram_tag\n",
      "    if insta_post['location']['latitude'] != None and insta_post['location']['longitude'] != None:\n",
      "KeyError: 'latitude'\n",
      "Traceback (most recent call last):\n"
     ]
    },
    {
     "name": "stdout",
     "output_type": "stream",
     "text": [
      "\n",
      "caught error in body, continuing: 'latitude'"
     ]
    },
    {
     "name": "stderr",
     "output_type": "stream",
     "text": [
      "  File \"<ipython-input-2-872ebd74c558>\", line 26, in search_instagram_tag\n",
      "    if insta_post['location']['latitude'] != None and insta_post['location']['longitude'] != None:\n",
      "KeyError: 'latitude'\n",
      "Traceback (most recent call last):\n"
     ]
    },
    {
     "name": "stdout",
     "output_type": "stream",
     "text": [
      "\n",
      "caught error in body, continuing: 'latitude'"
     ]
    },
    {
     "name": "stderr",
     "output_type": "stream",
     "text": [
      "  File \"<ipython-input-2-872ebd74c558>\", line 26, in search_instagram_tag\n",
      "    if insta_post['location']['latitude'] != None and insta_post['location']['longitude'] != None:\n",
      "KeyError: 'latitude'\n",
      "Traceback (most recent call last):\n"
     ]
    },
    {
     "name": "stdout",
     "output_type": "stream",
     "text": [
      "\n",
      "caught error in body, continuing: 'latitude'"
     ]
    },
    {
     "name": "stderr",
     "output_type": "stream",
     "text": [
      "  File \"<ipython-input-2-872ebd74c558>\", line 26, in search_instagram_tag\n",
      "    if insta_post['location']['latitude'] != None and insta_post['location']['longitude'] != None:\n",
      "KeyError: 'latitude'\n",
      "Traceback (most recent call last):\n"
     ]
    },
    {
     "name": "stdout",
     "output_type": "stream",
     "text": [
      "\n",
      "caught error in body, continuing: 'latitude'"
     ]
    },
    {
     "name": "stderr",
     "output_type": "stream",
     "text": [
      "  File \"<ipython-input-2-872ebd74c558>\", line 26, in search_instagram_tag\n",
      "    if insta_post['location']['latitude'] != None and insta_post['location']['longitude'] != None:\n",
      "KeyError: 'latitude'\n",
      "Traceback (most recent call last):\n"
     ]
    },
    {
     "name": "stdout",
     "output_type": "stream",
     "text": [
      "\n",
      "caught error in body, continuing: 'latitude'"
     ]
    },
    {
     "name": "stderr",
     "output_type": "stream",
     "text": [
      "  File \"<ipython-input-2-872ebd74c558>\", line 26, in search_instagram_tag\n",
      "    if insta_post['location']['latitude'] != None and insta_post['location']['longitude'] != None:\n",
      "KeyError: 'latitude'\n",
      "Traceback (most recent call last):\n"
     ]
    },
    {
     "name": "stdout",
     "output_type": "stream",
     "text": [
      "\n",
      "caught error in body, continuing: 'latitude'"
     ]
    },
    {
     "name": "stderr",
     "output_type": "stream",
     "text": [
      "  File \"<ipython-input-2-872ebd74c558>\", line 26, in search_instagram_tag\n",
      "    if insta_post['location']['latitude'] != None and insta_post['location']['longitude'] != None:\n",
      "KeyError: 'latitude'\n",
      "Traceback (most recent call last):\n"
     ]
    },
    {
     "name": "stdout",
     "output_type": "stream",
     "text": [
      "\n",
      "caught error in body, continuing: 'latitude'"
     ]
    },
    {
     "name": "stderr",
     "output_type": "stream",
     "text": [
      "  File \"<ipython-input-2-872ebd74c558>\", line 26, in search_instagram_tag\n",
      "    if insta_post['location']['latitude'] != None and insta_post['location']['longitude'] != None:\n",
      "KeyError: 'latitude'\n",
      "Traceback (most recent call last):\n"
     ]
    },
    {
     "name": "stdout",
     "output_type": "stream",
     "text": [
      "\n",
      "caught error in body, continuing: 'latitude'"
     ]
    },
    {
     "name": "stderr",
     "output_type": "stream",
     "text": [
      "  File \"<ipython-input-2-872ebd74c558>\", line 26, in search_instagram_tag\n",
      "    if insta_post['location']['latitude'] != None and insta_post['location']['longitude'] != None:\n",
      "KeyError: 'latitude'\n",
      "Traceback (most recent call last):\n"
     ]
    },
    {
     "name": "stdout",
     "output_type": "stream",
     "text": [
      "\n",
      "caught error in body, continuing: 'latitude'\n",
      "caught error in body, continuing: 'latitude'\n",
      "caught error in body, continuing: 'latitude'"
     ]
    },
    {
     "name": "stderr",
     "output_type": "stream",
     "text": [
      "  File \"<ipython-input-2-872ebd74c558>\", line 26, in search_instagram_tag\n",
      "    if insta_post['location']['latitude'] != None and insta_post['location']['longitude'] != None:\n",
      "KeyError: 'latitude'\n",
      "Traceback (most recent call last):\n",
      "  File \"<ipython-input-2-872ebd74c558>\", line 26, in search_instagram_tag\n",
      "    if insta_post['location']['latitude'] != None and insta_post['location']['longitude'] != None:\n",
      "KeyError: 'latitude'\n",
      "Traceback (most recent call last):\n",
      "  File \"<ipython-input-2-872ebd74c558>\", line 26, in search_instagram_tag\n",
      "    if insta_post['location']['latitude'] != None and insta_post['location']['longitude'] != None:\n",
      "KeyError: 'latitude'\n",
      "Traceback (most recent call last):\n"
     ]
    },
    {
     "name": "stdout",
     "output_type": "stream",
     "text": [
      "\n",
      "caught error in body, continuing: 'latitude'"
     ]
    },
    {
     "name": "stderr",
     "output_type": "stream",
     "text": [
      "  File \"<ipython-input-2-872ebd74c558>\", line 26, in search_instagram_tag\n",
      "    if insta_post['location']['latitude'] != None and insta_post['location']['longitude'] != None:\n",
      "KeyError: 'latitude'\n",
      "Traceback (most recent call last):\n"
     ]
    },
    {
     "name": "stdout",
     "output_type": "stream",
     "text": [
      "\n",
      "caught error in body, continuing: 'latitude'"
     ]
    },
    {
     "name": "stderr",
     "output_type": "stream",
     "text": [
      "  File \"<ipython-input-2-872ebd74c558>\", line 26, in search_instagram_tag\n",
      "    if insta_post['location']['latitude'] != None and insta_post['location']['longitude'] != None:\n",
      "KeyError: 'latitude'\n",
      "Traceback (most recent call last):\n"
     ]
    },
    {
     "name": "stdout",
     "output_type": "stream",
     "text": [
      "\n",
      "caught error in body, continuing: 'latitude'"
     ]
    },
    {
     "name": "stderr",
     "output_type": "stream",
     "text": [
      "  File \"<ipython-input-2-872ebd74c558>\", line 26, in search_instagram_tag\n",
      "    if insta_post['location']['latitude'] != None and insta_post['location']['longitude'] != None:\n",
      "KeyError: 'latitude'\n",
      "Traceback (most recent call last):\n"
     ]
    },
    {
     "name": "stdout",
     "output_type": "stream",
     "text": [
      "\n",
      "caught error in body, continuing: 'latitude'"
     ]
    },
    {
     "name": "stderr",
     "output_type": "stream",
     "text": [
      "  File \"<ipython-input-2-872ebd74c558>\", line 26, in search_instagram_tag\n",
      "    if insta_post['location']['latitude'] != None and insta_post['location']['longitude'] != None:\n",
      "KeyError: 'latitude'\n",
      "Traceback (most recent call last):\n"
     ]
    },
    {
     "name": "stdout",
     "output_type": "stream",
     "text": [
      "\n",
      "caught error in body, continuing: 'latitude'"
     ]
    },
    {
     "name": "stderr",
     "output_type": "stream",
     "text": [
      "  File \"<ipython-input-2-872ebd74c558>\", line 26, in search_instagram_tag\n",
      "    if insta_post['location']['latitude'] != None and insta_post['location']['longitude'] != None:\n",
      "KeyError: 'latitude'\n",
      "Traceback (most recent call last):\n"
     ]
    },
    {
     "name": "stdout",
     "output_type": "stream",
     "text": [
      "\n",
      "caught error in body, continuing: 'latitude'"
     ]
    },
    {
     "name": "stderr",
     "output_type": "stream",
     "text": [
      "  File \"<ipython-input-2-872ebd74c558>\", line 26, in search_instagram_tag\n",
      "    if insta_post['location']['latitude'] != None and insta_post['location']['longitude'] != None:\n",
      "KeyError: 'latitude'\n",
      "Traceback (most recent call last):\n"
     ]
    },
    {
     "name": "stdout",
     "output_type": "stream",
     "text": [
      "\n",
      "caught error in body, continuing: 'latitude'"
     ]
    },
    {
     "name": "stderr",
     "output_type": "stream",
     "text": [
      "  File \"<ipython-input-2-872ebd74c558>\", line 26, in search_instagram_tag\n",
      "    if insta_post['location']['latitude'] != None and insta_post['location']['longitude'] != None:\n",
      "KeyError: 'latitude'\n",
      "Traceback (most recent call last):\n"
     ]
    },
    {
     "name": "stdout",
     "output_type": "stream",
     "text": [
      "\n",
      "caught error in body, continuing: 'latitude'"
     ]
    },
    {
     "name": "stderr",
     "output_type": "stream",
     "text": [
      "  File \"<ipython-input-2-872ebd74c558>\", line 26, in search_instagram_tag\n",
      "    if insta_post['location']['latitude'] != None and insta_post['location']['longitude'] != None:\n",
      "KeyError: 'latitude'\n",
      "Traceback (most recent call last):\n"
     ]
    },
    {
     "name": "stdout",
     "output_type": "stream",
     "text": [
      "\n",
      "caught error in body, continuing: 'latitude'\n",
      "caught error in body, continuing: 'latitude'"
     ]
    },
    {
     "name": "stderr",
     "output_type": "stream",
     "text": [
      "  File \"<ipython-input-2-872ebd74c558>\", line 26, in search_instagram_tag\n",
      "    if insta_post['location']['latitude'] != None and insta_post['location']['longitude'] != None:\n",
      "KeyError: 'latitude'\n",
      "Traceback (most recent call last):\n",
      "  File \"<ipython-input-2-872ebd74c558>\", line 26, in search_instagram_tag\n",
      "    if insta_post['location']['latitude'] != None and insta_post['location']['longitude'] != None:\n",
      "KeyError: 'latitude'\n",
      "Traceback (most recent call last):\n"
     ]
    },
    {
     "name": "stdout",
     "output_type": "stream",
     "text": [
      "\n",
      "caught error in body, continuing: 'latitude'"
     ]
    },
    {
     "name": "stderr",
     "output_type": "stream",
     "text": [
      "  File \"<ipython-input-2-872ebd74c558>\", line 26, in search_instagram_tag\n",
      "    if insta_post['location']['latitude'] != None and insta_post['location']['longitude'] != None:\n",
      "KeyError: 'latitude'\n",
      "Traceback (most recent call last):\n"
     ]
    },
    {
     "name": "stdout",
     "output_type": "stream",
     "text": [
      "\n",
      "caught error in body, continuing: 'latitude'"
     ]
    },
    {
     "name": "stderr",
     "output_type": "stream",
     "text": [
      "  File \"<ipython-input-2-872ebd74c558>\", line 26, in search_instagram_tag\n",
      "    if insta_post['location']['latitude'] != None and insta_post['location']['longitude'] != None:\n",
      "KeyError: 'latitude'\n",
      "Traceback (most recent call last):\n"
     ]
    },
    {
     "name": "stdout",
     "output_type": "stream",
     "text": [
      "\n",
      "caught error in body, continuing: 'latitude'"
     ]
    },
    {
     "name": "stderr",
     "output_type": "stream",
     "text": [
      "  File \"<ipython-input-2-872ebd74c558>\", line 26, in search_instagram_tag\n",
      "    if insta_post['location']['latitude'] != None and insta_post['location']['longitude'] != None:\n",
      "KeyError: 'latitude'\n",
      "Traceback (most recent call last):\n"
     ]
    },
    {
     "name": "stdout",
     "output_type": "stream",
     "text": [
      "\n",
      "caught error in body, continuing: 'latitude'"
     ]
    },
    {
     "name": "stderr",
     "output_type": "stream",
     "text": [
      "  File \"<ipython-input-2-872ebd74c558>\", line 26, in search_instagram_tag\n",
      "    if insta_post['location']['latitude'] != None and insta_post['location']['longitude'] != None:\n",
      "KeyError: 'latitude'\n",
      "Traceback (most recent call last):\n"
     ]
    },
    {
     "name": "stdout",
     "output_type": "stream",
     "text": [
      "\n",
      "caught error in body, continuing: 'latitude'"
     ]
    },
    {
     "name": "stderr",
     "output_type": "stream",
     "text": [
      "  File \"<ipython-input-2-872ebd74c558>\", line 26, in search_instagram_tag\n",
      "    if insta_post['location']['latitude'] != None and insta_post['location']['longitude'] != None:\n",
      "KeyError: 'latitude'\n",
      "Traceback (most recent call last):\n"
     ]
    },
    {
     "name": "stdout",
     "output_type": "stream",
     "text": [
      "\n",
      "caught error in body, continuing: 'latitude'"
     ]
    },
    {
     "name": "stderr",
     "output_type": "stream",
     "text": [
      "  File \"<ipython-input-2-872ebd74c558>\", line 26, in search_instagram_tag\n",
      "    if insta_post['location']['latitude'] != None and insta_post['location']['longitude'] != None:\n",
      "KeyError: 'latitude'\n",
      "Traceback (most recent call last):\n"
     ]
    },
    {
     "name": "stdout",
     "output_type": "stream",
     "text": [
      "\n",
      "caught error in body, continuing: 'latitude'"
     ]
    },
    {
     "name": "stderr",
     "output_type": "stream",
     "text": [
      "  File \"<ipython-input-2-872ebd74c558>\", line 26, in search_instagram_tag\n",
      "    if insta_post['location']['latitude'] != None and insta_post['location']['longitude'] != None:\n",
      "KeyError: 'latitude'\n",
      "Traceback (most recent call last):\n"
     ]
    },
    {
     "name": "stdout",
     "output_type": "stream",
     "text": [
      "\n",
      "caught error in body, continuing: 'latitude'"
     ]
    },
    {
     "name": "stderr",
     "output_type": "stream",
     "text": [
      "  File \"<ipython-input-2-872ebd74c558>\", line 26, in search_instagram_tag\n",
      "    if insta_post['location']['latitude'] != None and insta_post['location']['longitude'] != None:\n",
      "KeyError: 'latitude'\n",
      "Traceback (most recent call last):\n"
     ]
    },
    {
     "name": "stdout",
     "output_type": "stream",
     "text": [
      "\n",
      "caught error in body, continuing: 'latitude'"
     ]
    },
    {
     "name": "stderr",
     "output_type": "stream",
     "text": [
      "  File \"<ipython-input-2-872ebd74c558>\", line 26, in search_instagram_tag\n",
      "    if insta_post['location']['latitude'] != None and insta_post['location']['longitude'] != None:\n",
      "KeyError: 'latitude'\n",
      "Traceback (most recent call last):\n"
     ]
    },
    {
     "name": "stdout",
     "output_type": "stream",
     "text": [
      "\n",
      "caught error in body, continuing: 'latitude'"
     ]
    },
    {
     "name": "stderr",
     "output_type": "stream",
     "text": [
      "  File \"<ipython-input-2-872ebd74c558>\", line 26, in search_instagram_tag\n",
      "    if insta_post['location']['latitude'] != None and insta_post['location']['longitude'] != None:\n",
      "KeyError: 'latitude'\n",
      "Traceback (most recent call last):\n"
     ]
    },
    {
     "name": "stdout",
     "output_type": "stream",
     "text": [
      "\n",
      "caught error in body, continuing: 'latitude'"
     ]
    },
    {
     "name": "stderr",
     "output_type": "stream",
     "text": [
      "  File \"<ipython-input-2-872ebd74c558>\", line 26, in search_instagram_tag\n",
      "    if insta_post['location']['latitude'] != None and insta_post['location']['longitude'] != None:\n",
      "KeyError: 'latitude'\n",
      "Traceback (most recent call last):\n"
     ]
    },
    {
     "name": "stdout",
     "output_type": "stream",
     "text": [
      "\n",
      "caught error in body, continuing: 'latitude'"
     ]
    },
    {
     "name": "stderr",
     "output_type": "stream",
     "text": [
      "  File \"<ipython-input-2-872ebd74c558>\", line 26, in search_instagram_tag\n",
      "    if insta_post['location']['latitude'] != None and insta_post['location']['longitude'] != None:\n",
      "KeyError: 'latitude'\n",
      "Traceback (most recent call last):\n"
     ]
    },
    {
     "name": "stdout",
     "output_type": "stream",
     "text": [
      "\n",
      "caught error in body, continuing: 'latitude'"
     ]
    },
    {
     "name": "stderr",
     "output_type": "stream",
     "text": [
      "  File \"<ipython-input-2-872ebd74c558>\", line 26, in search_instagram_tag\n",
      "    if insta_post['location']['latitude'] != None and insta_post['location']['longitude'] != None:\n",
      "KeyError: 'latitude'\n",
      "Traceback (most recent call last):\n"
     ]
    },
    {
     "name": "stdout",
     "output_type": "stream",
     "text": [
      "\n",
      "caught error in body, continuing: 'latitude'"
     ]
    },
    {
     "name": "stderr",
     "output_type": "stream",
     "text": [
      "  File \"<ipython-input-2-872ebd74c558>\", line 26, in search_instagram_tag\n",
      "    if insta_post['location']['latitude'] != None and insta_post['location']['longitude'] != None:\n",
      "KeyError: 'latitude'\n",
      "Traceback (most recent call last):\n"
     ]
    },
    {
     "name": "stdout",
     "output_type": "stream",
     "text": [
      "\n",
      "caught error in body, continuing: 'latitude'"
     ]
    },
    {
     "name": "stderr",
     "output_type": "stream",
     "text": [
      "  File \"<ipython-input-2-872ebd74c558>\", line 26, in search_instagram_tag\n",
      "    if insta_post['location']['latitude'] != None and insta_post['location']['longitude'] != None:\n",
      "KeyError: 'latitude'\n",
      "Traceback (most recent call last):\n"
     ]
    },
    {
     "name": "stdout",
     "output_type": "stream",
     "text": [
      "\n",
      "caught error in body, continuing: 'latitude'"
     ]
    },
    {
     "name": "stderr",
     "output_type": "stream",
     "text": [
      "  File \"<ipython-input-2-872ebd74c558>\", line 26, in search_instagram_tag\n",
      "    if insta_post['location']['latitude'] != None and insta_post['location']['longitude'] != None:\n",
      "KeyError: 'latitude'\n",
      "Traceback (most recent call last):\n"
     ]
    },
    {
     "name": "stdout",
     "output_type": "stream",
     "text": [
      "\n",
      "caught error in body, continuing: 'latitude'\n",
      "caught error in body, continuing: 'latitude'"
     ]
    },
    {
     "name": "stderr",
     "output_type": "stream",
     "text": [
      "  File \"<ipython-input-2-872ebd74c558>\", line 26, in search_instagram_tag\n",
      "    if insta_post['location']['latitude'] != None and insta_post['location']['longitude'] != None:\n",
      "KeyError: 'latitude'\n",
      "Traceback (most recent call last):\n",
      "  File \"<ipython-input-2-872ebd74c558>\", line 26, in search_instagram_tag\n",
      "    if insta_post['location']['latitude'] != None and insta_post['location']['longitude'] != None:\n",
      "KeyError: 'latitude'\n",
      "Traceback (most recent call last):\n"
     ]
    },
    {
     "name": "stdout",
     "output_type": "stream",
     "text": [
      "\n",
      "caught error in body, continuing: 'latitude'"
     ]
    },
    {
     "name": "stderr",
     "output_type": "stream",
     "text": [
      "  File \"<ipython-input-2-872ebd74c558>\", line 26, in search_instagram_tag\n",
      "    if insta_post['location']['latitude'] != None and insta_post['location']['longitude'] != None:\n",
      "KeyError: 'latitude'\n",
      "Traceback (most recent call last):\n"
     ]
    },
    {
     "name": "stdout",
     "output_type": "stream",
     "text": [
      "\n",
      "caught error in body, continuing: 'latitude'"
     ]
    },
    {
     "name": "stderr",
     "output_type": "stream",
     "text": [
      "  File \"<ipython-input-2-872ebd74c558>\", line 26, in search_instagram_tag\n",
      "    if insta_post['location']['latitude'] != None and insta_post['location']['longitude'] != None:\n",
      "KeyError: 'latitude'\n",
      "Traceback (most recent call last):\n"
     ]
    },
    {
     "name": "stdout",
     "output_type": "stream",
     "text": [
      "\n",
      "caught error in body, continuing: 'latitude'"
     ]
    },
    {
     "name": "stderr",
     "output_type": "stream",
     "text": [
      "  File \"<ipython-input-2-872ebd74c558>\", line 26, in search_instagram_tag\n",
      "    if insta_post['location']['latitude'] != None and insta_post['location']['longitude'] != None:\n",
      "KeyError: 'latitude'\n",
      "Traceback (most recent call last):\n"
     ]
    },
    {
     "name": "stdout",
     "output_type": "stream",
     "text": [
      "\n",
      "caught error in body, continuing: 'latitude'"
     ]
    },
    {
     "name": "stderr",
     "output_type": "stream",
     "text": [
      "  File \"<ipython-input-2-872ebd74c558>\", line 26, in search_instagram_tag\n",
      "    if insta_post['location']['latitude'] != None and insta_post['location']['longitude'] != None:\n",
      "KeyError: 'latitude'\n",
      "Traceback (most recent call last):\n"
     ]
    },
    {
     "name": "stdout",
     "output_type": "stream",
     "text": [
      "\n",
      "caught error in body, continuing: 'latitude'"
     ]
    },
    {
     "name": "stderr",
     "output_type": "stream",
     "text": [
      "  File \"<ipython-input-2-872ebd74c558>\", line 26, in search_instagram_tag\n",
      "    if insta_post['location']['latitude'] != None and insta_post['location']['longitude'] != None:\n",
      "KeyError: 'latitude'\n",
      "Traceback (most recent call last):\n"
     ]
    },
    {
     "name": "stdout",
     "output_type": "stream",
     "text": [
      "\n",
      "caught error in body, continuing: 'latitude'"
     ]
    },
    {
     "name": "stderr",
     "output_type": "stream",
     "text": [
      "  File \"<ipython-input-2-872ebd74c558>\", line 26, in search_instagram_tag\n",
      "    if insta_post['location']['latitude'] != None and insta_post['location']['longitude'] != None:\n",
      "KeyError: 'latitude'\n",
      "Traceback (most recent call last):\n"
     ]
    },
    {
     "name": "stdout",
     "output_type": "stream",
     "text": [
      "\n",
      "caught error in body, continuing: 'latitude'"
     ]
    },
    {
     "name": "stderr",
     "output_type": "stream",
     "text": [
      "  File \"<ipython-input-2-872ebd74c558>\", line 26, in search_instagram_tag\n",
      "    if insta_post['location']['latitude'] != None and insta_post['location']['longitude'] != None:\n",
      "KeyError: 'latitude'\n",
      "Traceback (most recent call last):\n"
     ]
    },
    {
     "name": "stdout",
     "output_type": "stream",
     "text": [
      "\n",
      "caught error in body, continuing: 'latitude'"
     ]
    },
    {
     "name": "stderr",
     "output_type": "stream",
     "text": [
      "  File \"<ipython-input-2-872ebd74c558>\", line 26, in search_instagram_tag\n",
      "    if insta_post['location']['latitude'] != None and insta_post['location']['longitude'] != None:\n",
      "KeyError: 'latitude'\n",
      "Traceback (most recent call last):\n"
     ]
    },
    {
     "name": "stdout",
     "output_type": "stream",
     "text": [
      "\n",
      "caught error in body, continuing: 'latitude'"
     ]
    },
    {
     "name": "stderr",
     "output_type": "stream",
     "text": [
      "  File \"<ipython-input-2-872ebd74c558>\", line 26, in search_instagram_tag\n",
      "    if insta_post['location']['latitude'] != None and insta_post['location']['longitude'] != None:\n",
      "KeyError: 'latitude'\n",
      "Traceback (most recent call last):\n"
     ]
    },
    {
     "name": "stdout",
     "output_type": "stream",
     "text": [
      "\n",
      "caught error in body, continuing: 'latitude'"
     ]
    },
    {
     "name": "stderr",
     "output_type": "stream",
     "text": [
      "  File \"<ipython-input-2-872ebd74c558>\", line 26, in search_instagram_tag\n",
      "    if insta_post['location']['latitude'] != None and insta_post['location']['longitude'] != None:\n",
      "KeyError: 'latitude'\n",
      "Traceback (most recent call last):\n"
     ]
    },
    {
     "name": "stdout",
     "output_type": "stream",
     "text": [
      "\n",
      "caught error in body, continuing: 'latitude'"
     ]
    },
    {
     "name": "stderr",
     "output_type": "stream",
     "text": [
      "  File \"<ipython-input-2-872ebd74c558>\", line 26, in search_instagram_tag\n",
      "    if insta_post['location']['latitude'] != None and insta_post['location']['longitude'] != None:\n",
      "KeyError: 'latitude'\n",
      "Traceback (most recent call last):\n"
     ]
    },
    {
     "name": "stdout",
     "output_type": "stream",
     "text": [
      "\n",
      "caught error in body, continuing: 'latitude'"
     ]
    },
    {
     "name": "stderr",
     "output_type": "stream",
     "text": [
      "  File \"<ipython-input-2-872ebd74c558>\", line 26, in search_instagram_tag\n",
      "    if insta_post['location']['latitude'] != None and insta_post['location']['longitude'] != None:\n",
      "KeyError: 'latitude'\n",
      "Traceback (most recent call last):\n"
     ]
    },
    {
     "name": "stdout",
     "output_type": "stream",
     "text": [
      "\n",
      "caught error in body, continuing: 'latitude'"
     ]
    },
    {
     "name": "stderr",
     "output_type": "stream",
     "text": [
      "  File \"<ipython-input-2-872ebd74c558>\", line 26, in search_instagram_tag\n",
      "    if insta_post['location']['latitude'] != None and insta_post['location']['longitude'] != None:\n",
      "KeyError: 'latitude'\n",
      "Traceback (most recent call last):\n"
     ]
    },
    {
     "name": "stdout",
     "output_type": "stream",
     "text": [
      "\n",
      "caught error in body, continuing: 'NoneType' object has no attribute '__getitem__'"
     ]
    },
    {
     "name": "stderr",
     "output_type": "stream",
     "text": [
      "  File \"<ipython-input-2-872ebd74c558>\", line 26, in search_instagram_tag\n",
      "    if insta_post['location']['latitude'] != None and insta_post['location']['longitude'] != None:\n",
      "KeyError: 'latitude'\n",
      "Traceback (most recent call last):\n"
     ]
    },
    {
     "name": "stdout",
     "output_type": "stream",
     "text": [
      "\n",
      "caught error in body, continuing: 'latitude'"
     ]
    },
    {
     "name": "stderr",
     "output_type": "stream",
     "text": [
      "  File \"<ipython-input-2-872ebd74c558>\", line 28, in search_instagram_tag\n",
      "    int(insta_post['caption']['created_time'])\n",
      "TypeError: 'NoneType' object has no attribute '__getitem__'\n",
      "Traceback (most recent call last):\n"
     ]
    },
    {
     "name": "stdout",
     "output_type": "stream",
     "text": [
      "\n",
      "caught error in body, continuing: 'latitude'"
     ]
    },
    {
     "name": "stderr",
     "output_type": "stream",
     "text": [
      "  File \"<ipython-input-2-872ebd74c558>\", line 26, in search_instagram_tag\n",
      "    if insta_post['location']['latitude'] != None and insta_post['location']['longitude'] != None:\n",
      "KeyError: 'latitude'\n",
      "Traceback (most recent call last):\n"
     ]
    },
    {
     "name": "stdout",
     "output_type": "stream",
     "text": [
      "\n",
      "caught error in body, continuing: 'latitude'"
     ]
    },
    {
     "name": "stderr",
     "output_type": "stream",
     "text": [
      "  File \"<ipython-input-2-872ebd74c558>\", line 26, in search_instagram_tag\n",
      "    if insta_post['location']['latitude'] != None and insta_post['location']['longitude'] != None:\n",
      "KeyError: 'latitude'\n",
      "Traceback (most recent call last):\n"
     ]
    },
    {
     "name": "stdout",
     "output_type": "stream",
     "text": [
      "\n",
      "caught error in body, continuing: 'latitude'"
     ]
    },
    {
     "name": "stderr",
     "output_type": "stream",
     "text": [
      "  File \"<ipython-input-2-872ebd74c558>\", line 26, in search_instagram_tag\n",
      "    if insta_post['location']['latitude'] != None and insta_post['location']['longitude'] != None:\n",
      "KeyError: 'latitude'\n",
      "Traceback (most recent call last):\n"
     ]
    },
    {
     "name": "stdout",
     "output_type": "stream",
     "text": [
      "\n",
      "caught error in body, continuing: 'latitude'"
     ]
    },
    {
     "name": "stderr",
     "output_type": "stream",
     "text": [
      "  File \"<ipython-input-2-872ebd74c558>\", line 26, in search_instagram_tag\n",
      "    if insta_post['location']['latitude'] != None and insta_post['location']['longitude'] != None:\n",
      "KeyError: 'latitude'\n",
      "Traceback (most recent call last):\n"
     ]
    },
    {
     "name": "stdout",
     "output_type": "stream",
     "text": [
      "\n",
      "caught error in body, continuing: 'latitude'"
     ]
    },
    {
     "name": "stderr",
     "output_type": "stream",
     "text": [
      "  File \"<ipython-input-2-872ebd74c558>\", line 26, in search_instagram_tag\n",
      "    if insta_post['location']['latitude'] != None and insta_post['location']['longitude'] != None:\n",
      "KeyError: 'latitude'\n",
      "Traceback (most recent call last):\n"
     ]
    },
    {
     "name": "stdout",
     "output_type": "stream",
     "text": [
      "\n",
      "caught error in body, continuing: 'latitude'"
     ]
    },
    {
     "name": "stderr",
     "output_type": "stream",
     "text": [
      "  File \"<ipython-input-2-872ebd74c558>\", line 26, in search_instagram_tag\n",
      "    if insta_post['location']['latitude'] != None and insta_post['location']['longitude'] != None:\n",
      "KeyError: 'latitude'\n",
      "Traceback (most recent call last):\n"
     ]
    },
    {
     "name": "stdout",
     "output_type": "stream",
     "text": [
      "\n",
      "caught error in body, continuing: 'latitude'"
     ]
    },
    {
     "name": "stderr",
     "output_type": "stream",
     "text": [
      "  File \"<ipython-input-2-872ebd74c558>\", line 26, in search_instagram_tag\n",
      "    if insta_post['location']['latitude'] != None and insta_post['location']['longitude'] != None:\n",
      "KeyError: 'latitude'\n",
      "Traceback (most recent call last):\n"
     ]
    },
    {
     "name": "stdout",
     "output_type": "stream",
     "text": [
      "\n",
      "caught error in body, continuing: 'latitude'"
     ]
    },
    {
     "name": "stderr",
     "output_type": "stream",
     "text": [
      "  File \"<ipython-input-2-872ebd74c558>\", line 26, in search_instagram_tag\n",
      "    if insta_post['location']['latitude'] != None and insta_post['location']['longitude'] != None:\n",
      "KeyError: 'latitude'\n",
      "Traceback (most recent call last):\n"
     ]
    },
    {
     "name": "stdout",
     "output_type": "stream",
     "text": [
      "\n",
      "caught error in body, continuing: 'latitude'\n",
      "caught error in body, continuing: 'latitude'"
     ]
    },
    {
     "name": "stderr",
     "output_type": "stream",
     "text": [
      "  File \"<ipython-input-2-872ebd74c558>\", line 26, in search_instagram_tag\n",
      "    if insta_post['location']['latitude'] != None and insta_post['location']['longitude'] != None:\n",
      "KeyError: 'latitude'\n",
      "Traceback (most recent call last):\n",
      "  File \"<ipython-input-2-872ebd74c558>\", line 26, in search_instagram_tag\n",
      "    if insta_post['location']['latitude'] != None and insta_post['location']['longitude'] != None:\n",
      "KeyError: 'latitude'\n",
      "Traceback (most recent call last):\n"
     ]
    },
    {
     "name": "stdout",
     "output_type": "stream",
     "text": [
      "\n",
      "caught error in body, continuing: 'latitude'"
     ]
    },
    {
     "name": "stderr",
     "output_type": "stream",
     "text": [
      "  File \"<ipython-input-2-872ebd74c558>\", line 26, in search_instagram_tag\n",
      "    if insta_post['location']['latitude'] != None and insta_post['location']['longitude'] != None:\n",
      "KeyError: 'latitude'\n",
      "Traceback (most recent call last):\n"
     ]
    },
    {
     "name": "stdout",
     "output_type": "stream",
     "text": [
      "\n",
      "caught error in body, continuing: 'latitude'"
     ]
    },
    {
     "name": "stderr",
     "output_type": "stream",
     "text": [
      "  File \"<ipython-input-2-872ebd74c558>\", line 26, in search_instagram_tag\n",
      "    if insta_post['location']['latitude'] != None and insta_post['location']['longitude'] != None:\n",
      "KeyError: 'latitude'\n",
      "Traceback (most recent call last):\n"
     ]
    },
    {
     "name": "stdout",
     "output_type": "stream",
     "text": [
      "\n",
      "caught error in body, continuing: 'latitude'"
     ]
    },
    {
     "name": "stderr",
     "output_type": "stream",
     "text": [
      "  File \"<ipython-input-2-872ebd74c558>\", line 26, in search_instagram_tag\n",
      "    if insta_post['location']['latitude'] != None and insta_post['location']['longitude'] != None:\n",
      "KeyError: 'latitude'\n",
      "Traceback (most recent call last):\n"
     ]
    },
    {
     "name": "stdout",
     "output_type": "stream",
     "text": [
      "\n",
      "caught error in body, continuing: 'latitude'"
     ]
    },
    {
     "name": "stderr",
     "output_type": "stream",
     "text": [
      "  File \"<ipython-input-2-872ebd74c558>\", line 26, in search_instagram_tag\n",
      "    if insta_post['location']['latitude'] != None and insta_post['location']['longitude'] != None:\n",
      "KeyError: 'latitude'\n",
      "Traceback (most recent call last):\n"
     ]
    },
    {
     "name": "stdout",
     "output_type": "stream",
     "text": [
      "\n",
      "caught error in body, continuing: 'latitude'\n",
      "caught error in body, continuing: 'latitude'"
     ]
    },
    {
     "name": "stderr",
     "output_type": "stream",
     "text": [
      "  File \"<ipython-input-2-872ebd74c558>\", line 26, in search_instagram_tag\n",
      "    if insta_post['location']['latitude'] != None and insta_post['location']['longitude'] != None:\n",
      "KeyError: 'latitude'\n",
      "Traceback (most recent call last):\n",
      "  File \"<ipython-input-2-872ebd74c558>\", line 26, in search_instagram_tag\n",
      "    if insta_post['location']['latitude'] != None and insta_post['location']['longitude'] != None:\n",
      "KeyError: 'latitude'\n",
      "Traceback (most recent call last):\n"
     ]
    },
    {
     "name": "stdout",
     "output_type": "stream",
     "text": [
      "\n",
      "caught error in body, continuing: 'latitude'\n",
      "caught error in body, continuing: 'latitude'"
     ]
    },
    {
     "name": "stderr",
     "output_type": "stream",
     "text": [
      "  File \"<ipython-input-2-872ebd74c558>\", line 26, in search_instagram_tag\n",
      "    if insta_post['location']['latitude'] != None and insta_post['location']['longitude'] != None:\n",
      "KeyError: 'latitude'\n",
      "Traceback (most recent call last):\n",
      "  File \"<ipython-input-2-872ebd74c558>\", line 26, in search_instagram_tag\n",
      "    if insta_post['location']['latitude'] != None and insta_post['location']['longitude'] != None:\n",
      "KeyError: 'latitude'\n",
      "Traceback (most recent call last):\n"
     ]
    },
    {
     "name": "stdout",
     "output_type": "stream",
     "text": [
      "\n",
      "caught error in body, continuing: 'latitude'"
     ]
    },
    {
     "name": "stderr",
     "output_type": "stream",
     "text": [
      "  File \"<ipython-input-2-872ebd74c558>\", line 26, in search_instagram_tag\n",
      "    if insta_post['location']['latitude'] != None and insta_post['location']['longitude'] != None:\n",
      "KeyError: 'latitude'\n",
      "Traceback (most recent call last):\n"
     ]
    },
    {
     "name": "stdout",
     "output_type": "stream",
     "text": [
      "\n",
      "caught error in body, continuing: 'latitude'"
     ]
    },
    {
     "name": "stderr",
     "output_type": "stream",
     "text": [
      "  File \"<ipython-input-2-872ebd74c558>\", line 26, in search_instagram_tag\n",
      "    if insta_post['location']['latitude'] != None and insta_post['location']['longitude'] != None:\n",
      "KeyError: 'latitude'\n",
      "Traceback (most recent call last):\n"
     ]
    },
    {
     "name": "stdout",
     "output_type": "stream",
     "text": [
      "\n",
      "caught error in body, continuing: 'latitude'"
     ]
    },
    {
     "name": "stderr",
     "output_type": "stream",
     "text": [
      "  File \"<ipython-input-2-872ebd74c558>\", line 26, in search_instagram_tag\n",
      "    if insta_post['location']['latitude'] != None and insta_post['location']['longitude'] != None:\n",
      "KeyError: 'latitude'\n",
      "Traceback (most recent call last):\n"
     ]
    },
    {
     "name": "stdout",
     "output_type": "stream",
     "text": [
      "\n",
      "caught error in body, continuing: 'latitude'"
     ]
    },
    {
     "name": "stderr",
     "output_type": "stream",
     "text": [
      "  File \"<ipython-input-2-872ebd74c558>\", line 26, in search_instagram_tag\n",
      "    if insta_post['location']['latitude'] != None and insta_post['location']['longitude'] != None:\n",
      "KeyError: 'latitude'\n",
      "Traceback (most recent call last):\n"
     ]
    },
    {
     "name": "stdout",
     "output_type": "stream",
     "text": [
      "\n",
      "caught error in body, continuing: 'latitude'"
     ]
    },
    {
     "name": "stderr",
     "output_type": "stream",
     "text": [
      "  File \"<ipython-input-2-872ebd74c558>\", line 26, in search_instagram_tag\n",
      "    if insta_post['location']['latitude'] != None and insta_post['location']['longitude'] != None:\n",
      "KeyError: 'latitude'\n",
      "Traceback (most recent call last):\n"
     ]
    },
    {
     "name": "stdout",
     "output_type": "stream",
     "text": [
      "\n",
      "caught error in body, continuing: 'latitude'"
     ]
    },
    {
     "name": "stderr",
     "output_type": "stream",
     "text": [
      "  File \"<ipython-input-2-872ebd74c558>\", line 26, in search_instagram_tag\n",
      "    if insta_post['location']['latitude'] != None and insta_post['location']['longitude'] != None:\n",
      "KeyError: 'latitude'\n",
      "Traceback (most recent call last):\n"
     ]
    },
    {
     "name": "stdout",
     "output_type": "stream",
     "text": [
      "\n",
      "caught error in body, continuing: 'latitude'"
     ]
    },
    {
     "name": "stderr",
     "output_type": "stream",
     "text": [
      "  File \"<ipython-input-2-872ebd74c558>\", line 26, in search_instagram_tag\n",
      "    if insta_post['location']['latitude'] != None and insta_post['location']['longitude'] != None:\n",
      "KeyError: 'latitude'\n",
      "Traceback (most recent call last):\n"
     ]
    },
    {
     "name": "stdout",
     "output_type": "stream",
     "text": [
      "\n",
      "caught error in body, continuing: 'latitude'"
     ]
    },
    {
     "name": "stderr",
     "output_type": "stream",
     "text": [
      "  File \"<ipython-input-2-872ebd74c558>\", line 26, in search_instagram_tag\n",
      "    if insta_post['location']['latitude'] != None and insta_post['location']['longitude'] != None:\n",
      "KeyError: 'latitude'\n",
      "Traceback (most recent call last):\n"
     ]
    },
    {
     "name": "stdout",
     "output_type": "stream",
     "text": [
      "\n",
      "caught error in body, continuing: 'latitude'"
     ]
    },
    {
     "name": "stderr",
     "output_type": "stream",
     "text": [
      "  File \"<ipython-input-2-872ebd74c558>\", line 26, in search_instagram_tag\n",
      "    if insta_post['location']['latitude'] != None and insta_post['location']['longitude'] != None:\n",
      "KeyError: 'latitude'\n",
      "Traceback (most recent call last):\n"
     ]
    },
    {
     "name": "stdout",
     "output_type": "stream",
     "text": [
      "\n",
      "caught error in body, continuing: 'latitude'"
     ]
    },
    {
     "name": "stderr",
     "output_type": "stream",
     "text": [
      "  File \"<ipython-input-2-872ebd74c558>\", line 26, in search_instagram_tag\n",
      "    if insta_post['location']['latitude'] != None and insta_post['location']['longitude'] != None:\n",
      "KeyError: 'latitude'\n",
      "Traceback (most recent call last):\n"
     ]
    },
    {
     "name": "stdout",
     "output_type": "stream",
     "text": [
      "\n",
      "caught error in body, continuing: 'latitude'\n",
      "caught error in body, continuing: 'latitude'"
     ]
    },
    {
     "name": "stderr",
     "output_type": "stream",
     "text": [
      "  File \"<ipython-input-2-872ebd74c558>\", line 26, in search_instagram_tag\n",
      "    if insta_post['location']['latitude'] != None and insta_post['location']['longitude'] != None:\n",
      "KeyError: 'latitude'\n",
      "Traceback (most recent call last):\n",
      "  File \"<ipython-input-2-872ebd74c558>\", line 26, in search_instagram_tag\n",
      "    if insta_post['location']['latitude'] != None and insta_post['location']['longitude'] != None:\n",
      "KeyError: 'latitude'\n",
      "Traceback (most recent call last):\n"
     ]
    },
    {
     "name": "stdout",
     "output_type": "stream",
     "text": [
      "\n",
      "caught error in body, continuing: 'latitude'"
     ]
    },
    {
     "name": "stderr",
     "output_type": "stream",
     "text": [
      "  File \"<ipython-input-2-872ebd74c558>\", line 26, in search_instagram_tag\n",
      "    if insta_post['location']['latitude'] != None and insta_post['location']['longitude'] != None:\n",
      "KeyError: 'latitude'\n",
      "Traceback (most recent call last):\n"
     ]
    },
    {
     "name": "stdout",
     "output_type": "stream",
     "text": [
      "\n",
      "caught error in body, continuing: 'latitude'"
     ]
    },
    {
     "name": "stderr",
     "output_type": "stream",
     "text": [
      "  File \"<ipython-input-2-872ebd74c558>\", line 26, in search_instagram_tag\n",
      "    if insta_post['location']['latitude'] != None and insta_post['location']['longitude'] != None:\n",
      "KeyError: 'latitude'\n",
      "Traceback (most recent call last):\n"
     ]
    },
    {
     "name": "stdout",
     "output_type": "stream",
     "text": [
      "\n",
      "caught error in body, continuing: 'latitude'"
     ]
    },
    {
     "name": "stderr",
     "output_type": "stream",
     "text": [
      "  File \"<ipython-input-2-872ebd74c558>\", line 26, in search_instagram_tag\n",
      "    if insta_post['location']['latitude'] != None and insta_post['location']['longitude'] != None:\n",
      "KeyError: 'latitude'\n",
      "Traceback (most recent call last):\n"
     ]
    },
    {
     "name": "stdout",
     "output_type": "stream",
     "text": [
      "\n",
      "caught error in body, continuing: 'latitude'"
     ]
    },
    {
     "name": "stderr",
     "output_type": "stream",
     "text": [
      "  File \"<ipython-input-2-872ebd74c558>\", line 26, in search_instagram_tag\n",
      "    if insta_post['location']['latitude'] != None and insta_post['location']['longitude'] != None:\n",
      "KeyError: 'latitude'\n",
      "Traceback (most recent call last):\n"
     ]
    },
    {
     "name": "stdout",
     "output_type": "stream",
     "text": [
      "\n",
      "caught error in body, continuing: 'latitude'\n",
      "caught error in body, continuing: 'latitude'"
     ]
    },
    {
     "name": "stderr",
     "output_type": "stream",
     "text": [
      "  File \"<ipython-input-2-872ebd74c558>\", line 26, in search_instagram_tag\n",
      "    if insta_post['location']['latitude'] != None and insta_post['location']['longitude'] != None:\n",
      "KeyError: 'latitude'\n",
      "Traceback (most recent call last):\n",
      "  File \"<ipython-input-2-872ebd74c558>\", line 26, in search_instagram_tag\n",
      "    if insta_post['location']['latitude'] != None and insta_post['location']['longitude'] != None:\n",
      "KeyError: 'latitude'\n",
      "Traceback (most recent call last):\n"
     ]
    },
    {
     "name": "stdout",
     "output_type": "stream",
     "text": [
      "\n",
      "caught error in body, continuing: 'latitude'"
     ]
    },
    {
     "name": "stderr",
     "output_type": "stream",
     "text": [
      "  File \"<ipython-input-2-872ebd74c558>\", line 26, in search_instagram_tag\n",
      "    if insta_post['location']['latitude'] != None and insta_post['location']['longitude'] != None:\n",
      "KeyError: 'latitude'\n",
      "Traceback (most recent call last):\n"
     ]
    },
    {
     "name": "stdout",
     "output_type": "stream",
     "text": [
      "\n",
      "caught error in body, continuing: 'latitude'"
     ]
    },
    {
     "name": "stderr",
     "output_type": "stream",
     "text": [
      "  File \"<ipython-input-2-872ebd74c558>\", line 26, in search_instagram_tag\n",
      "    if insta_post['location']['latitude'] != None and insta_post['location']['longitude'] != None:\n",
      "KeyError: 'latitude'\n",
      "Traceback (most recent call last):\n"
     ]
    },
    {
     "name": "stdout",
     "output_type": "stream",
     "text": [
      "\n",
      "caught error in body, continuing: 'latitude'"
     ]
    },
    {
     "name": "stderr",
     "output_type": "stream",
     "text": [
      "  File \"<ipython-input-2-872ebd74c558>\", line 26, in search_instagram_tag\n",
      "    if insta_post['location']['latitude'] != None and insta_post['location']['longitude'] != None:\n",
      "KeyError: 'latitude'\n",
      "Traceback (most recent call last):\n"
     ]
    },
    {
     "name": "stdout",
     "output_type": "stream",
     "text": [
      "\n",
      "caught error in body, continuing: 'latitude'"
     ]
    },
    {
     "name": "stderr",
     "output_type": "stream",
     "text": [
      "  File \"<ipython-input-2-872ebd74c558>\", line 26, in search_instagram_tag\n",
      "    if insta_post['location']['latitude'] != None and insta_post['location']['longitude'] != None:\n",
      "KeyError: 'latitude'\n",
      "Traceback (most recent call last):\n"
     ]
    },
    {
     "name": "stdout",
     "output_type": "stream",
     "text": [
      "\n",
      "caught error in body, continuing: 'latitude'"
     ]
    },
    {
     "name": "stderr",
     "output_type": "stream",
     "text": [
      "  File \"<ipython-input-2-872ebd74c558>\", line 26, in search_instagram_tag\n",
      "    if insta_post['location']['latitude'] != None and insta_post['location']['longitude'] != None:\n",
      "KeyError: 'latitude'\n",
      "Traceback (most recent call last):\n"
     ]
    },
    {
     "name": "stdout",
     "output_type": "stream",
     "text": [
      "\n",
      "caught error in body, continuing: 'latitude'"
     ]
    },
    {
     "name": "stderr",
     "output_type": "stream",
     "text": [
      "  File \"<ipython-input-2-872ebd74c558>\", line 26, in search_instagram_tag\n",
      "    if insta_post['location']['latitude'] != None and insta_post['location']['longitude'] != None:\n",
      "KeyError: 'latitude'\n",
      "Traceback (most recent call last):\n"
     ]
    },
    {
     "name": "stdout",
     "output_type": "stream",
     "text": [
      "\n",
      "caught error in body, continuing: 'latitude'"
     ]
    },
    {
     "name": "stderr",
     "output_type": "stream",
     "text": [
      "  File \"<ipython-input-2-872ebd74c558>\", line 26, in search_instagram_tag\n",
      "    if insta_post['location']['latitude'] != None and insta_post['location']['longitude'] != None:\n",
      "KeyError: 'latitude'\n",
      "Traceback (most recent call last):\n"
     ]
    },
    {
     "name": "stdout",
     "output_type": "stream",
     "text": [
      "\n",
      "caught error in body, continuing: 'latitude'"
     ]
    },
    {
     "name": "stderr",
     "output_type": "stream",
     "text": [
      "  File \"<ipython-input-2-872ebd74c558>\", line 26, in search_instagram_tag\n",
      "    if insta_post['location']['latitude'] != None and insta_post['location']['longitude'] != None:\n",
      "KeyError: 'latitude'\n",
      "Traceback (most recent call last):\n"
     ]
    },
    {
     "name": "stdout",
     "output_type": "stream",
     "text": [
      "\n",
      "caught error in body, continuing: 'latitude'"
     ]
    },
    {
     "name": "stderr",
     "output_type": "stream",
     "text": [
      "  File \"<ipython-input-2-872ebd74c558>\", line 26, in search_instagram_tag\n",
      "    if insta_post['location']['latitude'] != None and insta_post['location']['longitude'] != None:\n",
      "KeyError: 'latitude'\n",
      "Traceback (most recent call last):\n"
     ]
    },
    {
     "name": "stdout",
     "output_type": "stream",
     "text": [
      "\n",
      "caught error in body, continuing: 'NoneType' object has no attribute '__getitem__'"
     ]
    },
    {
     "name": "stderr",
     "output_type": "stream",
     "text": [
      "  File \"<ipython-input-2-872ebd74c558>\", line 26, in search_instagram_tag\n",
      "    if insta_post['location']['latitude'] != None and insta_post['location']['longitude'] != None:\n",
      "KeyError: 'latitude'\n",
      "Traceback (most recent call last):\n"
     ]
    },
    {
     "name": "stdout",
     "output_type": "stream",
     "text": [
      "\n",
      "caught error in body, continuing: 'latitude'"
     ]
    },
    {
     "name": "stderr",
     "output_type": "stream",
     "text": [
      "  File \"<ipython-input-2-872ebd74c558>\", line 28, in search_instagram_tag\n",
      "    int(insta_post['caption']['created_time'])\n",
      "TypeError: 'NoneType' object has no attribute '__getitem__'\n",
      "Traceback (most recent call last):\n"
     ]
    },
    {
     "name": "stdout",
     "output_type": "stream",
     "text": [
      "\n",
      "caught error in body, continuing: 'latitude'"
     ]
    },
    {
     "name": "stderr",
     "output_type": "stream",
     "text": [
      "  File \"<ipython-input-2-872ebd74c558>\", line 26, in search_instagram_tag\n",
      "    if insta_post['location']['latitude'] != None and insta_post['location']['longitude'] != None:\n",
      "KeyError: 'latitude'\n",
      "Traceback (most recent call last):\n"
     ]
    },
    {
     "name": "stdout",
     "output_type": "stream",
     "text": [
      "\n",
      "caught error in body, continuing: 'latitude'"
     ]
    },
    {
     "name": "stderr",
     "output_type": "stream",
     "text": [
      "  File \"<ipython-input-2-872ebd74c558>\", line 26, in search_instagram_tag\n",
      "    if insta_post['location']['latitude'] != None and insta_post['location']['longitude'] != None:\n",
      "KeyError: 'latitude'\n",
      "Traceback (most recent call last):\n"
     ]
    },
    {
     "name": "stdout",
     "output_type": "stream",
     "text": [
      "\n",
      "caught error in body, continuing: 'latitude'"
     ]
    },
    {
     "name": "stderr",
     "output_type": "stream",
     "text": [
      "  File \"<ipython-input-2-872ebd74c558>\", line 26, in search_instagram_tag\n",
      "    if insta_post['location']['latitude'] != None and insta_post['location']['longitude'] != None:\n",
      "KeyError: 'latitude'\n",
      "Traceback (most recent call last):\n"
     ]
    },
    {
     "name": "stdout",
     "output_type": "stream",
     "text": [
      "\n",
      "caught error in body, continuing: 'latitude'"
     ]
    },
    {
     "name": "stderr",
     "output_type": "stream",
     "text": [
      "  File \"<ipython-input-2-872ebd74c558>\", line 26, in search_instagram_tag\n",
      "    if insta_post['location']['latitude'] != None and insta_post['location']['longitude'] != None:\n",
      "KeyError: 'latitude'\n",
      "Traceback (most recent call last):\n"
     ]
    },
    {
     "name": "stdout",
     "output_type": "stream",
     "text": [
      "\n",
      "caught error in body, continuing: 'latitude'"
     ]
    },
    {
     "name": "stderr",
     "output_type": "stream",
     "text": [
      "  File \"<ipython-input-2-872ebd74c558>\", line 26, in search_instagram_tag\n",
      "    if insta_post['location']['latitude'] != None and insta_post['location']['longitude'] != None:\n",
      "KeyError: 'latitude'\n",
      "Traceback (most recent call last):\n"
     ]
    },
    {
     "name": "stdout",
     "output_type": "stream",
     "text": [
      "\n",
      "caught error in body, continuing: 'latitude'"
     ]
    },
    {
     "name": "stderr",
     "output_type": "stream",
     "text": [
      "  File \"<ipython-input-2-872ebd74c558>\", line 26, in search_instagram_tag\n",
      "    if insta_post['location']['latitude'] != None and insta_post['location']['longitude'] != None:\n",
      "KeyError: 'latitude'\n",
      "Traceback (most recent call last):\n"
     ]
    },
    {
     "name": "stdout",
     "output_type": "stream",
     "text": [
      "\n",
      "caught error in body, continuing: 'latitude'"
     ]
    },
    {
     "name": "stderr",
     "output_type": "stream",
     "text": [
      "  File \"<ipython-input-2-872ebd74c558>\", line 26, in search_instagram_tag\n",
      "    if insta_post['location']['latitude'] != None and insta_post['location']['longitude'] != None:\n",
      "KeyError: 'latitude'\n",
      "Traceback (most recent call last):\n"
     ]
    },
    {
     "name": "stdout",
     "output_type": "stream",
     "text": [
      "\n",
      "caught error in body, continuing: 'latitude'"
     ]
    },
    {
     "name": "stderr",
     "output_type": "stream",
     "text": [
      "  File \"<ipython-input-2-872ebd74c558>\", line 26, in search_instagram_tag\n",
      "    if insta_post['location']['latitude'] != None and insta_post['location']['longitude'] != None:\n",
      "KeyError: 'latitude'\n",
      "Traceback (most recent call last):\n"
     ]
    },
    {
     "name": "stdout",
     "output_type": "stream",
     "text": [
      "\n",
      "caught error in body, continuing: 'NoneType' object has no attribute '__getitem__'"
     ]
    },
    {
     "name": "stderr",
     "output_type": "stream",
     "text": [
      "  File \"<ipython-input-2-872ebd74c558>\", line 26, in search_instagram_tag\n",
      "    if insta_post['location']['latitude'] != None and insta_post['location']['longitude'] != None:\n",
      "KeyError: 'latitude'\n",
      "Traceback (most recent call last):\n"
     ]
    },
    {
     "name": "stdout",
     "output_type": "stream",
     "text": [
      "\n",
      "caught error in body, continuing: 'latitude'"
     ]
    },
    {
     "name": "stderr",
     "output_type": "stream",
     "text": [
      "  File \"<ipython-input-2-872ebd74c558>\", line 28, in search_instagram_tag\n",
      "    int(insta_post['caption']['created_time'])\n",
      "TypeError: 'NoneType' object has no attribute '__getitem__'\n",
      "Traceback (most recent call last):\n"
     ]
    },
    {
     "name": "stdout",
     "output_type": "stream",
     "text": [
      "\n",
      "caught error in body, continuing: 'latitude'"
     ]
    },
    {
     "name": "stderr",
     "output_type": "stream",
     "text": [
      "  File \"<ipython-input-2-872ebd74c558>\", line 26, in search_instagram_tag\n",
      "    if insta_post['location']['latitude'] != None and insta_post['location']['longitude'] != None:\n",
      "KeyError: 'latitude'\n",
      "Traceback (most recent call last):\n"
     ]
    },
    {
     "name": "stdout",
     "output_type": "stream",
     "text": [
      "\n",
      "caught error in body, continuing: 'latitude'"
     ]
    },
    {
     "name": "stderr",
     "output_type": "stream",
     "text": [
      "  File \"<ipython-input-2-872ebd74c558>\", line 26, in search_instagram_tag\n",
      "    if insta_post['location']['latitude'] != None and insta_post['location']['longitude'] != None:\n",
      "KeyError: 'latitude'\n",
      "Traceback (most recent call last):\n"
     ]
    },
    {
     "name": "stdout",
     "output_type": "stream",
     "text": [
      "\n",
      "caught error in body, continuing: 'latitude'"
     ]
    },
    {
     "name": "stderr",
     "output_type": "stream",
     "text": [
      "  File \"<ipython-input-2-872ebd74c558>\", line 26, in search_instagram_tag\n",
      "    if insta_post['location']['latitude'] != None and insta_post['location']['longitude'] != None:\n",
      "KeyError: 'latitude'\n",
      "Traceback (most recent call last):\n"
     ]
    },
    {
     "name": "stdout",
     "output_type": "stream",
     "text": [
      "\n",
      "caught error in body, continuing: 'latitude'\n",
      "caught error in body, continuing: 'latitude'"
     ]
    },
    {
     "name": "stderr",
     "output_type": "stream",
     "text": [
      "  File \"<ipython-input-2-872ebd74c558>\", line 26, in search_instagram_tag\n",
      "    if insta_post['location']['latitude'] != None and insta_post['location']['longitude'] != None:\n",
      "KeyError: 'latitude'\n",
      "Traceback (most recent call last):\n",
      "  File \"<ipython-input-2-872ebd74c558>\", line 26, in search_instagram_tag\n",
      "    if insta_post['location']['latitude'] != None and insta_post['location']['longitude'] != None:\n",
      "KeyError: 'latitude'\n",
      "Traceback (most recent call last):\n"
     ]
    },
    {
     "name": "stdout",
     "output_type": "stream",
     "text": [
      "\n",
      "caught error in body, continuing: 'latitude'"
     ]
    },
    {
     "name": "stderr",
     "output_type": "stream",
     "text": [
      "  File \"<ipython-input-2-872ebd74c558>\", line 26, in search_instagram_tag\n",
      "    if insta_post['location']['latitude'] != None and insta_post['location']['longitude'] != None:\n",
      "KeyError: 'latitude'\n",
      "Traceback (most recent call last):\n"
     ]
    },
    {
     "name": "stdout",
     "output_type": "stream",
     "text": [
      "\n",
      "caught error in body, continuing: 'latitude'"
     ]
    },
    {
     "name": "stderr",
     "output_type": "stream",
     "text": [
      "  File \"<ipython-input-2-872ebd74c558>\", line 26, in search_instagram_tag\n",
      "    if insta_post['location']['latitude'] != None and insta_post['location']['longitude'] != None:\n",
      "KeyError: 'latitude'\n",
      "Traceback (most recent call last):\n"
     ]
    },
    {
     "name": "stdout",
     "output_type": "stream",
     "text": [
      "\n",
      "caught error in body, continuing: 'latitude'"
     ]
    },
    {
     "name": "stderr",
     "output_type": "stream",
     "text": [
      "  File \"<ipython-input-2-872ebd74c558>\", line 26, in search_instagram_tag\n",
      "    if insta_post['location']['latitude'] != None and insta_post['location']['longitude'] != None:\n",
      "KeyError: 'latitude'\n",
      "Traceback (most recent call last):\n"
     ]
    },
    {
     "name": "stdout",
     "output_type": "stream",
     "text": [
      "\n",
      "caught error in body, continuing: 'latitude'"
     ]
    },
    {
     "name": "stderr",
     "output_type": "stream",
     "text": [
      "  File \"<ipython-input-2-872ebd74c558>\", line 26, in search_instagram_tag\n",
      "    if insta_post['location']['latitude'] != None and insta_post['location']['longitude'] != None:\n",
      "KeyError: 'latitude'\n",
      "Traceback (most recent call last):\n"
     ]
    },
    {
     "name": "stdout",
     "output_type": "stream",
     "text": [
      "\n",
      "caught error in body, continuing: 'latitude'"
     ]
    },
    {
     "name": "stderr",
     "output_type": "stream",
     "text": [
      "  File \"<ipython-input-2-872ebd74c558>\", line 26, in search_instagram_tag\n",
      "    if insta_post['location']['latitude'] != None and insta_post['location']['longitude'] != None:\n",
      "KeyError: 'latitude'\n",
      "Traceback (most recent call last):\n"
     ]
    },
    {
     "name": "stdout",
     "output_type": "stream",
     "text": [
      "\n",
      "caught error in body, continuing: 'latitude'"
     ]
    },
    {
     "name": "stderr",
     "output_type": "stream",
     "text": [
      "  File \"<ipython-input-2-872ebd74c558>\", line 26, in search_instagram_tag\n",
      "    if insta_post['location']['latitude'] != None and insta_post['location']['longitude'] != None:\n",
      "KeyError: 'latitude'\n",
      "Traceback (most recent call last):\n"
     ]
    },
    {
     "name": "stdout",
     "output_type": "stream",
     "text": [
      "\n",
      "caught error in body, continuing: 'latitude'"
     ]
    },
    {
     "name": "stderr",
     "output_type": "stream",
     "text": [
      "  File \"<ipython-input-2-872ebd74c558>\", line 26, in search_instagram_tag\n",
      "    if insta_post['location']['latitude'] != None and insta_post['location']['longitude'] != None:\n",
      "KeyError: 'latitude'\n",
      "Traceback (most recent call last):\n"
     ]
    },
    {
     "name": "stdout",
     "output_type": "stream",
     "text": [
      "\n",
      "caught error in body, continuing: 'latitude'"
     ]
    },
    {
     "name": "stderr",
     "output_type": "stream",
     "text": [
      "  File \"<ipython-input-2-872ebd74c558>\", line 26, in search_instagram_tag\n",
      "    if insta_post['location']['latitude'] != None and insta_post['location']['longitude'] != None:\n",
      "KeyError: 'latitude'\n",
      "Traceback (most recent call last):\n"
     ]
    },
    {
     "name": "stdout",
     "output_type": "stream",
     "text": [
      "\n",
      "caught error in body, continuing: 'latitude'\n",
      "caught error in body, continuing: 'latitude'"
     ]
    },
    {
     "name": "stderr",
     "output_type": "stream",
     "text": [
      "  File \"<ipython-input-2-872ebd74c558>\", line 26, in search_instagram_tag\n",
      "    if insta_post['location']['latitude'] != None and insta_post['location']['longitude'] != None:\n",
      "KeyError: 'latitude'\n",
      "Traceback (most recent call last):\n",
      "  File \"<ipython-input-2-872ebd74c558>\", line 26, in search_instagram_tag\n",
      "    if insta_post['location']['latitude'] != None and insta_post['location']['longitude'] != None:\n",
      "KeyError: 'latitude'\n",
      "Traceback (most recent call last):\n"
     ]
    },
    {
     "name": "stdout",
     "output_type": "stream",
     "text": [
      "\n",
      "caught error in body, continuing: 'latitude'"
     ]
    },
    {
     "name": "stderr",
     "output_type": "stream",
     "text": [
      "  File \"<ipython-input-2-872ebd74c558>\", line 26, in search_instagram_tag\n",
      "    if insta_post['location']['latitude'] != None and insta_post['location']['longitude'] != None:\n",
      "KeyError: 'latitude'\n",
      "Traceback (most recent call last):\n"
     ]
    },
    {
     "name": "stdout",
     "output_type": "stream",
     "text": [
      "\n",
      "caught error in body, continuing: 'latitude'"
     ]
    },
    {
     "name": "stderr",
     "output_type": "stream",
     "text": [
      "  File \"<ipython-input-2-872ebd74c558>\", line 26, in search_instagram_tag\n",
      "    if insta_post['location']['latitude'] != None and insta_post['location']['longitude'] != None:\n",
      "KeyError: 'latitude'\n",
      "Traceback (most recent call last):\n"
     ]
    },
    {
     "name": "stdout",
     "output_type": "stream",
     "text": [
      "\n",
      "caught error in body, continuing: 'latitude'"
     ]
    },
    {
     "name": "stderr",
     "output_type": "stream",
     "text": [
      "  File \"<ipython-input-2-872ebd74c558>\", line 26, in search_instagram_tag\n",
      "    if insta_post['location']['latitude'] != None and insta_post['location']['longitude'] != None:\n",
      "KeyError: 'latitude'\n",
      "Traceback (most recent call last):\n"
     ]
    },
    {
     "name": "stdout",
     "output_type": "stream",
     "text": [
      "\n",
      "caught error in body, continuing: 'latitude'"
     ]
    },
    {
     "name": "stderr",
     "output_type": "stream",
     "text": [
      "  File \"<ipython-input-2-872ebd74c558>\", line 26, in search_instagram_tag\n",
      "    if insta_post['location']['latitude'] != None and insta_post['location']['longitude'] != None:\n",
      "KeyError: 'latitude'\n",
      "Traceback (most recent call last):\n"
     ]
    },
    {
     "name": "stdout",
     "output_type": "stream",
     "text": [
      "\n",
      "caught error in body, continuing: 'latitude'"
     ]
    },
    {
     "name": "stderr",
     "output_type": "stream",
     "text": [
      "  File \"<ipython-input-2-872ebd74c558>\", line 26, in search_instagram_tag\n",
      "    if insta_post['location']['latitude'] != None and insta_post['location']['longitude'] != None:\n",
      "KeyError: 'latitude'\n",
      "Traceback (most recent call last):\n"
     ]
    },
    {
     "name": "stdout",
     "output_type": "stream",
     "text": [
      "\n",
      "caught error in body, continuing: 'latitude'"
     ]
    },
    {
     "name": "stderr",
     "output_type": "stream",
     "text": [
      "  File \"<ipython-input-2-872ebd74c558>\", line 26, in search_instagram_tag\n",
      "    if insta_post['location']['latitude'] != None and insta_post['location']['longitude'] != None:\n",
      "KeyError: 'latitude'\n",
      "Traceback (most recent call last):\n"
     ]
    },
    {
     "name": "stdout",
     "output_type": "stream",
     "text": [
      "\n",
      "caught error in body, continuing: 'latitude'\n",
      "caught error in body, continuing: 'latitude'"
     ]
    },
    {
     "name": "stderr",
     "output_type": "stream",
     "text": [
      "  File \"<ipython-input-2-872ebd74c558>\", line 26, in search_instagram_tag\n",
      "    if insta_post['location']['latitude'] != None and insta_post['location']['longitude'] != None:\n",
      "KeyError: 'latitude'\n",
      "Traceback (most recent call last):\n",
      "  File \"<ipython-input-2-872ebd74c558>\", line 26, in search_instagram_tag\n",
      "    if insta_post['location']['latitude'] != None and insta_post['location']['longitude'] != None:\n",
      "KeyError: 'latitude'\n",
      "Traceback (most recent call last):\n"
     ]
    },
    {
     "name": "stdout",
     "output_type": "stream",
     "text": [
      "\n",
      "caught error in body, continuing: 'latitude'"
     ]
    },
    {
     "name": "stderr",
     "output_type": "stream",
     "text": [
      "  File \"<ipython-input-2-872ebd74c558>\", line 26, in search_instagram_tag\n",
      "    if insta_post['location']['latitude'] != None and insta_post['location']['longitude'] != None:\n",
      "KeyError: 'latitude'\n",
      "Traceback (most recent call last):\n"
     ]
    },
    {
     "name": "stdout",
     "output_type": "stream",
     "text": [
      "\n",
      "caught error in body, continuing: 'latitude'"
     ]
    },
    {
     "name": "stderr",
     "output_type": "stream",
     "text": [
      "  File \"<ipython-input-2-872ebd74c558>\", line 26, in search_instagram_tag\n",
      "    if insta_post['location']['latitude'] != None and insta_post['location']['longitude'] != None:\n",
      "KeyError: 'latitude'\n",
      "Traceback (most recent call last):\n"
     ]
    },
    {
     "name": "stdout",
     "output_type": "stream",
     "text": [
      "\n",
      "caught error in body, continuing: 'latitude'"
     ]
    },
    {
     "name": "stderr",
     "output_type": "stream",
     "text": [
      "  File \"<ipython-input-2-872ebd74c558>\", line 26, in search_instagram_tag\n",
      "    if insta_post['location']['latitude'] != None and insta_post['location']['longitude'] != None:\n",
      "KeyError: 'latitude'\n",
      "Traceback (most recent call last):\n"
     ]
    },
    {
     "name": "stdout",
     "output_type": "stream",
     "text": [
      "\n",
      "caught error in body, continuing: 'latitude'"
     ]
    },
    {
     "name": "stderr",
     "output_type": "stream",
     "text": [
      "  File \"<ipython-input-2-872ebd74c558>\", line 26, in search_instagram_tag\n",
      "    if insta_post['location']['latitude'] != None and insta_post['location']['longitude'] != None:\n",
      "KeyError: 'latitude'\n",
      "Traceback (most recent call last):\n"
     ]
    },
    {
     "name": "stdout",
     "output_type": "stream",
     "text": [
      "\n",
      "caught error in body, continuing: 'latitude'"
     ]
    },
    {
     "name": "stderr",
     "output_type": "stream",
     "text": [
      "  File \"<ipython-input-2-872ebd74c558>\", line 26, in search_instagram_tag\n",
      "    if insta_post['location']['latitude'] != None and insta_post['location']['longitude'] != None:\n",
      "KeyError: 'latitude'\n",
      "Traceback (most recent call last):\n"
     ]
    },
    {
     "name": "stdout",
     "output_type": "stream",
     "text": [
      "\n",
      "caught error in body, continuing: 'latitude'"
     ]
    },
    {
     "name": "stderr",
     "output_type": "stream",
     "text": [
      "  File \"<ipython-input-2-872ebd74c558>\", line 26, in search_instagram_tag\n",
      "    if insta_post['location']['latitude'] != None and insta_post['location']['longitude'] != None:\n",
      "KeyError: 'latitude'\n",
      "Traceback (most recent call last):\n"
     ]
    },
    {
     "name": "stdout",
     "output_type": "stream",
     "text": [
      "\n",
      "caught error in body, continuing: 'latitude'"
     ]
    },
    {
     "name": "stderr",
     "output_type": "stream",
     "text": [
      "  File \"<ipython-input-2-872ebd74c558>\", line 26, in search_instagram_tag\n",
      "    if insta_post['location']['latitude'] != None and insta_post['location']['longitude'] != None:\n",
      "KeyError: 'latitude'\n",
      "Traceback (most recent call last):\n"
     ]
    },
    {
     "name": "stdout",
     "output_type": "stream",
     "text": [
      "\n",
      "caught error in body, continuing: 'latitude'"
     ]
    },
    {
     "name": "stderr",
     "output_type": "stream",
     "text": [
      "  File \"<ipython-input-2-872ebd74c558>\", line 26, in search_instagram_tag\n",
      "    if insta_post['location']['latitude'] != None and insta_post['location']['longitude'] != None:\n",
      "KeyError: 'latitude'\n",
      "Traceback (most recent call last):\n"
     ]
    },
    {
     "name": "stdout",
     "output_type": "stream",
     "text": [
      "\n",
      "caught error in body, continuing: 'latitude'"
     ]
    },
    {
     "name": "stderr",
     "output_type": "stream",
     "text": [
      "  File \"<ipython-input-2-872ebd74c558>\", line 26, in search_instagram_tag\n",
      "    if insta_post['location']['latitude'] != None and insta_post['location']['longitude'] != None:\n",
      "KeyError: 'latitude'\n",
      "Traceback (most recent call last):\n"
     ]
    },
    {
     "name": "stdout",
     "output_type": "stream",
     "text": [
      "\n",
      "caught error in body, continuing: 'latitude'"
     ]
    },
    {
     "name": "stderr",
     "output_type": "stream",
     "text": [
      "  File \"<ipython-input-2-872ebd74c558>\", line 26, in search_instagram_tag\n",
      "    if insta_post['location']['latitude'] != None and insta_post['location']['longitude'] != None:\n",
      "KeyError: 'latitude'\n",
      "Traceback (most recent call last):\n"
     ]
    },
    {
     "name": "stdout",
     "output_type": "stream",
     "text": [
      "\n",
      "caught error in body, continuing: 'latitude'\n",
      "caught error in body, continuing: 'latitude'"
     ]
    },
    {
     "name": "stderr",
     "output_type": "stream",
     "text": [
      "  File \"<ipython-input-2-872ebd74c558>\", line 26, in search_instagram_tag\n",
      "    if insta_post['location']['latitude'] != None and insta_post['location']['longitude'] != None:\n",
      "KeyError: 'latitude'\n",
      "Traceback (most recent call last):\n",
      "  File \"<ipython-input-2-872ebd74c558>\", line 26, in search_instagram_tag\n",
      "    if insta_post['location']['latitude'] != None and insta_post['location']['longitude'] != None:\n",
      "KeyError: 'latitude'\n",
      "Traceback (most recent call last):\n"
     ]
    },
    {
     "name": "stdout",
     "output_type": "stream",
     "text": [
      "\n",
      "caught error in body, continuing: 'latitude'"
     ]
    },
    {
     "name": "stderr",
     "output_type": "stream",
     "text": [
      "  File \"<ipython-input-2-872ebd74c558>\", line 26, in search_instagram_tag\n",
      "    if insta_post['location']['latitude'] != None and insta_post['location']['longitude'] != None:\n",
      "KeyError: 'latitude'\n",
      "Traceback (most recent call last):\n"
     ]
    },
    {
     "name": "stdout",
     "output_type": "stream",
     "text": [
      "\n",
      "caught error in body, continuing: 'latitude'"
     ]
    },
    {
     "name": "stderr",
     "output_type": "stream",
     "text": [
      "  File \"<ipython-input-2-872ebd74c558>\", line 26, in search_instagram_tag\n",
      "    if insta_post['location']['latitude'] != None and insta_post['location']['longitude'] != None:\n",
      "KeyError: 'latitude'\n",
      "Traceback (most recent call last):\n"
     ]
    },
    {
     "name": "stdout",
     "output_type": "stream",
     "text": [
      "\n",
      "caught error in body, continuing: 'latitude'"
     ]
    },
    {
     "name": "stderr",
     "output_type": "stream",
     "text": [
      "  File \"<ipython-input-2-872ebd74c558>\", line 26, in search_instagram_tag\n",
      "    if insta_post['location']['latitude'] != None and insta_post['location']['longitude'] != None:\n",
      "KeyError: 'latitude'\n",
      "Traceback (most recent call last):\n"
     ]
    },
    {
     "name": "stdout",
     "output_type": "stream",
     "text": [
      "\n",
      "caught error in body, continuing: 'latitude'"
     ]
    },
    {
     "name": "stderr",
     "output_type": "stream",
     "text": [
      "  File \"<ipython-input-2-872ebd74c558>\", line 26, in search_instagram_tag\n",
      "    if insta_post['location']['latitude'] != None and insta_post['location']['longitude'] != None:\n",
      "KeyError: 'latitude'\n",
      "Traceback (most recent call last):\n"
     ]
    },
    {
     "name": "stdout",
     "output_type": "stream",
     "text": [
      "\n",
      "caught error in body, continuing: 'NoneType' object has no attribute '__getitem__'"
     ]
    },
    {
     "name": "stderr",
     "output_type": "stream",
     "text": [
      "  File \"<ipython-input-2-872ebd74c558>\", line 26, in search_instagram_tag\n",
      "    if insta_post['location']['latitude'] != None and insta_post['location']['longitude'] != None:\n",
      "KeyError: 'latitude'\n",
      "Traceback (most recent call last):\n"
     ]
    },
    {
     "name": "stdout",
     "output_type": "stream",
     "text": [
      "\n",
      "caught error in body, continuing: 'NoneType' object has no attribute '__getitem__'"
     ]
    },
    {
     "name": "stderr",
     "output_type": "stream",
     "text": [
      "  File \"<ipython-input-2-872ebd74c558>\", line 28, in search_instagram_tag\n",
      "    int(insta_post['caption']['created_time'])\n",
      "TypeError: 'NoneType' object has no attribute '__getitem__'\n",
      "Traceback (most recent call last):\n"
     ]
    },
    {
     "name": "stdout",
     "output_type": "stream",
     "text": [
      "\n",
      "caught error in body, continuing: 'latitude'"
     ]
    },
    {
     "name": "stderr",
     "output_type": "stream",
     "text": [
      "  File \"<ipython-input-2-872ebd74c558>\", line 28, in search_instagram_tag\n",
      "    int(insta_post['caption']['created_time'])\n",
      "TypeError: 'NoneType' object has no attribute '__getitem__'\n",
      "Traceback (most recent call last):\n"
     ]
    },
    {
     "name": "stdout",
     "output_type": "stream",
     "text": [
      "\n",
      "caught error in body, continuing: 'latitude'"
     ]
    },
    {
     "name": "stderr",
     "output_type": "stream",
     "text": [
      "  File \"<ipython-input-2-872ebd74c558>\", line 26, in search_instagram_tag\n",
      "    if insta_post['location']['latitude'] != None and insta_post['location']['longitude'] != None:\n",
      "KeyError: 'latitude'\n",
      "Traceback (most recent call last):\n"
     ]
    },
    {
     "name": "stdout",
     "output_type": "stream",
     "text": [
      "\n",
      "caught error in body, continuing: 'latitude'"
     ]
    },
    {
     "name": "stderr",
     "output_type": "stream",
     "text": [
      "  File \"<ipython-input-2-872ebd74c558>\", line 26, in search_instagram_tag\n",
      "    if insta_post['location']['latitude'] != None and insta_post['location']['longitude'] != None:\n",
      "KeyError: 'latitude'\n",
      "Traceback (most recent call last):\n"
     ]
    },
    {
     "name": "stdout",
     "output_type": "stream",
     "text": [
      "\n",
      "caught error in body, continuing: 'latitude'"
     ]
    },
    {
     "name": "stderr",
     "output_type": "stream",
     "text": [
      "  File \"<ipython-input-2-872ebd74c558>\", line 26, in search_instagram_tag\n",
      "    if insta_post['location']['latitude'] != None and insta_post['location']['longitude'] != None:\n",
      "KeyError: 'latitude'\n",
      "Traceback (most recent call last):\n"
     ]
    },
    {
     "name": "stdout",
     "output_type": "stream",
     "text": [
      "\n",
      "caught error in body, continuing: 'latitude'"
     ]
    },
    {
     "name": "stderr",
     "output_type": "stream",
     "text": [
      "  File \"<ipython-input-2-872ebd74c558>\", line 26, in search_instagram_tag\n",
      "    if insta_post['location']['latitude'] != None and insta_post['location']['longitude'] != None:\n",
      "KeyError: 'latitude'\n",
      "Traceback (most recent call last):\n"
     ]
    },
    {
     "name": "stdout",
     "output_type": "stream",
     "text": [
      "\n",
      "caught error in body, continuing: 'latitude'"
     ]
    },
    {
     "name": "stderr",
     "output_type": "stream",
     "text": [
      "  File \"<ipython-input-2-872ebd74c558>\", line 26, in search_instagram_tag\n",
      "    if insta_post['location']['latitude'] != None and insta_post['location']['longitude'] != None:\n",
      "KeyError: 'latitude'\n",
      "Traceback (most recent call last):\n"
     ]
    },
    {
     "name": "stdout",
     "output_type": "stream",
     "text": [
      "\n",
      "caught error in body, continuing: 'latitude'"
     ]
    },
    {
     "name": "stderr",
     "output_type": "stream",
     "text": [
      "  File \"<ipython-input-2-872ebd74c558>\", line 26, in search_instagram_tag\n",
      "    if insta_post['location']['latitude'] != None and insta_post['location']['longitude'] != None:\n",
      "KeyError: 'latitude'\n",
      "Traceback (most recent call last):\n"
     ]
    },
    {
     "name": "stdout",
     "output_type": "stream",
     "text": [
      "\n",
      "caught error in body, continuing: 'latitude'"
     ]
    },
    {
     "name": "stderr",
     "output_type": "stream",
     "text": [
      "  File \"<ipython-input-2-872ebd74c558>\", line 26, in search_instagram_tag\n",
      "    if insta_post['location']['latitude'] != None and insta_post['location']['longitude'] != None:\n",
      "KeyError: 'latitude'\n",
      "Traceback (most recent call last):\n"
     ]
    },
    {
     "name": "stdout",
     "output_type": "stream",
     "text": [
      "\n",
      "caught error in body, continuing: 'NoneType' object has no attribute '__getitem__'"
     ]
    },
    {
     "name": "stderr",
     "output_type": "stream",
     "text": [
      "  File \"<ipython-input-2-872ebd74c558>\", line 26, in search_instagram_tag\n",
      "    if insta_post['location']['latitude'] != None and insta_post['location']['longitude'] != None:\n",
      "KeyError: 'latitude'\n",
      "Traceback (most recent call last):\n"
     ]
    },
    {
     "name": "stdout",
     "output_type": "stream",
     "text": [
      "\n",
      "caught error in body, continuing: 'latitude'"
     ]
    },
    {
     "name": "stderr",
     "output_type": "stream",
     "text": [
      "  File \"<ipython-input-2-872ebd74c558>\", line 28, in search_instagram_tag\n",
      "    int(insta_post['caption']['created_time'])\n",
      "TypeError: 'NoneType' object has no attribute '__getitem__'\n",
      "Traceback (most recent call last):\n"
     ]
    },
    {
     "name": "stdout",
     "output_type": "stream",
     "text": [
      "\n",
      "caught error in body, continuing: 'latitude'"
     ]
    },
    {
     "name": "stderr",
     "output_type": "stream",
     "text": [
      "  File \"<ipython-input-2-872ebd74c558>\", line 26, in search_instagram_tag\n",
      "    if insta_post['location']['latitude'] != None and insta_post['location']['longitude'] != None:\n",
      "KeyError: 'latitude'\n",
      "Traceback (most recent call last):\n"
     ]
    },
    {
     "name": "stdout",
     "output_type": "stream",
     "text": [
      "\n",
      "caught error in body, continuing: 'latitude'"
     ]
    },
    {
     "name": "stderr",
     "output_type": "stream",
     "text": [
      "  File \"<ipython-input-2-872ebd74c558>\", line 26, in search_instagram_tag\n",
      "    if insta_post['location']['latitude'] != None and insta_post['location']['longitude'] != None:\n",
      "KeyError: 'latitude'\n",
      "Traceback (most recent call last):\n"
     ]
    },
    {
     "name": "stdout",
     "output_type": "stream",
     "text": [
      "\n",
      "caught error in body, continuing: 'latitude'"
     ]
    },
    {
     "name": "stderr",
     "output_type": "stream",
     "text": [
      "  File \"<ipython-input-2-872ebd74c558>\", line 26, in search_instagram_tag\n",
      "    if insta_post['location']['latitude'] != None and insta_post['location']['longitude'] != None:\n",
      "KeyError: 'latitude'\n",
      "Traceback (most recent call last):\n"
     ]
    },
    {
     "name": "stdout",
     "output_type": "stream",
     "text": [
      "\n",
      "caught error in body, continuing: 'latitude'"
     ]
    },
    {
     "name": "stderr",
     "output_type": "stream",
     "text": [
      "  File \"<ipython-input-2-872ebd74c558>\", line 26, in search_instagram_tag\n",
      "    if insta_post['location']['latitude'] != None and insta_post['location']['longitude'] != None:\n",
      "KeyError: 'latitude'\n",
      "Traceback (most recent call last):\n"
     ]
    },
    {
     "name": "stdout",
     "output_type": "stream",
     "text": [
      "\n",
      "caught error in body, continuing: 'latitude'"
     ]
    },
    {
     "name": "stderr",
     "output_type": "stream",
     "text": [
      "  File \"<ipython-input-2-872ebd74c558>\", line 26, in search_instagram_tag\n",
      "    if insta_post['location']['latitude'] != None and insta_post['location']['longitude'] != None:\n",
      "KeyError: 'latitude'\n",
      "Traceback (most recent call last):\n"
     ]
    },
    {
     "name": "stdout",
     "output_type": "stream",
     "text": [
      "\n",
      "caught error in body, continuing: 'latitude'"
     ]
    },
    {
     "name": "stderr",
     "output_type": "stream",
     "text": [
      "  File \"<ipython-input-2-872ebd74c558>\", line 26, in search_instagram_tag\n",
      "    if insta_post['location']['latitude'] != None and insta_post['location']['longitude'] != None:\n",
      "KeyError: 'latitude'\n",
      "Traceback (most recent call last):\n"
     ]
    },
    {
     "name": "stdout",
     "output_type": "stream",
     "text": [
      "\n",
      "caught error in body, continuing: 'latitude'"
     ]
    },
    {
     "name": "stderr",
     "output_type": "stream",
     "text": [
      "  File \"<ipython-input-2-872ebd74c558>\", line 26, in search_instagram_tag\n",
      "    if insta_post['location']['latitude'] != None and insta_post['location']['longitude'] != None:\n",
      "KeyError: 'latitude'\n",
      "Traceback (most recent call last):\n"
     ]
    },
    {
     "name": "stdout",
     "output_type": "stream",
     "text": [
      "\n",
      "caught error in body, continuing: 'latitude'"
     ]
    },
    {
     "name": "stderr",
     "output_type": "stream",
     "text": [
      "  File \"<ipython-input-2-872ebd74c558>\", line 26, in search_instagram_tag\n",
      "    if insta_post['location']['latitude'] != None and insta_post['location']['longitude'] != None:\n",
      "KeyError: 'latitude'\n",
      "Traceback (most recent call last):\n"
     ]
    },
    {
     "name": "stdout",
     "output_type": "stream",
     "text": [
      "\n",
      "caught error in body, continuing: 'latitude'"
     ]
    },
    {
     "name": "stderr",
     "output_type": "stream",
     "text": [
      "  File \"<ipython-input-2-872ebd74c558>\", line 26, in search_instagram_tag\n",
      "    if insta_post['location']['latitude'] != None and insta_post['location']['longitude'] != None:\n",
      "KeyError: 'latitude'\n",
      "Traceback (most recent call last):\n"
     ]
    },
    {
     "name": "stdout",
     "output_type": "stream",
     "text": [
      "\n",
      "caught error in body, continuing: 'latitude'"
     ]
    },
    {
     "name": "stderr",
     "output_type": "stream",
     "text": [
      "  File \"<ipython-input-2-872ebd74c558>\", line 26, in search_instagram_tag\n",
      "    if insta_post['location']['latitude'] != None and insta_post['location']['longitude'] != None:\n",
      "KeyError: 'latitude'\n",
      "Traceback (most recent call last):\n"
     ]
    },
    {
     "name": "stdout",
     "output_type": "stream",
     "text": [
      "\n",
      "caught error in body, continuing: 'NoneType' object has no attribute '__getitem__'"
     ]
    },
    {
     "name": "stderr",
     "output_type": "stream",
     "text": [
      "  File \"<ipython-input-2-872ebd74c558>\", line 26, in search_instagram_tag\n",
      "    if insta_post['location']['latitude'] != None and insta_post['location']['longitude'] != None:\n",
      "KeyError: 'latitude'\n",
      "Traceback (most recent call last):\n"
     ]
    },
    {
     "name": "stdout",
     "output_type": "stream",
     "text": [
      "\n",
      "caught error in body, continuing: 'latitude'"
     ]
    },
    {
     "name": "stderr",
     "output_type": "stream",
     "text": [
      "  File \"<ipython-input-2-872ebd74c558>\", line 28, in search_instagram_tag\n",
      "    int(insta_post['caption']['created_time'])\n",
      "TypeError: 'NoneType' object has no attribute '__getitem__'\n",
      "Traceback (most recent call last):\n"
     ]
    },
    {
     "name": "stdout",
     "output_type": "stream",
     "text": [
      "\n",
      "caught error in body, continuing: 'latitude'"
     ]
    },
    {
     "name": "stderr",
     "output_type": "stream",
     "text": [
      "  File \"<ipython-input-2-872ebd74c558>\", line 26, in search_instagram_tag\n",
      "    if insta_post['location']['latitude'] != None and insta_post['location']['longitude'] != None:\n",
      "KeyError: 'latitude'\n",
      "Traceback (most recent call last):\n"
     ]
    },
    {
     "name": "stdout",
     "output_type": "stream",
     "text": [
      "\n",
      "caught error in body, continuing: 'latitude'"
     ]
    },
    {
     "name": "stderr",
     "output_type": "stream",
     "text": [
      "  File \"<ipython-input-2-872ebd74c558>\", line 26, in search_instagram_tag\n",
      "    if insta_post['location']['latitude'] != None and insta_post['location']['longitude'] != None:\n",
      "KeyError: 'latitude'\n",
      "Traceback (most recent call last):\n"
     ]
    },
    {
     "name": "stdout",
     "output_type": "stream",
     "text": [
      "\n",
      "caught error in body, continuing: 'latitude'"
     ]
    },
    {
     "name": "stderr",
     "output_type": "stream",
     "text": [
      "  File \"<ipython-input-2-872ebd74c558>\", line 26, in search_instagram_tag\n",
      "    if insta_post['location']['latitude'] != None and insta_post['location']['longitude'] != None:\n",
      "KeyError: 'latitude'\n",
      "Traceback (most recent call last):\n"
     ]
    },
    {
     "name": "stdout",
     "output_type": "stream",
     "text": [
      "\n",
      "caught error in body, continuing: 'latitude'"
     ]
    },
    {
     "name": "stderr",
     "output_type": "stream",
     "text": [
      "  File \"<ipython-input-2-872ebd74c558>\", line 26, in search_instagram_tag\n",
      "    if insta_post['location']['latitude'] != None and insta_post['location']['longitude'] != None:\n",
      "KeyError: 'latitude'\n",
      "Traceback (most recent call last):\n"
     ]
    },
    {
     "name": "stdout",
     "output_type": "stream",
     "text": [
      "\n",
      "caught error in body, continuing: 'latitude'"
     ]
    },
    {
     "name": "stderr",
     "output_type": "stream",
     "text": [
      "  File \"<ipython-input-2-872ebd74c558>\", line 26, in search_instagram_tag\n",
      "    if insta_post['location']['latitude'] != None and insta_post['location']['longitude'] != None:\n",
      "KeyError: 'latitude'\n",
      "Traceback (most recent call last):\n"
     ]
    },
    {
     "name": "stdout",
     "output_type": "stream",
     "text": [
      "\n",
      "caught error in body, continuing: 'latitude'"
     ]
    },
    {
     "name": "stderr",
     "output_type": "stream",
     "text": [
      "  File \"<ipython-input-2-872ebd74c558>\", line 26, in search_instagram_tag\n",
      "    if insta_post['location']['latitude'] != None and insta_post['location']['longitude'] != None:\n",
      "KeyError: 'latitude'\n",
      "Traceback (most recent call last):\n"
     ]
    },
    {
     "name": "stdout",
     "output_type": "stream",
     "text": [
      "\n",
      "caught error in body, continuing: 'latitude'"
     ]
    },
    {
     "name": "stderr",
     "output_type": "stream",
     "text": [
      "  File \"<ipython-input-2-872ebd74c558>\", line 26, in search_instagram_tag\n",
      "    if insta_post['location']['latitude'] != None and insta_post['location']['longitude'] != None:\n",
      "KeyError: 'latitude'\n",
      "Traceback (most recent call last):\n"
     ]
    },
    {
     "name": "stdout",
     "output_type": "stream",
     "text": [
      "\n",
      "caught error in body, continuing: 'latitude'"
     ]
    },
    {
     "name": "stderr",
     "output_type": "stream",
     "text": [
      "  File \"<ipython-input-2-872ebd74c558>\", line 26, in search_instagram_tag\n",
      "    if insta_post['location']['latitude'] != None and insta_post['location']['longitude'] != None:\n",
      "KeyError: 'latitude'\n",
      "Traceback (most recent call last):\n"
     ]
    },
    {
     "name": "stdout",
     "output_type": "stream",
     "text": [
      "\n",
      "caught error in body, continuing: 'latitude'"
     ]
    },
    {
     "name": "stderr",
     "output_type": "stream",
     "text": [
      "  File \"<ipython-input-2-872ebd74c558>\", line 26, in search_instagram_tag\n",
      "    if insta_post['location']['latitude'] != None and insta_post['location']['longitude'] != None:\n",
      "KeyError: 'latitude'\n",
      "Traceback (most recent call last):\n"
     ]
    },
    {
     "name": "stdout",
     "output_type": "stream",
     "text": [
      "\n",
      "caught error in body, continuing: 'latitude'\n",
      "caught error in body, continuing: 'latitude'\n",
      "caught error in body, continuing: 'latitude'\n",
      "caught error in body, continuing: 'latitude'"
     ]
    },
    {
     "name": "stderr",
     "output_type": "stream",
     "text": [
      "  File \"<ipython-input-2-872ebd74c558>\", line 26, in search_instagram_tag\n",
      "    if insta_post['location']['latitude'] != None and insta_post['location']['longitude'] != None:\n",
      "KeyError: 'latitude'\n",
      "Traceback (most recent call last):\n",
      "  File \"<ipython-input-2-872ebd74c558>\", line 26, in search_instagram_tag\n",
      "    if insta_post['location']['latitude'] != None and insta_post['location']['longitude'] != None:\n",
      "KeyError: 'latitude'\n",
      "Traceback (most recent call last):\n",
      "  File \"<ipython-input-2-872ebd74c558>\", line 26, in search_instagram_tag\n",
      "    if insta_post['location']['latitude'] != None and insta_post['location']['longitude'] != None:\n",
      "KeyError: 'latitude'\n",
      "Traceback (most recent call last):\n",
      "  File \"<ipython-input-2-872ebd74c558>\", line 26, in search_instagram_tag\n",
      "    if insta_post['location']['latitude'] != None and insta_post['location']['longitude'] != None:\n",
      "KeyError: 'latitude'\n",
      "Traceback (most recent call last):\n"
     ]
    },
    {
     "name": "stdout",
     "output_type": "stream",
     "text": [
      "\n",
      "caught error in body, continuing: 'latitude'"
     ]
    },
    {
     "name": "stderr",
     "output_type": "stream",
     "text": [
      "  File \"<ipython-input-2-872ebd74c558>\", line 26, in search_instagram_tag\n",
      "    if insta_post['location']['latitude'] != None and insta_post['location']['longitude'] != None:\n",
      "KeyError: 'latitude'\n",
      "Traceback (most recent call last):\n"
     ]
    },
    {
     "name": "stdout",
     "output_type": "stream",
     "text": [
      "\n",
      "caught error in body, continuing: 'latitude'\n",
      "caught error in body, continuing: 'latitude'"
     ]
    },
    {
     "name": "stderr",
     "output_type": "stream",
     "text": [
      "  File \"<ipython-input-2-872ebd74c558>\", line 26, in search_instagram_tag\n",
      "    if insta_post['location']['latitude'] != None and insta_post['location']['longitude'] != None:\n",
      "KeyError: 'latitude'\n",
      "Traceback (most recent call last):\n",
      "  File \"<ipython-input-2-872ebd74c558>\", line 26, in search_instagram_tag\n",
      "    if insta_post['location']['latitude'] != None and insta_post['location']['longitude'] != None:\n",
      "KeyError: 'latitude'\n",
      "Traceback (most recent call last):\n"
     ]
    },
    {
     "name": "stdout",
     "output_type": "stream",
     "text": [
      "\n",
      "caught error in body, continuing: 'latitude'\n",
      "caught error in body, continuing: 'latitude'"
     ]
    },
    {
     "name": "stderr",
     "output_type": "stream",
     "text": [
      "  File \"<ipython-input-2-872ebd74c558>\", line 26, in search_instagram_tag\n",
      "    if insta_post['location']['latitude'] != None and insta_post['location']['longitude'] != None:\n",
      "KeyError: 'latitude'\n",
      "Traceback (most recent call last):\n",
      "  File \"<ipython-input-2-872ebd74c558>\", line 26, in search_instagram_tag\n",
      "    if insta_post['location']['latitude'] != None and insta_post['location']['longitude'] != None:\n",
      "KeyError: 'latitude'\n",
      "Traceback (most recent call last):\n"
     ]
    },
    {
     "name": "stdout",
     "output_type": "stream",
     "text": [
      "\n",
      "caught error in body, continuing: 'latitude'"
     ]
    },
    {
     "name": "stderr",
     "output_type": "stream",
     "text": [
      "  File \"<ipython-input-2-872ebd74c558>\", line 26, in search_instagram_tag\n",
      "    if insta_post['location']['latitude'] != None and insta_post['location']['longitude'] != None:\n",
      "KeyError: 'latitude'\n",
      "Traceback (most recent call last):\n"
     ]
    },
    {
     "name": "stdout",
     "output_type": "stream",
     "text": [
      "\n",
      "caught error in body, continuing: 'latitude'"
     ]
    },
    {
     "name": "stderr",
     "output_type": "stream",
     "text": [
      "  File \"<ipython-input-2-872ebd74c558>\", line 26, in search_instagram_tag\n",
      "    if insta_post['location']['latitude'] != None and insta_post['location']['longitude'] != None:\n",
      "KeyError: 'latitude'\n",
      "Traceback (most recent call last):\n"
     ]
    },
    {
     "name": "stdout",
     "output_type": "stream",
     "text": [
      "\n",
      "caught error in body, continuing: 'latitude'"
     ]
    },
    {
     "name": "stderr",
     "output_type": "stream",
     "text": [
      "  File \"<ipython-input-2-872ebd74c558>\", line 26, in search_instagram_tag\n",
      "    if insta_post['location']['latitude'] != None and insta_post['location']['longitude'] != None:\n",
      "KeyError: 'latitude'\n",
      "Traceback (most recent call last):\n"
     ]
    },
    {
     "name": "stdout",
     "output_type": "stream",
     "text": [
      "\n",
      "caught error in body, continuing: 'latitude'"
     ]
    },
    {
     "name": "stderr",
     "output_type": "stream",
     "text": [
      "  File \"<ipython-input-2-872ebd74c558>\", line 26, in search_instagram_tag\n",
      "    if insta_post['location']['latitude'] != None and insta_post['location']['longitude'] != None:\n",
      "KeyError: 'latitude'\n",
      "Traceback (most recent call last):\n"
     ]
    },
    {
     "name": "stdout",
     "output_type": "stream",
     "text": [
      "\n",
      "caught error in body, continuing: 'latitude'"
     ]
    },
    {
     "name": "stderr",
     "output_type": "stream",
     "text": [
      "  File \"<ipython-input-2-872ebd74c558>\", line 26, in search_instagram_tag\n",
      "    if insta_post['location']['latitude'] != None and insta_post['location']['longitude'] != None:\n",
      "KeyError: 'latitude'\n",
      "Traceback (most recent call last):\n"
     ]
    },
    {
     "name": "stdout",
     "output_type": "stream",
     "text": [
      "\n",
      "caught error in body, continuing: 'latitude'"
     ]
    },
    {
     "name": "stderr",
     "output_type": "stream",
     "text": [
      "  File \"<ipython-input-2-872ebd74c558>\", line 26, in search_instagram_tag\n",
      "    if insta_post['location']['latitude'] != None and insta_post['location']['longitude'] != None:\n",
      "KeyError: 'latitude'\n",
      "Traceback (most recent call last):\n"
     ]
    },
    {
     "name": "stdout",
     "output_type": "stream",
     "text": [
      "\n",
      "caught error in body, continuing: 'latitude'"
     ]
    },
    {
     "name": "stderr",
     "output_type": "stream",
     "text": [
      "  File \"<ipython-input-2-872ebd74c558>\", line 26, in search_instagram_tag\n",
      "    if insta_post['location']['latitude'] != None and insta_post['location']['longitude'] != None:\n",
      "KeyError: 'latitude'\n",
      "Traceback (most recent call last):\n"
     ]
    },
    {
     "name": "stdout",
     "output_type": "stream",
     "text": [
      "\n",
      "caught error in body, continuing: 'latitude'"
     ]
    },
    {
     "name": "stderr",
     "output_type": "stream",
     "text": [
      "  File \"<ipython-input-2-872ebd74c558>\", line 26, in search_instagram_tag\n",
      "    if insta_post['location']['latitude'] != None and insta_post['location']['longitude'] != None:\n",
      "KeyError: 'latitude'\n",
      "Traceback (most recent call last):\n"
     ]
    },
    {
     "name": "stdout",
     "output_type": "stream",
     "text": [
      "\n",
      "caught error in body, continuing: 'latitude'"
     ]
    },
    {
     "name": "stderr",
     "output_type": "stream",
     "text": [
      "  File \"<ipython-input-2-872ebd74c558>\", line 26, in search_instagram_tag\n",
      "    if insta_post['location']['latitude'] != None and insta_post['location']['longitude'] != None:\n",
      "KeyError: 'latitude'\n",
      "Traceback (most recent call last):\n"
     ]
    },
    {
     "name": "stdout",
     "output_type": "stream",
     "text": [
      "\n",
      "caught error in body, continuing: 'latitude'"
     ]
    },
    {
     "name": "stderr",
     "output_type": "stream",
     "text": [
      "  File \"<ipython-input-2-872ebd74c558>\", line 26, in search_instagram_tag\n",
      "    if insta_post['location']['latitude'] != None and insta_post['location']['longitude'] != None:\n",
      "KeyError: 'latitude'\n",
      "Traceback (most recent call last):\n"
     ]
    },
    {
     "name": "stdout",
     "output_type": "stream",
     "text": [
      "\n",
      "caught error in body, continuing: 'latitude'\n",
      "caught error in body, continuing: 'latitude'"
     ]
    },
    {
     "name": "stderr",
     "output_type": "stream",
     "text": [
      "  File \"<ipython-input-2-872ebd74c558>\", line 26, in search_instagram_tag\n",
      "    if insta_post['location']['latitude'] != None and insta_post['location']['longitude'] != None:\n",
      "KeyError: 'latitude'\n",
      "Traceback (most recent call last):\n",
      "  File \"<ipython-input-2-872ebd74c558>\", line 26, in search_instagram_tag\n",
      "    if insta_post['location']['latitude'] != None and insta_post['location']['longitude'] != None:\n",
      "KeyError: 'latitude'\n",
      "Traceback (most recent call last):\n"
     ]
    },
    {
     "name": "stdout",
     "output_type": "stream",
     "text": [
      "\n",
      "caught error in body, continuing: 'latitude'"
     ]
    },
    {
     "name": "stderr",
     "output_type": "stream",
     "text": [
      "  File \"<ipython-input-2-872ebd74c558>\", line 26, in search_instagram_tag\n",
      "    if insta_post['location']['latitude'] != None and insta_post['location']['longitude'] != None:\n",
      "KeyError: 'latitude'\n",
      "Traceback (most recent call last):\n"
     ]
    },
    {
     "name": "stdout",
     "output_type": "stream",
     "text": [
      "\n",
      "caught error in body, continuing: 'latitude'"
     ]
    },
    {
     "name": "stderr",
     "output_type": "stream",
     "text": [
      "  File \"<ipython-input-2-872ebd74c558>\", line 26, in search_instagram_tag\n",
      "    if insta_post['location']['latitude'] != None and insta_post['location']['longitude'] != None:\n",
      "KeyError: 'latitude'\n",
      "Traceback (most recent call last):\n"
     ]
    },
    {
     "name": "stdout",
     "output_type": "stream",
     "text": [
      "\n",
      "caught error in body, continuing: 'latitude'"
     ]
    },
    {
     "name": "stderr",
     "output_type": "stream",
     "text": [
      "  File \"<ipython-input-2-872ebd74c558>\", line 26, in search_instagram_tag\n",
      "    if insta_post['location']['latitude'] != None and insta_post['location']['longitude'] != None:\n",
      "KeyError: 'latitude'\n",
      "Traceback (most recent call last):\n"
     ]
    },
    {
     "name": "stdout",
     "output_type": "stream",
     "text": [
      "\n",
      "caught error in body, continuing: 'latitude'"
     ]
    },
    {
     "name": "stderr",
     "output_type": "stream",
     "text": [
      "  File \"<ipython-input-2-872ebd74c558>\", line 26, in search_instagram_tag\n",
      "    if insta_post['location']['latitude'] != None and insta_post['location']['longitude'] != None:\n",
      "KeyError: 'latitude'\n",
      "Traceback (most recent call last):\n"
     ]
    },
    {
     "name": "stdout",
     "output_type": "stream",
     "text": [
      "\n",
      "caught error in body, continuing: 'latitude'"
     ]
    },
    {
     "name": "stderr",
     "output_type": "stream",
     "text": [
      "  File \"<ipython-input-2-872ebd74c558>\", line 26, in search_instagram_tag\n",
      "    if insta_post['location']['latitude'] != None and insta_post['location']['longitude'] != None:\n",
      "KeyError: 'latitude'\n",
      "Traceback (most recent call last):\n"
     ]
    },
    {
     "name": "stdout",
     "output_type": "stream",
     "text": [
      "\n",
      "caught error in body, continuing: 'latitude'"
     ]
    },
    {
     "name": "stderr",
     "output_type": "stream",
     "text": [
      "  File \"<ipython-input-2-872ebd74c558>\", line 26, in search_instagram_tag\n",
      "    if insta_post['location']['latitude'] != None and insta_post['location']['longitude'] != None:\n",
      "KeyError: 'latitude'\n",
      "Traceback (most recent call last):\n"
     ]
    },
    {
     "name": "stdout",
     "output_type": "stream",
     "text": [
      "\n",
      "caught error in body, continuing: 'latitude'"
     ]
    },
    {
     "name": "stderr",
     "output_type": "stream",
     "text": [
      "  File \"<ipython-input-2-872ebd74c558>\", line 26, in search_instagram_tag\n",
      "    if insta_post['location']['latitude'] != None and insta_post['location']['longitude'] != None:\n",
      "KeyError: 'latitude'\n",
      "Traceback (most recent call last):\n"
     ]
    },
    {
     "name": "stdout",
     "output_type": "stream",
     "text": [
      "\n",
      "caught error in body, continuing: 'NoneType' object has no attribute '__getitem__'\n",
      "caught error in body, continuing: 'latitude'"
     ]
    },
    {
     "name": "stderr",
     "output_type": "stream",
     "text": [
      "  File \"<ipython-input-2-872ebd74c558>\", line 26, in search_instagram_tag\n",
      "    if insta_post['location']['latitude'] != None and insta_post['location']['longitude'] != None:\n",
      "KeyError: 'latitude'\n",
      "Traceback (most recent call last):\n",
      "  File \"<ipython-input-2-872ebd74c558>\", line 28, in search_instagram_tag\n",
      "    int(insta_post['caption']['created_time'])\n",
      "TypeError: 'NoneType' object has no attribute '__getitem__'\n",
      "Traceback (most recent call last):\n"
     ]
    },
    {
     "name": "stdout",
     "output_type": "stream",
     "text": [
      "\n",
      "caught error in body, continuing: 'latitude'"
     ]
    },
    {
     "name": "stderr",
     "output_type": "stream",
     "text": [
      "  File \"<ipython-input-2-872ebd74c558>\", line 26, in search_instagram_tag\n",
      "    if insta_post['location']['latitude'] != None and insta_post['location']['longitude'] != None:\n",
      "KeyError: 'latitude'\n",
      "Traceback (most recent call last):\n"
     ]
    },
    {
     "name": "stdout",
     "output_type": "stream",
     "text": [
      "\n",
      "caught error in body, continuing: 'latitude'"
     ]
    },
    {
     "name": "stderr",
     "output_type": "stream",
     "text": [
      "  File \"<ipython-input-2-872ebd74c558>\", line 26, in search_instagram_tag\n",
      "    if insta_post['location']['latitude'] != None and insta_post['location']['longitude'] != None:\n",
      "KeyError: 'latitude'\n",
      "Traceback (most recent call last):\n"
     ]
    },
    {
     "name": "stdout",
     "output_type": "stream",
     "text": [
      "\n",
      "caught error in body, continuing: 'latitude'"
     ]
    },
    {
     "name": "stderr",
     "output_type": "stream",
     "text": [
      "  File \"<ipython-input-2-872ebd74c558>\", line 26, in search_instagram_tag\n",
      "    if insta_post['location']['latitude'] != None and insta_post['location']['longitude'] != None:\n",
      "KeyError: 'latitude'\n",
      "Traceback (most recent call last):\n"
     ]
    },
    {
     "name": "stdout",
     "output_type": "stream",
     "text": [
      "\n",
      "caught error in body, continuing: 'latitude'"
     ]
    },
    {
     "name": "stderr",
     "output_type": "stream",
     "text": [
      "  File \"<ipython-input-2-872ebd74c558>\", line 26, in search_instagram_tag\n",
      "    if insta_post['location']['latitude'] != None and insta_post['location']['longitude'] != None:\n",
      "KeyError: 'latitude'\n",
      "Traceback (most recent call last):\n"
     ]
    },
    {
     "name": "stdout",
     "output_type": "stream",
     "text": [
      "\n",
      "caught error in body, continuing: 'latitude'"
     ]
    },
    {
     "name": "stderr",
     "output_type": "stream",
     "text": [
      "  File \"<ipython-input-2-872ebd74c558>\", line 26, in search_instagram_tag\n",
      "    if insta_post['location']['latitude'] != None and insta_post['location']['longitude'] != None:\n",
      "KeyError: 'latitude'\n",
      "Traceback (most recent call last):\n"
     ]
    },
    {
     "name": "stdout",
     "output_type": "stream",
     "text": [
      "\n",
      "caught error in body, continuing: 'latitude'"
     ]
    },
    {
     "name": "stderr",
     "output_type": "stream",
     "text": [
      "  File \"<ipython-input-2-872ebd74c558>\", line 26, in search_instagram_tag\n",
      "    if insta_post['location']['latitude'] != None and insta_post['location']['longitude'] != None:\n",
      "KeyError: 'latitude'\n",
      "Traceback (most recent call last):\n"
     ]
    },
    {
     "name": "stdout",
     "output_type": "stream",
     "text": [
      "\n",
      "caught error in body, continuing: 'latitude'"
     ]
    },
    {
     "name": "stderr",
     "output_type": "stream",
     "text": [
      "  File \"<ipython-input-2-872ebd74c558>\", line 26, in search_instagram_tag\n",
      "    if insta_post['location']['latitude'] != None and insta_post['location']['longitude'] != None:\n",
      "KeyError: 'latitude'\n",
      "Traceback (most recent call last):\n"
     ]
    },
    {
     "name": "stdout",
     "output_type": "stream",
     "text": [
      "\n",
      "caught error in body, continuing: 'latitude'"
     ]
    },
    {
     "name": "stderr",
     "output_type": "stream",
     "text": [
      "  File \"<ipython-input-2-872ebd74c558>\", line 26, in search_instagram_tag\n",
      "    if insta_post['location']['latitude'] != None and insta_post['location']['longitude'] != None:\n",
      "KeyError: 'latitude'\n",
      "Traceback (most recent call last):\n"
     ]
    },
    {
     "name": "stdout",
     "output_type": "stream",
     "text": [
      "\n",
      "caught error in body, continuing: 'latitude'"
     ]
    },
    {
     "name": "stderr",
     "output_type": "stream",
     "text": [
      "  File \"<ipython-input-2-872ebd74c558>\", line 26, in search_instagram_tag\n",
      "    if insta_post['location']['latitude'] != None and insta_post['location']['longitude'] != None:\n",
      "KeyError: 'latitude'\n",
      "Traceback (most recent call last):\n"
     ]
    },
    {
     "name": "stdout",
     "output_type": "stream",
     "text": [
      "\n",
      "caught error in body, continuing: 'latitude'"
     ]
    },
    {
     "name": "stderr",
     "output_type": "stream",
     "text": [
      "  File \"<ipython-input-2-872ebd74c558>\", line 26, in search_instagram_tag\n",
      "    if insta_post['location']['latitude'] != None and insta_post['location']['longitude'] != None:\n",
      "KeyError: 'latitude'\n",
      "Traceback (most recent call last):\n"
     ]
    },
    {
     "name": "stdout",
     "output_type": "stream",
     "text": [
      "\n",
      "caught error in body, continuing: 'latitude'"
     ]
    },
    {
     "name": "stderr",
     "output_type": "stream",
     "text": [
      "  File \"<ipython-input-2-872ebd74c558>\", line 26, in search_instagram_tag\n",
      "    if insta_post['location']['latitude'] != None and insta_post['location']['longitude'] != None:\n",
      "KeyError: 'latitude'\n",
      "Traceback (most recent call last):\n"
     ]
    },
    {
     "name": "stdout",
     "output_type": "stream",
     "text": [
      "\n",
      "caught error in body, continuing: 'latitude'"
     ]
    },
    {
     "name": "stderr",
     "output_type": "stream",
     "text": [
      "  File \"<ipython-input-2-872ebd74c558>\", line 26, in search_instagram_tag\n",
      "    if insta_post['location']['latitude'] != None and insta_post['location']['longitude'] != None:\n",
      "KeyError: 'latitude'\n",
      "Traceback (most recent call last):\n"
     ]
    },
    {
     "name": "stdout",
     "output_type": "stream",
     "text": [
      "\n",
      "caught error in body, continuing: 'latitude'"
     ]
    },
    {
     "name": "stderr",
     "output_type": "stream",
     "text": [
      "  File \"<ipython-input-2-872ebd74c558>\", line 26, in search_instagram_tag\n",
      "    if insta_post['location']['latitude'] != None and insta_post['location']['longitude'] != None:\n",
      "KeyError: 'latitude'\n",
      "Traceback (most recent call last):\n"
     ]
    },
    {
     "name": "stdout",
     "output_type": "stream",
     "text": [
      "\n",
      "caught error in body, continuing: 'latitude'"
     ]
    },
    {
     "name": "stderr",
     "output_type": "stream",
     "text": [
      "  File \"<ipython-input-2-872ebd74c558>\", line 26, in search_instagram_tag\n",
      "    if insta_post['location']['latitude'] != None and insta_post['location']['longitude'] != None:\n",
      "KeyError: 'latitude'\n",
      "Traceback (most recent call last):\n"
     ]
    },
    {
     "name": "stdout",
     "output_type": "stream",
     "text": [
      "\n",
      "caught error in body, continuing: 'latitude'"
     ]
    },
    {
     "name": "stderr",
     "output_type": "stream",
     "text": [
      "  File \"<ipython-input-2-872ebd74c558>\", line 26, in search_instagram_tag\n",
      "    if insta_post['location']['latitude'] != None and insta_post['location']['longitude'] != None:\n",
      "KeyError: 'latitude'\n",
      "Traceback (most recent call last):\n"
     ]
    },
    {
     "name": "stdout",
     "output_type": "stream",
     "text": [
      "\n",
      "caught error in body, continuing: 'latitude'"
     ]
    },
    {
     "name": "stderr",
     "output_type": "stream",
     "text": [
      "  File \"<ipython-input-2-872ebd74c558>\", line 26, in search_instagram_tag\n",
      "    if insta_post['location']['latitude'] != None and insta_post['location']['longitude'] != None:\n",
      "KeyError: 'latitude'\n",
      "Traceback (most recent call last):\n"
     ]
    },
    {
     "name": "stdout",
     "output_type": "stream",
     "text": [
      "\n",
      "caught error in body, continuing: 'latitude'"
     ]
    },
    {
     "name": "stderr",
     "output_type": "stream",
     "text": [
      "  File \"<ipython-input-2-872ebd74c558>\", line 26, in search_instagram_tag\n",
      "    if insta_post['location']['latitude'] != None and insta_post['location']['longitude'] != None:\n",
      "KeyError: 'latitude'\n",
      "Traceback (most recent call last):\n"
     ]
    },
    {
     "name": "stdout",
     "output_type": "stream",
     "text": [
      "\n",
      "caught error in body, continuing: 'latitude'"
     ]
    },
    {
     "name": "stderr",
     "output_type": "stream",
     "text": [
      "  File \"<ipython-input-2-872ebd74c558>\", line 26, in search_instagram_tag\n",
      "    if insta_post['location']['latitude'] != None and insta_post['location']['longitude'] != None:\n",
      "KeyError: 'latitude'\n",
      "Traceback (most recent call last):\n"
     ]
    },
    {
     "name": "stdout",
     "output_type": "stream",
     "text": [
      "\n",
      "caught error in body, continuing: 'latitude'"
     ]
    },
    {
     "name": "stderr",
     "output_type": "stream",
     "text": [
      "  File \"<ipython-input-2-872ebd74c558>\", line 26, in search_instagram_tag\n",
      "    if insta_post['location']['latitude'] != None and insta_post['location']['longitude'] != None:\n",
      "KeyError: 'latitude'\n",
      "Traceback (most recent call last):\n"
     ]
    },
    {
     "name": "stdout",
     "output_type": "stream",
     "text": [
      "\n",
      "caught error in body, continuing: 'latitude'"
     ]
    },
    {
     "name": "stderr",
     "output_type": "stream",
     "text": [
      "  File \"<ipython-input-2-872ebd74c558>\", line 26, in search_instagram_tag\n",
      "    if insta_post['location']['latitude'] != None and insta_post['location']['longitude'] != None:\n",
      "KeyError: 'latitude'\n",
      "Traceback (most recent call last):\n"
     ]
    },
    {
     "name": "stdout",
     "output_type": "stream",
     "text": [
      "\n",
      "caught error in body, continuing: 'latitude'"
     ]
    },
    {
     "name": "stderr",
     "output_type": "stream",
     "text": [
      "  File \"<ipython-input-2-872ebd74c558>\", line 26, in search_instagram_tag\n",
      "    if insta_post['location']['latitude'] != None and insta_post['location']['longitude'] != None:\n",
      "KeyError: 'latitude'\n",
      "Traceback (most recent call last):\n"
     ]
    },
    {
     "name": "stdout",
     "output_type": "stream",
     "text": [
      "\n",
      "caught error in body, continuing: 'latitude'\n",
      "caught error in body, continuing: 'latitude'\n",
      "caught error in body, continuing: 'latitude'\n",
      "caught error in body, continuing: 'latitude'\n",
      "caught error in body, continuing: 'latitude'\n",
      "caught error in body, continuing: 'latitude'\n",
      "caught error in body, continuing: 'latitude'\n",
      "caught error in body, continuing: 'latitude'"
     ]
    },
    {
     "name": "stderr",
     "output_type": "stream",
     "text": [
      "  File \"<ipython-input-2-872ebd74c558>\", line 26, in search_instagram_tag\n",
      "    if insta_post['location']['latitude'] != None and insta_post['location']['longitude'] != None:\n",
      "KeyError: 'latitude'\n",
      "Traceback (most recent call last):\n",
      "  File \"<ipython-input-2-872ebd74c558>\", line 26, in search_instagram_tag\n",
      "    if insta_post['location']['latitude'] != None and insta_post['location']['longitude'] != None:\n",
      "KeyError: 'latitude'\n",
      "Traceback (most recent call last):\n",
      "  File \"<ipython-input-2-872ebd74c558>\", line 26, in search_instagram_tag\n",
      "    if insta_post['location']['latitude'] != None and insta_post['location']['longitude'] != None:\n",
      "KeyError: 'latitude'\n",
      "Traceback (most recent call last):\n",
      "  File \"<ipython-input-2-872ebd74c558>\", line 26, in search_instagram_tag\n",
      "    if insta_post['location']['latitude'] != None and insta_post['location']['longitude'] != None:\n",
      "KeyError: 'latitude'\n",
      "Traceback (most recent call last):\n",
      "  File \"<ipython-input-2-872ebd74c558>\", line 26, in search_instagram_tag\n",
      "    if insta_post['location']['latitude'] != None and insta_post['location']['longitude'] != None:\n",
      "KeyError: 'latitude'\n",
      "Traceback (most recent call last):\n",
      "  File \"<ipython-input-2-872ebd74c558>\", line 26, in search_instagram_tag\n",
      "    if insta_post['location']['latitude'] != None and insta_post['location']['longitude'] != None:\n",
      "KeyError: 'latitude'\n",
      "Traceback (most recent call last):\n",
      "  File \"<ipython-input-2-872ebd74c558>\", line 26, in search_instagram_tag\n",
      "    if insta_post['location']['latitude'] != None and insta_post['location']['longitude'] != None:\n",
      "KeyError: 'latitude'\n",
      "Traceback (most recent call last):\n",
      "  File \"<ipython-input-2-872ebd74c558>\", line 26, in search_instagram_tag\n",
      "    if insta_post['location']['latitude'] != None and insta_post['location']['longitude'] != None:\n",
      "KeyError: 'latitude'\n",
      "Traceback (most recent call last):\n"
     ]
    },
    {
     "name": "stdout",
     "output_type": "stream",
     "text": [
      "\n",
      "caught error in body, continuing: 'latitude'"
     ]
    },
    {
     "name": "stderr",
     "output_type": "stream",
     "text": [
      "  File \"<ipython-input-2-872ebd74c558>\", line 26, in search_instagram_tag\n",
      "    if insta_post['location']['latitude'] != None and insta_post['location']['longitude'] != None:\n",
      "KeyError: 'latitude'\n",
      "Traceback (most recent call last):\n"
     ]
    },
    {
     "name": "stdout",
     "output_type": "stream",
     "text": [
      "\n",
      "caught error in body, continuing: 'latitude'"
     ]
    },
    {
     "name": "stderr",
     "output_type": "stream",
     "text": [
      "  File \"<ipython-input-2-872ebd74c558>\", line 26, in search_instagram_tag\n",
      "    if insta_post['location']['latitude'] != None and insta_post['location']['longitude'] != None:\n",
      "KeyError: 'latitude'\n",
      "Traceback (most recent call last):\n"
     ]
    },
    {
     "name": "stdout",
     "output_type": "stream",
     "text": [
      "\n",
      "caught error in body, continuing: 'latitude'"
     ]
    },
    {
     "name": "stderr",
     "output_type": "stream",
     "text": [
      "  File \"<ipython-input-2-872ebd74c558>\", line 26, in search_instagram_tag\n",
      "    if insta_post['location']['latitude'] != None and insta_post['location']['longitude'] != None:\n",
      "KeyError: 'latitude'\n",
      "Traceback (most recent call last):\n"
     ]
    },
    {
     "name": "stdout",
     "output_type": "stream",
     "text": [
      "\n",
      "caught error in body, continuing: 'latitude'"
     ]
    },
    {
     "name": "stderr",
     "output_type": "stream",
     "text": [
      "  File \"<ipython-input-2-872ebd74c558>\", line 26, in search_instagram_tag\n",
      "    if insta_post['location']['latitude'] != None and insta_post['location']['longitude'] != None:\n",
      "KeyError: 'latitude'\n",
      "Traceback (most recent call last):\n"
     ]
    },
    {
     "name": "stdout",
     "output_type": "stream",
     "text": [
      "\n",
      "caught error in body, continuing: 'latitude'"
     ]
    },
    {
     "name": "stderr",
     "output_type": "stream",
     "text": [
      "  File \"<ipython-input-2-872ebd74c558>\", line 26, in search_instagram_tag\n",
      "    if insta_post['location']['latitude'] != None and insta_post['location']['longitude'] != None:\n",
      "KeyError: 'latitude'\n",
      "Traceback (most recent call last):\n"
     ]
    },
    {
     "name": "stdout",
     "output_type": "stream",
     "text": [
      "\n",
      "caught error in body, continuing: 'latitude'"
     ]
    },
    {
     "name": "stderr",
     "output_type": "stream",
     "text": [
      "  File \"<ipython-input-2-872ebd74c558>\", line 26, in search_instagram_tag\n",
      "    if insta_post['location']['latitude'] != None and insta_post['location']['longitude'] != None:\n",
      "KeyError: 'latitude'\n",
      "Traceback (most recent call last):\n"
     ]
    },
    {
     "name": "stdout",
     "output_type": "stream",
     "text": [
      "\n",
      "caught error in body, continuing: 'latitude'"
     ]
    },
    {
     "name": "stderr",
     "output_type": "stream",
     "text": [
      "  File \"<ipython-input-2-872ebd74c558>\", line 26, in search_instagram_tag\n",
      "    if insta_post['location']['latitude'] != None and insta_post['location']['longitude'] != None:\n",
      "KeyError: 'latitude'\n",
      "Traceback (most recent call last):\n"
     ]
    },
    {
     "name": "stdout",
     "output_type": "stream",
     "text": [
      "\n",
      "caught error in body, continuing: 'latitude'\n",
      "caught error in body, continuing: 'latitude'"
     ]
    },
    {
     "name": "stderr",
     "output_type": "stream",
     "text": [
      "  File \"<ipython-input-2-872ebd74c558>\", line 26, in search_instagram_tag\n",
      "    if insta_post['location']['latitude'] != None and insta_post['location']['longitude'] != None:\n",
      "KeyError: 'latitude'\n",
      "Traceback (most recent call last):\n",
      "  File \"<ipython-input-2-872ebd74c558>\", line 26, in search_instagram_tag\n",
      "    if insta_post['location']['latitude'] != None and insta_post['location']['longitude'] != None:\n",
      "KeyError: 'latitude'\n",
      "Traceback (most recent call last):\n"
     ]
    },
    {
     "name": "stdout",
     "output_type": "stream",
     "text": [
      "\n",
      "caught error in body, continuing: 'latitude'"
     ]
    },
    {
     "name": "stderr",
     "output_type": "stream",
     "text": [
      "  File \"<ipython-input-2-872ebd74c558>\", line 26, in search_instagram_tag\n",
      "    if insta_post['location']['latitude'] != None and insta_post['location']['longitude'] != None:\n",
      "KeyError: 'latitude'\n",
      "Traceback (most recent call last):\n"
     ]
    },
    {
     "name": "stdout",
     "output_type": "stream",
     "text": [
      "\n",
      "caught error in body, continuing: 'latitude'"
     ]
    },
    {
     "name": "stderr",
     "output_type": "stream",
     "text": [
      "  File \"<ipython-input-2-872ebd74c558>\", line 26, in search_instagram_tag\n",
      "    if insta_post['location']['latitude'] != None and insta_post['location']['longitude'] != None:\n",
      "KeyError: 'latitude'\n",
      "Traceback (most recent call last):\n"
     ]
    },
    {
     "name": "stdout",
     "output_type": "stream",
     "text": [
      "\n",
      "caught error in body, continuing: 'latitude'"
     ]
    },
    {
     "name": "stderr",
     "output_type": "stream",
     "text": [
      "  File \"<ipython-input-2-872ebd74c558>\", line 26, in search_instagram_tag\n",
      "    if insta_post['location']['latitude'] != None and insta_post['location']['longitude'] != None:\n",
      "KeyError: 'latitude'\n",
      "Traceback (most recent call last):\n"
     ]
    },
    {
     "name": "stdout",
     "output_type": "stream",
     "text": [
      "\n",
      "caught error in body, continuing: 'latitude'"
     ]
    },
    {
     "name": "stderr",
     "output_type": "stream",
     "text": [
      "  File \"<ipython-input-2-872ebd74c558>\", line 26, in search_instagram_tag\n",
      "    if insta_post['location']['latitude'] != None and insta_post['location']['longitude'] != None:\n",
      "KeyError: 'latitude'\n",
      "Traceback (most recent call last):\n"
     ]
    },
    {
     "name": "stdout",
     "output_type": "stream",
     "text": [
      "\n",
      "caught error in body, continuing: 'latitude'"
     ]
    },
    {
     "name": "stderr",
     "output_type": "stream",
     "text": [
      "  File \"<ipython-input-2-872ebd74c558>\", line 26, in search_instagram_tag\n",
      "    if insta_post['location']['latitude'] != None and insta_post['location']['longitude'] != None:\n",
      "KeyError: 'latitude'\n",
      "Traceback (most recent call last):\n"
     ]
    },
    {
     "name": "stdout",
     "output_type": "stream",
     "text": [
      "\n",
      "caught error in body, continuing: 'latitude'"
     ]
    },
    {
     "name": "stderr",
     "output_type": "stream",
     "text": [
      "  File \"<ipython-input-2-872ebd74c558>\", line 26, in search_instagram_tag\n",
      "    if insta_post['location']['latitude'] != None and insta_post['location']['longitude'] != None:\n",
      "KeyError: 'latitude'\n",
      "Traceback (most recent call last):\n"
     ]
    },
    {
     "name": "stdout",
     "output_type": "stream",
     "text": [
      "\n",
      "caught error in body, continuing: 'latitude'"
     ]
    },
    {
     "name": "stderr",
     "output_type": "stream",
     "text": [
      "  File \"<ipython-input-2-872ebd74c558>\", line 26, in search_instagram_tag\n",
      "    if insta_post['location']['latitude'] != None and insta_post['location']['longitude'] != None:\n",
      "KeyError: 'latitude'\n",
      "Traceback (most recent call last):\n"
     ]
    },
    {
     "name": "stdout",
     "output_type": "stream",
     "text": [
      "\n",
      "caught error in body, continuing: 'latitude'"
     ]
    },
    {
     "name": "stderr",
     "output_type": "stream",
     "text": [
      "  File \"<ipython-input-2-872ebd74c558>\", line 26, in search_instagram_tag\n",
      "    if insta_post['location']['latitude'] != None and insta_post['location']['longitude'] != None:\n",
      "KeyError: 'latitude'\n",
      "Traceback (most recent call last):\n"
     ]
    },
    {
     "name": "stdout",
     "output_type": "stream",
     "text": [
      "\n",
      "caught error in body, continuing: 'latitude'"
     ]
    },
    {
     "name": "stderr",
     "output_type": "stream",
     "text": [
      "  File \"<ipython-input-2-872ebd74c558>\", line 26, in search_instagram_tag\n",
      "    if insta_post['location']['latitude'] != None and insta_post['location']['longitude'] != None:\n",
      "KeyError: 'latitude'\n",
      "Traceback (most recent call last):\n"
     ]
    },
    {
     "name": "stdout",
     "output_type": "stream",
     "text": [
      "\n",
      "caught error in body, continuing: 'latitude'"
     ]
    },
    {
     "name": "stderr",
     "output_type": "stream",
     "text": [
      "  File \"<ipython-input-2-872ebd74c558>\", line 26, in search_instagram_tag\n",
      "    if insta_post['location']['latitude'] != None and insta_post['location']['longitude'] != None:\n",
      "KeyError: 'latitude'\n",
      "Traceback (most recent call last):\n"
     ]
    },
    {
     "name": "stdout",
     "output_type": "stream",
     "text": [
      "\n",
      "caught error in body, continuing: 'latitude'"
     ]
    },
    {
     "name": "stderr",
     "output_type": "stream",
     "text": [
      "  File \"<ipython-input-2-872ebd74c558>\", line 26, in search_instagram_tag\n",
      "    if insta_post['location']['latitude'] != None and insta_post['location']['longitude'] != None:\n",
      "KeyError: 'latitude'\n",
      "Traceback (most recent call last):\n"
     ]
    },
    {
     "name": "stdout",
     "output_type": "stream",
     "text": [
      "\n",
      "caught error in body, continuing: 'latitude'"
     ]
    },
    {
     "name": "stderr",
     "output_type": "stream",
     "text": [
      "  File \"<ipython-input-2-872ebd74c558>\", line 26, in search_instagram_tag\n",
      "    if insta_post['location']['latitude'] != None and insta_post['location']['longitude'] != None:\n",
      "KeyError: 'latitude'\n",
      "Traceback (most recent call last):\n"
     ]
    },
    {
     "name": "stdout",
     "output_type": "stream",
     "text": [
      "\n",
      "caught error in body, continuing: 'latitude'"
     ]
    },
    {
     "name": "stderr",
     "output_type": "stream",
     "text": [
      "  File \"<ipython-input-2-872ebd74c558>\", line 26, in search_instagram_tag\n",
      "    if insta_post['location']['latitude'] != None and insta_post['location']['longitude'] != None:\n",
      "KeyError: 'latitude'\n",
      "Traceback (most recent call last):\n"
     ]
    },
    {
     "name": "stdout",
     "output_type": "stream",
     "text": [
      "\n",
      "caught error in body, continuing: 'latitude'"
     ]
    },
    {
     "name": "stderr",
     "output_type": "stream",
     "text": [
      "  File \"<ipython-input-2-872ebd74c558>\", line 26, in search_instagram_tag\n",
      "    if insta_post['location']['latitude'] != None and insta_post['location']['longitude'] != None:\n",
      "KeyError: 'latitude'\n",
      "Traceback (most recent call last):\n"
     ]
    },
    {
     "name": "stdout",
     "output_type": "stream",
     "text": [
      "\n",
      "caught error in body, continuing: 'latitude'"
     ]
    },
    {
     "name": "stderr",
     "output_type": "stream",
     "text": [
      "  File \"<ipython-input-2-872ebd74c558>\", line 26, in search_instagram_tag\n",
      "    if insta_post['location']['latitude'] != None and insta_post['location']['longitude'] != None:\n",
      "KeyError: 'latitude'\n",
      "Traceback (most recent call last):\n"
     ]
    },
    {
     "name": "stdout",
     "output_type": "stream",
     "text": [
      "\n",
      "caught error in body, continuing: 'latitude'"
     ]
    },
    {
     "name": "stderr",
     "output_type": "stream",
     "text": [
      "  File \"<ipython-input-2-872ebd74c558>\", line 26, in search_instagram_tag\n",
      "    if insta_post['location']['latitude'] != None and insta_post['location']['longitude'] != None:\n",
      "KeyError: 'latitude'\n",
      "Traceback (most recent call last):\n"
     ]
    },
    {
     "name": "stdout",
     "output_type": "stream",
     "text": [
      "\n",
      "caught error in body, continuing: 'latitude'"
     ]
    },
    {
     "name": "stderr",
     "output_type": "stream",
     "text": [
      "  File \"<ipython-input-2-872ebd74c558>\", line 26, in search_instagram_tag\n",
      "    if insta_post['location']['latitude'] != None and insta_post['location']['longitude'] != None:\n",
      "KeyError: 'latitude'\n",
      "Traceback (most recent call last):\n"
     ]
    },
    {
     "name": "stdout",
     "output_type": "stream",
     "text": [
      "\n",
      "caught error in body, continuing: 'latitude'"
     ]
    },
    {
     "name": "stderr",
     "output_type": "stream",
     "text": [
      "  File \"<ipython-input-2-872ebd74c558>\", line 26, in search_instagram_tag\n",
      "    if insta_post['location']['latitude'] != None and insta_post['location']['longitude'] != None:\n",
      "KeyError: 'latitude'\n",
      "Traceback (most recent call last):\n"
     ]
    },
    {
     "name": "stdout",
     "output_type": "stream",
     "text": [
      "\n",
      "caught error in body, continuing: 'latitude'"
     ]
    },
    {
     "name": "stderr",
     "output_type": "stream",
     "text": [
      "  File \"<ipython-input-2-872ebd74c558>\", line 26, in search_instagram_tag\n",
      "    if insta_post['location']['latitude'] != None and insta_post['location']['longitude'] != None:\n",
      "KeyError: 'latitude'\n",
      "Traceback (most recent call last):\n"
     ]
    },
    {
     "name": "stdout",
     "output_type": "stream",
     "text": [
      "\n",
      "caught error in body, continuing: 'latitude'\n",
      "caught error in body, continuing: 'latitude'"
     ]
    },
    {
     "name": "stderr",
     "output_type": "stream",
     "text": [
      "  File \"<ipython-input-2-872ebd74c558>\", line 26, in search_instagram_tag\n",
      "    if insta_post['location']['latitude'] != None and insta_post['location']['longitude'] != None:\n",
      "KeyError: 'latitude'\n",
      "Traceback (most recent call last):\n",
      "  File \"<ipython-input-2-872ebd74c558>\", line 26, in search_instagram_tag\n",
      "    if insta_post['location']['latitude'] != None and insta_post['location']['longitude'] != None:\n",
      "KeyError: 'latitude'\n",
      "Traceback (most recent call last):\n"
     ]
    },
    {
     "name": "stdout",
     "output_type": "stream",
     "text": [
      "\n",
      "caught error in body, continuing: 'latitude'"
     ]
    },
    {
     "name": "stderr",
     "output_type": "stream",
     "text": [
      "  File \"<ipython-input-2-872ebd74c558>\", line 26, in search_instagram_tag\n",
      "    if insta_post['location']['latitude'] != None and insta_post['location']['longitude'] != None:\n",
      "KeyError: 'latitude'\n",
      "Traceback (most recent call last):\n"
     ]
    },
    {
     "name": "stdout",
     "output_type": "stream",
     "text": [
      "\n",
      "caught error in body, continuing: 'latitude'"
     ]
    },
    {
     "name": "stderr",
     "output_type": "stream",
     "text": [
      "  File \"<ipython-input-2-872ebd74c558>\", line 26, in search_instagram_tag\n",
      "    if insta_post['location']['latitude'] != None and insta_post['location']['longitude'] != None:\n",
      "KeyError: 'latitude'\n",
      "Traceback (most recent call last):\n"
     ]
    },
    {
     "name": "stdout",
     "output_type": "stream",
     "text": [
      "\n",
      "caught error in body, continuing: 'latitude'"
     ]
    },
    {
     "name": "stderr",
     "output_type": "stream",
     "text": [
      "  File \"<ipython-input-2-872ebd74c558>\", line 26, in search_instagram_tag\n",
      "    if insta_post['location']['latitude'] != None and insta_post['location']['longitude'] != None:\n",
      "KeyError: 'latitude'\n",
      "Traceback (most recent call last):\n"
     ]
    },
    {
     "name": "stdout",
     "output_type": "stream",
     "text": [
      "\n",
      "caught error in body, continuing: 'latitude'"
     ]
    },
    {
     "name": "stderr",
     "output_type": "stream",
     "text": [
      "  File \"<ipython-input-2-872ebd74c558>\", line 26, in search_instagram_tag\n",
      "    if insta_post['location']['latitude'] != None and insta_post['location']['longitude'] != None:\n",
      "KeyError: 'latitude'\n",
      "Traceback (most recent call last):\n"
     ]
    },
    {
     "name": "stdout",
     "output_type": "stream",
     "text": [
      "\n",
      "caught error in body, continuing: 'latitude'"
     ]
    },
    {
     "name": "stderr",
     "output_type": "stream",
     "text": [
      "  File \"<ipython-input-2-872ebd74c558>\", line 26, in search_instagram_tag\n",
      "    if insta_post['location']['latitude'] != None and insta_post['location']['longitude'] != None:\n",
      "KeyError: 'latitude'\n",
      "Traceback (most recent call last):\n"
     ]
    },
    {
     "name": "stdout",
     "output_type": "stream",
     "text": [
      "\n",
      "caught error in body, continuing: 'latitude'\n",
      "caught error in body, continuing: 'latitude'"
     ]
    },
    {
     "name": "stderr",
     "output_type": "stream",
     "text": [
      "  File \"<ipython-input-2-872ebd74c558>\", line 26, in search_instagram_tag\n",
      "    if insta_post['location']['latitude'] != None and insta_post['location']['longitude'] != None:\n",
      "KeyError: 'latitude'\n",
      "Traceback (most recent call last):\n",
      "  File \"<ipython-input-2-872ebd74c558>\", line 26, in search_instagram_tag\n",
      "    if insta_post['location']['latitude'] != None and insta_post['location']['longitude'] != None:\n",
      "KeyError: 'latitude'\n",
      "Traceback (most recent call last):\n"
     ]
    },
    {
     "name": "stdout",
     "output_type": "stream",
     "text": [
      "\n",
      "caught error in body, continuing: 'latitude'"
     ]
    },
    {
     "name": "stderr",
     "output_type": "stream",
     "text": [
      "  File \"<ipython-input-2-872ebd74c558>\", line 26, in search_instagram_tag\n",
      "    if insta_post['location']['latitude'] != None and insta_post['location']['longitude'] != None:\n",
      "KeyError: 'latitude'\n",
      "Traceback (most recent call last):\n"
     ]
    },
    {
     "name": "stdout",
     "output_type": "stream",
     "text": [
      "\n",
      "caught error in body, continuing: 'latitude'"
     ]
    },
    {
     "name": "stderr",
     "output_type": "stream",
     "text": [
      "  File \"<ipython-input-2-872ebd74c558>\", line 26, in search_instagram_tag\n",
      "    if insta_post['location']['latitude'] != None and insta_post['location']['longitude'] != None:\n",
      "KeyError: 'latitude'\n",
      "Traceback (most recent call last):\n"
     ]
    },
    {
     "name": "stdout",
     "output_type": "stream",
     "text": [
      "\n",
      "caught error in body, continuing: 'latitude'\n",
      "caught error in body, continuing: 'latitude'"
     ]
    },
    {
     "name": "stderr",
     "output_type": "stream",
     "text": [
      "  File \"<ipython-input-2-872ebd74c558>\", line 26, in search_instagram_tag\n",
      "    if insta_post['location']['latitude'] != None and insta_post['location']['longitude'] != None:\n",
      "KeyError: 'latitude'\n",
      "Traceback (most recent call last):\n",
      "  File \"<ipython-input-2-872ebd74c558>\", line 26, in search_instagram_tag\n",
      "    if insta_post['location']['latitude'] != None and insta_post['location']['longitude'] != None:\n",
      "KeyError: 'latitude'\n",
      "Traceback (most recent call last):\n"
     ]
    },
    {
     "name": "stdout",
     "output_type": "stream",
     "text": [
      "\n",
      "caught error in body, continuing: 'latitude'"
     ]
    },
    {
     "name": "stderr",
     "output_type": "stream",
     "text": [
      "  File \"<ipython-input-2-872ebd74c558>\", line 26, in search_instagram_tag\n",
      "    if insta_post['location']['latitude'] != None and insta_post['location']['longitude'] != None:\n",
      "KeyError: 'latitude'\n",
      "Traceback (most recent call last):\n"
     ]
    },
    {
     "name": "stdout",
     "output_type": "stream",
     "text": [
      "\n",
      "caught error in body, continuing: 'latitude'"
     ]
    },
    {
     "name": "stderr",
     "output_type": "stream",
     "text": [
      "  File \"<ipython-input-2-872ebd74c558>\", line 26, in search_instagram_tag\n",
      "    if insta_post['location']['latitude'] != None and insta_post['location']['longitude'] != None:\n",
      "KeyError: 'latitude'\n",
      "Traceback (most recent call last):\n"
     ]
    },
    {
     "name": "stdout",
     "output_type": "stream",
     "text": [
      "\n",
      "caught error in body, continuing: 'latitude'"
     ]
    },
    {
     "name": "stderr",
     "output_type": "stream",
     "text": [
      "  File \"<ipython-input-2-872ebd74c558>\", line 26, in search_instagram_tag\n",
      "    if insta_post['location']['latitude'] != None and insta_post['location']['longitude'] != None:\n",
      "KeyError: 'latitude'\n",
      "Traceback (most recent call last):\n"
     ]
    },
    {
     "name": "stdout",
     "output_type": "stream",
     "text": [
      "\n",
      "caught error in body, continuing: 'latitude'"
     ]
    },
    {
     "name": "stderr",
     "output_type": "stream",
     "text": [
      "  File \"<ipython-input-2-872ebd74c558>\", line 26, in search_instagram_tag\n",
      "    if insta_post['location']['latitude'] != None and insta_post['location']['longitude'] != None:\n",
      "KeyError: 'latitude'\n",
      "Traceback (most recent call last):\n"
     ]
    },
    {
     "name": "stdout",
     "output_type": "stream",
     "text": [
      "\n",
      "caught error in body, continuing: 'latitude'"
     ]
    },
    {
     "name": "stderr",
     "output_type": "stream",
     "text": [
      "  File \"<ipython-input-2-872ebd74c558>\", line 26, in search_instagram_tag\n",
      "    if insta_post['location']['latitude'] != None and insta_post['location']['longitude'] != None:\n",
      "KeyError: 'latitude'\n",
      "Traceback (most recent call last):\n"
     ]
    },
    {
     "name": "stdout",
     "output_type": "stream",
     "text": [
      "\n",
      "caught error in body, continuing: 'latitude'"
     ]
    },
    {
     "name": "stderr",
     "output_type": "stream",
     "text": [
      "  File \"<ipython-input-2-872ebd74c558>\", line 26, in search_instagram_tag\n",
      "    if insta_post['location']['latitude'] != None and insta_post['location']['longitude'] != None:\n",
      "KeyError: 'latitude'\n",
      "Traceback (most recent call last):\n"
     ]
    },
    {
     "name": "stdout",
     "output_type": "stream",
     "text": [
      "\n",
      "caught error in body, continuing: 'latitude'"
     ]
    },
    {
     "name": "stderr",
     "output_type": "stream",
     "text": [
      "  File \"<ipython-input-2-872ebd74c558>\", line 26, in search_instagram_tag\n",
      "    if insta_post['location']['latitude'] != None and insta_post['location']['longitude'] != None:\n",
      "KeyError: 'latitude'\n",
      "Traceback (most recent call last):\n"
     ]
    },
    {
     "name": "stdout",
     "output_type": "stream",
     "text": [
      "\n",
      "caught error in body, continuing: 'latitude'"
     ]
    },
    {
     "name": "stderr",
     "output_type": "stream",
     "text": [
      "  File \"<ipython-input-2-872ebd74c558>\", line 26, in search_instagram_tag\n",
      "    if insta_post['location']['latitude'] != None and insta_post['location']['longitude'] != None:\n",
      "KeyError: 'latitude'\n",
      "Traceback (most recent call last):\n"
     ]
    },
    {
     "name": "stdout",
     "output_type": "stream",
     "text": [
      "\n",
      "caught error in body, continuing: 'latitude'\n",
      "caught error in body, continuing: 'latitude'"
     ]
    },
    {
     "name": "stderr",
     "output_type": "stream",
     "text": [
      "  File \"<ipython-input-2-872ebd74c558>\", line 26, in search_instagram_tag\n",
      "    if insta_post['location']['latitude'] != None and insta_post['location']['longitude'] != None:\n",
      "KeyError: 'latitude'\n",
      "Traceback (most recent call last):\n",
      "  File \"<ipython-input-2-872ebd74c558>\", line 26, in search_instagram_tag\n",
      "    if insta_post['location']['latitude'] != None and insta_post['location']['longitude'] != None:\n",
      "KeyError: 'latitude'\n",
      "Traceback (most recent call last):\n"
     ]
    },
    {
     "name": "stdout",
     "output_type": "stream",
     "text": [
      "\n",
      "caught error in body, continuing: 'latitude'"
     ]
    },
    {
     "name": "stderr",
     "output_type": "stream",
     "text": [
      "  File \"<ipython-input-2-872ebd74c558>\", line 26, in search_instagram_tag\n",
      "    if insta_post['location']['latitude'] != None and insta_post['location']['longitude'] != None:\n",
      "KeyError: 'latitude'\n",
      "Traceback (most recent call last):\n"
     ]
    },
    {
     "name": "stdout",
     "output_type": "stream",
     "text": [
      "\n",
      "caught error in body, continuing: 'latitude'"
     ]
    },
    {
     "name": "stderr",
     "output_type": "stream",
     "text": [
      "  File \"<ipython-input-2-872ebd74c558>\", line 26, in search_instagram_tag\n",
      "    if insta_post['location']['latitude'] != None and insta_post['location']['longitude'] != None:\n",
      "KeyError: 'latitude'\n",
      "Traceback (most recent call last):\n"
     ]
    },
    {
     "name": "stdout",
     "output_type": "stream",
     "text": [
      "\n",
      "caught error in body, continuing: 'latitude'"
     ]
    },
    {
     "name": "stderr",
     "output_type": "stream",
     "text": [
      "  File \"<ipython-input-2-872ebd74c558>\", line 26, in search_instagram_tag\n",
      "    if insta_post['location']['latitude'] != None and insta_post['location']['longitude'] != None:\n",
      "KeyError: 'latitude'\n",
      "Traceback (most recent call last):\n"
     ]
    },
    {
     "name": "stdout",
     "output_type": "stream",
     "text": [
      "\n",
      "caught error in body, continuing: 'latitude'"
     ]
    },
    {
     "name": "stderr",
     "output_type": "stream",
     "text": [
      "  File \"<ipython-input-2-872ebd74c558>\", line 26, in search_instagram_tag\n",
      "    if insta_post['location']['latitude'] != None and insta_post['location']['longitude'] != None:\n",
      "KeyError: 'latitude'\n",
      "Traceback (most recent call last):\n"
     ]
    },
    {
     "name": "stdout",
     "output_type": "stream",
     "text": [
      "\n",
      "caught error in body, continuing: 'latitude'"
     ]
    },
    {
     "name": "stderr",
     "output_type": "stream",
     "text": [
      "  File \"<ipython-input-2-872ebd74c558>\", line 26, in search_instagram_tag\n",
      "    if insta_post['location']['latitude'] != None and insta_post['location']['longitude'] != None:\n",
      "KeyError: 'latitude'\n",
      "Traceback (most recent call last):\n"
     ]
    },
    {
     "name": "stdout",
     "output_type": "stream",
     "text": [
      "\n",
      "caught error in body, continuing: 'latitude'"
     ]
    },
    {
     "name": "stderr",
     "output_type": "stream",
     "text": [
      "  File \"<ipython-input-2-872ebd74c558>\", line 26, in search_instagram_tag\n",
      "    if insta_post['location']['latitude'] != None and insta_post['location']['longitude'] != None:\n",
      "KeyError: 'latitude'\n",
      "Traceback (most recent call last):\n"
     ]
    },
    {
     "name": "stdout",
     "output_type": "stream",
     "text": [
      "\n",
      "caught error in body, continuing: 'latitude'"
     ]
    },
    {
     "name": "stderr",
     "output_type": "stream",
     "text": [
      "  File \"<ipython-input-2-872ebd74c558>\", line 26, in search_instagram_tag\n",
      "    if insta_post['location']['latitude'] != None and insta_post['location']['longitude'] != None:\n",
      "KeyError: 'latitude'\n",
      "Traceback (most recent call last):\n"
     ]
    },
    {
     "name": "stdout",
     "output_type": "stream",
     "text": [
      "\n",
      "caught error in body, continuing: 'latitude'"
     ]
    },
    {
     "name": "stderr",
     "output_type": "stream",
     "text": [
      "  File \"<ipython-input-2-872ebd74c558>\", line 26, in search_instagram_tag\n",
      "    if insta_post['location']['latitude'] != None and insta_post['location']['longitude'] != None:\n",
      "KeyError: 'latitude'\n",
      "Traceback (most recent call last):\n"
     ]
    },
    {
     "name": "stdout",
     "output_type": "stream",
     "text": [
      "\n",
      "caught error in body, continuing: 'latitude'"
     ]
    },
    {
     "name": "stderr",
     "output_type": "stream",
     "text": [
      "  File \"<ipython-input-2-872ebd74c558>\", line 26, in search_instagram_tag\n",
      "    if insta_post['location']['latitude'] != None and insta_post['location']['longitude'] != None:\n",
      "KeyError: 'latitude'\n",
      "Traceback (most recent call last):\n"
     ]
    },
    {
     "name": "stdout",
     "output_type": "stream",
     "text": [
      "\n",
      "caught error in body, continuing: 'latitude'"
     ]
    },
    {
     "name": "stderr",
     "output_type": "stream",
     "text": [
      "  File \"<ipython-input-2-872ebd74c558>\", line 26, in search_instagram_tag\n",
      "    if insta_post['location']['latitude'] != None and insta_post['location']['longitude'] != None:\n",
      "KeyError: 'latitude'\n",
      "Traceback (most recent call last):\n"
     ]
    },
    {
     "name": "stdout",
     "output_type": "stream",
     "text": [
      "\n",
      "caught error in body, continuing: 'latitude'\n",
      "caught error in body, continuing: 'latitude'"
     ]
    },
    {
     "name": "stderr",
     "output_type": "stream",
     "text": [
      "  File \"<ipython-input-2-872ebd74c558>\", line 26, in search_instagram_tag\n",
      "    if insta_post['location']['latitude'] != None and insta_post['location']['longitude'] != None:\n",
      "KeyError: 'latitude'\n",
      "Traceback (most recent call last):\n",
      "  File \"<ipython-input-2-872ebd74c558>\", line 26, in search_instagram_tag\n",
      "    if insta_post['location']['latitude'] != None and insta_post['location']['longitude'] != None:\n",
      "KeyError: 'latitude'\n",
      "Traceback (most recent call last):\n"
     ]
    },
    {
     "name": "stdout",
     "output_type": "stream",
     "text": [
      "\n",
      "caught error in body, continuing: 'latitude'"
     ]
    },
    {
     "name": "stderr",
     "output_type": "stream",
     "text": [
      "  File \"<ipython-input-2-872ebd74c558>\", line 26, in search_instagram_tag\n",
      "    if insta_post['location']['latitude'] != None and insta_post['location']['longitude'] != None:\n",
      "KeyError: 'latitude'\n",
      "Traceback (most recent call last):\n"
     ]
    },
    {
     "name": "stdout",
     "output_type": "stream",
     "text": [
      "\n",
      "caught error in body, continuing: 'latitude'"
     ]
    },
    {
     "name": "stderr",
     "output_type": "stream",
     "text": [
      "  File \"<ipython-input-2-872ebd74c558>\", line 26, in search_instagram_tag\n",
      "    if insta_post['location']['latitude'] != None and insta_post['location']['longitude'] != None:\n",
      "KeyError: 'latitude'\n",
      "Traceback (most recent call last):\n"
     ]
    },
    {
     "name": "stdout",
     "output_type": "stream",
     "text": [
      "\n",
      "caught error in body, continuing: 'latitude'"
     ]
    },
    {
     "name": "stderr",
     "output_type": "stream",
     "text": [
      "  File \"<ipython-input-2-872ebd74c558>\", line 26, in search_instagram_tag\n",
      "    if insta_post['location']['latitude'] != None and insta_post['location']['longitude'] != None:\n",
      "KeyError: 'latitude'\n",
      "Traceback (most recent call last):\n"
     ]
    },
    {
     "name": "stdout",
     "output_type": "stream",
     "text": [
      "\n",
      "caught error in body, continuing: 'latitude'"
     ]
    },
    {
     "name": "stderr",
     "output_type": "stream",
     "text": [
      "  File \"<ipython-input-2-872ebd74c558>\", line 26, in search_instagram_tag\n",
      "    if insta_post['location']['latitude'] != None and insta_post['location']['longitude'] != None:\n",
      "KeyError: 'latitude'\n",
      "Traceback (most recent call last):\n"
     ]
    },
    {
     "name": "stdout",
     "output_type": "stream",
     "text": [
      "\n",
      "caught error in body, continuing: 'latitude'\n",
      "caught error in body, continuing: 'latitude'"
     ]
    },
    {
     "name": "stderr",
     "output_type": "stream",
     "text": [
      "  File \"<ipython-input-2-872ebd74c558>\", line 26, in search_instagram_tag\n",
      "    if insta_post['location']['latitude'] != None and insta_post['location']['longitude'] != None:\n",
      "KeyError: 'latitude'\n",
      "Traceback (most recent call last):\n",
      "  File \"<ipython-input-2-872ebd74c558>\", line 26, in search_instagram_tag\n",
      "    if insta_post['location']['latitude'] != None and insta_post['location']['longitude'] != None:\n",
      "KeyError: 'latitude'\n",
      "Traceback (most recent call last):\n"
     ]
    },
    {
     "name": "stdout",
     "output_type": "stream",
     "text": [
      "\n",
      "caught error in body, continuing: 'latitude'"
     ]
    },
    {
     "name": "stderr",
     "output_type": "stream",
     "text": [
      "  File \"<ipython-input-2-872ebd74c558>\", line 26, in search_instagram_tag\n",
      "    if insta_post['location']['latitude'] != None and insta_post['location']['longitude'] != None:\n",
      "KeyError: 'latitude'\n",
      "Traceback (most recent call last):\n"
     ]
    },
    {
     "name": "stdout",
     "output_type": "stream",
     "text": [
      "\n",
      "caught error in body, continuing: 'latitude'"
     ]
    },
    {
     "name": "stderr",
     "output_type": "stream",
     "text": [
      "  File \"<ipython-input-2-872ebd74c558>\", line 26, in search_instagram_tag\n",
      "    if insta_post['location']['latitude'] != None and insta_post['location']['longitude'] != None:\n",
      "KeyError: 'latitude'\n",
      "Traceback (most recent call last):\n"
     ]
    },
    {
     "name": "stdout",
     "output_type": "stream",
     "text": [
      "\n",
      "caught error in body, continuing: 'latitude'"
     ]
    },
    {
     "name": "stderr",
     "output_type": "stream",
     "text": [
      "  File \"<ipython-input-2-872ebd74c558>\", line 26, in search_instagram_tag\n",
      "    if insta_post['location']['latitude'] != None and insta_post['location']['longitude'] != None:\n",
      "KeyError: 'latitude'\n",
      "Traceback (most recent call last):\n"
     ]
    },
    {
     "name": "stdout",
     "output_type": "stream",
     "text": [
      "\n",
      "caught error in body, continuing: 'latitude'"
     ]
    },
    {
     "name": "stderr",
     "output_type": "stream",
     "text": [
      "  File \"<ipython-input-2-872ebd74c558>\", line 26, in search_instagram_tag\n",
      "    if insta_post['location']['latitude'] != None and insta_post['location']['longitude'] != None:\n",
      "KeyError: 'latitude'\n",
      "Traceback (most recent call last):\n"
     ]
    },
    {
     "name": "stdout",
     "output_type": "stream",
     "text": [
      "\n",
      "caught error in body, continuing: 'latitude'"
     ]
    },
    {
     "name": "stderr",
     "output_type": "stream",
     "text": [
      "  File \"<ipython-input-2-872ebd74c558>\", line 26, in search_instagram_tag\n",
      "    if insta_post['location']['latitude'] != None and insta_post['location']['longitude'] != None:\n",
      "KeyError: 'latitude'\n",
      "Traceback (most recent call last):\n"
     ]
    },
    {
     "name": "stdout",
     "output_type": "stream",
     "text": [
      "\n",
      "caught error in body, continuing: 'latitude'"
     ]
    },
    {
     "name": "stderr",
     "output_type": "stream",
     "text": [
      "  File \"<ipython-input-2-872ebd74c558>\", line 26, in search_instagram_tag\n",
      "    if insta_post['location']['latitude'] != None and insta_post['location']['longitude'] != None:\n",
      "KeyError: 'latitude'\n",
      "Traceback (most recent call last):\n"
     ]
    },
    {
     "name": "stdout",
     "output_type": "stream",
     "text": [
      "\n",
      "caught error in body, continuing: 'latitude'"
     ]
    },
    {
     "name": "stderr",
     "output_type": "stream",
     "text": [
      "  File \"<ipython-input-2-872ebd74c558>\", line 26, in search_instagram_tag\n",
      "    if insta_post['location']['latitude'] != None and insta_post['location']['longitude'] != None:\n",
      "KeyError: 'latitude'\n",
      "Traceback (most recent call last):\n"
     ]
    },
    {
     "name": "stdout",
     "output_type": "stream",
     "text": [
      "\n",
      "caught error in body, continuing: 'latitude'\n",
      "caught error in body, continuing: 'latitude'\n",
      "caught error in body, continuing: 'latitude'"
     ]
    },
    {
     "name": "stderr",
     "output_type": "stream",
     "text": [
      "  File \"<ipython-input-2-872ebd74c558>\", line 26, in search_instagram_tag\n",
      "    if insta_post['location']['latitude'] != None and insta_post['location']['longitude'] != None:\n",
      "KeyError: 'latitude'\n",
      "Traceback (most recent call last):\n",
      "  File \"<ipython-input-2-872ebd74c558>\", line 26, in search_instagram_tag\n",
      "    if insta_post['location']['latitude'] != None and insta_post['location']['longitude'] != None:\n",
      "KeyError: 'latitude'\n",
      "Traceback (most recent call last):\n",
      "  File \"<ipython-input-2-872ebd74c558>\", line 26, in search_instagram_tag\n",
      "    if insta_post['location']['latitude'] != None and insta_post['location']['longitude'] != None:\n",
      "KeyError: 'latitude'\n",
      "Traceback (most recent call last):\n"
     ]
    },
    {
     "name": "stdout",
     "output_type": "stream",
     "text": [
      "\n",
      "caught error in body, continuing: 'latitude'"
     ]
    },
    {
     "name": "stderr",
     "output_type": "stream",
     "text": [
      "  File \"<ipython-input-2-872ebd74c558>\", line 26, in search_instagram_tag\n",
      "    if insta_post['location']['latitude'] != None and insta_post['location']['longitude'] != None:\n",
      "KeyError: 'latitude'\n",
      "Traceback (most recent call last):\n"
     ]
    },
    {
     "name": "stdout",
     "output_type": "stream",
     "text": [
      "\n",
      "caught error in body, continuing: 'latitude'"
     ]
    },
    {
     "name": "stderr",
     "output_type": "stream",
     "text": [
      "  File \"<ipython-input-2-872ebd74c558>\", line 26, in search_instagram_tag\n",
      "    if insta_post['location']['latitude'] != None and insta_post['location']['longitude'] != None:\n",
      "KeyError: 'latitude'\n",
      "Traceback (most recent call last):\n"
     ]
    },
    {
     "name": "stdout",
     "output_type": "stream",
     "text": [
      "\n",
      "caught error in body, continuing: 'latitude'"
     ]
    },
    {
     "name": "stderr",
     "output_type": "stream",
     "text": [
      "  File \"<ipython-input-2-872ebd74c558>\", line 26, in search_instagram_tag\n",
      "    if insta_post['location']['latitude'] != None and insta_post['location']['longitude'] != None:\n",
      "KeyError: 'latitude'\n",
      "Traceback (most recent call last):\n"
     ]
    },
    {
     "name": "stdout",
     "output_type": "stream",
     "text": [
      "\n",
      "caught error in body, continuing: 'latitude'"
     ]
    },
    {
     "name": "stderr",
     "output_type": "stream",
     "text": [
      "  File \"<ipython-input-2-872ebd74c558>\", line 26, in search_instagram_tag\n",
      "    if insta_post['location']['latitude'] != None and insta_post['location']['longitude'] != None:\n",
      "KeyError: 'latitude'\n",
      "Traceback (most recent call last):\n"
     ]
    },
    {
     "name": "stdout",
     "output_type": "stream",
     "text": [
      "\n",
      "caught error in body, continuing: 'latitude'"
     ]
    },
    {
     "name": "stderr",
     "output_type": "stream",
     "text": [
      "  File \"<ipython-input-2-872ebd74c558>\", line 26, in search_instagram_tag\n",
      "    if insta_post['location']['latitude'] != None and insta_post['location']['longitude'] != None:\n",
      "KeyError: 'latitude'\n",
      "Traceback (most recent call last):\n"
     ]
    },
    {
     "name": "stdout",
     "output_type": "stream",
     "text": [
      "\n",
      "caught error in body, continuing: 'latitude'"
     ]
    },
    {
     "name": "stderr",
     "output_type": "stream",
     "text": [
      "  File \"<ipython-input-2-872ebd74c558>\", line 26, in search_instagram_tag\n",
      "    if insta_post['location']['latitude'] != None and insta_post['location']['longitude'] != None:\n",
      "KeyError: 'latitude'\n",
      "Traceback (most recent call last):\n"
     ]
    },
    {
     "name": "stdout",
     "output_type": "stream",
     "text": [
      "\n",
      "caught error in body, continuing: 'latitude'"
     ]
    },
    {
     "name": "stderr",
     "output_type": "stream",
     "text": [
      "  File \"<ipython-input-2-872ebd74c558>\", line 26, in search_instagram_tag\n",
      "    if insta_post['location']['latitude'] != None and insta_post['location']['longitude'] != None:\n",
      "KeyError: 'latitude'\n",
      "Traceback (most recent call last):\n"
     ]
    },
    {
     "name": "stdout",
     "output_type": "stream",
     "text": [
      "\n",
      "caught error in body, continuing: 'latitude'"
     ]
    },
    {
     "name": "stderr",
     "output_type": "stream",
     "text": [
      "  File \"<ipython-input-2-872ebd74c558>\", line 26, in search_instagram_tag\n",
      "    if insta_post['location']['latitude'] != None and insta_post['location']['longitude'] != None:\n",
      "KeyError: 'latitude'\n",
      "Traceback (most recent call last):\n"
     ]
    },
    {
     "name": "stdout",
     "output_type": "stream",
     "text": [
      "\n",
      "caught error in body, continuing: 'latitude'\n",
      "caught error in body, continuing: 'latitude'"
     ]
    },
    {
     "name": "stderr",
     "output_type": "stream",
     "text": [
      "  File \"<ipython-input-2-872ebd74c558>\", line 26, in search_instagram_tag\n",
      "    if insta_post['location']['latitude'] != None and insta_post['location']['longitude'] != None:\n",
      "KeyError: 'latitude'\n",
      "Traceback (most recent call last):\n",
      "  File \"<ipython-input-2-872ebd74c558>\", line 26, in search_instagram_tag\n",
      "    if insta_post['location']['latitude'] != None and insta_post['location']['longitude'] != None:\n",
      "KeyError: 'latitude'\n",
      "Traceback (most recent call last):\n"
     ]
    },
    {
     "name": "stdout",
     "output_type": "stream",
     "text": [
      "\n",
      "caught error in body, continuing: 'latitude'"
     ]
    },
    {
     "name": "stderr",
     "output_type": "stream",
     "text": [
      "  File \"<ipython-input-2-872ebd74c558>\", line 26, in search_instagram_tag\n",
      "    if insta_post['location']['latitude'] != None and insta_post['location']['longitude'] != None:\n",
      "KeyError: 'latitude'\n",
      "Traceback (most recent call last):\n"
     ]
    },
    {
     "name": "stdout",
     "output_type": "stream",
     "text": [
      "\n",
      "caught error in body, continuing: 'latitude'"
     ]
    },
    {
     "name": "stderr",
     "output_type": "stream",
     "text": [
      "  File \"<ipython-input-2-872ebd74c558>\", line 26, in search_instagram_tag\n",
      "    if insta_post['location']['latitude'] != None and insta_post['location']['longitude'] != None:\n",
      "KeyError: 'latitude'\n",
      "Traceback (most recent call last):\n"
     ]
    },
    {
     "name": "stdout",
     "output_type": "stream",
     "text": [
      "\n",
      "caught error in body, continuing: 'latitude'"
     ]
    },
    {
     "name": "stderr",
     "output_type": "stream",
     "text": [
      "  File \"<ipython-input-2-872ebd74c558>\", line 26, in search_instagram_tag\n",
      "    if insta_post['location']['latitude'] != None and insta_post['location']['longitude'] != None:\n",
      "KeyError: 'latitude'\n",
      "Traceback (most recent call last):\n"
     ]
    },
    {
     "name": "stdout",
     "output_type": "stream",
     "text": [
      "\n",
      "caught error in body, continuing: 'latitude'"
     ]
    },
    {
     "name": "stderr",
     "output_type": "stream",
     "text": [
      "  File \"<ipython-input-2-872ebd74c558>\", line 26, in search_instagram_tag\n",
      "    if insta_post['location']['latitude'] != None and insta_post['location']['longitude'] != None:\n",
      "KeyError: 'latitude'\n",
      "Traceback (most recent call last):\n"
     ]
    },
    {
     "name": "stdout",
     "output_type": "stream",
     "text": [
      "\n",
      "caught error in body, continuing: 'latitude'"
     ]
    },
    {
     "name": "stderr",
     "output_type": "stream",
     "text": [
      "  File \"<ipython-input-2-872ebd74c558>\", line 26, in search_instagram_tag\n",
      "    if insta_post['location']['latitude'] != None and insta_post['location']['longitude'] != None:\n",
      "KeyError: 'latitude'\n",
      "Traceback (most recent call last):\n"
     ]
    },
    {
     "name": "stdout",
     "output_type": "stream",
     "text": [
      "\n",
      "caught error in body, continuing: 'latitude'"
     ]
    },
    {
     "name": "stderr",
     "output_type": "stream",
     "text": [
      "  File \"<ipython-input-2-872ebd74c558>\", line 26, in search_instagram_tag\n",
      "    if insta_post['location']['latitude'] != None and insta_post['location']['longitude'] != None:\n",
      "KeyError: 'latitude'\n",
      "Traceback (most recent call last):\n"
     ]
    },
    {
     "name": "stdout",
     "output_type": "stream",
     "text": [
      "\n",
      "caught error in body, continuing: 'latitude'"
     ]
    },
    {
     "name": "stderr",
     "output_type": "stream",
     "text": [
      "  File \"<ipython-input-2-872ebd74c558>\", line 26, in search_instagram_tag\n",
      "    if insta_post['location']['latitude'] != None and insta_post['location']['longitude'] != None:\n",
      "KeyError: 'latitude'\n",
      "Traceback (most recent call last):\n"
     ]
    },
    {
     "name": "stdout",
     "output_type": "stream",
     "text": [
      "\n",
      "caught error in body, continuing: 'latitude'"
     ]
    },
    {
     "name": "stderr",
     "output_type": "stream",
     "text": [
      "  File \"<ipython-input-2-872ebd74c558>\", line 26, in search_instagram_tag\n",
      "    if insta_post['location']['latitude'] != None and insta_post['location']['longitude'] != None:\n",
      "KeyError: 'latitude'\n",
      "Traceback (most recent call last):\n"
     ]
    },
    {
     "name": "stdout",
     "output_type": "stream",
     "text": [
      "\n",
      "caught error in body, continuing: 'latitude'"
     ]
    },
    {
     "name": "stderr",
     "output_type": "stream",
     "text": [
      "  File \"<ipython-input-2-872ebd74c558>\", line 26, in search_instagram_tag\n",
      "    if insta_post['location']['latitude'] != None and insta_post['location']['longitude'] != None:\n",
      "KeyError: 'latitude'\n",
      "Traceback (most recent call last):\n"
     ]
    },
    {
     "name": "stdout",
     "output_type": "stream",
     "text": [
      "\n",
      "caught error in body, continuing: 'latitude'"
     ]
    },
    {
     "name": "stderr",
     "output_type": "stream",
     "text": [
      "  File \"<ipython-input-2-872ebd74c558>\", line 26, in search_instagram_tag\n",
      "    if insta_post['location']['latitude'] != None and insta_post['location']['longitude'] != None:\n",
      "KeyError: 'latitude'\n",
      "Traceback (most recent call last):\n"
     ]
    },
    {
     "name": "stdout",
     "output_type": "stream",
     "text": [
      "\n",
      "caught error in body, continuing: 'latitude'\n",
      "caught error in body, continuing: 'latitude'"
     ]
    },
    {
     "name": "stderr",
     "output_type": "stream",
     "text": [
      "  File \"<ipython-input-2-872ebd74c558>\", line 26, in search_instagram_tag\n",
      "    if insta_post['location']['latitude'] != None and insta_post['location']['longitude'] != None:\n",
      "KeyError: 'latitude'\n",
      "Traceback (most recent call last):\n",
      "  File \"<ipython-input-2-872ebd74c558>\", line 26, in search_instagram_tag\n",
      "    if insta_post['location']['latitude'] != None and insta_post['location']['longitude'] != None:\n",
      "KeyError: 'latitude'\n",
      "Traceback (most recent call last):\n"
     ]
    },
    {
     "name": "stdout",
     "output_type": "stream",
     "text": [
      "\n",
      "caught error in body, continuing: 'latitude'"
     ]
    },
    {
     "name": "stderr",
     "output_type": "stream",
     "text": [
      "  File \"<ipython-input-2-872ebd74c558>\", line 26, in search_instagram_tag\n",
      "    if insta_post['location']['latitude'] != None and insta_post['location']['longitude'] != None:\n",
      "KeyError: 'latitude'\n",
      "Traceback (most recent call last):\n"
     ]
    },
    {
     "name": "stdout",
     "output_type": "stream",
     "text": [
      "\n",
      "caught error in body, continuing: 'latitude'"
     ]
    },
    {
     "name": "stderr",
     "output_type": "stream",
     "text": [
      "  File \"<ipython-input-2-872ebd74c558>\", line 26, in search_instagram_tag\n",
      "    if insta_post['location']['latitude'] != None and insta_post['location']['longitude'] != None:\n",
      "KeyError: 'latitude'\n",
      "Traceback (most recent call last):\n"
     ]
    },
    {
     "name": "stdout",
     "output_type": "stream",
     "text": [
      "\n",
      "caught error in body, continuing: 'latitude'"
     ]
    },
    {
     "name": "stderr",
     "output_type": "stream",
     "text": [
      "  File \"<ipython-input-2-872ebd74c558>\", line 26, in search_instagram_tag\n",
      "    if insta_post['location']['latitude'] != None and insta_post['location']['longitude'] != None:\n",
      "KeyError: 'latitude'\n",
      "Traceback (most recent call last):\n"
     ]
    },
    {
     "name": "stdout",
     "output_type": "stream",
     "text": [
      "\n",
      "caught error in body, continuing: 'latitude'\n",
      "caught error in body, continuing: 'latitude'"
     ]
    },
    {
     "name": "stderr",
     "output_type": "stream",
     "text": [
      "  File \"<ipython-input-2-872ebd74c558>\", line 26, in search_instagram_tag\n",
      "    if insta_post['location']['latitude'] != None and insta_post['location']['longitude'] != None:\n",
      "KeyError: 'latitude'\n",
      "Traceback (most recent call last):\n",
      "  File \"<ipython-input-2-872ebd74c558>\", line 26, in search_instagram_tag\n",
      "    if insta_post['location']['latitude'] != None and insta_post['location']['longitude'] != None:\n",
      "KeyError: 'latitude'\n",
      "Traceback (most recent call last):\n"
     ]
    },
    {
     "name": "stdout",
     "output_type": "stream",
     "text": [
      "\n",
      "caught error in body, continuing: 'latitude'"
     ]
    },
    {
     "name": "stderr",
     "output_type": "stream",
     "text": [
      "  File \"<ipython-input-2-872ebd74c558>\", line 26, in search_instagram_tag\n",
      "    if insta_post['location']['latitude'] != None and insta_post['location']['longitude'] != None:\n",
      "KeyError: 'latitude'\n",
      "Traceback (most recent call last):\n"
     ]
    },
    {
     "name": "stdout",
     "output_type": "stream",
     "text": [
      "\n",
      "caught error in body, continuing: 'latitude'"
     ]
    },
    {
     "name": "stderr",
     "output_type": "stream",
     "text": [
      "  File \"<ipython-input-2-872ebd74c558>\", line 26, in search_instagram_tag\n",
      "    if insta_post['location']['latitude'] != None and insta_post['location']['longitude'] != None:\n",
      "KeyError: 'latitude'\n",
      "Traceback (most recent call last):\n"
     ]
    },
    {
     "name": "stdout",
     "output_type": "stream",
     "text": [
      "\n",
      "caught error in body, continuing: 'latitude'"
     ]
    },
    {
     "name": "stderr",
     "output_type": "stream",
     "text": [
      "  File \"<ipython-input-2-872ebd74c558>\", line 26, in search_instagram_tag\n",
      "    if insta_post['location']['latitude'] != None and insta_post['location']['longitude'] != None:\n",
      "KeyError: 'latitude'\n",
      "Traceback (most recent call last):\n"
     ]
    },
    {
     "name": "stdout",
     "output_type": "stream",
     "text": [
      "\n",
      "caught error in body, continuing: 'latitude'"
     ]
    },
    {
     "name": "stderr",
     "output_type": "stream",
     "text": [
      "  File \"<ipython-input-2-872ebd74c558>\", line 26, in search_instagram_tag\n",
      "    if insta_post['location']['latitude'] != None and insta_post['location']['longitude'] != None:\n",
      "KeyError: 'latitude'\n",
      "Traceback (most recent call last):\n"
     ]
    },
    {
     "name": "stdout",
     "output_type": "stream",
     "text": [
      "\n",
      "caught error in body, continuing: 'latitude'"
     ]
    },
    {
     "name": "stderr",
     "output_type": "stream",
     "text": [
      "  File \"<ipython-input-2-872ebd74c558>\", line 26, in search_instagram_tag\n",
      "    if insta_post['location']['latitude'] != None and insta_post['location']['longitude'] != None:\n",
      "KeyError: 'latitude'\n",
      "Traceback (most recent call last):\n"
     ]
    },
    {
     "name": "stdout",
     "output_type": "stream",
     "text": [
      "\n",
      "caught error in body, continuing: 'latitude'"
     ]
    },
    {
     "name": "stderr",
     "output_type": "stream",
     "text": [
      "  File \"<ipython-input-2-872ebd74c558>\", line 26, in search_instagram_tag\n",
      "    if insta_post['location']['latitude'] != None and insta_post['location']['longitude'] != None:\n",
      "KeyError: 'latitude'\n",
      "Traceback (most recent call last):\n"
     ]
    },
    {
     "name": "stdout",
     "output_type": "stream",
     "text": [
      "\n",
      "caught error in body, continuing: 'latitude'"
     ]
    },
    {
     "name": "stderr",
     "output_type": "stream",
     "text": [
      "  File \"<ipython-input-2-872ebd74c558>\", line 26, in search_instagram_tag\n",
      "    if insta_post['location']['latitude'] != None and insta_post['location']['longitude'] != None:\n",
      "KeyError: 'latitude'\n",
      "Traceback (most recent call last):\n"
     ]
    },
    {
     "name": "stdout",
     "output_type": "stream",
     "text": [
      "\n",
      "caught error in body, continuing: 'latitude'"
     ]
    },
    {
     "name": "stderr",
     "output_type": "stream",
     "text": [
      "  File \"<ipython-input-2-872ebd74c558>\", line 26, in search_instagram_tag\n",
      "    if insta_post['location']['latitude'] != None and insta_post['location']['longitude'] != None:\n",
      "KeyError: 'latitude'\n",
      "Traceback (most recent call last):\n"
     ]
    },
    {
     "name": "stdout",
     "output_type": "stream",
     "text": [
      "\n",
      "caught error in body, continuing: 'latitude'"
     ]
    },
    {
     "name": "stderr",
     "output_type": "stream",
     "text": [
      "  File \"<ipython-input-2-872ebd74c558>\", line 26, in search_instagram_tag\n",
      "    if insta_post['location']['latitude'] != None and insta_post['location']['longitude'] != None:\n",
      "KeyError: 'latitude'\n",
      "Traceback (most recent call last):\n"
     ]
    },
    {
     "name": "stdout",
     "output_type": "stream",
     "text": [
      "\n",
      "caught error in body, continuing: 'latitude'"
     ]
    },
    {
     "name": "stderr",
     "output_type": "stream",
     "text": [
      "  File \"<ipython-input-2-872ebd74c558>\", line 26, in search_instagram_tag\n",
      "    if insta_post['location']['latitude'] != None and insta_post['location']['longitude'] != None:\n",
      "KeyError: 'latitude'\n",
      "Traceback (most recent call last):\n"
     ]
    },
    {
     "name": "stdout",
     "output_type": "stream",
     "text": [
      "\n",
      "caught error in body, continuing: 'latitude'"
     ]
    },
    {
     "name": "stderr",
     "output_type": "stream",
     "text": [
      "  File \"<ipython-input-2-872ebd74c558>\", line 26, in search_instagram_tag\n",
      "    if insta_post['location']['latitude'] != None and insta_post['location']['longitude'] != None:\n",
      "KeyError: 'latitude'\n",
      "Traceback (most recent call last):\n"
     ]
    },
    {
     "name": "stdout",
     "output_type": "stream",
     "text": [
      "\n",
      "caught error in body, continuing: 'latitude'"
     ]
    },
    {
     "name": "stderr",
     "output_type": "stream",
     "text": [
      "  File \"<ipython-input-2-872ebd74c558>\", line 26, in search_instagram_tag\n",
      "    if insta_post['location']['latitude'] != None and insta_post['location']['longitude'] != None:\n",
      "KeyError: 'latitude'\n",
      "Traceback (most recent call last):\n"
     ]
    },
    {
     "name": "stdout",
     "output_type": "stream",
     "text": [
      "\n",
      "caught error in body, continuing: 'latitude'"
     ]
    },
    {
     "name": "stderr",
     "output_type": "stream",
     "text": [
      "  File \"<ipython-input-2-872ebd74c558>\", line 26, in search_instagram_tag\n",
      "    if insta_post['location']['latitude'] != None and insta_post['location']['longitude'] != None:\n",
      "KeyError: 'latitude'\n",
      "Traceback (most recent call last):\n"
     ]
    },
    {
     "name": "stdout",
     "output_type": "stream",
     "text": [
      "\n",
      "caught error in body, continuing: 'latitude'"
     ]
    },
    {
     "name": "stderr",
     "output_type": "stream",
     "text": [
      "  File \"<ipython-input-2-872ebd74c558>\", line 26, in search_instagram_tag\n",
      "    if insta_post['location']['latitude'] != None and insta_post['location']['longitude'] != None:\n",
      "KeyError: 'latitude'\n",
      "Traceback (most recent call last):\n"
     ]
    },
    {
     "name": "stdout",
     "output_type": "stream",
     "text": [
      "\n",
      "caught error in body, continuing: 'latitude'\n",
      "caught error in body, continuing: 'latitude'"
     ]
    },
    {
     "name": "stderr",
     "output_type": "stream",
     "text": [
      "  File \"<ipython-input-2-872ebd74c558>\", line 26, in search_instagram_tag\n",
      "    if insta_post['location']['latitude'] != None and insta_post['location']['longitude'] != None:\n",
      "KeyError: 'latitude'\n",
      "Traceback (most recent call last):\n",
      "  File \"<ipython-input-2-872ebd74c558>\", line 26, in search_instagram_tag\n",
      "    if insta_post['location']['latitude'] != None and insta_post['location']['longitude'] != None:\n",
      "KeyError: 'latitude'\n",
      "Traceback (most recent call last):\n"
     ]
    },
    {
     "name": "stdout",
     "output_type": "stream",
     "text": [
      "\n",
      "caught error in body, continuing: 'latitude'"
     ]
    },
    {
     "name": "stderr",
     "output_type": "stream",
     "text": [
      "  File \"<ipython-input-2-872ebd74c558>\", line 26, in search_instagram_tag\n",
      "    if insta_post['location']['latitude'] != None and insta_post['location']['longitude'] != None:\n",
      "KeyError: 'latitude'\n",
      "Traceback (most recent call last):\n"
     ]
    },
    {
     "name": "stdout",
     "output_type": "stream",
     "text": [
      "\n",
      "caught error in body, continuing: 'latitude'\n",
      "caught error in body, continuing: 'latitude'"
     ]
    },
    {
     "name": "stderr",
     "output_type": "stream",
     "text": [
      "  File \"<ipython-input-2-872ebd74c558>\", line 26, in search_instagram_tag\n",
      "    if insta_post['location']['latitude'] != None and insta_post['location']['longitude'] != None:\n",
      "KeyError: 'latitude'\n",
      "Traceback (most recent call last):\n",
      "  File \"<ipython-input-2-872ebd74c558>\", line 26, in search_instagram_tag\n",
      "    if insta_post['location']['latitude'] != None and insta_post['location']['longitude'] != None:\n",
      "KeyError: 'latitude'\n",
      "Traceback (most recent call last):\n"
     ]
    },
    {
     "name": "stdout",
     "output_type": "stream",
     "text": [
      "\n",
      "caught error in body, continuing: 'NoneType' object has no attribute '__getitem__'"
     ]
    },
    {
     "name": "stderr",
     "output_type": "stream",
     "text": [
      "  File \"<ipython-input-2-872ebd74c558>\", line 26, in search_instagram_tag\n",
      "    if insta_post['location']['latitude'] != None and insta_post['location']['longitude'] != None:\n",
      "KeyError: 'latitude'\n",
      "Traceback (most recent call last):\n"
     ]
    },
    {
     "name": "stdout",
     "output_type": "stream",
     "text": [
      "\n",
      "caught error in body, continuing: 'latitude'"
     ]
    },
    {
     "name": "stderr",
     "output_type": "stream",
     "text": [
      "  File \"<ipython-input-2-872ebd74c558>\", line 28, in search_instagram_tag\n",
      "    int(insta_post['caption']['created_time'])\n",
      "TypeError: 'NoneType' object has no attribute '__getitem__'\n",
      "Traceback (most recent call last):\n"
     ]
    },
    {
     "name": "stdout",
     "output_type": "stream",
     "text": [
      "\n",
      "caught error in body, continuing: 'latitude'"
     ]
    },
    {
     "name": "stderr",
     "output_type": "stream",
     "text": [
      "  File \"<ipython-input-2-872ebd74c558>\", line 26, in search_instagram_tag\n",
      "    if insta_post['location']['latitude'] != None and insta_post['location']['longitude'] != None:\n",
      "KeyError: 'latitude'\n",
      "Traceback (most recent call last):\n"
     ]
    },
    {
     "name": "stdout",
     "output_type": "stream",
     "text": [
      "\n",
      "caught error in body, continuing: 'latitude'"
     ]
    },
    {
     "name": "stderr",
     "output_type": "stream",
     "text": [
      "  File \"<ipython-input-2-872ebd74c558>\", line 26, in search_instagram_tag\n",
      "    if insta_post['location']['latitude'] != None and insta_post['location']['longitude'] != None:\n",
      "KeyError: 'latitude'\n",
      "Traceback (most recent call last):\n"
     ]
    },
    {
     "name": "stdout",
     "output_type": "stream",
     "text": [
      "\n",
      "caught error in body, continuing: 'latitude'"
     ]
    },
    {
     "name": "stderr",
     "output_type": "stream",
     "text": [
      "  File \"<ipython-input-2-872ebd74c558>\", line 26, in search_instagram_tag\n",
      "    if insta_post['location']['latitude'] != None and insta_post['location']['longitude'] != None:\n",
      "KeyError: 'latitude'\n",
      "Traceback (most recent call last):\n"
     ]
    },
    {
     "name": "stdout",
     "output_type": "stream",
     "text": [
      "\n",
      "caught error in body, continuing: 'latitude'"
     ]
    },
    {
     "name": "stderr",
     "output_type": "stream",
     "text": [
      "  File \"<ipython-input-2-872ebd74c558>\", line 26, in search_instagram_tag\n",
      "    if insta_post['location']['latitude'] != None and insta_post['location']['longitude'] != None:\n",
      "KeyError: 'latitude'\n",
      "Traceback (most recent call last):\n"
     ]
    },
    {
     "name": "stdout",
     "output_type": "stream",
     "text": [
      "\n",
      "caught error in body, continuing: 'latitude'"
     ]
    },
    {
     "name": "stderr",
     "output_type": "stream",
     "text": [
      "  File \"<ipython-input-2-872ebd74c558>\", line 26, in search_instagram_tag\n",
      "    if insta_post['location']['latitude'] != None and insta_post['location']['longitude'] != None:\n",
      "KeyError: 'latitude'\n",
      "Traceback (most recent call last):\n"
     ]
    },
    {
     "name": "stdout",
     "output_type": "stream",
     "text": [
      "\n",
      "caught error in body, continuing: 'latitude'"
     ]
    },
    {
     "name": "stderr",
     "output_type": "stream",
     "text": [
      "  File \"<ipython-input-2-872ebd74c558>\", line 26, in search_instagram_tag\n",
      "    if insta_post['location']['latitude'] != None and insta_post['location']['longitude'] != None:\n",
      "KeyError: 'latitude'\n",
      "Traceback (most recent call last):\n"
     ]
    },
    {
     "name": "stdout",
     "output_type": "stream",
     "text": [
      "\n",
      "caught error in body, continuing: 'latitude'"
     ]
    },
    {
     "name": "stderr",
     "output_type": "stream",
     "text": [
      "  File \"<ipython-input-2-872ebd74c558>\", line 26, in search_instagram_tag\n",
      "    if insta_post['location']['latitude'] != None and insta_post['location']['longitude'] != None:\n",
      "KeyError: 'latitude'\n",
      "Traceback (most recent call last):\n"
     ]
    },
    {
     "name": "stdout",
     "output_type": "stream",
     "text": [
      "\n",
      "caught error in body, continuing: 'latitude'"
     ]
    },
    {
     "name": "stderr",
     "output_type": "stream",
     "text": [
      "  File \"<ipython-input-2-872ebd74c558>\", line 26, in search_instagram_tag\n",
      "    if insta_post['location']['latitude'] != None and insta_post['location']['longitude'] != None:\n",
      "KeyError: 'latitude'\n",
      "Traceback (most recent call last):\n"
     ]
    },
    {
     "name": "stdout",
     "output_type": "stream",
     "text": [
      "\n",
      "caught error in body, continuing: 'latitude'"
     ]
    },
    {
     "name": "stderr",
     "output_type": "stream",
     "text": [
      "  File \"<ipython-input-2-872ebd74c558>\", line 26, in search_instagram_tag\n",
      "    if insta_post['location']['latitude'] != None and insta_post['location']['longitude'] != None:\n",
      "KeyError: 'latitude'\n",
      "Traceback (most recent call last):\n"
     ]
    },
    {
     "name": "stdout",
     "output_type": "stream",
     "text": [
      "\n",
      "caught error in body, continuing: 'latitude'"
     ]
    },
    {
     "name": "stderr",
     "output_type": "stream",
     "text": [
      "  File \"<ipython-input-2-872ebd74c558>\", line 26, in search_instagram_tag\n",
      "    if insta_post['location']['latitude'] != None and insta_post['location']['longitude'] != None:\n",
      "KeyError: 'latitude'\n",
      "Traceback (most recent call last):\n"
     ]
    },
    {
     "name": "stdout",
     "output_type": "stream",
     "text": [
      "\n",
      "caught error in body, continuing: 'latitude'"
     ]
    },
    {
     "name": "stderr",
     "output_type": "stream",
     "text": [
      "  File \"<ipython-input-2-872ebd74c558>\", line 26, in search_instagram_tag\n",
      "    if insta_post['location']['latitude'] != None and insta_post['location']['longitude'] != None:\n",
      "KeyError: 'latitude'\n",
      "Traceback (most recent call last):\n"
     ]
    },
    {
     "name": "stdout",
     "output_type": "stream",
     "text": [
      "\n",
      "caught error in body, continuing: 'latitude'"
     ]
    },
    {
     "name": "stderr",
     "output_type": "stream",
     "text": [
      "  File \"<ipython-input-2-872ebd74c558>\", line 26, in search_instagram_tag\n",
      "    if insta_post['location']['latitude'] != None and insta_post['location']['longitude'] != None:\n",
      "KeyError: 'latitude'\n",
      "Traceback (most recent call last):\n"
     ]
    },
    {
     "name": "stdout",
     "output_type": "stream",
     "text": [
      "\n",
      "caught error in body, continuing: 'latitude'"
     ]
    },
    {
     "name": "stderr",
     "output_type": "stream",
     "text": [
      "  File \"<ipython-input-2-872ebd74c558>\", line 26, in search_instagram_tag\n",
      "    if insta_post['location']['latitude'] != None and insta_post['location']['longitude'] != None:\n",
      "KeyError: 'latitude'\n",
      "Traceback (most recent call last):\n"
     ]
    },
    {
     "name": "stdout",
     "output_type": "stream",
     "text": [
      "\n",
      "caught error in body, continuing: 'latitude'"
     ]
    },
    {
     "name": "stderr",
     "output_type": "stream",
     "text": [
      "  File \"<ipython-input-2-872ebd74c558>\", line 26, in search_instagram_tag\n",
      "    if insta_post['location']['latitude'] != None and insta_post['location']['longitude'] != None:\n",
      "KeyError: 'latitude'\n",
      "Traceback (most recent call last):\n"
     ]
    },
    {
     "name": "stdout",
     "output_type": "stream",
     "text": [
      "\n",
      "caught error in body, continuing: 'latitude'"
     ]
    },
    {
     "name": "stderr",
     "output_type": "stream",
     "text": [
      "  File \"<ipython-input-2-872ebd74c558>\", line 26, in search_instagram_tag\n",
      "    if insta_post['location']['latitude'] != None and insta_post['location']['longitude'] != None:\n",
      "KeyError: 'latitude'\n",
      "Traceback (most recent call last):\n"
     ]
    },
    {
     "name": "stdout",
     "output_type": "stream",
     "text": [
      "\n",
      "caught error in body, continuing: 'latitude'\n",
      "caught error in body, continuing: 'latitude'"
     ]
    },
    {
     "name": "stderr",
     "output_type": "stream",
     "text": [
      "  File \"<ipython-input-2-872ebd74c558>\", line 26, in search_instagram_tag\n",
      "    if insta_post['location']['latitude'] != None and insta_post['location']['longitude'] != None:\n",
      "KeyError: 'latitude'\n",
      "Traceback (most recent call last):\n",
      "  File \"<ipython-input-2-872ebd74c558>\", line 26, in search_instagram_tag\n",
      "    if insta_post['location']['latitude'] != None and insta_post['location']['longitude'] != None:\n",
      "KeyError: 'latitude'\n",
      "Traceback (most recent call last):\n"
     ]
    },
    {
     "name": "stdout",
     "output_type": "stream",
     "text": [
      "\n",
      "caught error in body, continuing: 'latitude'"
     ]
    },
    {
     "name": "stderr",
     "output_type": "stream",
     "text": [
      "  File \"<ipython-input-2-872ebd74c558>\", line 26, in search_instagram_tag\n",
      "    if insta_post['location']['latitude'] != None and insta_post['location']['longitude'] != None:\n",
      "KeyError: 'latitude'\n",
      "Traceback (most recent call last):\n"
     ]
    },
    {
     "name": "stdout",
     "output_type": "stream",
     "text": [
      "\n",
      "caught error in body, continuing: 'latitude'"
     ]
    },
    {
     "name": "stderr",
     "output_type": "stream",
     "text": [
      "  File \"<ipython-input-2-872ebd74c558>\", line 26, in search_instagram_tag\n",
      "    if insta_post['location']['latitude'] != None and insta_post['location']['longitude'] != None:\n",
      "KeyError: 'latitude'\n",
      "Traceback (most recent call last):\n"
     ]
    },
    {
     "name": "stdout",
     "output_type": "stream",
     "text": [
      "\n",
      "caught error in body, continuing: 'latitude'"
     ]
    },
    {
     "name": "stderr",
     "output_type": "stream",
     "text": [
      "  File \"<ipython-input-2-872ebd74c558>\", line 26, in search_instagram_tag\n",
      "    if insta_post['location']['latitude'] != None and insta_post['location']['longitude'] != None:\n",
      "KeyError: 'latitude'\n",
      "Traceback (most recent call last):\n"
     ]
    },
    {
     "name": "stdout",
     "output_type": "stream",
     "text": [
      "\n",
      "caught error in body, continuing: 'latitude'"
     ]
    },
    {
     "name": "stderr",
     "output_type": "stream",
     "text": [
      "  File \"<ipython-input-2-872ebd74c558>\", line 26, in search_instagram_tag\n",
      "    if insta_post['location']['latitude'] != None and insta_post['location']['longitude'] != None:\n",
      "KeyError: 'latitude'\n",
      "Traceback (most recent call last):\n"
     ]
    },
    {
     "name": "stdout",
     "output_type": "stream",
     "text": [
      "\n",
      "caught error in body, continuing: 'latitude'"
     ]
    },
    {
     "name": "stderr",
     "output_type": "stream",
     "text": [
      "  File \"<ipython-input-2-872ebd74c558>\", line 26, in search_instagram_tag\n",
      "    if insta_post['location']['latitude'] != None and insta_post['location']['longitude'] != None:\n",
      "KeyError: 'latitude'\n",
      "Traceback (most recent call last):\n"
     ]
    },
    {
     "name": "stdout",
     "output_type": "stream",
     "text": [
      "\n",
      "caught error in body, continuing: 'latitude'"
     ]
    },
    {
     "name": "stderr",
     "output_type": "stream",
     "text": [
      "  File \"<ipython-input-2-872ebd74c558>\", line 26, in search_instagram_tag\n",
      "    if insta_post['location']['latitude'] != None and insta_post['location']['longitude'] != None:\n",
      "KeyError: 'latitude'\n",
      "Traceback (most recent call last):\n"
     ]
    },
    {
     "name": "stdout",
     "output_type": "stream",
     "text": [
      "\n",
      "caught error in body, continuing: 'latitude'"
     ]
    },
    {
     "name": "stderr",
     "output_type": "stream",
     "text": [
      "  File \"<ipython-input-2-872ebd74c558>\", line 26, in search_instagram_tag\n",
      "    if insta_post['location']['latitude'] != None and insta_post['location']['longitude'] != None:\n",
      "KeyError: 'latitude'\n",
      "Traceback (most recent call last):\n"
     ]
    },
    {
     "name": "stdout",
     "output_type": "stream",
     "text": [
      "\n",
      "caught error in body, continuing: 'latitude'"
     ]
    },
    {
     "name": "stderr",
     "output_type": "stream",
     "text": [
      "  File \"<ipython-input-2-872ebd74c558>\", line 26, in search_instagram_tag\n",
      "    if insta_post['location']['latitude'] != None and insta_post['location']['longitude'] != None:\n",
      "KeyError: 'latitude'\n",
      "Traceback (most recent call last):\n"
     ]
    },
    {
     "name": "stdout",
     "output_type": "stream",
     "text": [
      "\n",
      "caught error in body, continuing: 'latitude'"
     ]
    },
    {
     "name": "stderr",
     "output_type": "stream",
     "text": [
      "  File \"<ipython-input-2-872ebd74c558>\", line 26, in search_instagram_tag\n",
      "    if insta_post['location']['latitude'] != None and insta_post['location']['longitude'] != None:\n",
      "KeyError: 'latitude'\n",
      "Traceback (most recent call last):\n"
     ]
    },
    {
     "name": "stdout",
     "output_type": "stream",
     "text": [
      "\n",
      "caught error in body, continuing: 'latitude'"
     ]
    },
    {
     "name": "stderr",
     "output_type": "stream",
     "text": [
      "  File \"<ipython-input-2-872ebd74c558>\", line 26, in search_instagram_tag\n",
      "    if insta_post['location']['latitude'] != None and insta_post['location']['longitude'] != None:\n",
      "KeyError: 'latitude'\n",
      "Traceback (most recent call last):\n"
     ]
    },
    {
     "name": "stdout",
     "output_type": "stream",
     "text": [
      "\n",
      "caught error in body, continuing: 'latitude'"
     ]
    },
    {
     "name": "stderr",
     "output_type": "stream",
     "text": [
      "  File \"<ipython-input-2-872ebd74c558>\", line 26, in search_instagram_tag\n",
      "    if insta_post['location']['latitude'] != None and insta_post['location']['longitude'] != None:\n",
      "KeyError: 'latitude'\n",
      "Traceback (most recent call last):\n"
     ]
    },
    {
     "name": "stdout",
     "output_type": "stream",
     "text": [
      "\n",
      "caught error in body, continuing: 'latitude'"
     ]
    },
    {
     "name": "stderr",
     "output_type": "stream",
     "text": [
      "  File \"<ipython-input-2-872ebd74c558>\", line 26, in search_instagram_tag\n",
      "    if insta_post['location']['latitude'] != None and insta_post['location']['longitude'] != None:\n",
      "KeyError: 'latitude'\n",
      "Traceback (most recent call last):\n"
     ]
    },
    {
     "name": "stdout",
     "output_type": "stream",
     "text": [
      "\n",
      "caught error in body, continuing: 'latitude'"
     ]
    },
    {
     "name": "stderr",
     "output_type": "stream",
     "text": [
      "  File \"<ipython-input-2-872ebd74c558>\", line 26, in search_instagram_tag\n",
      "    if insta_post['location']['latitude'] != None and insta_post['location']['longitude'] != None:\n",
      "KeyError: 'latitude'\n",
      "Traceback (most recent call last):\n"
     ]
    },
    {
     "name": "stdout",
     "output_type": "stream",
     "text": [
      "\n",
      "caught error in body, continuing: 'latitude'"
     ]
    },
    {
     "name": "stderr",
     "output_type": "stream",
     "text": [
      "  File \"<ipython-input-2-872ebd74c558>\", line 26, in search_instagram_tag\n",
      "    if insta_post['location']['latitude'] != None and insta_post['location']['longitude'] != None:\n",
      "KeyError: 'latitude'\n",
      "Traceback (most recent call last):\n"
     ]
    },
    {
     "name": "stdout",
     "output_type": "stream",
     "text": [
      "\n",
      "caught error in body, continuing: 'latitude'"
     ]
    },
    {
     "name": "stderr",
     "output_type": "stream",
     "text": [
      "  File \"<ipython-input-2-872ebd74c558>\", line 26, in search_instagram_tag\n",
      "    if insta_post['location']['latitude'] != None and insta_post['location']['longitude'] != None:\n",
      "KeyError: 'latitude'\n",
      "Traceback (most recent call last):\n"
     ]
    },
    {
     "name": "stdout",
     "output_type": "stream",
     "text": [
      "\n",
      "caught error in body, continuing: 'latitude'"
     ]
    },
    {
     "name": "stderr",
     "output_type": "stream",
     "text": [
      "  File \"<ipython-input-2-872ebd74c558>\", line 26, in search_instagram_tag\n",
      "    if insta_post['location']['latitude'] != None and insta_post['location']['longitude'] != None:\n",
      "KeyError: 'latitude'\n",
      "Traceback (most recent call last):\n"
     ]
    },
    {
     "name": "stdout",
     "output_type": "stream",
     "text": [
      "\n",
      "caught error in body, continuing: 'latitude'"
     ]
    },
    {
     "name": "stderr",
     "output_type": "stream",
     "text": [
      "  File \"<ipython-input-2-872ebd74c558>\", line 26, in search_instagram_tag\n",
      "    if insta_post['location']['latitude'] != None and insta_post['location']['longitude'] != None:\n",
      "KeyError: 'latitude'\n",
      "Traceback (most recent call last):\n"
     ]
    },
    {
     "name": "stdout",
     "output_type": "stream",
     "text": [
      "\n",
      "caught error in body, continuing: 'latitude'"
     ]
    },
    {
     "name": "stderr",
     "output_type": "stream",
     "text": [
      "  File \"<ipython-input-2-872ebd74c558>\", line 26, in search_instagram_tag\n",
      "    if insta_post['location']['latitude'] != None and insta_post['location']['longitude'] != None:\n",
      "KeyError: 'latitude'\n",
      "Traceback (most recent call last):\n"
     ]
    },
    {
     "name": "stdout",
     "output_type": "stream",
     "text": [
      "\n",
      "caught error in body, continuing: 'NoneType' object has no attribute '__getitem__'"
     ]
    },
    {
     "name": "stderr",
     "output_type": "stream",
     "text": [
      "  File \"<ipython-input-2-872ebd74c558>\", line 26, in search_instagram_tag\n",
      "    if insta_post['location']['latitude'] != None and insta_post['location']['longitude'] != None:\n",
      "KeyError: 'latitude'\n",
      "Traceback (most recent call last):\n"
     ]
    },
    {
     "name": "stdout",
     "output_type": "stream",
     "text": [
      "\n",
      "caught error in body, continuing: 'latitude'"
     ]
    },
    {
     "name": "stderr",
     "output_type": "stream",
     "text": [
      "  File \"<ipython-input-2-872ebd74c558>\", line 28, in search_instagram_tag\n",
      "    int(insta_post['caption']['created_time'])\n",
      "TypeError: 'NoneType' object has no attribute '__getitem__'\n",
      "Traceback (most recent call last):\n"
     ]
    },
    {
     "name": "stdout",
     "output_type": "stream",
     "text": [
      "\n",
      "caught error in body, continuing: 'latitude'"
     ]
    },
    {
     "name": "stderr",
     "output_type": "stream",
     "text": [
      "  File \"<ipython-input-2-872ebd74c558>\", line 26, in search_instagram_tag\n",
      "    if insta_post['location']['latitude'] != None and insta_post['location']['longitude'] != None:\n",
      "KeyError: 'latitude'\n",
      "Traceback (most recent call last):\n"
     ]
    },
    {
     "name": "stdout",
     "output_type": "stream",
     "text": [
      "\n",
      "caught error in body, continuing: 'latitude'"
     ]
    },
    {
     "name": "stderr",
     "output_type": "stream",
     "text": [
      "  File \"<ipython-input-2-872ebd74c558>\", line 26, in search_instagram_tag\n",
      "    if insta_post['location']['latitude'] != None and insta_post['location']['longitude'] != None:\n",
      "KeyError: 'latitude'\n",
      "Traceback (most recent call last):\n"
     ]
    },
    {
     "name": "stdout",
     "output_type": "stream",
     "text": [
      "\n",
      "caught error in body, continuing: 'latitude'"
     ]
    },
    {
     "name": "stderr",
     "output_type": "stream",
     "text": [
      "  File \"<ipython-input-2-872ebd74c558>\", line 26, in search_instagram_tag\n",
      "    if insta_post['location']['latitude'] != None and insta_post['location']['longitude'] != None:\n",
      "KeyError: 'latitude'\n",
      "Traceback (most recent call last):\n"
     ]
    },
    {
     "name": "stdout",
     "output_type": "stream",
     "text": [
      "\n",
      "caught error in body, continuing: 'latitude'"
     ]
    },
    {
     "name": "stderr",
     "output_type": "stream",
     "text": [
      "  File \"<ipython-input-2-872ebd74c558>\", line 26, in search_instagram_tag\n",
      "    if insta_post['location']['latitude'] != None and insta_post['location']['longitude'] != None:\n",
      "KeyError: 'latitude'\n",
      "Traceback (most recent call last):\n"
     ]
    },
    {
     "name": "stdout",
     "output_type": "stream",
     "text": [
      "\n",
      "caught error in body, continuing: 'latitude'"
     ]
    },
    {
     "name": "stderr",
     "output_type": "stream",
     "text": [
      "  File \"<ipython-input-2-872ebd74c558>\", line 26, in search_instagram_tag\n",
      "    if insta_post['location']['latitude'] != None and insta_post['location']['longitude'] != None:\n",
      "KeyError: 'latitude'\n",
      "Traceback (most recent call last):\n"
     ]
    },
    {
     "name": "stdout",
     "output_type": "stream",
     "text": [
      "\n",
      "caught error in body, continuing: 'latitude'"
     ]
    },
    {
     "name": "stderr",
     "output_type": "stream",
     "text": [
      "  File \"<ipython-input-2-872ebd74c558>\", line 26, in search_instagram_tag\n",
      "    if insta_post['location']['latitude'] != None and insta_post['location']['longitude'] != None:\n",
      "KeyError: 'latitude'\n",
      "Traceback (most recent call last):\n"
     ]
    },
    {
     "name": "stdout",
     "output_type": "stream",
     "text": [
      "\n",
      "caught error in body, continuing: 'latitude'"
     ]
    },
    {
     "name": "stderr",
     "output_type": "stream",
     "text": [
      "  File \"<ipython-input-2-872ebd74c558>\", line 26, in search_instagram_tag\n",
      "    if insta_post['location']['latitude'] != None and insta_post['location']['longitude'] != None:\n",
      "KeyError: 'latitude'\n",
      "Traceback (most recent call last):\n"
     ]
    },
    {
     "name": "stdout",
     "output_type": "stream",
     "text": [
      "\n",
      "caught error in body, continuing: 'latitude'"
     ]
    },
    {
     "name": "stderr",
     "output_type": "stream",
     "text": [
      "  File \"<ipython-input-2-872ebd74c558>\", line 26, in search_instagram_tag\n",
      "    if insta_post['location']['latitude'] != None and insta_post['location']['longitude'] != None:\n",
      "KeyError: 'latitude'\n",
      "Traceback (most recent call last):\n"
     ]
    },
    {
     "name": "stdout",
     "output_type": "stream",
     "text": [
      "\n",
      "caught error in body, continuing: 'latitude'"
     ]
    },
    {
     "name": "stderr",
     "output_type": "stream",
     "text": [
      "  File \"<ipython-input-2-872ebd74c558>\", line 26, in search_instagram_tag\n",
      "    if insta_post['location']['latitude'] != None and insta_post['location']['longitude'] != None:\n",
      "KeyError: 'latitude'\n",
      "Traceback (most recent call last):\n"
     ]
    },
    {
     "name": "stdout",
     "output_type": "stream",
     "text": [
      "\n",
      "caught error in body, continuing: 'latitude'"
     ]
    },
    {
     "name": "stderr",
     "output_type": "stream",
     "text": [
      "  File \"<ipython-input-2-872ebd74c558>\", line 26, in search_instagram_tag\n",
      "    if insta_post['location']['latitude'] != None and insta_post['location']['longitude'] != None:\n",
      "KeyError: 'latitude'\n",
      "Traceback (most recent call last):\n"
     ]
    },
    {
     "name": "stdout",
     "output_type": "stream",
     "text": [
      "\n",
      "caught error in body, continuing: 'latitude'"
     ]
    },
    {
     "name": "stderr",
     "output_type": "stream",
     "text": [
      "  File \"<ipython-input-2-872ebd74c558>\", line 26, in search_instagram_tag\n",
      "    if insta_post['location']['latitude'] != None and insta_post['location']['longitude'] != None:\n",
      "KeyError: 'latitude'\n",
      "Traceback (most recent call last):\n"
     ]
    },
    {
     "name": "stdout",
     "output_type": "stream",
     "text": [
      "\n",
      "caught error in body, continuing: 'latitude'"
     ]
    },
    {
     "name": "stderr",
     "output_type": "stream",
     "text": [
      "  File \"<ipython-input-2-872ebd74c558>\", line 26, in search_instagram_tag\n",
      "    if insta_post['location']['latitude'] != None and insta_post['location']['longitude'] != None:\n",
      "KeyError: 'latitude'\n",
      "Traceback (most recent call last):\n"
     ]
    },
    {
     "name": "stdout",
     "output_type": "stream",
     "text": [
      "\n",
      "caught error in body, continuing: 'latitude'"
     ]
    },
    {
     "name": "stderr",
     "output_type": "stream",
     "text": [
      "  File \"<ipython-input-2-872ebd74c558>\", line 26, in search_instagram_tag\n",
      "    if insta_post['location']['latitude'] != None and insta_post['location']['longitude'] != None:\n",
      "KeyError: 'latitude'\n",
      "Traceback (most recent call last):\n"
     ]
    },
    {
     "name": "stdout",
     "output_type": "stream",
     "text": [
      "\n",
      "caught error in body, continuing: 'latitude'"
     ]
    },
    {
     "name": "stderr",
     "output_type": "stream",
     "text": [
      "  File \"<ipython-input-2-872ebd74c558>\", line 26, in search_instagram_tag\n",
      "    if insta_post['location']['latitude'] != None and insta_post['location']['longitude'] != None:\n",
      "KeyError: 'latitude'\n",
      "Traceback (most recent call last):\n"
     ]
    },
    {
     "name": "stdout",
     "output_type": "stream",
     "text": [
      "\n",
      "caught error in body, continuing: 'latitude'"
     ]
    },
    {
     "name": "stderr",
     "output_type": "stream",
     "text": [
      "  File \"<ipython-input-2-872ebd74c558>\", line 26, in search_instagram_tag\n",
      "    if insta_post['location']['latitude'] != None and insta_post['location']['longitude'] != None:\n",
      "KeyError: 'latitude'\n",
      "Traceback (most recent call last):\n"
     ]
    },
    {
     "name": "stdout",
     "output_type": "stream",
     "text": [
      "\n",
      "caught error in body, continuing: 'latitude'"
     ]
    },
    {
     "name": "stderr",
     "output_type": "stream",
     "text": [
      "  File \"<ipython-input-2-872ebd74c558>\", line 26, in search_instagram_tag\n",
      "    if insta_post['location']['latitude'] != None and insta_post['location']['longitude'] != None:\n",
      "KeyError: 'latitude'\n",
      "Traceback (most recent call last):\n"
     ]
    },
    {
     "name": "stdout",
     "output_type": "stream",
     "text": [
      "\n",
      "caught error in body, continuing: 'latitude'"
     ]
    },
    {
     "name": "stderr",
     "output_type": "stream",
     "text": [
      "  File \"<ipython-input-2-872ebd74c558>\", line 26, in search_instagram_tag\n",
      "    if insta_post['location']['latitude'] != None and insta_post['location']['longitude'] != None:\n",
      "KeyError: 'latitude'\n",
      "Traceback (most recent call last):\n"
     ]
    },
    {
     "name": "stdout",
     "output_type": "stream",
     "text": [
      "\n",
      "caught error in body, continuing: 'latitude'"
     ]
    },
    {
     "name": "stderr",
     "output_type": "stream",
     "text": [
      "  File \"<ipython-input-2-872ebd74c558>\", line 26, in search_instagram_tag\n",
      "    if insta_post['location']['latitude'] != None and insta_post['location']['longitude'] != None:\n",
      "KeyError: 'latitude'\n",
      "Traceback (most recent call last):\n"
     ]
    },
    {
     "name": "stdout",
     "output_type": "stream",
     "text": [
      "\n",
      "caught error in body, continuing: 'latitude'"
     ]
    },
    {
     "name": "stderr",
     "output_type": "stream",
     "text": [
      "  File \"<ipython-input-2-872ebd74c558>\", line 26, in search_instagram_tag\n",
      "    if insta_post['location']['latitude'] != None and insta_post['location']['longitude'] != None:\n",
      "KeyError: 'latitude'\n",
      "Traceback (most recent call last):\n"
     ]
    },
    {
     "name": "stdout",
     "output_type": "stream",
     "text": [
      "\n",
      "caught error in body, continuing: 'latitude'"
     ]
    },
    {
     "name": "stderr",
     "output_type": "stream",
     "text": [
      "  File \"<ipython-input-2-872ebd74c558>\", line 26, in search_instagram_tag\n",
      "    if insta_post['location']['latitude'] != None and insta_post['location']['longitude'] != None:\n",
      "KeyError: 'latitude'\n",
      "Traceback (most recent call last):\n"
     ]
    },
    {
     "name": "stdout",
     "output_type": "stream",
     "text": [
      "\n",
      "caught error in body, continuing: 'latitude'"
     ]
    },
    {
     "name": "stderr",
     "output_type": "stream",
     "text": [
      "  File \"<ipython-input-2-872ebd74c558>\", line 26, in search_instagram_tag\n",
      "    if insta_post['location']['latitude'] != None and insta_post['location']['longitude'] != None:\n",
      "KeyError: 'latitude'\n",
      "Traceback (most recent call last):\n"
     ]
    },
    {
     "name": "stdout",
     "output_type": "stream",
     "text": [
      "\n",
      "caught error in body, continuing: 'latitude'"
     ]
    },
    {
     "name": "stderr",
     "output_type": "stream",
     "text": [
      "  File \"<ipython-input-2-872ebd74c558>\", line 26, in search_instagram_tag\n",
      "    if insta_post['location']['latitude'] != None and insta_post['location']['longitude'] != None:\n",
      "KeyError: 'latitude'\n",
      "Traceback (most recent call last):\n"
     ]
    },
    {
     "name": "stdout",
     "output_type": "stream",
     "text": [
      "\n",
      "caught error in body, continuing: 'latitude'"
     ]
    },
    {
     "name": "stderr",
     "output_type": "stream",
     "text": [
      "  File \"<ipython-input-2-872ebd74c558>\", line 26, in search_instagram_tag\n",
      "    if insta_post['location']['latitude'] != None and insta_post['location']['longitude'] != None:\n",
      "KeyError: 'latitude'\n",
      "Traceback (most recent call last):\n"
     ]
    },
    {
     "name": "stdout",
     "output_type": "stream",
     "text": [
      "\n",
      "caught error in body, continuing: 'latitude'"
     ]
    },
    {
     "name": "stderr",
     "output_type": "stream",
     "text": [
      "  File \"<ipython-input-2-872ebd74c558>\", line 26, in search_instagram_tag\n",
      "    if insta_post['location']['latitude'] != None and insta_post['location']['longitude'] != None:\n",
      "KeyError: 'latitude'\n",
      "Traceback (most recent call last):\n"
     ]
    },
    {
     "name": "stdout",
     "output_type": "stream",
     "text": [
      "\n",
      "caught error in body, continuing: 'latitude'"
     ]
    },
    {
     "name": "stderr",
     "output_type": "stream",
     "text": [
      "  File \"<ipython-input-2-872ebd74c558>\", line 26, in search_instagram_tag\n",
      "    if insta_post['location']['latitude'] != None and insta_post['location']['longitude'] != None:\n",
      "KeyError: 'latitude'\n",
      "Traceback (most recent call last):\n"
     ]
    },
    {
     "name": "stdout",
     "output_type": "stream",
     "text": [
      "\n",
      "caught error in body, continuing: 'latitude'"
     ]
    },
    {
     "name": "stderr",
     "output_type": "stream",
     "text": [
      "  File \"<ipython-input-2-872ebd74c558>\", line 26, in search_instagram_tag\n",
      "    if insta_post['location']['latitude'] != None and insta_post['location']['longitude'] != None:\n",
      "KeyError: 'latitude'\n",
      "Traceback (most recent call last):\n"
     ]
    },
    {
     "name": "stdout",
     "output_type": "stream",
     "text": [
      "\n",
      "caught error in body, continuing: 'latitude'"
     ]
    },
    {
     "name": "stderr",
     "output_type": "stream",
     "text": [
      "  File \"<ipython-input-2-872ebd74c558>\", line 26, in search_instagram_tag\n",
      "    if insta_post['location']['latitude'] != None and insta_post['location']['longitude'] != None:\n",
      "KeyError: 'latitude'\n",
      "Traceback (most recent call last):\n"
     ]
    },
    {
     "name": "stdout",
     "output_type": "stream",
     "text": [
      "\n",
      "caught error in body, continuing: 'latitude'"
     ]
    },
    {
     "name": "stderr",
     "output_type": "stream",
     "text": [
      "  File \"<ipython-input-2-872ebd74c558>\", line 26, in search_instagram_tag\n",
      "    if insta_post['location']['latitude'] != None and insta_post['location']['longitude'] != None:\n",
      "KeyError: 'latitude'\n",
      "Traceback (most recent call last):\n"
     ]
    },
    {
     "name": "stdout",
     "output_type": "stream",
     "text": [
      "\n",
      "caught error in body, continuing: 'latitude'"
     ]
    },
    {
     "name": "stderr",
     "output_type": "stream",
     "text": [
      "  File \"<ipython-input-2-872ebd74c558>\", line 26, in search_instagram_tag\n",
      "    if insta_post['location']['latitude'] != None and insta_post['location']['longitude'] != None:\n",
      "KeyError: 'latitude'\n",
      "Traceback (most recent call last):\n"
     ]
    },
    {
     "name": "stdout",
     "output_type": "stream",
     "text": [
      "\n",
      "caught error in body, continuing: 'latitude'"
     ]
    },
    {
     "name": "stderr",
     "output_type": "stream",
     "text": [
      "  File \"<ipython-input-2-872ebd74c558>\", line 26, in search_instagram_tag\n",
      "    if insta_post['location']['latitude'] != None and insta_post['location']['longitude'] != None:\n",
      "KeyError: 'latitude'\n",
      "Traceback (most recent call last):\n"
     ]
    },
    {
     "name": "stdout",
     "output_type": "stream",
     "text": [
      "\n",
      "caught error in body, continuing: 'latitude'"
     ]
    },
    {
     "name": "stderr",
     "output_type": "stream",
     "text": [
      "  File \"<ipython-input-2-872ebd74c558>\", line 26, in search_instagram_tag\n",
      "    if insta_post['location']['latitude'] != None and insta_post['location']['longitude'] != None:\n",
      "KeyError: 'latitude'\n",
      "Traceback (most recent call last):\n"
     ]
    },
    {
     "name": "stdout",
     "output_type": "stream",
     "text": [
      "\n",
      "caught error in body, continuing: 'latitude'"
     ]
    },
    {
     "name": "stderr",
     "output_type": "stream",
     "text": [
      "  File \"<ipython-input-2-872ebd74c558>\", line 26, in search_instagram_tag\n",
      "    if insta_post['location']['latitude'] != None and insta_post['location']['longitude'] != None:\n",
      "KeyError: 'latitude'\n",
      "Traceback (most recent call last):\n"
     ]
    },
    {
     "name": "stdout",
     "output_type": "stream",
     "text": [
      "\n",
      "caught error in body, continuing: 'NoneType' object has no attribute '__getitem__'"
     ]
    },
    {
     "name": "stderr",
     "output_type": "stream",
     "text": [
      "  File \"<ipython-input-2-872ebd74c558>\", line 26, in search_instagram_tag\n",
      "    if insta_post['location']['latitude'] != None and insta_post['location']['longitude'] != None:\n",
      "KeyError: 'latitude'\n",
      "Traceback (most recent call last):\n"
     ]
    },
    {
     "name": "stdout",
     "output_type": "stream",
     "text": [
      "\n",
      "caught error in body, continuing: 'latitude'"
     ]
    },
    {
     "name": "stderr",
     "output_type": "stream",
     "text": [
      "  File \"<ipython-input-2-872ebd74c558>\", line 28, in search_instagram_tag\n",
      "    int(insta_post['caption']['created_time'])\n",
      "TypeError: 'NoneType' object has no attribute '__getitem__'\n",
      "Traceback (most recent call last):\n"
     ]
    },
    {
     "name": "stdout",
     "output_type": "stream",
     "text": [
      "\n",
      "caught error in body, continuing: 'latitude'"
     ]
    },
    {
     "name": "stderr",
     "output_type": "stream",
     "text": [
      "  File \"<ipython-input-2-872ebd74c558>\", line 26, in search_instagram_tag\n",
      "    if insta_post['location']['latitude'] != None and insta_post['location']['longitude'] != None:\n",
      "KeyError: 'latitude'\n",
      "Traceback (most recent call last):\n"
     ]
    },
    {
     "name": "stdout",
     "output_type": "stream",
     "text": [
      "\n",
      "caught error in body, continuing: 'latitude'"
     ]
    },
    {
     "name": "stderr",
     "output_type": "stream",
     "text": [
      "  File \"<ipython-input-2-872ebd74c558>\", line 26, in search_instagram_tag\n",
      "    if insta_post['location']['latitude'] != None and insta_post['location']['longitude'] != None:\n",
      "KeyError: 'latitude'\n",
      "Traceback (most recent call last):\n"
     ]
    },
    {
     "name": "stdout",
     "output_type": "stream",
     "text": [
      "\n",
      "caught error in body, continuing: 'latitude'"
     ]
    },
    {
     "name": "stderr",
     "output_type": "stream",
     "text": [
      "  File \"<ipython-input-2-872ebd74c558>\", line 26, in search_instagram_tag\n",
      "    if insta_post['location']['latitude'] != None and insta_post['location']['longitude'] != None:\n",
      "KeyError: 'latitude'\n",
      "Traceback (most recent call last):\n"
     ]
    },
    {
     "name": "stdout",
     "output_type": "stream",
     "text": [
      "\n",
      "caught error in body, continuing: 'latitude'"
     ]
    },
    {
     "name": "stderr",
     "output_type": "stream",
     "text": [
      "  File \"<ipython-input-2-872ebd74c558>\", line 26, in search_instagram_tag\n",
      "    if insta_post['location']['latitude'] != None and insta_post['location']['longitude'] != None:\n",
      "KeyError: 'latitude'\n",
      "Traceback (most recent call last):\n"
     ]
    },
    {
     "name": "stdout",
     "output_type": "stream",
     "text": [
      "\n",
      "caught error in body, continuing: 'latitude'"
     ]
    },
    {
     "name": "stderr",
     "output_type": "stream",
     "text": [
      "  File \"<ipython-input-2-872ebd74c558>\", line 26, in search_instagram_tag\n",
      "    if insta_post['location']['latitude'] != None and insta_post['location']['longitude'] != None:\n",
      "KeyError: 'latitude'\n",
      "Traceback (most recent call last):\n"
     ]
    },
    {
     "name": "stdout",
     "output_type": "stream",
     "text": [
      "\n",
      "caught error in body, continuing: 'latitude'"
     ]
    },
    {
     "name": "stderr",
     "output_type": "stream",
     "text": [
      "  File \"<ipython-input-2-872ebd74c558>\", line 26, in search_instagram_tag\n",
      "    if insta_post['location']['latitude'] != None and insta_post['location']['longitude'] != None:\n",
      "KeyError: 'latitude'\n",
      "Traceback (most recent call last):\n"
     ]
    },
    {
     "name": "stdout",
     "output_type": "stream",
     "text": [
      "\n",
      "caught error in body, continuing: 'latitude'"
     ]
    },
    {
     "name": "stderr",
     "output_type": "stream",
     "text": [
      "  File \"<ipython-input-2-872ebd74c558>\", line 26, in search_instagram_tag\n",
      "    if insta_post['location']['latitude'] != None and insta_post['location']['longitude'] != None:\n",
      "KeyError: 'latitude'\n",
      "Traceback (most recent call last):\n"
     ]
    },
    {
     "name": "stdout",
     "output_type": "stream",
     "text": [
      "\n",
      "caught error in body, continuing: 'latitude'"
     ]
    },
    {
     "name": "stderr",
     "output_type": "stream",
     "text": [
      "  File \"<ipython-input-2-872ebd74c558>\", line 26, in search_instagram_tag\n",
      "    if insta_post['location']['latitude'] != None and insta_post['location']['longitude'] != None:\n",
      "KeyError: 'latitude'\n",
      "Traceback (most recent call last):\n"
     ]
    },
    {
     "name": "stdout",
     "output_type": "stream",
     "text": [
      "\n",
      "caught error in body, continuing: 'latitude'"
     ]
    },
    {
     "name": "stderr",
     "output_type": "stream",
     "text": [
      "  File \"<ipython-input-2-872ebd74c558>\", line 26, in search_instagram_tag\n",
      "    if insta_post['location']['latitude'] != None and insta_post['location']['longitude'] != None:\n",
      "KeyError: 'latitude'\n",
      "Traceback (most recent call last):\n"
     ]
    },
    {
     "name": "stdout",
     "output_type": "stream",
     "text": [
      "\n",
      "caught error in body, continuing: 'latitude'"
     ]
    },
    {
     "name": "stderr",
     "output_type": "stream",
     "text": [
      "  File \"<ipython-input-2-872ebd74c558>\", line 26, in search_instagram_tag\n",
      "    if insta_post['location']['latitude'] != None and insta_post['location']['longitude'] != None:\n",
      "KeyError: 'latitude'\n",
      "Traceback (most recent call last):\n"
     ]
    },
    {
     "name": "stdout",
     "output_type": "stream",
     "text": [
      "\n",
      "caught error in body, continuing: 'latitude'"
     ]
    },
    {
     "name": "stderr",
     "output_type": "stream",
     "text": [
      "  File \"<ipython-input-2-872ebd74c558>\", line 26, in search_instagram_tag\n",
      "    if insta_post['location']['latitude'] != None and insta_post['location']['longitude'] != None:\n",
      "KeyError: 'latitude'\n",
      "Traceback (most recent call last):\n"
     ]
    },
    {
     "name": "stdout",
     "output_type": "stream",
     "text": [
      "\n",
      "caught error in body, continuing: 'latitude'"
     ]
    },
    {
     "name": "stderr",
     "output_type": "stream",
     "text": [
      "  File \"<ipython-input-2-872ebd74c558>\", line 26, in search_instagram_tag\n",
      "    if insta_post['location']['latitude'] != None and insta_post['location']['longitude'] != None:\n",
      "KeyError: 'latitude'\n",
      "Traceback (most recent call last):\n"
     ]
    },
    {
     "name": "stdout",
     "output_type": "stream",
     "text": [
      "\n",
      "caught error in body, continuing: 'latitude'"
     ]
    },
    {
     "name": "stderr",
     "output_type": "stream",
     "text": [
      "  File \"<ipython-input-2-872ebd74c558>\", line 26, in search_instagram_tag\n",
      "    if insta_post['location']['latitude'] != None and insta_post['location']['longitude'] != None:\n",
      "KeyError: 'latitude'\n",
      "Traceback (most recent call last):\n"
     ]
    },
    {
     "name": "stdout",
     "output_type": "stream",
     "text": [
      "\n",
      "caught error in body, continuing: 'latitude'"
     ]
    },
    {
     "name": "stderr",
     "output_type": "stream",
     "text": [
      "  File \"<ipython-input-2-872ebd74c558>\", line 26, in search_instagram_tag\n",
      "    if insta_post['location']['latitude'] != None and insta_post['location']['longitude'] != None:\n",
      "KeyError: 'latitude'\n",
      "Traceback (most recent call last):\n"
     ]
    },
    {
     "name": "stdout",
     "output_type": "stream",
     "text": [
      "\n",
      "caught error in body, continuing: 'latitude'"
     ]
    },
    {
     "name": "stderr",
     "output_type": "stream",
     "text": [
      "  File \"<ipython-input-2-872ebd74c558>\", line 26, in search_instagram_tag\n",
      "    if insta_post['location']['latitude'] != None and insta_post['location']['longitude'] != None:\n",
      "KeyError: 'latitude'\n",
      "Traceback (most recent call last):\n"
     ]
    },
    {
     "name": "stdout",
     "output_type": "stream",
     "text": [
      "\n",
      "caught error in body, continuing: 'latitude'"
     ]
    },
    {
     "name": "stderr",
     "output_type": "stream",
     "text": [
      "  File \"<ipython-input-2-872ebd74c558>\", line 26, in search_instagram_tag\n",
      "    if insta_post['location']['latitude'] != None and insta_post['location']['longitude'] != None:\n",
      "KeyError: 'latitude'\n",
      "Traceback (most recent call last):\n"
     ]
    },
    {
     "name": "stdout",
     "output_type": "stream",
     "text": [
      "\n",
      "caught error in body, continuing: 'latitude'"
     ]
    },
    {
     "name": "stderr",
     "output_type": "stream",
     "text": [
      "  File \"<ipython-input-2-872ebd74c558>\", line 26, in search_instagram_tag\n",
      "    if insta_post['location']['latitude'] != None and insta_post['location']['longitude'] != None:\n",
      "KeyError: 'latitude'\n",
      "Traceback (most recent call last):\n"
     ]
    },
    {
     "name": "stdout",
     "output_type": "stream",
     "text": [
      "\n",
      "caught error in body, continuing: 'latitude'"
     ]
    },
    {
     "name": "stderr",
     "output_type": "stream",
     "text": [
      "  File \"<ipython-input-2-872ebd74c558>\", line 26, in search_instagram_tag\n",
      "    if insta_post['location']['latitude'] != None and insta_post['location']['longitude'] != None:\n",
      "KeyError: 'latitude'\n",
      "Traceback (most recent call last):\n"
     ]
    },
    {
     "name": "stdout",
     "output_type": "stream",
     "text": [
      "\n",
      "caught error in body, continuing: 'latitude'"
     ]
    },
    {
     "name": "stderr",
     "output_type": "stream",
     "text": [
      "  File \"<ipython-input-2-872ebd74c558>\", line 26, in search_instagram_tag\n",
      "    if insta_post['location']['latitude'] != None and insta_post['location']['longitude'] != None:\n",
      "KeyError: 'latitude'\n",
      "Traceback (most recent call last):\n"
     ]
    },
    {
     "name": "stdout",
     "output_type": "stream",
     "text": [
      "\n",
      "caught error in body, continuing: 'latitude'"
     ]
    },
    {
     "name": "stderr",
     "output_type": "stream",
     "text": [
      "  File \"<ipython-input-2-872ebd74c558>\", line 26, in search_instagram_tag\n",
      "    if insta_post['location']['latitude'] != None and insta_post['location']['longitude'] != None:\n",
      "KeyError: 'latitude'\n",
      "Traceback (most recent call last):\n"
     ]
    },
    {
     "name": "stdout",
     "output_type": "stream",
     "text": [
      "\n",
      "caught error in body, continuing: 'latitude'"
     ]
    },
    {
     "name": "stderr",
     "output_type": "stream",
     "text": [
      "  File \"<ipython-input-2-872ebd74c558>\", line 26, in search_instagram_tag\n",
      "    if insta_post['location']['latitude'] != None and insta_post['location']['longitude'] != None:\n",
      "KeyError: 'latitude'\n",
      "Traceback (most recent call last):\n"
     ]
    },
    {
     "name": "stdout",
     "output_type": "stream",
     "text": [
      "\n",
      "caught error in body, continuing: 'latitude'"
     ]
    },
    {
     "name": "stderr",
     "output_type": "stream",
     "text": [
      "  File \"<ipython-input-2-872ebd74c558>\", line 26, in search_instagram_tag\n",
      "    if insta_post['location']['latitude'] != None and insta_post['location']['longitude'] != None:\n",
      "KeyError: 'latitude'\n",
      "Traceback (most recent call last):\n"
     ]
    },
    {
     "name": "stdout",
     "output_type": "stream",
     "text": [
      "\n",
      "caught error in body, continuing: 'latitude'"
     ]
    },
    {
     "name": "stderr",
     "output_type": "stream",
     "text": [
      "  File \"<ipython-input-2-872ebd74c558>\", line 26, in search_instagram_tag\n",
      "    if insta_post['location']['latitude'] != None and insta_post['location']['longitude'] != None:\n",
      "KeyError: 'latitude'\n",
      "Traceback (most recent call last):\n"
     ]
    },
    {
     "name": "stdout",
     "output_type": "stream",
     "text": [
      "\n",
      "caught error in body, continuing: 'latitude'"
     ]
    },
    {
     "name": "stderr",
     "output_type": "stream",
     "text": [
      "  File \"<ipython-input-2-872ebd74c558>\", line 26, in search_instagram_tag\n",
      "    if insta_post['location']['latitude'] != None and insta_post['location']['longitude'] != None:\n",
      "KeyError: 'latitude'\n",
      "Traceback (most recent call last):\n"
     ]
    },
    {
     "name": "stdout",
     "output_type": "stream",
     "text": [
      "\n",
      "caught error in body, continuing: 'latitude'"
     ]
    },
    {
     "name": "stderr",
     "output_type": "stream",
     "text": [
      "  File \"<ipython-input-2-872ebd74c558>\", line 26, in search_instagram_tag\n",
      "    if insta_post['location']['latitude'] != None and insta_post['location']['longitude'] != None:\n",
      "KeyError: 'latitude'\n",
      "Traceback (most recent call last):\n"
     ]
    },
    {
     "name": "stdout",
     "output_type": "stream",
     "text": [
      "\n",
      "caught error in body, continuing: 'latitude'"
     ]
    },
    {
     "name": "stderr",
     "output_type": "stream",
     "text": [
      "  File \"<ipython-input-2-872ebd74c558>\", line 26, in search_instagram_tag\n",
      "    if insta_post['location']['latitude'] != None and insta_post['location']['longitude'] != None:\n",
      "KeyError: 'latitude'\n",
      "Traceback (most recent call last):\n"
     ]
    },
    {
     "name": "stdout",
     "output_type": "stream",
     "text": [
      "\n",
      "caught error in body, continuing: 'latitude'"
     ]
    },
    {
     "name": "stderr",
     "output_type": "stream",
     "text": [
      "  File \"<ipython-input-2-872ebd74c558>\", line 26, in search_instagram_tag\n",
      "    if insta_post['location']['latitude'] != None and insta_post['location']['longitude'] != None:\n",
      "KeyError: 'latitude'\n",
      "Traceback (most recent call last):\n"
     ]
    },
    {
     "name": "stdout",
     "output_type": "stream",
     "text": [
      "\n",
      "caught error in body, continuing: 'latitude'"
     ]
    },
    {
     "name": "stderr",
     "output_type": "stream",
     "text": [
      "  File \"<ipython-input-2-872ebd74c558>\", line 26, in search_instagram_tag\n",
      "    if insta_post['location']['latitude'] != None and insta_post['location']['longitude'] != None:\n",
      "KeyError: 'latitude'\n",
      "Traceback (most recent call last):\n"
     ]
    },
    {
     "name": "stdout",
     "output_type": "stream",
     "text": [
      "\n",
      "caught error in body, continuing: 'latitude'\n",
      "caught error in body, continuing: 'latitude'"
     ]
    },
    {
     "name": "stderr",
     "output_type": "stream",
     "text": [
      "  File \"<ipython-input-2-872ebd74c558>\", line 26, in search_instagram_tag\n",
      "    if insta_post['location']['latitude'] != None and insta_post['location']['longitude'] != None:\n",
      "KeyError: 'latitude'\n",
      "Traceback (most recent call last):\n",
      "  File \"<ipython-input-2-872ebd74c558>\", line 26, in search_instagram_tag\n",
      "    if insta_post['location']['latitude'] != None and insta_post['location']['longitude'] != None:\n",
      "KeyError: 'latitude'\n",
      "Traceback (most recent call last):\n"
     ]
    },
    {
     "name": "stdout",
     "output_type": "stream",
     "text": [
      "\n",
      "caught error in body, continuing: 'latitude'"
     ]
    },
    {
     "name": "stderr",
     "output_type": "stream",
     "text": [
      "  File \"<ipython-input-2-872ebd74c558>\", line 26, in search_instagram_tag\n",
      "    if insta_post['location']['latitude'] != None and insta_post['location']['longitude'] != None:\n",
      "KeyError: 'latitude'\n",
      "Traceback (most recent call last):\n"
     ]
    },
    {
     "name": "stdout",
     "output_type": "stream",
     "text": [
      "\n",
      "caught error in body, continuing: 'latitude'"
     ]
    },
    {
     "name": "stderr",
     "output_type": "stream",
     "text": [
      "  File \"<ipython-input-2-872ebd74c558>\", line 26, in search_instagram_tag\n",
      "    if insta_post['location']['latitude'] != None and insta_post['location']['longitude'] != None:\n",
      "KeyError: 'latitude'\n",
      "Traceback (most recent call last):\n"
     ]
    },
    {
     "name": "stdout",
     "output_type": "stream",
     "text": [
      "\n",
      "caught error in body, continuing: 'latitude'"
     ]
    },
    {
     "name": "stderr",
     "output_type": "stream",
     "text": [
      "  File \"<ipython-input-2-872ebd74c558>\", line 26, in search_instagram_tag\n",
      "    if insta_post['location']['latitude'] != None and insta_post['location']['longitude'] != None:\n",
      "KeyError: 'latitude'\n",
      "Traceback (most recent call last):\n"
     ]
    },
    {
     "name": "stdout",
     "output_type": "stream",
     "text": [
      "\n",
      "caught error in body, continuing: 'latitude'"
     ]
    },
    {
     "name": "stderr",
     "output_type": "stream",
     "text": [
      "  File \"<ipython-input-2-872ebd74c558>\", line 26, in search_instagram_tag\n",
      "    if insta_post['location']['latitude'] != None and insta_post['location']['longitude'] != None:\n",
      "KeyError: 'latitude'\n",
      "Traceback (most recent call last):\n"
     ]
    },
    {
     "name": "stdout",
     "output_type": "stream",
     "text": [
      "\n",
      "caught error in body, continuing: 'latitude'\n",
      "caught error in body, continuing: 'latitude'"
     ]
    },
    {
     "name": "stderr",
     "output_type": "stream",
     "text": [
      "  File \"<ipython-input-2-872ebd74c558>\", line 26, in search_instagram_tag\n",
      "    if insta_post['location']['latitude'] != None and insta_post['location']['longitude'] != None:\n",
      "KeyError: 'latitude'\n",
      "Traceback (most recent call last):\n",
      "  File \"<ipython-input-2-872ebd74c558>\", line 26, in search_instagram_tag\n",
      "    if insta_post['location']['latitude'] != None and insta_post['location']['longitude'] != None:\n",
      "KeyError: 'latitude'\n",
      "Traceback (most recent call last):\n"
     ]
    },
    {
     "name": "stdout",
     "output_type": "stream",
     "text": [
      "\n",
      "caught error in body, continuing: 'latitude'"
     ]
    },
    {
     "name": "stderr",
     "output_type": "stream",
     "text": [
      "  File \"<ipython-input-2-872ebd74c558>\", line 26, in search_instagram_tag\n",
      "    if insta_post['location']['latitude'] != None and insta_post['location']['longitude'] != None:\n",
      "KeyError: 'latitude'\n",
      "Traceback (most recent call last):\n"
     ]
    },
    {
     "name": "stdout",
     "output_type": "stream",
     "text": [
      "\n",
      "caught error in body, continuing: 'latitude'"
     ]
    },
    {
     "name": "stderr",
     "output_type": "stream",
     "text": [
      "  File \"<ipython-input-2-872ebd74c558>\", line 26, in search_instagram_tag\n",
      "    if insta_post['location']['latitude'] != None and insta_post['location']['longitude'] != None:\n",
      "KeyError: 'latitude'\n",
      "Traceback (most recent call last):\n"
     ]
    },
    {
     "name": "stdout",
     "output_type": "stream",
     "text": [
      "\n",
      "caught error in body, continuing: 'latitude'"
     ]
    },
    {
     "name": "stderr",
     "output_type": "stream",
     "text": [
      "  File \"<ipython-input-2-872ebd74c558>\", line 26, in search_instagram_tag\n",
      "    if insta_post['location']['latitude'] != None and insta_post['location']['longitude'] != None:\n",
      "KeyError: 'latitude'\n",
      "Traceback (most recent call last):\n"
     ]
    },
    {
     "name": "stdout",
     "output_type": "stream",
     "text": [
      "\n",
      "caught error in body, continuing: 'latitude'\n",
      "caught error in body, continuing: 'latitude'\n",
      "caught error in body, continuing: 'latitude'\n",
      "caught error in body, continuing: 'latitude'"
     ]
    },
    {
     "name": "stderr",
     "output_type": "stream",
     "text": [
      "  File \"<ipython-input-2-872ebd74c558>\", line 26, in search_instagram_tag\n",
      "    if insta_post['location']['latitude'] != None and insta_post['location']['longitude'] != None:\n",
      "KeyError: 'latitude'\n",
      "Traceback (most recent call last):\n",
      "  File \"<ipython-input-2-872ebd74c558>\", line 26, in search_instagram_tag\n",
      "    if insta_post['location']['latitude'] != None and insta_post['location']['longitude'] != None:\n",
      "KeyError: 'latitude'\n",
      "Traceback (most recent call last):\n",
      "  File \"<ipython-input-2-872ebd74c558>\", line 26, in search_instagram_tag\n",
      "    if insta_post['location']['latitude'] != None and insta_post['location']['longitude'] != None:\n",
      "KeyError: 'latitude'\n",
      "Traceback (most recent call last):\n",
      "  File \"<ipython-input-2-872ebd74c558>\", line 26, in search_instagram_tag\n",
      "    if insta_post['location']['latitude'] != None and insta_post['location']['longitude'] != None:\n",
      "KeyError: 'latitude'\n",
      "Traceback (most recent call last):\n"
     ]
    },
    {
     "name": "stdout",
     "output_type": "stream",
     "text": [
      "\n",
      "caught error in body, continuing: 'latitude'"
     ]
    },
    {
     "name": "stderr",
     "output_type": "stream",
     "text": [
      "  File \"<ipython-input-2-872ebd74c558>\", line 26, in search_instagram_tag\n",
      "    if insta_post['location']['latitude'] != None and insta_post['location']['longitude'] != None:\n",
      "KeyError: 'latitude'\n",
      "Traceback (most recent call last):\n"
     ]
    },
    {
     "name": "stdout",
     "output_type": "stream",
     "text": [
      "\n",
      "caught error in body, continuing: 'latitude'"
     ]
    },
    {
     "name": "stderr",
     "output_type": "stream",
     "text": [
      "  File \"<ipython-input-2-872ebd74c558>\", line 26, in search_instagram_tag\n",
      "    if insta_post['location']['latitude'] != None and insta_post['location']['longitude'] != None:\n",
      "KeyError: 'latitude'\n",
      "Traceback (most recent call last):\n"
     ]
    },
    {
     "name": "stdout",
     "output_type": "stream",
     "text": [
      "\n",
      "caught error in body, continuing: 'latitude'"
     ]
    },
    {
     "name": "stderr",
     "output_type": "stream",
     "text": [
      "  File \"<ipython-input-2-872ebd74c558>\", line 26, in search_instagram_tag\n",
      "    if insta_post['location']['latitude'] != None and insta_post['location']['longitude'] != None:\n",
      "KeyError: 'latitude'\n",
      "Traceback (most recent call last):\n"
     ]
    },
    {
     "name": "stdout",
     "output_type": "stream",
     "text": [
      "\n",
      "caught error in body, continuing: 'latitude'"
     ]
    },
    {
     "name": "stderr",
     "output_type": "stream",
     "text": [
      "  File \"<ipython-input-2-872ebd74c558>\", line 26, in search_instagram_tag\n",
      "    if insta_post['location']['latitude'] != None and insta_post['location']['longitude'] != None:\n",
      "KeyError: 'latitude'\n",
      "Traceback (most recent call last):\n"
     ]
    },
    {
     "name": "stdout",
     "output_type": "stream",
     "text": [
      "\n",
      "caught error in body, continuing: 'latitude'"
     ]
    },
    {
     "name": "stderr",
     "output_type": "stream",
     "text": [
      "  File \"<ipython-input-2-872ebd74c558>\", line 26, in search_instagram_tag\n",
      "    if insta_post['location']['latitude'] != None and insta_post['location']['longitude'] != None:\n",
      "KeyError: 'latitude'\n",
      "Traceback (most recent call last):\n"
     ]
    },
    {
     "name": "stdout",
     "output_type": "stream",
     "text": [
      "\n",
      "caught error in body, continuing: 'latitude'"
     ]
    },
    {
     "name": "stderr",
     "output_type": "stream",
     "text": [
      "  File \"<ipython-input-2-872ebd74c558>\", line 26, in search_instagram_tag\n",
      "    if insta_post['location']['latitude'] != None and insta_post['location']['longitude'] != None:\n",
      "KeyError: 'latitude'\n",
      "Traceback (most recent call last):\n"
     ]
    },
    {
     "name": "stdout",
     "output_type": "stream",
     "text": [
      "\n",
      "caught error in body, continuing: 'latitude'"
     ]
    },
    {
     "name": "stderr",
     "output_type": "stream",
     "text": [
      "  File \"<ipython-input-2-872ebd74c558>\", line 26, in search_instagram_tag\n",
      "    if insta_post['location']['latitude'] != None and insta_post['location']['longitude'] != None:\n",
      "KeyError: 'latitude'\n",
      "Traceback (most recent call last):\n"
     ]
    },
    {
     "name": "stdout",
     "output_type": "stream",
     "text": [
      "\n",
      "caught error in body, continuing: 'latitude'"
     ]
    },
    {
     "name": "stderr",
     "output_type": "stream",
     "text": [
      "  File \"<ipython-input-2-872ebd74c558>\", line 26, in search_instagram_tag\n",
      "    if insta_post['location']['latitude'] != None and insta_post['location']['longitude'] != None:\n",
      "KeyError: 'latitude'\n",
      "Traceback (most recent call last):\n"
     ]
    },
    {
     "name": "stdout",
     "output_type": "stream",
     "text": [
      "\n",
      "caught error in body, continuing: 'latitude'"
     ]
    },
    {
     "name": "stderr",
     "output_type": "stream",
     "text": [
      "  File \"<ipython-input-2-872ebd74c558>\", line 26, in search_instagram_tag\n",
      "    if insta_post['location']['latitude'] != None and insta_post['location']['longitude'] != None:\n",
      "KeyError: 'latitude'\n",
      "Traceback (most recent call last):\n"
     ]
    },
    {
     "name": "stdout",
     "output_type": "stream",
     "text": [
      "\n",
      "caught error in body, continuing: 'latitude'"
     ]
    },
    {
     "name": "stderr",
     "output_type": "stream",
     "text": [
      "  File \"<ipython-input-2-872ebd74c558>\", line 26, in search_instagram_tag\n",
      "    if insta_post['location']['latitude'] != None and insta_post['location']['longitude'] != None:\n",
      "KeyError: 'latitude'\n",
      "Traceback (most recent call last):\n"
     ]
    },
    {
     "name": "stdout",
     "output_type": "stream",
     "text": [
      "\n",
      "caught error in body, continuing: 'latitude'"
     ]
    },
    {
     "name": "stderr",
     "output_type": "stream",
     "text": [
      "  File \"<ipython-input-2-872ebd74c558>\", line 26, in search_instagram_tag\n",
      "    if insta_post['location']['latitude'] != None and insta_post['location']['longitude'] != None:\n",
      "KeyError: 'latitude'\n",
      "Traceback (most recent call last):\n"
     ]
    },
    {
     "name": "stdout",
     "output_type": "stream",
     "text": [
      "\n",
      "caught error in body, continuing: 'latitude'"
     ]
    },
    {
     "name": "stderr",
     "output_type": "stream",
     "text": [
      "  File \"<ipython-input-2-872ebd74c558>\", line 26, in search_instagram_tag\n",
      "    if insta_post['location']['latitude'] != None and insta_post['location']['longitude'] != None:\n",
      "KeyError: 'latitude'\n",
      "Traceback (most recent call last):\n"
     ]
    },
    {
     "name": "stdout",
     "output_type": "stream",
     "text": [
      "\n",
      "caught error in body, continuing: 'latitude'"
     ]
    },
    {
     "name": "stderr",
     "output_type": "stream",
     "text": [
      "  File \"<ipython-input-2-872ebd74c558>\", line 26, in search_instagram_tag\n",
      "    if insta_post['location']['latitude'] != None and insta_post['location']['longitude'] != None:\n",
      "KeyError: 'latitude'\n",
      "Traceback (most recent call last):\n"
     ]
    },
    {
     "name": "stdout",
     "output_type": "stream",
     "text": [
      "\n",
      "caught error in body, continuing: 'latitude'"
     ]
    },
    {
     "name": "stderr",
     "output_type": "stream",
     "text": [
      "  File \"<ipython-input-2-872ebd74c558>\", line 26, in search_instagram_tag\n",
      "    if insta_post['location']['latitude'] != None and insta_post['location']['longitude'] != None:\n",
      "KeyError: 'latitude'\n",
      "Traceback (most recent call last):\n"
     ]
    },
    {
     "name": "stdout",
     "output_type": "stream",
     "text": [
      "\n",
      "caught error in body, continuing: 'latitude'"
     ]
    },
    {
     "name": "stderr",
     "output_type": "stream",
     "text": [
      "  File \"<ipython-input-2-872ebd74c558>\", line 26, in search_instagram_tag\n",
      "    if insta_post['location']['latitude'] != None and insta_post['location']['longitude'] != None:\n",
      "KeyError: 'latitude'\n",
      "Traceback (most recent call last):\n"
     ]
    },
    {
     "name": "stdout",
     "output_type": "stream",
     "text": [
      "\n",
      "caught error in body, continuing: 'latitude'"
     ]
    },
    {
     "name": "stderr",
     "output_type": "stream",
     "text": [
      "  File \"<ipython-input-2-872ebd74c558>\", line 26, in search_instagram_tag\n",
      "    if insta_post['location']['latitude'] != None and insta_post['location']['longitude'] != None:\n",
      "KeyError: 'latitude'\n",
      "Traceback (most recent call last):\n"
     ]
    },
    {
     "name": "stdout",
     "output_type": "stream",
     "text": [
      "\n",
      "caught error in body, continuing: 'latitude'"
     ]
    },
    {
     "name": "stderr",
     "output_type": "stream",
     "text": [
      "  File \"<ipython-input-2-872ebd74c558>\", line 26, in search_instagram_tag\n",
      "    if insta_post['location']['latitude'] != None and insta_post['location']['longitude'] != None:\n",
      "KeyError: 'latitude'\n",
      "Traceback (most recent call last):\n"
     ]
    },
    {
     "name": "stdout",
     "output_type": "stream",
     "text": [
      "\n",
      "caught error in body, continuing: 'latitude'"
     ]
    },
    {
     "name": "stderr",
     "output_type": "stream",
     "text": [
      "  File \"<ipython-input-2-872ebd74c558>\", line 26, in search_instagram_tag\n",
      "    if insta_post['location']['latitude'] != None and insta_post['location']['longitude'] != None:\n",
      "KeyError: 'latitude'\n",
      "Traceback (most recent call last):\n"
     ]
    },
    {
     "name": "stdout",
     "output_type": "stream",
     "text": [
      "\n",
      "caught error in body, continuing: 'latitude'"
     ]
    },
    {
     "name": "stderr",
     "output_type": "stream",
     "text": [
      "  File \"<ipython-input-2-872ebd74c558>\", line 26, in search_instagram_tag\n",
      "    if insta_post['location']['latitude'] != None and insta_post['location']['longitude'] != None:\n",
      "KeyError: 'latitude'\n",
      "Traceback (most recent call last):\n"
     ]
    },
    {
     "name": "stdout",
     "output_type": "stream",
     "text": [
      "\n",
      "caught error in body, continuing: 'latitude'"
     ]
    },
    {
     "name": "stderr",
     "output_type": "stream",
     "text": [
      "  File \"<ipython-input-2-872ebd74c558>\", line 26, in search_instagram_tag\n",
      "    if insta_post['location']['latitude'] != None and insta_post['location']['longitude'] != None:\n",
      "KeyError: 'latitude'\n",
      "Traceback (most recent call last):\n"
     ]
    },
    {
     "name": "stdout",
     "output_type": "stream",
     "text": [
      "\n",
      "caught error in body, continuing: 'latitude'"
     ]
    },
    {
     "name": "stderr",
     "output_type": "stream",
     "text": [
      "  File \"<ipython-input-2-872ebd74c558>\", line 26, in search_instagram_tag\n",
      "    if insta_post['location']['latitude'] != None and insta_post['location']['longitude'] != None:\n",
      "KeyError: 'latitude'\n",
      "Traceback (most recent call last):\n"
     ]
    },
    {
     "name": "stdout",
     "output_type": "stream",
     "text": [
      "\n",
      "caught error in body, continuing: 'latitude'"
     ]
    },
    {
     "name": "stderr",
     "output_type": "stream",
     "text": [
      "  File \"<ipython-input-2-872ebd74c558>\", line 26, in search_instagram_tag\n",
      "    if insta_post['location']['latitude'] != None and insta_post['location']['longitude'] != None:\n",
      "KeyError: 'latitude'\n",
      "Traceback (most recent call last):\n"
     ]
    },
    {
     "name": "stdout",
     "output_type": "stream",
     "text": [
      "\n",
      "caught error in body, continuing: 'NoneType' object has no attribute '__getitem__'"
     ]
    },
    {
     "name": "stderr",
     "output_type": "stream",
     "text": [
      "  File \"<ipython-input-2-872ebd74c558>\", line 26, in search_instagram_tag\n",
      "    if insta_post['location']['latitude'] != None and insta_post['location']['longitude'] != None:\n",
      "KeyError: 'latitude'\n",
      "Traceback (most recent call last):\n"
     ]
    },
    {
     "name": "stdout",
     "output_type": "stream",
     "text": [
      "\n",
      "caught error in body, continuing: 'latitude'"
     ]
    },
    {
     "name": "stderr",
     "output_type": "stream",
     "text": [
      "  File \"<ipython-input-2-872ebd74c558>\", line 28, in search_instagram_tag\n",
      "    int(insta_post['caption']['created_time'])\n",
      "TypeError: 'NoneType' object has no attribute '__getitem__'\n",
      "Traceback (most recent call last):\n"
     ]
    },
    {
     "name": "stdout",
     "output_type": "stream",
     "text": [
      "\n",
      "caught error in body, continuing: 'latitude'"
     ]
    },
    {
     "name": "stderr",
     "output_type": "stream",
     "text": [
      "  File \"<ipython-input-2-872ebd74c558>\", line 26, in search_instagram_tag\n",
      "    if insta_post['location']['latitude'] != None and insta_post['location']['longitude'] != None:\n",
      "KeyError: 'latitude'\n",
      "Traceback (most recent call last):\n"
     ]
    },
    {
     "name": "stdout",
     "output_type": "stream",
     "text": [
      "\n",
      "caught error in body, continuing: 'latitude'"
     ]
    },
    {
     "name": "stderr",
     "output_type": "stream",
     "text": [
      "  File \"<ipython-input-2-872ebd74c558>\", line 26, in search_instagram_tag\n",
      "    if insta_post['location']['latitude'] != None and insta_post['location']['longitude'] != None:\n",
      "KeyError: 'latitude'\n",
      "Traceback (most recent call last):\n"
     ]
    },
    {
     "name": "stdout",
     "output_type": "stream",
     "text": [
      "\n",
      "caught error in body, continuing: 'latitude'"
     ]
    },
    {
     "name": "stderr",
     "output_type": "stream",
     "text": [
      "  File \"<ipython-input-2-872ebd74c558>\", line 26, in search_instagram_tag\n",
      "    if insta_post['location']['latitude'] != None and insta_post['location']['longitude'] != None:\n",
      "KeyError: 'latitude'\n",
      "Traceback (most recent call last):\n"
     ]
    },
    {
     "name": "stdout",
     "output_type": "stream",
     "text": [
      "\n",
      "caught error in body, continuing: 'latitude'"
     ]
    },
    {
     "name": "stderr",
     "output_type": "stream",
     "text": [
      "  File \"<ipython-input-2-872ebd74c558>\", line 26, in search_instagram_tag\n",
      "    if insta_post['location']['latitude'] != None and insta_post['location']['longitude'] != None:\n",
      "KeyError: 'latitude'\n",
      "Traceback (most recent call last):\n"
     ]
    },
    {
     "name": "stdout",
     "output_type": "stream",
     "text": [
      "\n",
      "caught error in body, continuing: 'latitude'"
     ]
    },
    {
     "name": "stderr",
     "output_type": "stream",
     "text": [
      "  File \"<ipython-input-2-872ebd74c558>\", line 26, in search_instagram_tag\n",
      "    if insta_post['location']['latitude'] != None and insta_post['location']['longitude'] != None:\n",
      "KeyError: 'latitude'\n",
      "Traceback (most recent call last):\n"
     ]
    },
    {
     "name": "stdout",
     "output_type": "stream",
     "text": [
      "\n",
      "caught error in body, continuing: 'latitude'"
     ]
    },
    {
     "name": "stderr",
     "output_type": "stream",
     "text": [
      "  File \"<ipython-input-2-872ebd74c558>\", line 26, in search_instagram_tag\n",
      "    if insta_post['location']['latitude'] != None and insta_post['location']['longitude'] != None:\n",
      "KeyError: 'latitude'\n",
      "Traceback (most recent call last):\n"
     ]
    },
    {
     "name": "stdout",
     "output_type": "stream",
     "text": [
      "\n",
      "caught error in body, continuing: 'latitude'"
     ]
    },
    {
     "name": "stderr",
     "output_type": "stream",
     "text": [
      "  File \"<ipython-input-2-872ebd74c558>\", line 26, in search_instagram_tag\n",
      "    if insta_post['location']['latitude'] != None and insta_post['location']['longitude'] != None:\n",
      "KeyError: 'latitude'\n",
      "Traceback (most recent call last):\n"
     ]
    },
    {
     "name": "stdout",
     "output_type": "stream",
     "text": [
      "\n",
      "caught error in body, continuing: 'latitude'"
     ]
    },
    {
     "name": "stderr",
     "output_type": "stream",
     "text": [
      "  File \"<ipython-input-2-872ebd74c558>\", line 26, in search_instagram_tag\n",
      "    if insta_post['location']['latitude'] != None and insta_post['location']['longitude'] != None:\n",
      "KeyError: 'latitude'\n",
      "Traceback (most recent call last):\n"
     ]
    },
    {
     "name": "stdout",
     "output_type": "stream",
     "text": [
      "\n",
      "caught error in body, continuing: 'latitude'"
     ]
    },
    {
     "name": "stderr",
     "output_type": "stream",
     "text": [
      "  File \"<ipython-input-2-872ebd74c558>\", line 26, in search_instagram_tag\n",
      "    if insta_post['location']['latitude'] != None and insta_post['location']['longitude'] != None:\n",
      "KeyError: 'latitude'\n",
      "Traceback (most recent call last):\n"
     ]
    },
    {
     "name": "stdout",
     "output_type": "stream",
     "text": [
      "\n",
      "caught error in body, continuing: 'latitude'"
     ]
    },
    {
     "name": "stderr",
     "output_type": "stream",
     "text": [
      "  File \"<ipython-input-2-872ebd74c558>\", line 26, in search_instagram_tag\n",
      "    if insta_post['location']['latitude'] != None and insta_post['location']['longitude'] != None:\n",
      "KeyError: 'latitude'\n",
      "Traceback (most recent call last):\n"
     ]
    },
    {
     "name": "stdout",
     "output_type": "stream",
     "text": [
      "\n",
      "caught error in body, continuing: 'latitude'"
     ]
    },
    {
     "name": "stderr",
     "output_type": "stream",
     "text": [
      "  File \"<ipython-input-2-872ebd74c558>\", line 26, in search_instagram_tag\n",
      "    if insta_post['location']['latitude'] != None and insta_post['location']['longitude'] != None:\n",
      "KeyError: 'latitude'\n",
      "Traceback (most recent call last):\n"
     ]
    },
    {
     "name": "stdout",
     "output_type": "stream",
     "text": [
      "\n",
      "caught error in body, continuing: 'latitude'"
     ]
    },
    {
     "name": "stderr",
     "output_type": "stream",
     "text": [
      "  File \"<ipython-input-2-872ebd74c558>\", line 26, in search_instagram_tag\n",
      "    if insta_post['location']['latitude'] != None and insta_post['location']['longitude'] != None:\n",
      "KeyError: 'latitude'\n",
      "Traceback (most recent call last):\n"
     ]
    },
    {
     "name": "stdout",
     "output_type": "stream",
     "text": [
      "\n",
      "caught error in body, continuing: 'latitude'"
     ]
    },
    {
     "name": "stderr",
     "output_type": "stream",
     "text": [
      "  File \"<ipython-input-2-872ebd74c558>\", line 26, in search_instagram_tag\n",
      "    if insta_post['location']['latitude'] != None and insta_post['location']['longitude'] != None:\n",
      "KeyError: 'latitude'\n",
      "Traceback (most recent call last):\n"
     ]
    },
    {
     "name": "stdout",
     "output_type": "stream",
     "text": [
      "\n",
      "caught error in body, continuing: 'latitude'"
     ]
    },
    {
     "name": "stderr",
     "output_type": "stream",
     "text": [
      "  File \"<ipython-input-2-872ebd74c558>\", line 26, in search_instagram_tag\n",
      "    if insta_post['location']['latitude'] != None and insta_post['location']['longitude'] != None:\n",
      "KeyError: 'latitude'\n",
      "Traceback (most recent call last):\n"
     ]
    },
    {
     "name": "stdout",
     "output_type": "stream",
     "text": [
      "\n",
      "caught error in body, continuing: 'latitude'"
     ]
    },
    {
     "name": "stderr",
     "output_type": "stream",
     "text": [
      "  File \"<ipython-input-2-872ebd74c558>\", line 26, in search_instagram_tag\n",
      "    if insta_post['location']['latitude'] != None and insta_post['location']['longitude'] != None:\n",
      "KeyError: 'latitude'\n",
      "Traceback (most recent call last):\n"
     ]
    },
    {
     "name": "stdout",
     "output_type": "stream",
     "text": [
      "\n",
      "caught error in body, continuing: 'latitude'"
     ]
    },
    {
     "name": "stderr",
     "output_type": "stream",
     "text": [
      "  File \"<ipython-input-2-872ebd74c558>\", line 26, in search_instagram_tag\n",
      "    if insta_post['location']['latitude'] != None and insta_post['location']['longitude'] != None:\n",
      "KeyError: 'latitude'\n",
      "Traceback (most recent call last):\n"
     ]
    },
    {
     "name": "stdout",
     "output_type": "stream",
     "text": [
      "\n",
      "caught error in body, continuing: 'latitude'"
     ]
    },
    {
     "name": "stderr",
     "output_type": "stream",
     "text": [
      "  File \"<ipython-input-2-872ebd74c558>\", line 26, in search_instagram_tag\n",
      "    if insta_post['location']['latitude'] != None and insta_post['location']['longitude'] != None:\n",
      "KeyError: 'latitude'\n",
      "Traceback (most recent call last):\n"
     ]
    },
    {
     "name": "stdout",
     "output_type": "stream",
     "text": [
      "\n",
      "caught error in body, continuing: 'latitude'"
     ]
    },
    {
     "name": "stderr",
     "output_type": "stream",
     "text": [
      "  File \"<ipython-input-2-872ebd74c558>\", line 26, in search_instagram_tag\n",
      "    if insta_post['location']['latitude'] != None and insta_post['location']['longitude'] != None:\n",
      "KeyError: 'latitude'\n",
      "Traceback (most recent call last):\n"
     ]
    },
    {
     "name": "stdout",
     "output_type": "stream",
     "text": [
      "\n",
      "caught error in body, continuing: 'latitude'"
     ]
    },
    {
     "name": "stderr",
     "output_type": "stream",
     "text": [
      "  File \"<ipython-input-2-872ebd74c558>\", line 26, in search_instagram_tag\n",
      "    if insta_post['location']['latitude'] != None and insta_post['location']['longitude'] != None:\n",
      "KeyError: 'latitude'\n",
      "Traceback (most recent call last):\n"
     ]
    },
    {
     "name": "stdout",
     "output_type": "stream",
     "text": [
      "\n",
      "caught error in body, continuing: 'latitude'"
     ]
    },
    {
     "name": "stderr",
     "output_type": "stream",
     "text": [
      "  File \"<ipython-input-2-872ebd74c558>\", line 26, in search_instagram_tag\n",
      "    if insta_post['location']['latitude'] != None and insta_post['location']['longitude'] != None:\n",
      "KeyError: 'latitude'\n",
      "Traceback (most recent call last):\n"
     ]
    },
    {
     "name": "stdout",
     "output_type": "stream",
     "text": [
      "\n",
      "caught error in body, continuing: 'latitude'\n",
      "caught error in body, continuing: 'latitude'"
     ]
    },
    {
     "name": "stderr",
     "output_type": "stream",
     "text": [
      "  File \"<ipython-input-2-872ebd74c558>\", line 26, in search_instagram_tag\n",
      "    if insta_post['location']['latitude'] != None and insta_post['location']['longitude'] != None:\n",
      "KeyError: 'latitude'\n",
      "Traceback (most recent call last):\n",
      "  File \"<ipython-input-2-872ebd74c558>\", line 26, in search_instagram_tag\n",
      "    if insta_post['location']['latitude'] != None and insta_post['location']['longitude'] != None:\n",
      "KeyError: 'latitude'\n",
      "Traceback (most recent call last):\n"
     ]
    },
    {
     "name": "stdout",
     "output_type": "stream",
     "text": [
      "\n",
      "Done!\n"
     ]
    },
    {
     "name": "stderr",
     "output_type": "stream",
     "text": [
      "  File \"<ipython-input-2-872ebd74c558>\", line 26, in search_instagram_tag\n",
      "    if insta_post['location']['latitude'] != None and insta_post['location']['longitude'] != None:\n",
      "KeyError: 'latitude'\n"
     ]
    }
   ],
   "source": [
    "for tag_name in search_tags:\n",
    "    print 'Searching: %s' % tag_name\n",
    "    search_instagram_tag(tag_name)\n",
    "\n",
    "print 'Done!'"
   ]
  },
  {
   "cell_type": "code",
   "execution_count": 62,
   "metadata": {
    "collapsed": false
   },
   "outputs": [
    {
     "data": {
      "text/plain": [
       "[('1066891619650966464_1347092243', 1441403413L, 1441403413L),\n",
       " ('1066908960269142650_18295385', 1441405480L, 1441405480L),\n",
       " ('1066916827864579923_1949829174', 1441406418L, 1441406418L),\n",
       " ('1067040651828860909_26272628', 1441421179L, 1441421179L),\n",
       " ('1067058721865333345_23389349', 1441423333L, 1441423333L),\n",
       " ('1067083027957256861_1993498939', 1441426231L, 1441426231L),\n",
       " ('1067089422280998964_2347223', 1441426993L, 1441426993L),\n",
       " ('1067092810223334672_1582058852', 1441427397L, 1441427397L),\n",
       " ('1067161757868060506_1946646754', 1441435616L, 1441435616L),\n",
       " ('1067235120011721112_997286965', 1441444362L, 1441444362L),\n",
       " ('1067278808883063802_2072764537', 1441449570L, 1441449570L),\n",
       " ('1067286044610023986_1424018475', 1441450432L, 1441450432L),\n",
       " ('1067298013809838362_230171889', 1441451859L, 1441451859L),\n",
       " ('1067330761995777751_1438176724', 1441455763L, 1441455763L),\n",
       " ('1067338888386144737_1053598545', 1441456732L, 1441456732L),\n",
       " ('1067342329996731624_2086888160', 1441457142L, 1441457142L),\n",
       " ('1067358394500195366_1139693528', 1441459057L, 1441459057L),\n",
       " ('1067363644448974942_52225777', 1441459683L, 1441459683L),\n",
       " ('1067371078650985658_4700286', 1441460569L, 1441460569L),\n",
       " ('1067371559913815238_4700286', 1441460627L, 1441460627L),\n",
       " ('1067382014838764771_1438176724', 1441461873L, 1441461873L),\n",
       " ('1067396533206273974_182943986', 1441463604L, 1441463604L),\n",
       " ('1067396761499924135_1438176724', 1441463631L, 1441463631L),\n",
       " ('1067399277235074824_1438176724', 1441463931L, 1441463931L),\n",
       " ('1067433148964705934_969145292', 1441467969L, 1441467969L),\n",
       " ('1067439148396484483_969145292', 1441468684L, 1441468684L),\n",
       " ('1067453263758097085_1927537173', 1441470366L, 1441470366L),\n",
       " ('1067478067160011700_1979326523', 1441473323L, 1441473323L),\n",
       " ('1067499792824119317_2165296387', 1441475913L, 1441475913L),\n",
       " ('1067582056421397095_310336283', 1441485720L, 1441485720L),\n",
       " ('1067590035522476054_209656045', 1441486671L, 1441486671L),\n",
       " ('1067595815140834135_1379327669', 1441487360L, 1441487360L),\n",
       " ('1067598243791852323_39700723', 1441487649L, 1441487649L),\n",
       " ('1067622154260842191_630860896', 1441490500L, 1441490500L),\n",
       " ('1067632044446365058_295815812', 1441491679L, 1441491679L),\n",
       " ('1067639411692044592_228741823', 1441492557L, 1441492557L),\n",
       " ('1067649466532321567_536704821', 1441493756L, 1441493756L),\n",
       " ('1067652957129397041_1979326523', 1441494172L, 1441494172L),\n",
       " ('1067671055576976071_391922161', 1441496329L, 1441496329L),\n",
       " ('1067723161405265838_969145292', 1441502541L, 1441502541L),\n",
       " ('1067735412413880118_1541130564', 1441504001L, 1441504001L),\n",
       " ('1067752709491659073_264353459', 1441506063L, 1441506063L),\n",
       " ('1067754186533900594_41594739', 1441506239L, 1441506239L),\n",
       " ('1067765876459863597_1133292846', 1441507633L, 1441507633L),\n",
       " ('1067766833765084123_6230185', 1441507747L, 1441507747L),\n",
       " ('1067858002151465151_16064855', 1441518615L, 1441518615L),\n",
       " ('1067860395983389693_207784879', 1441518900L, 1441518900L),\n",
       " ('1067929637455502609_655642406', 1441527155L, 1441527155L),\n",
       " ('1067987560667009433_435746523', 1441534060L, 1441534060L),\n",
       " ('1068012449659822179_1607682759', 1441537027L, 1441537027L),\n",
       " ('1068022999242136119_232489501', 1441538284L, 1441538284L),\n",
       " ('1068028063987266545_2007141787', 1441538888L, 1441538888L),\n",
       " ('1068048886368004816_1053598545', 1441541370L, 1441541370L),\n",
       " ('1068063773554947103_29598372', 1441543145L, 1441543145L),\n",
       " ('1068072352476029576_208454087', 1441544168L, 1441544168L),\n",
       " ('1068149633098524357_442724936', 1441553380L, 1441553380L),\n",
       " ('1068149831795779232_308561320', 1441553404L, 1441553404L),\n",
       " ('1068156533307371565_53989891', 1441554203L, 1441554203L),\n",
       " ('1068164351754498272_3081019', 1441555135L, 1441555135L),\n",
       " ('1068187495948464876_1012860363', 1441557894L, 1441557894L),\n",
       " ('1068200796104022891_331141', 1441559479L, 1441559479L),\n",
       " ('1068206510508712357_335727151', 1441560160L, 1441560160L),\n",
       " ('1068208283348761260_1927537173', 1441560372L, 1441560372L),\n",
       " ('1068219652764705653_335727151', 1441561727L, 1441561727L),\n",
       " ('1068223768888136064_1461948379', 1441562218L, 1441562218L),\n",
       " ('1068227366335096966_603674169', 1441562647L, 1441562647L),\n",
       " ('1068266718576700824_420362234', 1441567338L, 1441567338L),\n",
       " ('1068271559322513224_1506521162', 1441567915L, 1441567915L),\n",
       " ('1068288161857032023_182943986', 1441569894L, 1441569894L),\n",
       " ('1068288631044647008_11895073', 1441569950L, 1441569950L),\n",
       " ('1068315108597217336_997286965', 1441573106L, 1441573106L),\n",
       " ('1068324009875782109_104877733', 1441574167L, 1441574167L),\n",
       " ('1068335493577165028_49236777', 1441575536L, 1441575536L),\n",
       " ('1068341728435949135_198252482', 1441576280L, 1441576280L),\n",
       " ('1068347698297314120_175746925', 1441576991L, 1441576991L),\n",
       " ('1068349162018499774_454808258', 1441577166L, 1441577166L),\n",
       " ('1068370533817280855_274067841', 1441579714L, 1441579714L),\n",
       " ('1068380371934558861_2173777605', 1441580886L, 1441580886L),\n",
       " ('1068390835144757545_1991396411', 1441582134L, 1441582134L),\n",
       " ('1068424988682701189_1909876361', 1441586205L, 1441586205L),\n",
       " ('1068452755562130203_359571113', 1441589515L, 1441589515L),\n",
       " ('1068478740570195999_1941518985', 1441592613L, 1441592613L),\n",
       " ('1068479508446595115_1941518985', 1441592704L, 1441592704L),\n",
       " ('1068479890900011061_1941518985', 1441592750L, 1441592750L),\n",
       " ('1068484259306502264_189780989', 1441593271L, 1441593271L),\n",
       " ('1068540814471918755_1438176724', 1441600013L, 1441600013L),\n",
       " ('1068549210795972593_969145292', 1441601013L, 1441601013L),\n",
       " ('1068558326160881152_1438176724', 1441602100L, 1441602100L),\n",
       " ('1068651363507565694_1438176724', 1441613191L, 1441613191L),\n",
       " ('1068656506093423092_45231777', 1441613804L, 1441613804L),\n",
       " ('1068681644879469789_3140342', 1441616801L, 1441616801L),\n",
       " ('1068800975373749280_182943986', 1441631026L, 1441631026L),\n",
       " ('1068820690437345450_46681731', 1441633376L, 1441633376L),\n",
       " ('1068830348779198324_179362308', 1441634528L, 1441634528L),\n",
       " ('1068850810348595951_1053598545', 1441636967L, 1441636967L),\n",
       " ('1068853280608342258_1396917803', 1441637261L, 1441637261L),\n",
       " ('1068861759676506509_1680800279', 1441638272L, 1441638272L),\n",
       " ('1068865358936854980_227997483', 1441638701L, 1441638701L),\n",
       " ('1068879122168138671_520092673', 1441640342L, 1441640342L),\n",
       " ('1068927054362404977_295831241', 1441646056L, 1441646056L),\n",
       " ('1068930800028802835_1324313126', 1441646502L, 1441646502L),\n",
       " ('1068952711289114842_310336283', 1441649114L, 1441649114L),\n",
       " ('1068974314227830650_1706086090', 1441651690L, 1441651690L),\n",
       " ('1069029641947799428_409737646', 1441658285L, 1441658285L),\n",
       " ('1069045467654157051_1528544379', 1441660172L, 1441660172L),\n",
       " ('1069054858337987439_1990812313', 1441661291L, 1441661291L),\n",
       " ('1069059936046259549_1012278', 1441661897L, 1441661897L),\n",
       " ('1069241249164035177_1373861920', 1441683511L, 1441683511L),\n",
       " ('1069265135241866298_13374938', 1441686358L, 1441686358L),\n",
       " ('1069285532373013259_939780947', 1441688790L, 1441688790L),\n",
       " ('1069338277634859031_411577519', 1441695078L, 1441695078L),\n",
       " ('1069339200188107396_494981841', 1441695188L, 1441695188L),\n",
       " ('1069339942479693862_2141572273', 1441695276L, 1441695276L),\n",
       " ('1069344521743275041_969145292', 1441695822L, 1441695822L),\n",
       " ('1069361746611568654_1637352847', 1441697875L, 1441697875L),\n",
       " ('1069460133920184920_1746919165', 1441709604L, 1441709604L),\n",
       " ('1069511560239402273_182943986', 1441715734L, 1441715734L),\n",
       " ('1069534329773076366_208858434', 1441718449L, 1441718449L),\n",
       " ('1069565035759348215_499071865', 1441722109L, 1441722109L),\n",
       " ('1069606625128506928_368096', 1441727067L, 1441727067L),\n",
       " ('1069621382913419699_1053598545', 1441728826L, 1441728826L),\n",
       " ('1069651359325015794_44491330', 1441732400L, 1441732400L),\n",
       " ('1069655783299951521_339510585', 1441732927L, 1441732927L),\n",
       " ('1069662262529637129_2087943597', 1441733700L, 1441733700L),\n",
       " ('1069676442070931495_26598957', 1441735390L, 1441735390L),\n",
       " ('1069733733408375280_10959', 1441742220L, 1441742220L),\n",
       " ('1069744361188986641_1572632402', 1441743486L, 1441743486L),\n",
       " ('1069766467309611424_499071865', 1441746122L, 1441746122L),\n",
       " ('1069770729678337367_232891436', 1441746630L, 1441746630L),\n",
       " ('1069808556708345556_270884492', 1441751139L, 1441751139L),\n",
       " ('1069831052241305676_2080415', 1441753821L, 1441753821L),\n",
       " ('1069871888165872739_46294968', 1441758689L, 1441758689L),\n",
       " ('1069912830149505744_614768179', 1441763570L, 1441763570L),\n",
       " ('1069916353730994743_1680800279', 1441763990L, 1441763990L),\n",
       " ('1070006441083202806_224282362', 1441774729L, 1441774729L),\n",
       " ('1070040232595757084_300629037', 1441778757L, 1441778757L),\n",
       " ('1070047645205993596_300629037', 1441779641L, 1441779641L),\n",
       " ('1070059600412866320_1438176724', 1441781066L, 1441781066L),\n",
       " ('1070063294740725154_2177083358', 1441781506L, 1441781506L),\n",
       " ('1070133584305122292_1576908641', 1441789886L, 1441789886L),\n",
       " ('1070139116555392645_1541130564', 1441790545L, 1441790545L),\n",
       " ('1070207869393673287_813755614', 1441798741L, 1441798741L),\n",
       " ('1070252850461681266_238631928', 1441804103L, 1441804103L),\n",
       " ('1070279941565900878_212669281', 1441807333L, 1441807333L),\n",
       " ('1070323407868694665_3869899', 1441812514L, 1441812514L),\n",
       " ('1070327099518575534_22159567', 1441812954L, 1441812954L),\n",
       " ('1070367947273428239_599523222', 1441817824L, 1441817824L),\n",
       " ('1070425775928470437_27822265', 1441824717L, 1441824717L),\n",
       " ('1070461478089159299_3963995', 1441828974L, 1441828974L),\n",
       " ('1070469844530508233_1242450139', 1441829971L, 1441829971L),\n",
       " ('1070508964914412759_176501550', 1441834634L, 1441834634L),\n",
       " ('1070510194248137968_176501550', 1441834781L, 1441834781L),\n",
       " ('1070520538107136899_722225', 1441836014L, 1441836014L),\n",
       " ('1070551627772589307_1122571660', 1441839720L, 1441839720L),\n",
       " ('1070589307582558138_11494746', 1441844212L, 1441844212L),\n",
       " ('1070594615751093328_11494746', 1441844845L, 1441844845L),\n",
       " ('1070595251926346849_11494746', 1441844921L, 1441844921L),\n",
       " ('1070596949910961087_421030973', 1441845123L, 1441845123L),\n",
       " ('1070598455247087560_417666384', 1441845302L, 1441845302L),\n",
       " ('1070747874971421750_1611067882', 1441863115L, 1441863115L),\n",
       " ('1070822318579763735_618935113', 1441871989L, 1441871989L),\n",
       " ('1070850983353814536_207582978', 1441875406L, 1441875406L),\n",
       " ('1070858314503612915_212669281', 1441876280L, 1441876280L),\n",
       " ('1070892767364381397_25234733', 1441880387L, 1441880387L),\n",
       " ('1070905800613995820_1830040', 1441881941L, 1441881941L),\n",
       " ('1070997609249612177_1941911895', 1441892885L, 1441892885L),\n",
       " ('1071014400392934673_193059076', 1441894887L, 1441894887L),\n",
       " ('1071045572215175700_349877301', 1441898603L, 1441898603L),\n",
       " ('1071051763789334810_1653178585', 1441899341L, 1441899341L),\n",
       " ('1071107927659400963_182943986', 1441906036L, 1441906036L),\n",
       " ('1071123418882815653_946241836', 1441907883L, 1441907883L),\n",
       " ('1071155966021468799_202974095', 1441911763L, 1441911763L),\n",
       " ('1071204233800443760_361144', 1441917517L, 1441917517L),\n",
       " ('1071215503763532308_1053598545', 1441918860L, 1441918860L),\n",
       " ('1071232245125482468_255417432', 1441920856L, 1441920856L),\n",
       " ('1071240422583039978_1122571660', 1441921831L, 1441921831L),\n",
       " ('1071246924366863606_1071946910', 1441922606L, 1441922606L),\n",
       " ('1071247079430282491_1071946910', 1441922624L, 1441922624L),\n",
       " ('1071255132384910811_1071946910', 1441923584L, 1441923584L),\n",
       " ('1071338299115424202_2130753', 1441933499L, 1441933499L),\n",
       " ('1071340159736200198_199693054', 1441933721L, 1441933721L),\n",
       " ('1071380980051666837_30621464', 1441938587L, 1441938587L),\n",
       " ('1071394699888157856_7876144', 1441940222L, 1441940222L),\n",
       " ('1071529933186459972_2072764537', 1441956343L, 1441956343L),\n",
       " ('1071546747177121716_14713564', 1441958348L, 1441958348L),\n",
       " ('1071622055500644963_1675086471', 1441967325L, 1441967325L),\n",
       " ('1071630014778896303_2970698', 1441968274L, 1441968274L),\n",
       " ('1071650303341452359_2184701750', 1441970693L, 1441970693L),\n",
       " ('1071662657043127675_2184701750', 1441972165L, 1441972165L),\n",
       " ('1071699124699311478_2087374906', 1441976512L, 1441976512L),\n",
       " ('1071738560598814048_2177281322', 1441981214L, 1441981214L),\n",
       " ('1071780574019460473_376236542', 1441986222L, 1441986222L),\n",
       " ('1071823790535860922_365318319', 1441991374L, 1441991374L),\n",
       " ('1071844084580175218_50520082', 1441993793L, 1441993793L),\n",
       " ('1071871876243351586_1053598545', 1441997106L, 1441997106L),\n",
       " ('1071874651318509935_373851399', 1441997437L, 1441997437L),\n",
       " ('1071875770437226836_32624243', 1441997570L, 1441997570L),\n",
       " ('1071877673468449158_32624243', 1441997797L, 1441997797L),\n",
       " ('1071896510650264931_11494746', 1442000043L, 1442000043L),\n",
       " ('1071917497527536993_2782530', 1442002545L, 1442002545L),\n",
       " ('1071933420521012067_1564600397', 1442004443L, 1442004443L),\n",
       " ('1071970019632978774_234601509', 1442008806L, 1442008806L),\n",
       " ('1071990826122873108_1176785513', 1442011286L, 1442011286L),\n",
       " ('1071994883621047737_1126279402', 1442011770L, 1442011770L),\n",
       " ('1072022906250840391_520092673', 1442015110L, 1442015110L),\n",
       " ('1072094951635882706_9089035', 1442023699L, 1442023699L),\n",
       " ('1072160414996559198_1438176724', 1442031503L, 1442031503L),\n",
       " ('1072170389370238516_1438176724', 1442032692L, 1442032692L),\n",
       " ('1072232638562250453_1831436354', 1442040112L, 1442040112L),\n",
       " ('1072233644029327909_1326485', 1442040232L, 1442040232L),\n",
       " ('1072299221521686555_1926633735', 1442048050L, 1442048050L),\n",
       " ('1072310085379943003_9697297', 1442049345L, 1442049345L),\n",
       " ('1072344024119241099_9697297', 1442053390L, 1442053390L),\n",
       " ('1072397004369482778_523797228', 1442059706L, 1442059706L),\n",
       " ('1072400596743269927_2087374906', 1442060134L, 1442060134L),\n",
       " ('1072434351266917919_339308130', 1442064158L, 1442064158L),\n",
       " ('1072439309218692519_1137457382', 1442064749L, 1442064749L),\n",
       " ('1072490831058915313_187687130', 1442070891L, 1442070891L),\n",
       " ('1072490902574598516_403159865', 1442070900L, 1442070900L),\n",
       " ('1072553908047575961_1927537173', 1442078411L, 1442078411L),\n",
       " ('1072563562741649183_6088986', 1442079562L, 1442079562L),\n",
       " ('1072566523673999385_1561536053', 1442079915L, 1442079915L),\n",
       " ('1072574436504730772_331575478', 1442080858L, 1442080858L),\n",
       " ('1072575910023344967_350671355', 1442081033L, 1442081033L),\n",
       " ('1072584061586281308_6751571', 1442082005L, 1442082005L),\n",
       " ('1072621124346927618_1784565', 1442086423L, 1442086423L),\n",
       " ('1072624172104300492_2170144492', 1442086787L, 1442086787L),\n",
       " ('1072649165776316488_1053598545', 1442089766L, 1442089766L),\n",
       " ('1072662708796096629_752401631', 1442091381L, 1442091381L),\n",
       " ('1072673434086856377_33414020', 1442092659L, 1442092659L),\n",
       " ('1072705031758606238_192574026', 1442096426L, 1442096426L),\n",
       " ('1072711601252670875_2189481734', 1442097209L, 1442097209L),\n",
       " ('1072717752410589409_339443089', 1442097942L, 1442097942L),\n",
       " ('1072719921552308118_19121804', 1442098201L, 1442098201L),\n",
       " ('1072750005811347539_1047858007', 1442101787L, 1442101787L),\n",
       " ('1072784103245018433_1438176724', 1442105852L, 1442105852L),\n",
       " ('1072790468387449834_671337601', 1442106611L, 1442106611L),\n",
       " ('1072792103779235370_1438176724', 1442106806L, 1442106806L),\n",
       " ('1072882490257907634_232960966', 1442117581L, 1442117581L),\n",
       " ('1072924852126844800_1268398424', 1442122631L, 1442122631L),\n",
       " ('1072929524781663061_217052287', 1442123187L, 1442123187L),\n",
       " ('1072950425358685411_368471780', 1442125679L, 1442125679L),\n",
       " ('1072965205422957089_1275401463', 1442127441L, 1442127441L),\n",
       " ('1072991605523474388_1742153320', 1442130588L, 1442130588L),\n",
       " ('1073016953741872071_1437509193', 1442133610L, 1442133610L),\n",
       " ('1073023444830498204_1639469714', 1442134384L, 1442134384L),\n",
       " ('1073029685700675201_1821857256', 1442135128L, 1442135128L),\n",
       " ('1073043320189547274_945059', 1442136753L, 1442136753L),\n",
       " ('1073069430018714530_10491577', 1442139866L, 1442139866L),\n",
       " ('1073074982472493486_41742153', 1442140528L, 1442140528L),\n",
       " ('1073083452115953538_15403624', 1442141537L, 1442141537L),\n",
       " ('1073108060204054334_336481164', 1442144471L, 1442144471L),\n",
       " ('1073124164388530963_12954361', 1442146390L, 1442146390L),\n",
       " ('1073129917653333425_336481164', 1442147076L, 1442147076L),\n",
       " ('1073138855549945348_4313664', 1442148142L, 1442148142L),\n",
       " ('1073142672971144128_1923964229', 1442148597L, 1442148597L),\n",
       " ('1073144725100185363_2069497960', 1442148841L, 1442148841L),\n",
       " ('1073154148752094599_1438176724', 1442149965L, 1442149965L),\n",
       " ('1073162759744135186_276238719', 1442150991L, 1442150991L),\n",
       " ('1073166213117229162_284029973', 1442151403L, 1442151403L),\n",
       " ('1073174312667980666_34452439', 1442152369L, 1442152369L),\n",
       " ('1073190394660967135_3407099', 1442154286L, 1442154286L),\n",
       " ('1073191528725271302_3407099', 1442154421L, 1442154421L),\n",
       " ('1073205025687870269_27049741', 1442156030L, 1442156030L),\n",
       " ('1073208239402447953_1438176724', 1442156413L, 1442156413L),\n",
       " ('1073221619090607988_1747437706', 1442158008L, 1442158008L),\n",
       " ('1073223253023639926_520092673', 1442158203L, 1442158203L),\n",
       " ('1073227657271195256_2170144492', 1442158728L, 1442158728L),\n",
       " ('1073264556516782553_26363275', 1442163126L, 1442163126L),\n",
       " ('1073286457091717137_32068101', 1442165737L, 1442165737L),\n",
       " ('1073307873089645923_227592266', 1442168290L, 1442168290L),\n",
       " ('1073335008274759671_34658406', 1442171525L, 1442171525L),\n",
       " ('1073342738963634906_258047821', 1442172447L, 1442172447L),\n",
       " ('1073391094718640538_145119459', 1442178211L, 1442178211L),\n",
       " ('1073436446634719789_997286965', 1442183617L, 1442183617L),\n",
       " ('1073454646751574038_997286965', 1442185787L, 1442185787L),\n",
       " ('1073458462259436160_1763881813', 1442186242L, 1442186242L),\n",
       " ('1073461406697348360_474634694', 1442186593L, 1442186593L),\n",
       " ('1073473601040854320_2087374906', 1442188047L, 1442188047L),\n",
       " ('1073548792554997071_2324752', 1442197010L, 1442197010L),\n",
       " ('1073557309152089860_1541130564', 1442198025L, 1442198025L),\n",
       " ('1073597299182729138_1438176724', 1442202793L, 1442202793L),\n",
       " ('1073606852531672121_647156236', 1442203931L, 1442203931L),\n",
       " ('1073620948178629973_1438176724', 1442205612L, 1442205612L),\n",
       " ('1073623721049781632_1438176724', 1442205942L, 1442205942L),\n",
       " ('1073669071760347184_3741619', 1442211348L, 1442211348L),\n",
       " ('1073671649402725469_291355936', 1442211656L, 1442211656L),\n",
       " ('1073740685028941593_581275566', 1442219885L, 1442219885L),\n",
       " ('1073766335448587860_202908046', 1442222943L, 1442222943L),\n",
       " ('1073808907726390842_258062976', 1442228018L, 1442228018L),\n",
       " ('1073813242430869414_387218314', 1442228535L, 1442228535L),\n",
       " ('1073834876819974184_511184585', 1442231114L, 1442231114L),\n",
       " ('1073858215646852998_226204348', 1442233896L, 1442233896L),\n",
       " ('1073880772795627358_1438176724', 1442236585L, 1442236585L),\n",
       " ('1073890909613361445_805417', 1442237794L, 1442237794L),\n",
       " ('1073896485685166724_480344991', 1442238458L, 1442238458L),\n",
       " ('1073898490696696480_480344991', 1442238697L, 1442238697L),\n",
       " ('1073944511518118627_289650291', 1442244183L, 1442244183L),\n",
       " ('1073971956412111756_1472869', 1442247455L, 1442247455L),\n",
       " ('1073981447775539096_194745338', 1442248587L, 1442248587L),\n",
       " ('1073990704287731362_1950252322', 1442249690L, 1442249690L),\n",
       " ('1074026889983469593_39587985', 1442254004L, 1442254004L),\n",
       " ('1074027165398507504_9413238', 1442254037L, 1442254037L),\n",
       " ('1074043554800812706_475488279', 1442255990L, 1442255990L),\n",
       " ('1074062250765251489_401945315', 1442258219L, 1442258219L),\n",
       " ('1074091922970316967_274274291', 1442261756L, 1442261756L),\n",
       " ('1074096369703516588_6433517', 1442262286L, 1442262286L),\n",
       " ('1074121882361589374_420362234', 1442265328L, 1442265328L),\n",
       " ('1074141748306011974_625678224', 1442267696L, 1442267696L),\n",
       " ('1074154578027851526_405478434', 1442269225L, 1442269225L),\n",
       " ('1074189640228154538_742373338', 1442273405L, 1442273405L)]"
      ]
     },
     "execution_count": 62,
     "metadata": {},
     "output_type": "execute_result"
    }
   ],
   "source": [
    "q = '''\n",
    "    USE instagram\n",
    "    '''\n",
    "engine.execute(q)\n",
    "\n",
    "q = '''\n",
    "    Select post_id, created_time, date_time FROM posts;\n",
    "'''\n",
    "hh = engine.execute(q)\n",
    "hh.fetchall()"
   ]
  },
  {
   "cell_type": "code",
   "execution_count": 12,
   "metadata": {
    "collapsed": false
   },
   "outputs": [
    {
     "data": {
      "text/plain": [
       "[('1072553908047575961_1927537173', 1442078411L)]"
      ]
     },
     "execution_count": 12,
     "metadata": {},
     "output_type": "execute_result"
    }
   ],
   "source": [
    "q = '''\n",
    "    USE instagram\n",
    "    '''\n",
    "engine.execute(q)\n",
    "\n",
    "q = '''\n",
    "    Select post_id, min(created_time) FROM posts;\n",
    "'''\n",
    "hh = engine.execute(q)\n",
    "hh.fetchall()"
   ]
  },
  {
   "cell_type": "code",
   "execution_count": 6,
   "metadata": {
    "collapsed": false
   },
   "outputs": [
    {
     "data": {
      "text/plain": [
       "['busk',\n",
       " 'busker',\n",
       " 'buskers',\n",
       " 'busking',\n",
       " 'streetmusic',\n",
       " 'streetmusician',\n",
       " 'streetmusicians',\n",
       " 'streetperformer',\n",
       " 'streetperformers',\n",
       " 'streetlife',\n",
       " 'livemusic']"
      ]
     },
     "execution_count": 6,
     "metadata": {},
     "output_type": "execute_result"
    }
   ],
   "source": [
    "search_tags"
   ]
  },
  {
   "cell_type": "code",
   "execution_count": null,
   "metadata": {
    "collapsed": true
   },
   "outputs": [],
   "source": [
    "connection1 =engine.connection()\n",
    "connection1.execute()"
   ]
  }
 ],
 "metadata": {
  "kernelspec": {
   "display_name": "Python 2",
   "language": "python",
   "name": "python2"
  },
  "language_info": {
   "codemirror_mode": {
    "name": "ipython",
    "version": 2
   },
   "file_extension": ".py",
   "mimetype": "text/x-python",
   "name": "python",
   "nbconvert_exporter": "python",
   "pygments_lexer": "ipython2",
   "version": "2.7.10"
  }
 },
 "nbformat": 4,
 "nbformat_minor": 0
}
