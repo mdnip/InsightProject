{
 "cells": [
  {
   "cell_type": "markdown",
   "metadata": {},
   "source": [
    "## Imports and database connection"
   ]
  },
  {
   "cell_type": "code",
   "execution_count": 3,
   "metadata": {
    "collapsed": false
   },
   "outputs": [],
   "source": [
    "# Database Interaction\n",
    "import json\n",
    "import ast\n",
    "import pandas as pd\n",
    "import csv\n",
    "import requests\n",
    "import time\n",
    "import traceback\n",
    "from sqlalchemy import *\n",
    "from sqlalchemy.orm import sessionmaker\n",
    "from sqlalchemy.ext.declarative import declarative_base\n",
    "\n",
    "# Analytics packages\n",
    "import matplotlib\n",
    "import numpy as np\n",
    "import matplotlib.pyplot as plt\n",
    "from sklearn.cluster import DBSCAN\n",
    "from sklearn import metrics\n",
    "\n",
    "from scipy.stats import beta\n",
    "from scipy.stats import poisson\n",
    "\n",
    "# Geospatial packages\n",
    "import datetime\n",
    "import instaconfig\n",
    "from pytz import timezone\n",
    "from geopy.distance import vincenty\n",
    "\n",
    "\n",
    "# Pull from database\n",
    "instagram, database, search_tags = instaconfig.config()\n",
    "\n",
    "engine = create_engine('mysql://%(user)s:%(pass)s@%(host)s' % database)\n",
    "engine.execute('use instagram')\n",
    "\n",
    "q = '''\n",
    "    SELECT *\n",
    "    FROM posts\n",
    "    WHERE searched_tag IN \n",
    "    %s ;\n",
    "    ''' % (\"('\" + \"','\".join(search_tags[:6]) + \"')\")  # :7\n",
    "\n",
    "#print q\n",
    "\n",
    "df = pd.read_sql_query(q,con = engine)\n",
    "\n",
    "# IPython plotting magic\n",
    "#%matplotlib inline\n",
    "#%pylab inline"
   ]
  },
  {
   "cell_type": "markdown",
   "metadata": {},
   "source": [
    "## Identify spatial clusters"
   ]
  },
  {
   "cell_type": "code",
   "execution_count": 4,
   "metadata": {
    "collapsed": false
   },
   "outputs": [
    {
     "name": "stdout",
     "output_type": "stream",
     "text": [
      "Estimated number of clusters: 1144\n"
     ]
    }
   ],
   "source": [
    "Xtrain = np.vstack((df.longitude, df.lat)).T\n",
    "Xtrain *= np.pi/180\n",
    "\n",
    "# Compute DBSCAN\n",
    "db = DBSCAN(eps=4e-5, \n",
    "            min_samples=5,\n",
    "            metric='haversine'\n",
    "           ).fit(Xtrain)\n",
    "core_samples_mask = np.zeros_like(db.labels_, dtype=bool)\n",
    "core_samples_mask[db.core_sample_indices_] = True\n",
    "labels = list(db.labels_)\n",
    "\n",
    "# Number of clusters in labels, ignoring noise if present.\n",
    "n_clusters_ = len(set(labels)) - (1 if -1 in labels else 0)\n",
    "\n",
    "print('Estimated number of clusters: %d' % n_clusters_)\n",
    "\n",
    "df['cluster_label'] = pd.Series(labels)"
   ]
  },
  {
   "cell_type": "markdown",
   "metadata": {},
   "source": [
    "## Compute Cluster Radii"
   ]
  },
  {
   "cell_type": "code",
   "execution_count": 5,
   "metadata": {
    "collapsed": true
   },
   "outputs": [],
   "source": [
    "# Remove entries not belonging to a cluster\n",
    "cluster_df = df[df['cluster_label'] != -1]\n",
    "\n",
    "cluster_centroids = cluster_df[['cluster_label','lat','longitude']].groupby(['cluster_label']).mean().reset_index()\n",
    "cluster_point_centroids = pd.merge(left = cluster_df[['cluster_label','lat','longitude']], right = cluster_centroids, how = 'inner', on = 'cluster_label', suffixes = ('_point','_centroid')).reset_index()\n",
    "\n",
    "# Distance measure\n",
    "def dist(x1,x2,y1,y2):\n",
    "    return vincenty((x1,x2),(y1,y2)).miles\n",
    "    #return np.sqrt(np.square(x1-y1)+np.square(x2-y2))\n",
    "\n",
    "# Calculate distance of each point from centroid\n",
    "cluster_point_centroids['distance_from_centroid'] = cluster_point_centroids.apply(lambda x: dist(x['lat_point'], x['longitude_point'], x['lat_centroid'], x['longitude_centroid']),axis = 1)\n",
    "\n",
    "# Max over all distances from centroid\n",
    "cluster_radius = cluster_point_centroids.groupby('cluster_label').max().reset_index()\n",
    "cluster_radius = cluster_radius[['cluster_label','lat_centroid','longitude_centroid','distance_from_centroid']]"
   ]
  },
  {
   "cell_type": "code",
   "execution_count": 6,
   "metadata": {
    "collapsed": true
   },
   "outputs": [],
   "source": [
    "# Check if point should be assigned to cluster\n",
    "import random\n",
    "\n",
    "def check_spatial_membership(point):\n",
    "    matches = cluster_radius[cluster_radius.apply(lambda x: vincenty(point,(x['lat_centroid'],x['longitude_centroid'])) <= x['distance_from_centroid'], axis = 1)]['cluster_label'].reset_index()\n",
    "    if len(matches) < 1:\n",
    "        return -1\n",
    "    elif len(matches) == 1:\n",
    "        return int(matches['cluster_label'])\n",
    "    else:\n",
    "        print \"Something odd may happen\"\n",
    "        return int(matches.ix[random.sample(matches.index,1)]['cluster_label'])"
   ]
  },
  {
   "cell_type": "markdown",
   "metadata": {},
   "source": [
    "## Identify Temporal Trends"
   ]
  },
  {
   "cell_type": "code",
   "execution_count": 7,
   "metadata": {
    "collapsed": false
   },
   "outputs": [
    {
     "name": "stderr",
     "output_type": "stream",
     "text": [
      "/home/mdnip/anaconda/lib/python2.7/site-packages/IPython/kernel/__main__.py:3: SettingWithCopyWarning: \n",
      "A value is trying to be set on a copy of a slice from a DataFrame.\n",
      "Try using .loc[row_indexer,col_indexer] = value instead\n",
      "\n",
      "See the the caveats in the documentation: http://pandas.pydata.org/pandas-docs/stable/indexing.html#indexing-view-versus-copy\n",
      "  app.launch_new_instance()\n",
      "/home/mdnip/anaconda/lib/python2.7/site-packages/IPython/kernel/__main__.py:4: SettingWithCopyWarning: \n",
      "A value is trying to be set on a copy of a slice from a DataFrame.\n",
      "Try using .loc[row_indexer,col_indexer] = value instead\n",
      "\n",
      "See the the caveats in the documentation: http://pandas.pydata.org/pandas-docs/stable/indexing.html#indexing-view-versus-copy\n",
      "/home/mdnip/anaconda/lib/python2.7/site-packages/IPython/kernel/__main__.py:5: SettingWithCopyWarning: \n",
      "A value is trying to be set on a copy of a slice from a DataFrame.\n",
      "Try using .loc[row_indexer,col_indexer] = value instead\n",
      "\n",
      "See the the caveats in the documentation: http://pandas.pydata.org/pandas-docs/stable/indexing.html#indexing-view-versus-copy\n",
      "/home/mdnip/anaconda/lib/python2.7/site-packages/IPython/kernel/__main__.py:6: SettingWithCopyWarning: \n",
      "A value is trying to be set on a copy of a slice from a DataFrame.\n",
      "Try using .loc[row_indexer,col_indexer] = value instead\n",
      "\n",
      "See the the caveats in the documentation: http://pandas.pydata.org/pandas-docs/stable/indexing.html#indexing-view-versus-copy\n",
      "/home/mdnip/anaconda/lib/python2.7/site-packages/IPython/kernel/__main__.py:7: SettingWithCopyWarning: \n",
      "A value is trying to be set on a copy of a slice from a DataFrame.\n",
      "Try using .loc[row_indexer,col_indexer] = value instead\n",
      "\n",
      "See the the caveats in the documentation: http://pandas.pydata.org/pandas-docs/stable/indexing.html#indexing-view-versus-copy\n",
      "/home/mdnip/anaconda/lib/python2.7/site-packages/IPython/kernel/__main__.py:11: SettingWithCopyWarning: \n",
      "A value is trying to be set on a copy of a slice from a DataFrame.\n",
      "Try using .loc[row_indexer,col_indexer] = value instead\n",
      "\n",
      "See the the caveats in the documentation: http://pandas.pydata.org/pandas-docs/stable/indexing.html#indexing-view-versus-copy\n"
     ]
    }
   ],
   "source": [
    "# Identify time scales for binning\n",
    "df1 = df[['created_time','cluster_label']]\n",
    "df1['day_of_week'] = df['created_time'].apply(lambda x: int(datetime.datetime.fromtimestamp(x).weekday()))\n",
    "df1['day_of_month'] = df['created_time'].apply(lambda x: datetime.datetime.fromtimestamp(x).day)\n",
    "df1['hour_of_day'] = df['created_time'].apply(lambda x: datetime.datetime.fromtimestamp(x).hour)\n",
    "df1['month'] = df['created_time'].apply(lambda x: datetime.datetime.fromtimestamp(x).month)\n",
    "df1['year'] = df['created_time'].apply(lambda x: datetime.datetime.fromtimestamp(x).year)\n",
    "\n",
    "# Bin by some number of hours\n",
    "time_bin_hours = 4\n",
    "df1['hour_of_day'] = df1['hour_of_day'].apply(lambda x : x / time_bin_hours)\n",
    "\n",
    "arrival_times = df1.groupby(['year','month','day_of_month','hour_of_day','day_of_week','cluster_label']).count().reset_index()\n"
   ]
  },
  {
   "cell_type": "code",
   "execution_count": 8,
   "metadata": {
    "collapsed": false
   },
   "outputs": [],
   "source": [
    "# Compute occupancy probability PER CLUSTER\n",
    "bins_in_day = 24/time_bin_hours\n",
    "bins_in_week = 7*bins_in_day\n",
    "\n",
    "occupancy = (arrival_times.reset_index().groupby(['day_of_week','hour_of_day','cluster_label']).count()['year']).reset_index()\n",
    "day_bins = np.zeros([7,bins_in_day,n_clusters_])\n",
    "\n",
    "# unpack occupancy\n",
    "for ii in occupancy.index:\n",
    "     day_bins[int(occupancy.loc[ii]['day_of_week'])][int(occupancy.loc[ii]['hour_of_day'])][int(occupancy.loc[ii]['cluster_label'])] = occupancy.loc[ii]['year']\n",
    "\n",
    "l, u, md = np.zeros(bins_in_week*n_clusters_), np.zeros(bins_in_week*n_clusters_), np.zeros(bins_in_week*n_clusters_)\n",
    "day_bins = day_bins.reshape([bins_in_week*n_clusters_])\n",
    "\n",
    "# average\n",
    "md = np.divide(day_bins, 243)\n",
    "\n",
    "# MAP estimates per bin\n",
    "for ii in xrange(0,bins_in_week*n_clusters_):\n",
    "    a, b = day_bins[ii], 243-day_bins[ii]             # Default = 243\n",
    "    alpha = .05                                       # leftover probability\n",
    "    l[ii] = beta.ppf(alpha / 2.0, a=a, b=b)           # lower threshhold\n",
    "    u[ii] = beta.ppf(1.0 - alpha / 2.0, a=a, b=b)     # upper threshhold\n",
    "    md[ii] = np.divide(a - 1.0, a + b - 2.0)          # mode"
   ]
  },
  {
   "cell_type": "code",
   "execution_count": 9,
   "metadata": {
    "collapsed": false
   },
   "outputs": [
    {
     "name": "stderr",
     "output_type": "stream",
     "text": [
      "/home/mdnip/anaconda/lib/python2.7/site-packages/pandas/core/frame.py:2524: SettingWithCopyWarning: \n",
      "A value is trying to be set on a copy of a slice from a DataFrame\n",
      "\n",
      "See the the caveats in the documentation: http://pandas.pydata.org/pandas-docs/stable/indexing.html#indexing-view-versus-copy\n",
      "  **kwargs)\n"
     ]
    }
   ],
   "source": [
    "# Bin by cluster and by time period down to x hour blocks\n",
    "temp_bin = df1.groupby(['cluster_label','day_of_week','day_of_month','hour_of_day','month','year']).count().reset_index()\n",
    "\n",
    "# Remove outliers and relabel column\n",
    "temp_bin_no_spatial_outliers = temp_bin[temp_bin['cluster_label'] != -1]\n",
    "temp_bin_no_spatial_outliers.rename(columns = {'created_time' : 'num_posts_per_time_slot'}, inplace = True)\n",
    "\n",
    "posts_per_time_period = temp_bin_no_spatial_outliers.groupby(['num_posts_per_time_slot','hour_of_day']).count()['cluster_label'].reset_index()\n",
    "\n",
    "def arrival_statistics(time_bin):\n",
    "    dist_posts_per_time_period = posts_per_time_period[posts_per_time_period['hour_of_day'] == time_bin]['cluster_label'].reset_index()['cluster_label']\n",
    "    emp_dist = (dist_posts_per_time_period/dist_posts_per_time_period.sum()).values\n",
    "    mu = dot(np.array(range(0,len(emp_dist))),emp_dist)\n",
    "    return mu"
   ]
  },
  {
   "cell_type": "code",
   "execution_count": null,
   "metadata": {
    "collapsed": true
   },
   "outputs": [],
   "source": []
  }
 ],
 "metadata": {
  "kernelspec": {
   "display_name": "Python 2",
   "language": "python",
   "name": "python2"
  },
  "language_info": {
   "codemirror_mode": {
    "name": "ipython",
    "version": 2
   },
   "file_extension": ".py",
   "mimetype": "text/x-python",
   "name": "python",
   "nbconvert_exporter": "python",
   "pygments_lexer": "ipython2",
   "version": "2.7.10"
  }
 },
 "nbformat": 4,
 "nbformat_minor": 0
}
