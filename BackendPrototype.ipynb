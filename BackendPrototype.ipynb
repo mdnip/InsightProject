{
 "cells": [
  {
   "cell_type": "markdown",
   "metadata": {},
   "source": [
    "## Imports and database connection"
   ]
  },
  {
   "cell_type": "code",
   "execution_count": 1,
   "metadata": {
    "collapsed": false,
    "scrolled": true
   },
   "outputs": [
    {
     "name": "stderr",
     "output_type": "stream",
     "text": [
      "Vendor:  Continuum Analytics, Inc.\n",
      "Package: mkl\n",
      "Message: trial mode expires in 30 days\n",
      "Vendor:  Continuum Analytics, Inc.\n",
      "Package: mkl\n",
      "Message: trial mode expires in 30 days\n"
     ]
    }
   ],
   "source": [
    "# Database Interaction\n",
    "import pandas as pd\n",
    "import requests\n",
    "from sqlalchemy import *\n",
    "import datetime\n",
    "\n",
    "# Analytics packages\n",
    "import numpy as np\n",
    "from sklearn.cluster import DBSCAN\n",
    "from sklearn.cluster import KMeans\n",
    "from sklearn import metrics\n",
    "\n",
    "from scipy.stats import beta\n",
    "from scipy.stats import poisson\n",
    "\n",
    "from pull_from_database import *\n",
    "\n",
    "%matplotlib inline\n",
    "\n",
    "## Split dataframe into last 24 hours and prior\n",
    "\n",
    "cutoff_time = datetime.datetime.fromtimestamp(df['created_time'].max())-datetime.timedelta(hours = 24)\n",
    "last_day_df = df[df['created_time'].apply(lambda x: datetime.datetime.fromtimestamp(x)) > cutoff_time].reset_index()\n",
    "train_df = df[df['created_time'].apply(lambda x: datetime.datetime.fromtimestamp(x)) <= cutoff_time].reset_index()\n",
    "#train_df['cluster_label_2'] = '' #add empty column for sub cluster label"
   ]
  },
  {
   "cell_type": "markdown",
   "metadata": {},
   "source": [
    "## First pass spatial clustering with DBSCAN"
   ]
  },
  {
   "cell_type": "code",
   "execution_count": 2,
   "metadata": {
    "collapsed": false
   },
   "outputs": [
    {
     "name": "stdout",
     "output_type": "stream",
     "text": [
      "Estimated number of clusters: 993\n"
     ]
    }
   ],
   "source": [
    "Xtrain = np.vstack((train_df.longitude, train_df.lat)).T\n",
    "Xtrain *= np.pi/180\n",
    "\n",
    "# Compute DBSCAN\n",
    "db = DBSCAN(eps=2e-4,         #4e-5\n",
    "            min_samples=5,\n",
    "            metric='haversine'\n",
    "           ).fit(Xtrain)\n",
    "core_samples_mask = np.zeros_like(db.labels_, dtype=bool)\n",
    "core_samples_mask[db.core_sample_indices_] = True\n",
    "labels = list(db.labels_)\n",
    "\n",
    "# Number of clusters in labels, ignoring noise if present.\n",
    "n_clusters_ = len(set(labels)) - (1 if -1 in labels else 0)\n",
    "\n",
    "print('Estimated number of clusters: %d' % n_clusters_)\n",
    "\n",
    "train_df['cluster_label'] = pd.Series(labels)"
   ]
  },
  {
   "cell_type": "markdown",
   "metadata": {},
   "source": [
    "## Compute Cluster Radii"
   ]
  },
  {
   "cell_type": "code",
   "execution_count": 3,
   "metadata": {
    "collapsed": false
   },
   "outputs": [],
   "source": [
    "# This is actually an upper bound on the set radius\n",
    "from geopy.distance import vincenty\n",
    "\n",
    "# Filter spatial outliers\n",
    "cluster_df = train_df[train_df['cluster_label'] != -1]\n",
    "\n",
    "# Find cluster centroids in (lat, long) space\n",
    "cluster_centroids = cluster_df[['cluster_label','lat','longitude']].groupby(['cluster_label']).mean().reset_index()\n",
    "cluster_point_centroids = pd.merge(left = cluster_df[['cluster_label','lat','longitude']], right = cluster_centroids, how = 'inner', on = 'cluster_label', suffixes = ('_point','_centroid')).reset_index()\n",
    "\n",
    "# Distance measure\n",
    "def dist(x1,x2,y1,y2):\n",
    "    #print x1, x2, y1, y2\n",
    "    if sum(np.isnan([x1,x2,y1,y2])):\n",
    "        return 0;\n",
    "    else:\n",
    "        return vincenty((x1,x2),(y1,y2)).miles\n",
    "\n",
    "# Calculate distance of each point from centroid\n",
    "cluster_point_centroids['distance_from_centroid'] = cluster_point_centroids.apply(lambda x: dist(x['lat_point'], x['longitude_point'], x['lat_centroid'], x['longitude_centroid']),axis = 1)\n",
    "\n",
    "# Max over all distances from centroid\n",
    "cluster_radius = cluster_point_centroids.groupby('cluster_label').max().reset_index()\n",
    "cluster_radius = cluster_radius[['cluster_label','lat_centroid','longitude_centroid','distance_from_centroid']]"
   ]
  },
  {
   "cell_type": "code",
   "execution_count": 4,
   "metadata": {
    "collapsed": false
   },
   "outputs": [
    {
     "data": {
      "text/plain": [
       "<matplotlib.axes._subplots.AxesSubplot at 0x7f545acff590>"
      ]
     },
     "execution_count": 4,
     "metadata": {},
     "output_type": "execute_result"
    },
    {
     "data": {
      "image/png": "[encoded data removed]",
      "text/plain": [
       "<matplotlib.figure.Figure at 0x7f545acffcd0>"
      ]
     },
     "metadata": {},
     "output_type": "display_data"
    }
   ],
   "source": [
    "cluster_radius['distance_from_centroid'].hist(bins = 100)"
   ]
  },
  {
   "cell_type": "code",
   "execution_count": 5,
   "metadata": {
    "collapsed": true
   },
   "outputs": [],
   "source": [
    "def run_KMeans(n_clusters, sub_cluster):\n",
    "\n",
    "    Xtrain = np.vstack((sub_cluster.longitude, sub_cluster.lat)).T\n",
    "    Xtrain *= np.pi/180\n",
    "\n",
    "    # Compute KMeans\n",
    "    km = KMeans(\n",
    "                n_clusters = n_clusters, \n",
    "                init='k-means++', \n",
    "                n_init=10, \n",
    "                max_iter=300, \n",
    "                tol=0.0001, \n",
    "                precompute_distances='auto', \n",
    "                verbose=0, \n",
    "                random_state=None, \n",
    "                copy_x=True, \n",
    "                n_jobs=1\n",
    "               ).fit(Xtrain)\n",
    "\n",
    "\n",
    "    labels = list(km.labels_)\n",
    "\n",
    "    # Number of clusters in labels, ignoring noise if present.\n",
    "    n_clusters_ = len(set(labels)) - (1 if -1 in labels else 0)\n",
    "    \n",
    "    sub_cluster = sub_cluster.reset_index()\n",
    "    #print sub_cluster\n",
    "\n",
    "    sub_cluster['cluster_label_2'] = pd.Series(labels)\n",
    "    #sub_cluster['cluster_label_2'] = sub_cluster.apply(lambda x: -1 if np.isnan(x) else x) #<-------------------\n",
    "\n",
    "    # Attach centroid coordinates to each element\n",
    "    clus_cent = km.cluster_centers_ * 180 /np.pi\n",
    "    sub_cluster_centroid = pd.DataFrame(np.hstack((np.arange(n_clusters).reshape(n_clusters,1),clus_cent)), columns = ['cluster_label_2','longitude_centroid','lat_centroid'])\n",
    "    sub_cluster1 = pd.merge(sub_cluster, sub_cluster_centroid, how = 'left', on = 'cluster_label_2')\n",
    "\n",
    "    # Calculate distance of each point from centroid\n",
    "    sub_cluster1['distance_from_centroid'] = sub_cluster1.apply(lambda x: dist(x['lat'], x['longitude'], x['lat_centroid'], x['longitude_centroid']),axis = 1)\n",
    "\n",
    "    # Max over all distances from centroid\n",
    "    sub_cluster_radius = sub_cluster1.groupby('cluster_label_2').max().reset_index()\n",
    "    #sub_cluster_radius = sub_cluster_radius[['cluster_label_2','lat_centroid','longitude_centroid','distance_from_centroid']]\n",
    "\n",
    "    return np.median(sub_cluster_radius['distance_from_centroid'].values), labels, sub_cluster"
   ]
  },
  {
   "cell_type": "code",
   "execution_count": 6,
   "metadata": {
    "collapsed": false,
    "scrolled": true
   },
   "outputs": [
    {
     "name": "stdout",
     "output_type": "stream",
     "text": [
      "Subdividing cluster 2\n",
      "Defining search space\n",
      "Backtracking!\n",
      "0.680991532098 2\n",
      "Subdividing cluster 3\n",
      "Defining search space\n",
      "Backtracking!\n",
      "0.969321335149 7\n",
      "Subdividing cluster 4\n",
      "Defining search space\n",
      "Backtracking!\n",
      "1.07938608502 8\n",
      "Subdividing cluster 6\n",
      "Defining search space\n",
      "Backtracking!\n",
      "0.979956336184 10\n",
      "Subdividing cluster 7\n",
      "Defining search space\n",
      "Backtracking!\n",
      "1.03274370568 37\n",
      "Subdividing cluster 8\n",
      "Defining search space\n",
      "Backtracking!\n",
      "1.01482458904 27\n",
      "Subdividing cluster 12\n",
      "Defining search space\n",
      "Backtracking!\n",
      "0.992142530856 15\n",
      "Subdividing cluster 13\n",
      "Defining search space\n",
      "Backtracking!\n",
      "0.783592233678 5\n",
      "Subdividing cluster 17\n",
      "Defining search space\n",
      "Backtracking!\n",
      "1.04295798599 13\n",
      "Subdividing cluster 24\n",
      "Defining search space\n",
      "Backtracking!\n",
      "1.00480508353 10\n",
      "Subdividing cluster 25\n",
      "Defining search space\n",
      "Backtracking!\n",
      "0.803416703776 12\n",
      "Subdividing cluster 26\n",
      "Defining search space\n",
      "Backtracking!\n",
      "1.38339159144 3\n",
      "Subdividing cluster 28\n",
      "Defining search space\n",
      "Backtracking!\n",
      "1.03559143994 51\n",
      "Subdividing cluster 31\n",
      "Defining search space\n",
      "Backtracking!\n",
      "0.804688541966 12\n",
      "Subdividing cluster 32\n",
      "Defining search space\n",
      "Backtracking!\n",
      "1.1309915471 8\n",
      "Subdividing cluster 33\n",
      "Defining search space\n",
      "Backtracking!\n",
      "0.981181554903 5\n",
      "Subdividing cluster 36\n",
      "Defining search space\n",
      "Backtracking!\n",
      "0.945377696078 5\n",
      "Subdividing cluster 37\n",
      "Defining search space\n",
      "Backtracking!\n",
      "1.06506379358 15\n",
      "Subdividing cluster 39\n",
      "Defining search space\n",
      "Backtracking!\n",
      "0.851887254109 7\n",
      "Subdividing cluster 40\n",
      "Defining search space\n",
      "Backtracking!\n",
      "1.05208211657 8\n",
      "Subdividing cluster 45\n",
      "Defining search space\n",
      "Backtracking!\n",
      "0.987857905847 15\n",
      "Subdividing cluster 46\n",
      "Defining search space\n",
      "Backtracking!\n",
      "1.02404694985 12\n",
      "Subdividing cluster 61\n",
      "Defining search space\n",
      "Backtracking!\n",
      "0.994694900389 7\n",
      "Subdividing cluster 64\n",
      "Defining search space\n",
      "Backtracking!\n",
      "1.45266638691 2\n",
      "Subdividing cluster 66\n",
      "Defining search space\n",
      "Backtracking!\n",
      "1.45735430823 2\n",
      "Subdividing cluster 75\n",
      "Defining search space\n",
      "Backtracking!\n",
      "0.815269828242 5\n",
      "Subdividing cluster 83\n",
      "Defining search space\n",
      "Backtracking!\n",
      "1.6764121554 5\n",
      "Subdividing cluster 92\n",
      "Defining search space\n",
      "Backtracking!\n",
      "0.927829243657 7\n",
      "Subdividing cluster 99\n",
      "Defining search space\n",
      "Backtracking!\n",
      "1.13908301467 2\n",
      "Subdividing cluster 102\n",
      "Defining search space\n",
      "Backtracking!\n",
      "1.19916873876 8\n",
      "Subdividing cluster 109\n",
      "Defining search space\n",
      "Backtracking!\n",
      "1.02617379734 13\n",
      "Subdividing cluster 119\n",
      "Defining search space\n",
      "Backtracking!\n",
      "1.13590256431 7\n",
      "Subdividing cluster 127\n",
      "Defining search space\n",
      "Backtracking!\n",
      "1.77447002236 2\n",
      "Subdividing cluster 133\n",
      "Defining search space\n",
      "Backtracking!\n",
      "0.779895038858 12\n",
      "Subdividing cluster 134\n",
      "Defining search space\n",
      "Backtracking!\n",
      "0.65835806072 2\n",
      "Subdividing cluster 138\n",
      "Defining search space\n",
      "Backtracking!\n",
      "0.746366305113 5\n",
      "Subdividing cluster 159\n",
      "Defining search space\n",
      "Backtracking!\n",
      "0.682204948474 2\n",
      "Subdividing cluster 163\n",
      "Defining search space\n",
      "Backtracking!\n",
      "1.67700922633 5\n",
      "Subdividing cluster 164\n",
      "Defining search space\n",
      "Backtracking!\n",
      "1.34015291787 7\n",
      "Subdividing cluster 174\n",
      "Defining search space\n",
      "Backtracking!\n",
      "0.922382421201 5\n",
      "Subdividing cluster 180\n",
      "Defining search space\n",
      "Backtracking!\n",
      "1.22267598659 3\n",
      "Subdividing cluster 184\n",
      "Defining search space\n",
      "Backtracking!\n",
      "1.08356918898 5\n",
      "Subdividing cluster 204\n",
      "Defining search space\n",
      "Backtracking!\n",
      "0.760810137313 2\n",
      "Subdividing cluster 207\n",
      "Defining search space\n",
      "Backtracking!\n",
      "1.10137077506 3\n",
      "Subdividing cluster 208\n",
      "Defining search space\n",
      "Backtracking!\n",
      "0.114731412928 2\n",
      "Subdividing cluster 220\n",
      "Defining search space\n",
      "Backtracking!\n",
      "0.538761075422 2\n",
      "Subdividing cluster 223\n",
      "Defining search space\n",
      "Backtracking!\n",
      "0.332656378389 2\n",
      "Subdividing cluster 234\n",
      "Defining search space\n",
      "Backtracking!\n",
      "1.08163602837 3\n",
      "Subdividing cluster 262\n",
      "Defining search space\n",
      "Backtracking!\n",
      "1.22910413428 2\n",
      "Subdividing cluster 273\n",
      "Defining search space\n",
      "Backtracking!\n",
      "0.691959395913 7\n",
      "Subdividing cluster 311\n",
      "Defining search space\n",
      "Backtracking!\n",
      "1.09507941207 15\n",
      "Subdividing cluster 320\n",
      "Defining search space\n",
      "Backtracking!\n",
      "1.22504859248 2\n",
      "Subdividing cluster 322\n",
      "Defining search space\n",
      "Backtracking!\n",
      "1.66029043122 2\n",
      "Subdividing cluster 345\n",
      "Defining search space\n",
      "Backtracking!\n",
      "0.180365576177 2\n",
      "Subdividing cluster 361\n",
      "Defining search space\n",
      "Backtracking!\n",
      "0.895555078494 5\n",
      "Subdividing cluster 388\n",
      "Defining search space\n",
      "Backtracking!\n",
      "1.77481403254 2\n",
      "Subdividing cluster 413\n",
      "Defining search space\n",
      "Backtracking!\n",
      "0.711178238673 2\n",
      "Subdividing cluster 417\n",
      "Defining search space\n",
      "Backtracking!\n",
      "1.28268103137 2\n",
      "Subdividing cluster 435\n",
      "Defining search space\n",
      "Backtracking!\n",
      "0.822236657341 5\n",
      "Subdividing cluster 475\n",
      "Defining search space\n",
      "Backtracking!\n",
      "0.868349814789 10\n",
      "Subdividing cluster 575\n",
      "Defining search space\n",
      "Backtracking!\n",
      "1.89176937869 2\n",
      "Subdividing cluster 588\n",
      "Defining search space\n",
      "Backtracking!\n",
      "0.822394430295 2\n",
      "Subdividing cluster 612\n",
      "Defining search space\n",
      "Backtracking!\n",
      "0.971526660731 2\n",
      "Subdividing cluster 633\n",
      "Defining search space\n",
      "Backtracking!\n",
      "1.47903969077 3\n",
      "Subdividing cluster 642\n",
      "Defining search space\n",
      "Backtracking!\n",
      "0.641093823107 2\n",
      "Subdividing cluster 707\n",
      "Defining search space\n",
      "Backtracking!\n",
      "1.75596198783 2\n",
      "Subdividing cluster 720\n",
      "Defining search space\n",
      "Backtracking!\n",
      "2.20564785269 2\n",
      "Subdividing cluster 741\n",
      "Defining search space\n",
      "Backtracking!\n",
      "0.712988226905 2\n",
      "Subdividing cluster 773\n",
      "Defining search space\n",
      "Backtracking!\n",
      "0.620115924308 2\n",
      "Subdividing cluster 785\n",
      "Defining search space\n",
      "Backtracking!\n",
      "1.03975232242 2\n",
      "Subdividing cluster 793\n",
      "Defining search space\n",
      "Backtracking!\n",
      "1.04880574277 3\n",
      "Subdividing cluster 804\n",
      "Defining search space\n",
      "Backtracking!\n",
      "0.895189522191 2\n",
      "Subdividing cluster 823\n",
      "Defining search space\n",
      "Backtracking!\n",
      "0.408968737273 2\n",
      "Subdividing cluster 842\n",
      "Defining search space\n",
      "Backtracking!\n",
      "0.20564401704 2\n",
      "Subdividing cluster 909\n",
      "Defining search space\n",
      "Backtracking!\n",
      "0.238891522461 2\n",
      "Subdividing cluster 944\n",
      "Defining search space\n",
      "Backtracking!\n",
      "0.434736843519 2\n"
     ]
    }
   ],
   "source": [
    "large_clusters = cluster_radius[cluster_radius['distance_from_centroid'] > 3]['cluster_label'].values\n",
    "\n",
    "mod_sub_clusters = []\n",
    "for large_cluster in large_clusters:\n",
    "    print 'Subdividing cluster %d' % large_cluster \n",
    "    sub_cluster = train_df[train_df['cluster_label'] == large_cluster]\n",
    "    #print len(sub_cluster)\n",
    "\n",
    "    ## Compute cluster\n",
    "    n_samp = len(sub_cluster)\n",
    "    threshhold = 1 # miles\n",
    "    top_value = min([20,n_samp])\n",
    "    bot_value = 1\n",
    "    out = threshhold + 1\n",
    "\n",
    "    print 'Defining search space'\n",
    "    max_iter_expand_search = 10\n",
    "    \n",
    "    expand_search_count = 0\n",
    "    # expand search space\n",
    "    while (out > threshhold) and (expand_search_count <= max_iter_expand_search):\n",
    "        out, labels, mod_sub_cluster = run_KMeans(top_value, sub_cluster)\n",
    "        if out > threshhold:\n",
    "            bot_value = top_value\n",
    "            top_value *= 10\n",
    "            top_value = min([top_value,n_samp])\n",
    "        expand_search_count += 1\n",
    "\n",
    "    #print top_value, bot_value\n",
    "\n",
    "    print 'Backtracking!'\n",
    "    # binary search (backtrace)\n",
    "    while top_value - bot_value > 1:\n",
    "        probe = int(round(np.mean([top_value, bot_value])))\n",
    "        out, labels, mod_sub_cluster = run_KMeans(probe, sub_cluster)\n",
    "        if out > threshhold:\n",
    "            bot_value = probe\n",
    "        else:\n",
    "            top_value = probe\n",
    "    \n",
    "    #print len(mod_sub_cluster)\n",
    "    #print mod_sub_cluster['cluster_label_2']\n",
    "    mod_sub_clusters.append(mod_sub_cluster)\n",
    "    print out, probe\n",
    "    \n",
    "mod_sub_clusters1 = pd.concat(mod_sub_clusters)[['index','cluster_label_2']]\n",
    "\n",
    "\n",
    "mod_sub_clusters1['cluster_label_2'] = mod_sub_clusters1.apply(lambda x: -1 if np.isnan(x['cluster_label_2']) else x['cluster_label_2'], axis = 1)\n",
    "\n",
    "train_df1 = pd.merge(train_df, mod_sub_clusters1, how = 'left', on = 'index')"
   ]
  },
  {
   "cell_type": "code",
   "execution_count": 7,
   "metadata": {
    "collapsed": false
   },
   "outputs": [],
   "source": [
    "def calc_subcluster_stats(train_df1):\n",
    "    sub_clusters = train_df1[np.isnan(train_df1['cluster_label_2']).apply(lambda x: not x)][['cluster_label','cluster_label_2','lat','longitude']]\n",
    "\n",
    "    sub_cluster_centroids = sub_clusters.groupby(['cluster_label','cluster_label_2']).mean().reset_index()\n",
    "\n",
    "    sub_cluster_centroids.columns = ['cluster_label','cluster_label_2','centroid_lat','centroid_longitude']\n",
    "\n",
    "    sub_clusters_with_centroids = pd.merge(sub_clusters,sub_cluster_centroids,how = 'left', on = ['cluster_label','cluster_label_2'], suffixes = ['','_subcluster'])\n",
    "\n",
    "    sub_clusters_with_centroids['distance_from_centroid'] = sub_clusters_with_centroids.apply(lambda x: dist(x['lat'],x['longitude'],x['centroid_lat'],x['centroid_longitude']), axis = 1)\n",
    "\n",
    "    subcluster_stats = pd.merge(sub_clusters_with_centroids[['cluster_label','cluster_label_2','distance_from_centroid']].groupby(['cluster_label','cluster_label_2']).max().reset_index(),sub_cluster_centroids, how = 'right', on = ['cluster_label','cluster_label_2'])\n",
    "    \n",
    "    return subcluster_stats\n",
    "\n",
    "subcluster_radius = calc_subcluster_stats(train_df1)"
   ]
  },
  {
   "cell_type": "code",
   "execution_count": 8,
   "metadata": {
    "collapsed": true
   },
   "outputs": [],
   "source": [
    "# Check if point should be assigned to cluster\n",
    "import random\n",
    "\n",
    "def check_spatial_membership(pointx,pointy):\n",
    "    point = (pointx,pointy)\n",
    "    try:\n",
    "        matches = cluster_radius[cluster_radius.apply(lambda x: vincenty(point,(x['lat_centroid'],x['longitude_centroid'])) <= x['distance_from_centroid'], axis = 1)]['cluster_label'].reset_index()\n",
    "        if len(matches) < 1:\n",
    "            return -1\n",
    "        elif len(matches) == 1:\n",
    "            return int(matches['cluster_label'])\n",
    "        else:\n",
    "            print \"Something odd may happen\"\n",
    "            return int(matches.ix[random.sample(matches.index,1)]['cluster_label'])\n",
    "    except ValueError:\n",
    "        return -1"
   ]
  },
  {
   "cell_type": "code",
   "execution_count": 9,
   "metadata": {
    "collapsed": false
   },
   "outputs": [
    {
     "data": {
      "text/html": [
       "\n",
       "        <iframe\n",
       "            width=\"700\"\n",
       "            height=\"700\"\n",
       "            src=\"gsm.html\"\n",
       "            frameborder=\"0\"\n",
       "            allowfullscreen\n",
       "        ></iframe>\n",
       "        "
      ],
      "text/plain": [
       "<IPython.lib.display.IFrame at 0x7f545ac98d90>"
      ]
     },
     "execution_count": 9,
     "metadata": {},
     "output_type": "execute_result"
    }
   ],
   "source": [
    "# Drops one circle per cluster, does not include spatial outliers\n",
    "import folium\n",
    "from IPython.display import IFrame\n",
    "\n",
    "from geopy.geocoders import Nominatim\n",
    "\n",
    "geolocator = Nominatim()\n",
    "location = 'Dublin, Ireland'\n",
    "geolocation = geolocator.geocode(location)\n",
    "\n",
    "map_osm = folium.Map(location=[geolocation.latitude,geolocation.longitude],\n",
    "                    tiles='OpenStreetMap')\n",
    "\n",
    "colors = [\n",
    "    '#d73027',\n",
    "    '#f46d43',\n",
    "    '#fdae61',\n",
    "    '#fee090',\n",
    "    '#e0f3f8',\n",
    "    '#abd9e9',\n",
    "    '#74add1',\n",
    "    '#4575b4'\n",
    "]\n",
    "\n",
    "labels = range(0,len(cluster_radius)-len(large_clusters))\n",
    "\n",
    "color_labels = [colors[label % 7] for label in labels]\n",
    "\n",
    "def make_circle(lat,lon,image_url,color_label): \n",
    "    map_osm.circle_marker(\n",
    "        location = [lat,lon],\n",
    "        radius=5e2,\n",
    "        line_color=colors[0], #color_label,\n",
    "        fill_color=colors[0], #color_label,\n",
    "        popup = str(image_url)\n",
    "        \n",
    "        #'<img src={url} width=200 height=200><br>'.format(\n",
    "        #    url=image_url)\n",
    "    )\n",
    "    \n",
    "make_circle_vec = np.vectorize(make_circle)\n",
    "\n",
    "pics = cluster_radius[cluster_radius['cluster_label'].apply(lambda x: False if x in large_clusters else True)][['lat_centroid','longitude_centroid','cluster_label']].values\n",
    "pics_subclusters = subcluster_radius[['centroid_lat','centroid_longitude']].values\n",
    "\n",
    "make_circle_vec(pics[:,0],pics[:,1],pics[:,2],color_labels)\n",
    "make_circle_vec(pics_subclusters[:,0],pics_subclusters[:,1],len(subcluster_radius),len(subcluster_radius))\n",
    "\n",
    "map_osm.create_map(path='gsm.html')\n",
    "\n",
    "IFrame('gsm.html', 700, 700)"
   ]
  },
  {
   "cell_type": "markdown",
   "metadata": {},
   "source": [
    "## Identify Temporal Trends"
   ]
  },
  {
   "cell_type": "code",
   "execution_count": 23,
   "metadata": {
    "collapsed": true
   },
   "outputs": [],
   "source": [
    "train_df = train_df1"
   ]
  },
  {
   "cell_type": "code",
   "execution_count": 24,
   "metadata": {
    "collapsed": false
   },
   "outputs": [
    {
     "name": "stderr",
     "output_type": "stream",
     "text": [
      "/home/mdnip/anaconda/lib/python2.7/site-packages/ipykernel/__main__.py:3: SettingWithCopyWarning: \n",
      "A value is trying to be set on a copy of a slice from a DataFrame.\n",
      "Try using .loc[row_indexer,col_indexer] = value instead\n",
      "\n",
      "See the the caveats in the documentation: http://pandas.pydata.org/pandas-docs/stable/indexing.html#indexing-view-versus-copy\n",
      "  app.launch_new_instance()\n",
      "/home/mdnip/anaconda/lib/python2.7/site-packages/ipykernel/__main__.py:4: SettingWithCopyWarning: \n",
      "A value is trying to be set on a copy of a slice from a DataFrame.\n",
      "Try using .loc[row_indexer,col_indexer] = value instead\n",
      "\n",
      "See the the caveats in the documentation: http://pandas.pydata.org/pandas-docs/stable/indexing.html#indexing-view-versus-copy\n",
      "/home/mdnip/anaconda/lib/python2.7/site-packages/ipykernel/__main__.py:5: SettingWithCopyWarning: \n",
      "A value is trying to be set on a copy of a slice from a DataFrame.\n",
      "Try using .loc[row_indexer,col_indexer] = value instead\n",
      "\n",
      "See the the caveats in the documentation: http://pandas.pydata.org/pandas-docs/stable/indexing.html#indexing-view-versus-copy\n",
      "/home/mdnip/anaconda/lib/python2.7/site-packages/ipykernel/__main__.py:6: SettingWithCopyWarning: \n",
      "A value is trying to be set on a copy of a slice from a DataFrame.\n",
      "Try using .loc[row_indexer,col_indexer] = value instead\n",
      "\n",
      "See the the caveats in the documentation: http://pandas.pydata.org/pandas-docs/stable/indexing.html#indexing-view-versus-copy\n",
      "/home/mdnip/anaconda/lib/python2.7/site-packages/ipykernel/__main__.py:7: SettingWithCopyWarning: \n",
      "A value is trying to be set on a copy of a slice from a DataFrame.\n",
      "Try using .loc[row_indexer,col_indexer] = value instead\n",
      "\n",
      "See the the caveats in the documentation: http://pandas.pydata.org/pandas-docs/stable/indexing.html#indexing-view-versus-copy\n",
      "/home/mdnip/anaconda/lib/python2.7/site-packages/ipykernel/__main__.py:11: SettingWithCopyWarning: \n",
      "A value is trying to be set on a copy of a slice from a DataFrame.\n",
      "Try using .loc[row_indexer,col_indexer] = value instead\n",
      "\n",
      "See the the caveats in the documentation: http://pandas.pydata.org/pandas-docs/stable/indexing.html#indexing-view-versus-copy\n"
     ]
    }
   ],
   "source": [
    "# Identify time scales for binning\n",
    "df1 = train_df1[['created_time','cluster_label','cluster_label_2']]\n",
    "df1['day_of_week'] = train_df1['created_time'].apply(lambda x: int(datetime.datetime.fromtimestamp(x).weekday()))\n",
    "df1['day_of_month'] = train_df1['created_time'].apply(lambda x: datetime.datetime.fromtimestamp(x).day)\n",
    "df1['hour_of_day'] = train_df1['created_time'].apply(lambda x: datetime.datetime.fromtimestamp(x).hour)\n",
    "df1['month'] = train_df1['created_time'].apply(lambda x: datetime.datetime.fromtimestamp(x).month)\n",
    "df1['year'] = train_df1['created_time'].apply(lambda x: datetime.datetime.fromtimestamp(x).year)\n",
    "\n",
    "# Bin by some number of hours\n",
    "time_bin_hours = 4\n",
    "df1['hour_of_day'] = df1['hour_of_day'].apply(lambda x : x / time_bin_hours)\n",
    "\n",
    "arrival_times = df1.groupby(['year','month','day_of_month','hour_of_day','day_of_week','cluster_label','cluster_label_2']).count().reset_index()\n"
   ]
  },
  {
   "cell_type": "code",
   "execution_count": 25,
   "metadata": {
    "collapsed": false
   },
   "outputs": [],
   "source": [
    "# Compute occupancy probability PER CLUSTER\n",
    "bins_in_day = 24/time_bin_hours\n",
    "bins_in_week = 7*bins_in_day\n",
    "\n",
    "occupancy = (arrival_times.reset_index().groupby(['day_of_week','hour_of_day','cluster_label']).count()['year']).reset_index()\n",
    "day_bins = np.zeros([7,bins_in_day,n_clusters_])\n",
    "\n",
    "# unpack occupancy\n",
    "for ii in occupancy.index:\n",
    "     day_bins[int(occupancy.loc[ii]['day_of_week'])][int(occupancy.loc[ii]['hour_of_day'])][int(occupancy.loc[ii]['cluster_label'])] = occupancy.loc[ii]['year']\n",
    "\n",
    "l, u, md = np.zeros(bins_in_week*n_clusters_), np.zeros(bins_in_week*n_clusters_), np.zeros(bins_in_week*n_clusters_)\n",
    "day_bins = day_bins.reshape([bins_in_week*n_clusters_])\n",
    "\n",
    "# average\n",
    "md = np.divide(day_bins, 243)\n",
    "\n",
    "# MAP estimates per bin\n",
    "for ii in xrange(0,bins_in_week*n_clusters_):\n",
    "    a, b = day_bins[ii], 243-day_bins[ii]             # Default = 243\n",
    "    alpha = .05                                       # leftover probability\n",
    "    l[ii] = beta.ppf(alpha / 2.0, a=a, b=b)           # lower threshhold\n",
    "    u[ii] = beta.ppf(1.0 - alpha / 2.0, a=a, b=b)     # upper threshhold\n",
    "    md[ii] = np.divide(a - 1.0, a + b - 2.0)          # mode"
   ]
  },
  {
   "cell_type": "code",
   "execution_count": 26,
   "metadata": {
    "collapsed": false
   },
   "outputs": [],
   "source": [
    "# Bin by cluster and by time period down to x hour blocks\n",
    "temp_bin = df1.groupby(['cluster_label','day_of_week','day_of_month','hour_of_day','month','year']).count().reset_index()\n",
    "\n",
    "# Remove outliers and relabel column\n",
    "temp_bin_no_spatial_outliers = temp_bin[temp_bin['cluster_label'] != -1]\n",
    "temp_bin_no_spatial_outliers.rename(columns = {'created_time' : 'num_posts_per_time_slot'}, inplace = True)\n",
    "\n",
    "posts_per_time_period = temp_bin_no_spatial_outliers.groupby(['num_posts_per_time_slot','day_of_week','hour_of_day']).count()['cluster_label'].reset_index()\n",
    "\n",
    "def arrival_statistics(time_bin,day_of_week):\n",
    "    dist_posts_per_time_period = posts_per_time_period[(posts_per_time_period['hour_of_day'] == time_bin) & (posts_per_time_period['day_of_week'] == day_of_week)]['cluster_label'].reset_index()['cluster_label']\n",
    "    emp_dist = (dist_posts_per_time_period/dist_posts_per_time_period.sum()).values\n",
    "    mu = np.dot(np.array(range(0,len(emp_dist))),emp_dist)\n",
    "    return mu\n",
    "\n",
    "\n",
    "post_threshhold = np.zeros([bins_in_day,7])\n",
    "for ii in xrange(0,bins_in_day):\n",
    "    for jj in xrange(0,7):\n",
    "        post_threshhold[ii][jj] = np.ceil(poisson.ppf(0.95, arrival_statistics(ii,jj)))\n",
    "        \n",
    "#print post_threshhold"
   ]
  },
  {
   "cell_type": "code",
   "execution_count": 27,
   "metadata": {
    "collapsed": false
   },
   "outputs": [
    {
     "name": "stderr",
     "output_type": "stream",
     "text": [
      "/home/mdnip/anaconda/lib/python2.7/site-packages/ipykernel/__main__.py:5: SettingWithCopyWarning: \n",
      "A value is trying to be set on a copy of a slice from a DataFrame.\n",
      "Try using .loc[row_indexer,col_indexer] = value instead\n",
      "\n",
      "See the the caveats in the documentation: http://pandas.pydata.org/pandas-docs/stable/indexing.html#indexing-view-versus-copy\n",
      "/home/mdnip/anaconda/lib/python2.7/site-packages/ipykernel/__main__.py:9: SettingWithCopyWarning: \n",
      "A value is trying to be set on a copy of a slice from a DataFrame.\n",
      "Try using .loc[row_indexer,col_indexer] = value instead\n",
      "\n",
      "See the the caveats in the documentation: http://pandas.pydata.org/pandas-docs/stable/indexing.html#indexing-view-versus-copy\n"
     ]
    },
    {
     "name": "stdout",
     "output_type": "stream",
     "text": [
      "Something odd may happen\n",
      "Something odd may happen\n"
     ]
    },
    {
     "name": "stderr",
     "output_type": "stream",
     "text": [
      "/home/mdnip/anaconda/lib/python2.7/site-packages/ipykernel/__main__.py:11: SettingWithCopyWarning: \n",
      "A value is trying to be set on a copy of a slice from a DataFrame.\n",
      "Try using .loc[row_indexer,col_indexer] = value instead\n",
      "\n",
      "See the the caveats in the documentation: http://pandas.pydata.org/pandas-docs/stable/indexing.html#indexing-view-versus-copy\n"
     ]
    }
   ],
   "source": [
    "df2 = last_day_df[['post_id','created_time','lat','longitude','stand_res_url']]\n",
    "\n",
    "day_of_week = datetime.datetime.fromtimestamp(max(df2['created_time'])).weekday()\n",
    "\n",
    "df2['created_time'] = df2['created_time'].apply(lambda x: int(datetime.datetime.fromtimestamp(x).hour))\n",
    "\n",
    "# Bin by some number of hours\n",
    "time_bin_hours = 4\n",
    "df2['created_time'] = df2['created_time'].apply(lambda x : x / time_bin_hours)\n",
    "\n",
    "df2['cluster_label'] = df2[['lat','longitude']].apply(lambda x: check_spatial_membership(x['lat'],x['longitude']), axis = 1)\n"
   ]
  },
  {
   "cell_type": "code",
   "execution_count": 28,
   "metadata": {
    "collapsed": false
   },
   "outputs": [],
   "source": [
    "arrivals_outliers = df2[df2['cluster_label'] == -1].reset_index()\n",
    "\n",
    "arrivals_to_clusters = df2[df2['cluster_label'] != -1].groupby(['cluster_label','created_time']).count().reset_index()\n",
    "\n",
    "def check_if_anomalous(day_of_week,time_bin, arrivals):\n",
    "    if arrivals > post_threshhold[time_bin][day_of_week]:\n",
    "        return True\n",
    "    else:\n",
    "        return False\n",
    "\n",
    "arrivals_anomalous = arrivals_to_clusters[arrivals_to_clusters.apply(lambda x: check_if_anomalous(day_of_week,x['created_time'],x['post_id']), axis = 1)]"
   ]
  },
  {
   "cell_type": "code",
   "execution_count": 29,
   "metadata": {
    "collapsed": false
   },
   "outputs": [],
   "source": [
    "temporal_outliers = df2[df2['cluster_label'].isin(arrivals_anomalous['cluster_label'])]"
   ]
  },
  {
   "cell_type": "code",
   "execution_count": 30,
   "metadata": {
    "collapsed": false,
    "scrolled": false
   },
   "outputs": [
    {
     "data": {
      "text/html": [
       "\n",
       "        <iframe\n",
       "            width=\"700\"\n",
       "            height=\"700\"\n",
       "            src=\"gsm.html\"\n",
       "            frameborder=\"0\"\n",
       "            allowfullscreen\n",
       "        ></iframe>\n",
       "        "
      ],
      "text/plain": [
       "<IPython.lib.display.IFrame at 0x7f880c121e50>"
      ]
     },
     "execution_count": 30,
     "metadata": {},
     "output_type": "execute_result"
    }
   ],
   "source": [
    "# Drops one circle per cluster, does not include spatial outliers\n",
    "import folium\n",
    "from IPython.display import IFrame\n",
    "\n",
    "from geopy.geocoders import Nominatim\n",
    "\n",
    "geolocator = Nominatim()\n",
    "location = 'Kuala Lumpur'\n",
    "geolocation = geolocator.geocode(location)\n",
    "\n",
    "map_osm = folium.Map(\n",
    "                    location=[geolocation.latitude,geolocation.longitude],\n",
    "                    tiles='OpenStreetMap',\n",
    "                    zoom_start = 10\n",
    "                    )\n",
    "\n",
    "colors = [\n",
    "    '#d73027',\n",
    "    '#f46d43',\n",
    "    '#fdae61',\n",
    "    '#fee090',\n",
    "    '#e0f3f8',\n",
    "    '#abd9e9',\n",
    "    '#74add1',\n",
    "    '#4575b4'\n",
    "]\n",
    "\n",
    "labels = range(0,len(cluster_radius)-len(large_clusters))\n",
    "subcluster_labels = range(0,len(subcluster_radius))\n",
    "\n",
    "color_labels = [colors[label % 7] for label in labels]\n",
    "subcluster_color_labels = [colors[label % 7] for label in subcluster_labels]\n",
    "\n",
    "\n",
    "def make_circle(lat,lon,image_url,radius,color_label): \n",
    "    map_osm.circle_marker(\n",
    "        location = [lat,lon],\n",
    "        radius=750*radius,\n",
    "        line_color=colors[0], #color_label,\n",
    "        fill_color=colors[0], #color_label,\n",
    "        #popup = '<img src={url} width=400 height=400><br>'.format(url=image_url)\n",
    "        \n",
    "        #'<img src={url} width=200 height=200><br>'.format(\n",
    "        #    url=image_url)\n",
    "    )\n",
    "    \n",
    "def mark_outlier(lat,lon,image_url,color_label): \n",
    "    map_osm.simple_marker(\n",
    "        location = [lat,lon],\n",
    "        #radius=5e2,\n",
    "        #line_color=color_label, #color_label,\n",
    "        #fill_color=color_label, #color_label,\n",
    "        popup = '<img src={url} width=300 height=300><br>'.format(\n",
    "            url=image_url)\n",
    "    )\n",
    "\n",
    "def mark_spatial_outlier(lat,lon,image_url):\n",
    "    map_osm.simple_marker(\n",
    "        location = [lat,lon],\n",
    "        popup = '<img src={url} width=300 height=300><br>'.format(\n",
    "            url=image_url)\n",
    "    )\n",
    "    \n",
    "#map_osm.simple_marker\n",
    "\n",
    "pics = cluster_radius[['lat_centroid','longitude_centroid','cluster_label','distance_from_centroid']].values\n",
    "\n",
    "pics = cluster_radius[cluster_radius['cluster_label'].apply(lambda x: False if x in large_clusters else True)][['lat_centroid','longitude_centroid','cluster_label','distance_from_centroid']].values\n",
    "pics_subclusters = subcluster_radius[['centroid_lat','centroid_longitude','cluster_label_2','distance_from_centroid']].values\n",
    "\n",
    "pics_out = temporal_outliers[['lat','longitude','stand_res_url']].values\n",
    "pics_spatial_out = arrivals_outliers[['lat','longitude','stand_res_url']].values\n",
    "    \n",
    "make_circle_vec = np.vectorize(make_circle)\n",
    "mark_outlier_vec = np.vectorize(mark_outlier)\n",
    "mark_spatial_outlier_vec = np.vectorize(mark_spatial_outlier)\n",
    "\n",
    "make_circle_vec(pics[:,0],pics[:,1],pics[:,2],pics[:,3],color_labels)\n",
    "make_circle_vec(pics_subclusters[:,0],pics_subclusters[:,1],pics_subclusters[:,2],pics_subclusters[:,3],subcluster_color_labels)\n",
    "mark_outlier_vec(pics_out[:,0],pics_out[:,1],pics_out[:,2],'#000000')\n",
    "mark_spatial_outlier_vec(pics_spatial_out[:,0],pics_spatial_out[:,1],pics_spatial_out[:,2])\n",
    "\n",
    "map_osm.create_map(path='gsm.html')\n",
    "\n",
    "IFrame('gsm.html', 700, 700)"
   ]
  },
  {
   "cell_type": "code",
   "execution_count": 32,
   "metadata": {
    "collapsed": false
   },
   "outputs": [
    {
     "data": {
      "text/plain": [
       "array([], shape=(0, 3), dtype=object)"
      ]
     },
     "execution_count": 32,
     "metadata": {},
     "output_type": "execute_result"
    }
   ],
   "source": [
    "pics_out"
   ]
  },
  {
   "cell_type": "code",
   "execution_count": 14,
   "metadata": {
    "collapsed": false
   },
   "outputs": [],
   "source": [
    "%matplotlib inline\n",
    "import matplotlib\n",
    "import numpy as np\n",
    "import matplotlib.pyplot as plt\n",
    "\n",
    "#plt.plot(median_radius)"
   ]
  },
  {
   "cell_type": "code",
   "execution_count": 30,
   "metadata": {
    "collapsed": false
   },
   "outputs": [
    {
     "data": {
      "text/html": [
       "\n",
       "        <iframe\n",
       "            width=\"700\"\n",
       "            height=\"700\"\n",
       "            src=\"gsm1.html\"\n",
       "            frameborder=\"0\"\n",
       "            allowfullscreen\n",
       "        ></iframe>\n",
       "        "
      ],
      "text/plain": [
       "<IPython.lib.display.IFrame at 0x7fcfc08aef90>"
      ]
     },
     "execution_count": 30,
     "metadata": {},
     "output_type": "execute_result"
    }
   ],
   "source": [
    "ny_df = train_df1[train_df1['cluster_label'] == large_clusters[7]]\n",
    "#ny_df = train_df1\n",
    "\n",
    "import folium\n",
    "from IPython.display import IFrame\n",
    "\n",
    "from geopy.geocoders import Nominatim\n",
    "\n",
    "labels = ny_df['cluster_label_2'].values\n",
    "\n",
    "labels = [-1 if np.isnan(label) else int(label) for label in labels]\n",
    "\n",
    "geolocator = Nominatim()\n",
    "location = 'San Francisco, CA'\n",
    "geolocation = geolocator.geocode(location)\n",
    "#geolocation.latitude = 0\n",
    "#geolocation.longitude = 0\n",
    "\n",
    "map_osm = folium.Map(\n",
    "                    location=[geolocation.latitude,geolocation.longitude],\n",
    "                    tiles='OpenStreetMap',\n",
    "                    zoom_start = 13\n",
    "                    )\n",
    "\n",
    "colors = [\n",
    "    '#d73027',\n",
    "    '#f46d43',\n",
    "    '#fdae61',\n",
    "    '#fee090',\n",
    "    '#e0f3f8',\n",
    "    '#abd9e9',\n",
    "    '#74add1',\n",
    "    '#4575b4'\n",
    "]\n",
    "\n",
    "color_labels = [colors[label % 7] for label in labels]\n",
    "\n",
    "####  Plot each post\n",
    "def make_circle(lat,lon,label): \n",
    "    map_osm.circle_marker(\n",
    "        location = [lat,lon],\n",
    "        radius=100,\n",
    "        line_color=label,\n",
    "        fill_color=label\n",
    "    )\n",
    "\n",
    "\n",
    "\n",
    "pics1 = ny_df[['lat','longitude']].values\n",
    "\n",
    "make_circle_vec = np.vectorize(make_circle)\n",
    "\n",
    "make_circle_vec(pics1[:,0],pics1[:,1],color_labels)\n",
    "\n",
    "####'''\n",
    "\n",
    "map_osm.create_map(path='gsm1.html')\n",
    "\n",
    "IFrame('gsm1.html', 700, 700)"
   ]
  },
  {
   "cell_type": "code",
   "execution_count": 32,
   "metadata": {
    "collapsed": false
   },
   "outputs": [
    {
     "data": {
      "text/plain": [
       "<matplotlib.patches.PathPatch at 0x7f62424a8690>"
      ]
     },
     "execution_count": 32,
     "metadata": {},
     "output_type": "execute_result"
    },
    {
     "data": {
      "image/png": "[encoded data removed]",
      "text/plain": [
       "<matplotlib.figure.Figure at 0x7f6245ca7c90>"
      ]
     },
     "metadata": {},
     "output_type": "display_data"
    }
   ],
   "source": [
    "ny_df = train_df1[train_df1['cluster_label'] == large_clusters[0]]\n",
    "\n",
    "from shapely.geometry import MultiPoint\n",
    "from descartes.patch import PolygonPatch\n",
    "\n",
    "coord_subcluster0 = ny_df[['lat','longitude']].values\n",
    "#coord_subcluster1 = ny_df[ny_df['cluster_label_2']==1][['lat','longitude']].values\n",
    "\n",
    "\n",
    "cvh0 = MultiPoint(coord_subcluster0).convex_hull\n",
    "#cvh1 = MultiPoint(coord_subcluster1).convex_hull\n",
    "\n",
    "fig = plt.figure()\n",
    "ax = fig.add_subplot(111)\n",
    "patch1 = PolygonPatch(cvh0, facecolor='#6699cc', edgecolor='#6699cc', alpha=0.5, zorder=2)\n",
    "\n",
    "xrange1 = [min(coord_subcluster0[:,0]), max(coord_subcluster0[:,0])]\n",
    "yrange1 = [min(coord_subcluster0[:,1]), max(coord_subcluster0[:,1])]\n",
    "ax.set_xlim(*xrange1)\n",
    "#ax.set_xticks(range(*xrange) + [xrange[-1]])\n",
    "ax.set_ylim(*yrange1)\n",
    "#ax.set_yticks(range(*yrange) + [yrange[-1]])\n",
    "\n",
    "ax.add_patch(patch1)\n",
    "\n"
   ]
  },
  {
   "cell_type": "code",
   "execution_count": 22,
   "metadata": {
    "collapsed": false
   },
   "outputs": [
    {
     "data": {
      "text/plain": [
       "array([  0,   2,   9,  11,  12,  15,  16,  19,  21,  22,  25,  36,  39,\n",
       "        44,  45,  47,  49,  51,  56,  60,  61,  62,  67,  74,  81,  85,\n",
       "        91, 103, 104, 105, 115, 121, 123, 139, 142, 151, 176, 181, 182,\n",
       "       196, 224, 236, 250, 252, 254, 271, 272, 286, 291, 309, 322, 343,\n",
       "       352, 358, 398, 420, 440, 445, 502, 504, 506, 520, 526, 554, 665,\n",
       "       667, 681, 752, 776, 790, 798, 835, 857, 863, 899, 983])"
      ]
     },
     "execution_count": 22,
     "metadata": {},
     "output_type": "execute_result"
    }
   ],
   "source": [
    "large_clusters"
   ]
  },
  {
   "cell_type": "code",
   "execution_count": 10,
   "metadata": {
    "collapsed": false
   },
   "outputs": [],
   "source": [
    "import folium\n",
    "map_osm = folium.Map(location=[0,0],\n",
    "                    tiles='OpenStreetMap',\n",
    "                    zoom_start = 13)"
   ]
  },
  {
   "cell_type": "code",
   "execution_count": 12,
   "metadata": {
    "collapsed": true
   },
   "outputs": [],
   "source": [
    "colors = [\n",
    "    '#d73027',\n",
    "    '#f46d43',\n",
    "    '#fdae61',\n",
    "    '#fee090',\n",
    "    '#e0f3f8',\n",
    "    '#abd9e9',\n",
    "    '#74add1',\n",
    "    '#4575b4'\n",
    "]"
   ]
  },
  {
   "cell_type": "code",
   "execution_count": 13,
   "metadata": {
    "collapsed": true
   },
   "outputs": [],
   "source": [
    "def make_circle(lat,lon,label): \n",
    "    map_osm.circle_marker(\n",
    "        location = [lat,lon],\n",
    "        radius=100,\n",
    "        line_color='#000000',#label,\n",
    "        fill_color='#000000'#label,\n",
    "    )"
   ]
  },
  {
   "cell_type": "code",
   "execution_count": 18,
   "metadata": {
    "collapsed": false
   },
   "outputs": [
    {
     "data": {
      "text/plain": [
       "array([None, None, None, ..., None, None, None], dtype=object)"
      ]
     },
     "execution_count": 18,
     "metadata": {},
     "output_type": "execute_result"
    }
   ],
   "source": [
    "pics1 = train_df[['lat','longitude']].values\n",
    "\n",
    "make_circle_vec = np.vectorize(make_circle)\n",
    "\n",
    "make_circle_vec(pics1[:,0],pics1[:,1],range(0,len(train_df)))"
   ]
  },
  {
   "cell_type": "code",
   "execution_count": 21,
   "metadata": {
    "collapsed": false
   },
   "outputs": [
    {
     "data": {
      "text/html": [
       "\n",
       "        <iframe\n",
       "            width=\"700\"\n",
       "            height=\"700\"\n",
       "            src=\"gsm1.html\"\n",
       "            frameborder=\"0\"\n",
       "            allowfullscreen\n",
       "        ></iframe>\n",
       "        "
      ],
      "text/plain": [
       "<IPython.lib.display.IFrame at 0x7fdce0f7a1d0>"
      ]
     },
     "execution_count": 21,
     "metadata": {},
     "output_type": "execute_result"
    }
   ],
   "source": [
    "from IPython.display import IFrame\n",
    "map_osm.create_map(path='gsm1.html')\n",
    "\n",
    "IFrame('gsm1.html', 700, 700)"
   ]
  },
  {
   "cell_type": "code",
   "execution_count": null,
   "metadata": {
    "collapsed": true
   },
   "outputs": [],
   "source": []
  }
 ],
 "metadata": {
  "kernelspec": {
   "display_name": "Python 2",
   "language": "python",
   "name": "python2"
  },
  "language_info": {
   "codemirror_mode": {
    "name": "ipython",
    "version": 2
   },
   "file_extension": ".py",
   "mimetype": "text/x-python",
   "name": "python",
   "nbconvert_exporter": "python",
   "pygments_lexer": "ipython2",
   "version": "2.7.10"
  }
 },
 "nbformat": 4,
 "nbformat_minor": 0
}
