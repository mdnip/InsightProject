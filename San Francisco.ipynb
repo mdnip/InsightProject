{
 "cells": [
  {
   "cell_type": "code",
   "execution_count": 77,
   "metadata": {
    "collapsed": false
   },
   "outputs": [
    {
     "name": "stdout",
     "output_type": "stream",
     "text": [
      "\n",
      "    SELECT *\n",
      "    FROM posts\n",
      "    WHERE searched_tag IN \n",
      "    ('busk','busker','buskers','busking','streetmusic','streetmusician') ;\n",
      "    \n",
      "Populating the interactive namespace from numpy and matplotlib\n"
     ]
    },
    {
     "name": "stderr",
     "output_type": "stream",
     "text": [
      "WARNING: pylab import has clobbered these variables: ['colors', 'Text', 'over', 'extract', 'text', 'cast', 'insert', 'table', 'select', 'delete']\n",
      "`%matplotlib` prevents importing * from pylab and numpy\n"
     ]
    }
   ],
   "source": [
    "import json\n",
    "import ast\n",
    "import pandas as pd\n",
    "import csv\n",
    "import requests\n",
    "import time\n",
    "import traceback\n",
    "from sqlalchemy import *\n",
    "from sqlalchemy.orm import sessionmaker\n",
    "from sqlalchemy.ext.declarative import declarative_base\n",
    "import matplotlib\n",
    "import numpy as np\n",
    "import matplotlib.pyplot as plt\n",
    "\n",
    "import datetime\n",
    "import instaconfig\n",
    "from pytz import timezone\n",
    "\n",
    "from sklearn.neighbors.kde import KernelDensity\n",
    "from sklearn.grid_search import GridSearchCV\n",
    "\n",
    "instagram, database, search_tags = instaconfig.config()\n",
    "\n",
    "engine = create_engine('mysql://%(user)s:%(pass)s@%(host)s' % database)\n",
    "engine.execute('use instagram')\n",
    "\n",
    "q = '''\n",
    "    SELECT *\n",
    "    FROM posts\n",
    "    WHERE searched_tag IN \n",
    "    %s ;\n",
    "    ''' % (\"('\" + \"','\".join(search_tags[:6]) + \"')\")  # :7\n",
    "\n",
    "print q\n",
    "\n",
    "df = pd.read_sql_query(q,con = engine)\n",
    "\n",
    "%matplotlib inline\n",
    "%pylab inline"
   ]
  },
  {
   "cell_type": "code",
   "execution_count": 78,
   "metadata": {
    "collapsed": false,
    "scrolled": true
   },
   "outputs": [
    {
     "data": {
      "text/plain": [
       "index            507\n",
       "searched_tag     507\n",
       "created_time     507\n",
       "post_id          507\n",
       "image_url          0\n",
       "lat              507\n",
       "likes            507\n",
       "longitude        507\n",
       "post_url         507\n",
       "text             507\n",
       "user_id          507\n",
       "date_time        507\n",
       "date_year        507\n",
       "date_month       507\n",
       "date_week          0\n",
       "date_day         507\n",
       "day_of_week      507\n",
       "media_type       507\n",
       "low_res_url      507\n",
       "thumbnail_url    507\n",
       "stand_res_url    507\n",
       "live_music         0\n",
       "genre              0\n",
       "dtype: int64"
      ]
     },
     "execution_count": 78,
     "metadata": {},
     "output_type": "execute_result"
    }
   ],
   "source": [
    "filter_coord = {\n",
    "    'ul_lat' : 37.85,\n",
    "    'ul_long' : -122.35,\n",
    "    'lr_lat' : 37.7,\n",
    "    'lr_long' : -122.6\n",
    "    }\n",
    "\n",
    "sf_df = df[(df.lat <= filter_coord['ul_lat']) & (df.longitude <= filter_coord['ul_long']) & (df.lat >= filter_coord['lr_lat']) & (df.longitude >= filter_coord['lr_long'])]\n",
    "\n",
    "sf_df = sf_df.reset_index()\n",
    "\n",
    "sf_df.count()"
   ]
  },
  {
   "cell_type": "code",
   "execution_count": 79,
   "metadata": {
    "collapsed": false
   },
   "outputs": [
    {
     "name": "stdout",
     "output_type": "stream",
     "text": [
      "Estimated number of clusters: 23\n"
     ]
    }
   ],
   "source": [
    "from sklearn.cluster import DBSCAN\n",
    "from sklearn import metrics\n",
    "\n",
    "Xtrain = np.vstack((sf_df.longitude, sf_df.lat)).T\n",
    "Xtrain *= np.pi/180\n",
    "\n",
    "##############################################################################\n",
    "# Compute DBSCAN\n",
    "db = DBSCAN(eps=2e-5, min_samples=4).fit(Xtrain)\n",
    "core_samples_mask = np.zeros_like(db.labels_, dtype=bool)\n",
    "core_samples_mask[db.core_sample_indices_] = True\n",
    "labels = db.labels_\n",
    "\n",
    "# Number of clusters in labels, ignoring noise if present.\n",
    "n_clusters_ = len(set(labels)) - (1 if -1 in labels else 0)\n",
    "\n",
    "# Number of clusters in labels, ignoring noise if present.\n",
    "n_clusters_ = len(set(labels)) - (1 if -1 in labels else 0)\n",
    "\n",
    "print('Estimated number of clusters: %d' % n_clusters_)\n",
    "\n",
    "sf_df['cluster_label'] = pd.Series(labels)"
   ]
  },
  {
   "cell_type": "code",
   "execution_count": 80,
   "metadata": {
    "collapsed": false
   },
   "outputs": [
    {
     "data": {
      "text/html": [
       "\n",
       "        <iframe\n",
       "            width=\"700\"\n",
       "            height=\"700\"\n",
       "            src=\"osm.html\"\n",
       "            frameborder=\"0\"\n",
       "            allowfullscreen\n",
       "        ></iframe>\n",
       "        "
      ],
      "text/plain": [
       "<IPython.lib.display.IFrame at 0x7fc5a9049510>"
      ]
     },
     "execution_count": 80,
     "metadata": {},
     "output_type": "execute_result"
    }
   ],
   "source": [
    "import folium\n",
    "from IPython.display import IFrame\n",
    "\n",
    "from geopy.geocoders import Nominatim\n",
    "\n",
    "#search_location = 'San Francisco'\n",
    "\n",
    "#geolocator = Nominatim()\n",
    "\n",
    "#geolocation = geolocator.geocode(search_location)\n",
    "\n",
    "map_osm = folium.Map(location=[filter_coord['ul_lat'], filter_coord['ul_long']],\n",
    "                    tiles='OpenStreetMap')\n",
    "\n",
    "pics = sf_df[['lat','longitude','stand_res_url']].values\n",
    "\n",
    "colors = [\n",
    "    '#d73027',\n",
    "    '#f46d43',\n",
    "    '#fdae61',\n",
    "    '#fee090',\n",
    "    '#e0f3f8',\n",
    "    '#abd9e9',\n",
    "    '#74add1',\n",
    "    '#4575b4'\n",
    "]\n",
    "\n",
    "color_labels = [colors[label % 7] for label in labels]\n",
    "#color_labels = 1;\n",
    "\n",
    "def make_circle(lat,lon,image_url,color_label): \n",
    "    map_osm.circle_marker(\n",
    "        location = [lat,lon],\n",
    "        radius=100,\n",
    "        line_color=color_label,\n",
    "        fill_color=color_label,\n",
    "        popup = '<img src={url} width=200 height=200><br>'.format(\n",
    "            url=image_url)\n",
    "    )\n",
    "    \n",
    "make_circle_vec = np.vectorize(make_circle)\n",
    "\n",
    "make_circle_vec(pics[:,0],pics[:,1],pics[:,2],color_labels)\n",
    "\n",
    "map_osm.create_map(path='osm.html')\n",
    "\n",
    "IFrame('osm.html', 700, 700)"
   ]
  },
  {
   "cell_type": "code",
   "execution_count": 223,
   "metadata": {
    "collapsed": false,
    "scrolled": true
   },
   "outputs": [
    {
     "name": "stderr",
     "output_type": "stream",
     "text": [
      "/home/mdnip/anaconda/lib/python2.7/site-packages/IPython/kernel/__main__.py:2: SettingWithCopyWarning: \n",
      "A value is trying to be set on a copy of a slice from a DataFrame.\n",
      "Try using .loc[row_indexer,col_indexer] = value instead\n",
      "\n",
      "See the the caveats in the documentation: http://pandas.pydata.org/pandas-docs/stable/indexing.html#indexing-view-versus-copy\n",
      "  from IPython.kernel.zmq import kernelapp as app\n",
      "/home/mdnip/anaconda/lib/python2.7/site-packages/IPython/kernel/__main__.py:3: SettingWithCopyWarning: \n",
      "A value is trying to be set on a copy of a slice from a DataFrame.\n",
      "Try using .loc[row_indexer,col_indexer] = value instead\n",
      "\n",
      "See the the caveats in the documentation: http://pandas.pydata.org/pandas-docs/stable/indexing.html#indexing-view-versus-copy\n",
      "  app.launch_new_instance()\n",
      "/home/mdnip/anaconda/lib/python2.7/site-packages/IPython/kernel/__main__.py:4: SettingWithCopyWarning: \n",
      "A value is trying to be set on a copy of a slice from a DataFrame.\n",
      "Try using .loc[row_indexer,col_indexer] = value instead\n",
      "\n",
      "See the the caveats in the documentation: http://pandas.pydata.org/pandas-docs/stable/indexing.html#indexing-view-versus-copy\n",
      "/home/mdnip/anaconda/lib/python2.7/site-packages/IPython/kernel/__main__.py:5: SettingWithCopyWarning: \n",
      "A value is trying to be set on a copy of a slice from a DataFrame.\n",
      "Try using .loc[row_indexer,col_indexer] = value instead\n",
      "\n",
      "See the the caveats in the documentation: http://pandas.pydata.org/pandas-docs/stable/indexing.html#indexing-view-versus-copy\n",
      "/home/mdnip/anaconda/lib/python2.7/site-packages/IPython/kernel/__main__.py:6: SettingWithCopyWarning: \n",
      "A value is trying to be set on a copy of a slice from a DataFrame.\n",
      "Try using .loc[row_indexer,col_indexer] = value instead\n",
      "\n",
      "See the the caveats in the documentation: http://pandas.pydata.org/pandas-docs/stable/indexing.html#indexing-view-versus-copy\n"
     ]
    }
   ],
   "source": [
    "df1 = sf_df[['created_time','cluster_label']]\n",
    "df1['day_of_week'] = sf_df['created_time'].apply(lambda x: int(datetime.datetime.fromtimestamp(x).weekday()))\n",
    "df1['day_of_month'] = sf_df['created_time'].apply(lambda x: datetime.datetime.fromtimestamp(x).day)\n",
    "df1['hour_of_day'] = sf_df['created_time'].apply(lambda x: datetime.datetime.fromtimestamp(x).hour)\n",
    "df1['month'] = sf_df['created_time'].apply(lambda x: datetime.datetime.fromtimestamp(x).month)\n",
    "df1['year'] = sf_df['created_time'].apply(lambda x: datetime.datetime.fromtimestamp(x).year)\n",
    "\n",
    "aaa = df1.groupby(['year','month','day_of_month','hour_of_day','day_of_week']).count()\n",
    "#(df1.groupby(['day_of_week','hour_of_day'])['created_time'].count()/249).plot()\n",
    "\n",
    "\n",
    "#aaa.groupby(['year']).count()"
   ]
  },
  {
   "cell_type": "code",
   "execution_count": 226,
   "metadata": {
    "collapsed": false
   },
   "outputs": [
    {
     "data": {
      "text/plain": [
       "[<matplotlib.lines.Line2D at 0x7fc5aa192a90>]"
      ]
     },
     "execution_count": 226,
     "metadata": {},
     "output_type": "execute_result"
    },
    {
     "data": {
      "image/png": "[encoded data removed]",
      "text/plain": [
       "<matplotlib.figure.Figure at 0x7fc59b72b210>"
      ]
     },
     "metadata": {},
     "output_type": "display_data"
    }
   ],
   "source": [
    "occupancy = (aaa.reset_index().groupby(['day_of_week','hour_of_day']).count()['year']/249).reset_index()\n",
    "\n",
    "day_bins = np.zeros([7,24])\n",
    "\n",
    "#for ii in xrange(0,7):\n",
    "#    day_bins[ii] = np.zeros(24)\n",
    "\n",
    "for ii in occupancy.index:\n",
    "     day_bins[int(occupancy.loc[ii]['day_of_week'])][int(occupancy.loc[ii]['hour_of_day'])] = occupancy.loc[ii]['year']\n",
    "\n",
    "plot(day_bins.reshape([7*24]))"
   ]
  },
  {
   "cell_type": "code",
   "execution_count": 93,
   "metadata": {
    "collapsed": false,
    "scrolled": false
   },
   "outputs": [
    {
     "name": "stderr",
     "output_type": "stream",
     "text": [
      "/home/mdnip/anaconda/lib/python2.7/site-packages/IPython/kernel/__main__.py:4: SettingWithCopyWarning: \n",
      "A value is trying to be set on a copy of a slice from a DataFrame.\n",
      "Try using .loc[row_indexer,col_indexer] = value instead\n",
      "\n",
      "See the the caveats in the documentation: http://pandas.pydata.org/pandas-docs/stable/indexing.html#indexing-view-versus-copy\n"
     ]
    },
    {
     "data": {
      "text/plain": [
       "<matplotlib.axes._subplots.AxesSubplot at 0x7fc599f936d0>"
      ]
     },
     "execution_count": 93,
     "metadata": {},
     "output_type": "execute_result"
    },
    {
     "data": {
      "image/png": "[encoded data removed]",
      "text/plain": [
       "<matplotlib.figure.Figure at 0x7fc5a9c11150>"
      ]
     },
     "metadata": {},
     "output_type": "display_data"
    }
   ],
   "source": [
    "# Pictures binned by day of the week\n",
    "\n",
    "df1 = sf_df[['created_time','cluster_label']]\n",
    "df1['created_time'] = sf_df['created_time'].apply(lambda x: int(datetime.datetime.fromtimestamp(x).weekday()))\n",
    "df1.groupby(['created_time']).count().plot(kind = 'bar')"
   ]
  },
  {
   "cell_type": "code",
   "execution_count": 84,
   "metadata": {
    "collapsed": false
   },
   "outputs": [
    {
     "name": "stderr",
     "output_type": "stream",
     "text": [
      "/home/mdnip/anaconda/lib/python2.7/site-packages/IPython/kernel/__main__.py:2: SettingWithCopyWarning: \n",
      "A value is trying to be set on a copy of a slice from a DataFrame.\n",
      "Try using .loc[row_indexer,col_indexer] = value instead\n",
      "\n",
      "See the the caveats in the documentation: http://pandas.pydata.org/pandas-docs/stable/indexing.html#indexing-view-versus-copy\n",
      "  from IPython.kernel.zmq import kernelapp as app\n"
     ]
    },
    {
     "data": {
      "text/plain": [
       "<matplotlib.axes._subplots.AxesSubplot at 0x7fc5a82e2410>"
      ]
     },
     "execution_count": 84,
     "metadata": {},
     "output_type": "execute_result"
    },
    {
     "data": {
      "image/png": "[encoded data removed]",
      "text/plain": [
       "<matplotlib.figure.Figure at 0x7fc5aa37d8d0>"
      ]
     },
     "metadata": {},
     "output_type": "display_data"
    }
   ],
   "source": [
    "# Pictures binned by day of month\n",
    "df1['created_time'] = sf_df['created_time'].apply(lambda x: datetime.datetime.fromtimestamp(x).day)\n",
    "df1.groupby(['created_time']).count().plot(kind = 'bar')"
   ]
  },
  {
   "cell_type": "code",
   "execution_count": 86,
   "metadata": {
    "collapsed": false
   },
   "outputs": [
    {
     "name": "stderr",
     "output_type": "stream",
     "text": [
      "/home/mdnip/anaconda/lib/python2.7/site-packages/IPython/kernel/__main__.py:2: SettingWithCopyWarning: \n",
      "A value is trying to be set on a copy of a slice from a DataFrame.\n",
      "Try using .loc[row_indexer,col_indexer] = value instead\n",
      "\n",
      "See the the caveats in the documentation: http://pandas.pydata.org/pandas-docs/stable/indexing.html#indexing-view-versus-copy\n",
      "  from IPython.kernel.zmq import kernelapp as app\n"
     ]
    },
    {
     "data": {
      "text/plain": [
       "<matplotlib.axes._subplots.AxesSubplot at 0x7fc5a9cf9110>"
      ]
     },
     "execution_count": 86,
     "metadata": {},
     "output_type": "execute_result"
    },
    {
     "data": {
      "image/png": "[encoded data removed]",
      "text/plain": [
       "<matplotlib.figure.Figure at 0x7fc5ec3b8090>"
      ]
     },
     "metadata": {},
     "output_type": "display_data"
    }
   ],
   "source": [
    "# Pictures binned by hour of day\n",
    "df1['created_time'] = sf_df['created_time'].apply(lambda x: datetime.datetime.fromtimestamp(x).hour)\n",
    "df1.groupby(['created_time']).count().plot(kind = 'bar')"
   ]
  },
  {
   "cell_type": "code",
   "execution_count": 90,
   "metadata": {
    "collapsed": false
   },
   "outputs": [
    {
     "data": {
      "image/png": "[encoded data removed]",
      "text/plain": [
       "<matplotlib.figure.Figure at 0x7fc59a5af610>"
      ]
     },
     "metadata": {},
     "output_type": "display_data"
    }
   ],
   "source": [
    "df1 = sf_df.groupby(['date_year','date_month','date_day']).count()['post_id'].plot()"
   ]
  },
  {
   "cell_type": "code",
   "execution_count": 94,
   "metadata": {
    "collapsed": false
   },
   "outputs": [
    {
     "name": "stderr",
     "output_type": "stream",
     "text": [
      "/home/mdnip/anaconda/lib/python2.7/site-packages/IPython/kernel/__main__.py:1: SettingWithCopyWarning: \n",
      "A value is trying to be set on a copy of a slice from a DataFrame.\n",
      "Try using .loc[row_indexer,col_indexer] = value instead\n",
      "\n",
      "See the the caveats in the documentation: http://pandas.pydata.org/pandas-docs/stable/indexing.html#indexing-view-versus-copy\n",
      "  if __name__ == '__main__':\n"
     ]
    }
   ],
   "source": []
  },
  {
   "cell_type": "code",
   "execution_count": 121,
   "metadata": {
    "collapsed": false
   },
   "outputs": [
    {
     "data": {
      "text/plain": [
       "249"
      ]
     },
     "execution_count": 121,
     "metadata": {},
     "output_type": "execute_result"
    }
   ],
   "source": [
    "dt = datetime.datetime.now() - datetime.datetime.fromtimestamp(1291952805)\n",
    "\n",
    "dt.days / 7"
   ]
  },
  {
   "cell_type": "code",
   "execution_count": null,
   "metadata": {
    "collapsed": true
   },
   "outputs": [],
   "source": []
  }
 ],
 "metadata": {
  "kernelspec": {
   "display_name": "Python 2",
   "language": "python",
   "name": "python2"
  },
  "language_info": {
   "codemirror_mode": {
    "name": "ipython",
    "version": 2
   },
   "file_extension": ".py",
   "mimetype": "text/x-python",
   "name": "python",
   "nbconvert_exporter": "python",
   "pygments_lexer": "ipython2",
   "version": "2.7.10"
  }
 },
 "nbformat": 4,
 "nbformat_minor": 0
}
